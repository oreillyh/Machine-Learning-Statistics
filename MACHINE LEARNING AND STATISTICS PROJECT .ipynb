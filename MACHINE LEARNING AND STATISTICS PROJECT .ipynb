{
 "cells": [
  {
   "cell_type": "markdown",
   "metadata": {},
   "source": [
    "# MACHINE LEARNING AND STATISTICS PROJECT\n",
    "\n",
    "## THE BOSTON HOUSE PRICES DATASET\n",
    "\n",
    "## HUGH O'REILLY\n",
    "\n",
    "## H.DIP Data Analytics GMIT\n"
   ]
  },
  {
   "cell_type": "markdown",
   "metadata": {},
   "source": [
    "## INTRODUCTION\n",
    " ___\n",
    "\n",
    "The Boston Housing Dataset consists of information derived from US census data of housing in the Boston Mass. area of the US. The publication originally discussed the problems associated with the use of housing market data to measure the willingness to pay for clean air.\n",
    "\n",
    "The dataset is taken from census tracts in the Boston Standard Metropolitan Statistical Area in 1970.\n",
    "\n",
    "*The data was originally published by Harrison, D. and Rubinfeld, D.L. 'Hedonic prices and the demand for clean air', J. Environ. Economics & Management, vol.5, 81-102, 1978.*\n",
    "\n",
    "Ref [https://www.sciencedirect.com/science/article/abs/pii/0095069678900062%5D]"
   ]
  },
  {
   "cell_type": "markdown",
   "metadata": {},
   "source": [
    "## OBJECTIVE\n",
    "___"
   ]
  },
  {
   "cell_type": "markdown",
   "metadata": {},
   "source": [
    "* To investigate if there is a significant difference in the median house prices between houses that are along the Charles River and those which aren't\n",
    "\n",
    "* To attempt to predict the median house price based on other variables in the dataset\n",
    "\n",
    "Understanding if there is a difference between the houses along the Charles River will help determine the investment value of properties in the area\n",
    "\n",
    "Similarly the ability to predict median house prices for a particular zone in Boston, based on the other variables associated with the property will enable us to determine the value of a property in a particular area and whether it may be worth investing in the area"
   ]
  },
  {
   "cell_type": "markdown",
   "metadata": {},
   "source": [
    "#TODO Insert image of boston"
   ]
  },
  {
   "cell_type": "markdown",
   "metadata": {},
   "source": [
    "## IMPORT AND SORT THE DATASET\n",
    "\n",
    "___\n"
   ]
  },
  {
   "cell_type": "code",
   "execution_count": 1,
   "metadata": {},
   "outputs": [
    {
     "name": "stderr",
     "output_type": "stream",
     "text": [
      "Using TensorFlow backend.\n"
     ]
    },
    {
     "name": "stdout",
     "output_type": "stream",
     "text": [
      "(506, 13)\n"
     ]
    }
   ],
   "source": [
    "#IMPORT LIBRARIES\n",
    "\n",
    "#Scipy Libraries\n",
    "import numpy as np\n",
    "import pandas as pd\n",
    "import scipy.stats as stats\n",
    "import statsmodels.api as sm\n",
    "import matplotlib.pyplot as plt\n",
    "import sklearn\n",
    "#Seaborn library\n",
    "import seaborn as sns\n",
    "#Keras libraries\n",
    "import keras as kr\n",
    "from keras import losses\n",
    "from keras import regularizers\n",
    "%matplotlib inline\n",
    "\n",
    "#IMPORT THE BOSTON HOUSE PRICES DATASET from sklearn\n",
    "   \n",
    "from sklearn.datasets import load_boston\n",
    "boston = load_boston()\n",
    "\n",
    "# Display the shape of the dataset\n",
    "print(boston.data.shape)\n",
    "\n",
    "# Ref [2]\n"
   ]
  },
  {
   "cell_type": "markdown",
   "metadata": {},
   "source": [
    "### INVESTIGATE AND SORT THE DATASET\n",
    "___"
   ]
  },
  {
   "cell_type": "code",
   "execution_count": 2,
   "metadata": {},
   "outputs": [
    {
     "data": {
      "text/plain": [
       "sklearn.utils.Bunch"
      ]
     },
     "execution_count": 2,
     "metadata": {},
     "output_type": "execute_result"
    }
   ],
   "source": [
    "#Determine the dataset type\n",
    "\n",
    "type(boston)"
   ]
  },
  {
   "cell_type": "markdown",
   "metadata": {},
   "source": [
    "The `type(boston)` command tells us that the dataset is a `sk.utils.Bunch` dataset type\n",
    "\n",
    "A 'bunch' dataset type:  Dictionary-like object, the interesting attributes are: ‘data’, the data to learn, ‘target’, the classification labels, ‘target_names’, the meaning of the labels, ‘feature_names’, the meaning of the features, ‘DESCR’, the full description of the dataset, ‘filename’. \n",
    "\n",
    "Ref [https://scikit-learn.org/stable/modules/generated/sklearn.datasets.load_iris.html]"
   ]
  },
  {
   "cell_type": "code",
   "execution_count": 3,
   "metadata": {},
   "outputs": [
    {
     "name": "stdout",
     "output_type": "stream",
     "text": [
      ".. _boston_dataset:\n",
      "\n",
      "Boston house prices dataset\n",
      "---------------------------\n",
      "\n",
      "**Data Set Characteristics:**  \n",
      "\n",
      "    :Number of Instances: 506 \n",
      "\n",
      "    :Number of Attributes: 13 numeric/categorical predictive. Median Value (attribute 14) is usually the target.\n",
      "\n",
      "    :Attribute Information (in order):\n",
      "        - CRIM     per capita crime rate by town\n",
      "        - ZN       proportion of residential land zoned for lots over 25,000 sq.ft.\n",
      "        - INDUS    proportion of non-retail business acres per town\n",
      "        - CHAS     Charles River dummy variable (= 1 if tract bounds river; 0 otherwise)\n",
      "        - NOX      nitric oxides concentration (parts per 10 million)\n",
      "        - RM       average number of rooms per dwelling\n",
      "        - AGE      proportion of owner-occupied units built prior to 1940\n",
      "        - DIS      weighted distances to five Boston employment centres\n",
      "        - RAD      index of accessibility to radial highways\n",
      "        - TAX      full-value property-tax rate per $10,000\n",
      "        - PTRATIO  pupil-teacher ratio by town\n",
      "        - B        1000(Bk - 0.63)^2 where Bk is the proportion of blacks by town\n",
      "        - LSTAT    % lower status of the population\n",
      "        - MEDV     Median value of owner-occupied homes in $1000's\n",
      "\n",
      "    :Missing Attribute Values: None\n",
      "\n",
      "    :Creator: Harrison, D. and Rubinfeld, D.L.\n",
      "\n",
      "This is a copy of UCI ML housing dataset.\n",
      "https://archive.ics.uci.edu/ml/machine-learning-databases/housing/\n",
      "\n",
      "\n",
      "This dataset was taken from the StatLib library which is maintained at Carnegie Mellon University.\n",
      "\n",
      "The Boston house-price data of Harrison, D. and Rubinfeld, D.L. 'Hedonic\n",
      "prices and the demand for clean air', J. Environ. Economics & Management,\n",
      "vol.5, 81-102, 1978.   Used in Belsley, Kuh & Welsch, 'Regression diagnostics\n",
      "...', Wiley, 1980.   N.B. Various transformations are used in the table on\n",
      "pages 244-261 of the latter.\n",
      "\n",
      "The Boston house-price data has been used in many machine learning papers that address regression\n",
      "problems.   \n",
      "     \n",
      ".. topic:: References\n",
      "\n",
      "   - Belsley, Kuh & Welsch, 'Regression diagnostics: Identifying Influential Data and Sources of Collinearity', Wiley, 1980. 244-261.\n",
      "   - Quinlan,R. (1993). Combining Instance-Based and Model-Based Learning. In Proceedings on the Tenth International Conference of Machine Learning, 236-243, University of Massachusetts, Amherst. Morgan Kaufmann.\n",
      "\n"
     ]
    }
   ],
   "source": [
    "#Display a desciption of the dataset\n",
    "\n",
    "print(boston.DESCR)"
   ]
  },
  {
   "cell_type": "markdown",
   "metadata": {},
   "source": [
    "The Data consists of 506 rows and 13 columns i.e. 506 instances containing 13 numeric/categorical variables as described above. \n",
    "\n",
    "There are 13 attribute variables an 1 target variable 'MEDV': which represents the median value for houses in each area i.e. 506 areas of Boston"
   ]
  },
  {
   "cell_type": "code",
   "execution_count": 4,
   "metadata": {
    "scrolled": true
   },
   "outputs": [
    {
     "data": {
      "text/html": [
       "<div>\n",
       "<style scoped>\n",
       "    .dataframe tbody tr th:only-of-type {\n",
       "        vertical-align: middle;\n",
       "    }\n",
       "\n",
       "    .dataframe tbody tr th {\n",
       "        vertical-align: top;\n",
       "    }\n",
       "\n",
       "    .dataframe thead th {\n",
       "        text-align: right;\n",
       "    }\n",
       "</style>\n",
       "<table border=\"1\" class=\"dataframe\">\n",
       "  <thead>\n",
       "    <tr style=\"text-align: right;\">\n",
       "      <th></th>\n",
       "      <th>0</th>\n",
       "      <th>1</th>\n",
       "      <th>2</th>\n",
       "      <th>3</th>\n",
       "      <th>4</th>\n",
       "      <th>5</th>\n",
       "      <th>6</th>\n",
       "      <th>7</th>\n",
       "      <th>8</th>\n",
       "      <th>9</th>\n",
       "      <th>10</th>\n",
       "      <th>11</th>\n",
       "      <th>12</th>\n",
       "    </tr>\n",
       "  </thead>\n",
       "  <tbody>\n",
       "    <tr>\n",
       "      <th>0</th>\n",
       "      <td>0.00632</td>\n",
       "      <td>18.0</td>\n",
       "      <td>2.31</td>\n",
       "      <td>0.0</td>\n",
       "      <td>0.538</td>\n",
       "      <td>6.575</td>\n",
       "      <td>65.2</td>\n",
       "      <td>4.0900</td>\n",
       "      <td>1.0</td>\n",
       "      <td>296.0</td>\n",
       "      <td>15.3</td>\n",
       "      <td>396.90</td>\n",
       "      <td>4.98</td>\n",
       "    </tr>\n",
       "    <tr>\n",
       "      <th>1</th>\n",
       "      <td>0.02731</td>\n",
       "      <td>0.0</td>\n",
       "      <td>7.07</td>\n",
       "      <td>0.0</td>\n",
       "      <td>0.469</td>\n",
       "      <td>6.421</td>\n",
       "      <td>78.9</td>\n",
       "      <td>4.9671</td>\n",
       "      <td>2.0</td>\n",
       "      <td>242.0</td>\n",
       "      <td>17.8</td>\n",
       "      <td>396.90</td>\n",
       "      <td>9.14</td>\n",
       "    </tr>\n",
       "    <tr>\n",
       "      <th>2</th>\n",
       "      <td>0.02729</td>\n",
       "      <td>0.0</td>\n",
       "      <td>7.07</td>\n",
       "      <td>0.0</td>\n",
       "      <td>0.469</td>\n",
       "      <td>7.185</td>\n",
       "      <td>61.1</td>\n",
       "      <td>4.9671</td>\n",
       "      <td>2.0</td>\n",
       "      <td>242.0</td>\n",
       "      <td>17.8</td>\n",
       "      <td>392.83</td>\n",
       "      <td>4.03</td>\n",
       "    </tr>\n",
       "    <tr>\n",
       "      <th>3</th>\n",
       "      <td>0.03237</td>\n",
       "      <td>0.0</td>\n",
       "      <td>2.18</td>\n",
       "      <td>0.0</td>\n",
       "      <td>0.458</td>\n",
       "      <td>6.998</td>\n",
       "      <td>45.8</td>\n",
       "      <td>6.0622</td>\n",
       "      <td>3.0</td>\n",
       "      <td>222.0</td>\n",
       "      <td>18.7</td>\n",
       "      <td>394.63</td>\n",
       "      <td>2.94</td>\n",
       "    </tr>\n",
       "    <tr>\n",
       "      <th>4</th>\n",
       "      <td>0.06905</td>\n",
       "      <td>0.0</td>\n",
       "      <td>2.18</td>\n",
       "      <td>0.0</td>\n",
       "      <td>0.458</td>\n",
       "      <td>7.147</td>\n",
       "      <td>54.2</td>\n",
       "      <td>6.0622</td>\n",
       "      <td>3.0</td>\n",
       "      <td>222.0</td>\n",
       "      <td>18.7</td>\n",
       "      <td>396.90</td>\n",
       "      <td>5.33</td>\n",
       "    </tr>\n",
       "    <tr>\n",
       "      <th>5</th>\n",
       "      <td>0.02985</td>\n",
       "      <td>0.0</td>\n",
       "      <td>2.18</td>\n",
       "      <td>0.0</td>\n",
       "      <td>0.458</td>\n",
       "      <td>6.430</td>\n",
       "      <td>58.7</td>\n",
       "      <td>6.0622</td>\n",
       "      <td>3.0</td>\n",
       "      <td>222.0</td>\n",
       "      <td>18.7</td>\n",
       "      <td>394.12</td>\n",
       "      <td>5.21</td>\n",
       "    </tr>\n",
       "    <tr>\n",
       "      <th>6</th>\n",
       "      <td>0.08829</td>\n",
       "      <td>12.5</td>\n",
       "      <td>7.87</td>\n",
       "      <td>0.0</td>\n",
       "      <td>0.524</td>\n",
       "      <td>6.012</td>\n",
       "      <td>66.6</td>\n",
       "      <td>5.5605</td>\n",
       "      <td>5.0</td>\n",
       "      <td>311.0</td>\n",
       "      <td>15.2</td>\n",
       "      <td>395.60</td>\n",
       "      <td>12.43</td>\n",
       "    </tr>\n",
       "    <tr>\n",
       "      <th>7</th>\n",
       "      <td>0.14455</td>\n",
       "      <td>12.5</td>\n",
       "      <td>7.87</td>\n",
       "      <td>0.0</td>\n",
       "      <td>0.524</td>\n",
       "      <td>6.172</td>\n",
       "      <td>96.1</td>\n",
       "      <td>5.9505</td>\n",
       "      <td>5.0</td>\n",
       "      <td>311.0</td>\n",
       "      <td>15.2</td>\n",
       "      <td>396.90</td>\n",
       "      <td>19.15</td>\n",
       "    </tr>\n",
       "    <tr>\n",
       "      <th>8</th>\n",
       "      <td>0.21124</td>\n",
       "      <td>12.5</td>\n",
       "      <td>7.87</td>\n",
       "      <td>0.0</td>\n",
       "      <td>0.524</td>\n",
       "      <td>5.631</td>\n",
       "      <td>100.0</td>\n",
       "      <td>6.0821</td>\n",
       "      <td>5.0</td>\n",
       "      <td>311.0</td>\n",
       "      <td>15.2</td>\n",
       "      <td>386.63</td>\n",
       "      <td>29.93</td>\n",
       "    </tr>\n",
       "    <tr>\n",
       "      <th>9</th>\n",
       "      <td>0.17004</td>\n",
       "      <td>12.5</td>\n",
       "      <td>7.87</td>\n",
       "      <td>0.0</td>\n",
       "      <td>0.524</td>\n",
       "      <td>6.004</td>\n",
       "      <td>85.9</td>\n",
       "      <td>6.5921</td>\n",
       "      <td>5.0</td>\n",
       "      <td>311.0</td>\n",
       "      <td>15.2</td>\n",
       "      <td>386.71</td>\n",
       "      <td>17.10</td>\n",
       "    </tr>\n",
       "  </tbody>\n",
       "</table>\n",
       "</div>"
      ],
      "text/plain": [
       "        0     1     2    3      4      5      6       7    8      9     10  \\\n",
       "0  0.00632  18.0  2.31  0.0  0.538  6.575   65.2  4.0900  1.0  296.0  15.3   \n",
       "1  0.02731   0.0  7.07  0.0  0.469  6.421   78.9  4.9671  2.0  242.0  17.8   \n",
       "2  0.02729   0.0  7.07  0.0  0.469  7.185   61.1  4.9671  2.0  242.0  17.8   \n",
       "3  0.03237   0.0  2.18  0.0  0.458  6.998   45.8  6.0622  3.0  222.0  18.7   \n",
       "4  0.06905   0.0  2.18  0.0  0.458  7.147   54.2  6.0622  3.0  222.0  18.7   \n",
       "5  0.02985   0.0  2.18  0.0  0.458  6.430   58.7  6.0622  3.0  222.0  18.7   \n",
       "6  0.08829  12.5  7.87  0.0  0.524  6.012   66.6  5.5605  5.0  311.0  15.2   \n",
       "7  0.14455  12.5  7.87  0.0  0.524  6.172   96.1  5.9505  5.0  311.0  15.2   \n",
       "8  0.21124  12.5  7.87  0.0  0.524  5.631  100.0  6.0821  5.0  311.0  15.2   \n",
       "9  0.17004  12.5  7.87  0.0  0.524  6.004   85.9  6.5921  5.0  311.0  15.2   \n",
       "\n",
       "       11     12  \n",
       "0  396.90   4.98  \n",
       "1  396.90   9.14  \n",
       "2  392.83   4.03  \n",
       "3  394.63   2.94  \n",
       "4  396.90   5.33  \n",
       "5  394.12   5.21  \n",
       "6  395.60  12.43  \n",
       "7  396.90  19.15  \n",
       "8  386.63  29.93  \n",
       "9  386.71  17.10  "
      ]
     },
     "execution_count": 4,
     "metadata": {},
     "output_type": "execute_result"
    }
   ],
   "source": [
    "# Show the first 10 rows of the Dataset\n",
    "bos = pd.DataFrame(boston.data)\n",
    "bos.head(10)"
   ]
  },
  {
   "cell_type": "markdown",
   "metadata": {},
   "source": [
    "It can be seen above that the dataset has no feature labels which will need to be added (although they are imported in the 'dataset characteristics'). In order to do so we need to use the `pandas.dataframe.keys()` command to access the keys and then assign them to the attribute columns.\n",
    "\n",
    "Ref [https://pandas.pydata.org/pandas-docs/stable/reference/api/pandas.DataFrame.keys.html]"
   ]
  },
  {
   "cell_type": "code",
   "execution_count": 5,
   "metadata": {},
   "outputs": [
    {
     "data": {
      "text/plain": [
       "RangeIndex(start=0, stop=13, step=1)"
      ]
     },
     "execution_count": 5,
     "metadata": {},
     "output_type": "execute_result"
    }
   ],
   "source": [
    "# Identify the indices in the dataset\n",
    "\n",
    "bos.keys()"
   ]
  },
  {
   "cell_type": "code",
   "execution_count": 6,
   "metadata": {},
   "outputs": [
    {
     "data": {
      "text/html": [
       "<div>\n",
       "<style scoped>\n",
       "    .dataframe tbody tr th:only-of-type {\n",
       "        vertical-align: middle;\n",
       "    }\n",
       "\n",
       "    .dataframe tbody tr th {\n",
       "        vertical-align: top;\n",
       "    }\n",
       "\n",
       "    .dataframe thead th {\n",
       "        text-align: right;\n",
       "    }\n",
       "</style>\n",
       "<table border=\"1\" class=\"dataframe\">\n",
       "  <thead>\n",
       "    <tr style=\"text-align: right;\">\n",
       "      <th></th>\n",
       "      <th>CRIM</th>\n",
       "      <th>ZN</th>\n",
       "      <th>INDUS</th>\n",
       "      <th>CHAS</th>\n",
       "      <th>NOX</th>\n",
       "      <th>RM</th>\n",
       "      <th>AGE</th>\n",
       "      <th>DIS</th>\n",
       "      <th>RAD</th>\n",
       "      <th>TAX</th>\n",
       "      <th>PTRATIO</th>\n",
       "      <th>B</th>\n",
       "      <th>LSTAT</th>\n",
       "    </tr>\n",
       "  </thead>\n",
       "  <tbody>\n",
       "    <tr>\n",
       "      <th>0</th>\n",
       "      <td>0.00632</td>\n",
       "      <td>18.0</td>\n",
       "      <td>2.31</td>\n",
       "      <td>0.0</td>\n",
       "      <td>0.538</td>\n",
       "      <td>6.575</td>\n",
       "      <td>65.2</td>\n",
       "      <td>4.0900</td>\n",
       "      <td>1.0</td>\n",
       "      <td>296.0</td>\n",
       "      <td>15.3</td>\n",
       "      <td>396.90</td>\n",
       "      <td>4.98</td>\n",
       "    </tr>\n",
       "    <tr>\n",
       "      <th>1</th>\n",
       "      <td>0.02731</td>\n",
       "      <td>0.0</td>\n",
       "      <td>7.07</td>\n",
       "      <td>0.0</td>\n",
       "      <td>0.469</td>\n",
       "      <td>6.421</td>\n",
       "      <td>78.9</td>\n",
       "      <td>4.9671</td>\n",
       "      <td>2.0</td>\n",
       "      <td>242.0</td>\n",
       "      <td>17.8</td>\n",
       "      <td>396.90</td>\n",
       "      <td>9.14</td>\n",
       "    </tr>\n",
       "    <tr>\n",
       "      <th>2</th>\n",
       "      <td>0.02729</td>\n",
       "      <td>0.0</td>\n",
       "      <td>7.07</td>\n",
       "      <td>0.0</td>\n",
       "      <td>0.469</td>\n",
       "      <td>7.185</td>\n",
       "      <td>61.1</td>\n",
       "      <td>4.9671</td>\n",
       "      <td>2.0</td>\n",
       "      <td>242.0</td>\n",
       "      <td>17.8</td>\n",
       "      <td>392.83</td>\n",
       "      <td>4.03</td>\n",
       "    </tr>\n",
       "    <tr>\n",
       "      <th>3</th>\n",
       "      <td>0.03237</td>\n",
       "      <td>0.0</td>\n",
       "      <td>2.18</td>\n",
       "      <td>0.0</td>\n",
       "      <td>0.458</td>\n",
       "      <td>6.998</td>\n",
       "      <td>45.8</td>\n",
       "      <td>6.0622</td>\n",
       "      <td>3.0</td>\n",
       "      <td>222.0</td>\n",
       "      <td>18.7</td>\n",
       "      <td>394.63</td>\n",
       "      <td>2.94</td>\n",
       "    </tr>\n",
       "    <tr>\n",
       "      <th>4</th>\n",
       "      <td>0.06905</td>\n",
       "      <td>0.0</td>\n",
       "      <td>2.18</td>\n",
       "      <td>0.0</td>\n",
       "      <td>0.458</td>\n",
       "      <td>7.147</td>\n",
       "      <td>54.2</td>\n",
       "      <td>6.0622</td>\n",
       "      <td>3.0</td>\n",
       "      <td>222.0</td>\n",
       "      <td>18.7</td>\n",
       "      <td>396.90</td>\n",
       "      <td>5.33</td>\n",
       "    </tr>\n",
       "  </tbody>\n",
       "</table>\n",
       "</div>"
      ],
      "text/plain": [
       "      CRIM    ZN  INDUS  CHAS    NOX     RM   AGE     DIS  RAD    TAX  \\\n",
       "0  0.00632  18.0   2.31   0.0  0.538  6.575  65.2  4.0900  1.0  296.0   \n",
       "1  0.02731   0.0   7.07   0.0  0.469  6.421  78.9  4.9671  2.0  242.0   \n",
       "2  0.02729   0.0   7.07   0.0  0.469  7.185  61.1  4.9671  2.0  242.0   \n",
       "3  0.03237   0.0   2.18   0.0  0.458  6.998  45.8  6.0622  3.0  222.0   \n",
       "4  0.06905   0.0   2.18   0.0  0.458  7.147  54.2  6.0622  3.0  222.0   \n",
       "\n",
       "   PTRATIO       B  LSTAT  \n",
       "0     15.3  396.90   4.98  \n",
       "1     17.8  396.90   9.14  \n",
       "2     17.8  392.83   4.03  \n",
       "3     18.7  394.63   2.94  \n",
       "4     18.7  396.90   5.33  "
      ]
     },
     "execution_count": 6,
     "metadata": {},
     "output_type": "execute_result"
    }
   ],
   "source": [
    "#Passing the `feature_names` parameter to the dataset now assigns the attributes with their labels\n",
    "\n",
    "bos.columns = boston.feature_names\n",
    "bos.head()"
   ]
  },
  {
   "cell_type": "markdown",
   "metadata": {},
   "source": [
    "Only 13 attributes are shown, although 14 attributes are associated with the dataset. The 14th attribute, or target variable - MEDV     Median value of owner-occupied homes in $1000's must be added to the `bos` pandas array"
   ]
  },
  {
   "cell_type": "code",
   "execution_count": 7,
   "metadata": {},
   "outputs": [
    {
     "data": {
      "text/plain": [
       "array([24. , 21.6, 34.7, 33.4, 36.2, 28.7, 22.9, 27.1, 16.5, 18.9, 15. ,\n",
       "       18.9, 21.7, 20.4, 18.2, 19.9, 23.1, 17.5, 20.2, 18.2, 13.6, 19.6,\n",
       "       15.2, 14.5, 15.6, 13.9, 16.6, 14.8, 18.4, 21. , 12.7, 14.5, 13.2,\n",
       "       13.1, 13.5, 18.9, 20. , 21. , 24.7, 30.8, 34.9, 26.6, 25.3, 24.7,\n",
       "       21.2, 19.3, 20. , 16.6, 14.4, 19.4, 19.7, 20.5, 25. , 23.4, 18.9,\n",
       "       35.4, 24.7, 31.6, 23.3, 19.6, 18.7, 16. , 22.2, 25. , 33. , 23.5,\n",
       "       19.4, 22. , 17.4, 20.9, 24.2, 21.7, 22.8, 23.4, 24.1, 21.4, 20. ,\n",
       "       20.8, 21.2, 20.3, 28. , 23.9, 24.8, 22.9, 23.9, 26.6, 22.5, 22.2,\n",
       "       23.6, 28.7, 22.6, 22. , 22.9, 25. , 20.6, 28.4, 21.4, 38.7, 43.8,\n",
       "       33.2, 27.5, 26.5, 18.6, 19.3, 20.1, 19.5, 19.5, 20.4, 19.8, 19.4,\n",
       "       21.7, 22.8, 18.8, 18.7, 18.5, 18.3, 21.2, 19.2, 20.4, 19.3, 22. ,\n",
       "       20.3, 20.5, 17.3, 18.8, 21.4, 15.7, 16.2, 18. , 14.3, 19.2, 19.6,\n",
       "       23. , 18.4, 15.6, 18.1, 17.4, 17.1, 13.3, 17.8, 14. , 14.4, 13.4,\n",
       "       15.6, 11.8, 13.8, 15.6, 14.6, 17.8, 15.4, 21.5, 19.6, 15.3, 19.4,\n",
       "       17. , 15.6, 13.1, 41.3, 24.3, 23.3, 27. , 50. , 50. , 50. , 22.7,\n",
       "       25. , 50. , 23.8, 23.8, 22.3, 17.4, 19.1, 23.1, 23.6, 22.6, 29.4,\n",
       "       23.2, 24.6, 29.9, 37.2, 39.8, 36.2, 37.9, 32.5, 26.4, 29.6, 50. ,\n",
       "       32. , 29.8, 34.9, 37. , 30.5, 36.4, 31.1, 29.1, 50. , 33.3, 30.3,\n",
       "       34.6, 34.9, 32.9, 24.1, 42.3, 48.5, 50. , 22.6, 24.4, 22.5, 24.4,\n",
       "       20. , 21.7, 19.3, 22.4, 28.1, 23.7, 25. , 23.3, 28.7, 21.5, 23. ,\n",
       "       26.7, 21.7, 27.5, 30.1, 44.8, 50. , 37.6, 31.6, 46.7, 31.5, 24.3,\n",
       "       31.7, 41.7, 48.3, 29. , 24. , 25.1, 31.5, 23.7, 23.3, 22. , 20.1,\n",
       "       22.2, 23.7, 17.6, 18.5, 24.3, 20.5, 24.5, 26.2, 24.4, 24.8, 29.6,\n",
       "       42.8, 21.9, 20.9, 44. , 50. , 36. , 30.1, 33.8, 43.1, 48.8, 31. ,\n",
       "       36.5, 22.8, 30.7, 50. , 43.5, 20.7, 21.1, 25.2, 24.4, 35.2, 32.4,\n",
       "       32. , 33.2, 33.1, 29.1, 35.1, 45.4, 35.4, 46. , 50. , 32.2, 22. ,\n",
       "       20.1, 23.2, 22.3, 24.8, 28.5, 37.3, 27.9, 23.9, 21.7, 28.6, 27.1,\n",
       "       20.3, 22.5, 29. , 24.8, 22. , 26.4, 33.1, 36.1, 28.4, 33.4, 28.2,\n",
       "       22.8, 20.3, 16.1, 22.1, 19.4, 21.6, 23.8, 16.2, 17.8, 19.8, 23.1,\n",
       "       21. , 23.8, 23.1, 20.4, 18.5, 25. , 24.6, 23. , 22.2, 19.3, 22.6,\n",
       "       19.8, 17.1, 19.4, 22.2, 20.7, 21.1, 19.5, 18.5, 20.6, 19. , 18.7,\n",
       "       32.7, 16.5, 23.9, 31.2, 17.5, 17.2, 23.1, 24.5, 26.6, 22.9, 24.1,\n",
       "       18.6, 30.1, 18.2, 20.6, 17.8, 21.7, 22.7, 22.6, 25. , 19.9, 20.8,\n",
       "       16.8, 21.9, 27.5, 21.9, 23.1, 50. , 50. , 50. , 50. , 50. , 13.8,\n",
       "       13.8, 15. , 13.9, 13.3, 13.1, 10.2, 10.4, 10.9, 11.3, 12.3,  8.8,\n",
       "        7.2, 10.5,  7.4, 10.2, 11.5, 15.1, 23.2,  9.7, 13.8, 12.7, 13.1,\n",
       "       12.5,  8.5,  5. ,  6.3,  5.6,  7.2, 12.1,  8.3,  8.5,  5. , 11.9,\n",
       "       27.9, 17.2, 27.5, 15. , 17.2, 17.9, 16.3,  7. ,  7.2,  7.5, 10.4,\n",
       "        8.8,  8.4, 16.7, 14.2, 20.8, 13.4, 11.7,  8.3, 10.2, 10.9, 11. ,\n",
       "        9.5, 14.5, 14.1, 16.1, 14.3, 11.7, 13.4,  9.6,  8.7,  8.4, 12.8,\n",
       "       10.5, 17.1, 18.4, 15.4, 10.8, 11.8, 14.9, 12.6, 14.1, 13. , 13.4,\n",
       "       15.2, 16.1, 17.8, 14.9, 14.1, 12.7, 13.5, 14.9, 20. , 16.4, 17.7,\n",
       "       19.5, 20.2, 21.4, 19.9, 19. , 19.1, 19.1, 20.1, 19.9, 19.6, 23.2,\n",
       "       29.8, 13.8, 13.3, 16.7, 12. , 14.6, 21.4, 23. , 23.7, 25. , 21.8,\n",
       "       20.6, 21.2, 19.1, 20.6, 15.2,  7. ,  8.1, 13.6, 20.1, 21.8, 24.5,\n",
       "       23.1, 19.7, 18.3, 21.2, 17.5, 16.8, 22.4, 20.6, 23.9, 22. , 11.9])"
      ]
     },
     "execution_count": 7,
     "metadata": {},
     "output_type": "execute_result"
    }
   ],
   "source": [
    "#The price is identified as the target variable above so we will see if is there\n",
    "\n",
    "boston.target #This prints the array of target variables (MEDV)"
   ]
  },
  {
   "cell_type": "code",
   "execution_count": 8,
   "metadata": {},
   "outputs": [
    {
     "name": "stdout",
     "output_type": "stream",
     "text": [
      "      CRIM    ZN  INDUS  CHAS    NOX     RM   AGE     DIS  RAD    TAX  \\\n",
      "0  0.00632  18.0   2.31   0.0  0.538  6.575  65.2  4.0900  1.0  296.0   \n",
      "1  0.02731   0.0   7.07   0.0  0.469  6.421  78.9  4.9671  2.0  242.0   \n",
      "2  0.02729   0.0   7.07   0.0  0.469  7.185  61.1  4.9671  2.0  242.0   \n",
      "3  0.03237   0.0   2.18   0.0  0.458  6.998  45.8  6.0622  3.0  222.0   \n",
      "4  0.06905   0.0   2.18   0.0  0.458  7.147  54.2  6.0622  3.0  222.0   \n",
      "\n",
      "   PTRATIO       B  LSTAT  PRICE  \n",
      "0     15.3  396.90   4.98   24.0  \n",
      "1     17.8  396.90   9.14   21.6  \n",
      "2     17.8  392.83   4.03   34.7  \n",
      "3     18.7  394.63   2.94   33.4  \n",
      "4     18.7  396.90   5.33   36.2  \n"
     ]
    }
   ],
   "source": [
    "#We now add the target variable (MEDV) to the array as 'price'\n",
    "\n",
    "bos['PRICE'] = boston.target\n",
    "print(bos.head())\n",
    "\n",
    "#ref [https://medium.com/@haydar_ai/learning-data-science-day-9-linear-regression-on-boston-housing-dataset-cd62a80775ef]"
   ]
  },
  {
   "cell_type": "markdown",
   "metadata": {},
   "source": [
    "## DESCRIPTIVE STATISTICS\n",
    "___"
   ]
  },
  {
   "cell_type": "code",
   "execution_count": 9,
   "metadata": {
    "scrolled": false
   },
   "outputs": [
    {
     "data": {
      "text/html": [
       "<div>\n",
       "<style scoped>\n",
       "    .dataframe tbody tr th:only-of-type {\n",
       "        vertical-align: middle;\n",
       "    }\n",
       "\n",
       "    .dataframe tbody tr th {\n",
       "        vertical-align: top;\n",
       "    }\n",
       "\n",
       "    .dataframe thead th {\n",
       "        text-align: right;\n",
       "    }\n",
       "</style>\n",
       "<table border=\"1\" class=\"dataframe\">\n",
       "  <thead>\n",
       "    <tr style=\"text-align: right;\">\n",
       "      <th></th>\n",
       "      <th>count</th>\n",
       "      <th>mean</th>\n",
       "      <th>std</th>\n",
       "      <th>min</th>\n",
       "      <th>25%</th>\n",
       "      <th>50%</th>\n",
       "      <th>75%</th>\n",
       "      <th>max</th>\n",
       "    </tr>\n",
       "  </thead>\n",
       "  <tbody>\n",
       "    <tr>\n",
       "      <th>CRIM</th>\n",
       "      <td>506.0</td>\n",
       "      <td>3.613524</td>\n",
       "      <td>8.601545</td>\n",
       "      <td>0.00632</td>\n",
       "      <td>0.082045</td>\n",
       "      <td>0.25651</td>\n",
       "      <td>3.677083</td>\n",
       "      <td>88.9762</td>\n",
       "    </tr>\n",
       "    <tr>\n",
       "      <th>ZN</th>\n",
       "      <td>506.0</td>\n",
       "      <td>11.363636</td>\n",
       "      <td>23.322453</td>\n",
       "      <td>0.00000</td>\n",
       "      <td>0.000000</td>\n",
       "      <td>0.00000</td>\n",
       "      <td>12.500000</td>\n",
       "      <td>100.0000</td>\n",
       "    </tr>\n",
       "    <tr>\n",
       "      <th>INDUS</th>\n",
       "      <td>506.0</td>\n",
       "      <td>11.136779</td>\n",
       "      <td>6.860353</td>\n",
       "      <td>0.46000</td>\n",
       "      <td>5.190000</td>\n",
       "      <td>9.69000</td>\n",
       "      <td>18.100000</td>\n",
       "      <td>27.7400</td>\n",
       "    </tr>\n",
       "    <tr>\n",
       "      <th>CHAS</th>\n",
       "      <td>506.0</td>\n",
       "      <td>0.069170</td>\n",
       "      <td>0.253994</td>\n",
       "      <td>0.00000</td>\n",
       "      <td>0.000000</td>\n",
       "      <td>0.00000</td>\n",
       "      <td>0.000000</td>\n",
       "      <td>1.0000</td>\n",
       "    </tr>\n",
       "    <tr>\n",
       "      <th>NOX</th>\n",
       "      <td>506.0</td>\n",
       "      <td>0.554695</td>\n",
       "      <td>0.115878</td>\n",
       "      <td>0.38500</td>\n",
       "      <td>0.449000</td>\n",
       "      <td>0.53800</td>\n",
       "      <td>0.624000</td>\n",
       "      <td>0.8710</td>\n",
       "    </tr>\n",
       "    <tr>\n",
       "      <th>RM</th>\n",
       "      <td>506.0</td>\n",
       "      <td>6.284634</td>\n",
       "      <td>0.702617</td>\n",
       "      <td>3.56100</td>\n",
       "      <td>5.885500</td>\n",
       "      <td>6.20850</td>\n",
       "      <td>6.623500</td>\n",
       "      <td>8.7800</td>\n",
       "    </tr>\n",
       "    <tr>\n",
       "      <th>AGE</th>\n",
       "      <td>506.0</td>\n",
       "      <td>68.574901</td>\n",
       "      <td>28.148861</td>\n",
       "      <td>2.90000</td>\n",
       "      <td>45.025000</td>\n",
       "      <td>77.50000</td>\n",
       "      <td>94.075000</td>\n",
       "      <td>100.0000</td>\n",
       "    </tr>\n",
       "    <tr>\n",
       "      <th>DIS</th>\n",
       "      <td>506.0</td>\n",
       "      <td>3.795043</td>\n",
       "      <td>2.105710</td>\n",
       "      <td>1.12960</td>\n",
       "      <td>2.100175</td>\n",
       "      <td>3.20745</td>\n",
       "      <td>5.188425</td>\n",
       "      <td>12.1265</td>\n",
       "    </tr>\n",
       "    <tr>\n",
       "      <th>RAD</th>\n",
       "      <td>506.0</td>\n",
       "      <td>9.549407</td>\n",
       "      <td>8.707259</td>\n",
       "      <td>1.00000</td>\n",
       "      <td>4.000000</td>\n",
       "      <td>5.00000</td>\n",
       "      <td>24.000000</td>\n",
       "      <td>24.0000</td>\n",
       "    </tr>\n",
       "    <tr>\n",
       "      <th>TAX</th>\n",
       "      <td>506.0</td>\n",
       "      <td>408.237154</td>\n",
       "      <td>168.537116</td>\n",
       "      <td>187.00000</td>\n",
       "      <td>279.000000</td>\n",
       "      <td>330.00000</td>\n",
       "      <td>666.000000</td>\n",
       "      <td>711.0000</td>\n",
       "    </tr>\n",
       "    <tr>\n",
       "      <th>PTRATIO</th>\n",
       "      <td>506.0</td>\n",
       "      <td>18.455534</td>\n",
       "      <td>2.164946</td>\n",
       "      <td>12.60000</td>\n",
       "      <td>17.400000</td>\n",
       "      <td>19.05000</td>\n",
       "      <td>20.200000</td>\n",
       "      <td>22.0000</td>\n",
       "    </tr>\n",
       "    <tr>\n",
       "      <th>B</th>\n",
       "      <td>506.0</td>\n",
       "      <td>356.674032</td>\n",
       "      <td>91.294864</td>\n",
       "      <td>0.32000</td>\n",
       "      <td>375.377500</td>\n",
       "      <td>391.44000</td>\n",
       "      <td>396.225000</td>\n",
       "      <td>396.9000</td>\n",
       "    </tr>\n",
       "    <tr>\n",
       "      <th>LSTAT</th>\n",
       "      <td>506.0</td>\n",
       "      <td>12.653063</td>\n",
       "      <td>7.141062</td>\n",
       "      <td>1.73000</td>\n",
       "      <td>6.950000</td>\n",
       "      <td>11.36000</td>\n",
       "      <td>16.955000</td>\n",
       "      <td>37.9700</td>\n",
       "    </tr>\n",
       "    <tr>\n",
       "      <th>PRICE</th>\n",
       "      <td>506.0</td>\n",
       "      <td>22.532806</td>\n",
       "      <td>9.197104</td>\n",
       "      <td>5.00000</td>\n",
       "      <td>17.025000</td>\n",
       "      <td>21.20000</td>\n",
       "      <td>25.000000</td>\n",
       "      <td>50.0000</td>\n",
       "    </tr>\n",
       "  </tbody>\n",
       "</table>\n",
       "</div>"
      ],
      "text/plain": [
       "         count        mean         std        min         25%        50%  \\\n",
       "CRIM     506.0    3.613524    8.601545    0.00632    0.082045    0.25651   \n",
       "ZN       506.0   11.363636   23.322453    0.00000    0.000000    0.00000   \n",
       "INDUS    506.0   11.136779    6.860353    0.46000    5.190000    9.69000   \n",
       "CHAS     506.0    0.069170    0.253994    0.00000    0.000000    0.00000   \n",
       "NOX      506.0    0.554695    0.115878    0.38500    0.449000    0.53800   \n",
       "RM       506.0    6.284634    0.702617    3.56100    5.885500    6.20850   \n",
       "AGE      506.0   68.574901   28.148861    2.90000   45.025000   77.50000   \n",
       "DIS      506.0    3.795043    2.105710    1.12960    2.100175    3.20745   \n",
       "RAD      506.0    9.549407    8.707259    1.00000    4.000000    5.00000   \n",
       "TAX      506.0  408.237154  168.537116  187.00000  279.000000  330.00000   \n",
       "PTRATIO  506.0   18.455534    2.164946   12.60000   17.400000   19.05000   \n",
       "B        506.0  356.674032   91.294864    0.32000  375.377500  391.44000   \n",
       "LSTAT    506.0   12.653063    7.141062    1.73000    6.950000   11.36000   \n",
       "PRICE    506.0   22.532806    9.197104    5.00000   17.025000   21.20000   \n",
       "\n",
       "                75%       max  \n",
       "CRIM       3.677083   88.9762  \n",
       "ZN        12.500000  100.0000  \n",
       "INDUS     18.100000   27.7400  \n",
       "CHAS       0.000000    1.0000  \n",
       "NOX        0.624000    0.8710  \n",
       "RM         6.623500    8.7800  \n",
       "AGE       94.075000  100.0000  \n",
       "DIS        5.188425   12.1265  \n",
       "RAD       24.000000   24.0000  \n",
       "TAX      666.000000  711.0000  \n",
       "PTRATIO   20.200000   22.0000  \n",
       "B        396.225000  396.9000  \n",
       "LSTAT     16.955000   37.9700  \n",
       "PRICE     25.000000   50.0000  "
      ]
     },
     "execution_count": 9,
     "metadata": {},
     "output_type": "execute_result"
    }
   ],
   "source": [
    "#Table with summary statistics of the dataset\n",
    "bos.describe().T"
   ]
  },
  {
   "cell_type": "markdown",
   "metadata": {},
   "source": [
    "**HISTOGRAMS OF HOUSE PRICE VARIABLES**"
   ]
  },
  {
   "cell_type": "code",
   "execution_count": 10,
   "metadata": {},
   "outputs": [
    {
     "data": {
      "image/png": "[encoded data removed]",
      "text/plain": [
       "<Figure size 1440x1080 with 16 Axes>"
      ]
     },
     "metadata": {
      "needs_background": "light"
     },
     "output_type": "display_data"
    }
   ],
   "source": [
    "#Histograms of House Price Variables using matplotlib\n",
    "bos.hist(bins=50, figsize=(20,15))\n",
    "plt.show()"
   ]
  },
  {
   "cell_type": "markdown",
   "metadata": {},
   "source": [
    "### Selected Observations from the Summary Stats Table\n",
    "___\n",
    "\n",
    "* **The target variable - 'PRICE' has a range of $5000 - $50000 with a mean of $22,532 which is a significant variation in house prices across the city.**\n",
    "\n",
    "\n",
    "* The 'CHAS' variable - proximity to the Charles River is logisitic in nature (i.e. 1 or 0)\n",
    "\n",
    "\n",
    "* Per Capita crime rate varies significantly across the city from 0.00632 to 88.9762"
   ]
  },
  {
   "cell_type": "markdown",
   "metadata": {},
   "source": [
    "**OUTLIERS**\n",
    "\n",
    "Z-Scores determined for outliers and new df created `bos_o` with outliers removed."
   ]
  },
  {
   "cell_type": "code",
   "execution_count": 15,
   "metadata": {},
   "outputs": [],
   "source": [
    "z = np.abs(stats.zscore(bos))"
   ]
  },
  {
   "cell_type": "code",
   "execution_count": 16,
   "metadata": {},
   "outputs": [],
   "source": [
    "bos_o =bos[(z < 3).all(axis=1)]"
   ]
  },
  {
   "cell_type": "markdown",
   "metadata": {},
   "source": [
    "### Distribution of Prices Data\n",
    "___"
   ]
  },
  {
   "cell_type": "code",
   "execution_count": 17,
   "metadata": {},
   "outputs": [],
   "source": [
    "#Set the target variable to y\n",
    "\n",
    "y = bos['PRICE']*1000"
   ]
  },
  {
   "cell_type": "code",
   "execution_count": 18,
   "metadata": {},
   "outputs": [
    {
     "data": {
      "image/png": "[encoded data removed]",
      "text/plain": [
       "<Figure size 864x864 with 1 Axes>"
      ]
     },
     "metadata": {},
     "output_type": "display_data"
    }
   ],
   "source": [
    "#Use the Seaborn library to display the distribution of house prices\n",
    "sns.set_style(\"darkgrid\")\n",
    "plt.figure(figsize=(12, 12))\n",
    "plt.title('House Prices Distribution', size=20)\n",
    "ax = sns.distplot(y)"
   ]
  },
  {
   "cell_type": "markdown",
   "metadata": {},
   "source": [
    "The plot above which displays the distribution of house prices in the dataset 'appears' to follow a **normal distribution.**\n",
    "\n",
    "**Some other observations**\n",
    "\n",
    "* The highest distribution is centred approximately around the mean ($20,000)\n",
    "\n",
    "* There are a notably high number of houses around the max ($50,000)\n",
    "\n",
    "Although the prices 'look' like they follow a normal distribution i.e. a bell-curve or gaussian distribution, it would be prudent to definitively determine the distribution as the distribution of the data will determine what inferential statistical analysis should be carried out.- **we will next carry out a test for normality.**"
   ]
  },
  {
   "cell_type": "markdown",
   "metadata": {},
   "source": [
    "**Shapiro-Wilk Test for Normality**\n",
    "\n",
    "The Shapiro-Wilk test tests the null hypothesis $H_0$ that the sample comes from the normal distribution. Therefore at a significance level of 0.05 a $p$ < 0.05 indicates non-normality\n",
    "Ref[http://www.bios.unc.edu/~mhudgens/bios/662/2008fall/Backup/wilkshapiro1965.pdf]"
   ]
  },
  {
   "cell_type": "code",
   "execution_count": 19,
   "metadata": {},
   "outputs": [
    {
     "name": "stdout",
     "output_type": "stream",
     "text": [
      "Test Statistic=0.917, p=0.0000\n"
     ]
    }
   ],
   "source": [
    "from scipy.stats import shapiro #import the Shapiro-Wilks function\n",
    "\n",
    "shapiro_test = shapiro(y) #run the Shapiro Wilks tets on the house price data\n",
    "\n",
    "stat, p = shapiro_test\n",
    "print('Test Statistic=%.3f, p=%.4f' % (stat, p))"
   ]
  },
  {
   "cell_type": "markdown",
   "metadata": {},
   "source": [
    "The Shapiro-Wilk test above *rejects* the null hypothesis since the *p* value is less than 0.05, therefore the data for 'PRICE' is not normally distributed. In addition the test statistic is 0.917 which indicates that this result is likely valid and not a type 1 error. Further visualisation may be carried out using a **Q-Q plot**\n",
    "\n",
    "A Q-Q plot plots quantiles (values that split a data set into equal portions of the data) against the theoretical quantiles of a normal distribution. \n",
    "\n",
    "Ref[https://www.ncbi.nlm.nih.gov/pmc/articles/PMC3693611/?source=post_page-----6bf06ed646a9----------------------]"
   ]
  },
  {
   "cell_type": "code",
   "execution_count": 20,
   "metadata": {},
   "outputs": [
    {
     "data": {
      "image/png": "[encoded data removed]",
      "text/plain": [
       "<Figure size 432x288 with 1 Axes>"
      ]
     },
     "execution_count": 20,
     "metadata": {},
     "output_type": "execute_result"
    },
    {
     "data": {
      "image/png": "[encoded data removed]",
      "text/plain": [
       "<Figure size 432x288 with 1 Axes>"
      ]
     },
     "metadata": {},
     "output_type": "display_data"
    }
   ],
   "source": [
    "sm.qqplot(y, line='s') #generate a q-q plot of the house price data"
   ]
  },
  {
   "cell_type": "markdown",
   "metadata": {},
   "source": [
    "Investigating possible reasons for the non-normality of the 'PRICES' data and specifically what, if any effects are causing the skew of data towards higher value houses may be worthwhile."
   ]
  },
  {
   "cell_type": "markdown",
   "metadata": {},
   "source": [
    "### Relationships Between Variables\n",
    "___\n",
    "\n",
    "A correlation heatmap is a useful way to quickly visualise the relationships between variables and determine which variables are highly correlated and worth further investigation.\n",
    "\n",
    "Ref [https://seaborn.pydata.org/generated/seaborn.heatmap.html]\n"
   ]
  },
  {
   "cell_type": "markdown",
   "metadata": {},
   "source": [
    "**CORRELATIONS**"
   ]
  },
  {
   "cell_type": "markdown",
   "metadata": {},
   "source": [
    "The correlations between input variables and PRICE are ranked below in descending order"
   ]
  },
  {
   "cell_type": "code",
   "execution_count": 21,
   "metadata": {},
   "outputs": [
    {
     "data": {
      "text/plain": [
       "PRICE      1.000000\n",
       "RM         0.695360\n",
       "ZN         0.360445\n",
       "B          0.333461\n",
       "DIS        0.249929\n",
       "CHAS       0.175260\n",
       "AGE       -0.376955\n",
       "RAD       -0.381626\n",
       "CRIM      -0.388305\n",
       "NOX       -0.427321\n",
       "TAX       -0.468536\n",
       "INDUS     -0.483725\n",
       "PTRATIO   -0.507787\n",
       "LSTAT     -0.737663\n",
       "Name: PRICE, dtype: float64"
      ]
     },
     "execution_count": 21,
     "metadata": {},
     "output_type": "execute_result"
    }
   ],
   "source": [
    "corr_matrix = bos.corr()\n",
    "corr_matrix['PRICE'].sort_values(ascending=False)"
   ]
  },
  {
   "cell_type": "code",
   "execution_count": 22,
   "metadata": {},
   "outputs": [
    {
     "data": {
      "image/png": "[encoded data removed]",
      "text/plain": [
       "<Figure size 1080x1080 with 2 Axes>"
      ]
     },
     "metadata": {},
     "output_type": "display_data"
    }
   ],
   "source": [
    "plt.figure(figsize=(15, 15)) #sets the parameters for the figure size \n",
    "ax = sns.heatmap(bos.corr(), cmap=sns.cubehelix_palette(as_cmap=True), linewidths=0.5) #generates heatmap, colour scheme and linewidth\n",
    "ax.xaxis.tick_top() #sets the axis to the top of the chart for easier reading"
   ]
  },
  {
   "cell_type": "markdown",
   "metadata": {},
   "source": [
    "The above correlation matrix highlights some interesting relationships between the target variable, PRICE and other variables:\n",
    "\n",
    "* There is a high positive correlation between PRICE and RM - (Average number of rooms per dwelling)\n",
    "\n",
    "* There is a positive correlation between PRICE and ZN - (proportion of residential land zoned for lots over 25,000 sq.ft.)\n",
    "\n",
    "* There is a negative correlation between PRICE and LSTAT - (% lower status of the population)\n",
    "\n",
    "* There is a negative correlation between PRICE and PTRATIO - (pupil-teacher ratio by town)\n",
    "\n",
    "The correlation matrix is only relevant to variables where there is a integer value. The Charles river variable is logistic in nature (i.e. 1 or 0) so is not relevant to this analysis."
   ]
  },
  {
   "cell_type": "markdown",
   "metadata": {},
   "source": [
    "## INFERENTIAL STATISTICS"
   ]
  },
  {
   "cell_type": "markdown",
   "metadata": {},
   "source": [
    "We will now use inferential statistics to analyse the relationship between the median house prices 'PRICE' ('MEDV'in the original dataset) and whether or not the houses border the Charles river 'CHAS'"
   ]
  },
  {
   "cell_type": "code",
   "execution_count": 23,
   "metadata": {},
   "outputs": [],
   "source": [
    "# Split the data into house proces which border the River and those who dont\n",
    "    \n",
    "River = bos.loc[bos['CHAS'] != 0]\n",
    "Not_River = bos.loc[bos['CHAS'] != 1]"
   ]
  },
  {
   "cell_type": "code",
   "execution_count": 24,
   "metadata": {},
   "outputs": [],
   "source": [
    "#Create 2 Arrays of Prices along River and not along river\n",
    "\n",
    "River_Price = River['PRICE']\n",
    "Not_River_Price = Not_River['PRICE']"
   ]
  },
  {
   "cell_type": "code",
   "execution_count": 25,
   "metadata": {},
   "outputs": [
    {
     "data": {
      "text/plain": [
       "count    35.000000\n",
       "mean     28.440000\n",
       "std      11.816643\n",
       "min      13.400000\n",
       "25%      21.100000\n",
       "50%      23.300000\n",
       "75%      33.150000\n",
       "max      50.000000\n",
       "Name: PRICE, dtype: float64"
      ]
     },
     "execution_count": 25,
     "metadata": {},
     "output_type": "execute_result"
    }
   ],
   "source": [
    "#Summary statistics for house prices bordering river\n",
    "River_Price.describe().T\n"
   ]
  },
  {
   "cell_type": "code",
   "execution_count": 26,
   "metadata": {},
   "outputs": [
    {
     "data": {
      "text/plain": [
       "count    471.000000\n",
       "mean      22.093843\n",
       "std        8.831362\n",
       "min        5.000000\n",
       "25%       16.600000\n",
       "50%       20.900000\n",
       "75%       24.800000\n",
       "max       50.000000\n",
       "Name: PRICE, dtype: float64"
      ]
     },
     "execution_count": 26,
     "metadata": {},
     "output_type": "execute_result"
    }
   ],
   "source": [
    "#Summary statistics for house prices not bordering river\n",
    "Not_River_Price.describe().T"
   ]
  },
  {
   "cell_type": "markdown",
   "metadata": {},
   "source": [
    "I can be seen above that in simple terms, the mean house price of houses bordering the river is 28,440 dollars whereas the mean house price of houses not bordering the river is 22,093 dollars.\n",
    "\n",
    "We will take a further look at how both sets of prices are distributed, using boxplots"
   ]
  },
  {
   "cell_type": "markdown",
   "metadata": {},
   "source": [
    "### BOX PLOTS OF HOUSE PRICES BORDERING/NOT BORDERING RIVER"
   ]
  },
  {
   "cell_type": "code",
   "execution_count": 27,
   "metadata": {},
   "outputs": [
    {
     "data": {
      "text/plain": [
       "Text(0.5,1,'House Prices Not Bordering River and Bordering River')"
      ]
     },
     "execution_count": 27,
     "metadata": {},
     "output_type": "execute_result"
    },
    {
     "data": {
      "image/png": "[encoded data removed]",
      "text/plain": [
       "<Figure size 1080x1080 with 1 Axes>"
      ]
     },
     "metadata": {},
     "output_type": "display_data"
    }
   ],
   "source": [
    "plt.figure(figsize=(15, 15))\n",
    "red_circle = dict(markerfacecolor='r', marker='o')\n",
    "sns.set(font_scale=1.2)\n",
    "ax=sns.boxplot(x=\"CHAS\", y=\"PRICE\",data=bos, linewidth=2.0, flierprops=red_circle, showmeans=True , meanline=True, meanprops = dict(linestyle='--', linewidth=2.5, color='purple'))\n",
    "ax.set_title('House Prices Not Bordering River and Bordering River', size=20)\n"
   ]
  },
  {
   "cell_type": "markdown",
   "metadata": {},
   "source": [
    "The boxplots of the median house price for houses bordering the river (CHAS=1) and those not bordering the river (CHAS=0) appear quite different, suggesting that it may be worth investigating if this difference is statistically significant.\n",
    "* The array containing houses not bordering the river has a number of outliers at the upper end\n",
    "* The array containing houses bordering the river has a mean which is higher than those not bordering the river (**purple dashed line in boxplot**). Additionally, the mean of house prices bordering the river is significantly higher than the median compared to the house prices of those not bordering the river."
   ]
  },
  {
   "cell_type": "markdown",
   "metadata": {},
   "source": [
    "### DISTRIBUTION PLOTS OF HOUSE PRICES BORDERING/NOT BORDERING RIVER"
   ]
  },
  {
   "cell_type": "code",
   "execution_count": 28,
   "metadata": {},
   "outputs": [
    {
     "data": {
      "image/png": "[encoded data removed]",
      "text/plain": [
       "<Figure size 864x864 with 1 Axes>"
      ]
     },
     "metadata": {},
     "output_type": "display_data"
    }
   ],
   "source": [
    "sns.set_style(\"darkgrid\")\n",
    "plt.figure(figsize=(12, 12))\n",
    "ax1 = sns.distplot(River_Price)\n",
    "ax2 = sns.distplot(Not_River_Price)"
   ]
  },
  {
   "cell_type": "markdown",
   "metadata": {},
   "source": [
    "The distribution plots of house prices bordering/not bordering the river don't highlight the differences in the two datasets as well as the boxplots do, but the distributions illustrate how both distributions have a similar shape"
   ]
  },
  {
   "cell_type": "markdown",
   "metadata": {},
   "source": [
    "### NORMALITY CHECK ON HOUSE PRICES BORDERING/NOT BORDERING RIVER"
   ]
  },
  {
   "cell_type": "code",
   "execution_count": 29,
   "metadata": {},
   "outputs": [
    {
     "name": "stdout",
     "output_type": "stream",
     "text": [
      "Test Statistic : Not Bordering River =0.928, p=0.0000\n",
      "Test Statistic : Bordering River =0.836, p=0.0001\n"
     ]
    }
   ],
   "source": [
    "#Check the two house price data sets for normality using the Shapiro-Wilks test\n",
    "\n",
    "shapiro_test1 = shapiro(Not_River_Price) \n",
    "shapiro_test2 = shapiro(River_Price) \n",
    "\n",
    "stat1, p1 = shapiro_test1\n",
    "stat2, p2 = shapiro_test2\n",
    "print('Test Statistic : Not Bordering River =%.3f, p=%.4f' % (stat1, p1))\n",
    "print('Test Statistic : Bordering River =%.3f, p=%.4f' % (stat2, p2))"
   ]
  },
  {
   "cell_type": "markdown",
   "metadata": {},
   "source": [
    "The normality test of the house prices bordering/not bordering the river both suggest that we can reject the null hypothesis, $H_0$, and accept the alternative hypothesis, $H_1$, the two sets are non-normal\n",
    "\n",
    "**Although the data displays non-normality, (and the presence of outliers) - parametric tests of the house prices are still suitable due to the large sample sizes we have** \n",
    "\n",
    "REF [https://blog.minitab.com/blog/understanding-statistics/data-not-normal-try-letting-it-be-with-a-nonparametric-hypothesis-test]\n",
    "\n",
    "This is also a satisfactory approach since the **Central Limit Theorem** states that given a sufficiently large sample size from a population (usually more than 30) with a finite level of variance, the mean of all samples from the same population will be approximately equal to the mean of the population.\n",
    "\n",
    "**CENTRAL LIMIT THEOREM**\n",
    "\n",
    "If X1, X2,...Xn is a random sample of size n taken from a population (either finite\n",
    "or infinite) with mean $u$ and finite variance $\\sigma^2$ , and if $\\bar X$ is the sample mean, the limiting\n",
    "form of the distribution of\n",
    "\n",
    "$Z$ = $\\frac{\\bar X - u} {\\frac{\\sigma}{\\sqrt n}}$\n",
    "\n",
    "\n",
    "as n -->0, is the standard normal distribution.\n",
    "\n",
    "REF[Applied Statistics and Probability for Engineers.; Montgomery,D.C.; Wiley; 2003]"
   ]
  },
  {
   "cell_type": "markdown",
   "metadata": {},
   "source": [
    "### PAIRED T-TEST"
   ]
  },
  {
   "cell_type": "code",
   "execution_count": 30,
   "metadata": {},
   "outputs": [
    {
     "name": "stdout",
     "output_type": "stream",
     "text": [
      "Test Statistic = -3.996, p=0.0001\n"
     ]
    }
   ],
   "source": [
    "#Carry out a paired t-test on the house prices bordering/not bordering the river\n",
    "\n",
    "stats.ttest_ind(Not_River_Price, River_Price)\n",
    "\n",
    "stat, p = stats.ttest_ind(Not_River_Price, River_Price)\n",
    "print('Test Statistic = %.3f, p=%.4f' % (stat, p))\n",
    "\n",
    "# REF [https://docs.scipy.org/doc/scipy/reference/generated/scipy.stats.ttest_ind.html]"
   ]
  },
  {
   "cell_type": "markdown",
   "metadata": {},
   "source": [
    "A Test Statistic of -3.996 and  $p$ value of p=0.0001 suggest that we can reject the null hypothesis of equal means.\n",
    "\n",
    "Therefore we can conclude that there is a difference in the mean house price between houses bordering the Charles River and those not bordering the Charles River"
   ]
  },
  {
   "cell_type": "markdown",
   "metadata": {},
   "source": [
    "the following analysis was used as the basis for our investigation of descriptive and inferential statistics:\n",
    "\n",
    "REF: [https://subscription.packtpub.com/book/programming/9781789804744/1/ch01lvl1sec11/our-first-analysis-the-boston-housing-dataset]"
   ]
  },
  {
   "cell_type": "markdown",
   "metadata": {},
   "source": [
    "#  PREDICT \n",
    "\n"
   ]
  },
  {
   "cell_type": "markdown",
   "metadata": {},
   "source": [
    "## NEURAL NETWORK USING KERAS\n",
    "\n",
    "In this section we will attempt to predict the house prices based on other variables using the Keras Neural Network library\n",
    "\n",
    "REF [https://keras.io/]"
   ]
  },
  {
   "cell_type": "markdown",
   "metadata": {},
   "source": [
    "`BatchNormalization` is added as a means of getting all the attributes on the same scale: This is important in datasets where the input variables vary greatly in scale. "
   ]
  },
  {
   "cell_type": "code",
   "execution_count": 37,
   "metadata": {},
   "outputs": [
    {
     "name": "stdout",
     "output_type": "stream",
     "text": [
      "Model: \"sequential_2\"\n",
      "_________________________________________________________________\n",
      "Layer (type)                 Output Shape              Param #   \n",
      "=================================================================\n",
      "dense_5 (Dense)              (None, 4)                 56        \n",
      "_________________________________________________________________\n",
      "dense_6 (Dense)              (None, 2)                 10        \n",
      "_________________________________________________________________\n",
      "dense_7 (Dense)              (None, 2)                 6         \n",
      "_________________________________________________________________\n",
      "dense_8 (Dense)              (None, 1)                 3         \n",
      "=================================================================\n",
      "Total params: 75\n",
      "Trainable params: 75\n",
      "Non-trainable params: 0\n",
      "_________________________________________________________________\n"
     ]
    }
   ],
   "source": [
    "#Import relevant Keras libraries\n",
    "\n",
    "#import the sequential model\n",
    "from keras.models import Sequential\n",
    "from keras.models import Model\n",
    "\n",
    "from keras import optimizers \n",
    "\n",
    "#import the relevent layer types and activation\n",
    "from keras.layers import Dense, Activation\n",
    "# For encoding categorical variables.\n",
    "import sklearn.preprocessing as pre\n",
    "\n",
    "# For splitting into training and test sets.\n",
    "import sklearn.model_selection as mod\n",
    "\n",
    "#Create a new sequential model\n",
    "model = Sequential()\n",
    "\n",
    "\n",
    "#Introduce regularisation\n",
    "\n",
    "model.add(Dense(4, input_dim=(13), activation=\"relu\",kernel_regularizer=regularizers.l2(0.01), activity_regularizer=regularizers.l1(0.01)))\n",
    "\n",
    "kr.layers.BatchNormalization()\n",
    "\n",
    "model.add(Dense(2, activation=\"relu\"))\n",
    "\n",
    "kr.layers.BatchNormalization()\n",
    "\n",
    "model.add(Dense(2, activation=\"relu\"))\n",
    "\n",
    "model.add(Dense(1))\n",
    "\n",
    "model.summary()"
   ]
  },
  {
   "cell_type": "markdown",
   "metadata": {},
   "source": [
    "**BUILD THE MODEL**\n",
    "\n",
    "We will experiment with 1 input layer with 13 neurons, 1 hidden layer with 6 neurons and 1 output layer. The input shape is the number of variables i.e. 13. The activation function is `relu` - Rectified Linear Unit. This activation function normalises the inputs."
   ]
  },
  {
   "cell_type": "code",
   "execution_count": 38,
   "metadata": {},
   "outputs": [],
   "source": [
    "#Set the x and y parameters for independent and dependent variables\n",
    "\n",
    "#x = bos[['ZN','RM', 'PTRATIO', 'LSTAT']]\n",
    "#y = bos[['PRICE']]\n",
    "\n",
    "#x = bos_o[['ZN','RM', 'PTRATIO', 'LSTAT']]\n",
    "y = bos_o[['PRICE']]\n",
    "\n",
    "#drop some parameters to try and simplify the model\n",
    "\n",
    "x = bos_o[['CRIM', 'INDUS', 'ZN', 'CHAS', 'NOX', 'RM', 'AGE', 'DIS', 'RAD', 'TAX', 'PTRATIO', 'LSTAT', 'TAX']]\n"
   ]
  },
  {
   "cell_type": "markdown",
   "metadata": {},
   "source": [
    "**COMPILE THE MODEL**\n",
    "\n",
    "Gradient descent is an optimisation algorithm which works by changing parameters of the input functions such as weights until the loss function converges on a minimum.\n",
    "\n",
    "The model was initially compiled using a Stochastic Gradient Descent optimiser `sgd` and the loss function Mean Square Error `mse`.\n",
    "\n",
    "Better results were found using the `Adam` optimiser and `mean_squared_error`\n",
    "\n",
    "* **Stochastic Gradient Descent optimiser**, as the name suggests picks a random instance in the training set and computes the gradient based only on that instance. This is in contrast to 'Batch gradient descent which uses the entire dataset to calculate the gradients which is slow (for a large dataset). Due to its random nature, the cost function for stochastic gradient descent will increase and decrease, over time approaching its minimum.\n",
    "  \n",
    "\n",
    "* **Mean Square Error** is a useful loss function for regression problems where a value is predicted from continuous variables.\n",
    " \n",
    "    REF [Applied Deep Learning with Python By Alex Galea, Luis Capelo August 2018]\n",
    "    \n",
    "    REF [Hands-On Machine Learning with Scikit-Learn, KERAS & TensorFlow; Geron, A.; O'Reilly; 2019, 2nd Ed]"
   ]
  },
  {
   "cell_type": "markdown",
   "metadata": {},
   "source": [
    "**Attempt to adjust learning rate to get better cost value**"
   ]
  },
  {
   "cell_type": "code",
   "execution_count": 39,
   "metadata": {},
   "outputs": [],
   "source": [
    "#compile the model specifying the model optimiser and loss function\n",
    "\n",
    "# Optimizers Tried\n",
    "sgd = optimizers.SGD(lr=0.001, clipnorm=1.0)\n",
    "Adam = kr.optimizers.Adam(learning_rate=0.001, beta_1=0.9, beta_2=0.999, amsgrad=False)\n",
    "RMSprop = kr.optimizers.RMSprop(learning_rate=0.001, rho=0.9)\n",
    "Adagrad = kr.optimizers.Adagrad(learning_rate=0.01)\n",
    "Adadelta = kr.optimizers.Adadelta(learning_rate=1.0, rho=0.95)\n",
    "Adamax = kr.optimizers.Adamax(learning_rate=0.002, beta_1=0.9, beta_2=0.999)\n",
    "Nadam = kr.optimizers.Nadam(learning_rate=0.002, beta_1=0.9, beta_2=0.999)\n",
    "\n",
    "#loss Functions tried\n",
    "#model.compile(optimizer=\"Adam\", loss =\"mean_squared_error\")\n",
    "#model.compile(optimizer=\"Adam\", loss =\"mean_absolute_error\")\n",
    "#model.compile(optimizer=\"Adam\", loss =\"mean_absolute_percentage_error\")\n",
    "#model.compile(optimizer=\"Adam\", loss =\"mean_squared_logarithmic_error\")\n",
    "#model.compile(optimizer=\"Adam\", loss =\"hinge\")\n",
    "#model.compile(optimizer=\"Adam\", loss =\"log_cosh\")\n",
    "#model.compile(optimizer=\"Adam\", loss =\"huber_loss\")\n",
    "\n",
    "#changed to 'Adam' optimiser, loss mean_squared_error, \n",
    "#metrics added ref https://stackoverflow.com/questions/48775305/what-function-defines-accuracy-in-keras-when-the-loss-is-mean-squared-error-mse?rq=1\n",
    "model.compile(optimizer=\"Adam\", loss =\"mean_squared_error\")"
   ]
  },
  {
   "cell_type": "markdown",
   "metadata": {},
   "source": [
    "**CREATE A TRAINING AND TESTING SET**\n",
    "\n",
    "Like all regression problems it is necessary to create a training `x_train` , `y_train` and testing set `x_test`, `y_test` with which to train the model to create predictions of our output variable and a testing set to test the accuracy of the predictive model we have created.\n",
    "\n",
    "We have specified a `test_size` of 0.5 i.e. half the data will be used to test the model."
   ]
  },
  {
   "cell_type": "code",
   "execution_count": 40,
   "metadata": {},
   "outputs": [],
   "source": [
    "# Define our training set: size of the test set is 0.2 i.e. 20% of the dataset\n",
    "\n",
    "x_train, x_test, y_train, y_test = mod.train_test_split(x, y, test_size=0.2, random_state = 42)"
   ]
  },
  {
   "cell_type": "markdown",
   "metadata": {},
   "source": [
    "`model.fit` Trains the model over a fixed number of epochs\n",
    "\n",
    "**epochs**: are the number of epochs to train the model. An epoch is an iteration over the entire x and y data provided. \n",
    "\n",
    "REF[https://keras.io/models/model/]"
   ]
  },
  {
   "cell_type": "markdown",
   "metadata": {},
   "source": [
    "`EarlyStopping` stops the model when it doesnt improve the cost function after a specified number of epochs of same loss value. `patience` defines the number of epochs of same loss value before stopping\n",
    "\n",
    "REF [https://towardsdatascience.com/building-a-deep-learning-model-using-keras-1548ca149d37]\n",
    "\n",
    "Validation model also added:\n",
    "\n",
    "Validationis a process of holding out part of the test set during optimisation in order to evaluate several candidate models and select the best one.\n",
    "\n",
    "`validation_split`: Float between 0 and 1. Fraction of the training data to be used as validation data. The model will set apart this fraction of the training data, will not train on it, and will evaluate the loss and any model metrics on this data at the end of each epoch. The validation data is selected from the last samples in the x and y data provided, before shuffling. \n",
    "\n",
    "`Val_Loss` is the loss value calculated on the validation test set after each epoch\n",
    "\n",
    "REF [https://keras.io/models/model/]"
   ]
  },
  {
   "cell_type": "markdown",
   "metadata": {},
   "source": [
    "**GRADIENT DESCENT**\n",
    "\n"
   ]
  },
  {
   "cell_type": "code",
   "execution_count": 41,
   "metadata": {},
   "outputs": [
    {
     "name": "stdout",
     "output_type": "stream",
     "text": [
      "Train on 265 samples, validate on 67 samples\n",
      "Epoch 1/1000\n",
      "265/265 [==============================] - 0s 403us/step - loss: 769.5843 - val_loss: 714.7016\n",
      "Epoch 2/1000\n",
      "265/265 [==============================] - 0s 45us/step - loss: 759.2037 - val_loss: 704.6086\n",
      "Epoch 3/1000\n",
      "265/265 [==============================] - 0s 53us/step - loss: 747.7105 - val_loss: 694.5277\n",
      "Epoch 4/1000\n",
      "265/265 [==============================] - 0s 53us/step - loss: 738.3446 - val_loss: 684.4089\n",
      "Epoch 5/1000\n",
      "265/265 [==============================] - 0s 56us/step - loss: 726.8665 - val_loss: 674.3177\n",
      "Epoch 6/1000\n",
      "265/265 [==============================] - 0s 56us/step - loss: 715.9979 - val_loss: 664.2299\n",
      "Epoch 7/1000\n",
      "265/265 [==============================] - 0s 56us/step - loss: 705.9328 - val_loss: 654.0879\n",
      "Epoch 8/1000\n",
      "265/265 [==============================] - 0s 49us/step - loss: 695.5884 - val_loss: 644.0096\n",
      "Epoch 9/1000\n",
      "265/265 [==============================] - 0s 41us/step - loss: 684.3225 - val_loss: 633.9564\n",
      "Epoch 10/1000\n",
      "265/265 [==============================] - 0s 49us/step - loss: 674.5741 - val_loss: 624.0770\n",
      "Epoch 11/1000\n",
      "265/265 [==============================] - 0s 45us/step - loss: 663.8801 - val_loss: 614.3521\n",
      "Epoch 12/1000\n",
      "265/265 [==============================] - 0s 56us/step - loss: 653.8045 - val_loss: 604.7698\n",
      "Epoch 13/1000\n",
      "265/265 [==============================] - 0s 56us/step - loss: 643.9893 - val_loss: 595.6603\n",
      "Epoch 14/1000\n",
      "265/265 [==============================] - 0s 56us/step - loss: 634.3660 - val_loss: 587.3010\n",
      "Epoch 15/1000\n",
      "265/265 [==============================] - 0s 56us/step - loss: 625.5194 - val_loss: 579.5978\n",
      "Epoch 16/1000\n",
      "265/265 [==============================] - 0s 56us/step - loss: 617.3643 - val_loss: 572.5819\n",
      "Epoch 17/1000\n",
      "265/265 [==============================] - 0s 64us/step - loss: 610.6063 - val_loss: 566.5291\n",
      "Epoch 18/1000\n",
      "265/265 [==============================] - 0s 56us/step - loss: 604.0947 - val_loss: 561.1784\n",
      "Epoch 19/1000\n",
      "265/265 [==============================] - 0s 53us/step - loss: 598.4319 - val_loss: 556.1429\n",
      "Epoch 20/1000\n",
      "265/265 [==============================] - 0s 60us/step - loss: 593.3598 - val_loss: 551.5058\n",
      "Epoch 21/1000\n",
      "265/265 [==============================] - 0s 56us/step - loss: 588.1979 - val_loss: 547.4372\n",
      "Epoch 22/1000\n",
      "265/265 [==============================] - 0s 53us/step - loss: 583.6590 - val_loss: 543.4686\n",
      "Epoch 23/1000\n",
      "265/265 [==============================] - 0s 56us/step - loss: 579.1060 - val_loss: 540.1463\n",
      "Epoch 24/1000\n",
      "265/265 [==============================] - 0s 59us/step - loss: 575.2346 - val_loss: 537.1027\n",
      "Epoch 25/1000\n",
      "265/265 [==============================] - 0s 64us/step - loss: 570.9106 - val_loss: 533.9563\n",
      "Epoch 26/1000\n",
      "265/265 [==============================] - 0s 60us/step - loss: 566.1208 - val_loss: 530.3909\n",
      "Epoch 27/1000\n",
      "265/265 [==============================] - 0s 56us/step - loss: 558.6890 - val_loss: 521.4157\n",
      "Epoch 28/1000\n",
      "265/265 [==============================] - 0s 60us/step - loss: 534.3943 - val_loss: 480.3269\n",
      "Epoch 29/1000\n",
      "265/265 [==============================] - 0s 56us/step - loss: 468.0316 - val_loss: 395.9744\n",
      "Epoch 30/1000\n",
      "265/265 [==============================] - 0s 56us/step - loss: 369.3531 - val_loss: 301.4400\n",
      "Epoch 31/1000\n",
      "265/265 [==============================] - 0s 45us/step - loss: 275.3756 - val_loss: 231.9826\n",
      "Epoch 32/1000\n",
      "265/265 [==============================] - 0s 45us/step - loss: 222.0740 - val_loss: 212.4553\n",
      "Epoch 33/1000\n",
      "265/265 [==============================] - 0s 49us/step - loss: 217.1161 - val_loss: 216.7120\n",
      "Epoch 34/1000\n",
      "265/265 [==============================] - 0s 60us/step - loss: 215.8204 - val_loss: 210.5898\n",
      "Epoch 35/1000\n",
      "265/265 [==============================] - 0s 60us/step - loss: 209.5511 - val_loss: 207.2468\n",
      "Epoch 36/1000\n",
      "265/265 [==============================] - 0s 56us/step - loss: 207.3991 - val_loss: 205.4277\n",
      "Epoch 37/1000\n",
      "265/265 [==============================] - 0s 60us/step - loss: 205.0047 - val_loss: 203.6483\n",
      "Epoch 38/1000\n",
      "265/265 [==============================] - 0s 56us/step - loss: 202.5854 - val_loss: 201.8579\n",
      "Epoch 39/1000\n",
      "265/265 [==============================] - 0s 56us/step - loss: 200.5474 - val_loss: 200.0760\n",
      "Epoch 40/1000\n",
      "265/265 [==============================] - 0s 56us/step - loss: 198.8583 - val_loss: 198.4061\n",
      "Epoch 41/1000\n",
      "265/265 [==============================] - 0s 49us/step - loss: 196.0178 - val_loss: 196.3813\n",
      "Epoch 42/1000\n",
      "265/265 [==============================] - 0s 45us/step - loss: 193.9758 - val_loss: 194.6080\n",
      "Epoch 43/1000\n",
      "265/265 [==============================] - 0s 41us/step - loss: 191.4331 - val_loss: 192.7709\n",
      "Epoch 44/1000\n",
      "265/265 [==============================] - 0s 49us/step - loss: 189.4625 - val_loss: 191.0663\n",
      "Epoch 45/1000\n",
      "265/265 [==============================] - 0s 53us/step - loss: 188.2170 - val_loss: 189.5232\n",
      "Epoch 46/1000\n",
      "265/265 [==============================] - 0s 56us/step - loss: 185.1469 - val_loss: 187.2775\n",
      "Epoch 47/1000\n",
      "265/265 [==============================] - 0s 49us/step - loss: 182.5518 - val_loss: 185.4695\n",
      "Epoch 48/1000\n",
      "265/265 [==============================] - 0s 53us/step - loss: 180.4333 - val_loss: 183.6445\n",
      "Epoch 49/1000\n",
      "265/265 [==============================] - 0s 60us/step - loss: 178.0709 - val_loss: 181.7717\n",
      "Epoch 50/1000\n",
      "265/265 [==============================] - 0s 64us/step - loss: 175.4240 - val_loss: 180.0135\n",
      "Epoch 51/1000\n",
      "265/265 [==============================] - 0s 60us/step - loss: 173.5614 - val_loss: 178.2213\n",
      "Epoch 52/1000\n",
      "265/265 [==============================] - 0s 53us/step - loss: 171.2924 - val_loss: 176.1560\n",
      "Epoch 53/1000\n",
      "265/265 [==============================] - 0s 56us/step - loss: 168.8250 - val_loss: 174.2511\n",
      "Epoch 54/1000\n",
      "265/265 [==============================] - 0s 60us/step - loss: 166.5143 - val_loss: 172.4408\n",
      "Epoch 55/1000\n",
      "265/265 [==============================] - 0s 49us/step - loss: 164.8579 - val_loss: 170.8175\n",
      "Epoch 56/1000\n",
      "265/265 [==============================] - 0s 56us/step - loss: 162.0587 - val_loss: 168.7097\n",
      "Epoch 57/1000\n",
      "265/265 [==============================] - 0s 64us/step - loss: 159.4175 - val_loss: 166.8543\n",
      "Epoch 58/1000\n",
      "265/265 [==============================] - 0s 41us/step - loss: 157.8297 - val_loss: 165.4034\n",
      "Epoch 59/1000\n",
      "265/265 [==============================] - 0s 49us/step - loss: 155.3570 - val_loss: 162.9577\n",
      "Epoch 60/1000\n",
      "265/265 [==============================] - 0s 45us/step - loss: 152.5425 - val_loss: 161.0611\n",
      "Epoch 61/1000\n",
      "265/265 [==============================] - 0s 47us/step - loss: 150.3156 - val_loss: 159.1467\n",
      "Epoch 62/1000\n",
      "265/265 [==============================] - 0s 56us/step - loss: 147.8749 - val_loss: 157.2666\n",
      "Epoch 63/1000\n",
      "265/265 [==============================] - 0s 49us/step - loss: 145.7733 - val_loss: 155.4747\n",
      "Epoch 64/1000\n",
      "265/265 [==============================] - 0s 45us/step - loss: 143.6304 - val_loss: 153.7230\n",
      "Epoch 65/1000\n",
      "265/265 [==============================] - 0s 49us/step - loss: 141.8061 - val_loss: 151.7918\n",
      "Epoch 66/1000\n",
      "265/265 [==============================] - 0s 45us/step - loss: 139.2782 - val_loss: 149.9037\n",
      "Epoch 67/1000\n",
      "265/265 [==============================] - 0s 45us/step - loss: 137.0342 - val_loss: 148.1289\n",
      "Epoch 68/1000\n",
      "265/265 [==============================] - 0s 45us/step - loss: 135.2658 - val_loss: 146.3156\n",
      "Epoch 69/1000\n",
      "265/265 [==============================] - 0s 53us/step - loss: 132.4865 - val_loss: 144.8032\n",
      "Epoch 70/1000\n",
      "265/265 [==============================] - 0s 41us/step - loss: 130.6424 - val_loss: 142.9718\n",
      "Epoch 71/1000\n",
      "265/265 [==============================] - ETA: 0s - loss: 97.05 - 0s 41us/step - loss: 128.6300 - val_loss: 141.0758\n",
      "Epoch 72/1000\n",
      "265/265 [==============================] - 0s 41us/step - loss: 126.5321 - val_loss: 139.4087\n",
      "Epoch 73/1000\n",
      "265/265 [==============================] - 0s 49us/step - loss: 124.9269 - val_loss: 137.6225\n",
      "Epoch 74/1000\n",
      "265/265 [==============================] - 0s 53us/step - loss: 122.2710 - val_loss: 135.9969\n",
      "Epoch 75/1000\n",
      "265/265 [==============================] - 0s 41us/step - loss: 120.5289 - val_loss: 134.4775\n",
      "Epoch 76/1000\n"
     ]
    },
    {
     "name": "stdout",
     "output_type": "stream",
     "text": [
      "265/265 [==============================] - 0s 41us/step - loss: 118.3016 - val_loss: 132.5101\n",
      "Epoch 77/1000\n",
      "265/265 [==============================] - 0s 49us/step - loss: 116.2600 - val_loss: 130.6993\n",
      "Epoch 78/1000\n",
      "265/265 [==============================] - ETA: 0s - loss: 96.32 - 0s 45us/step - loss: 114.6763 - val_loss: 128.9914\n",
      "Epoch 79/1000\n",
      "265/265 [==============================] - 0s 49us/step - loss: 112.2295 - val_loss: 127.5403\n",
      "Epoch 80/1000\n",
      "265/265 [==============================] - 0s 45us/step - loss: 110.3457 - val_loss: 125.7792\n",
      "Epoch 81/1000\n",
      "265/265 [==============================] - 0s 38us/step - loss: 108.2478 - val_loss: 123.9359\n",
      "Epoch 82/1000\n",
      "265/265 [==============================] - 0s 38us/step - loss: 106.3276 - val_loss: 122.4606\n",
      "Epoch 83/1000\n",
      "265/265 [==============================] - 0s 45us/step - loss: 104.2161 - val_loss: 120.7618\n",
      "Epoch 84/1000\n",
      "265/265 [==============================] - 0s 38us/step - loss: 102.3277 - val_loss: 119.5169\n",
      "Epoch 85/1000\n",
      "265/265 [==============================] - 0s 38us/step - loss: 100.4954 - val_loss: 117.4158\n",
      "Epoch 86/1000\n",
      "265/265 [==============================] - 0s 38us/step - loss: 98.4474 - val_loss: 116.8334\n",
      "Epoch 87/1000\n",
      "265/265 [==============================] - 0s 41us/step - loss: 96.4705 - val_loss: 114.9382\n",
      "Epoch 88/1000\n",
      "265/265 [==============================] - 0s 34us/step - loss: 94.5348 - val_loss: 113.1661\n",
      "Epoch 89/1000\n",
      "265/265 [==============================] - 0s 42us/step - loss: 92.7871 - val_loss: 111.8985\n",
      "Epoch 90/1000\n",
      "265/265 [==============================] - 0s 38us/step - loss: 91.3186 - val_loss: 110.4630\n",
      "Epoch 91/1000\n",
      "265/265 [==============================] - 0s 34us/step - loss: 89.6644 - val_loss: 109.6730\n",
      "Epoch 92/1000\n",
      "265/265 [==============================] - 0s 41us/step - loss: 87.7073 - val_loss: 107.6941\n",
      "Epoch 93/1000\n",
      "265/265 [==============================] - 0s 41us/step - loss: 86.7011 - val_loss: 106.7253\n",
      "Epoch 94/1000\n",
      "265/265 [==============================] - 0s 38us/step - loss: 84.8185 - val_loss: 106.1682\n",
      "Epoch 95/1000\n",
      "265/265 [==============================] - 0s 41us/step - loss: 82.8986 - val_loss: 104.4902\n",
      "Epoch 96/1000\n",
      "265/265 [==============================] - 0s 41us/step - loss: 81.5550 - val_loss: 103.3683\n",
      "Epoch 97/1000\n",
      "265/265 [==============================] - 0s 41us/step - loss: 80.2202 - val_loss: 103.0760\n",
      "Epoch 98/1000\n",
      "265/265 [==============================] - 0s 38us/step - loss: 78.5268 - val_loss: 101.1306\n",
      "Epoch 99/1000\n",
      "265/265 [==============================] - 0s 41us/step - loss: 77.1737 - val_loss: 100.0137\n",
      "Epoch 100/1000\n",
      "265/265 [==============================] - 0s 41us/step - loss: 75.8003 - val_loss: 99.3400\n",
      "Epoch 101/1000\n",
      "265/265 [==============================] - 0s 38us/step - loss: 74.5063 - val_loss: 98.7146\n",
      "Epoch 102/1000\n",
      "265/265 [==============================] - 0s 38us/step - loss: 73.1866 - val_loss: 97.4298\n",
      "Epoch 103/1000\n",
      "265/265 [==============================] - 0s 45us/step - loss: 72.1700 - val_loss: 97.0342\n",
      "Epoch 104/1000\n",
      "265/265 [==============================] - 0s 38us/step - loss: 71.2340 - val_loss: 96.0762\n",
      "Epoch 105/1000\n",
      "265/265 [==============================] - 0s 38us/step - loss: 70.3833 - val_loss: 95.7185\n",
      "Epoch 106/1000\n",
      "265/265 [==============================] - 0s 41us/step - loss: 69.1273 - val_loss: 94.3258\n",
      "Epoch 107/1000\n",
      "265/265 [==============================] - 0s 38us/step - loss: 67.5946 - val_loss: 94.5601\n",
      "Epoch 108/1000\n",
      "265/265 [==============================] - 0s 34us/step - loss: 67.2135 - val_loss: 92.9797\n",
      "Epoch 109/1000\n",
      "265/265 [==============================] - 0s 41us/step - loss: 65.7915 - val_loss: 93.1373\n",
      "Epoch 110/1000\n",
      "265/265 [==============================] - 0s 41us/step - loss: 64.5860 - val_loss: 92.2288\n",
      "Epoch 111/1000\n",
      "265/265 [==============================] - 0s 38us/step - loss: 64.1834 - val_loss: 92.3026\n",
      "Epoch 112/1000\n",
      "265/265 [==============================] - 0s 42us/step - loss: 63.7823 - val_loss: 91.3638\n",
      "Epoch 113/1000\n",
      "265/265 [==============================] - 0s 41us/step - loss: 62.1325 - val_loss: 90.6391\n",
      "Epoch 114/1000\n",
      "265/265 [==============================] - 0s 38us/step - loss: 61.4489 - val_loss: 90.8666\n",
      "Epoch 115/1000\n",
      "265/265 [==============================] - 0s 38us/step - loss: 60.9659 - val_loss: 89.9289\n",
      "Epoch 116/1000\n",
      "265/265 [==============================] - 0s 42us/step - loss: 60.0581 - val_loss: 89.8045\n",
      "Epoch 117/1000\n",
      "265/265 [==============================] - 0s 38us/step - loss: 59.3048 - val_loss: 88.9266\n",
      "Epoch 118/1000\n",
      "265/265 [==============================] - 0s 38us/step - loss: 58.7938 - val_loss: 88.3404\n",
      "Epoch 119/1000\n",
      "265/265 [==============================] - 0s 42us/step - loss: 58.0458 - val_loss: 88.3966\n",
      "Epoch 120/1000\n",
      "265/265 [==============================] - 0s 38us/step - loss: 57.8213 - val_loss: 87.8387\n",
      "Epoch 121/1000\n",
      "265/265 [==============================] - 0s 38us/step - loss: 56.8408 - val_loss: 87.2515\n",
      "Epoch 122/1000\n",
      "265/265 [==============================] - 0s 45us/step - loss: 56.6110 - val_loss: 87.4341\n",
      "Epoch 123/1000\n",
      "265/265 [==============================] - 0s 45us/step - loss: 56.5795 - val_loss: 87.1914\n",
      "Epoch 124/1000\n",
      "265/265 [==============================] - 0s 45us/step - loss: 55.8332 - val_loss: 86.4967\n",
      "Epoch 125/1000\n",
      "265/265 [==============================] - 0s 45us/step - loss: 55.0309 - val_loss: 86.8572\n",
      "Epoch 126/1000\n",
      "265/265 [==============================] - 0s 49us/step - loss: 54.8830 - val_loss: 86.1949\n",
      "Epoch 127/1000\n",
      "265/265 [==============================] - 0s 60us/step - loss: 54.4329 - val_loss: 86.0003\n",
      "Epoch 128/1000\n",
      "265/265 [==============================] - 0s 49us/step - loss: 53.9153 - val_loss: 85.9553\n",
      "Epoch 129/1000\n",
      "265/265 [==============================] - 0s 45us/step - loss: 53.4035 - val_loss: 85.6775\n",
      "Epoch 130/1000\n",
      "265/265 [==============================] - 0s 45us/step - loss: 52.8199 - val_loss: 85.0448\n",
      "Epoch 131/1000\n",
      "265/265 [==============================] - 0s 42us/step - loss: 53.0378 - val_loss: 85.5025\n",
      "Epoch 132/1000\n",
      "265/265 [==============================] - 0s 45us/step - loss: 52.2696 - val_loss: 84.8083\n",
      "Epoch 133/1000\n",
      "265/265 [==============================] - 0s 45us/step - loss: 52.1904 - val_loss: 84.6860\n",
      "Epoch 134/1000\n",
      "265/265 [==============================] - 0s 41us/step - loss: 51.6118 - val_loss: 84.0420\n",
      "Epoch 135/1000\n",
      "265/265 [==============================] - 0s 49us/step - loss: 51.1354 - val_loss: 84.0852\n",
      "Epoch 136/1000\n",
      "265/265 [==============================] - 0s 45us/step - loss: 51.2602 - val_loss: 83.9548\n",
      "Epoch 137/1000\n",
      "265/265 [==============================] - 0s 45us/step - loss: 50.9614 - val_loss: 83.1794\n",
      "Epoch 138/1000\n",
      "265/265 [==============================] - 0s 45us/step - loss: 50.4580 - val_loss: 83.1154\n",
      "Epoch 139/1000\n",
      "265/265 [==============================] - 0s 53us/step - loss: 50.2067 - val_loss: 82.7909\n",
      "Epoch 140/1000\n",
      "265/265 [==============================] - 0s 49us/step - loss: 50.1962 - val_loss: 82.3259\n",
      "Epoch 141/1000\n",
      "265/265 [==============================] - 0s 45us/step - loss: 49.3198 - val_loss: 82.3126\n",
      "Epoch 142/1000\n",
      "265/265 [==============================] - 0s 49us/step - loss: 49.2437 - val_loss: 81.6192\n",
      "Epoch 143/1000\n",
      "265/265 [==============================] - 0s 41us/step - loss: 49.1393 - val_loss: 81.2559\n",
      "Epoch 144/1000\n",
      "265/265 [==============================] - 0s 41us/step - loss: 48.8104 - val_loss: 81.1575\n",
      "Epoch 145/1000\n",
      "265/265 [==============================] - 0s 53us/step - loss: 48.5357 - val_loss: 80.8957\n",
      "Epoch 146/1000\n",
      "265/265 [==============================] - 0s 41us/step - loss: 48.3672 - val_loss: 80.8053\n",
      "Epoch 147/1000\n",
      "265/265 [==============================] - 0s 45us/step - loss: 47.9788 - val_loss: 80.9618\n",
      "Epoch 148/1000\n",
      "265/265 [==============================] - 0s 45us/step - loss: 47.8738 - val_loss: 80.9238\n",
      "Epoch 149/1000\n",
      "265/265 [==============================] - 0s 49us/step - loss: 47.6402 - val_loss: 80.7998\n",
      "Epoch 150/1000\n",
      "265/265 [==============================] - 0s 49us/step - loss: 48.0121 - val_loss: 80.4963\n",
      "Epoch 151/1000\n",
      "265/265 [==============================] - 0s 53us/step - loss: 47.3127 - val_loss: 80.0924\n",
      "Epoch 152/1000\n"
     ]
    },
    {
     "name": "stdout",
     "output_type": "stream",
     "text": [
      "265/265 [==============================] - 0s 41us/step - loss: 47.5507 - val_loss: 79.9800\n",
      "Epoch 153/1000\n",
      "265/265 [==============================] - 0s 45us/step - loss: 46.8923 - val_loss: 79.7291\n",
      "Epoch 154/1000\n",
      "265/265 [==============================] - 0s 45us/step - loss: 46.4616 - val_loss: 79.2078\n",
      "Epoch 155/1000\n",
      "265/265 [==============================] - 0s 45us/step - loss: 46.3565 - val_loss: 78.8165\n",
      "Epoch 156/1000\n",
      "265/265 [==============================] - 0s 49us/step - loss: 46.3019 - val_loss: 78.6168\n",
      "Epoch 157/1000\n",
      "265/265 [==============================] - 0s 45us/step - loss: 46.5662 - val_loss: 78.6084\n",
      "Epoch 158/1000\n",
      "265/265 [==============================] - 0s 53us/step - loss: 46.9059 - val_loss: 78.1452\n",
      "Epoch 159/1000\n",
      "265/265 [==============================] - 0s 45us/step - loss: 46.0335 - val_loss: 77.7635\n",
      "Epoch 160/1000\n",
      "265/265 [==============================] - 0s 41us/step - loss: 45.5049 - val_loss: 78.0042\n",
      "Epoch 161/1000\n",
      "265/265 [==============================] - 0s 45us/step - loss: 46.0623 - val_loss: 77.1224\n",
      "Epoch 162/1000\n",
      "265/265 [==============================] - 0s 45us/step - loss: 46.4513 - val_loss: 77.0553\n",
      "Epoch 163/1000\n",
      "265/265 [==============================] - 0s 45us/step - loss: 45.2745 - val_loss: 77.1837\n",
      "Epoch 164/1000\n",
      "265/265 [==============================] - 0s 41us/step - loss: 45.0451 - val_loss: 76.6099\n",
      "Epoch 165/1000\n",
      "265/265 [==============================] - 0s 45us/step - loss: 44.9897 - val_loss: 76.3257\n",
      "Epoch 166/1000\n",
      "265/265 [==============================] - 0s 41us/step - loss: 44.5910 - val_loss: 75.9200\n",
      "Epoch 167/1000\n",
      "265/265 [==============================] - 0s 49us/step - loss: 44.4131 - val_loss: 75.7928\n",
      "Epoch 168/1000\n",
      "265/265 [==============================] - 0s 41us/step - loss: 44.4418 - val_loss: 76.3527\n",
      "Epoch 169/1000\n",
      "265/265 [==============================] - 0s 41us/step - loss: 44.3286 - val_loss: 75.7231\n",
      "Epoch 170/1000\n",
      "265/265 [==============================] - 0s 45us/step - loss: 44.0809 - val_loss: 75.1624\n",
      "Epoch 171/1000\n",
      "265/265 [==============================] - 0s 56us/step - loss: 44.3450 - val_loss: 75.1013\n",
      "Epoch 172/1000\n",
      "265/265 [==============================] - 0s 64us/step - loss: 43.9128 - val_loss: 74.8942\n",
      "Epoch 173/1000\n",
      "265/265 [==============================] - 0s 64us/step - loss: 43.4304 - val_loss: 74.9425\n",
      "Epoch 174/1000\n",
      "265/265 [==============================] - 0s 45us/step - loss: 44.0692 - val_loss: 73.8185\n",
      "Epoch 175/1000\n",
      "265/265 [==============================] - 0s 49us/step - loss: 43.6871 - val_loss: 73.5256\n",
      "Epoch 176/1000\n",
      "265/265 [==============================] - 0s 49us/step - loss: 43.2567 - val_loss: 73.5274\n",
      "Epoch 177/1000\n",
      "265/265 [==============================] - ETA: 0s - loss: 41.33 - 0s 49us/step - loss: 43.2364 - val_loss: 73.2068\n",
      "Epoch 178/1000\n",
      "265/265 [==============================] - 0s 45us/step - loss: 43.0916 - val_loss: 72.7839\n",
      "Epoch 179/1000\n",
      "265/265 [==============================] - 0s 41us/step - loss: 43.3114 - val_loss: 72.6032\n",
      "Epoch 180/1000\n",
      "265/265 [==============================] - 0s 45us/step - loss: 43.4462 - val_loss: 73.2433\n",
      "Epoch 181/1000\n",
      "265/265 [==============================] - 0s 56us/step - loss: 44.0563 - val_loss: 72.4056\n",
      "Epoch 182/1000\n",
      "265/265 [==============================] - 0s 53us/step - loss: 43.1002 - val_loss: 72.4737\n",
      "Epoch 183/1000\n",
      "265/265 [==============================] - 0s 64us/step - loss: 42.8706 - val_loss: 72.8364\n",
      "Epoch 184/1000\n",
      "265/265 [==============================] - 0s 53us/step - loss: 42.4950 - val_loss: 71.9286\n",
      "Epoch 185/1000\n",
      "265/265 [==============================] - 0s 49us/step - loss: 42.8594 - val_loss: 72.1218\n",
      "Epoch 186/1000\n",
      "265/265 [==============================] - 0s 53us/step - loss: 42.5654 - val_loss: 71.6833\n",
      "Epoch 187/1000\n",
      "265/265 [==============================] - 0s 41us/step - loss: 43.3147 - val_loss: 71.9221\n",
      "Epoch 188/1000\n",
      "265/265 [==============================] - 0s 38us/step - loss: 43.0009 - val_loss: 71.3850\n",
      "Epoch 189/1000\n",
      "265/265 [==============================] - 0s 53us/step - loss: 41.8622 - val_loss: 71.2262\n",
      "Epoch 190/1000\n",
      "265/265 [==============================] - 0s 41us/step - loss: 41.8353 - val_loss: 70.9586\n",
      "Epoch 191/1000\n",
      "265/265 [==============================] - 0s 49us/step - loss: 41.6902 - val_loss: 70.7983\n",
      "Epoch 192/1000\n",
      "265/265 [==============================] - 0s 41us/step - loss: 41.7525 - val_loss: 70.8467\n",
      "Epoch 193/1000\n",
      "265/265 [==============================] - 0s 45us/step - loss: 41.6195 - val_loss: 70.7568\n",
      "Epoch 194/1000\n",
      "265/265 [==============================] - 0s 45us/step - loss: 41.7050 - val_loss: 70.6997\n",
      "Epoch 195/1000\n",
      "265/265 [==============================] - 0s 38us/step - loss: 41.3793 - val_loss: 70.6825\n",
      "Epoch 196/1000\n",
      "265/265 [==============================] - 0s 45us/step - loss: 41.3599 - val_loss: 70.6740\n",
      "Epoch 197/1000\n",
      "265/265 [==============================] - 0s 45us/step - loss: 41.2896 - val_loss: 70.1394\n",
      "Epoch 198/1000\n",
      "265/265 [==============================] - 0s 45us/step - loss: 41.0921 - val_loss: 69.9810\n",
      "Epoch 199/1000\n",
      "265/265 [==============================] - 0s 41us/step - loss: 40.9566 - val_loss: 69.4765\n",
      "Epoch 200/1000\n",
      "265/265 [==============================] - 0s 49us/step - loss: 41.0503 - val_loss: 69.6843\n",
      "Epoch 201/1000\n",
      "265/265 [==============================] - 0s 45us/step - loss: 41.5216 - val_loss: 69.4269\n",
      "Epoch 202/1000\n",
      "265/265 [==============================] - 0s 41us/step - loss: 41.1034 - val_loss: 69.2111\n",
      "Epoch 203/1000\n",
      "265/265 [==============================] - 0s 45us/step - loss: 40.9698 - val_loss: 69.1988\n",
      "Epoch 204/1000\n",
      "265/265 [==============================] - 0s 41us/step - loss: 41.1771 - val_loss: 68.7317\n",
      "Epoch 205/1000\n",
      "265/265 [==============================] - 0s 41us/step - loss: 40.5121 - val_loss: 69.2238\n",
      "Epoch 206/1000\n",
      "265/265 [==============================] - 0s 49us/step - loss: 40.6571 - val_loss: 68.5362\n",
      "Epoch 207/1000\n",
      "265/265 [==============================] - 0s 45us/step - loss: 40.6305 - val_loss: 68.2180\n",
      "Epoch 208/1000\n",
      "265/265 [==============================] - 0s 41us/step - loss: 40.5513 - val_loss: 68.4648\n",
      "Epoch 209/1000\n",
      "265/265 [==============================] - 0s 45us/step - loss: 40.4809 - val_loss: 68.2004\n",
      "Epoch 210/1000\n",
      "265/265 [==============================] - 0s 41us/step - loss: 40.2412 - val_loss: 68.1935\n",
      "Epoch 211/1000\n",
      "265/265 [==============================] - 0s 45us/step - loss: 40.3303 - val_loss: 67.9410\n",
      "Epoch 212/1000\n",
      "265/265 [==============================] - 0s 45us/step - loss: 40.9067 - val_loss: 67.9304\n",
      "Epoch 213/1000\n",
      "265/265 [==============================] - 0s 45us/step - loss: 40.0830 - val_loss: 67.5431\n",
      "Epoch 214/1000\n",
      "265/265 [==============================] - 0s 45us/step - loss: 40.0898 - val_loss: 67.5990\n",
      "Epoch 215/1000\n",
      "265/265 [==============================] - 0s 41us/step - loss: 40.0081 - val_loss: 67.8724\n",
      "Epoch 216/1000\n",
      "265/265 [==============================] - 0s 45us/step - loss: 39.9989 - val_loss: 67.7619\n",
      "Epoch 217/1000\n",
      "265/265 [==============================] - 0s 41us/step - loss: 39.7319 - val_loss: 67.3052\n",
      "Epoch 218/1000\n",
      "265/265 [==============================] - ETA: 0s - loss: 30.06 - 0s 49us/step - loss: 39.6976 - val_loss: 67.1463\n",
      "Epoch 219/1000\n",
      "265/265 [==============================] - 0s 83us/step - loss: 39.7010 - val_loss: 66.9541\n",
      "Epoch 220/1000\n",
      "265/265 [==============================] - 0s 49us/step - loss: 39.4624 - val_loss: 66.8424\n",
      "Epoch 221/1000\n",
      "265/265 [==============================] - 0s 41us/step - loss: 39.5889 - val_loss: 67.1345\n",
      "Epoch 222/1000\n",
      "265/265 [==============================] - 0s 53us/step - loss: 40.0853 - val_loss: 66.7202\n",
      "Epoch 223/1000\n",
      "265/265 [==============================] - 0s 49us/step - loss: 39.7288 - val_loss: 66.3375\n",
      "Epoch 224/1000\n",
      "265/265 [==============================] - 0s 45us/step - loss: 40.0534 - val_loss: 66.3517\n",
      "Epoch 225/1000\n",
      "265/265 [==============================] - 0s 45us/step - loss: 39.4935 - val_loss: 65.9646\n",
      "Epoch 226/1000\n",
      "265/265 [==============================] - 0s 45us/step - loss: 39.2003 - val_loss: 65.9109\n",
      "Epoch 227/1000\n",
      "265/265 [==============================] - 0s 45us/step - loss: 39.2973 - val_loss: 65.6924\n",
      "Epoch 228/1000\n"
     ]
    },
    {
     "name": "stdout",
     "output_type": "stream",
     "text": [
      "265/265 [==============================] - 0s 45us/step - loss: 39.4238 - val_loss: 65.5639\n",
      "Epoch 229/1000\n",
      "265/265 [==============================] - 0s 49us/step - loss: 39.4377 - val_loss: 65.7345\n",
      "Epoch 230/1000\n",
      "265/265 [==============================] - 0s 41us/step - loss: 39.1171 - val_loss: 65.3058\n",
      "Epoch 231/1000\n",
      "265/265 [==============================] - 0s 41us/step - loss: 39.7240 - val_loss: 66.0465\n",
      "Epoch 232/1000\n",
      "265/265 [==============================] - 0s 49us/step - loss: 39.2936 - val_loss: 65.1933\n",
      "Epoch 233/1000\n",
      "265/265 [==============================] - 0s 41us/step - loss: 39.8676 - val_loss: 65.3604\n",
      "Epoch 234/1000\n",
      "265/265 [==============================] - 0s 41us/step - loss: 40.1172 - val_loss: 65.1207\n",
      "Epoch 235/1000\n",
      "265/265 [==============================] - 0s 45us/step - loss: 39.7571 - val_loss: 65.0689\n",
      "Epoch 236/1000\n",
      "265/265 [==============================] - 0s 41us/step - loss: 38.9234 - val_loss: 65.1718\n",
      "Epoch 237/1000\n",
      "265/265 [==============================] - 0s 38us/step - loss: 38.7101 - val_loss: 64.8173\n",
      "Epoch 238/1000\n",
      "265/265 [==============================] - 0s 41us/step - loss: 38.6273 - val_loss: 64.5911\n",
      "Epoch 239/1000\n",
      "265/265 [==============================] - 0s 41us/step - loss: 38.6384 - val_loss: 64.4543\n",
      "Epoch 240/1000\n",
      "265/265 [==============================] - 0s 38us/step - loss: 38.7142 - val_loss: 64.2408\n",
      "Epoch 241/1000\n",
      "265/265 [==============================] - 0s 41us/step - loss: 38.7582 - val_loss: 64.1936\n",
      "Epoch 242/1000\n",
      "265/265 [==============================] - 0s 45us/step - loss: 38.6734 - val_loss: 64.2595\n",
      "Epoch 243/1000\n",
      "265/265 [==============================] - 0s 49us/step - loss: 38.5226 - val_loss: 64.4999\n",
      "Epoch 244/1000\n",
      "265/265 [==============================] - 0s 41us/step - loss: 38.3689 - val_loss: 64.6892\n",
      "Epoch 245/1000\n",
      "265/265 [==============================] - 0s 41us/step - loss: 38.5555 - val_loss: 64.7858\n",
      "Epoch 246/1000\n",
      "265/265 [==============================] - 0s 53us/step - loss: 38.2449 - val_loss: 64.8096\n",
      "Epoch 247/1000\n",
      "265/265 [==============================] - 0s 41us/step - loss: 38.2618 - val_loss: 64.5887\n",
      "Epoch 248/1000\n",
      "265/265 [==============================] - 0s 45us/step - loss: 39.8135 - val_loss: 64.6930\n",
      "Epoch 249/1000\n",
      "265/265 [==============================] - 0s 41us/step - loss: 39.3779 - val_loss: 64.3880\n",
      "Epoch 250/1000\n",
      "265/265 [==============================] - 0s 45us/step - loss: 38.2074 - val_loss: 64.2894\n",
      "Epoch 251/1000\n",
      "265/265 [==============================] - 0s 45us/step - loss: 38.3945 - val_loss: 63.8419\n",
      "Epoch 252/1000\n",
      "265/265 [==============================] - 0s 45us/step - loss: 39.2399 - val_loss: 63.5744\n",
      "Epoch 253/1000\n",
      "265/265 [==============================] - 0s 41us/step - loss: 38.1007 - val_loss: 63.7355\n",
      "Epoch 254/1000\n",
      "265/265 [==============================] - 0s 45us/step - loss: 38.0821 - val_loss: 63.4505\n",
      "Epoch 255/1000\n",
      "265/265 [==============================] - 0s 41us/step - loss: 38.5420 - val_loss: 63.2142\n",
      "Epoch 256/1000\n",
      "265/265 [==============================] - 0s 45us/step - loss: 37.7060 - val_loss: 63.1300\n",
      "Epoch 257/1000\n",
      "265/265 [==============================] - 0s 45us/step - loss: 37.9292 - val_loss: 63.2830\n",
      "Epoch 258/1000\n",
      "265/265 [==============================] - 0s 41us/step - loss: 37.7449 - val_loss: 63.0058\n",
      "Epoch 259/1000\n",
      "265/265 [==============================] - 0s 45us/step - loss: 37.8119 - val_loss: 63.1718\n",
      "Epoch 260/1000\n",
      "265/265 [==============================] - 0s 45us/step - loss: 37.8617 - val_loss: 63.0550\n",
      "Epoch 261/1000\n",
      "265/265 [==============================] - 0s 41us/step - loss: 38.0794 - val_loss: 62.9225\n",
      "Epoch 262/1000\n",
      "265/265 [==============================] - 0s 45us/step - loss: 37.7798 - val_loss: 62.8009\n",
      "Epoch 263/1000\n",
      "265/265 [==============================] - 0s 45us/step - loss: 37.8974 - val_loss: 62.9619\n",
      "Epoch 264/1000\n",
      "265/265 [==============================] - 0s 45us/step - loss: 37.7197 - val_loss: 62.6697\n",
      "Epoch 265/1000\n",
      "265/265 [==============================] - 0s 49us/step - loss: 37.7734 - val_loss: 62.6365\n",
      "Epoch 266/1000\n",
      "265/265 [==============================] - 0s 41us/step - loss: 38.2871 - val_loss: 62.3590\n",
      "Epoch 267/1000\n",
      "265/265 [==============================] - 0s 41us/step - loss: 37.3657 - val_loss: 62.3516\n",
      "Epoch 268/1000\n",
      "265/265 [==============================] - 0s 41us/step - loss: 37.3318 - val_loss: 62.3989\n",
      "Epoch 269/1000\n",
      "265/265 [==============================] - 0s 45us/step - loss: 37.2027 - val_loss: 62.5180\n",
      "Epoch 270/1000\n",
      "265/265 [==============================] - 0s 49us/step - loss: 37.1768 - val_loss: 62.3886\n",
      "Epoch 271/1000\n",
      "265/265 [==============================] - 0s 41us/step - loss: 37.0667 - val_loss: 62.6001\n",
      "Epoch 272/1000\n",
      "265/265 [==============================] - 0s 45us/step - loss: 37.5296 - val_loss: 62.2369\n",
      "Epoch 273/1000\n",
      "265/265 [==============================] - 0s 41us/step - loss: 38.5175 - val_loss: 61.8832\n",
      "Epoch 274/1000\n",
      "265/265 [==============================] - 0s 45us/step - loss: 38.0597 - val_loss: 61.6637\n",
      "Epoch 275/1000\n",
      "265/265 [==============================] - 0s 41us/step - loss: 37.3554 - val_loss: 61.5840\n",
      "Epoch 276/1000\n",
      "265/265 [==============================] - 0s 41us/step - loss: 37.3537 - val_loss: 61.5664\n",
      "Epoch 277/1000\n",
      "265/265 [==============================] - 0s 49us/step - loss: 36.9808 - val_loss: 61.8833\n",
      "Epoch 278/1000\n",
      "265/265 [==============================] - 0s 53us/step - loss: 37.9920 - val_loss: 62.1215\n",
      "Epoch 279/1000\n",
      "265/265 [==============================] - 0s 53us/step - loss: 37.5195 - val_loss: 62.0839\n",
      "Epoch 280/1000\n",
      "265/265 [==============================] - 0s 53us/step - loss: 37.5329 - val_loss: 62.2302\n",
      "Epoch 281/1000\n",
      "265/265 [==============================] - 0s 53us/step - loss: 36.9259 - val_loss: 62.2372\n",
      "Epoch 282/1000\n",
      "265/265 [==============================] - 0s 53us/step - loss: 37.2975 - val_loss: 62.2036\n",
      "Epoch 283/1000\n",
      "265/265 [==============================] - 0s 41us/step - loss: 36.6015 - val_loss: 62.3660\n",
      "Epoch 284/1000\n",
      "265/265 [==============================] - 0s 49us/step - loss: 36.5461 - val_loss: 61.9523\n",
      "Epoch 285/1000\n",
      "265/265 [==============================] - 0s 45us/step - loss: 36.4813 - val_loss: 61.8634\n",
      "Epoch 286/1000\n",
      "265/265 [==============================] - 0s 49us/step - loss: 36.6096 - val_loss: 61.9331\n",
      "83/83 [==============================] - 0s 36us/step\n"
     ]
    }
   ],
   "source": [
    "#Fit the model to the training set and calculate loss\n",
    "\n",
    "#Import early stopping -\n",
    "from keras.callbacks import EarlyStopping\n",
    "early_stopping_monitor = EarlyStopping(patience=10)\n",
    "\n",
    "#train model\n",
    "\n",
    "hist = model.fit(x_train, y_train, validation_split=0.2, epochs=1000, callbacks=[early_stopping_monitor])\n",
    "\n",
    "#Calculate the predictions on the test: set x_test which is 0.5 of the entire set\n",
    "preds = model.predict(x_test)\n",
    "\n",
    "#Evaluate the performance of the model - output the loss function\n",
    "evals = model.evaluate(x_test, y_test)\n",
    "#print (\"Loss value is:\", float(\"{0:.2f}\".format(evals)))"
   ]
  },
  {
   "cell_type": "markdown",
   "metadata": {},
   "source": [
    "Plot of model loss derived from REF [https://hackernoon.com/build-your-first-neural-network-to-predict-house-prices-with-keras-3fb0839680f4] and understanding from REF []"
   ]
  },
  {
   "cell_type": "code",
   "execution_count": 36,
   "metadata": {},
   "outputs": [
    {
     "ename": "NameError",
     "evalue": "name 'hist' is not defined",
     "output_type": "error",
     "traceback": [
      "\u001b[1;31m---------------------------------------------------------------------------\u001b[0m",
      "\u001b[1;31mNameError\u001b[0m                                 Traceback (most recent call last)",
      "\u001b[1;32m<ipython-input-36-59e24d931c87>\u001b[0m in \u001b[0;36m<module>\u001b[1;34m\u001b[0m\n\u001b[0;32m      1\u001b[0m \u001b[0mplt\u001b[0m\u001b[1;33m.\u001b[0m\u001b[0mfigure\u001b[0m\u001b[1;33m(\u001b[0m\u001b[0mfigsize\u001b[0m\u001b[1;33m=\u001b[0m\u001b[1;33m(\u001b[0m\u001b[1;36m12\u001b[0m\u001b[1;33m,\u001b[0m \u001b[1;36m12\u001b[0m\u001b[1;33m)\u001b[0m\u001b[1;33m)\u001b[0m\u001b[1;33m\u001b[0m\u001b[1;33m\u001b[0m\u001b[0m\n\u001b[0;32m      2\u001b[0m \u001b[1;31m# summarize history for loss\u001b[0m\u001b[1;33m\u001b[0m\u001b[1;33m\u001b[0m\u001b[1;33m\u001b[0m\u001b[0m\n\u001b[1;32m----> 3\u001b[1;33m \u001b[0mplt\u001b[0m\u001b[1;33m.\u001b[0m\u001b[0mplot\u001b[0m\u001b[1;33m(\u001b[0m\u001b[0mhist\u001b[0m\u001b[1;33m.\u001b[0m\u001b[0mhistory\u001b[0m\u001b[1;33m[\u001b[0m\u001b[1;34m\"loss\"\u001b[0m\u001b[1;33m]\u001b[0m\u001b[1;33m)\u001b[0m\u001b[1;33m\u001b[0m\u001b[1;33m\u001b[0m\u001b[0m\n\u001b[0m\u001b[0;32m      4\u001b[0m \u001b[0mplt\u001b[0m\u001b[1;33m.\u001b[0m\u001b[0mplot\u001b[0m\u001b[1;33m(\u001b[0m\u001b[0mhist\u001b[0m\u001b[1;33m.\u001b[0m\u001b[0mhistory\u001b[0m\u001b[1;33m[\u001b[0m\u001b[1;34m\"val_loss\"\u001b[0m\u001b[1;33m]\u001b[0m\u001b[1;33m)\u001b[0m\u001b[1;33m\u001b[0m\u001b[1;33m\u001b[0m\u001b[0m\n\u001b[0;32m      5\u001b[0m \u001b[0mplt\u001b[0m\u001b[1;33m.\u001b[0m\u001b[0mtitle\u001b[0m\u001b[1;33m(\u001b[0m\u001b[1;34m\"Model Loss\"\u001b[0m\u001b[1;33m)\u001b[0m\u001b[1;33m\u001b[0m\u001b[1;33m\u001b[0m\u001b[0m\n",
      "\u001b[1;31mNameError\u001b[0m: name 'hist' is not defined"
     ]
    },
    {
     "data": {
      "text/plain": [
       "<Figure size 864x864 with 0 Axes>"
      ]
     },
     "metadata": {},
     "output_type": "display_data"
    }
   ],
   "source": [
    "plt.figure(figsize=(12, 12))\n",
    "# summarize history for loss\n",
    "plt.plot(hist.history[\"loss\"])\n",
    "plt.plot(hist.history[\"val_loss\"])\n",
    "plt.title(\"Model Loss\")\n",
    "plt.ylabel(\"Loss\")\n",
    "plt.xlabel(\"Epoch\")\n",
    "plt.legend([\"Train\", \"Val\"], loc=\"upper center\")\n",
    "plt.show()"
   ]
  },
  {
   "cell_type": "markdown",
   "metadata": {},
   "source": [
    "**TEST THE MODEL**"
   ]
  },
  {
   "cell_type": "markdown",
   "metadata": {},
   "source": [
    "The `model.fit` function iterates over the data set reducing the cost value until it reaches its minimum and outputs the result of the loss function. It can also be calculated independently using the `model.evaluate` function the result of which is seen below."
   ]
  },
  {
   "cell_type": "markdown",
   "metadata": {
    "scrolled": true
   },
   "source": [
    "# MODEL EVALUATION \n",
    "\n",
    "As calculated above"
   ]
  },
  {
   "cell_type": "code",
   "execution_count": 33,
   "metadata": {},
   "outputs": [
    {
     "name": "stdout",
     "output_type": "stream",
     "text": [
      "Loss value is: 35.23\n"
     ]
    }
   ],
   "source": [
    "model_eval = model.evaluate(x_train, y_train, verbose=0)\n",
    "\n",
    "print (\"Loss value is:\", float(\"{0:.3f}\".format(model_eval)))\n"
   ]
  },
  {
   "cell_type": "markdown",
   "metadata": {},
   "source": [
    "The above loss value 22.87 equates to a model inaccuracy of €22,870 i.e the average prediction is out by €22,870"
   ]
  },
  {
   "cell_type": "markdown",
   "metadata": {},
   "source": [
    "**QUICK COMPARISON OF ACTUAL V PREDICTED PRICES**"
   ]
  },
  {
   "cell_type": "code",
   "execution_count": 34,
   "metadata": {},
   "outputs": [
    {
     "name": "stdout",
     "output_type": "stream",
     "text": [
      "The first ten actual house price are \n",
      "    PRICE\n",
      "0   24.0\n",
      "1   21.6\n",
      "2   34.7\n",
      "3   33.4\n",
      "4   36.2\n",
      "5   28.7\n",
      "6   22.9\n",
      "7   27.1\n",
      "8   16.5\n",
      "9   18.9\n",
      "The first ten model predictions of house price are \n",
      " [[29.2509  ]\n",
      " [24.416447]\n",
      " [31.965616]\n",
      " [33.59317 ]\n",
      " [31.174128]\n",
      " [29.737644]\n",
      " [18.786839]\n",
      " [14.824043]\n",
      " [14.903916]\n",
      " [15.866766]]\n"
     ]
    }
   ],
   "source": [
    "#print first ten rows of dataset prices column\n",
    "first_10_Prices = bos.iloc[0:10, 13:15]\n",
    "\n",
    "print(\"The first ten actual house price are \\n\", first_10_Prices)\n",
    "\n",
    "y_true = bos['PRICE']\n",
    "y_pred = model.predict(x)\n",
    "\n",
    "#Output first 10 predictions\n",
    "print(\"The first ten model predictions of house price are \\n\",y_pred[:10])\n"
   ]
  },
  {
   "cell_type": "markdown",
   "metadata": {},
   "source": [
    "A quick comparison of the first ten actual v predicted house prices above reveals differences which vary from one comparison to another. From this we can summise that the model does not reliably predict house prices\n",
    "\n",
    "\n",
    "Learnings in the **TEST MODEL** above from REF [https://www.youtube.com/watch?v=zinEPDj7SD8]\n"
   ]
  },
  {
   "cell_type": "markdown",
   "metadata": {},
   "source": [
    "**PLOT OF PREDICTED HOUSE PRICE V ACTUAL**"
   ]
  },
  {
   "cell_type": "markdown",
   "metadata": {},
   "source": [
    "The following plot is of the first 100 actual V predicted house prices"
   ]
  },
  {
   "cell_type": "code",
   "execution_count": 35,
   "metadata": {},
   "outputs": [
    {
     "data": {
      "image/png": "[encoded data removed]",
      "text/plain": [
       "<Figure size 864x864 with 1 Axes>"
      ]
     },
     "metadata": {},
     "output_type": "display_data"
    }
   ],
   "source": [
    "#Plot of actual v predicted price of first 100 data points\n",
    "plt.figure(figsize=(12, 12))\n",
    "plt.plot(y_pred[:100], 'r-', label ='Prediction')\n",
    "plt.plot(y_true[:100], 'g', label = 'Actual')\n",
    "plt.title(\"Neural Network Prediction V Actual\")\n",
    "plt.ylabel(\"Price(x1000)\")\n",
    "plt.xlabel(\"Zone\")\n",
    "plt.legend([\"Prediction\", \"Actual\"], loc=\"upper left\")\n",
    "plt.show()"
   ]
  },
  {
   "cell_type": "code",
   "execution_count": 36,
   "metadata": {},
   "outputs": [
    {
     "name": "stdout",
     "output_type": "stream",
     "text": [
      "The Mean Square error is 127.0451\n"
     ]
    }
   ],
   "source": [
    "#Evaluate the Mean-Squared error\n",
    "\n",
    "error = np.mean(kr.losses.mean_squared_error(y_true, y_pred))\n",
    "\n",
    "#MSE of first 100 predictions\n",
    "print (\"The Mean Square error is\", error) \n",
    "      "
   ]
  },
  {
   "cell_type": "markdown",
   "metadata": {},
   "source": [
    "As can be seen above the mean square error is 139 on our test set and shows that the model is not accurately predicting unknowns but has a lower loss value of approx 5 on the training set.\n",
    "\n",
    "Models which produce a low loss function but fail to accurately predict test data may be over-fitting the test set i.e the model does not generalise well to unknowns. Various approaches are advised to prevent over-fitting\n",
    "\n",
    "\n",
    "REF: [Hands-On Machine Learning with Scikit-Learn, KERAS & TensorFlow; Geron, A.; O'Reilly; 2019, 2nd Ed, p.27]\n",
    "REF: [ https://towardsdatascience.com/soon-or-later-you-will-face-this-problem-c5f204e9f55a ]"
   ]
  },
  {
   "cell_type": "markdown",
   "metadata": {},
   "source": [
    "**REDUCTION OF OVERFITTING**"
   ]
  },
  {
   "cell_type": "markdown",
   "metadata": {},
   "source": [
    "Models which produce a low loss function but fail to accurately predict test data may be over-fitting the test set. Various approaches are advised to prevent over-fitting\n",
    "\n",
    "Originally the test_set had been set to 0.5 of the data. Changing it to 0.2 had no tangible effect on the model.\n",
    "\n",
    "This article referenced from 'towardsdatascience' Discuss\n",
    "\n",
    "REF [https://towardsdatascience.com/a-gentle-journey-from-linear-regression-to-neural-networks-68881590760e] \n",
    "\n",
    "* Reducing the number of parameters of the networks\n",
    "* Getting more data or \n",
    "* Using explicit regularisers (in the loss function or through a dropout process)\n",
    "\n",
    "It isn't possible to get more data as our dataset is limited. However it is possible to reduce the number of parameters.Regularisation may also help. The authors advise that neural networks with many parameters can be prone to overfitting.  REF: [Hands-On Machine Learning with Scikit-Learn, KERAS & TensorFlow; Geron, A.; O'Reilly; 2019, 2nd Ed, p.364-374]\n",
    "\n",
    "Regularisation is defined as \"constraining the model to make it simpler and reduce the risk of overfitting. `kernel_regularizer` and `activity_regularizer` are both regularisation functions in keras used above.\n",
    "\n",
    " REF: [Hands-On Machine Learning with Scikit-Learn, KERAS & TensorFlow; Geron, A.; O'Reilly; 2019, 2nd Ed, p.28]"
   ]
  },
  {
   "cell_type": "markdown",
   "metadata": {},
   "source": [
    "**Next Steps:** \n",
    "\n",
    "* Reduce the complexity of the model"
   ]
  },
  {
   "cell_type": "markdown",
   "metadata": {},
   "source": [
    "Very low loss value and a reduction of MSE obtained by reducing the number of parameters to:\n",
    "\n",
    "x = bos[['ZN', 'PTRATIO, 'LSTAT', 'RM']\n",
    "y = bos[['PRICE']]\n",
    "\n",
    "These x values were chosen as they showed the highest positive correlation lowest (negative) correlation with House price in the correlation matrix output in the inferential statistics section. The justification being that these variables had the highest influence on median house price of all the variables in the dataset\n",
    "\n",
    "Removal of the Charles River Dummy Variable had no effect on accuracy"
   ]
  },
  {
   "cell_type": "markdown",
   "metadata": {},
   "source": [
    "**LITERATURE SEARCH & OTHER APPROACHES**"
   ]
  },
  {
   "cell_type": "markdown",
   "metadata": {},
   "source": [
    "These authors https://machinelearningmastery.com/regression-tutorial-keras-deep-learning-library-python/ achieved a mean squared error of 23.33 similar to what we achieved using similar model parameters to us.\n",
    "\n",
    "https://github.com/DavidCico/Boston-House-Prices-With-Regression-Machine-Learning-and-Keras-Deep-Learning/blob/master/Boston_deeplearning_regression.ipynb also achieved a MSE of 25-27 also using similar optimisation functions\n",
    "\n",
    "This author REF [https://www.kaggle.com/amundtveit/neural-network-model-for-house-prices-keras] used an approcah on another house price dataset to remove outliers. Their house price dataset  had 1460 row with 81 features. 38 continuous features and 43 categorical feature. They excluded categorical features from their model. The appeared to generate a good regression line of predicted vs actual prices (but didn't publish a MSE)\n",
    "\n",
    "As  can be seen from the box plots in the inferential statistics section, some of the house price data that does not border the Charles River contains outliers. It may be a useful approach to exclude these points. Additionally it can be observed that in the distribution of house prices bordering/not bordering the river that there is a cluster of prices at 50,000. Intuitively it may be a case that the data for house prices was capped at 50,000 for some reason."
   ]
  },
  {
   "cell_type": "code",
   "execution_count": 37,
   "metadata": {},
   "outputs": [],
   "source": [
    "#copied from https://www.kaggle.com/amundtveit/neural-network-model-for-house-prices-keras/comments\n",
    "\n",
    "#from sklearn.ensemble import IsolationForest\n",
    "\n",
    "#clf = IsolationForest(max_samples = 100, random_state = 42)\n",
    "#clf.fit(y_train)\n",
    "#y_noano = clf.predict(y_train)\n",
    "#y_noano = pd.DataFrame(y_noano, columns = ['Top'])\n",
    "#y_noano[y_noano['Top'] == 1].index.values\n",
    "\n",
    "#y_train2 = y_train.iloc[y_noano[y_noano['Top'] == 1].index.values]\n",
    "#y_train2.reset_index(drop = True, inplace = True)\n",
    "#print(\"Number of Outliers:\", y_noano[y_noano['Top'] == -1].shape[0])\n",
    "#print(\"Number of rows without outliers:\", y_train.shape[0])"
   ]
  },
  {
   "cell_type": "markdown",
   "metadata": {},
   "source": [
    "The `IsolationForest` `scikitlearn` function above has isolated and identified 36 outliers in our training set."
   ]
  },
  {
   "cell_type": "markdown",
   "metadata": {},
   "source": [
    "*PLACEHOLDER* need a different approcah to remove outliers\n",
    "\n",
    "try https://towardsdatascience.com/ways-to-detect-and-remove-the-outliers-404d16608dba"
   ]
  },
  {
   "cell_type": "markdown",
   "metadata": {},
   "source": [
    "**SOME CODE TO REMOVE ALL VALUES = 50**"
   ]
  },
  {
   "cell_type": "code",
   "execution_count": 38,
   "metadata": {
    "scrolled": true
   },
   "outputs": [],
   "source": [
    "X = y_true\n",
    "\n",
    "X = list(filter(lambda x: x!= 50.0, X))\n",
    "\n",
    "#print(X)"
   ]
  },
  {
   "cell_type": "markdown",
   "metadata": {},
   "source": [
    "**Calculate the error when 50 is excluded from price**"
   ]
  },
  {
   "cell_type": "code",
   "execution_count": 39,
   "metadata": {
    "scrolled": true
   },
   "outputs": [
    {
     "name": "stdout",
     "output_type": "stream",
     "text": [
      "error = 105.16097\n"
     ]
    }
   ],
   "source": [
    "error = np.mean(kr.losses.mean_squared_error(X, y_pred))\n",
    "print(\"error =\",(error))"
   ]
  },
  {
   "cell_type": "markdown",
   "metadata": {},
   "source": [
    "The error value has dropped by excluding the price values at 50,000 dollars. It may now be worth investigating if removing all outliers from the dataset will improve prediction"
   ]
  },
  {
   "cell_type": "markdown",
   "metadata": {},
   "source": [
    "**CALCULATE Z SCORES FOR OUTLIERS**"
   ]
  },
  {
   "cell_type": "code",
   "execution_count": 40,
   "metadata": {},
   "outputs": [
    {
     "name": "stdout",
     "output_type": "stream",
     "text": [
      "[[0.41978194 0.28482986 1.2879095  ... 0.44105193 1.0755623  0.15968566]\n",
      " [0.41733926 0.48772236 0.59338101 ... 0.44105193 0.49243937 0.10152429]\n",
      " [0.41734159 0.48772236 0.59338101 ... 0.39642699 1.2087274  1.32424667]\n",
      " ...\n",
      " [0.41344658 0.48772236 0.11573841 ... 0.44105193 0.98304761 0.14880191]\n",
      " [0.40776407 0.48772236 0.11573841 ... 0.4032249  0.86530163 0.0579893 ]\n",
      " [0.41500016 0.48772236 0.11573841 ... 0.44105193 0.66905833 1.15724782]]\n"
     ]
    }
   ],
   "source": [
    "#REF [https://docs.scipy.org/doc/scipy/reference/generated/scipy.stats.zscore.html]\n",
    "\n",
    "z = np.abs(stats.zscore(bos))\n",
    "print(z)"
   ]
  },
  {
   "cell_type": "code",
   "execution_count": 41,
   "metadata": {},
   "outputs": [],
   "source": [
    " bos_o =bos[(z < 3).all(axis=1)]"
   ]
  }
 ],
 "metadata": {
  "kernelspec": {
   "display_name": "Python 3",
   "language": "python",
   "name": "python3"
  },
  "language_info": {
   "codemirror_mode": {
    "name": "ipython",
    "version": 3
   },
   "file_extension": ".py",
   "mimetype": "text/x-python",
   "name": "python",
   "nbconvert_exporter": "python",
   "pygments_lexer": "ipython3",
   "version": "3.7.1"
  }
 },
 "nbformat": 4,
 "nbformat_minor": 2
}
