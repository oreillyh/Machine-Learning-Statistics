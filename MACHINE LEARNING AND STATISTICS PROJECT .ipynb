{
 "cells": [
  {
   "cell_type": "markdown",
   "metadata": {},
   "source": [
    "# MACHINE LEARNING AND STATISTICS PROJECT\n",
    "\n",
    "## THE BOSTON HOUSE PRICES DATASET\n",
    "\n",
    "## HUGH O'REILLY\n",
    "\n",
    "## H.DIP Data Analytics GMIT\n"
   ]
  },
  {
   "cell_type": "markdown",
   "metadata": {},
   "source": [
    "## INTRODUCTION\n",
    " ___\n",
    "\n",
    "The Boston Housing Dataset consists of information derived from US census data of housing in the Boston Mass. area of the US. The publication originally discussed the problems associated with the use of housing market data to measure the willingness to pay for clean air.\n",
    "\n",
    "The dataset is taken from census tracts in the Boston Standard Metropolitan Statistical Area in 1970.\n",
    "\n",
    "*The data was originally published by Harrison, D. and Rubinfeld, D.L. 'Hedonic prices and the demand for clean air', J. Environ. Economics & Management, vol.5, 81-102, 1978.*\n",
    "\n",
    "Ref [https://www.sciencedirect.com/science/article/abs/pii/0095069678900062%5D]"
   ]
  },
  {
   "cell_type": "markdown",
   "metadata": {},
   "source": [
    "## OBJECTIVE\n",
    "___"
   ]
  },
  {
   "cell_type": "markdown",
   "metadata": {},
   "source": [
    "* To investigate if there is a significant difference in the median house prices between houses that are along the Charles River and those which aren't\n",
    "\n",
    "* To attempt to predict the median house price based on other variables in the dataset\n",
    "\n",
    "Understanding if there is a difference between the houses along the Charles River will help determine the investment value of properties in the area\n",
    "\n",
    "Similarly the ability to predict median house prices for a particular zone in Boston, based on the other variables associated with the property will enable us to determine the value of a property in a particular area and whether it may be worth investing in the area"
   ]
  },
  {
   "cell_type": "markdown",
   "metadata": {},
   "source": [
    "#TODO Insert image of boston"
   ]
  },
  {
   "cell_type": "markdown",
   "metadata": {},
   "source": [
    "## IMPORT AND SORT THE DATASET\n",
    "\n",
    "___\n"
   ]
  },
  {
   "cell_type": "code",
   "execution_count": 1,
   "metadata": {},
   "outputs": [
    {
     "name": "stderr",
     "output_type": "stream",
     "text": [
      "Using TensorFlow backend.\n"
     ]
    },
    {
     "name": "stdout",
     "output_type": "stream",
     "text": [
      "(506, 13)\n"
     ]
    }
   ],
   "source": [
    "#IMPORT LIBRARIES\n",
    "\n",
    "#Scipy Libraries\n",
    "import numpy as np\n",
    "import pandas as pd\n",
    "import scipy.stats as stats\n",
    "import statsmodels.api as sm\n",
    "import matplotlib.pyplot as plt\n",
    "import sklearn\n",
    "#Seaborn library\n",
    "import seaborn as sns\n",
    "#Keras libraries\n",
    "import keras as kr\n",
    "from keras import losses\n",
    "from keras import regularizers\n",
    "%matplotlib inline\n",
    "\n",
    "#IMPORT THE BOSTON HOUSE PRICES DATASET from sklearn\n",
    "   \n",
    "from sklearn.datasets import load_boston\n",
    "boston = load_boston()\n",
    "\n",
    "# Display the shape of the dataset\n",
    "print(boston.data.shape)\n",
    "\n",
    "# Ref [2]\n"
   ]
  },
  {
   "cell_type": "markdown",
   "metadata": {},
   "source": [
    "### INVESTIGATE AND SORT THE DATASET\n",
    "___"
   ]
  },
  {
   "cell_type": "code",
   "execution_count": 2,
   "metadata": {},
   "outputs": [
    {
     "data": {
      "text/plain": [
       "sklearn.utils.Bunch"
      ]
     },
     "execution_count": 2,
     "metadata": {},
     "output_type": "execute_result"
    }
   ],
   "source": [
    "#Determine the dataset type\n",
    "\n",
    "type(boston)"
   ]
  },
  {
   "cell_type": "markdown",
   "metadata": {},
   "source": [
    "The `type(boston)` command tells us that the dataset is a `sk.utils.Bunch` dataset type\n",
    "\n",
    "A 'bunch' dataset type:  Dictionary-like object, the interesting attributes are: ‘data’, the data to learn, ‘target’, the classification labels, ‘target_names’, the meaning of the labels, ‘feature_names’, the meaning of the features, ‘DESCR’, the full description of the dataset, ‘filename’. \n",
    "\n",
    "Ref [https://scikit-learn.org/stable/modules/generated/sklearn.datasets.load_iris.html]"
   ]
  },
  {
   "cell_type": "code",
   "execution_count": 3,
   "metadata": {},
   "outputs": [
    {
     "name": "stdout",
     "output_type": "stream",
     "text": [
      ".. _boston_dataset:\n",
      "\n",
      "Boston house prices dataset\n",
      "---------------------------\n",
      "\n",
      "**Data Set Characteristics:**  \n",
      "\n",
      "    :Number of Instances: 506 \n",
      "\n",
      "    :Number of Attributes: 13 numeric/categorical predictive. Median Value (attribute 14) is usually the target.\n",
      "\n",
      "    :Attribute Information (in order):\n",
      "        - CRIM     per capita crime rate by town\n",
      "        - ZN       proportion of residential land zoned for lots over 25,000 sq.ft.\n",
      "        - INDUS    proportion of non-retail business acres per town\n",
      "        - CHAS     Charles River dummy variable (= 1 if tract bounds river; 0 otherwise)\n",
      "        - NOX      nitric oxides concentration (parts per 10 million)\n",
      "        - RM       average number of rooms per dwelling\n",
      "        - AGE      proportion of owner-occupied units built prior to 1940\n",
      "        - DIS      weighted distances to five Boston employment centres\n",
      "        - RAD      index of accessibility to radial highways\n",
      "        - TAX      full-value property-tax rate per $10,000\n",
      "        - PTRATIO  pupil-teacher ratio by town\n",
      "        - B        1000(Bk - 0.63)^2 where Bk is the proportion of blacks by town\n",
      "        - LSTAT    % lower status of the population\n",
      "        - MEDV     Median value of owner-occupied homes in $1000's\n",
      "\n",
      "    :Missing Attribute Values: None\n",
      "\n",
      "    :Creator: Harrison, D. and Rubinfeld, D.L.\n",
      "\n",
      "This is a copy of UCI ML housing dataset.\n",
      "https://archive.ics.uci.edu/ml/machine-learning-databases/housing/\n",
      "\n",
      "\n",
      "This dataset was taken from the StatLib library which is maintained at Carnegie Mellon University.\n",
      "\n",
      "The Boston house-price data of Harrison, D. and Rubinfeld, D.L. 'Hedonic\n",
      "prices and the demand for clean air', J. Environ. Economics & Management,\n",
      "vol.5, 81-102, 1978.   Used in Belsley, Kuh & Welsch, 'Regression diagnostics\n",
      "...', Wiley, 1980.   N.B. Various transformations are used in the table on\n",
      "pages 244-261 of the latter.\n",
      "\n",
      "The Boston house-price data has been used in many machine learning papers that address regression\n",
      "problems.   \n",
      "     \n",
      ".. topic:: References\n",
      "\n",
      "   - Belsley, Kuh & Welsch, 'Regression diagnostics: Identifying Influential Data and Sources of Collinearity', Wiley, 1980. 244-261.\n",
      "   - Quinlan,R. (1993). Combining Instance-Based and Model-Based Learning. In Proceedings on the Tenth International Conference of Machine Learning, 236-243, University of Massachusetts, Amherst. Morgan Kaufmann.\n",
      "\n"
     ]
    }
   ],
   "source": [
    "#Display a desciption of the dataset\n",
    "\n",
    "print(boston.DESCR)"
   ]
  },
  {
   "cell_type": "markdown",
   "metadata": {},
   "source": [
    "The Data consists of 506 rows and 13 columns i.e. 506 instances containing 13 numeric/categorical variables as described above. \n",
    "\n",
    "There are 13 attribute variables an 1 target variable 'MEDV': which represents the median value for houses in each area i.e. 506 areas of Boston"
   ]
  },
  {
   "cell_type": "code",
   "execution_count": 4,
   "metadata": {
    "scrolled": true
   },
   "outputs": [
    {
     "data": {
      "text/html": [
       "<div>\n",
       "<style scoped>\n",
       "    .dataframe tbody tr th:only-of-type {\n",
       "        vertical-align: middle;\n",
       "    }\n",
       "\n",
       "    .dataframe tbody tr th {\n",
       "        vertical-align: top;\n",
       "    }\n",
       "\n",
       "    .dataframe thead th {\n",
       "        text-align: right;\n",
       "    }\n",
       "</style>\n",
       "<table border=\"1\" class=\"dataframe\">\n",
       "  <thead>\n",
       "    <tr style=\"text-align: right;\">\n",
       "      <th></th>\n",
       "      <th>0</th>\n",
       "      <th>1</th>\n",
       "      <th>2</th>\n",
       "      <th>3</th>\n",
       "      <th>4</th>\n",
       "      <th>5</th>\n",
       "      <th>6</th>\n",
       "      <th>7</th>\n",
       "      <th>8</th>\n",
       "      <th>9</th>\n",
       "      <th>10</th>\n",
       "      <th>11</th>\n",
       "      <th>12</th>\n",
       "    </tr>\n",
       "  </thead>\n",
       "  <tbody>\n",
       "    <tr>\n",
       "      <th>0</th>\n",
       "      <td>0.00632</td>\n",
       "      <td>18.0</td>\n",
       "      <td>2.31</td>\n",
       "      <td>0.0</td>\n",
       "      <td>0.538</td>\n",
       "      <td>6.575</td>\n",
       "      <td>65.2</td>\n",
       "      <td>4.0900</td>\n",
       "      <td>1.0</td>\n",
       "      <td>296.0</td>\n",
       "      <td>15.3</td>\n",
       "      <td>396.90</td>\n",
       "      <td>4.98</td>\n",
       "    </tr>\n",
       "    <tr>\n",
       "      <th>1</th>\n",
       "      <td>0.02731</td>\n",
       "      <td>0.0</td>\n",
       "      <td>7.07</td>\n",
       "      <td>0.0</td>\n",
       "      <td>0.469</td>\n",
       "      <td>6.421</td>\n",
       "      <td>78.9</td>\n",
       "      <td>4.9671</td>\n",
       "      <td>2.0</td>\n",
       "      <td>242.0</td>\n",
       "      <td>17.8</td>\n",
       "      <td>396.90</td>\n",
       "      <td>9.14</td>\n",
       "    </tr>\n",
       "    <tr>\n",
       "      <th>2</th>\n",
       "      <td>0.02729</td>\n",
       "      <td>0.0</td>\n",
       "      <td>7.07</td>\n",
       "      <td>0.0</td>\n",
       "      <td>0.469</td>\n",
       "      <td>7.185</td>\n",
       "      <td>61.1</td>\n",
       "      <td>4.9671</td>\n",
       "      <td>2.0</td>\n",
       "      <td>242.0</td>\n",
       "      <td>17.8</td>\n",
       "      <td>392.83</td>\n",
       "      <td>4.03</td>\n",
       "    </tr>\n",
       "    <tr>\n",
       "      <th>3</th>\n",
       "      <td>0.03237</td>\n",
       "      <td>0.0</td>\n",
       "      <td>2.18</td>\n",
       "      <td>0.0</td>\n",
       "      <td>0.458</td>\n",
       "      <td>6.998</td>\n",
       "      <td>45.8</td>\n",
       "      <td>6.0622</td>\n",
       "      <td>3.0</td>\n",
       "      <td>222.0</td>\n",
       "      <td>18.7</td>\n",
       "      <td>394.63</td>\n",
       "      <td>2.94</td>\n",
       "    </tr>\n",
       "    <tr>\n",
       "      <th>4</th>\n",
       "      <td>0.06905</td>\n",
       "      <td>0.0</td>\n",
       "      <td>2.18</td>\n",
       "      <td>0.0</td>\n",
       "      <td>0.458</td>\n",
       "      <td>7.147</td>\n",
       "      <td>54.2</td>\n",
       "      <td>6.0622</td>\n",
       "      <td>3.0</td>\n",
       "      <td>222.0</td>\n",
       "      <td>18.7</td>\n",
       "      <td>396.90</td>\n",
       "      <td>5.33</td>\n",
       "    </tr>\n",
       "    <tr>\n",
       "      <th>5</th>\n",
       "      <td>0.02985</td>\n",
       "      <td>0.0</td>\n",
       "      <td>2.18</td>\n",
       "      <td>0.0</td>\n",
       "      <td>0.458</td>\n",
       "      <td>6.430</td>\n",
       "      <td>58.7</td>\n",
       "      <td>6.0622</td>\n",
       "      <td>3.0</td>\n",
       "      <td>222.0</td>\n",
       "      <td>18.7</td>\n",
       "      <td>394.12</td>\n",
       "      <td>5.21</td>\n",
       "    </tr>\n",
       "    <tr>\n",
       "      <th>6</th>\n",
       "      <td>0.08829</td>\n",
       "      <td>12.5</td>\n",
       "      <td>7.87</td>\n",
       "      <td>0.0</td>\n",
       "      <td>0.524</td>\n",
       "      <td>6.012</td>\n",
       "      <td>66.6</td>\n",
       "      <td>5.5605</td>\n",
       "      <td>5.0</td>\n",
       "      <td>311.0</td>\n",
       "      <td>15.2</td>\n",
       "      <td>395.60</td>\n",
       "      <td>12.43</td>\n",
       "    </tr>\n",
       "    <tr>\n",
       "      <th>7</th>\n",
       "      <td>0.14455</td>\n",
       "      <td>12.5</td>\n",
       "      <td>7.87</td>\n",
       "      <td>0.0</td>\n",
       "      <td>0.524</td>\n",
       "      <td>6.172</td>\n",
       "      <td>96.1</td>\n",
       "      <td>5.9505</td>\n",
       "      <td>5.0</td>\n",
       "      <td>311.0</td>\n",
       "      <td>15.2</td>\n",
       "      <td>396.90</td>\n",
       "      <td>19.15</td>\n",
       "    </tr>\n",
       "    <tr>\n",
       "      <th>8</th>\n",
       "      <td>0.21124</td>\n",
       "      <td>12.5</td>\n",
       "      <td>7.87</td>\n",
       "      <td>0.0</td>\n",
       "      <td>0.524</td>\n",
       "      <td>5.631</td>\n",
       "      <td>100.0</td>\n",
       "      <td>6.0821</td>\n",
       "      <td>5.0</td>\n",
       "      <td>311.0</td>\n",
       "      <td>15.2</td>\n",
       "      <td>386.63</td>\n",
       "      <td>29.93</td>\n",
       "    </tr>\n",
       "    <tr>\n",
       "      <th>9</th>\n",
       "      <td>0.17004</td>\n",
       "      <td>12.5</td>\n",
       "      <td>7.87</td>\n",
       "      <td>0.0</td>\n",
       "      <td>0.524</td>\n",
       "      <td>6.004</td>\n",
       "      <td>85.9</td>\n",
       "      <td>6.5921</td>\n",
       "      <td>5.0</td>\n",
       "      <td>311.0</td>\n",
       "      <td>15.2</td>\n",
       "      <td>386.71</td>\n",
       "      <td>17.10</td>\n",
       "    </tr>\n",
       "  </tbody>\n",
       "</table>\n",
       "</div>"
      ],
      "text/plain": [
       "        0     1     2    3      4      5      6       7    8      9     10  \\\n",
       "0  0.00632  18.0  2.31  0.0  0.538  6.575   65.2  4.0900  1.0  296.0  15.3   \n",
       "1  0.02731   0.0  7.07  0.0  0.469  6.421   78.9  4.9671  2.0  242.0  17.8   \n",
       "2  0.02729   0.0  7.07  0.0  0.469  7.185   61.1  4.9671  2.0  242.0  17.8   \n",
       "3  0.03237   0.0  2.18  0.0  0.458  6.998   45.8  6.0622  3.0  222.0  18.7   \n",
       "4  0.06905   0.0  2.18  0.0  0.458  7.147   54.2  6.0622  3.0  222.0  18.7   \n",
       "5  0.02985   0.0  2.18  0.0  0.458  6.430   58.7  6.0622  3.0  222.0  18.7   \n",
       "6  0.08829  12.5  7.87  0.0  0.524  6.012   66.6  5.5605  5.0  311.0  15.2   \n",
       "7  0.14455  12.5  7.87  0.0  0.524  6.172   96.1  5.9505  5.0  311.0  15.2   \n",
       "8  0.21124  12.5  7.87  0.0  0.524  5.631  100.0  6.0821  5.0  311.0  15.2   \n",
       "9  0.17004  12.5  7.87  0.0  0.524  6.004   85.9  6.5921  5.0  311.0  15.2   \n",
       "\n",
       "       11     12  \n",
       "0  396.90   4.98  \n",
       "1  396.90   9.14  \n",
       "2  392.83   4.03  \n",
       "3  394.63   2.94  \n",
       "4  396.90   5.33  \n",
       "5  394.12   5.21  \n",
       "6  395.60  12.43  \n",
       "7  396.90  19.15  \n",
       "8  386.63  29.93  \n",
       "9  386.71  17.10  "
      ]
     },
     "execution_count": 4,
     "metadata": {},
     "output_type": "execute_result"
    }
   ],
   "source": [
    "# Show the first 10 rows of the Dataset\n",
    "bos = pd.DataFrame(boston.data)\n",
    "bos.head(10)"
   ]
  },
  {
   "cell_type": "markdown",
   "metadata": {},
   "source": [
    "It can be seen above that the dataset has no feature labels which will need to be added (although they are imported in the 'dataset characteristics'). In order to do so we need to use the `pandas.dataframe.keys()` command to access the keys and then assign them to the attribute columns.\n",
    "\n",
    "Ref [https://pandas.pydata.org/pandas-docs/stable/reference/api/pandas.DataFrame.keys.html]"
   ]
  },
  {
   "cell_type": "code",
   "execution_count": 5,
   "metadata": {},
   "outputs": [
    {
     "data": {
      "text/plain": [
       "RangeIndex(start=0, stop=13, step=1)"
      ]
     },
     "execution_count": 5,
     "metadata": {},
     "output_type": "execute_result"
    }
   ],
   "source": [
    "# Identify the indices in the dataset\n",
    "\n",
    "bos.keys()"
   ]
  },
  {
   "cell_type": "code",
   "execution_count": 6,
   "metadata": {},
   "outputs": [
    {
     "data": {
      "text/html": [
       "<div>\n",
       "<style scoped>\n",
       "    .dataframe tbody tr th:only-of-type {\n",
       "        vertical-align: middle;\n",
       "    }\n",
       "\n",
       "    .dataframe tbody tr th {\n",
       "        vertical-align: top;\n",
       "    }\n",
       "\n",
       "    .dataframe thead th {\n",
       "        text-align: right;\n",
       "    }\n",
       "</style>\n",
       "<table border=\"1\" class=\"dataframe\">\n",
       "  <thead>\n",
       "    <tr style=\"text-align: right;\">\n",
       "      <th></th>\n",
       "      <th>CRIM</th>\n",
       "      <th>ZN</th>\n",
       "      <th>INDUS</th>\n",
       "      <th>CHAS</th>\n",
       "      <th>NOX</th>\n",
       "      <th>RM</th>\n",
       "      <th>AGE</th>\n",
       "      <th>DIS</th>\n",
       "      <th>RAD</th>\n",
       "      <th>TAX</th>\n",
       "      <th>PTRATIO</th>\n",
       "      <th>B</th>\n",
       "      <th>LSTAT</th>\n",
       "    </tr>\n",
       "  </thead>\n",
       "  <tbody>\n",
       "    <tr>\n",
       "      <th>0</th>\n",
       "      <td>0.00632</td>\n",
       "      <td>18.0</td>\n",
       "      <td>2.31</td>\n",
       "      <td>0.0</td>\n",
       "      <td>0.538</td>\n",
       "      <td>6.575</td>\n",
       "      <td>65.2</td>\n",
       "      <td>4.0900</td>\n",
       "      <td>1.0</td>\n",
       "      <td>296.0</td>\n",
       "      <td>15.3</td>\n",
       "      <td>396.90</td>\n",
       "      <td>4.98</td>\n",
       "    </tr>\n",
       "    <tr>\n",
       "      <th>1</th>\n",
       "      <td>0.02731</td>\n",
       "      <td>0.0</td>\n",
       "      <td>7.07</td>\n",
       "      <td>0.0</td>\n",
       "      <td>0.469</td>\n",
       "      <td>6.421</td>\n",
       "      <td>78.9</td>\n",
       "      <td>4.9671</td>\n",
       "      <td>2.0</td>\n",
       "      <td>242.0</td>\n",
       "      <td>17.8</td>\n",
       "      <td>396.90</td>\n",
       "      <td>9.14</td>\n",
       "    </tr>\n",
       "    <tr>\n",
       "      <th>2</th>\n",
       "      <td>0.02729</td>\n",
       "      <td>0.0</td>\n",
       "      <td>7.07</td>\n",
       "      <td>0.0</td>\n",
       "      <td>0.469</td>\n",
       "      <td>7.185</td>\n",
       "      <td>61.1</td>\n",
       "      <td>4.9671</td>\n",
       "      <td>2.0</td>\n",
       "      <td>242.0</td>\n",
       "      <td>17.8</td>\n",
       "      <td>392.83</td>\n",
       "      <td>4.03</td>\n",
       "    </tr>\n",
       "    <tr>\n",
       "      <th>3</th>\n",
       "      <td>0.03237</td>\n",
       "      <td>0.0</td>\n",
       "      <td>2.18</td>\n",
       "      <td>0.0</td>\n",
       "      <td>0.458</td>\n",
       "      <td>6.998</td>\n",
       "      <td>45.8</td>\n",
       "      <td>6.0622</td>\n",
       "      <td>3.0</td>\n",
       "      <td>222.0</td>\n",
       "      <td>18.7</td>\n",
       "      <td>394.63</td>\n",
       "      <td>2.94</td>\n",
       "    </tr>\n",
       "    <tr>\n",
       "      <th>4</th>\n",
       "      <td>0.06905</td>\n",
       "      <td>0.0</td>\n",
       "      <td>2.18</td>\n",
       "      <td>0.0</td>\n",
       "      <td>0.458</td>\n",
       "      <td>7.147</td>\n",
       "      <td>54.2</td>\n",
       "      <td>6.0622</td>\n",
       "      <td>3.0</td>\n",
       "      <td>222.0</td>\n",
       "      <td>18.7</td>\n",
       "      <td>396.90</td>\n",
       "      <td>5.33</td>\n",
       "    </tr>\n",
       "  </tbody>\n",
       "</table>\n",
       "</div>"
      ],
      "text/plain": [
       "      CRIM    ZN  INDUS  CHAS    NOX     RM   AGE     DIS  RAD    TAX  \\\n",
       "0  0.00632  18.0   2.31   0.0  0.538  6.575  65.2  4.0900  1.0  296.0   \n",
       "1  0.02731   0.0   7.07   0.0  0.469  6.421  78.9  4.9671  2.0  242.0   \n",
       "2  0.02729   0.0   7.07   0.0  0.469  7.185  61.1  4.9671  2.0  242.0   \n",
       "3  0.03237   0.0   2.18   0.0  0.458  6.998  45.8  6.0622  3.0  222.0   \n",
       "4  0.06905   0.0   2.18   0.0  0.458  7.147  54.2  6.0622  3.0  222.0   \n",
       "\n",
       "   PTRATIO       B  LSTAT  \n",
       "0     15.3  396.90   4.98  \n",
       "1     17.8  396.90   9.14  \n",
       "2     17.8  392.83   4.03  \n",
       "3     18.7  394.63   2.94  \n",
       "4     18.7  396.90   5.33  "
      ]
     },
     "execution_count": 6,
     "metadata": {},
     "output_type": "execute_result"
    }
   ],
   "source": [
    "#Passing the `feature_names` parameter to the dataset now assigns the attributes with their labels\n",
    "\n",
    "bos.columns = boston.feature_names\n",
    "bos.head()"
   ]
  },
  {
   "cell_type": "markdown",
   "metadata": {},
   "source": [
    "Only 13 attributes are shown, although 14 attributes are associated with the dataset. The 14th attribute, or target variable - MEDV     Median value of owner-occupied homes in $1000's must be added to the `bos` pandas array"
   ]
  },
  {
   "cell_type": "code",
   "execution_count": 7,
   "metadata": {},
   "outputs": [
    {
     "data": {
      "text/plain": [
       "array([24. , 21.6, 34.7, 33.4, 36.2, 28.7, 22.9, 27.1, 16.5, 18.9, 15. ,\n",
       "       18.9, 21.7, 20.4, 18.2, 19.9, 23.1, 17.5, 20.2, 18.2, 13.6, 19.6,\n",
       "       15.2, 14.5, 15.6, 13.9, 16.6, 14.8, 18.4, 21. , 12.7, 14.5, 13.2,\n",
       "       13.1, 13.5, 18.9, 20. , 21. , 24.7, 30.8, 34.9, 26.6, 25.3, 24.7,\n",
       "       21.2, 19.3, 20. , 16.6, 14.4, 19.4, 19.7, 20.5, 25. , 23.4, 18.9,\n",
       "       35.4, 24.7, 31.6, 23.3, 19.6, 18.7, 16. , 22.2, 25. , 33. , 23.5,\n",
       "       19.4, 22. , 17.4, 20.9, 24.2, 21.7, 22.8, 23.4, 24.1, 21.4, 20. ,\n",
       "       20.8, 21.2, 20.3, 28. , 23.9, 24.8, 22.9, 23.9, 26.6, 22.5, 22.2,\n",
       "       23.6, 28.7, 22.6, 22. , 22.9, 25. , 20.6, 28.4, 21.4, 38.7, 43.8,\n",
       "       33.2, 27.5, 26.5, 18.6, 19.3, 20.1, 19.5, 19.5, 20.4, 19.8, 19.4,\n",
       "       21.7, 22.8, 18.8, 18.7, 18.5, 18.3, 21.2, 19.2, 20.4, 19.3, 22. ,\n",
       "       20.3, 20.5, 17.3, 18.8, 21.4, 15.7, 16.2, 18. , 14.3, 19.2, 19.6,\n",
       "       23. , 18.4, 15.6, 18.1, 17.4, 17.1, 13.3, 17.8, 14. , 14.4, 13.4,\n",
       "       15.6, 11.8, 13.8, 15.6, 14.6, 17.8, 15.4, 21.5, 19.6, 15.3, 19.4,\n",
       "       17. , 15.6, 13.1, 41.3, 24.3, 23.3, 27. , 50. , 50. , 50. , 22.7,\n",
       "       25. , 50. , 23.8, 23.8, 22.3, 17.4, 19.1, 23.1, 23.6, 22.6, 29.4,\n",
       "       23.2, 24.6, 29.9, 37.2, 39.8, 36.2, 37.9, 32.5, 26.4, 29.6, 50. ,\n",
       "       32. , 29.8, 34.9, 37. , 30.5, 36.4, 31.1, 29.1, 50. , 33.3, 30.3,\n",
       "       34.6, 34.9, 32.9, 24.1, 42.3, 48.5, 50. , 22.6, 24.4, 22.5, 24.4,\n",
       "       20. , 21.7, 19.3, 22.4, 28.1, 23.7, 25. , 23.3, 28.7, 21.5, 23. ,\n",
       "       26.7, 21.7, 27.5, 30.1, 44.8, 50. , 37.6, 31.6, 46.7, 31.5, 24.3,\n",
       "       31.7, 41.7, 48.3, 29. , 24. , 25.1, 31.5, 23.7, 23.3, 22. , 20.1,\n",
       "       22.2, 23.7, 17.6, 18.5, 24.3, 20.5, 24.5, 26.2, 24.4, 24.8, 29.6,\n",
       "       42.8, 21.9, 20.9, 44. , 50. , 36. , 30.1, 33.8, 43.1, 48.8, 31. ,\n",
       "       36.5, 22.8, 30.7, 50. , 43.5, 20.7, 21.1, 25.2, 24.4, 35.2, 32.4,\n",
       "       32. , 33.2, 33.1, 29.1, 35.1, 45.4, 35.4, 46. , 50. , 32.2, 22. ,\n",
       "       20.1, 23.2, 22.3, 24.8, 28.5, 37.3, 27.9, 23.9, 21.7, 28.6, 27.1,\n",
       "       20.3, 22.5, 29. , 24.8, 22. , 26.4, 33.1, 36.1, 28.4, 33.4, 28.2,\n",
       "       22.8, 20.3, 16.1, 22.1, 19.4, 21.6, 23.8, 16.2, 17.8, 19.8, 23.1,\n",
       "       21. , 23.8, 23.1, 20.4, 18.5, 25. , 24.6, 23. , 22.2, 19.3, 22.6,\n",
       "       19.8, 17.1, 19.4, 22.2, 20.7, 21.1, 19.5, 18.5, 20.6, 19. , 18.7,\n",
       "       32.7, 16.5, 23.9, 31.2, 17.5, 17.2, 23.1, 24.5, 26.6, 22.9, 24.1,\n",
       "       18.6, 30.1, 18.2, 20.6, 17.8, 21.7, 22.7, 22.6, 25. , 19.9, 20.8,\n",
       "       16.8, 21.9, 27.5, 21.9, 23.1, 50. , 50. , 50. , 50. , 50. , 13.8,\n",
       "       13.8, 15. , 13.9, 13.3, 13.1, 10.2, 10.4, 10.9, 11.3, 12.3,  8.8,\n",
       "        7.2, 10.5,  7.4, 10.2, 11.5, 15.1, 23.2,  9.7, 13.8, 12.7, 13.1,\n",
       "       12.5,  8.5,  5. ,  6.3,  5.6,  7.2, 12.1,  8.3,  8.5,  5. , 11.9,\n",
       "       27.9, 17.2, 27.5, 15. , 17.2, 17.9, 16.3,  7. ,  7.2,  7.5, 10.4,\n",
       "        8.8,  8.4, 16.7, 14.2, 20.8, 13.4, 11.7,  8.3, 10.2, 10.9, 11. ,\n",
       "        9.5, 14.5, 14.1, 16.1, 14.3, 11.7, 13.4,  9.6,  8.7,  8.4, 12.8,\n",
       "       10.5, 17.1, 18.4, 15.4, 10.8, 11.8, 14.9, 12.6, 14.1, 13. , 13.4,\n",
       "       15.2, 16.1, 17.8, 14.9, 14.1, 12.7, 13.5, 14.9, 20. , 16.4, 17.7,\n",
       "       19.5, 20.2, 21.4, 19.9, 19. , 19.1, 19.1, 20.1, 19.9, 19.6, 23.2,\n",
       "       29.8, 13.8, 13.3, 16.7, 12. , 14.6, 21.4, 23. , 23.7, 25. , 21.8,\n",
       "       20.6, 21.2, 19.1, 20.6, 15.2,  7. ,  8.1, 13.6, 20.1, 21.8, 24.5,\n",
       "       23.1, 19.7, 18.3, 21.2, 17.5, 16.8, 22.4, 20.6, 23.9, 22. , 11.9])"
      ]
     },
     "execution_count": 7,
     "metadata": {},
     "output_type": "execute_result"
    }
   ],
   "source": [
    "#The price is identified as the target variable above so we will see if is there\n",
    "\n",
    "boston.target #This prints the array of target variables (MEDV)"
   ]
  },
  {
   "cell_type": "code",
   "execution_count": 8,
   "metadata": {},
   "outputs": [
    {
     "name": "stdout",
     "output_type": "stream",
     "text": [
      "      CRIM    ZN  INDUS  CHAS    NOX     RM   AGE     DIS  RAD    TAX  \\\n",
      "0  0.00632  18.0   2.31   0.0  0.538  6.575  65.2  4.0900  1.0  296.0   \n",
      "1  0.02731   0.0   7.07   0.0  0.469  6.421  78.9  4.9671  2.0  242.0   \n",
      "2  0.02729   0.0   7.07   0.0  0.469  7.185  61.1  4.9671  2.0  242.0   \n",
      "3  0.03237   0.0   2.18   0.0  0.458  6.998  45.8  6.0622  3.0  222.0   \n",
      "4  0.06905   0.0   2.18   0.0  0.458  7.147  54.2  6.0622  3.0  222.0   \n",
      "\n",
      "   PTRATIO       B  LSTAT  PRICE  \n",
      "0     15.3  396.90   4.98   24.0  \n",
      "1     17.8  396.90   9.14   21.6  \n",
      "2     17.8  392.83   4.03   34.7  \n",
      "3     18.7  394.63   2.94   33.4  \n",
      "4     18.7  396.90   5.33   36.2  \n"
     ]
    }
   ],
   "source": [
    "#We now add the target variable (MEDV) to the array as 'price'\n",
    "\n",
    "bos['PRICE'] = boston.target\n",
    "print(bos.head())\n",
    "\n",
    "#ref [https://medium.com/@haydar_ai/learning-data-science-day-9-linear-regression-on-boston-housing-dataset-cd62a80775ef]"
   ]
  },
  {
   "cell_type": "markdown",
   "metadata": {},
   "source": [
    "## DESCRIPTIVE STATISTICS\n",
    "___"
   ]
  },
  {
   "cell_type": "code",
   "execution_count": 9,
   "metadata": {
    "scrolled": false
   },
   "outputs": [
    {
     "data": {
      "text/html": [
       "<div>\n",
       "<style scoped>\n",
       "    .dataframe tbody tr th:only-of-type {\n",
       "        vertical-align: middle;\n",
       "    }\n",
       "\n",
       "    .dataframe tbody tr th {\n",
       "        vertical-align: top;\n",
       "    }\n",
       "\n",
       "    .dataframe thead th {\n",
       "        text-align: right;\n",
       "    }\n",
       "</style>\n",
       "<table border=\"1\" class=\"dataframe\">\n",
       "  <thead>\n",
       "    <tr style=\"text-align: right;\">\n",
       "      <th></th>\n",
       "      <th>count</th>\n",
       "      <th>mean</th>\n",
       "      <th>std</th>\n",
       "      <th>min</th>\n",
       "      <th>25%</th>\n",
       "      <th>50%</th>\n",
       "      <th>75%</th>\n",
       "      <th>max</th>\n",
       "    </tr>\n",
       "  </thead>\n",
       "  <tbody>\n",
       "    <tr>\n",
       "      <th>CRIM</th>\n",
       "      <td>506.0</td>\n",
       "      <td>3.613524</td>\n",
       "      <td>8.601545</td>\n",
       "      <td>0.00632</td>\n",
       "      <td>0.082045</td>\n",
       "      <td>0.25651</td>\n",
       "      <td>3.677083</td>\n",
       "      <td>88.9762</td>\n",
       "    </tr>\n",
       "    <tr>\n",
       "      <th>ZN</th>\n",
       "      <td>506.0</td>\n",
       "      <td>11.363636</td>\n",
       "      <td>23.322453</td>\n",
       "      <td>0.00000</td>\n",
       "      <td>0.000000</td>\n",
       "      <td>0.00000</td>\n",
       "      <td>12.500000</td>\n",
       "      <td>100.0000</td>\n",
       "    </tr>\n",
       "    <tr>\n",
       "      <th>INDUS</th>\n",
       "      <td>506.0</td>\n",
       "      <td>11.136779</td>\n",
       "      <td>6.860353</td>\n",
       "      <td>0.46000</td>\n",
       "      <td>5.190000</td>\n",
       "      <td>9.69000</td>\n",
       "      <td>18.100000</td>\n",
       "      <td>27.7400</td>\n",
       "    </tr>\n",
       "    <tr>\n",
       "      <th>CHAS</th>\n",
       "      <td>506.0</td>\n",
       "      <td>0.069170</td>\n",
       "      <td>0.253994</td>\n",
       "      <td>0.00000</td>\n",
       "      <td>0.000000</td>\n",
       "      <td>0.00000</td>\n",
       "      <td>0.000000</td>\n",
       "      <td>1.0000</td>\n",
       "    </tr>\n",
       "    <tr>\n",
       "      <th>NOX</th>\n",
       "      <td>506.0</td>\n",
       "      <td>0.554695</td>\n",
       "      <td>0.115878</td>\n",
       "      <td>0.38500</td>\n",
       "      <td>0.449000</td>\n",
       "      <td>0.53800</td>\n",
       "      <td>0.624000</td>\n",
       "      <td>0.8710</td>\n",
       "    </tr>\n",
       "    <tr>\n",
       "      <th>RM</th>\n",
       "      <td>506.0</td>\n",
       "      <td>6.284634</td>\n",
       "      <td>0.702617</td>\n",
       "      <td>3.56100</td>\n",
       "      <td>5.885500</td>\n",
       "      <td>6.20850</td>\n",
       "      <td>6.623500</td>\n",
       "      <td>8.7800</td>\n",
       "    </tr>\n",
       "    <tr>\n",
       "      <th>AGE</th>\n",
       "      <td>506.0</td>\n",
       "      <td>68.574901</td>\n",
       "      <td>28.148861</td>\n",
       "      <td>2.90000</td>\n",
       "      <td>45.025000</td>\n",
       "      <td>77.50000</td>\n",
       "      <td>94.075000</td>\n",
       "      <td>100.0000</td>\n",
       "    </tr>\n",
       "    <tr>\n",
       "      <th>DIS</th>\n",
       "      <td>506.0</td>\n",
       "      <td>3.795043</td>\n",
       "      <td>2.105710</td>\n",
       "      <td>1.12960</td>\n",
       "      <td>2.100175</td>\n",
       "      <td>3.20745</td>\n",
       "      <td>5.188425</td>\n",
       "      <td>12.1265</td>\n",
       "    </tr>\n",
       "    <tr>\n",
       "      <th>RAD</th>\n",
       "      <td>506.0</td>\n",
       "      <td>9.549407</td>\n",
       "      <td>8.707259</td>\n",
       "      <td>1.00000</td>\n",
       "      <td>4.000000</td>\n",
       "      <td>5.00000</td>\n",
       "      <td>24.000000</td>\n",
       "      <td>24.0000</td>\n",
       "    </tr>\n",
       "    <tr>\n",
       "      <th>TAX</th>\n",
       "      <td>506.0</td>\n",
       "      <td>408.237154</td>\n",
       "      <td>168.537116</td>\n",
       "      <td>187.00000</td>\n",
       "      <td>279.000000</td>\n",
       "      <td>330.00000</td>\n",
       "      <td>666.000000</td>\n",
       "      <td>711.0000</td>\n",
       "    </tr>\n",
       "    <tr>\n",
       "      <th>PTRATIO</th>\n",
       "      <td>506.0</td>\n",
       "      <td>18.455534</td>\n",
       "      <td>2.164946</td>\n",
       "      <td>12.60000</td>\n",
       "      <td>17.400000</td>\n",
       "      <td>19.05000</td>\n",
       "      <td>20.200000</td>\n",
       "      <td>22.0000</td>\n",
       "    </tr>\n",
       "    <tr>\n",
       "      <th>B</th>\n",
       "      <td>506.0</td>\n",
       "      <td>356.674032</td>\n",
       "      <td>91.294864</td>\n",
       "      <td>0.32000</td>\n",
       "      <td>375.377500</td>\n",
       "      <td>391.44000</td>\n",
       "      <td>396.225000</td>\n",
       "      <td>396.9000</td>\n",
       "    </tr>\n",
       "    <tr>\n",
       "      <th>LSTAT</th>\n",
       "      <td>506.0</td>\n",
       "      <td>12.653063</td>\n",
       "      <td>7.141062</td>\n",
       "      <td>1.73000</td>\n",
       "      <td>6.950000</td>\n",
       "      <td>11.36000</td>\n",
       "      <td>16.955000</td>\n",
       "      <td>37.9700</td>\n",
       "    </tr>\n",
       "    <tr>\n",
       "      <th>PRICE</th>\n",
       "      <td>506.0</td>\n",
       "      <td>22.532806</td>\n",
       "      <td>9.197104</td>\n",
       "      <td>5.00000</td>\n",
       "      <td>17.025000</td>\n",
       "      <td>21.20000</td>\n",
       "      <td>25.000000</td>\n",
       "      <td>50.0000</td>\n",
       "    </tr>\n",
       "  </tbody>\n",
       "</table>\n",
       "</div>"
      ],
      "text/plain": [
       "         count        mean         std        min         25%        50%  \\\n",
       "CRIM     506.0    3.613524    8.601545    0.00632    0.082045    0.25651   \n",
       "ZN       506.0   11.363636   23.322453    0.00000    0.000000    0.00000   \n",
       "INDUS    506.0   11.136779    6.860353    0.46000    5.190000    9.69000   \n",
       "CHAS     506.0    0.069170    0.253994    0.00000    0.000000    0.00000   \n",
       "NOX      506.0    0.554695    0.115878    0.38500    0.449000    0.53800   \n",
       "RM       506.0    6.284634    0.702617    3.56100    5.885500    6.20850   \n",
       "AGE      506.0   68.574901   28.148861    2.90000   45.025000   77.50000   \n",
       "DIS      506.0    3.795043    2.105710    1.12960    2.100175    3.20745   \n",
       "RAD      506.0    9.549407    8.707259    1.00000    4.000000    5.00000   \n",
       "TAX      506.0  408.237154  168.537116  187.00000  279.000000  330.00000   \n",
       "PTRATIO  506.0   18.455534    2.164946   12.60000   17.400000   19.05000   \n",
       "B        506.0  356.674032   91.294864    0.32000  375.377500  391.44000   \n",
       "LSTAT    506.0   12.653063    7.141062    1.73000    6.950000   11.36000   \n",
       "PRICE    506.0   22.532806    9.197104    5.00000   17.025000   21.20000   \n",
       "\n",
       "                75%       max  \n",
       "CRIM       3.677083   88.9762  \n",
       "ZN        12.500000  100.0000  \n",
       "INDUS     18.100000   27.7400  \n",
       "CHAS       0.000000    1.0000  \n",
       "NOX        0.624000    0.8710  \n",
       "RM         6.623500    8.7800  \n",
       "AGE       94.075000  100.0000  \n",
       "DIS        5.188425   12.1265  \n",
       "RAD       24.000000   24.0000  \n",
       "TAX      666.000000  711.0000  \n",
       "PTRATIO   20.200000   22.0000  \n",
       "B        396.225000  396.9000  \n",
       "LSTAT     16.955000   37.9700  \n",
       "PRICE     25.000000   50.0000  "
      ]
     },
     "execution_count": 9,
     "metadata": {},
     "output_type": "execute_result"
    }
   ],
   "source": [
    "#Table with summary statistics of the dataset\n",
    "bos.describe().T"
   ]
  },
  {
   "cell_type": "markdown",
   "metadata": {},
   "source": [
    "**HISTOGRAMS OF HOUSE PRICE VARIABLES**"
   ]
  },
  {
   "cell_type": "code",
   "execution_count": 10,
   "metadata": {},
   "outputs": [
    {
     "data": {
      "image/png": "[encoded data removed]",
      "text/plain": [
       "<Figure size 1440x1080 with 16 Axes>"
      ]
     },
     "metadata": {
      "needs_background": "light"
     },
     "output_type": "display_data"
    }
   ],
   "source": [
    "#Histograms of House Price Variables using matplotlib\n",
    "bos.hist(bins=50, figsize=(20,15))\n",
    "plt.show()"
   ]
  },
  {
   "cell_type": "markdown",
   "metadata": {},
   "source": [
    "### Selected Observations from the Summary Stats Table\n",
    "___\n",
    "\n",
    "* **The target variable - 'PRICE' has a range of $5000 - $50000 with a mean of $22,532 which is a significant variation in house prices across the city.**\n",
    "\n",
    "\n",
    "* The 'CHAS' variable - proximity to the Charles River is logisitic in nature (i.e. 1 or 0)\n",
    "\n",
    "\n",
    "* Per Capita crime rate varies significantly across the city from 0.00632 to 88.9762"
   ]
  },
  {
   "cell_type": "markdown",
   "metadata": {},
   "source": [
    "**OUTLIERS**\n",
    "\n",
    "Z-Scores determined for outliers and new df created `bos_o` with outliers removed."
   ]
  },
  {
   "cell_type": "code",
   "execution_count": 11,
   "metadata": {},
   "outputs": [],
   "source": [
    "z = np.abs(stats.zscore(bos))"
   ]
  },
  {
   "cell_type": "code",
   "execution_count": 12,
   "metadata": {},
   "outputs": [],
   "source": [
    "bos_o =bos[(z < 3).all(axis=1)]"
   ]
  },
  {
   "cell_type": "markdown",
   "metadata": {},
   "source": [
    "### Distribution of Prices Data\n",
    "___"
   ]
  },
  {
   "cell_type": "code",
   "execution_count": 13,
   "metadata": {},
   "outputs": [],
   "source": [
    "#Set the target variable to y\n",
    "\n",
    "y = bos['PRICE']*1000"
   ]
  },
  {
   "cell_type": "code",
   "execution_count": 14,
   "metadata": {},
   "outputs": [
    {
     "data": {
      "image/png": "[encoded data removed]",
      "text/plain": [
       "<Figure size 864x864 with 1 Axes>"
      ]
     },
     "metadata": {},
     "output_type": "display_data"
    }
   ],
   "source": [
    "#Use the Seaborn library to display the distribution of house prices\n",
    "sns.set_style(\"darkgrid\")\n",
    "plt.figure(figsize=(12, 12))\n",
    "plt.title('House Prices Distribution', size=20)\n",
    "ax = sns.distplot(y)"
   ]
  },
  {
   "cell_type": "markdown",
   "metadata": {},
   "source": [
    "The plot above which displays the distribution of house prices in the dataset 'appears' to follow a **normal distribution.**\n",
    "\n",
    "**Some other observations**\n",
    "\n",
    "* The highest distribution is centred approximately around the mean ($20,000)\n",
    "\n",
    "* There are a notably high number of houses around the max ($50,000)\n",
    "\n",
    "Although the prices 'look' like they follow a normal distribution i.e. a bell-curve or gaussian distribution, it would be prudent to definitively determine the distribution as the distribution of the data will determine what inferential statistical analysis should be carried out.- **we will next carry out a test for normality.**"
   ]
  },
  {
   "cell_type": "markdown",
   "metadata": {},
   "source": [
    "**Shapiro-Wilk Test for Normality**\n",
    "\n",
    "The Shapiro-Wilk test tests the null hypothesis $H_0$ that the sample comes from the normal distribution. Therefore at a significance level of 0.05 a $p$ < 0.05 indicates non-normality\n",
    "Ref[http://www.bios.unc.edu/~mhudgens/bios/662/2008fall/Backup/wilkshapiro1965.pdf]"
   ]
  },
  {
   "cell_type": "code",
   "execution_count": 15,
   "metadata": {},
   "outputs": [
    {
     "name": "stdout",
     "output_type": "stream",
     "text": [
      "Test Statistic=0.917, p=0.0000\n"
     ]
    }
   ],
   "source": [
    "from scipy.stats import shapiro #import the Shapiro-Wilks function\n",
    "\n",
    "shapiro_test = shapiro(y) #run the Shapiro Wilks tets on the house price data\n",
    "\n",
    "stat, p = shapiro_test\n",
    "print('Test Statistic=%.3f, p=%.4f' % (stat, p))"
   ]
  },
  {
   "cell_type": "markdown",
   "metadata": {},
   "source": [
    "The Shapiro-Wilk test above *rejects* the null hypothesis since the *p* value is less than 0.05, therefore the data for 'PRICE' is not normally distributed. In addition the test statistic is 0.917 which indicates that this result is likely valid and not a type 1 error. Further visualisation may be carried out using a **Q-Q plot**\n",
    "\n",
    "A Q-Q plot plots quantiles (values that split a data set into equal portions of the data) against the theoretical quantiles of a normal distribution. \n",
    "\n",
    "Ref[https://www.ncbi.nlm.nih.gov/pmc/articles/PMC3693611/?source=post_page-----6bf06ed646a9----------------------]"
   ]
  },
  {
   "cell_type": "code",
   "execution_count": 16,
   "metadata": {},
   "outputs": [
    {
     "data": {
      "image/png": "[encoded data removed]",
      "text/plain": [
       "<Figure size 432x288 with 1 Axes>"
      ]
     },
     "execution_count": 16,
     "metadata": {},
     "output_type": "execute_result"
    },
    {
     "data": {
      "image/png": "[encoded data removed]",
      "text/plain": [
       "<Figure size 432x288 with 1 Axes>"
      ]
     },
     "metadata": {},
     "output_type": "display_data"
    }
   ],
   "source": [
    "sm.qqplot(y, line='s') #generate a q-q plot of the house price data"
   ]
  },
  {
   "cell_type": "markdown",
   "metadata": {},
   "source": [
    "Investigating possible reasons for the non-normality of the 'PRICES' data and specifically what, if any effects are causing the skew of data towards higher value houses may be worthwhile."
   ]
  },
  {
   "cell_type": "markdown",
   "metadata": {},
   "source": [
    "### Relationships Between Variables\n",
    "___\n",
    "\n",
    "A correlation heatmap is a useful way to quickly visualise the relationships between variables and determine which variables are highly correlated and worth further investigation.\n",
    "\n",
    "Ref [https://seaborn.pydata.org/generated/seaborn.heatmap.html]\n"
   ]
  },
  {
   "cell_type": "markdown",
   "metadata": {},
   "source": [
    "**CORRELATIONS**"
   ]
  },
  {
   "cell_type": "markdown",
   "metadata": {},
   "source": [
    "The correlations between input variables and PRICE are ranked below in descending order"
   ]
  },
  {
   "cell_type": "code",
   "execution_count": 17,
   "metadata": {},
   "outputs": [
    {
     "data": {
      "text/plain": [
       "PRICE      1.000000\n",
       "RM         0.695360\n",
       "ZN         0.360445\n",
       "B          0.333461\n",
       "DIS        0.249929\n",
       "CHAS       0.175260\n",
       "AGE       -0.376955\n",
       "RAD       -0.381626\n",
       "CRIM      -0.388305\n",
       "NOX       -0.427321\n",
       "TAX       -0.468536\n",
       "INDUS     -0.483725\n",
       "PTRATIO   -0.507787\n",
       "LSTAT     -0.737663\n",
       "Name: PRICE, dtype: float64"
      ]
     },
     "execution_count": 17,
     "metadata": {},
     "output_type": "execute_result"
    }
   ],
   "source": [
    "corr_matrix = bos.corr()\n",
    "corr_matrix['PRICE'].sort_values(ascending=False)"
   ]
  },
  {
   "cell_type": "code",
   "execution_count": 18,
   "metadata": {},
   "outputs": [
    {
     "data": {
      "image/png": "[encoded data removed]",
      "text/plain": [
       "<Figure size 1080x1080 with 2 Axes>"
      ]
     },
     "metadata": {},
     "output_type": "display_data"
    }
   ],
   "source": [
    "plt.figure(figsize=(15, 15)) #sets the parameters for the figure size \n",
    "ax = sns.heatmap(bos.corr(), cmap=sns.cubehelix_palette(as_cmap=True), linewidths=0.5) #generates heatmap, colour scheme and linewidth\n",
    "ax.xaxis.tick_top() #sets the axis to the top of the chart for easier reading"
   ]
  },
  {
   "cell_type": "markdown",
   "metadata": {},
   "source": [
    "The above correlation matrix highlights some interesting relationships between the target variable, PRICE and other variables:\n",
    "\n",
    "* There is a high positive correlation between PRICE and RM - (Average number of rooms per dwelling)\n",
    "\n",
    "* There is a positive correlation between PRICE and ZN - (proportion of residential land zoned for lots over 25,000 sq.ft.)\n",
    "\n",
    "* There is a negative correlation between PRICE and LSTAT - (% lower status of the population)\n",
    "\n",
    "* There is a negative correlation between PRICE and PTRATIO - (pupil-teacher ratio by town)\n",
    "\n",
    "The correlation matrix is only relevant to variables where there is a integer value. The Charles river variable is logistic in nature (i.e. 1 or 0) so is not relevant to this analysis."
   ]
  },
  {
   "cell_type": "markdown",
   "metadata": {},
   "source": [
    "## INFERENTIAL STATISTICS"
   ]
  },
  {
   "cell_type": "markdown",
   "metadata": {},
   "source": [
    "We will now use inferential statistics to analyse the relationship between the median house prices 'PRICE' ('MEDV'in the original dataset) and whether or not the houses border the Charles river 'CHAS'"
   ]
  },
  {
   "cell_type": "code",
   "execution_count": 19,
   "metadata": {},
   "outputs": [],
   "source": [
    "# Split the data into house proces which border the River and those who dont\n",
    "    \n",
    "River = bos.loc[bos['CHAS'] != 0]\n",
    "Not_River = bos.loc[bos['CHAS'] != 1]"
   ]
  },
  {
   "cell_type": "code",
   "execution_count": 20,
   "metadata": {},
   "outputs": [],
   "source": [
    "#Create 2 Arrays of Prices along River and not along river\n",
    "\n",
    "River_Price = River['PRICE']\n",
    "Not_River_Price = Not_River['PRICE']"
   ]
  },
  {
   "cell_type": "code",
   "execution_count": 21,
   "metadata": {},
   "outputs": [
    {
     "data": {
      "text/plain": [
       "count    35.000000\n",
       "mean     28.440000\n",
       "std      11.816643\n",
       "min      13.400000\n",
       "25%      21.100000\n",
       "50%      23.300000\n",
       "75%      33.150000\n",
       "max      50.000000\n",
       "Name: PRICE, dtype: float64"
      ]
     },
     "execution_count": 21,
     "metadata": {},
     "output_type": "execute_result"
    }
   ],
   "source": [
    "#Summary statistics for house prices bordering river\n",
    "River_Price.describe().T\n"
   ]
  },
  {
   "cell_type": "code",
   "execution_count": 22,
   "metadata": {},
   "outputs": [
    {
     "data": {
      "text/plain": [
       "count    471.000000\n",
       "mean      22.093843\n",
       "std        8.831362\n",
       "min        5.000000\n",
       "25%       16.600000\n",
       "50%       20.900000\n",
       "75%       24.800000\n",
       "max       50.000000\n",
       "Name: PRICE, dtype: float64"
      ]
     },
     "execution_count": 22,
     "metadata": {},
     "output_type": "execute_result"
    }
   ],
   "source": [
    "#Summary statistics for house prices not bordering river\n",
    "Not_River_Price.describe().T"
   ]
  },
  {
   "cell_type": "markdown",
   "metadata": {},
   "source": [
    "I can be seen above that in simple terms, the mean house price of houses bordering the river is 28,440 dollars whereas the mean house price of houses not bordering the river is 22,093 dollars.\n",
    "\n",
    "We will take a further look at how both sets of prices are distributed, using boxplots"
   ]
  },
  {
   "cell_type": "markdown",
   "metadata": {},
   "source": [
    "### BOX PLOTS OF HOUSE PRICES BORDERING/NOT BORDERING RIVER"
   ]
  },
  {
   "cell_type": "code",
   "execution_count": 23,
   "metadata": {},
   "outputs": [
    {
     "data": {
      "text/plain": [
       "Text(0.5,1,'House Prices Not Bordering River and Bordering River')"
      ]
     },
     "execution_count": 23,
     "metadata": {},
     "output_type": "execute_result"
    },
    {
     "data": {
      "image/png": "[encoded data removed]",
      "text/plain": [
       "<Figure size 1080x1080 with 1 Axes>"
      ]
     },
     "metadata": {},
     "output_type": "display_data"
    }
   ],
   "source": [
    "plt.figure(figsize=(15, 15))\n",
    "red_circle = dict(markerfacecolor='r', marker='o')\n",
    "sns.set(font_scale=1.2)\n",
    "ax=sns.boxplot(x=\"CHAS\", y=\"PRICE\",data=bos, linewidth=2.0, flierprops=red_circle, showmeans=True , meanline=True, meanprops = dict(linestyle='--', linewidth=2.5, color='purple'))\n",
    "ax.set_title('House Prices Not Bordering River and Bordering River', size=20)\n"
   ]
  },
  {
   "cell_type": "markdown",
   "metadata": {},
   "source": [
    "The boxplots of the median house price for houses bordering the river (CHAS=1) and those not bordering the river (CHAS=0) appear quite different, suggesting that it may be worth investigating if this difference is statistically significant.\n",
    "* The array containing houses not bordering the river has a number of outliers at the upper end\n",
    "* The array containing houses bordering the river has a mean which is higher than those not bordering the river (**purple dashed line in boxplot**). Additionally, the mean of house prices bordering the river is significantly higher than the median compared to the house prices of those not bordering the river."
   ]
  },
  {
   "cell_type": "markdown",
   "metadata": {},
   "source": [
    "### DISTRIBUTION PLOTS OF HOUSE PRICES BORDERING/NOT BORDERING RIVER"
   ]
  },
  {
   "cell_type": "code",
   "execution_count": 24,
   "metadata": {},
   "outputs": [
    {
     "data": {
      "image/png": "[encoded data removed]",
      "text/plain": [
       "<Figure size 864x864 with 1 Axes>"
      ]
     },
     "metadata": {},
     "output_type": "display_data"
    }
   ],
   "source": [
    "sns.set_style(\"darkgrid\")\n",
    "plt.figure(figsize=(12, 12))\n",
    "ax1 = sns.distplot(River_Price)\n",
    "ax2 = sns.distplot(Not_River_Price)"
   ]
  },
  {
   "cell_type": "markdown",
   "metadata": {},
   "source": [
    "The distribution plots of house prices bordering/not bordering the river don't highlight the differences in the two datasets as well as the boxplots do, but the distributions illustrate how both distributions have a similar shape"
   ]
  },
  {
   "cell_type": "markdown",
   "metadata": {},
   "source": [
    "### NORMALITY CHECK ON HOUSE PRICES BORDERING/NOT BORDERING RIVER"
   ]
  },
  {
   "cell_type": "code",
   "execution_count": 25,
   "metadata": {},
   "outputs": [
    {
     "name": "stdout",
     "output_type": "stream",
     "text": [
      "Test Statistic : Not Bordering River =0.928, p=0.0000\n",
      "Test Statistic : Bordering River =0.836, p=0.0001\n"
     ]
    }
   ],
   "source": [
    "#Check the two house price data sets for normality using the Shapiro-Wilks test\n",
    "\n",
    "shapiro_test1 = shapiro(Not_River_Price) \n",
    "shapiro_test2 = shapiro(River_Price) \n",
    "\n",
    "stat1, p1 = shapiro_test1\n",
    "stat2, p2 = shapiro_test2\n",
    "print('Test Statistic : Not Bordering River =%.3f, p=%.4f' % (stat1, p1))\n",
    "print('Test Statistic : Bordering River =%.3f, p=%.4f' % (stat2, p2))"
   ]
  },
  {
   "cell_type": "markdown",
   "metadata": {},
   "source": [
    "The normality test of the house prices bordering/not bordering the river both suggest that we can reject the null hypothesis, $H_0$, and accept the alternative hypothesis, $H_1$, the two sets are non-normal\n",
    "\n",
    "**Although the data displays non-normality, (and the presence of outliers) - parametric tests of the house prices are still suitable due to the large sample sizes we have** \n",
    "\n",
    "REF [https://blog.minitab.com/blog/understanding-statistics/data-not-normal-try-letting-it-be-with-a-nonparametric-hypothesis-test]\n",
    "\n",
    "This is also a satisfactory approach since the **Central Limit Theorem** states that given a sufficiently large sample size from a population (usually more than 30) with a finite level of variance, the mean of all samples from the same population will be approximately equal to the mean of the population.\n",
    "\n",
    "**CENTRAL LIMIT THEOREM**\n",
    "\n",
    "If X1, X2,...Xn is a random sample of size n taken from a population (either finite\n",
    "or infinite) with mean $u$ and finite variance $\\sigma^2$ , and if $\\bar X$ is the sample mean, the limiting\n",
    "form of the distribution of\n",
    "\n",
    "$Z$ = $\\frac{\\bar X - u} {\\frac{\\sigma}{\\sqrt n}}$\n",
    "\n",
    "\n",
    "as n -->0, is the standard normal distribution.\n",
    "\n",
    "REF[Applied Statistics and Probability for Engineers.; Montgomery,D.C.; Wiley; 2003]"
   ]
  },
  {
   "cell_type": "markdown",
   "metadata": {},
   "source": [
    "### PAIRED T-TEST"
   ]
  },
  {
   "cell_type": "code",
   "execution_count": 26,
   "metadata": {},
   "outputs": [
    {
     "name": "stdout",
     "output_type": "stream",
     "text": [
      "Test Statistic = -3.996, p=0.0001\n"
     ]
    }
   ],
   "source": [
    "#Carry out a paired t-test on the house prices bordering/not bordering the river\n",
    "\n",
    "stats.ttest_ind(Not_River_Price, River_Price)\n",
    "\n",
    "stat, p = stats.ttest_ind(Not_River_Price, River_Price)\n",
    "print('Test Statistic = %.3f, p=%.4f' % (stat, p))\n",
    "\n",
    "# REF [https://docs.scipy.org/doc/scipy/reference/generated/scipy.stats.ttest_ind.html]"
   ]
  },
  {
   "cell_type": "markdown",
   "metadata": {},
   "source": [
    "A Test Statistic of -3.996 and  $p$ value of p=0.0001 suggest that we can reject the null hypothesis of equal means.\n",
    "\n",
    "Therefore we can conclude that there is a difference in the mean house price between houses bordering the Charles River and those not bordering the Charles River"
   ]
  },
  {
   "cell_type": "markdown",
   "metadata": {},
   "source": [
    "the following analysis was used as the basis for our investigation of descriptive and inferential statistics:\n",
    "\n",
    "REF: [https://subscription.packtpub.com/book/programming/9781789804744/1/ch01lvl1sec11/our-first-analysis-the-boston-housing-dataset]"
   ]
  },
  {
   "cell_type": "markdown",
   "metadata": {},
   "source": [
    "#  PREDICT \n",
    "\n"
   ]
  },
  {
   "cell_type": "markdown",
   "metadata": {},
   "source": [
    "## NEURAL NETWORK USING KERAS\n",
    "\n",
    "In this section we will attempt to predict the house prices based on other variables using the Keras Neural Network library\n",
    "\n",
    "REF [https://keras.io/]"
   ]
  },
  {
   "cell_type": "markdown",
   "metadata": {},
   "source": [
    "`BatchNormalization` is added as a means of getting all the attributes on the same scale: This is important in datasets where the input variables vary greatly in scale. "
   ]
  },
  {
   "cell_type": "code",
   "execution_count": 27,
   "metadata": {},
   "outputs": [
    {
     "name": "stdout",
     "output_type": "stream",
     "text": [
      "Model: \"sequential_1\"\n",
      "_________________________________________________________________\n",
      "Layer (type)                 Output Shape              Param #   \n",
      "=================================================================\n",
      "dense_1 (Dense)              (None, 64)                896       \n",
      "_________________________________________________________________\n",
      "dense_2 (Dense)              (None, 64)                4160      \n",
      "_________________________________________________________________\n",
      "dense_3 (Dense)              (None, 1)                 65        \n",
      "=================================================================\n",
      "Total params: 5,121\n",
      "Trainable params: 5,121\n",
      "Non-trainable params: 0\n",
      "_________________________________________________________________\n"
     ]
    }
   ],
   "source": [
    "#Import relevant Keras libraries\n",
    "\n",
    "#import the sequential model\n",
    "from keras.models import Sequential\n",
    "from keras.models import Model\n",
    "\n",
    "from keras import optimizers \n",
    "\n",
    "#import the relevent layer types and activation\n",
    "from keras.layers import Dense, Activation\n",
    "# For encoding categorical variables.\n",
    "import sklearn.preprocessing as pre\n",
    "\n",
    "# For splitting into training and test sets.\n",
    "import sklearn.model_selection as mod\n",
    "\n",
    "#Create a new sequential model\n",
    "\n",
    "model = Sequential()\n",
    "\n",
    "\n",
    "#Introduce regularisation\n",
    "\n",
    "model.add(Dense(64, input_dim=(13), activation=\"relu\",kernel_regularizer=regularizers.l2(0.01), activity_regularizer=regularizers.l1(0.01)))\n",
    "\n",
    "kr.layers.BatchNormalization()\n",
    "\n",
    "#model.add(Dense(64, input_dim=(13), activation=\"relu\"))\n",
    "\n",
    "kr.layers.BatchNormalization()\n",
    "\n",
    "model.add(Dense(64, activation=\"relu\"))\n",
    "\n",
    "kr.layers.BatchNormalization()\n",
    "\n",
    "#model.add(Dense(4, activation=\"relu\"))\n",
    "\n",
    "model.add(Dense(1))\n",
    "model.summary()\n",
    "\n",
    "#Note: 23-Nov-19 - Number of neurons increased to 64 in line with original experimentation and from knowledge gained in REF\n",
    "\n",
    "#[Deep Learning with Python: Chollet, F.; Manning; 2018]# pages 85-91"
   ]
  },
  {
   "cell_type": "markdown",
   "metadata": {},
   "source": [
    "**BUILD THE MODEL**\n",
    "\n",
    "We will experiment with 1 input layer with 13 neurons, 1 hidden layer with 6 neurons and 1 output layer. The input shape is the number of variables i.e. 13. The activation function is `relu` - Rectified Linear Unit. This activation function normalises the inputs."
   ]
  },
  {
   "cell_type": "code",
   "execution_count": 28,
   "metadata": {},
   "outputs": [],
   "source": [
    "#Set the x and y parameters for independent and dependent variables\n",
    "\n",
    "#x = bos[['ZN','RM', 'PTRATIO', 'LSTAT']]\n",
    "#y = bos[['PRICE']]\n",
    "\n",
    "#x = bos[['ZN','RM', 'PTRATIO', 'LSTAT']]\n",
    "y = bos[['PRICE']]\n",
    "\n",
    "#drop some parameters to try and simplify the model\n",
    "\n",
    "x = bos[['CRIM', 'INDUS', 'ZN', 'CHAS', 'NOX', 'RM', 'AGE', 'DIS', 'RAD', 'TAX', 'PTRATIO', 'LSTAT', 'TAX']]\n"
   ]
  },
  {
   "cell_type": "markdown",
   "metadata": {},
   "source": [
    "**COMPILE THE MODEL**\n",
    "\n",
    "Gradient descent is an optimisation algorithm which works by changing parameters of the input functions such as weights until the loss function converges on a minimum.\n",
    "\n",
    "The model was initially compiled using a Stochastic Gradient Descent optimiser `sgd` and the loss function Mean Square Error `mse`.\n",
    "\n",
    "Better results were found using the `Adam` optimiser and `mean_squared_error`\n",
    "\n",
    "* **Stochastic Gradient Descent optimiser**, as the name suggests picks a random instance in the training set and computes the gradient based only on that instance. This is in contrast to 'Batch gradient descent which uses the entire dataset to calculate the gradients which is slow (for a large dataset). Due to its random nature, the cost function for stochastic gradient descent will increase and decrease, over time approaching its minimum.\n",
    "  \n",
    "\n",
    "* **Mean Square Error** is a useful loss function for regression problems where a value is predicted from continuous variables.\n",
    " \n",
    "    REF [Applied Deep Learning with Python By Alex Galea, Luis Capelo August 2018]\n",
    "    \n",
    "    REF [Hands-On Machine Learning with Scikit-Learn, KERAS & TensorFlow; Geron, A.; O'Reilly; 2019, 2nd Ed]"
   ]
  },
  {
   "cell_type": "markdown",
   "metadata": {},
   "source": [
    "**Attempt to adjust learning rate to get better cost value**"
   ]
  },
  {
   "cell_type": "code",
   "execution_count": 29,
   "metadata": {},
   "outputs": [],
   "source": [
    "#compile the model specifying the model optimiser and loss function\n",
    "\n",
    "# Optimizers Tried\n",
    "sgd = optimizers.SGD(lr=0.01, clipnorm=1.0)\n",
    "Adam = kr.optimizers.Adam(learning_rate=0.01, beta_1=0.9, beta_2=0.999, amsgrad=False)\n",
    "RMSprop = kr.optimizers.RMSprop(learning_rate=0.001, rho=0.9)\n",
    "Adagrad = kr.optimizers.Adagrad(learning_rate=0.01)\n",
    "Adadelta = kr.optimizers.Adadelta(learning_rate=1.0, rho=0.95)\n",
    "Adamax = kr.optimizers.Adamax(learning_rate=0.002, beta_1=0.9, beta_2=0.999)\n",
    "Nadam = kr.optimizers.Nadam(learning_rate=0.002, beta_1=0.9, beta_2=0.999)\n",
    "\n",
    "#loss Functions tried\n",
    "#model.compile(optimizer=\"Adam\", loss =\"mean_squared_error\")\n",
    "#model.compile(optimizer=\"Adam\", loss =\"mean_absolute_error\")\n",
    "#model.compile(optimizer=\"Adam\", loss =\"mean_absolute_percentage_error\")\n",
    "#model.compile(optimizer=\"Adam\", loss =\"mean_squared_logarithmic_error\")\n",
    "#model.compile(optimizer=\"Adam\", loss =\"hinge\")\n",
    "#model.compile(optimizer=\"Adam\", loss =\"log_cosh\")\n",
    "#model.compile(optimizer=\"Adam\", loss =\"huber_loss\")\n",
    "\n",
    "#changed to 'Adam' optimiser, loss mean_squared_error, \n",
    "#metrics added ref https://stackoverflow.com/questions/48775305/what-function-defines-accuracy-in-keras-when-the-loss-is-mean-squared-error-mse?rq=1\n",
    "model.compile(optimizer=\"Adam\", loss =\"mean_squared_error\")"
   ]
  },
  {
   "cell_type": "markdown",
   "metadata": {},
   "source": [
    "**CREATE A TRAINING AND TESTING SET**\n",
    "\n",
    "Like all regression problems it is necessary to create a training `x_train` , `y_train` and testing set `x_test`, `y_test` with which to train the model to create predictions of our output variable and a testing set to test the accuracy of the predictive model we have created.\n",
    "\n",
    "We have specified a `test_size` of 0.5 i.e. half the data will be used to test the model."
   ]
  },
  {
   "cell_type": "code",
   "execution_count": 30,
   "metadata": {},
   "outputs": [],
   "source": [
    "# Define our training set: size of the test set is 0.2 i.e. 20% of the dataset\n",
    "\n",
    "x_train, x_test, y_train, y_test = mod.train_test_split(x, y, test_size=0.2, random_state = 42)"
   ]
  },
  {
   "cell_type": "markdown",
   "metadata": {},
   "source": [
    "`model.fit` Trains the model over a fixed number of epochs\n",
    "\n",
    "**epochs**: are the number of epochs to train the model. An epoch is an iteration over the entire x and y data provided. \n",
    "\n",
    "REF[https://keras.io/models/model/]"
   ]
  },
  {
   "cell_type": "markdown",
   "metadata": {},
   "source": [
    "`EarlyStopping` stops the model when it doesnt improve the cost function after a specified number of epochs of same loss value. `patience` defines the number of epochs of same loss value before stopping\n",
    "\n",
    "REF [https://towardsdatascience.com/building-a-deep-learning-model-using-keras-1548ca149d37]\n",
    "\n",
    "Validation model also added:\n",
    "\n",
    "Validation is a process of holding out part of the test set during optimisation in order to evaluate several candidate models and select the best one.\n",
    "\n",
    "`validation_split`: Float between 0 and 1. Fraction of the training data to be used as validation data. The model will set apart this fraction of the training data, will not train on it, and will evaluate the loss and any model metrics on this data at the end of each epoch. The validation data is selected from the last samples in the x and y data provided, before shuffling. \n",
    "\n",
    "`Val_Loss` is the loss value calculated on the validation test set after each epoch\n",
    "\n",
    "REF [https://keras.io/models/model/]"
   ]
  },
  {
   "cell_type": "markdown",
   "metadata": {},
   "source": [
    "**GRADIENT DESCENT**\n",
    "\n"
   ]
  },
  {
   "cell_type": "code",
   "execution_count": 31,
   "metadata": {},
   "outputs": [
    {
     "name": "stdout",
     "output_type": "stream",
     "text": [
      "Train on 323 samples, validate on 81 samples\n",
      "Epoch 1/300\n",
      "323/323 [==============================] - 0s 306us/step - loss: 901.5732 - val_loss: 624.4969\n",
      "Epoch 2/300\n",
      "323/323 [==============================] - 0s 86us/step - loss: 650.5216 - val_loss: 542.5419\n",
      "Epoch 3/300\n",
      "323/323 [==============================] - 0s 99us/step - loss: 579.8201 - val_loss: 558.3648\n",
      "Epoch 4/300\n",
      "323/323 [==============================] - 0s 87us/step - loss: 559.4257 - val_loss: 497.8528\n",
      "Epoch 5/300\n",
      "323/323 [==============================] - 0s 86us/step - loss: 526.2350 - val_loss: 473.2592\n",
      "Epoch 6/300\n",
      "323/323 [==============================] - 0s 99us/step - loss: 512.1738 - val_loss: 459.3019\n",
      "Epoch 7/300\n",
      "323/323 [==============================] - 0s 94us/step - loss: 470.6197 - val_loss: 448.2682\n",
      "Epoch 8/300\n",
      "323/323 [==============================] - 0s 93us/step - loss: 450.3701 - val_loss: 406.4208\n",
      "Epoch 9/300\n",
      "323/323 [==============================] - 0s 85us/step - loss: 424.2933 - val_loss: 384.7408\n",
      "Epoch 10/300\n",
      "323/323 [==============================] - 0s 83us/step - loss: 399.6258 - val_loss: 374.8811\n",
      "Epoch 11/300\n",
      "323/323 [==============================] - 0s 94us/step - loss: 382.0542 - val_loss: 349.0543\n",
      "Epoch 12/300\n",
      "323/323 [==============================] - 0s 86us/step - loss: 354.6854 - val_loss: 346.5339\n",
      "Epoch 13/300\n",
      "323/323 [==============================] - 0s 74us/step - loss: 337.6225 - val_loss: 316.3710\n",
      "Epoch 14/300\n",
      "323/323 [==============================] - 0s 70us/step - loss: 323.6714 - val_loss: 300.5246\n",
      "Epoch 15/300\n",
      "323/323 [==============================] - 0s 73us/step - loss: 303.0068 - val_loss: 297.4439\n",
      "Epoch 16/300\n",
      "323/323 [==============================] - 0s 76us/step - loss: 285.9430 - val_loss: 274.1549\n",
      "Epoch 17/300\n",
      "323/323 [==============================] - 0s 75us/step - loss: 267.9588 - val_loss: 258.7859\n",
      "Epoch 18/300\n",
      "323/323 [==============================] - 0s 81us/step - loss: 255.4084 - val_loss: 243.7776\n",
      "Epoch 19/300\n",
      "323/323 [==============================] - 0s 74us/step - loss: 240.9516 - val_loss: 230.5707\n",
      "Epoch 20/300\n",
      "323/323 [==============================] - 0s 99us/step - loss: 227.3953 - val_loss: 226.9819\n",
      "Epoch 21/300\n",
      "323/323 [==============================] - 0s 89us/step - loss: 215.2469 - val_loss: 207.5084\n",
      "Epoch 22/300\n",
      "323/323 [==============================] - 0s 81us/step - loss: 202.6784 - val_loss: 198.0595\n",
      "Epoch 23/300\n",
      "323/323 [==============================] - 0s 80us/step - loss: 191.4204 - val_loss: 188.1880\n",
      "Epoch 24/300\n",
      "323/323 [==============================] - 0s 80us/step - loss: 183.1917 - val_loss: 186.7000\n",
      "Epoch 25/300\n",
      "323/323 [==============================] - 0s 77us/step - loss: 175.8622 - val_loss: 170.1830\n",
      "Epoch 26/300\n",
      "323/323 [==============================] - 0s 89us/step - loss: 165.4201 - val_loss: 173.5868\n",
      "Epoch 27/300\n",
      "323/323 [==============================] - 0s 86us/step - loss: 158.9860 - val_loss: 159.0243\n",
      "Epoch 28/300\n",
      "323/323 [==============================] - 0s 89us/step - loss: 150.9890 - val_loss: 149.8599\n",
      "Epoch 29/300\n",
      "323/323 [==============================] - 0s 72us/step - loss: 148.0246 - val_loss: 144.5931\n",
      "Epoch 30/300\n",
      "323/323 [==============================] - 0s 88us/step - loss: 141.9362 - val_loss: 137.2059\n",
      "Epoch 31/300\n",
      "323/323 [==============================] - 0s 78us/step - loss: 134.4194 - val_loss: 169.4607\n",
      "Epoch 32/300\n",
      "323/323 [==============================] - 0s 74us/step - loss: 134.8514 - val_loss: 129.5269\n",
      "Epoch 33/300\n",
      "323/323 [==============================] - 0s 82us/step - loss: 123.5273 - val_loss: 121.6444\n",
      "Epoch 34/300\n",
      "323/323 [==============================] - 0s 74us/step - loss: 116.7112 - val_loss: 115.5879\n",
      "Epoch 35/300\n",
      "323/323 [==============================] - 0s 84us/step - loss: 109.9452 - val_loss: 113.1665\n",
      "Epoch 36/300\n",
      "323/323 [==============================] - 0s 89us/step - loss: 102.7211 - val_loss: 105.6709\n",
      "Epoch 37/300\n",
      "323/323 [==============================] - 0s 90us/step - loss: 101.2242 - val_loss: 107.8132\n",
      "Epoch 38/300\n",
      "323/323 [==============================] - 0s 74us/step - loss: 94.8043 - val_loss: 101.8324\n",
      "Epoch 39/300\n",
      "323/323 [==============================] - 0s 86us/step - loss: 90.6075 - val_loss: 93.9390\n",
      "Epoch 40/300\n",
      "323/323 [==============================] - 0s 83us/step - loss: 88.2088 - val_loss: 91.7541\n",
      "Epoch 41/300\n",
      "323/323 [==============================] - 0s 77us/step - loss: 83.5457 - val_loss: 87.6234\n",
      "Epoch 42/300\n",
      "323/323 [==============================] - 0s 80us/step - loss: 80.0783 - val_loss: 85.5011\n",
      "Epoch 43/300\n",
      "323/323 [==============================] - 0s 67us/step - loss: 82.0399 - val_loss: 88.3830\n",
      "Epoch 44/300\n",
      "323/323 [==============================] - 0s 84us/step - loss: 77.0631 - val_loss: 80.2969\n",
      "Epoch 45/300\n",
      "323/323 [==============================] - 0s 79us/step - loss: 71.5044 - val_loss: 77.6006\n",
      "Epoch 46/300\n",
      "323/323 [==============================] - 0s 74us/step - loss: 67.8936 - val_loss: 74.4694\n",
      "Epoch 47/300\n",
      "323/323 [==============================] - 0s 91us/step - loss: 66.3445 - val_loss: 72.8826\n",
      "Epoch 48/300\n",
      "323/323 [==============================] - 0s 90us/step - loss: 62.6468 - val_loss: 73.9014\n",
      "Epoch 49/300\n",
      "323/323 [==============================] - 0s 90us/step - loss: 62.9357 - val_loss: 66.4855\n",
      "Epoch 50/300\n",
      "323/323 [==============================] - 0s 74us/step - loss: 60.4360 - val_loss: 66.2529\n",
      "Epoch 51/300\n",
      "323/323 [==============================] - 0s 90us/step - loss: 57.1007 - val_loss: 63.0288\n",
      "Epoch 52/300\n",
      "323/323 [==============================] - 0s 88us/step - loss: 57.6887 - val_loss: 58.8584\n",
      "Epoch 53/300\n",
      "323/323 [==============================] - 0s 88us/step - loss: 52.2883 - val_loss: 58.8576\n",
      "Epoch 54/300\n",
      "323/323 [==============================] - 0s 71us/step - loss: 52.0335 - val_loss: 55.2414\n",
      "Epoch 55/300\n",
      "323/323 [==============================] - 0s 77us/step - loss: 49.8867 - val_loss: 54.5092\n",
      "Epoch 56/300\n",
      "323/323 [==============================] - 0s 60us/step - loss: 47.8693 - val_loss: 56.6827\n",
      "Epoch 57/300\n",
      "323/323 [==============================] - 0s 61us/step - loss: 46.1059 - val_loss: 60.6228\n",
      "Epoch 58/300\n",
      "323/323 [==============================] - 0s 60us/step - loss: 49.8668 - val_loss: 51.9862\n",
      "Epoch 59/300\n",
      "323/323 [==============================] - 0s 58us/step - loss: 43.9095 - val_loss: 58.4829\n",
      "Epoch 60/300\n",
      "323/323 [==============================] - 0s 61us/step - loss: 47.1918 - val_loss: 46.5501\n",
      "Epoch 61/300\n",
      "323/323 [==============================] - 0s 62us/step - loss: 41.9895 - val_loss: 52.4580\n",
      "Epoch 62/300\n",
      "323/323 [==============================] - 0s 60us/step - loss: 42.1741 - val_loss: 47.7955\n",
      "Epoch 63/300\n",
      "323/323 [==============================] - 0s 63us/step - loss: 39.0763 - val_loss: 44.6837\n",
      "Epoch 64/300\n",
      "323/323 [==============================] - 0s 59us/step - loss: 37.6335 - val_loss: 46.6020\n",
      "Epoch 65/300\n",
      "323/323 [==============================] - 0s 62us/step - loss: 38.6500 - val_loss: 42.5709\n",
      "Epoch 66/300\n",
      "323/323 [==============================] - 0s 62us/step - loss: 35.2231 - val_loss: 42.4529\n",
      "Epoch 67/300\n",
      "323/323 [==============================] - 0s 60us/step - loss: 36.1849 - val_loss: 43.6136\n",
      "Epoch 68/300\n",
      "323/323 [==============================] - 0s 62us/step - loss: 37.4844 - val_loss: 41.1080\n",
      "Epoch 69/300\n",
      "323/323 [==============================] - 0s 59us/step - loss: 35.3803 - val_loss: 39.3120\n",
      "Epoch 70/300\n",
      "323/323 [==============================] - 0s 58us/step - loss: 37.0127 - val_loss: 43.1779\n",
      "Epoch 71/300\n",
      "323/323 [==============================] - 0s 59us/step - loss: 34.5733 - val_loss: 40.6193\n",
      "Epoch 72/300\n",
      "323/323 [==============================] - 0s 65us/step - loss: 32.3459 - val_loss: 40.0359\n",
      "Epoch 73/300\n",
      "323/323 [==============================] - 0s 58us/step - loss: 33.4026 - val_loss: 40.5496\n",
      "Epoch 74/300\n",
      "323/323 [==============================] - 0s 62us/step - loss: 33.1908 - val_loss: 40.5074\n",
      "Epoch 75/300\n",
      "323/323 [==============================] - 0s 65us/step - loss: 33.8142 - val_loss: 40.2566\n",
      "Epoch 76/300\n",
      "323/323 [==============================] - 0s 62us/step - loss: 33.7746 - val_loss: 40.7304\n",
      "Epoch 77/300\n",
      "323/323 [==============================] - 0s 59us/step - loss: 33.5900 - val_loss: 44.2728\n"
     ]
    },
    {
     "name": "stdout",
     "output_type": "stream",
     "text": [
      "Epoch 78/300\n",
      "323/323 [==============================] - 0s 62us/step - loss: 34.7389 - val_loss: 41.5173\n",
      "Epoch 79/300\n",
      "323/323 [==============================] - 0s 65us/step - loss: 32.5851 - val_loss: 37.9114\n",
      "Epoch 80/300\n",
      "323/323 [==============================] - 0s 67us/step - loss: 31.7938 - val_loss: 38.6004\n",
      "Epoch 81/300\n",
      "323/323 [==============================] - 0s 64us/step - loss: 32.4464 - val_loss: 40.6465\n",
      "Epoch 82/300\n",
      "323/323 [==============================] - 0s 61us/step - loss: 37.9312 - val_loss: 51.0402\n",
      "Epoch 83/300\n",
      "323/323 [==============================] - 0s 62us/step - loss: 32.6824 - val_loss: 38.8717\n",
      "Epoch 84/300\n",
      "323/323 [==============================] - 0s 60us/step - loss: 33.3926 - val_loss: 45.1107\n",
      "Epoch 85/300\n",
      "323/323 [==============================] - 0s 60us/step - loss: 30.5255 - val_loss: 39.5244\n",
      "Epoch 86/300\n",
      "323/323 [==============================] - 0s 62us/step - loss: 29.3198 - val_loss: 37.1376\n",
      "Epoch 87/300\n",
      "323/323 [==============================] - 0s 59us/step - loss: 28.8762 - val_loss: 41.4030\n",
      "Epoch 88/300\n",
      "323/323 [==============================] - 0s 60us/step - loss: 32.4282 - val_loss: 39.3303\n",
      "Epoch 89/300\n",
      "323/323 [==============================] - 0s 58us/step - loss: 28.9124 - val_loss: 40.1384\n",
      "Epoch 90/300\n",
      "323/323 [==============================] - 0s 68us/step - loss: 28.7778 - val_loss: 39.2977\n",
      "Epoch 91/300\n",
      "323/323 [==============================] - 0s 64us/step - loss: 29.3507 - val_loss: 37.1946\n",
      "Epoch 92/300\n",
      "323/323 [==============================] - 0s 64us/step - loss: 27.1896 - val_loss: 39.8873\n",
      "Epoch 93/300\n",
      "323/323 [==============================] - 0s 72us/step - loss: 27.9049 - val_loss: 44.9812\n",
      "Epoch 94/300\n",
      "323/323 [==============================] - 0s 63us/step - loss: 31.4198 - val_loss: 35.3132\n",
      "Epoch 95/300\n",
      "323/323 [==============================] - 0s 71us/step - loss: 27.5868 - val_loss: 38.5021\n",
      "Epoch 96/300\n",
      "323/323 [==============================] - 0s 66us/step - loss: 26.6292 - val_loss: 43.6919\n",
      "Epoch 97/300\n",
      "323/323 [==============================] - 0s 62us/step - loss: 28.8903 - val_loss: 36.3287\n",
      "Epoch 98/300\n",
      "323/323 [==============================] - 0s 65us/step - loss: 26.3059 - val_loss: 37.8597\n",
      "Epoch 99/300\n",
      "323/323 [==============================] - 0s 71us/step - loss: 26.9763 - val_loss: 37.0912\n",
      "Epoch 100/300\n",
      "323/323 [==============================] - 0s 65us/step - loss: 28.9886 - val_loss: 40.3956\n",
      "Epoch 101/300\n",
      "323/323 [==============================] - 0s 66us/step - loss: 27.7769 - val_loss: 39.9899\n",
      "Epoch 102/300\n",
      "323/323 [==============================] - 0s 64us/step - loss: 25.6073 - val_loss: 39.6006\n",
      "Epoch 103/300\n",
      "323/323 [==============================] - 0s 66us/step - loss: 25.6053 - val_loss: 38.2444\n",
      "Epoch 104/300\n",
      "323/323 [==============================] - 0s 67us/step - loss: 25.7220 - val_loss: 38.0991\n",
      "Epoch 105/300\n",
      "323/323 [==============================] - 0s 68us/step - loss: 24.6067 - val_loss: 36.7763\n",
      "Epoch 106/300\n",
      "323/323 [==============================] - 0s 68us/step - loss: 25.6641 - val_loss: 35.2913\n",
      "Epoch 107/300\n",
      "323/323 [==============================] - 0s 71us/step - loss: 25.3133 - val_loss: 38.5381\n",
      "Epoch 108/300\n",
      "323/323 [==============================] - 0s 68us/step - loss: 25.0629 - val_loss: 34.8637\n",
      "Epoch 109/300\n",
      "323/323 [==============================] - 0s 68us/step - loss: 25.3547 - val_loss: 34.6987\n",
      "Epoch 110/300\n",
      "323/323 [==============================] - 0s 67us/step - loss: 27.8498 - val_loss: 35.7296\n",
      "Epoch 111/300\n",
      "323/323 [==============================] - 0s 65us/step - loss: 25.1808 - val_loss: 37.8669\n",
      "Epoch 112/300\n",
      "323/323 [==============================] - 0s 65us/step - loss: 24.5716 - val_loss: 36.3121\n",
      "Epoch 113/300\n",
      "323/323 [==============================] - 0s 71us/step - loss: 23.4986 - val_loss: 35.9888\n",
      "Epoch 114/300\n",
      "323/323 [==============================] - 0s 75us/step - loss: 24.0792 - val_loss: 53.4852\n",
      "Epoch 115/300\n",
      "323/323 [==============================] - 0s 69us/step - loss: 30.0174 - val_loss: 33.6942\n",
      "Epoch 116/300\n",
      "323/323 [==============================] - 0s 69us/step - loss: 24.3996 - val_loss: 34.6268\n",
      "Epoch 117/300\n",
      "323/323 [==============================] - 0s 68us/step - loss: 23.3065 - val_loss: 32.9509\n",
      "Epoch 118/300\n",
      "323/323 [==============================] - 0s 66us/step - loss: 23.5223 - val_loss: 45.2864\n",
      "Epoch 119/300\n",
      "323/323 [==============================] - 0s 69us/step - loss: 39.2607 - val_loss: 38.2910\n",
      "Epoch 120/300\n",
      "323/323 [==============================] - 0s 67us/step - loss: 27.9086 - val_loss: 31.8517\n",
      "Epoch 121/300\n",
      "323/323 [==============================] - 0s 65us/step - loss: 23.4154 - val_loss: 34.9984\n",
      "Epoch 122/300\n",
      "323/323 [==============================] - 0s 67us/step - loss: 22.5378 - val_loss: 33.6787\n",
      "Epoch 123/300\n",
      "323/323 [==============================] - 0s 71us/step - loss: 26.9955 - val_loss: 34.1785\n",
      "Epoch 124/300\n",
      "323/323 [==============================] - 0s 71us/step - loss: 31.3372 - val_loss: 35.4095\n",
      "Epoch 125/300\n",
      "323/323 [==============================] - 0s 71us/step - loss: 26.2435 - val_loss: 31.5414\n",
      "Epoch 126/300\n",
      "323/323 [==============================] - 0s 68us/step - loss: 24.1146 - val_loss: 32.9110\n",
      "Epoch 127/300\n",
      "323/323 [==============================] - 0s 72us/step - loss: 26.1813 - val_loss: 47.1968\n",
      "Epoch 128/300\n",
      "323/323 [==============================] - 0s 67us/step - loss: 32.1989 - val_loss: 32.3296\n",
      "Epoch 129/300\n",
      "323/323 [==============================] - 0s 70us/step - loss: 22.8585 - val_loss: 36.1295\n",
      "Epoch 130/300\n",
      "323/323 [==============================] - 0s 71us/step - loss: 24.3698 - val_loss: 30.8083\n",
      "Epoch 131/300\n",
      "323/323 [==============================] - 0s 72us/step - loss: 28.3711 - val_loss: 29.6891\n",
      "Epoch 132/300\n",
      "323/323 [==============================] - 0s 66us/step - loss: 24.6745 - val_loss: 30.6771\n",
      "Epoch 133/300\n",
      "323/323 [==============================] - 0s 67us/step - loss: 21.0953 - val_loss: 31.3713\n",
      "Epoch 134/300\n",
      "323/323 [==============================] - 0s 66us/step - loss: 21.1648 - val_loss: 31.8967\n",
      "Epoch 135/300\n",
      "323/323 [==============================] - 0s 66us/step - loss: 23.1450 - val_loss: 29.8841\n",
      "Epoch 136/300\n",
      "323/323 [==============================] - 0s 71us/step - loss: 21.7544 - val_loss: 31.6681\n",
      "Epoch 137/300\n",
      "323/323 [==============================] - 0s 72us/step - loss: 21.8959 - val_loss: 30.9501\n",
      "Epoch 138/300\n",
      "323/323 [==============================] - 0s 68us/step - loss: 22.0185 - val_loss: 33.1416\n",
      "Epoch 139/300\n",
      "323/323 [==============================] - 0s 68us/step - loss: 22.0552 - val_loss: 31.7654\n",
      "Epoch 140/300\n",
      "323/323 [==============================] - 0s 74us/step - loss: 23.3231 - val_loss: 36.2525\n",
      "Epoch 141/300\n",
      "323/323 [==============================] - 0s 73us/step - loss: 22.0517 - val_loss: 28.9401\n",
      "Epoch 142/300\n",
      "323/323 [==============================] - 0s 71us/step - loss: 22.5201 - val_loss: 29.9125\n",
      "Epoch 143/300\n",
      "323/323 [==============================] - 0s 73us/step - loss: 21.8844 - val_loss: 32.2699\n",
      "Epoch 144/300\n",
      "323/323 [==============================] - 0s 72us/step - loss: 21.0164 - val_loss: 28.4832\n",
      "Epoch 145/300\n",
      "323/323 [==============================] - 0s 74us/step - loss: 21.0528 - val_loss: 31.0040\n",
      "Epoch 146/300\n",
      "323/323 [==============================] - 0s 68us/step - loss: 21.7331 - val_loss: 28.6857\n",
      "Epoch 147/300\n",
      "323/323 [==============================] - 0s 68us/step - loss: 21.0487 - val_loss: 26.4033\n",
      "Epoch 148/300\n",
      "323/323 [==============================] - 0s 67us/step - loss: 21.0877 - val_loss: 31.4909\n",
      "Epoch 149/300\n",
      "323/323 [==============================] - 0s 70us/step - loss: 22.1611 - val_loss: 28.7988\n",
      "Epoch 150/300\n",
      "323/323 [==============================] - 0s 71us/step - loss: 20.7279 - val_loss: 28.7271\n",
      "Epoch 151/300\n",
      "323/323 [==============================] - 0s 71us/step - loss: 21.2368 - val_loss: 33.0148\n",
      "Epoch 152/300\n",
      "323/323 [==============================] - 0s 69us/step - loss: 20.1651 - val_loss: 27.2429\n",
      "Epoch 153/300\n",
      "323/323 [==============================] - 0s 68us/step - loss: 19.5817 - val_loss: 27.1439\n",
      "Epoch 154/300\n",
      "323/323 [==============================] - 0s 69us/step - loss: 19.3856 - val_loss: 27.2011\n",
      "Epoch 155/300\n"
     ]
    },
    {
     "name": "stdout",
     "output_type": "stream",
     "text": [
      "323/323 [==============================] - 0s 68us/step - loss: 19.2376 - val_loss: 29.8294\n",
      "Epoch 156/300\n",
      "323/323 [==============================] - 0s 72us/step - loss: 20.9179 - val_loss: 27.1300\n",
      "Epoch 157/300\n",
      "323/323 [==============================] - 0s 68us/step - loss: 18.0990 - val_loss: 26.8532\n",
      "Epoch 158/300\n",
      "323/323 [==============================] - 0s 67us/step - loss: 19.3069 - val_loss: 30.4334\n",
      "Epoch 159/300\n",
      "323/323 [==============================] - 0s 65us/step - loss: 29.8475 - val_loss: 33.1155\n",
      "Epoch 160/300\n",
      "323/323 [==============================] - 0s 74us/step - loss: 25.8782 - val_loss: 33.1697\n",
      "Epoch 161/300\n",
      "323/323 [==============================] - 0s 67us/step - loss: 20.3143 - val_loss: 29.9139\n",
      "Epoch 162/300\n",
      "323/323 [==============================] - 0s 66us/step - loss: 20.7423 - val_loss: 28.3236\n",
      "Epoch 163/300\n",
      "323/323 [==============================] - 0s 73us/step - loss: 19.4083 - val_loss: 27.3970\n",
      "Epoch 164/300\n",
      "323/323 [==============================] - 0s 68us/step - loss: 20.2966 - val_loss: 32.1817\n",
      "Epoch 165/300\n",
      "323/323 [==============================] - 0s 69us/step - loss: 21.8511 - val_loss: 26.3869\n",
      "Epoch 166/300\n",
      "323/323 [==============================] - 0s 65us/step - loss: 19.9376 - val_loss: 28.6375\n",
      "Epoch 167/300\n",
      "323/323 [==============================] - 0s 71us/step - loss: 19.7430 - val_loss: 30.0407\n",
      "Epoch 168/300\n",
      "323/323 [==============================] - 0s 80us/step - loss: 20.1783 - val_loss: 26.1870\n",
      "Epoch 169/300\n",
      "323/323 [==============================] - 0s 77us/step - loss: 21.2097 - val_loss: 26.9888\n",
      "Epoch 170/300\n",
      "323/323 [==============================] - 0s 74us/step - loss: 20.4773 - val_loss: 25.9080\n",
      "Epoch 171/300\n",
      "323/323 [==============================] - 0s 83us/step - loss: 20.5267 - val_loss: 27.3862\n",
      "Epoch 172/300\n",
      "323/323 [==============================] - 0s 70us/step - loss: 20.7987 - val_loss: 25.3883\n",
      "Epoch 173/300\n",
      "323/323 [==============================] - 0s 72us/step - loss: 22.2447 - val_loss: 37.4778\n",
      "Epoch 174/300\n",
      "323/323 [==============================] - 0s 71us/step - loss: 21.9620 - val_loss: 26.5963\n",
      "Epoch 175/300\n",
      "323/323 [==============================] - 0s 68us/step - loss: 19.1438 - val_loss: 25.9973\n",
      "Epoch 176/300\n",
      "323/323 [==============================] - 0s 74us/step - loss: 19.8940 - val_loss: 25.3585\n",
      "Epoch 177/300\n",
      "323/323 [==============================] - 0s 70us/step - loss: 17.6991 - val_loss: 27.9312\n",
      "Epoch 178/300\n",
      "323/323 [==============================] - 0s 71us/step - loss: 18.1988 - val_loss: 26.0939\n",
      "Epoch 179/300\n",
      "323/323 [==============================] - 0s 71us/step - loss: 19.4244 - val_loss: 27.1598\n",
      "Epoch 180/300\n",
      "323/323 [==============================] - 0s 71us/step - loss: 18.6836 - val_loss: 27.4818\n",
      "Epoch 181/300\n",
      "323/323 [==============================] - 0s 67us/step - loss: 18.1941 - val_loss: 23.3883\n",
      "Epoch 182/300\n",
      "323/323 [==============================] - 0s 70us/step - loss: 17.8592 - val_loss: 26.1411\n",
      "Epoch 183/300\n",
      "323/323 [==============================] - 0s 69us/step - loss: 17.5225 - val_loss: 25.2499\n",
      "Epoch 184/300\n",
      "323/323 [==============================] - 0s 71us/step - loss: 18.0464 - val_loss: 27.3046\n",
      "Epoch 185/300\n",
      "323/323 [==============================] - 0s 68us/step - loss: 20.3406 - val_loss: 25.7967\n",
      "Epoch 186/300\n",
      "323/323 [==============================] - 0s 67us/step - loss: 16.9434 - val_loss: 24.2193\n",
      "Epoch 187/300\n",
      "323/323 [==============================] - 0s 67us/step - loss: 16.5693 - val_loss: 27.5342\n",
      "Epoch 188/300\n",
      "323/323 [==============================] - 0s 70us/step - loss: 17.5274 - val_loss: 27.6483\n",
      "Epoch 189/300\n",
      "323/323 [==============================] - 0s 71us/step - loss: 18.1606 - val_loss: 24.7260\n",
      "Epoch 190/300\n",
      "323/323 [==============================] - 0s 65us/step - loss: 16.7144 - val_loss: 24.1090\n",
      "Epoch 191/300\n",
      "323/323 [==============================] - 0s 72us/step - loss: 17.7297 - val_loss: 25.7511\n",
      "Epoch 192/300\n",
      "323/323 [==============================] - 0s 73us/step - loss: 17.3865 - val_loss: 23.9878\n",
      "Epoch 193/300\n",
      "323/323 [==============================] - 0s 67us/step - loss: 17.3907 - val_loss: 21.6795\n",
      "Epoch 194/300\n",
      "323/323 [==============================] - 0s 69us/step - loss: 16.2011 - val_loss: 24.9798\n",
      "Epoch 195/300\n",
      "323/323 [==============================] - 0s 68us/step - loss: 17.7039 - val_loss: 22.0777\n",
      "Epoch 196/300\n",
      "323/323 [==============================] - 0s 73us/step - loss: 17.3020 - val_loss: 23.2907\n",
      "Epoch 197/300\n",
      "323/323 [==============================] - 0s 72us/step - loss: 16.2833 - val_loss: 24.9158\n",
      "Epoch 198/300\n",
      "323/323 [==============================] - 0s 70us/step - loss: 16.5639 - val_loss: 24.1947\n",
      "Epoch 199/300\n",
      "323/323 [==============================] - 0s 72us/step - loss: 17.1731 - val_loss: 29.1238\n",
      "Epoch 200/300\n",
      "323/323 [==============================] - 0s 70us/step - loss: 17.1273 - val_loss: 25.6363\n",
      "Epoch 201/300\n",
      "323/323 [==============================] - 0s 67us/step - loss: 15.4733 - val_loss: 24.5963\n",
      "Epoch 202/300\n",
      "323/323 [==============================] - 0s 68us/step - loss: 16.5083 - val_loss: 25.9613\n",
      "Epoch 203/300\n",
      "323/323 [==============================] - 0s 70us/step - loss: 17.1258 - val_loss: 25.1143\n",
      "Epoch 204/300\n",
      "323/323 [==============================] - 0s 68us/step - loss: 16.3557 - val_loss: 25.8343\n",
      "Epoch 205/300\n",
      "323/323 [==============================] - 0s 68us/step - loss: 18.4227 - val_loss: 25.4565\n",
      "Epoch 206/300\n",
      "323/323 [==============================] - 0s 73us/step - loss: 19.0349 - val_loss: 24.6579\n",
      "Epoch 207/300\n",
      "323/323 [==============================] - 0s 68us/step - loss: 16.2100 - val_loss: 24.0839\n",
      "Epoch 208/300\n",
      "323/323 [==============================] - 0s 67us/step - loss: 17.2325 - val_loss: 23.1114\n",
      "Epoch 209/300\n",
      "323/323 [==============================] - 0s 73us/step - loss: 17.2902 - val_loss: 26.4256\n",
      "Epoch 210/300\n",
      "323/323 [==============================] - 0s 75us/step - loss: 19.3378 - val_loss: 26.1834\n",
      "Epoch 211/300\n",
      "323/323 [==============================] - 0s 68us/step - loss: 17.4369 - val_loss: 19.8503\n",
      "Epoch 212/300\n",
      "323/323 [==============================] - 0s 73us/step - loss: 18.5292 - val_loss: 29.0677\n",
      "Epoch 213/300\n",
      "323/323 [==============================] - 0s 69us/step - loss: 16.2707 - val_loss: 21.9841\n",
      "Epoch 214/300\n",
      "323/323 [==============================] - 0s 70us/step - loss: 18.3544 - val_loss: 30.7101\n",
      "Epoch 215/300\n",
      "323/323 [==============================] - 0s 71us/step - loss: 16.7057 - val_loss: 22.4601\n",
      "Epoch 216/300\n",
      "323/323 [==============================] - 0s 76us/step - loss: 15.6206 - val_loss: 21.8119\n",
      "Epoch 217/300\n",
      "323/323 [==============================] - 0s 65us/step - loss: 16.1492 - val_loss: 30.1994\n",
      "Epoch 218/300\n",
      "323/323 [==============================] - 0s 65us/step - loss: 16.6058 - val_loss: 21.5750\n",
      "Epoch 219/300\n",
      "323/323 [==============================] - 0s 63us/step - loss: 15.9338 - val_loss: 27.1244\n",
      "Epoch 220/300\n",
      "323/323 [==============================] - 0s 68us/step - loss: 14.6191 - val_loss: 20.8038\n",
      "Epoch 221/300\n",
      "323/323 [==============================] - 0s 65us/step - loss: 22.6647 - val_loss: 24.9873\n",
      "Epoch 222/300\n",
      "323/323 [==============================] - 0s 65us/step - loss: 16.7141 - val_loss: 24.4236\n",
      "Epoch 223/300\n",
      "323/323 [==============================] - 0s 71us/step - loss: 14.6204 - val_loss: 24.7786\n",
      "Epoch 224/300\n",
      "323/323 [==============================] - 0s 67us/step - loss: 16.7779 - val_loss: 22.2297\n",
      "Epoch 225/300\n",
      "323/323 [==============================] - 0s 63us/step - loss: 18.6675 - val_loss: 22.2889\n",
      "Epoch 226/300\n",
      "323/323 [==============================] - 0s 67us/step - loss: 18.6160 - val_loss: 23.1626\n",
      "Epoch 227/300\n",
      "323/323 [==============================] - 0s 68us/step - loss: 17.0887 - val_loss: 32.9832\n",
      "Epoch 228/300\n",
      "323/323 [==============================] - 0s 63us/step - loss: 20.4219 - val_loss: 23.7968\n",
      "Epoch 229/300\n",
      "323/323 [==============================] - 0s 64us/step - loss: 15.0047 - val_loss: 22.8008\n",
      "Epoch 230/300\n",
      "323/323 [==============================] - 0s 70us/step - loss: 15.0755 - val_loss: 25.9267\n",
      "Epoch 231/300\n",
      "323/323 [==============================] - 0s 67us/step - loss: 15.7968 - val_loss: 19.7153\n",
      "Epoch 232/300\n"
     ]
    },
    {
     "name": "stdout",
     "output_type": "stream",
     "text": [
      "323/323 [==============================] - 0s 65us/step - loss: 15.8418 - val_loss: 25.4272\n",
      "Epoch 233/300\n",
      "323/323 [==============================] - 0s 68us/step - loss: 15.3581 - val_loss: 19.9383\n",
      "Epoch 234/300\n",
      "323/323 [==============================] - 0s 66us/step - loss: 15.5185 - val_loss: 23.8872\n",
      "Epoch 235/300\n",
      "323/323 [==============================] - 0s 68us/step - loss: 15.9136 - val_loss: 22.9874\n",
      "Epoch 236/300\n",
      "323/323 [==============================] - 0s 65us/step - loss: 15.9559 - val_loss: 22.6162\n",
      "Epoch 237/300\n",
      "323/323 [==============================] - 0s 64us/step - loss: 15.7246 - val_loss: 22.7477\n",
      "Epoch 238/300\n",
      "323/323 [==============================] - 0s 65us/step - loss: 15.9821 - val_loss: 21.3990\n",
      "Epoch 239/300\n",
      "323/323 [==============================] - 0s 66us/step - loss: 15.5315 - val_loss: 24.5273\n",
      "Epoch 240/300\n",
      "323/323 [==============================] - 0s 70us/step - loss: 15.1640 - val_loss: 18.4082\n",
      "Epoch 241/300\n",
      "323/323 [==============================] - 0s 71us/step - loss: 18.9435 - val_loss: 29.1880\n",
      "Epoch 242/300\n",
      "323/323 [==============================] - 0s 68us/step - loss: 16.4966 - val_loss: 29.3008\n",
      "Epoch 243/300\n",
      "323/323 [==============================] - 0s 64us/step - loss: 16.0408 - val_loss: 22.1410\n",
      "Epoch 244/300\n",
      "323/323 [==============================] - 0s 67us/step - loss: 14.7885 - val_loss: 21.8428\n",
      "Epoch 245/300\n",
      "323/323 [==============================] - 0s 65us/step - loss: 14.8203 - val_loss: 17.8895\n",
      "Epoch 246/300\n",
      "323/323 [==============================] - 0s 63us/step - loss: 14.1488 - val_loss: 21.7156\n",
      "Epoch 247/300\n",
      "323/323 [==============================] - 0s 65us/step - loss: 14.5510 - val_loss: 25.9325\n",
      "Epoch 248/300\n",
      "323/323 [==============================] - 0s 73us/step - loss: 16.8390 - val_loss: 18.9554\n",
      "Epoch 249/300\n",
      "323/323 [==============================] - 0s 68us/step - loss: 16.5385 - val_loss: 20.3033\n",
      "Epoch 250/300\n",
      "323/323 [==============================] - 0s 66us/step - loss: 14.5372 - val_loss: 18.9959\n",
      "Epoch 251/300\n",
      "323/323 [==============================] - 0s 68us/step - loss: 15.0714 - val_loss: 23.4354\n",
      "Epoch 252/300\n",
      "323/323 [==============================] - 0s 64us/step - loss: 14.4519 - val_loss: 28.3082\n",
      "Epoch 253/300\n",
      "323/323 [==============================] - 0s 67us/step - loss: 15.5604 - val_loss: 24.1611\n",
      "Epoch 254/300\n",
      "323/323 [==============================] - 0s 65us/step - loss: 12.8620 - val_loss: 35.3311\n",
      "Epoch 255/300\n",
      "323/323 [==============================] - 0s 66us/step - loss: 34.8137 - val_loss: 32.8211\n",
      "Epoch 256/300\n",
      "323/323 [==============================] - 0s 68us/step - loss: 20.6977 - val_loss: 21.6532\n",
      "Epoch 257/300\n",
      "323/323 [==============================] - 0s 67us/step - loss: 17.4185 - val_loss: 25.7332\n",
      "Epoch 258/300\n",
      "323/323 [==============================] - 0s 68us/step - loss: 14.2050 - val_loss: 19.7187\n",
      "Epoch 259/300\n",
      "323/323 [==============================] - 0s 68us/step - loss: 15.7233 - val_loss: 20.5143\n",
      "Epoch 260/300\n",
      "323/323 [==============================] - 0s 68us/step - loss: 14.8138 - val_loss: 26.7594\n",
      "Epoch 261/300\n",
      "323/323 [==============================] - 0s 63us/step - loss: 14.7574 - val_loss: 23.2508\n",
      "Epoch 262/300\n",
      "323/323 [==============================] - 0s 62us/step - loss: 16.9179 - val_loss: 26.6655\n",
      "Epoch 263/300\n",
      "323/323 [==============================] - 0s 66us/step - loss: 15.7002 - val_loss: 22.1850\n",
      "Epoch 264/300\n",
      "323/323 [==============================] - 0s 62us/step - loss: 14.9399 - val_loss: 21.8933\n",
      "Epoch 265/300\n",
      "323/323 [==============================] - 0s 65us/step - loss: 15.1944 - val_loss: 29.7240\n",
      "Epoch 266/300\n",
      "323/323 [==============================] - 0s 65us/step - loss: 17.1405 - val_loss: 24.0459\n",
      "Epoch 267/300\n",
      "323/323 [==============================] - 0s 72us/step - loss: 14.5088 - val_loss: 20.3401\n",
      "Epoch 268/300\n",
      "323/323 [==============================] - 0s 67us/step - loss: 12.8989 - val_loss: 19.6035\n",
      "Epoch 269/300\n",
      "323/323 [==============================] - 0s 69us/step - loss: 12.3280 - val_loss: 20.1774\n",
      "Epoch 270/300\n",
      "323/323 [==============================] - 0s 65us/step - loss: 15.0310 - val_loss: 29.5793\n",
      "Epoch 271/300\n",
      "323/323 [==============================] - 0s 74us/step - loss: 13.3639 - val_loss: 19.9749\n",
      "Epoch 272/300\n",
      "323/323 [==============================] - 0s 68us/step - loss: 13.5724 - val_loss: 21.5276\n",
      "Epoch 273/300\n",
      "323/323 [==============================] - 0s 70us/step - loss: 14.0426 - val_loss: 22.6495\n",
      "Epoch 274/300\n",
      "323/323 [==============================] - 0s 69us/step - loss: 12.6108 - val_loss: 19.9271\n",
      "Epoch 275/300\n",
      "323/323 [==============================] - 0s 65us/step - loss: 12.2768 - val_loss: 21.3832\n",
      "Epoch 276/300\n",
      "323/323 [==============================] - 0s 71us/step - loss: 12.8212 - val_loss: 23.5201\n",
      "Epoch 277/300\n",
      "323/323 [==============================] - 0s 68us/step - loss: 13.7491 - val_loss: 23.7011\n",
      "Epoch 278/300\n",
      "323/323 [==============================] - 0s 68us/step - loss: 13.4399 - val_loss: 29.9617\n",
      "Epoch 279/300\n",
      "323/323 [==============================] - 0s 71us/step - loss: 34.0433 - val_loss: 39.0294\n",
      "Epoch 280/300\n",
      "323/323 [==============================] - 0s 71us/step - loss: 21.2569 - val_loss: 26.0171\n",
      "Epoch 281/300\n",
      "323/323 [==============================] - 0s 68us/step - loss: 14.2237 - val_loss: 19.2607\n",
      "Epoch 282/300\n",
      "323/323 [==============================] - 0s 67us/step - loss: 12.9779 - val_loss: 24.3323\n",
      "Epoch 283/300\n",
      "323/323 [==============================] - 0s 71us/step - loss: 15.1253 - val_loss: 20.3614\n",
      "Epoch 284/300\n",
      "323/323 [==============================] - 0s 69us/step - loss: 14.3792 - val_loss: 26.1616\n",
      "Epoch 285/300\n",
      "323/323 [==============================] - 0s 69us/step - loss: 13.6100 - val_loss: 22.0766\n",
      "Epoch 286/300\n",
      "323/323 [==============================] - 0s 63us/step - loss: 14.2502 - val_loss: 25.0087\n",
      "Epoch 287/300\n",
      "323/323 [==============================] - 0s 68us/step - loss: 12.8419 - val_loss: 21.4934\n",
      "Epoch 288/300\n",
      "323/323 [==============================] - 0s 74us/step - loss: 15.7903 - val_loss: 20.1343\n",
      "Epoch 289/300\n",
      "323/323 [==============================] - 0s 71us/step - loss: 13.2960 - val_loss: 22.0101\n",
      "Epoch 290/300\n",
      "323/323 [==============================] - 0s 73us/step - loss: 13.4138 - val_loss: 19.0660\n",
      "Epoch 291/300\n",
      "323/323 [==============================] - 0s 68us/step - loss: 12.6129 - val_loss: 22.2348\n",
      "Epoch 292/300\n",
      "323/323 [==============================] - 0s 69us/step - loss: 13.0392 - val_loss: 22.4212\n",
      "Epoch 293/300\n",
      "323/323 [==============================] - 0s 65us/step - loss: 12.5054 - val_loss: 32.4066\n",
      "Epoch 294/300\n",
      "323/323 [==============================] - 0s 72us/step - loss: 14.3237 - val_loss: 21.9660\n",
      "Epoch 295/300\n",
      "323/323 [==============================] - 0s 72us/step - loss: 13.7472 - val_loss: 21.0374\n",
      "Epoch 296/300\n",
      "323/323 [==============================] - 0s 70us/step - loss: 13.6648 - val_loss: 23.1726\n",
      "Epoch 297/300\n",
      "323/323 [==============================] - 0s 63us/step - loss: 12.7800 - val_loss: 18.3643\n",
      "Epoch 298/300\n",
      "323/323 [==============================] - 0s 76us/step - loss: 13.6009 - val_loss: 17.5639\n",
      "Epoch 299/300\n",
      "323/323 [==============================] - 0s 68us/step - loss: 13.2599 - val_loss: 28.1875\n",
      "Epoch 300/300\n",
      "323/323 [==============================] - 0s 73us/step - loss: 14.7966 - val_loss: 20.6179\n",
      "102/102 [==============================] - 0s 19us/step\n"
     ]
    }
   ],
   "source": [
    "#Fit the model to the training set and calculate loss\n",
    "\n",
    "#Import early stopping -\n",
    "from keras.callbacks import EarlyStopping\n",
    "early_stopping_monitor = EarlyStopping(patience=10)\n",
    "# callbacks=[early_stopping_monitor],\n",
    "#train model\n",
    "\n",
    "hist = model.fit(x_train, y_train, validation_split=0.2, epochs=300, batch_size=16)\n",
    "\n",
    "#Calculate the predictions on the test: set x_test which is 0.5 of the entire set\n",
    "preds = model.predict(x_test)\n",
    "\n",
    "#Evaluate the performance of the model - output the loss function\n",
    "evals = model.evaluate(x_test, y_test)\n",
    "#print (\"Loss value is:\", float(\"{0:.2f}\".format(evals)))"
   ]
  },
  {
   "cell_type": "markdown",
   "metadata": {},
   "source": [
    "Plot of model loss derived from REF [https://hackernoon.com/build-your-first-neural-network-to-predict-house-prices-with-keras-3fb0839680f4] and understanding from REF []"
   ]
  },
  {
   "cell_type": "code",
   "execution_count": 32,
   "metadata": {},
   "outputs": [
    {
     "data": {
      "image/png": "[encoded data removed]",
      "text/plain": [
       "<Figure size 864x864 with 1 Axes>"
      ]
     },
     "metadata": {},
     "output_type": "display_data"
    }
   ],
   "source": [
    "plt.figure(figsize=(12, 12))\n",
    "# summarize history for loss\n",
    "plt.plot(hist.history[\"loss\"])\n",
    "plt.plot(hist.history[\"val_loss\"])\n",
    "plt.title(\"Model Loss\")\n",
    "plt.ylabel(\"Loss\")\n",
    "plt.xlabel(\"Epoch\")\n",
    "plt.legend([\"Train\", \"Val\"], loc=\"upper center\")\n",
    "plt.show()"
   ]
  },
  {
   "cell_type": "markdown",
   "metadata": {},
   "source": [
    "**TEST THE MODEL**"
   ]
  },
  {
   "cell_type": "markdown",
   "metadata": {},
   "source": [
    "The `model.fit` function iterates over the data set reducing the cost value until it reaches its minimum and outputs the result of the loss function. It can also be calculated independently using the `model.evaluate` function the result of which is seen below."
   ]
  },
  {
   "cell_type": "markdown",
   "metadata": {
    "scrolled": true
   },
   "source": [
    "# MODEL EVALUATION \n",
    "\n",
    "As calculated above"
   ]
  },
  {
   "cell_type": "code",
   "execution_count": 33,
   "metadata": {},
   "outputs": [
    {
     "name": "stdout",
     "output_type": "stream",
     "text": [
      "Loss value is: 20.853\n"
     ]
    }
   ],
   "source": [
    "model_eval = model.evaluate(x_train, y_train, verbose=0)\n",
    "\n",
    "print (\"Loss value is:\", float(\"{0:.3f}\".format(model_eval)))\n"
   ]
  },
  {
   "cell_type": "markdown",
   "metadata": {},
   "source": [
    "The above loss value 12.553 equates to a model inaccuracy of 13,995 i.e the average prediction on the training set is out by 13,995"
   ]
  },
  {
   "cell_type": "markdown",
   "metadata": {},
   "source": [
    "**QUICK COMPARISON OF ACTUAL V PREDICTED PRICES**"
   ]
  },
  {
   "cell_type": "code",
   "execution_count": 34,
   "metadata": {},
   "outputs": [
    {
     "name": "stdout",
     "output_type": "stream",
     "text": [
      "The first ten actual house price are \n",
      "    PRICE\n",
      "0   24.0\n",
      "1   21.6\n",
      "2   34.7\n",
      "3   33.4\n",
      "4   36.2\n",
      "5   28.7\n",
      "6   22.9\n",
      "7   27.1\n",
      "8   16.5\n",
      "9   18.9\n",
      "The first ten model predictions of house price are \n",
      " [[31.735987]\n",
      " [18.767296]\n",
      " [29.750727]\n",
      " [33.433403]\n",
      " [29.159668]\n",
      " [26.161924]\n",
      " [17.626255]\n",
      " [13.661012]\n",
      " [14.204521]\n",
      " [13.470755]]\n"
     ]
    }
   ],
   "source": [
    "#print first ten rows of dataset prices column\n",
    "first_10_Prices = bos.iloc[0:10, 13:15]\n",
    "\n",
    "print(\"The first ten actual house price are \\n\", first_10_Prices)\n",
    "\n",
    "y_true = bos['PRICE']\n",
    "y_pred = model.predict(x)\n",
    "\n",
    "#Output first 10 predictions\n",
    "print(\"The first ten model predictions of house price are \\n\",y_pred[:10])\n"
   ]
  },
  {
   "cell_type": "markdown",
   "metadata": {},
   "source": [
    "A quick comparison of the first ten actual v predicted house prices above reveals differences which vary from one comparison to another. From this we can summise that the model does not reliably predict house prices\n",
    "\n",
    "\n",
    "Learnings in the **TEST MODEL** above from REF [https://www.youtube.com/watch?v=zinEPDj7SD8]\n"
   ]
  },
  {
   "cell_type": "markdown",
   "metadata": {},
   "source": [
    "**PLOT OF PREDICTED HOUSE PRICE V ACTUAL**"
   ]
  },
  {
   "cell_type": "markdown",
   "metadata": {},
   "source": [
    "The following plot is of the first 100 actual V predicted house prices"
   ]
  },
  {
   "cell_type": "code",
   "execution_count": 35,
   "metadata": {},
   "outputs": [
    {
     "data": {
      "image/png": "[encoded data removed]",
      "text/plain": [
       "<Figure size 864x864 with 1 Axes>"
      ]
     },
     "metadata": {},
     "output_type": "display_data"
    }
   ],
   "source": [
    "#Plot of actual v predicted price of first 100 data points\n",
    "plt.figure(figsize=(12, 12))\n",
    "plt.plot(y_pred[:100], 'r-', label ='Prediction')\n",
    "plt.plot(y_true[:100], 'g', label = 'Actual')\n",
    "plt.title(\"Neural Network Prediction V Actual\")\n",
    "plt.ylabel(\"Price(x1000)\")\n",
    "plt.xlabel(\"Zone\")\n",
    "plt.legend([\"Prediction\", \"Actual\"], loc=\"upper left\")\n",
    "plt.show()"
   ]
  },
  {
   "cell_type": "code",
   "execution_count": 36,
   "metadata": {},
   "outputs": [
    {
     "name": "stdout",
     "output_type": "stream",
     "text": [
      "The Mean Square error is 152.92143\n"
     ]
    }
   ],
   "source": [
    "#Evaluate the Mean-Squared error\n",
    "\n",
    "error = np.mean(kr.losses.mean_squared_error(y_true, y_pred))\n",
    "\n",
    "#MSE of first 100 predictions\n",
    "print (\"The Mean Square error is\", error) \n",
    "      "
   ]
  },
  {
   "cell_type": "markdown",
   "metadata": {},
   "source": [
    "As can be seen above the mean square error is high on our test set and shows that the model is not accurately predicting unknowns but has a lower loss value on the training set.\n",
    "\n",
    "Models which produce a low loss function but fail to accurately predict test data may be over-fitting the test set i.e the model does not generalise well to unknowns. Various approaches are advised to prevent over-fitting\n",
    "\n",
    "\n",
    "REF: [Hands-On Machine Learning with Scikit-Learn, KERAS & TensorFlow; Geron, A.; O'Reilly; 2019, 2nd Ed, p.27]\n",
    "REF: [ https://towardsdatascience.com/soon-or-later-you-will-face-this-problem-c5f204e9f55a ]"
   ]
  },
  {
   "cell_type": "markdown",
   "metadata": {},
   "source": [
    "**REDUCTION OF OVERFITTING**"
   ]
  },
  {
   "cell_type": "markdown",
   "metadata": {},
   "source": [
    "Models which produce a low loss function but fail to accurately predict test data may be over-fitting the test set. Various approaches are advised to prevent over-fitting\n",
    "\n",
    "Originally the test_set had been set to 0.5 of the data. Changing it to 0.2 had no tangible effect on the model.\n",
    "\n",
    "This article referenced from 'towardsdatascience' Discuss\n",
    "\n",
    "REF [https://towardsdatascience.com/a-gentle-journey-from-linear-regression-to-neural-networks-68881590760e] \n",
    "\n",
    "* Reducing the number of parameters of the networks\n",
    "* Getting more data or \n",
    "* Using explicit regularisers (in the loss function or through a dropout process)\n",
    "\n",
    "It isn't possible to get more data as our dataset is limited. However it is possible to reduce the number of parameters.Regularisation may also help. The authors advise that neural networks with many parameters can be prone to overfitting.  REF: [Hands-On Machine Learning with Scikit-Learn, KERAS & TensorFlow; Geron, A.; O'Reilly; 2019, 2nd Ed, p.364-374]\n",
    "\n",
    "Regularisation is defined as \"constraining the model to make it simpler and reduce the risk of overfitting. `kernel_regularizer` and `activity_regularizer` are both regularisation functions in keras used above.\n",
    "\n",
    " REF: [Hands-On Machine Learning with Scikit-Learn, KERAS & TensorFlow; Geron, A.; O'Reilly; 2019, 2nd Ed, p.28]"
   ]
  },
  {
   "cell_type": "markdown",
   "metadata": {},
   "source": [
    "**Next Steps:** \n",
    "\n",
    "* Reduce the complexity of the model"
   ]
  },
  {
   "cell_type": "markdown",
   "metadata": {},
   "source": [
    "Very low loss value and a reduction of MSE obtained by reducing the number of parameters to:\n",
    "\n",
    "x = bos[['ZN', 'PTRATIO, 'LSTAT', 'RM']\n",
    "y = bos[['PRICE']]\n",
    "\n",
    "These x values were chosen as they showed the highest positive correlation lowest (negative) correlation with House price in the correlation matrix output in the inferential statistics section. The justification being that these variables had the highest influence on median house price of all the variables in the dataset\n",
    "\n",
    "Removal of the Charles River Dummy Variable had no effect on accuracy"
   ]
  },
  {
   "cell_type": "markdown",
   "metadata": {},
   "source": [
    "**LITERATURE SEARCH & OTHER APPROACHES**"
   ]
  },
  {
   "cell_type": "markdown",
   "metadata": {},
   "source": [
    "These authors https://machinelearningmastery.com/regression-tutorial-keras-deep-learning-library-python/ achieved a mean squared error of 23.33 similar to what we achieved using similar model parameters to us.\n",
    "\n",
    "https://github.com/DavidCico/Boston-House-Prices-With-Regression-Machine-Learning-and-Keras-Deep-Learning/blob/master/Boston_deeplearning_regression.ipynb also achieved a MSE of 25-27 also using similar optimisation functions\n",
    "\n",
    "This author REF [https://www.kaggle.com/amundtveit/neural-network-model-for-house-prices-keras] used an approcah on another house price dataset to remove outliers. Their house price dataset  had 1460 row with 81 features. 38 continuous features and 43 categorical feature. They excluded categorical features from their model. The appeared to generate a good regression line of predicted vs actual prices (but didn't publish a MSE)\n",
    "\n",
    "As  can be seen from the box plots in the inferential statistics section, some of the house price data that does not border the Charles River contains outliers. It may be a useful approach to exclude these points. Additionally it can be observed that in the distribution of house prices bordering/not bordering the river that there is a cluster of prices at 50,000. Intuitively it may be a case that the data for house prices was capped at 50,000 for some reason."
   ]
  },
  {
   "cell_type": "code",
   "execution_count": 37,
   "metadata": {},
   "outputs": [],
   "source": [
    "#copied from https://www.kaggle.com/amundtveit/neural-network-model-for-house-prices-keras/comments\n",
    "\n",
    "#from sklearn.ensemble import IsolationForest\n",
    "\n",
    "#clf = IsolationForest(max_samples = 100, random_state = 42)\n",
    "#clf.fit(y_train)\n",
    "#y_noano = clf.predict(y_train)\n",
    "#y_noano = pd.DataFrame(y_noano, columns = ['Top'])\n",
    "#y_noano[y_noano['Top'] == 1].index.values\n",
    "\n",
    "#y_train2 = y_train.iloc[y_noano[y_noano['Top'] == 1].index.values]\n",
    "#y_train2.reset_index(drop = True, inplace = True)\n",
    "#print(\"Number of Outliers:\", y_noano[y_noano['Top'] == -1].shape[0])\n",
    "#print(\"Number of rows without outliers:\", y_train.shape[0])"
   ]
  },
  {
   "cell_type": "markdown",
   "metadata": {},
   "source": [
    "The `IsolationForest` `scikitlearn` function above has isolated and identified 36 outliers in our training set."
   ]
  },
  {
   "cell_type": "markdown",
   "metadata": {},
   "source": [
    "*PLACEHOLDER* need a different approach to remove outliers\n",
    "\n",
    "try https://towardsdatascience.com/ways-to-detect-and-remove-the-outliers-404d16608dba"
   ]
  },
  {
   "cell_type": "markdown",
   "metadata": {},
   "source": [
    "**SOME CODE TO REMOVE ALL VALUES = 50**"
   ]
  },
  {
   "cell_type": "code",
   "execution_count": 38,
   "metadata": {
    "scrolled": true
   },
   "outputs": [],
   "source": [
    "X = y_true\n",
    "\n",
    "X = list(filter(lambda x: x!= 50.0, X))\n",
    "\n",
    "#print(X)"
   ]
  },
  {
   "cell_type": "markdown",
   "metadata": {},
   "source": [
    "**Calculate the error when 50 is excluded from price**"
   ]
  },
  {
   "cell_type": "code",
   "execution_count": 39,
   "metadata": {
    "scrolled": true
   },
   "outputs": [
    {
     "name": "stdout",
     "output_type": "stream",
     "text": [
      "Mean Squared Error = 127.44575\n"
     ]
    }
   ],
   "source": [
    "error = np.mean(kr.losses.mean_squared_error(X, y_pred))\n",
    "print(\"Mean Squared Error =\",(error))"
   ]
  },
  {
   "cell_type": "markdown",
   "metadata": {},
   "source": [
    "The error value has dropped by excluding the price values at 50,000 dollars. It may now be worth investigating if removing all outliers from the dataset will improve prediction"
   ]
  },
  {
   "cell_type": "markdown",
   "metadata": {},
   "source": [
    "**CALCULATE Z SCORES FOR OUTLIERS**"
   ]
  },
  {
   "cell_type": "code",
   "execution_count": 40,
   "metadata": {},
   "outputs": [
    {
     "name": "stdout",
     "output_type": "stream",
     "text": [
      "[[0.41978194 0.28482986 1.2879095  ... 0.44105193 1.0755623  0.15968566]\n",
      " [0.41733926 0.48772236 0.59338101 ... 0.44105193 0.49243937 0.10152429]\n",
      " [0.41734159 0.48772236 0.59338101 ... 0.39642699 1.2087274  1.32424667]\n",
      " ...\n",
      " [0.41344658 0.48772236 0.11573841 ... 0.44105193 0.98304761 0.14880191]\n",
      " [0.40776407 0.48772236 0.11573841 ... 0.4032249  0.86530163 0.0579893 ]\n",
      " [0.41500016 0.48772236 0.11573841 ... 0.44105193 0.66905833 1.15724782]]\n"
     ]
    }
   ],
   "source": [
    "#REF [https://docs.scipy.org/doc/scipy/reference/generated/scipy.stats.zscore.html]\n",
    "\n",
    "z = np.abs(stats.zscore(bos))\n",
    "print(z)"
   ]
  },
  {
   "cell_type": "code",
   "execution_count": 41,
   "metadata": {},
   "outputs": [],
   "source": [
    " bos_o =bos[(z < 3).all(axis=1)]"
   ]
  },
  {
   "cell_type": "markdown",
   "metadata": {},
   "source": [
    "Removing outliers did not have  substantial effect on the prediction accuracy\n",
    "\n",
    "**Note: Dropping the number of epochs increases the loss value but decreases the error on test data. i.e. decreases overfitting but not enough to reduce the error on predictions substantially. May be a case for putting the `Early_stopping` function back in to the model.**"
   ]
  },
  {
   "cell_type": "code",
   "execution_count": 43,
   "metadata": {},
   "outputs": [
    {
     "name": "stdout",
     "output_type": "stream",
     "text": [
      "KFold(n_splits=2, random_state=None, shuffle=False)\n",
      "TRAIN: [253 254 255 256 257 258 259 260 261 262 263 264 265 266 267 268 269 270\n",
      " 271 272 273 274 275 276 277 278 279 280 281 282 283 284 285 286 287 288\n",
      " 289 290 291 292 293 294 295 296 297 298 299 300 301 302 303 304 305 306\n",
      " 307 308 309 310 311 312 313 314 315 316 317 318 319 320 321 322 323 324\n",
      " 325 326 327 328 329 330 331 332 333 334 335 336 337 338 339 340 341 342\n",
      " 343 344 345 346 347 348 349 350 351 352 353 354 355 356 357 358 359 360\n",
      " 361 362 363 364 365 366 367 368 369 370 371 372 373 374 375 376 377 378\n",
      " 379 380 381 382 383 384 385 386 387 388 389 390 391 392 393 394 395 396\n",
      " 397 398 399 400 401 402 403 404 405 406 407 408 409 410 411 412 413 414\n",
      " 415 416 417 418 419 420 421 422 423 424 425 426 427 428 429 430 431 432\n",
      " 433 434 435 436 437 438 439 440 441 442 443 444 445 446 447 448 449 450\n",
      " 451 452 453 454 455 456 457 458 459 460 461 462 463 464 465 466 467 468\n",
      " 469 470 471 472 473 474 475 476 477 478 479 480 481 482 483 484 485 486\n",
      " 487 488 489 490 491 492 493 494 495 496 497 498 499 500 501 502 503 504\n",
      " 505] TEST: [  0   1   2   3   4   5   6   7   8   9  10  11  12  13  14  15  16  17\n",
      "  18  19  20  21  22  23  24  25  26  27  28  29  30  31  32  33  34  35\n",
      "  36  37  38  39  40  41  42  43  44  45  46  47  48  49  50  51  52  53\n",
      "  54  55  56  57  58  59  60  61  62  63  64  65  66  67  68  69  70  71\n",
      "  72  73  74  75  76  77  78  79  80  81  82  83  84  85  86  87  88  89\n",
      "  90  91  92  93  94  95  96  97  98  99 100 101 102 103 104 105 106 107\n",
      " 108 109 110 111 112 113 114 115 116 117 118 119 120 121 122 123 124 125\n",
      " 126 127 128 129 130 131 132 133 134 135 136 137 138 139 140 141 142 143\n",
      " 144 145 146 147 148 149 150 151 152 153 154 155 156 157 158 159 160 161\n",
      " 162 163 164 165 166 167 168 169 170 171 172 173 174 175 176 177 178 179\n",
      " 180 181 182 183 184 185 186 187 188 189 190 191 192 193 194 195 196 197\n",
      " 198 199 200 201 202 203 204 205 206 207 208 209 210 211 212 213 214 215\n",
      " 216 217 218 219 220 221 222 223 224 225 226 227 228 229 230 231 232 233\n",
      " 234 235 236 237 238 239 240 241 242 243 244 245 246 247 248 249 250 251\n",
      " 252]\n"
     ]
    },
    {
     "ename": "KeyError",
     "evalue": "\"None of [Int64Index([253, 254, 255, 256, 257, 258, 259, 260, 261, 262,\\n            ...\\n            496, 497, 498, 499, 500, 501, 502, 503, 504, 505],\\n           dtype='int64', length=253)] are in the [columns]\"",
     "output_type": "error",
     "traceback": [
      "\u001b[1;31m---------------------------------------------------------------------------\u001b[0m",
      "\u001b[1;31mKeyError\u001b[0m                                  Traceback (most recent call last)",
      "\u001b[1;32m<ipython-input-43-4ca4f93f00a4>\u001b[0m in \u001b[0;36m<module>\u001b[1;34m\u001b[0m\n\u001b[0;32m     21\u001b[0m \u001b[1;32mfor\u001b[0m \u001b[0mtrain_index\u001b[0m\u001b[1;33m,\u001b[0m \u001b[0mtest_index\u001b[0m \u001b[1;32min\u001b[0m \u001b[0mkf\u001b[0m\u001b[1;33m.\u001b[0m\u001b[0msplit\u001b[0m\u001b[1;33m(\u001b[0m\u001b[0mx\u001b[0m\u001b[1;33m)\u001b[0m\u001b[1;33m:\u001b[0m\u001b[1;33m\u001b[0m\u001b[1;33m\u001b[0m\u001b[0m\n\u001b[0;32m     22\u001b[0m     \u001b[0mprint\u001b[0m\u001b[1;33m(\u001b[0m\u001b[1;34m\"TRAIN:\"\u001b[0m\u001b[1;33m,\u001b[0m \u001b[0mtrain_index\u001b[0m\u001b[1;33m,\u001b[0m \u001b[1;34m\"TEST:\"\u001b[0m\u001b[1;33m,\u001b[0m \u001b[0mtest_index\u001b[0m\u001b[1;33m)\u001b[0m\u001b[1;33m\u001b[0m\u001b[1;33m\u001b[0m\u001b[0m\n\u001b[1;32m---> 23\u001b[1;33m     \u001b[0mX_train\u001b[0m\u001b[1;33m,\u001b[0m \u001b[0mX_test\u001b[0m \u001b[1;33m=\u001b[0m \u001b[0mx\u001b[0m\u001b[1;33m[\u001b[0m\u001b[0mtrain_index\u001b[0m\u001b[1;33m]\u001b[0m\u001b[1;33m,\u001b[0m \u001b[0mx\u001b[0m\u001b[1;33m[\u001b[0m\u001b[0mtest_index\u001b[0m\u001b[1;33m]\u001b[0m\u001b[1;33m\u001b[0m\u001b[1;33m\u001b[0m\u001b[0m\n\u001b[0m\u001b[0;32m     24\u001b[0m     \u001b[0my_train\u001b[0m\u001b[1;33m,\u001b[0m \u001b[0my_test\u001b[0m \u001b[1;33m=\u001b[0m \u001b[0my\u001b[0m\u001b[1;33m[\u001b[0m\u001b[0mtrain_index\u001b[0m\u001b[1;33m]\u001b[0m\u001b[1;33m,\u001b[0m \u001b[0my\u001b[0m\u001b[1;33m[\u001b[0m\u001b[0mtest_index\u001b[0m\u001b[1;33m]\u001b[0m\u001b[1;33m\u001b[0m\u001b[1;33m\u001b[0m\u001b[0m\n",
      "\u001b[1;32m~\\Anaconda3\\lib\\site-packages\\pandas\\core\\frame.py\u001b[0m in \u001b[0;36m__getitem__\u001b[1;34m(self, key)\u001b[0m\n\u001b[0;32m   2932\u001b[0m                 \u001b[0mkey\u001b[0m \u001b[1;33m=\u001b[0m \u001b[0mlist\u001b[0m\u001b[1;33m(\u001b[0m\u001b[0mkey\u001b[0m\u001b[1;33m)\u001b[0m\u001b[1;33m\u001b[0m\u001b[1;33m\u001b[0m\u001b[0m\n\u001b[0;32m   2933\u001b[0m             indexer = self.loc._convert_to_indexer(key, axis=1,\n\u001b[1;32m-> 2934\u001b[1;33m                                                    raise_missing=True)\n\u001b[0m\u001b[0;32m   2935\u001b[0m \u001b[1;33m\u001b[0m\u001b[0m\n\u001b[0;32m   2936\u001b[0m         \u001b[1;31m# take() does not accept boolean indexers\u001b[0m\u001b[1;33m\u001b[0m\u001b[1;33m\u001b[0m\u001b[1;33m\u001b[0m\u001b[0m\n",
      "\u001b[1;32m~\\Anaconda3\\lib\\site-packages\\pandas\\core\\indexing.py\u001b[0m in \u001b[0;36m_convert_to_indexer\u001b[1;34m(self, obj, axis, is_setter, raise_missing)\u001b[0m\n\u001b[0;32m   1352\u001b[0m                 kwargs = {'raise_missing': True if is_setter else\n\u001b[0;32m   1353\u001b[0m                           raise_missing}\n\u001b[1;32m-> 1354\u001b[1;33m                 \u001b[1;32mreturn\u001b[0m \u001b[0mself\u001b[0m\u001b[1;33m.\u001b[0m\u001b[0m_get_listlike_indexer\u001b[0m\u001b[1;33m(\u001b[0m\u001b[0mobj\u001b[0m\u001b[1;33m,\u001b[0m \u001b[0maxis\u001b[0m\u001b[1;33m,\u001b[0m \u001b[1;33m**\u001b[0m\u001b[0mkwargs\u001b[0m\u001b[1;33m)\u001b[0m\u001b[1;33m[\u001b[0m\u001b[1;36m1\u001b[0m\u001b[1;33m]\u001b[0m\u001b[1;33m\u001b[0m\u001b[1;33m\u001b[0m\u001b[0m\n\u001b[0m\u001b[0;32m   1355\u001b[0m         \u001b[1;32melse\u001b[0m\u001b[1;33m:\u001b[0m\u001b[1;33m\u001b[0m\u001b[1;33m\u001b[0m\u001b[0m\n\u001b[0;32m   1356\u001b[0m             \u001b[1;32mtry\u001b[0m\u001b[1;33m:\u001b[0m\u001b[1;33m\u001b[0m\u001b[1;33m\u001b[0m\u001b[0m\n",
      "\u001b[1;32m~\\Anaconda3\\lib\\site-packages\\pandas\\core\\indexing.py\u001b[0m in \u001b[0;36m_get_listlike_indexer\u001b[1;34m(self, key, axis, raise_missing)\u001b[0m\n\u001b[0;32m   1159\u001b[0m         self._validate_read_indexer(keyarr, indexer,\n\u001b[0;32m   1160\u001b[0m                                     \u001b[0mo\u001b[0m\u001b[1;33m.\u001b[0m\u001b[0m_get_axis_number\u001b[0m\u001b[1;33m(\u001b[0m\u001b[0maxis\u001b[0m\u001b[1;33m)\u001b[0m\u001b[1;33m,\u001b[0m\u001b[1;33m\u001b[0m\u001b[1;33m\u001b[0m\u001b[0m\n\u001b[1;32m-> 1161\u001b[1;33m                                     raise_missing=raise_missing)\n\u001b[0m\u001b[0;32m   1162\u001b[0m         \u001b[1;32mreturn\u001b[0m \u001b[0mkeyarr\u001b[0m\u001b[1;33m,\u001b[0m \u001b[0mindexer\u001b[0m\u001b[1;33m\u001b[0m\u001b[1;33m\u001b[0m\u001b[0m\n\u001b[0;32m   1163\u001b[0m \u001b[1;33m\u001b[0m\u001b[0m\n",
      "\u001b[1;32m~\\Anaconda3\\lib\\site-packages\\pandas\\core\\indexing.py\u001b[0m in \u001b[0;36m_validate_read_indexer\u001b[1;34m(self, key, indexer, axis, raise_missing)\u001b[0m\n\u001b[0;32m   1244\u001b[0m                 raise KeyError(\n\u001b[0;32m   1245\u001b[0m                     u\"None of [{key}] are in the [{axis}]\".format(\n\u001b[1;32m-> 1246\u001b[1;33m                         key=key, axis=self.obj._get_axis_name(axis)))\n\u001b[0m\u001b[0;32m   1247\u001b[0m \u001b[1;33m\u001b[0m\u001b[0m\n\u001b[0;32m   1248\u001b[0m             \u001b[1;31m# We (temporarily) allow for some missing keys with .loc, except in\u001b[0m\u001b[1;33m\u001b[0m\u001b[1;33m\u001b[0m\u001b[1;33m\u001b[0m\u001b[0m\n",
      "\u001b[1;31mKeyError\u001b[0m: \"None of [Int64Index([253, 254, 255, 256, 257, 258, 259, 260, 261, 262,\\n            ...\\n            496, 497, 498, 499, 500, 501, 502, 503, 504, 505],\\n           dtype='int64', length=253)] are in the [columns]\""
     ]
    }
   ],
   "source": [
    "from sklearn.model_selection import KFold\n",
    " \n",
    "#n_split=3\n",
    " \n",
    "#for train_index,test_index in KFold(n_split).split(x):\n",
    "#  x_train,x_test=x[train_index],x[test_index]\n",
    "#  y_train,y_test=y[train_index],y[test_index]\n",
    "  \n",
    " # model=create_model()\n",
    " # model.fit(x_train, y_train,epochs=20)\n",
    "  \n",
    " # print('Model evaluation ',model_eval(x_test,y_test))\n",
    "\n",
    "import numpy as np\n",
    "from sklearn.model_selection import KFold\n",
    "kf = KFold(n_splits=2)\n",
    "kf.get_n_splits(X)\n",
    "\n",
    "print(kf)  \n",
    "KFold(n_splits=2, random_state=None, shuffle=False)\n",
    "for train_index, test_index in kf.split(x):\n",
    "    print(\"TRAIN:\", train_index, \"TEST:\", test_index)\n",
    "    X_train, X_test = x[train_index], x[test_index]\n",
    "    y_train, y_test = y[train_index], y[test_index]"
   ]
  },
  {
   "cell_type": "code",
   "execution_count": null,
   "metadata": {},
   "outputs": [],
   "source": []
  }
 ],
 "metadata": {
  "kernelspec": {
   "display_name": "Python 3",
   "language": "python",
   "name": "python3"
  },
  "language_info": {
   "codemirror_mode": {
    "name": "ipython",
    "version": 3
   },
   "file_extension": ".py",
   "mimetype": "text/x-python",
   "name": "python",
   "nbconvert_exporter": "python",
   "pygments_lexer": "ipython3",
   "version": "3.7.1"
  }
 },
 "nbformat": 4,
 "nbformat_minor": 2
}
