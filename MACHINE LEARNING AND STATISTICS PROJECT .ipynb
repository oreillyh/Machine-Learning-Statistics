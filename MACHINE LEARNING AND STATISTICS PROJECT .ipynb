{
 "cells": [
  {
   "cell_type": "markdown",
   "metadata": {},
   "source": [
    "# MACHINE LEARNING AND STATISTICS PROJECT\n",
    "\n",
    "## THE BOSTON HOUSE PRICES DATASET\n",
    "\n",
    "## HUGH O'REILLY\n",
    "\n",
    "## H.DIP Data Analytics GMIT\n"
   ]
  },
  {
   "cell_type": "markdown",
   "metadata": {},
   "source": [
    "## INTRODUCTION\n",
    " ___\n",
    "\n",
    "The Boston Housing Dataset consists of information derived from US census data of housing in the Boston Mass. area of the US. The publication originally discussed the problems associated with the use of housing market data to measure the willingness to pay for clean air.\n",
    "\n",
    "The dataset is taken from census tracts in the Boston Standard Metropolitan Statistical Area in 1970.\n",
    "\n",
    "*The data was originally published by Harrison, D. and Rubinfeld, D.L. 'Hedonic prices and the demand for clean air', J. Environ. Economics & Management, vol.5, 81-102, 1978.*\n",
    "\n",
    "Ref [https://www.sciencedirect.com/science/article/abs/pii/0095069678900062%5D]"
   ]
  },
  {
   "cell_type": "markdown",
   "metadata": {},
   "source": [
    "## OBJECTIVE\n",
    "___"
   ]
  },
  {
   "cell_type": "markdown",
   "metadata": {},
   "source": [
    "* To investigate if there is a significant difference in the median house prices between houses that are along the Charles River and those which aren't\n",
    "\n",
    "* To attempt to predict the median house price based on other variables in the dataset\n",
    "\n",
    "Understanding if there is a difference between the houses along the Charles River will help determine the investment value of properties in the area\n",
    "\n",
    "Similarly the ability to predict median house prices for a particular zone in Boston, based on the other variables associated with the property will enable us to determine the value of a property in a particular area and whether it may be worth investing in the area"
   ]
  },
  {
   "cell_type": "markdown",
   "metadata": {},
   "source": [
    "#TODO Insert image of boston"
   ]
  },
  {
   "cell_type": "markdown",
   "metadata": {},
   "source": [
    "## IMPORT AND SORT THE DATASET\n",
    "\n",
    "___\n"
   ]
  },
  {
   "cell_type": "code",
   "execution_count": 1,
   "metadata": {},
   "outputs": [
    {
     "name": "stderr",
     "output_type": "stream",
     "text": [
      "Using TensorFlow backend.\n"
     ]
    },
    {
     "name": "stdout",
     "output_type": "stream",
     "text": [
      "(506, 13)\n"
     ]
    }
   ],
   "source": [
    "#IMPORT LIBRARIES\n",
    "\n",
    "#Scipy Libraries\n",
    "import numpy as np\n",
    "import pandas as pd\n",
    "import scipy.stats as stats\n",
    "import statsmodels.api as sm\n",
    "import matplotlib.pyplot as plt\n",
    "\n",
    "#Seaborn library\n",
    "import seaborn as sns\n",
    "#Keras libraries\n",
    "import keras as kr\n",
    "from keras import losses\n",
    "from keras import regularizers\n",
    "\n",
    "#Scikitlearn Libraries\n",
    "import sklearn\n",
    "from sklearn.model_selection import KFold\n",
    "from sklearn.linear_model import RidgeCV\n",
    "import sklearn.decomposition as dec\n",
    "import sklearn.preprocessing as pre\n",
    "\n",
    "%matplotlib inline\n",
    "\n",
    "#IMPORT THE BOSTON HOUSE PRICES DATASET from sklearn\n",
    "   \n",
    "from sklearn.datasets import load_boston\n",
    "from sklearn.model_selection import train_test_split\n",
    "boston = load_boston()\n",
    "\n",
    "# Display the shape of the dataset\n",
    "print(boston.data.shape)\n",
    "\n",
    "# Ref [2]\n"
   ]
  },
  {
   "cell_type": "markdown",
   "metadata": {},
   "source": [
    "### INVESTIGATE AND SORT THE DATASET\n",
    "___"
   ]
  },
  {
   "cell_type": "code",
   "execution_count": 2,
   "metadata": {},
   "outputs": [
    {
     "data": {
      "text/plain": [
       "sklearn.utils.Bunch"
      ]
     },
     "execution_count": 2,
     "metadata": {},
     "output_type": "execute_result"
    }
   ],
   "source": [
    "#Determine the dataset type\n",
    "\n",
    "type(boston)"
   ]
  },
  {
   "cell_type": "markdown",
   "metadata": {},
   "source": [
    "The `type(boston)` command tells us that the dataset is a `sk.utils.Bunch` dataset type\n",
    "\n",
    "A 'bunch' dataset type:  Dictionary-like object, the interesting attributes are: ‘data’, the data to learn, ‘target’, the classification labels, ‘target_names’, the meaning of the labels, ‘feature_names’, the meaning of the features, ‘DESCR’, the full description of the dataset, ‘filename’. \n",
    "\n",
    "Ref [https://scikit-learn.org/stable/modules/generated/sklearn.datasets.load_iris.html]"
   ]
  },
  {
   "cell_type": "code",
   "execution_count": 3,
   "metadata": {},
   "outputs": [
    {
     "name": "stdout",
     "output_type": "stream",
     "text": [
      ".. _boston_dataset:\n",
      "\n",
      "Boston house prices dataset\n",
      "---------------------------\n",
      "\n",
      "**Data Set Characteristics:**  \n",
      "\n",
      "    :Number of Instances: 506 \n",
      "\n",
      "    :Number of Attributes: 13 numeric/categorical predictive. Median Value (attribute 14) is usually the target.\n",
      "\n",
      "    :Attribute Information (in order):\n",
      "        - CRIM     per capita crime rate by town\n",
      "        - ZN       proportion of residential land zoned for lots over 25,000 sq.ft.\n",
      "        - INDUS    proportion of non-retail business acres per town\n",
      "        - CHAS     Charles River dummy variable (= 1 if tract bounds river; 0 otherwise)\n",
      "        - NOX      nitric oxides concentration (parts per 10 million)\n",
      "        - RM       average number of rooms per dwelling\n",
      "        - AGE      proportion of owner-occupied units built prior to 1940\n",
      "        - DIS      weighted distances to five Boston employment centres\n",
      "        - RAD      index of accessibility to radial highways\n",
      "        - TAX      full-value property-tax rate per $10,000\n",
      "        - PTRATIO  pupil-teacher ratio by town\n",
      "        - B        1000(Bk - 0.63)^2 where Bk is the proportion of blacks by town\n",
      "        - LSTAT    % lower status of the population\n",
      "        - MEDV     Median value of owner-occupied homes in $1000's\n",
      "\n",
      "    :Missing Attribute Values: None\n",
      "\n",
      "    :Creator: Harrison, D. and Rubinfeld, D.L.\n",
      "\n",
      "This is a copy of UCI ML housing dataset.\n",
      "https://archive.ics.uci.edu/ml/machine-learning-databases/housing/\n",
      "\n",
      "\n",
      "This dataset was taken from the StatLib library which is maintained at Carnegie Mellon University.\n",
      "\n",
      "The Boston house-price data of Harrison, D. and Rubinfeld, D.L. 'Hedonic\n",
      "prices and the demand for clean air', J. Environ. Economics & Management,\n",
      "vol.5, 81-102, 1978.   Used in Belsley, Kuh & Welsch, 'Regression diagnostics\n",
      "...', Wiley, 1980.   N.B. Various transformations are used in the table on\n",
      "pages 244-261 of the latter.\n",
      "\n",
      "The Boston house-price data has been used in many machine learning papers that address regression\n",
      "problems.   \n",
      "     \n",
      ".. topic:: References\n",
      "\n",
      "   - Belsley, Kuh & Welsch, 'Regression diagnostics: Identifying Influential Data and Sources of Collinearity', Wiley, 1980. 244-261.\n",
      "   - Quinlan,R. (1993). Combining Instance-Based and Model-Based Learning. In Proceedings on the Tenth International Conference of Machine Learning, 236-243, University of Massachusetts, Amherst. Morgan Kaufmann.\n",
      "\n"
     ]
    }
   ],
   "source": [
    "#Display a desciption of the dataset\n",
    "\n",
    "print(boston.DESCR)"
   ]
  },
  {
   "cell_type": "markdown",
   "metadata": {},
   "source": [
    "The Data consists of 506 rows and 13 columns i.e. 506 instances containing 13 numeric/categorical variables as described above. \n",
    "\n",
    "There are 13 attribute variables an 1 target variable 'MEDV': which represents the median value for houses in each area i.e. 506 areas of Boston"
   ]
  },
  {
   "cell_type": "code",
   "execution_count": 4,
   "metadata": {
    "scrolled": true
   },
   "outputs": [
    {
     "data": {
      "text/html": [
       "<div>\n",
       "<style scoped>\n",
       "    .dataframe tbody tr th:only-of-type {\n",
       "        vertical-align: middle;\n",
       "    }\n",
       "\n",
       "    .dataframe tbody tr th {\n",
       "        vertical-align: top;\n",
       "    }\n",
       "\n",
       "    .dataframe thead th {\n",
       "        text-align: right;\n",
       "    }\n",
       "</style>\n",
       "<table border=\"1\" class=\"dataframe\">\n",
       "  <thead>\n",
       "    <tr style=\"text-align: right;\">\n",
       "      <th></th>\n",
       "      <th>0</th>\n",
       "      <th>1</th>\n",
       "      <th>2</th>\n",
       "      <th>3</th>\n",
       "      <th>4</th>\n",
       "      <th>5</th>\n",
       "      <th>6</th>\n",
       "      <th>7</th>\n",
       "      <th>8</th>\n",
       "      <th>9</th>\n",
       "      <th>10</th>\n",
       "      <th>11</th>\n",
       "      <th>12</th>\n",
       "    </tr>\n",
       "  </thead>\n",
       "  <tbody>\n",
       "    <tr>\n",
       "      <th>0</th>\n",
       "      <td>0.00632</td>\n",
       "      <td>18.0</td>\n",
       "      <td>2.31</td>\n",
       "      <td>0.0</td>\n",
       "      <td>0.538</td>\n",
       "      <td>6.575</td>\n",
       "      <td>65.2</td>\n",
       "      <td>4.0900</td>\n",
       "      <td>1.0</td>\n",
       "      <td>296.0</td>\n",
       "      <td>15.3</td>\n",
       "      <td>396.90</td>\n",
       "      <td>4.98</td>\n",
       "    </tr>\n",
       "    <tr>\n",
       "      <th>1</th>\n",
       "      <td>0.02731</td>\n",
       "      <td>0.0</td>\n",
       "      <td>7.07</td>\n",
       "      <td>0.0</td>\n",
       "      <td>0.469</td>\n",
       "      <td>6.421</td>\n",
       "      <td>78.9</td>\n",
       "      <td>4.9671</td>\n",
       "      <td>2.0</td>\n",
       "      <td>242.0</td>\n",
       "      <td>17.8</td>\n",
       "      <td>396.90</td>\n",
       "      <td>9.14</td>\n",
       "    </tr>\n",
       "    <tr>\n",
       "      <th>2</th>\n",
       "      <td>0.02729</td>\n",
       "      <td>0.0</td>\n",
       "      <td>7.07</td>\n",
       "      <td>0.0</td>\n",
       "      <td>0.469</td>\n",
       "      <td>7.185</td>\n",
       "      <td>61.1</td>\n",
       "      <td>4.9671</td>\n",
       "      <td>2.0</td>\n",
       "      <td>242.0</td>\n",
       "      <td>17.8</td>\n",
       "      <td>392.83</td>\n",
       "      <td>4.03</td>\n",
       "    </tr>\n",
       "    <tr>\n",
       "      <th>3</th>\n",
       "      <td>0.03237</td>\n",
       "      <td>0.0</td>\n",
       "      <td>2.18</td>\n",
       "      <td>0.0</td>\n",
       "      <td>0.458</td>\n",
       "      <td>6.998</td>\n",
       "      <td>45.8</td>\n",
       "      <td>6.0622</td>\n",
       "      <td>3.0</td>\n",
       "      <td>222.0</td>\n",
       "      <td>18.7</td>\n",
       "      <td>394.63</td>\n",
       "      <td>2.94</td>\n",
       "    </tr>\n",
       "    <tr>\n",
       "      <th>4</th>\n",
       "      <td>0.06905</td>\n",
       "      <td>0.0</td>\n",
       "      <td>2.18</td>\n",
       "      <td>0.0</td>\n",
       "      <td>0.458</td>\n",
       "      <td>7.147</td>\n",
       "      <td>54.2</td>\n",
       "      <td>6.0622</td>\n",
       "      <td>3.0</td>\n",
       "      <td>222.0</td>\n",
       "      <td>18.7</td>\n",
       "      <td>396.90</td>\n",
       "      <td>5.33</td>\n",
       "    </tr>\n",
       "    <tr>\n",
       "      <th>5</th>\n",
       "      <td>0.02985</td>\n",
       "      <td>0.0</td>\n",
       "      <td>2.18</td>\n",
       "      <td>0.0</td>\n",
       "      <td>0.458</td>\n",
       "      <td>6.430</td>\n",
       "      <td>58.7</td>\n",
       "      <td>6.0622</td>\n",
       "      <td>3.0</td>\n",
       "      <td>222.0</td>\n",
       "      <td>18.7</td>\n",
       "      <td>394.12</td>\n",
       "      <td>5.21</td>\n",
       "    </tr>\n",
       "    <tr>\n",
       "      <th>6</th>\n",
       "      <td>0.08829</td>\n",
       "      <td>12.5</td>\n",
       "      <td>7.87</td>\n",
       "      <td>0.0</td>\n",
       "      <td>0.524</td>\n",
       "      <td>6.012</td>\n",
       "      <td>66.6</td>\n",
       "      <td>5.5605</td>\n",
       "      <td>5.0</td>\n",
       "      <td>311.0</td>\n",
       "      <td>15.2</td>\n",
       "      <td>395.60</td>\n",
       "      <td>12.43</td>\n",
       "    </tr>\n",
       "    <tr>\n",
       "      <th>7</th>\n",
       "      <td>0.14455</td>\n",
       "      <td>12.5</td>\n",
       "      <td>7.87</td>\n",
       "      <td>0.0</td>\n",
       "      <td>0.524</td>\n",
       "      <td>6.172</td>\n",
       "      <td>96.1</td>\n",
       "      <td>5.9505</td>\n",
       "      <td>5.0</td>\n",
       "      <td>311.0</td>\n",
       "      <td>15.2</td>\n",
       "      <td>396.90</td>\n",
       "      <td>19.15</td>\n",
       "    </tr>\n",
       "    <tr>\n",
       "      <th>8</th>\n",
       "      <td>0.21124</td>\n",
       "      <td>12.5</td>\n",
       "      <td>7.87</td>\n",
       "      <td>0.0</td>\n",
       "      <td>0.524</td>\n",
       "      <td>5.631</td>\n",
       "      <td>100.0</td>\n",
       "      <td>6.0821</td>\n",
       "      <td>5.0</td>\n",
       "      <td>311.0</td>\n",
       "      <td>15.2</td>\n",
       "      <td>386.63</td>\n",
       "      <td>29.93</td>\n",
       "    </tr>\n",
       "    <tr>\n",
       "      <th>9</th>\n",
       "      <td>0.17004</td>\n",
       "      <td>12.5</td>\n",
       "      <td>7.87</td>\n",
       "      <td>0.0</td>\n",
       "      <td>0.524</td>\n",
       "      <td>6.004</td>\n",
       "      <td>85.9</td>\n",
       "      <td>6.5921</td>\n",
       "      <td>5.0</td>\n",
       "      <td>311.0</td>\n",
       "      <td>15.2</td>\n",
       "      <td>386.71</td>\n",
       "      <td>17.10</td>\n",
       "    </tr>\n",
       "  </tbody>\n",
       "</table>\n",
       "</div>"
      ],
      "text/plain": [
       "        0     1     2    3      4      5      6       7    8      9     10  \\\n",
       "0  0.00632  18.0  2.31  0.0  0.538  6.575   65.2  4.0900  1.0  296.0  15.3   \n",
       "1  0.02731   0.0  7.07  0.0  0.469  6.421   78.9  4.9671  2.0  242.0  17.8   \n",
       "2  0.02729   0.0  7.07  0.0  0.469  7.185   61.1  4.9671  2.0  242.0  17.8   \n",
       "3  0.03237   0.0  2.18  0.0  0.458  6.998   45.8  6.0622  3.0  222.0  18.7   \n",
       "4  0.06905   0.0  2.18  0.0  0.458  7.147   54.2  6.0622  3.0  222.0  18.7   \n",
       "5  0.02985   0.0  2.18  0.0  0.458  6.430   58.7  6.0622  3.0  222.0  18.7   \n",
       "6  0.08829  12.5  7.87  0.0  0.524  6.012   66.6  5.5605  5.0  311.0  15.2   \n",
       "7  0.14455  12.5  7.87  0.0  0.524  6.172   96.1  5.9505  5.0  311.0  15.2   \n",
       "8  0.21124  12.5  7.87  0.0  0.524  5.631  100.0  6.0821  5.0  311.0  15.2   \n",
       "9  0.17004  12.5  7.87  0.0  0.524  6.004   85.9  6.5921  5.0  311.0  15.2   \n",
       "\n",
       "       11     12  \n",
       "0  396.90   4.98  \n",
       "1  396.90   9.14  \n",
       "2  392.83   4.03  \n",
       "3  394.63   2.94  \n",
       "4  396.90   5.33  \n",
       "5  394.12   5.21  \n",
       "6  395.60  12.43  \n",
       "7  396.90  19.15  \n",
       "8  386.63  29.93  \n",
       "9  386.71  17.10  "
      ]
     },
     "execution_count": 4,
     "metadata": {},
     "output_type": "execute_result"
    }
   ],
   "source": [
    "# Show the first 10 rows of the Dataset\n",
    "bos = pd.DataFrame(boston.data)\n",
    "bos.head(10)"
   ]
  },
  {
   "cell_type": "markdown",
   "metadata": {},
   "source": [
    "It can be seen above that the dataset has no feature labels which will need to be added (although they are imported in the 'dataset characteristics'). In order to do so we need to use the `pandas.dataframe.keys()` command to access the keys and then assign them to the attribute columns.\n",
    "\n",
    "Ref [https://pandas.pydata.org/pandas-docs/stable/reference/api/pandas.DataFrame.keys.html]"
   ]
  },
  {
   "cell_type": "code",
   "execution_count": 5,
   "metadata": {},
   "outputs": [
    {
     "data": {
      "text/plain": [
       "RangeIndex(start=0, stop=13, step=1)"
      ]
     },
     "execution_count": 5,
     "metadata": {},
     "output_type": "execute_result"
    }
   ],
   "source": [
    "# Identify the indices in the dataset\n",
    "\n",
    "bos.keys()"
   ]
  },
  {
   "cell_type": "code",
   "execution_count": 6,
   "metadata": {},
   "outputs": [
    {
     "data": {
      "text/html": [
       "<div>\n",
       "<style scoped>\n",
       "    .dataframe tbody tr th:only-of-type {\n",
       "        vertical-align: middle;\n",
       "    }\n",
       "\n",
       "    .dataframe tbody tr th {\n",
       "        vertical-align: top;\n",
       "    }\n",
       "\n",
       "    .dataframe thead th {\n",
       "        text-align: right;\n",
       "    }\n",
       "</style>\n",
       "<table border=\"1\" class=\"dataframe\">\n",
       "  <thead>\n",
       "    <tr style=\"text-align: right;\">\n",
       "      <th></th>\n",
       "      <th>CRIM</th>\n",
       "      <th>ZN</th>\n",
       "      <th>INDUS</th>\n",
       "      <th>CHAS</th>\n",
       "      <th>NOX</th>\n",
       "      <th>RM</th>\n",
       "      <th>AGE</th>\n",
       "      <th>DIS</th>\n",
       "      <th>RAD</th>\n",
       "      <th>TAX</th>\n",
       "      <th>PTRATIO</th>\n",
       "      <th>B</th>\n",
       "      <th>LSTAT</th>\n",
       "    </tr>\n",
       "  </thead>\n",
       "  <tbody>\n",
       "    <tr>\n",
       "      <th>0</th>\n",
       "      <td>0.00632</td>\n",
       "      <td>18.0</td>\n",
       "      <td>2.31</td>\n",
       "      <td>0.0</td>\n",
       "      <td>0.538</td>\n",
       "      <td>6.575</td>\n",
       "      <td>65.2</td>\n",
       "      <td>4.0900</td>\n",
       "      <td>1.0</td>\n",
       "      <td>296.0</td>\n",
       "      <td>15.3</td>\n",
       "      <td>396.90</td>\n",
       "      <td>4.98</td>\n",
       "    </tr>\n",
       "    <tr>\n",
       "      <th>1</th>\n",
       "      <td>0.02731</td>\n",
       "      <td>0.0</td>\n",
       "      <td>7.07</td>\n",
       "      <td>0.0</td>\n",
       "      <td>0.469</td>\n",
       "      <td>6.421</td>\n",
       "      <td>78.9</td>\n",
       "      <td>4.9671</td>\n",
       "      <td>2.0</td>\n",
       "      <td>242.0</td>\n",
       "      <td>17.8</td>\n",
       "      <td>396.90</td>\n",
       "      <td>9.14</td>\n",
       "    </tr>\n",
       "    <tr>\n",
       "      <th>2</th>\n",
       "      <td>0.02729</td>\n",
       "      <td>0.0</td>\n",
       "      <td>7.07</td>\n",
       "      <td>0.0</td>\n",
       "      <td>0.469</td>\n",
       "      <td>7.185</td>\n",
       "      <td>61.1</td>\n",
       "      <td>4.9671</td>\n",
       "      <td>2.0</td>\n",
       "      <td>242.0</td>\n",
       "      <td>17.8</td>\n",
       "      <td>392.83</td>\n",
       "      <td>4.03</td>\n",
       "    </tr>\n",
       "    <tr>\n",
       "      <th>3</th>\n",
       "      <td>0.03237</td>\n",
       "      <td>0.0</td>\n",
       "      <td>2.18</td>\n",
       "      <td>0.0</td>\n",
       "      <td>0.458</td>\n",
       "      <td>6.998</td>\n",
       "      <td>45.8</td>\n",
       "      <td>6.0622</td>\n",
       "      <td>3.0</td>\n",
       "      <td>222.0</td>\n",
       "      <td>18.7</td>\n",
       "      <td>394.63</td>\n",
       "      <td>2.94</td>\n",
       "    </tr>\n",
       "    <tr>\n",
       "      <th>4</th>\n",
       "      <td>0.06905</td>\n",
       "      <td>0.0</td>\n",
       "      <td>2.18</td>\n",
       "      <td>0.0</td>\n",
       "      <td>0.458</td>\n",
       "      <td>7.147</td>\n",
       "      <td>54.2</td>\n",
       "      <td>6.0622</td>\n",
       "      <td>3.0</td>\n",
       "      <td>222.0</td>\n",
       "      <td>18.7</td>\n",
       "      <td>396.90</td>\n",
       "      <td>5.33</td>\n",
       "    </tr>\n",
       "  </tbody>\n",
       "</table>\n",
       "</div>"
      ],
      "text/plain": [
       "      CRIM    ZN  INDUS  CHAS    NOX     RM   AGE     DIS  RAD    TAX  \\\n",
       "0  0.00632  18.0   2.31   0.0  0.538  6.575  65.2  4.0900  1.0  296.0   \n",
       "1  0.02731   0.0   7.07   0.0  0.469  6.421  78.9  4.9671  2.0  242.0   \n",
       "2  0.02729   0.0   7.07   0.0  0.469  7.185  61.1  4.9671  2.0  242.0   \n",
       "3  0.03237   0.0   2.18   0.0  0.458  6.998  45.8  6.0622  3.0  222.0   \n",
       "4  0.06905   0.0   2.18   0.0  0.458  7.147  54.2  6.0622  3.0  222.0   \n",
       "\n",
       "   PTRATIO       B  LSTAT  \n",
       "0     15.3  396.90   4.98  \n",
       "1     17.8  396.90   9.14  \n",
       "2     17.8  392.83   4.03  \n",
       "3     18.7  394.63   2.94  \n",
       "4     18.7  396.90   5.33  "
      ]
     },
     "execution_count": 6,
     "metadata": {},
     "output_type": "execute_result"
    }
   ],
   "source": [
    "#Passing the `feature_names` parameter to the dataset now assigns the attributes with their labels\n",
    "\n",
    "bos.columns = boston.feature_names\n",
    "bos.head()"
   ]
  },
  {
   "cell_type": "markdown",
   "metadata": {},
   "source": [
    "Only 13 attributes are shown, although 14 attributes are associated with the dataset. The 14th attribute, or target variable - MEDV     Median value of owner-occupied homes in $1000's must be added to the `bos` pandas array"
   ]
  },
  {
   "cell_type": "code",
   "execution_count": 7,
   "metadata": {},
   "outputs": [],
   "source": [
    "#The price is identified as the target variable above so we will see if is there\n",
    "\n",
    "#boston.target #This prints the array of target variables (MEDV)"
   ]
  },
  {
   "cell_type": "code",
   "execution_count": 8,
   "metadata": {},
   "outputs": [
    {
     "name": "stdout",
     "output_type": "stream",
     "text": [
      "      CRIM    ZN  INDUS  CHAS    NOX     RM   AGE     DIS  RAD    TAX  \\\n",
      "0  0.00632  18.0   2.31   0.0  0.538  6.575  65.2  4.0900  1.0  296.0   \n",
      "1  0.02731   0.0   7.07   0.0  0.469  6.421  78.9  4.9671  2.0  242.0   \n",
      "2  0.02729   0.0   7.07   0.0  0.469  7.185  61.1  4.9671  2.0  242.0   \n",
      "3  0.03237   0.0   2.18   0.0  0.458  6.998  45.8  6.0622  3.0  222.0   \n",
      "4  0.06905   0.0   2.18   0.0  0.458  7.147  54.2  6.0622  3.0  222.0   \n",
      "\n",
      "   PTRATIO       B  LSTAT  PRICE  \n",
      "0     15.3  396.90   4.98   24.0  \n",
      "1     17.8  396.90   9.14   21.6  \n",
      "2     17.8  392.83   4.03   34.7  \n",
      "3     18.7  394.63   2.94   33.4  \n",
      "4     18.7  396.90   5.33   36.2  \n"
     ]
    }
   ],
   "source": [
    "#We now add the target variable (MEDV) to the array as 'price'\n",
    "\n",
    "bos['PRICE'] = boston.target\n",
    "print(bos.head())\n",
    "\n",
    "#ref [https://medium.com/@haydar_ai/learning-data-science-day-9-linear-regression-on-boston-housing-dataset-cd62a80775ef]"
   ]
  },
  {
   "cell_type": "markdown",
   "metadata": {},
   "source": [
    "## DESCRIPTIVE STATISTICS\n",
    "___"
   ]
  },
  {
   "cell_type": "code",
   "execution_count": 9,
   "metadata": {
    "scrolled": false
   },
   "outputs": [
    {
     "data": {
      "text/html": [
       "<div>\n",
       "<style scoped>\n",
       "    .dataframe tbody tr th:only-of-type {\n",
       "        vertical-align: middle;\n",
       "    }\n",
       "\n",
       "    .dataframe tbody tr th {\n",
       "        vertical-align: top;\n",
       "    }\n",
       "\n",
       "    .dataframe thead th {\n",
       "        text-align: right;\n",
       "    }\n",
       "</style>\n",
       "<table border=\"1\" class=\"dataframe\">\n",
       "  <thead>\n",
       "    <tr style=\"text-align: right;\">\n",
       "      <th></th>\n",
       "      <th>count</th>\n",
       "      <th>mean</th>\n",
       "      <th>std</th>\n",
       "      <th>min</th>\n",
       "      <th>25%</th>\n",
       "      <th>50%</th>\n",
       "      <th>75%</th>\n",
       "      <th>max</th>\n",
       "    </tr>\n",
       "  </thead>\n",
       "  <tbody>\n",
       "    <tr>\n",
       "      <th>CRIM</th>\n",
       "      <td>506.0</td>\n",
       "      <td>3.613524</td>\n",
       "      <td>8.601545</td>\n",
       "      <td>0.00632</td>\n",
       "      <td>0.082045</td>\n",
       "      <td>0.25651</td>\n",
       "      <td>3.677083</td>\n",
       "      <td>88.9762</td>\n",
       "    </tr>\n",
       "    <tr>\n",
       "      <th>ZN</th>\n",
       "      <td>506.0</td>\n",
       "      <td>11.363636</td>\n",
       "      <td>23.322453</td>\n",
       "      <td>0.00000</td>\n",
       "      <td>0.000000</td>\n",
       "      <td>0.00000</td>\n",
       "      <td>12.500000</td>\n",
       "      <td>100.0000</td>\n",
       "    </tr>\n",
       "    <tr>\n",
       "      <th>INDUS</th>\n",
       "      <td>506.0</td>\n",
       "      <td>11.136779</td>\n",
       "      <td>6.860353</td>\n",
       "      <td>0.46000</td>\n",
       "      <td>5.190000</td>\n",
       "      <td>9.69000</td>\n",
       "      <td>18.100000</td>\n",
       "      <td>27.7400</td>\n",
       "    </tr>\n",
       "    <tr>\n",
       "      <th>CHAS</th>\n",
       "      <td>506.0</td>\n",
       "      <td>0.069170</td>\n",
       "      <td>0.253994</td>\n",
       "      <td>0.00000</td>\n",
       "      <td>0.000000</td>\n",
       "      <td>0.00000</td>\n",
       "      <td>0.000000</td>\n",
       "      <td>1.0000</td>\n",
       "    </tr>\n",
       "    <tr>\n",
       "      <th>NOX</th>\n",
       "      <td>506.0</td>\n",
       "      <td>0.554695</td>\n",
       "      <td>0.115878</td>\n",
       "      <td>0.38500</td>\n",
       "      <td>0.449000</td>\n",
       "      <td>0.53800</td>\n",
       "      <td>0.624000</td>\n",
       "      <td>0.8710</td>\n",
       "    </tr>\n",
       "    <tr>\n",
       "      <th>RM</th>\n",
       "      <td>506.0</td>\n",
       "      <td>6.284634</td>\n",
       "      <td>0.702617</td>\n",
       "      <td>3.56100</td>\n",
       "      <td>5.885500</td>\n",
       "      <td>6.20850</td>\n",
       "      <td>6.623500</td>\n",
       "      <td>8.7800</td>\n",
       "    </tr>\n",
       "    <tr>\n",
       "      <th>AGE</th>\n",
       "      <td>506.0</td>\n",
       "      <td>68.574901</td>\n",
       "      <td>28.148861</td>\n",
       "      <td>2.90000</td>\n",
       "      <td>45.025000</td>\n",
       "      <td>77.50000</td>\n",
       "      <td>94.075000</td>\n",
       "      <td>100.0000</td>\n",
       "    </tr>\n",
       "    <tr>\n",
       "      <th>DIS</th>\n",
       "      <td>506.0</td>\n",
       "      <td>3.795043</td>\n",
       "      <td>2.105710</td>\n",
       "      <td>1.12960</td>\n",
       "      <td>2.100175</td>\n",
       "      <td>3.20745</td>\n",
       "      <td>5.188425</td>\n",
       "      <td>12.1265</td>\n",
       "    </tr>\n",
       "    <tr>\n",
       "      <th>RAD</th>\n",
       "      <td>506.0</td>\n",
       "      <td>9.549407</td>\n",
       "      <td>8.707259</td>\n",
       "      <td>1.00000</td>\n",
       "      <td>4.000000</td>\n",
       "      <td>5.00000</td>\n",
       "      <td>24.000000</td>\n",
       "      <td>24.0000</td>\n",
       "    </tr>\n",
       "    <tr>\n",
       "      <th>TAX</th>\n",
       "      <td>506.0</td>\n",
       "      <td>408.237154</td>\n",
       "      <td>168.537116</td>\n",
       "      <td>187.00000</td>\n",
       "      <td>279.000000</td>\n",
       "      <td>330.00000</td>\n",
       "      <td>666.000000</td>\n",
       "      <td>711.0000</td>\n",
       "    </tr>\n",
       "    <tr>\n",
       "      <th>PTRATIO</th>\n",
       "      <td>506.0</td>\n",
       "      <td>18.455534</td>\n",
       "      <td>2.164946</td>\n",
       "      <td>12.60000</td>\n",
       "      <td>17.400000</td>\n",
       "      <td>19.05000</td>\n",
       "      <td>20.200000</td>\n",
       "      <td>22.0000</td>\n",
       "    </tr>\n",
       "    <tr>\n",
       "      <th>B</th>\n",
       "      <td>506.0</td>\n",
       "      <td>356.674032</td>\n",
       "      <td>91.294864</td>\n",
       "      <td>0.32000</td>\n",
       "      <td>375.377500</td>\n",
       "      <td>391.44000</td>\n",
       "      <td>396.225000</td>\n",
       "      <td>396.9000</td>\n",
       "    </tr>\n",
       "    <tr>\n",
       "      <th>LSTAT</th>\n",
       "      <td>506.0</td>\n",
       "      <td>12.653063</td>\n",
       "      <td>7.141062</td>\n",
       "      <td>1.73000</td>\n",
       "      <td>6.950000</td>\n",
       "      <td>11.36000</td>\n",
       "      <td>16.955000</td>\n",
       "      <td>37.9700</td>\n",
       "    </tr>\n",
       "    <tr>\n",
       "      <th>PRICE</th>\n",
       "      <td>506.0</td>\n",
       "      <td>22.532806</td>\n",
       "      <td>9.197104</td>\n",
       "      <td>5.00000</td>\n",
       "      <td>17.025000</td>\n",
       "      <td>21.20000</td>\n",
       "      <td>25.000000</td>\n",
       "      <td>50.0000</td>\n",
       "    </tr>\n",
       "  </tbody>\n",
       "</table>\n",
       "</div>"
      ],
      "text/plain": [
       "         count        mean         std        min         25%        50%  \\\n",
       "CRIM     506.0    3.613524    8.601545    0.00632    0.082045    0.25651   \n",
       "ZN       506.0   11.363636   23.322453    0.00000    0.000000    0.00000   \n",
       "INDUS    506.0   11.136779    6.860353    0.46000    5.190000    9.69000   \n",
       "CHAS     506.0    0.069170    0.253994    0.00000    0.000000    0.00000   \n",
       "NOX      506.0    0.554695    0.115878    0.38500    0.449000    0.53800   \n",
       "RM       506.0    6.284634    0.702617    3.56100    5.885500    6.20850   \n",
       "AGE      506.0   68.574901   28.148861    2.90000   45.025000   77.50000   \n",
       "DIS      506.0    3.795043    2.105710    1.12960    2.100175    3.20745   \n",
       "RAD      506.0    9.549407    8.707259    1.00000    4.000000    5.00000   \n",
       "TAX      506.0  408.237154  168.537116  187.00000  279.000000  330.00000   \n",
       "PTRATIO  506.0   18.455534    2.164946   12.60000   17.400000   19.05000   \n",
       "B        506.0  356.674032   91.294864    0.32000  375.377500  391.44000   \n",
       "LSTAT    506.0   12.653063    7.141062    1.73000    6.950000   11.36000   \n",
       "PRICE    506.0   22.532806    9.197104    5.00000   17.025000   21.20000   \n",
       "\n",
       "                75%       max  \n",
       "CRIM       3.677083   88.9762  \n",
       "ZN        12.500000  100.0000  \n",
       "INDUS     18.100000   27.7400  \n",
       "CHAS       0.000000    1.0000  \n",
       "NOX        0.624000    0.8710  \n",
       "RM         6.623500    8.7800  \n",
       "AGE       94.075000  100.0000  \n",
       "DIS        5.188425   12.1265  \n",
       "RAD       24.000000   24.0000  \n",
       "TAX      666.000000  711.0000  \n",
       "PTRATIO   20.200000   22.0000  \n",
       "B        396.225000  396.9000  \n",
       "LSTAT     16.955000   37.9700  \n",
       "PRICE     25.000000   50.0000  "
      ]
     },
     "execution_count": 9,
     "metadata": {},
     "output_type": "execute_result"
    }
   ],
   "source": [
    "#Table with summary statistics of the dataset\n",
    "bos.describe().T"
   ]
  },
  {
   "cell_type": "markdown",
   "metadata": {},
   "source": [
    "**HISTOGRAMS OF HOUSE PRICE VARIABLES**"
   ]
  },
  {
   "cell_type": "code",
   "execution_count": 10,
   "metadata": {},
   "outputs": [
    {
     "data": {
      "image/png": "[encoded data removed]",
      "text/plain": [
       "<Figure size 1440x1080 with 16 Axes>"
      ]
     },
     "metadata": {
      "needs_background": "light"
     },
     "output_type": "display_data"
    }
   ],
   "source": [
    "#Histograms of House Price Variables using matplotlib\n",
    "bos.hist(bins=50, figsize=(20,15))\n",
    "plt.show()"
   ]
  },
  {
   "cell_type": "markdown",
   "metadata": {},
   "source": [
    "### Selected Observations from the Summary Stats Table\n",
    "___\n",
    "\n",
    "* **The target variable - 'PRICE' has a range of $5000 - $50000 with a mean of $22,532 which is a significant variation in house prices across the city.**\n",
    "\n",
    "\n",
    "* The 'CHAS' variable - proximity to the Charles River is logisitic in nature (i.e. 1 or 0)\n",
    "\n",
    "\n",
    "* Per Capita crime rate varies significantly across the city from 0.00632 to 88.9762"
   ]
  },
  {
   "cell_type": "markdown",
   "metadata": {},
   "source": [
    "### **OUTLIERS**\n",
    "\n",
    "Z-Scores determined for outliers and new df created `bos_o` with outliers removed."
   ]
  },
  {
   "cell_type": "code",
   "execution_count": 11,
   "metadata": {},
   "outputs": [],
   "source": [
    "z = np.abs(stats.zscore(bos))"
   ]
  },
  {
   "cell_type": "code",
   "execution_count": 12,
   "metadata": {},
   "outputs": [],
   "source": [
    "bos_o = bos[(z < 3).all(axis=1)]"
   ]
  },
  {
   "cell_type": "markdown",
   "metadata": {},
   "source": [
    "### Distribution of Prices Data\n",
    "___"
   ]
  },
  {
   "cell_type": "code",
   "execution_count": 13,
   "metadata": {},
   "outputs": [],
   "source": [
    "#Set the target variable to y\n",
    "\n",
    "y = bos['PRICE']*1000"
   ]
  },
  {
   "cell_type": "code",
   "execution_count": 14,
   "metadata": {},
   "outputs": [
    {
     "data": {
      "image/png": "[encoded data removed]",
      "text/plain": [
       "<Figure size 864x864 with 1 Axes>"
      ]
     },
     "metadata": {},
     "output_type": "display_data"
    }
   ],
   "source": [
    "#Use the Seaborn library to display the distribution of house prices\n",
    "sns.set_style(\"darkgrid\")\n",
    "plt.figure(figsize=(12, 12))\n",
    "plt.title('House Prices Distribution', size=20)\n",
    "ax = sns.distplot(y)"
   ]
  },
  {
   "cell_type": "markdown",
   "metadata": {},
   "source": [
    "The plot above which displays the distribution of house prices in the dataset 'appears' to follow a **normal distribution.**\n",
    "\n",
    "**Some other observations**\n",
    "\n",
    "* The highest distribution is centred approximately around the mean ($20,000)\n",
    "\n",
    "* There are a notably high number of houses around the max ($50,000)\n",
    "\n",
    "Although the prices 'look' like they follow a normal distribution i.e. a bell-curve or gaussian distribution, it would be prudent to definitively determine the distribution as the distribution of the data will determine what inferential statistical analysis should be carried out.- **we will next carry out a test for normality.**"
   ]
  },
  {
   "cell_type": "markdown",
   "metadata": {},
   "source": [
    "**Shapiro-Wilk Test for Normality**\n",
    "\n",
    "The Shapiro-Wilk test tests the null hypothesis $H_0$ that the sample comes from the normal distribution. Therefore at a significance level of 0.05 a $p$ < 0.05 indicates non-normality\n",
    "Ref[http://www.bios.unc.edu/~mhudgens/bios/662/2008fall/Backup/wilkshapiro1965.pdf]"
   ]
  },
  {
   "cell_type": "code",
   "execution_count": 15,
   "metadata": {},
   "outputs": [
    {
     "name": "stdout",
     "output_type": "stream",
     "text": [
      "Test Statistic=0.917, p=0.0000\n"
     ]
    }
   ],
   "source": [
    "from scipy.stats import shapiro #import the Shapiro-Wilks function\n",
    "\n",
    "shapiro_test = shapiro(y) #run the Shapiro Wilks tets on the house price data\n",
    "\n",
    "stat, p = shapiro_test\n",
    "print('Test Statistic=%.3f, p=%.4f' % (stat, p))"
   ]
  },
  {
   "cell_type": "markdown",
   "metadata": {},
   "source": [
    "The Shapiro-Wilk test above *rejects* the null hypothesis since the *p* value is less than 0.05, therefore the data for 'PRICE' is not normally distributed. In addition the test statistic is 0.917 which indicates that this result is likely valid and not a type 1 error. Further visualisation may be carried out using a **Q-Q plot**\n",
    "\n",
    "A Q-Q plot plots quantiles (values that split a data set into equal portions of the data) against the theoretical quantiles of a normal distribution. \n",
    "\n",
    "Ref[https://www.ncbi.nlm.nih.gov/pmc/articles/PMC3693611/?source=post_page-----6bf06ed646a9----------------------]"
   ]
  },
  {
   "cell_type": "code",
   "execution_count": 16,
   "metadata": {},
   "outputs": [
    {
     "data": {
      "image/png": "[encoded data removed]",
      "text/plain": [
       "<Figure size 432x288 with 1 Axes>"
      ]
     },
     "execution_count": 16,
     "metadata": {},
     "output_type": "execute_result"
    },
    {
     "data": {
      "image/png": "[encoded data removed]",
      "text/plain": [
       "<Figure size 432x288 with 1 Axes>"
      ]
     },
     "metadata": {},
     "output_type": "display_data"
    }
   ],
   "source": [
    "sm.qqplot(y, line='s') #generate a q-q plot of the house price data"
   ]
  },
  {
   "cell_type": "markdown",
   "metadata": {},
   "source": [
    "Investigating possible reasons for the non-normality of the 'PRICES' data and specifically what, if any effects are causing the skew of data towards higher value houses may be worthwhile."
   ]
  },
  {
   "cell_type": "markdown",
   "metadata": {},
   "source": [
    "### RELATIONSHIPS BETWEEN VARIABLES\n",
    "___\n",
    "\n",
    "A correlation heatmap is a useful way to quickly visualise the relationships between variables and determine which variables are highly correlated and worth further investigation.\n",
    "\n",
    "Ref [https://seaborn.pydata.org/generated/seaborn.heatmap.html]\n"
   ]
  },
  {
   "cell_type": "markdown",
   "metadata": {},
   "source": [
    "**CORRELATIONS**"
   ]
  },
  {
   "cell_type": "markdown",
   "metadata": {},
   "source": [
    "The correlations between input variables and PRICE are ranked below in descending order"
   ]
  },
  {
   "cell_type": "code",
   "execution_count": 17,
   "metadata": {},
   "outputs": [
    {
     "data": {
      "text/plain": [
       "PRICE      1.000000\n",
       "RM         0.695360\n",
       "ZN         0.360445\n",
       "B          0.333461\n",
       "DIS        0.249929\n",
       "CHAS       0.175260\n",
       "AGE       -0.376955\n",
       "RAD       -0.381626\n",
       "CRIM      -0.388305\n",
       "NOX       -0.427321\n",
       "TAX       -0.468536\n",
       "INDUS     -0.483725\n",
       "PTRATIO   -0.507787\n",
       "LSTAT     -0.737663\n",
       "Name: PRICE, dtype: float64"
      ]
     },
     "execution_count": 17,
     "metadata": {},
     "output_type": "execute_result"
    }
   ],
   "source": [
    "corr_matrix = bos.corr()\n",
    "corr_matrix['PRICE'].sort_values(ascending=False)"
   ]
  },
  {
   "cell_type": "markdown",
   "metadata": {},
   "source": [
    "**Highest correlations are RM, ZN and B**"
   ]
  },
  {
   "cell_type": "code",
   "execution_count": 18,
   "metadata": {},
   "outputs": [
    {
     "data": {
      "image/png": "[encoded data removed]",
      "text/plain": [
       "<Figure size 1080x1080 with 2 Axes>"
      ]
     },
     "metadata": {},
     "output_type": "display_data"
    }
   ],
   "source": [
    "plt.figure(figsize=(15, 15)) #sets the parameters for the figure size \n",
    "ax = sns.heatmap(bos.corr(), cmap=sns.cubehelix_palette(as_cmap=True), linewidths=0.5) #generates heatmap, colour scheme and linewidth\n",
    "ax.xaxis.tick_top() #sets the axis to the top of the chart for easier reading"
   ]
  },
  {
   "cell_type": "markdown",
   "metadata": {},
   "source": [
    "The above correlation matrix highlights some interesting relationships between the target variable, PRICE and other variables:\n",
    "\n",
    "* There is a high positive correlation between PRICE and RM - (Average number of rooms per dwelling)\n",
    "\n",
    "* There is a positive correlation between PRICE and ZN - (proportion of residential land zoned for lots over 25,000 sq.ft.)\n",
    "\n",
    "* There is a negative correlation between PRICE and LSTAT - (% lower status of the population)\n",
    "\n",
    "* There is a negative correlation between PRICE and PTRATIO - (pupil-teacher ratio by town)\n",
    "\n",
    "The correlation matrix is only relevant to variables where there is a integer value. The Charles river variable is logistic in nature (i.e. 1 or 0) so is not relevant to this analysis."
   ]
  },
  {
   "cell_type": "markdown",
   "metadata": {},
   "source": [
    "## INFERENTIAL STATISTICS"
   ]
  },
  {
   "cell_type": "markdown",
   "metadata": {},
   "source": [
    "We will now use inferential statistics to analyse the relationship between the median house prices 'PRICE' ('MEDV'in the original dataset) and whether or not the houses border the Charles river 'CHAS'"
   ]
  },
  {
   "cell_type": "code",
   "execution_count": 19,
   "metadata": {},
   "outputs": [],
   "source": [
    "# Split the data into house proces which border the River and those who dont\n",
    "    \n",
    "River = bos.loc[bos['CHAS'] != 0]\n",
    "Not_River = bos.loc[bos['CHAS'] != 1]"
   ]
  },
  {
   "cell_type": "code",
   "execution_count": 20,
   "metadata": {},
   "outputs": [],
   "source": [
    "#Create 2 Arrays of Prices along River and not along river\n",
    "\n",
    "River_Price = River['PRICE']\n",
    "Not_River_Price = Not_River['PRICE']"
   ]
  },
  {
   "cell_type": "code",
   "execution_count": 21,
   "metadata": {},
   "outputs": [
    {
     "data": {
      "text/plain": [
       "count    35.000000\n",
       "mean     28.440000\n",
       "std      11.816643\n",
       "min      13.400000\n",
       "25%      21.100000\n",
       "50%      23.300000\n",
       "75%      33.150000\n",
       "max      50.000000\n",
       "Name: PRICE, dtype: float64"
      ]
     },
     "execution_count": 21,
     "metadata": {},
     "output_type": "execute_result"
    }
   ],
   "source": [
    "#Summary statistics for house prices bordering river\n",
    "River_Price.describe().T\n"
   ]
  },
  {
   "cell_type": "code",
   "execution_count": 22,
   "metadata": {},
   "outputs": [
    {
     "data": {
      "text/plain": [
       "count    471.000000\n",
       "mean      22.093843\n",
       "std        8.831362\n",
       "min        5.000000\n",
       "25%       16.600000\n",
       "50%       20.900000\n",
       "75%       24.800000\n",
       "max       50.000000\n",
       "Name: PRICE, dtype: float64"
      ]
     },
     "execution_count": 22,
     "metadata": {},
     "output_type": "execute_result"
    }
   ],
   "source": [
    "#Summary statistics for house prices not bordering river\n",
    "Not_River_Price.describe().T"
   ]
  },
  {
   "cell_type": "markdown",
   "metadata": {},
   "source": [
    "I can be seen above that in simple terms, the mean house price of houses bordering the river is 28,440 dollars whereas the mean house price of houses not bordering the river is 22,093 dollars.\n",
    "\n",
    "We will take a further look at how both sets of prices are distributed, using boxplots"
   ]
  },
  {
   "cell_type": "markdown",
   "metadata": {},
   "source": [
    "### BOX PLOTS OF HOUSE PRICES BORDERING/NOT BORDERING RIVER"
   ]
  },
  {
   "cell_type": "code",
   "execution_count": 23,
   "metadata": {},
   "outputs": [
    {
     "data": {
      "text/plain": [
       "Text(0.5,1,'House Prices Not Bordering River and Bordering River')"
      ]
     },
     "execution_count": 23,
     "metadata": {},
     "output_type": "execute_result"
    },
    {
     "data": {
      "image/png": "[encoded data removed]",
      "text/plain": [
       "<Figure size 1080x1080 with 1 Axes>"
      ]
     },
     "metadata": {},
     "output_type": "display_data"
    }
   ],
   "source": [
    "plt.figure(figsize=(15, 15))\n",
    "red_circle = dict(markerfacecolor='r', marker='o')\n",
    "sns.set(font_scale=1.2)\n",
    "ax=sns.boxplot(x=\"CHAS\", y=\"PRICE\",data=bos, linewidth=2.0, flierprops=red_circle, showmeans=True , meanline=True, meanprops = dict(linestyle='--', linewidth=2.5, color='purple'))\n",
    "ax.set_title('House Prices Not Bordering River and Bordering River', size=20)\n"
   ]
  },
  {
   "cell_type": "markdown",
   "metadata": {},
   "source": [
    "The boxplots of the median house price for houses bordering the river (CHAS=1) and those not bordering the river (CHAS=0) appear quite different, suggesting that it may be worth investigating if this difference is statistically significant.\n",
    "* The array containing houses not bordering the river has a number of outliers at the upper end\n",
    "* The array containing houses bordering the river has a mean which is higher than those not bordering the river (**purple dashed line in boxplot**). Additionally, the mean of house prices bordering the river is significantly higher than the median compared to the house prices of those not bordering the river."
   ]
  },
  {
   "cell_type": "markdown",
   "metadata": {},
   "source": [
    "### DISTRIBUTION PLOTS OF HOUSE PRICES BORDERING/NOT BORDERING RIVER"
   ]
  },
  {
   "cell_type": "code",
   "execution_count": 24,
   "metadata": {},
   "outputs": [
    {
     "data": {
      "image/png": "[encoded data removed]",
      "text/plain": [
       "<Figure size 864x864 with 1 Axes>"
      ]
     },
     "metadata": {},
     "output_type": "display_data"
    }
   ],
   "source": [
    "sns.set_style(\"darkgrid\")\n",
    "plt.figure(figsize=(12, 12))\n",
    "ax1 = sns.distplot(River_Price)\n",
    "ax2 = sns.distplot(Not_River_Price)"
   ]
  },
  {
   "cell_type": "markdown",
   "metadata": {},
   "source": [
    "The distribution plots of house prices bordering/not bordering the river don't highlight the differences in the two datasets as well as the boxplots do, but the distributions illustrate how both distributions have a similar shape"
   ]
  },
  {
   "cell_type": "markdown",
   "metadata": {},
   "source": [
    "### NORMALITY CHECK ON HOUSE PRICES BORDERING/NOT BORDERING RIVER"
   ]
  },
  {
   "cell_type": "code",
   "execution_count": 25,
   "metadata": {},
   "outputs": [
    {
     "name": "stdout",
     "output_type": "stream",
     "text": [
      "Test Statistic : Not Bordering River =0.928, p=0.0000\n",
      "Test Statistic : Bordering River =0.836, p=0.0001\n"
     ]
    }
   ],
   "source": [
    "#Check the two house price data sets for normality using the Shapiro-Wilks test\n",
    "\n",
    "shapiro_test1 = shapiro(Not_River_Price) \n",
    "shapiro_test2 = shapiro(River_Price) \n",
    "\n",
    "stat1, p1 = shapiro_test1\n",
    "stat2, p2 = shapiro_test2\n",
    "print('Test Statistic : Not Bordering River =%.3f, p=%.4f' % (stat1, p1))\n",
    "print('Test Statistic : Bordering River =%.3f, p=%.4f' % (stat2, p2))"
   ]
  },
  {
   "cell_type": "markdown",
   "metadata": {},
   "source": [
    "The normality test of the house prices bordering/not bordering the river both suggest that we can reject the null hypothesis, $H_0$, and accept the alternative hypothesis, $H_1$, the two sets are non-normal\n",
    "\n",
    "**Although the data displays non-normality, (and the presence of outliers) - parametric tests of the house prices are still suitable due to the large sample sizes we have** \n",
    "\n",
    "REF [https://blog.minitab.com/blog/understanding-statistics/data-not-normal-try-letting-it-be-with-a-nonparametric-hypothesis-test]\n",
    "\n",
    "This is also a satisfactory approach since the **Central Limit Theorem** states that given a sufficiently large sample size from a population (usually more than 30) with a finite level of variance, the mean of all samples from the same population will be approximately equal to the mean of the population.\n",
    "\n",
    "**CENTRAL LIMIT THEOREM**\n",
    "\n",
    "If X1, X2,...Xn is a random sample of size n taken from a population (either finite\n",
    "or infinite) with mean $u$ and finite variance $\\sigma^2$ , and if $\\bar X$ is the sample mean, the limiting\n",
    "form of the distribution of\n",
    "\n",
    "$Z$ = $\\frac{\\bar X - u} {\\frac{\\sigma}{\\sqrt n}}$\n",
    "\n",
    "\n",
    "as n -->0, is the standard normal distribution.\n",
    "\n",
    "REF[Applied Statistics and Probability for Engineers.; Montgomery,D.C.; Wiley; 2003]"
   ]
  },
  {
   "cell_type": "markdown",
   "metadata": {},
   "source": [
    "### PAIRED T-TEST"
   ]
  },
  {
   "cell_type": "code",
   "execution_count": 26,
   "metadata": {},
   "outputs": [
    {
     "name": "stdout",
     "output_type": "stream",
     "text": [
      "Test Statistic = -3.996, p=0.0001\n"
     ]
    }
   ],
   "source": [
    "#Carry out a paired t-test on the house prices bordering/not bordering the river\n",
    "\n",
    "stats.ttest_ind(Not_River_Price, River_Price)\n",
    "\n",
    "stat, p = stats.ttest_ind(Not_River_Price, River_Price)\n",
    "print('Test Statistic = %.3f, p=%.4f' % (stat, p))\n",
    "\n",
    "# REF [https://docs.scipy.org/doc/scipy/reference/generated/scipy.stats.ttest_ind.html]"
   ]
  },
  {
   "cell_type": "markdown",
   "metadata": {},
   "source": [
    "A Test Statistic of -3.996 and  $p$ value of p=0.0001 suggest that we can reject the null hypothesis of equal means.\n",
    "\n",
    "Therefore we can conclude that there is a difference in the mean house price between houses bordering the Charles River and those not bordering the Charles River"
   ]
  },
  {
   "cell_type": "markdown",
   "metadata": {},
   "source": [
    "the following analysis was used as the basis for our investigation of descriptive and inferential statistics:\n",
    "\n",
    "REF: [https://subscription.packtpub.com/book/programming/9781789804744/1/ch01lvl1sec11/our-first-analysis-the-boston-housing-dataset]"
   ]
  },
  {
   "cell_type": "markdown",
   "metadata": {},
   "source": [
    "#  PREDICT \n",
    "\n"
   ]
  },
  {
   "cell_type": "markdown",
   "metadata": {},
   "source": [
    "## NEURAL NETWORK USING KERAS\n",
    "\n",
    "In this section we will attempt to predict the house prices based on other variables using the Keras Neural Network library\n",
    "\n",
    "REF [https://keras.io/]"
   ]
  },
  {
   "cell_type": "markdown",
   "metadata": {},
   "source": [
    "**BUILD THE MODEL**\n",
    "\n",
    "We have used 1 input layer with 14 neurons, 2 hidden layers with 4 neurons and 1 output layer. The input shape is the number of variables i.e. 13. The activation function is `relu` - Rectified Linear Unit. This activation function normalises the inputs."
   ]
  },
  {
   "cell_type": "markdown",
   "metadata": {},
   "source": [
    "`BatchNormalization` is added as a means of getting all the attributes on the same scale: This is important in datasets where the input variables vary greatly in scale. "
   ]
  },
  {
   "cell_type": "code",
   "execution_count": 27,
   "metadata": {},
   "outputs": [],
   "source": [
    "#Import relevant Keras libraries\n",
    "\n",
    "#import the sequential model\n",
    "from keras.models import Sequential\n",
    "from keras.models import Model\n",
    "\n",
    "from keras import optimizers \n",
    "\n",
    "#import the relevent layer types and activation\n",
    "from keras.layers import Dense, Activation\n",
    "# For encoding categorical variables.\n",
    "import sklearn.preprocessing as pre\n",
    "\n",
    "\n",
    "\n",
    "# For splitting into training and test sets.\n",
    "import sklearn.model_selection as mod\n",
    "\n",
    "#Create a new sequential model\n",
    "def create_model():\n",
    "    # create model\n",
    "    \n",
    "    model = Sequential()\n",
    "\n",
    "#Introduce regularisation\n",
    "\n",
    "    model.add(Dense(14, input_dim=(4), activation=\"relu\",kernel_regularizer=regularizers.l2(0.01), activity_regularizer=regularizers.l1(0.01)))\n",
    "    #model.add(Dense(64, input_dim=(13), activation=\"relu\",kernel_regularizer=regularizers.l2(0.01), activity_regularizer=regularizers.l1(0.01)))\n",
    "    \n",
    "    kr.layers.BatchNormalization()\n",
    "    #model.add(Dense(7, activation=\"relu\"))\n",
    "    model.add(Dense(4, activation=\"linear\"))\n",
    "    \n",
    "    #kr.layers.BatchNormalization()\n",
    "    model.add(Dense(4, activation=\"relu\"))\n",
    "\n",
    "    kr.layers.BatchNormalization()\n",
    "    model.add(Dense(1, activation=\"linear\"))\n",
    "    #model.add(Dense(1, activation=\"linear\"))\n",
    "    \n",
    "    model.summary()\n",
    "    \n",
    "    model.compile(optimizer=\"Adam\", loss =\"mean_absolute_error\")\n",
    "    \n",
    "    return model\n",
    "#Note: 23-Nov-19 - Number of neurons increased to 64 in line with original experimentation and from knowledge gained in REF\n",
    "\n",
    "#[Deep Learning with Python: Chollet, F.; Manning; 2018]# pages 85-91"
   ]
  },
  {
   "cell_type": "code",
   "execution_count": 28,
   "metadata": {},
   "outputs": [],
   "source": [
    "#Set the x and y parameters for independent and dependent variables\n",
    "\n",
    "#Define the feature variables by assigning the column names as feature_names\n",
    "\n",
    "boston_features = pd.DataFrame(boston.data, columns=boston.feature_names)\n",
    "\n",
    "#x = boston_features[['ZN','RM', 'PTRATIO', 'LSTAT', 'CHAS']]\n",
    "#x = pd.DataFrame(boston_features)\n",
    "y = pd.DataFrame(boston.target, columns =['PRICE'])\n",
    "x = pd.DataFrame(boston_features, columns=['ZN','PTRATIO','LSTAT','RM'])\n",
    "#drop some parameters to try and simplify the model\n",
    "\n",
    "#x = bos['CRIM', 'INDUS', 'CHAS','ZN', 'NOX', 'RM', 'AGE', 'DIS', 'RAD', 'TAX', 'PTRATIO', 'LSTAT', 'TAX']\n"
   ]
  },
  {
   "cell_type": "markdown",
   "metadata": {},
   "source": [
    "**SCALING**"
   ]
  },
  {
   "cell_type": "markdown",
   "metadata": {},
   "source": [
    "REF[https://scikit-learn.org/stable/modules/generated/sklearn.preprocessing.scale.html]\n",
    "\n",
    "Scaling can be used to optimise models if the data is not normally distributed. In our case this dataset shows evidence of non-normality as shown in the 'histograms of house price labels' section above. This is achieved using the StandardScaler class in the  `preprocessing` Scikitlearn python library\n",
    "\n",
    "It is a useful technique to be used on data which is non-normal. It is achieved by removing the mean of each feature and dividing by its standard deviation to bring all variables to the same scale. "
   ]
  },
  {
   "cell_type": "code",
   "execution_count": 29,
   "metadata": {},
   "outputs": [],
   "source": [
    "# https://scikit-learn.org/stable/modules/preprocessing.html#preprocessing\n",
    "\n",
    "#define the scope for the scaling function (the boston_features variables, add column names)\n",
    "xscale = pd.DataFrame(pre.scale(x), columns=x.columns)\n"
   ]
  },
  {
   "cell_type": "code",
   "execution_count": 30,
   "metadata": {},
   "outputs": [
    {
     "data": {
      "text/plain": [
       "(array([11.36363636, 18.4555336 , 12.65306324,  6.28463439]),\n",
       " array([23.29939569,  2.16280519,  7.13400164,  0.70192251]))"
      ]
     },
     "execution_count": 30,
     "metadata": {},
     "output_type": "execute_result"
    }
   ],
   "source": [
    "#define scaling as preprocessing standard scaler scikitlearn library\n",
    "scaler = pre.StandardScaler()\n",
    "scaler.fit(x)\n",
    "#output the mean and scale of data\n",
    "scaler.mean_, scaler.scale_"
   ]
  },
  {
   "cell_type": "code",
   "execution_count": 31,
   "metadata": {},
   "outputs": [],
   "source": [
    "#scaler.transform function centres and scales the data\n",
    "xscale = pd.DataFrame(scaler.transform(x), columns=x.columns)"
   ]
  },
  {
   "cell_type": "markdown",
   "metadata": {},
   "source": [
    "**COMPILE THE MODEL**\n",
    "\n",
    "Gradient descent is an optimisation algorithm which works by changing parameters of the input functions such as weights until the loss function converges on a minimum.\n",
    "\n",
    "The model was initially compiled using a Stochastic Gradient Descent optimiser `sgd` and the loss function Mean Square Error `mse`.\n",
    "\n",
    "Better results were found using the `Adam` optimiser and `mean_absolute_error`\n",
    "\n",
    "* **Stochastic Gradient Descent optimiser**, as the name suggests picks a random instance in the training set and computes the gradient based only on that instance. This is in contrast to 'Batch gradient descent which uses the entire dataset to calculate the gradients which is slow (for a large dataset). Due to its random nature, the cost function for stochastic gradient descent will increase and decrease, over time approaching its minimum.\n",
    "  \n",
    "\n",
    "* **Mean Square Error** is a useful loss function for regression problems where a value is predicted from continuous variables.\n",
    "\n",
    "* **Mean Absolute Error** Calculates the absolute error between training and test data\n",
    " \n",
    "    REF [Applied Deep Learning with Python By Alex Galea, Luis Capelo August 2018]\n",
    "    \n",
    "    REF [Hands-On Machine Learning with Scikit-Learn, KERAS & TensorFlow; Geron, A.; O'Reilly; 2019, 2nd Ed]\n",
    "    \n",
    "Batch Normalisation `keras.layers.BatchNormalization` REF[https://keras.io/layers/normalization/]\n",
    "\n",
    "\"Normalises the activations of the previous layer at each batch, i.e. applies a transformation that maintains the mean activation close to 0 and the activation standard deviation close to 1.\"\n",
    "\n",
    "It increases training speed and allows greater variation in the learning rate:\n",
    "https://arxiv.org/abs/1502.03167"
   ]
  },
  {
   "cell_type": "markdown",
   "metadata": {},
   "source": [
    "**Attempt to adjust learning rate to get better cost value**"
   ]
  },
  {
   "cell_type": "code",
   "execution_count": 32,
   "metadata": {},
   "outputs": [],
   "source": [
    "#compile the model specifying the model optimiser and loss function\n",
    "\n",
    "# Optimizers Tried\n",
    "sgd = optimizers.SGD(lr=0.01, clipnorm=1.0)\n",
    "Adam = kr.optimizers.Adam(learning_rate=0.01, beta_1=0.9, beta_2=0.999, amsgrad=False)\n",
    "RMSprop = kr.optimizers.RMSprop(learning_rate=0.001, rho=0.9)\n",
    "Adagrad = kr.optimizers.Adagrad(learning_rate=0.01)\n",
    "Adadelta = kr.optimizers.Adadelta(learning_rate=1.0, rho=0.95)\n",
    "Adamax = kr.optimizers.Adamax(learning_rate=0.002, beta_1=0.9, beta_2=0.999)\n",
    "Nadam = kr.optimizers.Nadam(learning_rate=0.002, beta_1=0.9, beta_2=0.999)\n",
    "\n",
    "#loss Functions tried\n",
    "#model.compile(optimizer=\"Adam\", loss =\"mean_squared_error\")\n",
    "#model.compile(optimizer=\"Adam\", loss =\"mean_absolute_error\")\n",
    "#model.compile(optimizer=\"Adam\", loss =\"mean_absolute_percentage_error\")\n",
    "#model.compile(optimizer=\"Adam\", loss =\"mean_squared_logarithmic_error\")\n",
    "#model.compile(optimizer=\"Adam\", loss =\"hinge\")\n",
    "#model.compile(optimizer=\"Adam\", loss =\"log_cosh\")\n",
    "#model.compile(optimizer=\"Adam\", loss =\"huber_loss\")\n",
    "\n",
    "#changed to 'Adam' optimiser, loss mean_squared_error, \n",
    "#metrics added ref https://stackoverflow.com/questions/48775305/what-function-defines-accuracy-in-keras-when-the-loss-is-mean-squared-error-mse?rq=1\n",
    "#model.compile(optimizer=\"Adam\", loss =\"mean_squared_error\")\n"
   ]
  },
  {
   "cell_type": "markdown",
   "metadata": {},
   "source": [
    "**CREATE A TRAINING AND TESTING SET**\n",
    "\n",
    "Like all regression problems it is necessary to create a training `x_train` , `y_train` and testing set `x_test`, `y_test` with which to train the model to create predictions of our output variable and a testing set to test the accuracy of the predictive model we have created.\n",
    "\n",
    "We have specified a `test_size` of 0.5 i.e. half the data will be used to test the model. - Subsequently adjusted to 0.2"
   ]
  },
  {
   "cell_type": "code",
   "execution_count": 33,
   "metadata": {},
   "outputs": [],
   "source": [
    "# Define our training set: size of the test set is 0.2 i.e. 20% of the dataset\n",
    "#random_state sets the seed for random assignment in order to maintain consistency\n",
    "x_train, x_test, y_train, y_test = mod.train_test_split(x, y, test_size=0.2, random_state = 42)\n",
    "#x_train, x_test, y_train, y_test = x[train_index], x[test_index], y[train_index], y[test_index]\n",
    "\n",
    "#x.loc[train_index]"
   ]
  },
  {
   "cell_type": "markdown",
   "metadata": {},
   "source": [
    "**SCALING THE DATASET**"
   ]
  },
  {
   "cell_type": "code",
   "execution_count": 34,
   "metadata": {},
   "outputs": [],
   "source": [
    "scaler = pre.StandardScaler()\n",
    "scaler.fit(x_train)\n",
    "x_train_scaled = pd.DataFrame(scaler.transform(x_train), columns=x.columns)\n",
    "\n",
    "#x_train_scaled"
   ]
  },
  {
   "cell_type": "markdown",
   "metadata": {},
   "source": [
    "`model.fit` Trains the model over a fixed number of epochs\n",
    "\n",
    "**epochs**: are the number of epochs to train the model. An epoch is an iteration over the entire x and y data provided. \n",
    "\n",
    "REF[https://keras.io/models/model/]"
   ]
  },
  {
   "cell_type": "markdown",
   "metadata": {},
   "source": [
    "`EarlyStopping` stops the model when it doesnt improve the cost function after a specified number of epochs of same loss value. `patience` defines the number of epochs of same loss value before stopping\n",
    "\n",
    "REF [https://towardsdatascience.com/building-a-deep-learning-model-using-keras-1548ca149d37]\n",
    "\n",
    "Validation model also added:\n",
    "\n",
    "Validation is a process of holding out part of the test set during optimisation in order to evaluate several candidate models and select the best one.\n",
    "\n",
    "`validation_split`: Float between 0 and 1. Fraction of the training data to be used as validation data. The model will set apart this fraction of the training data, will not train on it, and will evaluate the loss and any model metrics on this data at the end of each epoch. The validation data is selected from the last samples in the x and y data provided, before shuffling. \n",
    "\n",
    "`Val_Loss` is the loss value calculated on the validation test set after each epoch\n",
    "\n",
    "REF [https://keras.io/models/model/]"
   ]
  },
  {
   "cell_type": "markdown",
   "metadata": {},
   "source": [
    "**GRADIENT DESCENT**\n",
    "\n"
   ]
  },
  {
   "cell_type": "code",
   "execution_count": 35,
   "metadata": {},
   "outputs": [
    {
     "name": "stdout",
     "output_type": "stream",
     "text": [
      "TRAIN: [ 51  52  53  54  55  56  57  58  59  60  61  62  63  64  65  66  67  68\n",
      "  69  70  71  72  73  74  75  76  77  78  79  80  81  82  83  84  85  86\n",
      "  87  88  89  90  91  92  93  94  95  96  97  98  99 100 101 102 103 104\n",
      " 105 106 107 108 109 110 111 112 113 114 115 116 117 118 119 120 121 122\n",
      " 123 124 125 126 127 128 129 130 131 132 133 134 135 136 137 138 139 140\n",
      " 141 142 143 144 145 146 147 148 149 150 151 152 153 154 155 156 157 158\n",
      " 159 160 161 162 163 164 165 166 167 168 169 170 171 172 173 174 175 176\n",
      " 177 178 179 180 181 182 183 184 185 186 187 188 189 190 191 192 193 194\n",
      " 195 196 197 198 199 200 201 202 203 204 205 206 207 208 209 210 211 212\n",
      " 213 214 215 216 217 218 219 220 221 222 223 224 225 226 227 228 229 230\n",
      " 231 232 233 234 235 236 237 238 239 240 241 242 243 244 245 246 247 248\n",
      " 249 250 251 252 253 254 255 256 257 258 259 260 261 262 263 264 265 266\n",
      " 267 268 269 270 271 272 273 274 275 276 277 278 279 280 281 282 283 284\n",
      " 285 286 287 288 289 290 291 292 293 294 295 296 297 298 299 300 301 302\n",
      " 303 304 305 306 307 308 309 310 311 312 313 314 315 316 317 318 319 320\n",
      " 321 322 323 324 325 326 327 328 329 330 331 332 333 334 335 336 337 338\n",
      " 339 340 341 342 343 344 345 346 347 348 349 350 351 352 353 354 355 356\n",
      " 357 358 359 360 361 362 363 364 365 366 367 368 369 370 371 372 373 374\n",
      " 375 376 377 378 379 380 381 382 383 384 385 386 387 388 389 390 391 392\n",
      " 393 394 395 396 397 398 399 400 401 402 403 404 405 406 407 408 409 410\n",
      " 411 412 413 414 415 416 417 418 419 420 421 422 423 424 425 426 427 428\n",
      " 429 430 431 432 433 434 435 436 437 438 439 440 441 442 443 444 445 446\n",
      " 447 448 449 450 451 452 453 454 455 456 457 458 459 460 461 462 463 464\n",
      " 465 466 467 468 469 470 471 472 473 474 475 476 477 478 479 480 481 482\n",
      " 483 484 485 486 487 488 489 490 491 492 493 494 495 496 497 498 499 500\n",
      " 501 502 503 504 505] TEST: [ 0  1  2  3  4  5  6  7  8  9 10 11 12 13 14 15 16 17 18 19 20 21 22 23\n",
      " 24 25 26 27 28 29 30 31 32 33 34 35 36 37 38 39 40 41 42 43 44 45 46 47\n",
      " 48 49 50]\n",
      "TRAIN: [  0   1   2   3   4   5   6   7   8   9  10  11  12  13  14  15  16  17\n",
      "  18  19  20  21  22  23  24  25  26  27  28  29  30  31  32  33  34  35\n",
      "  36  37  38  39  40  41  42  43  44  45  46  47  48  49  50 102 103 104\n",
      " 105 106 107 108 109 110 111 112 113 114 115 116 117 118 119 120 121 122\n",
      " 123 124 125 126 127 128 129 130 131 132 133 134 135 136 137 138 139 140\n",
      " 141 142 143 144 145 146 147 148 149 150 151 152 153 154 155 156 157 158\n",
      " 159 160 161 162 163 164 165 166 167 168 169 170 171 172 173 174 175 176\n",
      " 177 178 179 180 181 182 183 184 185 186 187 188 189 190 191 192 193 194\n",
      " 195 196 197 198 199 200 201 202 203 204 205 206 207 208 209 210 211 212\n",
      " 213 214 215 216 217 218 219 220 221 222 223 224 225 226 227 228 229 230\n",
      " 231 232 233 234 235 236 237 238 239 240 241 242 243 244 245 246 247 248\n",
      " 249 250 251 252 253 254 255 256 257 258 259 260 261 262 263 264 265 266\n",
      " 267 268 269 270 271 272 273 274 275 276 277 278 279 280 281 282 283 284\n",
      " 285 286 287 288 289 290 291 292 293 294 295 296 297 298 299 300 301 302\n",
      " 303 304 305 306 307 308 309 310 311 312 313 314 315 316 317 318 319 320\n",
      " 321 322 323 324 325 326 327 328 329 330 331 332 333 334 335 336 337 338\n",
      " 339 340 341 342 343 344 345 346 347 348 349 350 351 352 353 354 355 356\n",
      " 357 358 359 360 361 362 363 364 365 366 367 368 369 370 371 372 373 374\n",
      " 375 376 377 378 379 380 381 382 383 384 385 386 387 388 389 390 391 392\n",
      " 393 394 395 396 397 398 399 400 401 402 403 404 405 406 407 408 409 410\n",
      " 411 412 413 414 415 416 417 418 419 420 421 422 423 424 425 426 427 428\n",
      " 429 430 431 432 433 434 435 436 437 438 439 440 441 442 443 444 445 446\n",
      " 447 448 449 450 451 452 453 454 455 456 457 458 459 460 461 462 463 464\n",
      " 465 466 467 468 469 470 471 472 473 474 475 476 477 478 479 480 481 482\n",
      " 483 484 485 486 487 488 489 490 491 492 493 494 495 496 497 498 499 500\n",
      " 501 502 503 504 505] TEST: [ 51  52  53  54  55  56  57  58  59  60  61  62  63  64  65  66  67  68\n",
      "  69  70  71  72  73  74  75  76  77  78  79  80  81  82  83  84  85  86\n",
      "  87  88  89  90  91  92  93  94  95  96  97  98  99 100 101]\n",
      "TRAIN: [  0   1   2   3   4   5   6   7   8   9  10  11  12  13  14  15  16  17\n",
      "  18  19  20  21  22  23  24  25  26  27  28  29  30  31  32  33  34  35\n",
      "  36  37  38  39  40  41  42  43  44  45  46  47  48  49  50  51  52  53\n",
      "  54  55  56  57  58  59  60  61  62  63  64  65  66  67  68  69  70  71\n",
      "  72  73  74  75  76  77  78  79  80  81  82  83  84  85  86  87  88  89\n",
      "  90  91  92  93  94  95  96  97  98  99 100 101 153 154 155 156 157 158\n",
      " 159 160 161 162 163 164 165 166 167 168 169 170 171 172 173 174 175 176\n",
      " 177 178 179 180 181 182 183 184 185 186 187 188 189 190 191 192 193 194\n",
      " 195 196 197 198 199 200 201 202 203 204 205 206 207 208 209 210 211 212\n",
      " 213 214 215 216 217 218 219 220 221 222 223 224 225 226 227 228 229 230\n",
      " 231 232 233 234 235 236 237 238 239 240 241 242 243 244 245 246 247 248\n",
      " 249 250 251 252 253 254 255 256 257 258 259 260 261 262 263 264 265 266\n",
      " 267 268 269 270 271 272 273 274 275 276 277 278 279 280 281 282 283 284\n",
      " 285 286 287 288 289 290 291 292 293 294 295 296 297 298 299 300 301 302\n",
      " 303 304 305 306 307 308 309 310 311 312 313 314 315 316 317 318 319 320\n",
      " 321 322 323 324 325 326 327 328 329 330 331 332 333 334 335 336 337 338\n",
      " 339 340 341 342 343 344 345 346 347 348 349 350 351 352 353 354 355 356\n",
      " 357 358 359 360 361 362 363 364 365 366 367 368 369 370 371 372 373 374\n",
      " 375 376 377 378 379 380 381 382 383 384 385 386 387 388 389 390 391 392\n",
      " 393 394 395 396 397 398 399 400 401 402 403 404 405 406 407 408 409 410\n",
      " 411 412 413 414 415 416 417 418 419 420 421 422 423 424 425 426 427 428\n",
      " 429 430 431 432 433 434 435 436 437 438 439 440 441 442 443 444 445 446\n",
      " 447 448 449 450 451 452 453 454 455 456 457 458 459 460 461 462 463 464\n",
      " 465 466 467 468 469 470 471 472 473 474 475 476 477 478 479 480 481 482\n",
      " 483 484 485 486 487 488 489 490 491 492 493 494 495 496 497 498 499 500\n",
      " 501 502 503 504 505] TEST: [102 103 104 105 106 107 108 109 110 111 112 113 114 115 116 117 118 119\n",
      " 120 121 122 123 124 125 126 127 128 129 130 131 132 133 134 135 136 137\n",
      " 138 139 140 141 142 143 144 145 146 147 148 149 150 151 152]\n",
      "TRAIN: [  0   1   2   3   4   5   6   7   8   9  10  11  12  13  14  15  16  17\n",
      "  18  19  20  21  22  23  24  25  26  27  28  29  30  31  32  33  34  35\n",
      "  36  37  38  39  40  41  42  43  44  45  46  47  48  49  50  51  52  53\n",
      "  54  55  56  57  58  59  60  61  62  63  64  65  66  67  68  69  70  71\n",
      "  72  73  74  75  76  77  78  79  80  81  82  83  84  85  86  87  88  89\n",
      "  90  91  92  93  94  95  96  97  98  99 100 101 102 103 104 105 106 107\n",
      " 108 109 110 111 112 113 114 115 116 117 118 119 120 121 122 123 124 125\n",
      " 126 127 128 129 130 131 132 133 134 135 136 137 138 139 140 141 142 143\n",
      " 144 145 146 147 148 149 150 151 152 204 205 206 207 208 209 210 211 212\n",
      " 213 214 215 216 217 218 219 220 221 222 223 224 225 226 227 228 229 230\n",
      " 231 232 233 234 235 236 237 238 239 240 241 242 243 244 245 246 247 248\n",
      " 249 250 251 252 253 254 255 256 257 258 259 260 261 262 263 264 265 266\n",
      " 267 268 269 270 271 272 273 274 275 276 277 278 279 280 281 282 283 284\n",
      " 285 286 287 288 289 290 291 292 293 294 295 296 297 298 299 300 301 302\n",
      " 303 304 305 306 307 308 309 310 311 312 313 314 315 316 317 318 319 320\n",
      " 321 322 323 324 325 326 327 328 329 330 331 332 333 334 335 336 337 338\n",
      " 339 340 341 342 343 344 345 346 347 348 349 350 351 352 353 354 355 356\n",
      " 357 358 359 360 361 362 363 364 365 366 367 368 369 370 371 372 373 374\n",
      " 375 376 377 378 379 380 381 382 383 384 385 386 387 388 389 390 391 392\n",
      " 393 394 395 396 397 398 399 400 401 402 403 404 405 406 407 408 409 410\n",
      " 411 412 413 414 415 416 417 418 419 420 421 422 423 424 425 426 427 428\n",
      " 429 430 431 432 433 434 435 436 437 438 439 440 441 442 443 444 445 446\n",
      " 447 448 449 450 451 452 453 454 455 456 457 458 459 460 461 462 463 464\n",
      " 465 466 467 468 469 470 471 472 473 474 475 476 477 478 479 480 481 482\n",
      " 483 484 485 486 487 488 489 490 491 492 493 494 495 496 497 498 499 500\n",
      " 501 502 503 504 505] TEST: [153 154 155 156 157 158 159 160 161 162 163 164 165 166 167 168 169 170\n",
      " 171 172 173 174 175 176 177 178 179 180 181 182 183 184 185 186 187 188\n",
      " 189 190 191 192 193 194 195 196 197 198 199 200 201 202 203]\n",
      "TRAIN: [  0   1   2   3   4   5   6   7   8   9  10  11  12  13  14  15  16  17\n",
      "  18  19  20  21  22  23  24  25  26  27  28  29  30  31  32  33  34  35\n",
      "  36  37  38  39  40  41  42  43  44  45  46  47  48  49  50  51  52  53\n",
      "  54  55  56  57  58  59  60  61  62  63  64  65  66  67  68  69  70  71\n",
      "  72  73  74  75  76  77  78  79  80  81  82  83  84  85  86  87  88  89\n",
      "  90  91  92  93  94  95  96  97  98  99 100 101 102 103 104 105 106 107\n",
      " 108 109 110 111 112 113 114 115 116 117 118 119 120 121 122 123 124 125\n",
      " 126 127 128 129 130 131 132 133 134 135 136 137 138 139 140 141 142 143\n",
      " 144 145 146 147 148 149 150 151 152 153 154 155 156 157 158 159 160 161\n",
      " 162 163 164 165 166 167 168 169 170 171 172 173 174 175 176 177 178 179\n",
      " 180 181 182 183 184 185 186 187 188 189 190 191 192 193 194 195 196 197\n",
      " 198 199 200 201 202 203 255 256 257 258 259 260 261 262 263 264 265 266\n",
      " 267 268 269 270 271 272 273 274 275 276 277 278 279 280 281 282 283 284\n",
      " 285 286 287 288 289 290 291 292 293 294 295 296 297 298 299 300 301 302\n",
      " 303 304 305 306 307 308 309 310 311 312 313 314 315 316 317 318 319 320\n",
      " 321 322 323 324 325 326 327 328 329 330 331 332 333 334 335 336 337 338\n",
      " 339 340 341 342 343 344 345 346 347 348 349 350 351 352 353 354 355 356\n",
      " 357 358 359 360 361 362 363 364 365 366 367 368 369 370 371 372 373 374\n",
      " 375 376 377 378 379 380 381 382 383 384 385 386 387 388 389 390 391 392\n",
      " 393 394 395 396 397 398 399 400 401 402 403 404 405 406 407 408 409 410\n",
      " 411 412 413 414 415 416 417 418 419 420 421 422 423 424 425 426 427 428\n",
      " 429 430 431 432 433 434 435 436 437 438 439 440 441 442 443 444 445 446\n",
      " 447 448 449 450 451 452 453 454 455 456 457 458 459 460 461 462 463 464\n",
      " 465 466 467 468 469 470 471 472 473 474 475 476 477 478 479 480 481 482\n",
      " 483 484 485 486 487 488 489 490 491 492 493 494 495 496 497 498 499 500\n",
      " 501 502 503 504 505] TEST: [204 205 206 207 208 209 210 211 212 213 214 215 216 217 218 219 220 221\n",
      " 222 223 224 225 226 227 228 229 230 231 232 233 234 235 236 237 238 239\n",
      " 240 241 242 243 244 245 246 247 248 249 250 251 252 253 254]\n",
      "TRAIN: [  0   1   2   3   4   5   6   7   8   9  10  11  12  13  14  15  16  17\n",
      "  18  19  20  21  22  23  24  25  26  27  28  29  30  31  32  33  34  35\n",
      "  36  37  38  39  40  41  42  43  44  45  46  47  48  49  50  51  52  53\n",
      "  54  55  56  57  58  59  60  61  62  63  64  65  66  67  68  69  70  71\n",
      "  72  73  74  75  76  77  78  79  80  81  82  83  84  85  86  87  88  89\n",
      "  90  91  92  93  94  95  96  97  98  99 100 101 102 103 104 105 106 107\n",
      " 108 109 110 111 112 113 114 115 116 117 118 119 120 121 122 123 124 125\n",
      " 126 127 128 129 130 131 132 133 134 135 136 137 138 139 140 141 142 143\n",
      " 144 145 146 147 148 149 150 151 152 153 154 155 156 157 158 159 160 161\n",
      " 162 163 164 165 166 167 168 169 170 171 172 173 174 175 176 177 178 179\n",
      " 180 181 182 183 184 185 186 187 188 189 190 191 192 193 194 195 196 197\n",
      " 198 199 200 201 202 203 204 205 206 207 208 209 210 211 212 213 214 215\n",
      " 216 217 218 219 220 221 222 223 224 225 226 227 228 229 230 231 232 233\n",
      " 234 235 236 237 238 239 240 241 242 243 244 245 246 247 248 249 250 251\n",
      " 252 253 254 306 307 308 309 310 311 312 313 314 315 316 317 318 319 320\n",
      " 321 322 323 324 325 326 327 328 329 330 331 332 333 334 335 336 337 338\n",
      " 339 340 341 342 343 344 345 346 347 348 349 350 351 352 353 354 355 356\n",
      " 357 358 359 360 361 362 363 364 365 366 367 368 369 370 371 372 373 374\n",
      " 375 376 377 378 379 380 381 382 383 384 385 386 387 388 389 390 391 392\n",
      " 393 394 395 396 397 398 399 400 401 402 403 404 405 406 407 408 409 410\n",
      " 411 412 413 414 415 416 417 418 419 420 421 422 423 424 425 426 427 428\n",
      " 429 430 431 432 433 434 435 436 437 438 439 440 441 442 443 444 445 446\n",
      " 447 448 449 450 451 452 453 454 455 456 457 458 459 460 461 462 463 464\n",
      " 465 466 467 468 469 470 471 472 473 474 475 476 477 478 479 480 481 482\n",
      " 483 484 485 486 487 488 489 490 491 492 493 494 495 496 497 498 499 500\n",
      " 501 502 503 504 505] TEST: [255 256 257 258 259 260 261 262 263 264 265 266 267 268 269 270 271 272\n",
      " 273 274 275 276 277 278 279 280 281 282 283 284 285 286 287 288 289 290\n",
      " 291 292 293 294 295 296 297 298 299 300 301 302 303 304 305]\n",
      "TRAIN: [  0   1   2   3   4   5   6   7   8   9  10  11  12  13  14  15  16  17\n",
      "  18  19  20  21  22  23  24  25  26  27  28  29  30  31  32  33  34  35\n",
      "  36  37  38  39  40  41  42  43  44  45  46  47  48  49  50  51  52  53\n",
      "  54  55  56  57  58  59  60  61  62  63  64  65  66  67  68  69  70  71\n",
      "  72  73  74  75  76  77  78  79  80  81  82  83  84  85  86  87  88  89\n",
      "  90  91  92  93  94  95  96  97  98  99 100 101 102 103 104 105 106 107\n",
      " 108 109 110 111 112 113 114 115 116 117 118 119 120 121 122 123 124 125\n",
      " 126 127 128 129 130 131 132 133 134 135 136 137 138 139 140 141 142 143\n",
      " 144 145 146 147 148 149 150 151 152 153 154 155 156 157 158 159 160 161\n",
      " 162 163 164 165 166 167 168 169 170 171 172 173 174 175 176 177 178 179\n",
      " 180 181 182 183 184 185 186 187 188 189 190 191 192 193 194 195 196 197\n",
      " 198 199 200 201 202 203 204 205 206 207 208 209 210 211 212 213 214 215\n",
      " 216 217 218 219 220 221 222 223 224 225 226 227 228 229 230 231 232 233\n",
      " 234 235 236 237 238 239 240 241 242 243 244 245 246 247 248 249 250 251\n",
      " 252 253 254 255 256 257 258 259 260 261 262 263 264 265 266 267 268 269\n",
      " 270 271 272 273 274 275 276 277 278 279 280 281 282 283 284 285 286 287\n",
      " 288 289 290 291 292 293 294 295 296 297 298 299 300 301 302 303 304 305\n",
      " 356 357 358 359 360 361 362 363 364 365 366 367 368 369 370 371 372 373\n",
      " 374 375 376 377 378 379 380 381 382 383 384 385 386 387 388 389 390 391\n",
      " 392 393 394 395 396 397 398 399 400 401 402 403 404 405 406 407 408 409\n",
      " 410 411 412 413 414 415 416 417 418 419 420 421 422 423 424 425 426 427\n",
      " 428 429 430 431 432 433 434 435 436 437 438 439 440 441 442 443 444 445\n",
      " 446 447 448 449 450 451 452 453 454 455 456 457 458 459 460 461 462 463\n",
      " 464 465 466 467 468 469 470 471 472 473 474 475 476 477 478 479 480 481\n",
      " 482 483 484 485 486 487 488 489 490 491 492 493 494 495 496 497 498 499\n",
      " 500 501 502 503 504 505] TEST: [306 307 308 309 310 311 312 313 314 315 316 317 318 319 320 321 322 323\n",
      " 324 325 326 327 328 329 330 331 332 333 334 335 336 337 338 339 340 341\n",
      " 342 343 344 345 346 347 348 349 350 351 352 353 354 355]\n",
      "TRAIN: [  0   1   2   3   4   5   6   7   8   9  10  11  12  13  14  15  16  17\n",
      "  18  19  20  21  22  23  24  25  26  27  28  29  30  31  32  33  34  35\n",
      "  36  37  38  39  40  41  42  43  44  45  46  47  48  49  50  51  52  53\n",
      "  54  55  56  57  58  59  60  61  62  63  64  65  66  67  68  69  70  71\n",
      "  72  73  74  75  76  77  78  79  80  81  82  83  84  85  86  87  88  89\n",
      "  90  91  92  93  94  95  96  97  98  99 100 101 102 103 104 105 106 107\n",
      " 108 109 110 111 112 113 114 115 116 117 118 119 120 121 122 123 124 125\n",
      " 126 127 128 129 130 131 132 133 134 135 136 137 138 139 140 141 142 143\n",
      " 144 145 146 147 148 149 150 151 152 153 154 155 156 157 158 159 160 161\n",
      " 162 163 164 165 166 167 168 169 170 171 172 173 174 175 176 177 178 179\n",
      " 180 181 182 183 184 185 186 187 188 189 190 191 192 193 194 195 196 197\n",
      " 198 199 200 201 202 203 204 205 206 207 208 209 210 211 212 213 214 215\n",
      " 216 217 218 219 220 221 222 223 224 225 226 227 228 229 230 231 232 233\n",
      " 234 235 236 237 238 239 240 241 242 243 244 245 246 247 248 249 250 251\n",
      " 252 253 254 255 256 257 258 259 260 261 262 263 264 265 266 267 268 269\n",
      " 270 271 272 273 274 275 276 277 278 279 280 281 282 283 284 285 286 287\n",
      " 288 289 290 291 292 293 294 295 296 297 298 299 300 301 302 303 304 305\n",
      " 306 307 308 309 310 311 312 313 314 315 316 317 318 319 320 321 322 323\n",
      " 324 325 326 327 328 329 330 331 332 333 334 335 336 337 338 339 340 341\n",
      " 342 343 344 345 346 347 348 349 350 351 352 353 354 355 406 407 408 409\n",
      " 410 411 412 413 414 415 416 417 418 419 420 421 422 423 424 425 426 427\n",
      " 428 429 430 431 432 433 434 435 436 437 438 439 440 441 442 443 444 445\n",
      " 446 447 448 449 450 451 452 453 454 455 456 457 458 459 460 461 462 463\n",
      " 464 465 466 467 468 469 470 471 472 473 474 475 476 477 478 479 480 481\n",
      " 482 483 484 485 486 487 488 489 490 491 492 493 494 495 496 497 498 499\n",
      " 500 501 502 503 504 505] TEST: [356 357 358 359 360 361 362 363 364 365 366 367 368 369 370 371 372 373\n",
      " 374 375 376 377 378 379 380 381 382 383 384 385 386 387 388 389 390 391\n",
      " 392 393 394 395 396 397 398 399 400 401 402 403 404 405]\n",
      "TRAIN: [  0   1   2   3   4   5   6   7   8   9  10  11  12  13  14  15  16  17\n",
      "  18  19  20  21  22  23  24  25  26  27  28  29  30  31  32  33  34  35\n",
      "  36  37  38  39  40  41  42  43  44  45  46  47  48  49  50  51  52  53\n",
      "  54  55  56  57  58  59  60  61  62  63  64  65  66  67  68  69  70  71\n",
      "  72  73  74  75  76  77  78  79  80  81  82  83  84  85  86  87  88  89\n",
      "  90  91  92  93  94  95  96  97  98  99 100 101 102 103 104 105 106 107\n",
      " 108 109 110 111 112 113 114 115 116 117 118 119 120 121 122 123 124 125\n",
      " 126 127 128 129 130 131 132 133 134 135 136 137 138 139 140 141 142 143\n",
      " 144 145 146 147 148 149 150 151 152 153 154 155 156 157 158 159 160 161\n",
      " 162 163 164 165 166 167 168 169 170 171 172 173 174 175 176 177 178 179\n",
      " 180 181 182 183 184 185 186 187 188 189 190 191 192 193 194 195 196 197\n",
      " 198 199 200 201 202 203 204 205 206 207 208 209 210 211 212 213 214 215\n",
      " 216 217 218 219 220 221 222 223 224 225 226 227 228 229 230 231 232 233\n",
      " 234 235 236 237 238 239 240 241 242 243 244 245 246 247 248 249 250 251\n",
      " 252 253 254 255 256 257 258 259 260 261 262 263 264 265 266 267 268 269\n",
      " 270 271 272 273 274 275 276 277 278 279 280 281 282 283 284 285 286 287\n",
      " 288 289 290 291 292 293 294 295 296 297 298 299 300 301 302 303 304 305\n",
      " 306 307 308 309 310 311 312 313 314 315 316 317 318 319 320 321 322 323\n",
      " 324 325 326 327 328 329 330 331 332 333 334 335 336 337 338 339 340 341\n",
      " 342 343 344 345 346 347 348 349 350 351 352 353 354 355 356 357 358 359\n",
      " 360 361 362 363 364 365 366 367 368 369 370 371 372 373 374 375 376 377\n",
      " 378 379 380 381 382 383 384 385 386 387 388 389 390 391 392 393 394 395\n",
      " 396 397 398 399 400 401 402 403 404 405 456 457 458 459 460 461 462 463\n",
      " 464 465 466 467 468 469 470 471 472 473 474 475 476 477 478 479 480 481\n",
      " 482 483 484 485 486 487 488 489 490 491 492 493 494 495 496 497 498 499\n",
      " 500 501 502 503 504 505] TEST: [406 407 408 409 410 411 412 413 414 415 416 417 418 419 420 421 422 423\n",
      " 424 425 426 427 428 429 430 431 432 433 434 435 436 437 438 439 440 441\n",
      " 442 443 444 445 446 447 448 449 450 451 452 453 454 455]\n",
      "TRAIN: [  0   1   2   3   4   5   6   7   8   9  10  11  12  13  14  15  16  17\n",
      "  18  19  20  21  22  23  24  25  26  27  28  29  30  31  32  33  34  35\n",
      "  36  37  38  39  40  41  42  43  44  45  46  47  48  49  50  51  52  53\n",
      "  54  55  56  57  58  59  60  61  62  63  64  65  66  67  68  69  70  71\n",
      "  72  73  74  75  76  77  78  79  80  81  82  83  84  85  86  87  88  89\n",
      "  90  91  92  93  94  95  96  97  98  99 100 101 102 103 104 105 106 107\n",
      " 108 109 110 111 112 113 114 115 116 117 118 119 120 121 122 123 124 125\n",
      " 126 127 128 129 130 131 132 133 134 135 136 137 138 139 140 141 142 143\n",
      " 144 145 146 147 148 149 150 151 152 153 154 155 156 157 158 159 160 161\n",
      " 162 163 164 165 166 167 168 169 170 171 172 173 174 175 176 177 178 179\n",
      " 180 181 182 183 184 185 186 187 188 189 190 191 192 193 194 195 196 197\n",
      " 198 199 200 201 202 203 204 205 206 207 208 209 210 211 212 213 214 215\n",
      " 216 217 218 219 220 221 222 223 224 225 226 227 228 229 230 231 232 233\n",
      " 234 235 236 237 238 239 240 241 242 243 244 245 246 247 248 249 250 251\n",
      " 252 253 254 255 256 257 258 259 260 261 262 263 264 265 266 267 268 269\n",
      " 270 271 272 273 274 275 276 277 278 279 280 281 282 283 284 285 286 287\n",
      " 288 289 290 291 292 293 294 295 296 297 298 299 300 301 302 303 304 305\n",
      " 306 307 308 309 310 311 312 313 314 315 316 317 318 319 320 321 322 323\n",
      " 324 325 326 327 328 329 330 331 332 333 334 335 336 337 338 339 340 341\n",
      " 342 343 344 345 346 347 348 349 350 351 352 353 354 355 356 357 358 359\n",
      " 360 361 362 363 364 365 366 367 368 369 370 371 372 373 374 375 376 377\n",
      " 378 379 380 381 382 383 384 385 386 387 388 389 390 391 392 393 394 395\n",
      " 396 397 398 399 400 401 402 403 404 405 406 407 408 409 410 411 412 413\n",
      " 414 415 416 417 418 419 420 421 422 423 424 425 426 427 428 429 430 431\n",
      " 432 433 434 435 436 437 438 439 440 441 442 443 444 445 446 447 448 449\n",
      " 450 451 452 453 454 455] TEST: [456 457 458 459 460 461 462 463 464 465 466 467 468 469 470 471 472 473\n",
      " 474 475 476 477 478 479 480 481 482 483 484 485 486 487 488 489 490 491\n",
      " 492 493 494 495 496 497 498 499 500 501 502 503 504 505]\n"
     ]
    },
    {
     "name": "stdout",
     "output_type": "stream",
     "text": [
      "Model: \"sequential_1\"\n",
      "_________________________________________________________________\n",
      "Layer (type)                 Output Shape              Param #   \n",
      "=================================================================\n",
      "dense_1 (Dense)              (None, 14)                70        \n",
      "_________________________________________________________________\n",
      "dense_2 (Dense)              (None, 4)                 60        \n",
      "_________________________________________________________________\n",
      "dense_3 (Dense)              (None, 4)                 20        \n",
      "_________________________________________________________________\n",
      "dense_4 (Dense)              (None, 1)                 5         \n",
      "=================================================================\n",
      "Total params: 155\n",
      "Trainable params: 155\n",
      "Non-trainable params: 0\n",
      "_________________________________________________________________\n",
      "Train on 75 samples, validate on 25 samples\n",
      "Epoch 1/500\n",
      "75/75 [==============================] - 0s 1ms/step - loss: 31.8269 - val_loss: 32.5054\n",
      "Epoch 2/500\n",
      "75/75 [==============================] - 0s 93us/step - loss: 30.8853 - val_loss: 31.3891\n",
      "Epoch 3/500\n",
      "75/75 [==============================] - 0s 81us/step - loss: 29.1359 - val_loss: 30.1466\n",
      "Epoch 4/500\n",
      "75/75 [==============================] - 0s 93us/step - loss: 27.9809 - val_loss: 28.8897\n",
      "Epoch 5/500\n",
      "75/75 [==============================] - 0s 66us/step - loss: 26.3758 - val_loss: 27.6744\n",
      "Epoch 6/500\n",
      "75/75 [==============================] - 0s 79us/step - loss: 25.2503 - val_loss: 26.4953\n",
      "Epoch 7/500\n",
      "75/75 [==============================] - 0s 79us/step - loss: 24.6367 - val_loss: 25.4177\n",
      "Epoch 8/500\n",
      "75/75 [==============================] - 0s 79us/step - loss: 23.5184 - val_loss: 24.4231\n",
      "Epoch 9/500\n",
      "75/75 [==============================] - 0s 79us/step - loss: 22.8764 - val_loss: 23.5673\n",
      "Epoch 10/500\n",
      "75/75 [==============================] - 0s 80us/step - loss: 22.0806 - val_loss: 22.7008\n",
      "Epoch 11/500\n",
      "75/75 [==============================] - 0s 93us/step - loss: 21.2304 - val_loss: 21.9001\n",
      "Epoch 12/500\n",
      "75/75 [==============================] - 0s 67us/step - loss: 20.7579 - val_loss: 21.1950\n",
      "Epoch 13/500\n",
      "75/75 [==============================] - 0s 93us/step - loss: 20.2682 - val_loss: 20.5185\n",
      "Epoch 14/500\n",
      "75/75 [==============================] - 0s 94us/step - loss: 19.3285 - val_loss: 19.7422\n",
      "Epoch 15/500\n",
      "75/75 [==============================] - 0s 80us/step - loss: 18.6390 - val_loss: 19.0761\n",
      "Epoch 16/500\n",
      "75/75 [==============================] - 0s 80us/step - loss: 18.0975 - val_loss: 18.4425\n",
      "Epoch 17/500\n",
      "75/75 [==============================] - 0s 66us/step - loss: 17.8019 - val_loss: 17.8941\n",
      "Epoch 18/500\n",
      "75/75 [==============================] - 0s 80us/step - loss: 17.2835 - val_loss: 17.3857\n",
      "Epoch 19/500\n",
      "75/75 [==============================] - 0s 80us/step - loss: 16.8079 - val_loss: 16.9486\n",
      "Epoch 20/500\n",
      "75/75 [==============================] - 0s 80us/step - loss: 16.4722 - val_loss: 16.6198\n",
      "Epoch 21/500\n",
      "75/75 [==============================] - 0s 90us/step - loss: 16.2246 - val_loss: 16.3327\n",
      "Epoch 22/500\n",
      "75/75 [==============================] - 0s 80us/step - loss: 16.1986 - val_loss: 16.1108\n",
      "Epoch 23/500\n",
      "75/75 [==============================] - 0s 66us/step - loss: 15.6042 - val_loss: 15.8100\n",
      "Epoch 24/500\n",
      "75/75 [==============================] - 0s 80us/step - loss: 15.6189 - val_loss: 15.4220\n",
      "Epoch 25/500\n",
      "75/75 [==============================] - 0s 120us/step - loss: 15.4383 - val_loss: 15.0230\n",
      "Epoch 26/500\n",
      "75/75 [==============================] - 0s 93us/step - loss: 15.0580 - val_loss: 14.7154\n",
      "Epoch 27/500\n",
      "75/75 [==============================] - 0s 80us/step - loss: 14.9232 - val_loss: 14.4788\n",
      "Epoch 28/500\n",
      "75/75 [==============================] - 0s 80us/step - loss: 14.7218 - val_loss: 14.2848\n",
      "Epoch 29/500\n",
      "75/75 [==============================] - 0s 80us/step - loss: 14.5509 - val_loss: 14.0509\n",
      "Epoch 30/500\n",
      "75/75 [==============================] - 0s 94us/step - loss: 14.5094 - val_loss: 13.8152\n",
      "Epoch 31/500\n",
      "75/75 [==============================] - 0s 80us/step - loss: 14.1931 - val_loss: 13.6604\n",
      "Epoch 32/500\n",
      "75/75 [==============================] - 0s 93us/step - loss: 14.0665 - val_loss: 13.6062\n",
      "Epoch 33/500\n",
      "75/75 [==============================] - ETA: 0s - loss: 13.02 - 0s 80us/step - loss: 13.7411 - val_loss: 13.4699\n",
      "Epoch 34/500\n",
      "75/75 [==============================] - 0s 80us/step - loss: 13.9370 - val_loss: 13.3650\n",
      "Epoch 35/500\n",
      "75/75 [==============================] - 0s 67us/step - loss: 13.7875 - val_loss: 13.2056\n",
      "Epoch 36/500\n",
      "75/75 [==============================] - 0s 80us/step - loss: 13.3720 - val_loss: 13.0992\n",
      "Epoch 37/500\n",
      "75/75 [==============================] - 0s 80us/step - loss: 13.3472 - val_loss: 12.9744\n",
      "Epoch 38/500\n",
      "75/75 [==============================] - 0s 120us/step - loss: 13.1266 - val_loss: 12.8516\n",
      "Epoch 39/500\n",
      "75/75 [==============================] - 0s 93us/step - loss: 13.1139 - val_loss: 12.8010\n",
      "Epoch 40/500\n",
      "75/75 [==============================] - 0s 93us/step - loss: 13.0493 - val_loss: 12.7125\n",
      "Epoch 41/500\n",
      "75/75 [==============================] - 0s 106us/step - loss: 12.8862 - val_loss: 12.6362\n",
      "Epoch 42/500\n",
      "75/75 [==============================] - 0s 93us/step - loss: 12.7973 - val_loss: 12.5228\n",
      "Epoch 43/500\n",
      "75/75 [==============================] - 0s 80us/step - loss: 12.6135 - val_loss: 12.3609\n",
      "Epoch 44/500\n",
      "75/75 [==============================] - 0s 106us/step - loss: 12.5715 - val_loss: 12.2478\n",
      "Epoch 45/500\n",
      "75/75 [==============================] - 0s 93us/step - loss: 12.4376 - val_loss: 12.1057\n",
      "Epoch 46/500\n",
      "75/75 [==============================] - 0s 106us/step - loss: 12.1668 - val_loss: 12.0422\n",
      "Epoch 47/500\n",
      "75/75 [==============================] - 0s 106us/step - loss: 12.2528 - val_loss: 11.9856\n",
      "Epoch 48/500\n",
      "75/75 [==============================] - 0s 106us/step - loss: 12.2261 - val_loss: 11.9842\n",
      "Epoch 49/500\n",
      "75/75 [==============================] - 0s 106us/step - loss: 12.1190 - val_loss: 11.8291\n",
      "Epoch 50/500\n",
      "75/75 [==============================] - 0s 133us/step - loss: 11.8145 - val_loss: 11.6572\n",
      "Epoch 51/500\n",
      "75/75 [==============================] - 0s 106us/step - loss: 11.7557 - val_loss: 11.6296\n",
      "Epoch 52/500\n",
      "75/75 [==============================] - 0s 120us/step - loss: 11.5564 - val_loss: 11.5052\n",
      "Epoch 53/500\n",
      "75/75 [==============================] - 0s 106us/step - loss: 11.4579 - val_loss: 11.3729\n",
      "Epoch 54/500\n",
      "75/75 [==============================] - 0s 80us/step - loss: 11.4093 - val_loss: 11.3019\n",
      "Epoch 55/500\n",
      "75/75 [==============================] - 0s 93us/step - loss: 11.3202 - val_loss: 11.2038\n",
      "Epoch 56/500\n",
      "75/75 [==============================] - 0s 80us/step - loss: 11.1017 - val_loss: 11.0989\n",
      "Epoch 57/500\n",
      "75/75 [==============================] - 0s 80us/step - loss: 11.0536 - val_loss: 10.9365\n",
      "Epoch 58/500\n",
      "75/75 [==============================] - 0s 106us/step - loss: 10.9428 - val_loss: 10.9146\n",
      "Epoch 59/500\n",
      "75/75 [==============================] - 0s 80us/step - loss: 10.8664 - val_loss: 10.8990\n",
      "Epoch 60/500\n",
      "75/75 [==============================] - 0s 80us/step - loss: 10.6445 - val_loss: 10.7925\n",
      "Epoch 61/500\n",
      "75/75 [==============================] - 0s 93us/step - loss: 10.6951 - val_loss: 10.7200\n",
      "Epoch 62/500\n",
      "75/75 [==============================] - 0s 93us/step - loss: 10.6906 - val_loss: 10.5865\n",
      "Epoch 63/500\n",
      "75/75 [==============================] - 0s 80us/step - loss: 10.5063 - val_loss: 10.4495\n",
      "Epoch 64/500\n",
      "75/75 [==============================] - 0s 80us/step - loss: 10.4564 - val_loss: 10.3681\n",
      "Epoch 65/500\n",
      "75/75 [==============================] - 0s 80us/step - loss: 10.2672 - val_loss: 10.2459\n",
      "Epoch 66/500\n",
      "75/75 [==============================] - ETA: 0s - loss: 11.13 - 0s 80us/step - loss: 10.2841 - val_loss: 10.0456\n",
      "Epoch 67/500\n",
      "75/75 [==============================] - 0s 80us/step - loss: 9.9533 - val_loss: 9.9507\n",
      "Epoch 68/500\n",
      "75/75 [==============================] - 0s 80us/step - loss: 9.9847 - val_loss: 9.8597\n",
      "Epoch 69/500\n",
      "75/75 [==============================] - 0s 80us/step - loss: 9.9371 - val_loss: 9.8114\n",
      "Epoch 70/500\n",
      "75/75 [==============================] - 0s 80us/step - loss: 9.8324 - val_loss: 9.7183\n",
      "Epoch 71/500\n"
     ]
    },
    {
     "name": "stdout",
     "output_type": "stream",
     "text": [
      "75/75 [==============================] - 0s 80us/step - loss: 9.6041 - val_loss: 9.5995\n",
      "Epoch 72/500\n",
      "75/75 [==============================] - 0s 80us/step - loss: 9.5773 - val_loss: 9.5006\n",
      "Epoch 73/500\n",
      "75/75 [==============================] - 0s 80us/step - loss: 9.5461 - val_loss: 9.4873\n",
      "Epoch 74/500\n",
      "75/75 [==============================] - 0s 80us/step - loss: 9.5092 - val_loss: 9.4721\n",
      "Epoch 75/500\n",
      "75/75 [==============================] - 0s 80us/step - loss: 9.2572 - val_loss: 9.3866\n",
      "Epoch 76/500\n",
      "75/75 [==============================] - 0s 93us/step - loss: 9.1817 - val_loss: 9.4080\n",
      "Epoch 77/500\n",
      "75/75 [==============================] - 0s 66us/step - loss: 9.2804 - val_loss: 9.4665\n",
      "Epoch 78/500\n",
      "75/75 [==============================] - 0s 93us/step - loss: 9.0090 - val_loss: 9.3600\n",
      "Epoch 79/500\n",
      "75/75 [==============================] - 0s 80us/step - loss: 9.0168 - val_loss: 9.0943\n",
      "Epoch 80/500\n",
      "75/75 [==============================] - 0s 80us/step - loss: 8.8870 - val_loss: 8.8866\n",
      "Epoch 81/500\n",
      "75/75 [==============================] - 0s 80us/step - loss: 8.8186 - val_loss: 8.7371\n",
      "Epoch 82/500\n",
      "75/75 [==============================] - 0s 66us/step - loss: 8.6172 - val_loss: 8.6595\n",
      "Epoch 83/500\n",
      "75/75 [==============================] - 0s 80us/step - loss: 8.6035 - val_loss: 8.5611\n",
      "Epoch 84/500\n",
      "75/75 [==============================] - 0s 93us/step - loss: 8.6221 - val_loss: 8.4986\n",
      "Epoch 85/500\n",
      "75/75 [==============================] - 0s 120us/step - loss: 8.4649 - val_loss: 8.4770\n",
      "Epoch 86/500\n",
      "75/75 [==============================] - 0s 120us/step - loss: 8.4330 - val_loss: 8.4870\n",
      "Epoch 87/500\n",
      "75/75 [==============================] - 0s 106us/step - loss: 8.4117 - val_loss: 8.4340\n",
      "Epoch 88/500\n",
      "75/75 [==============================] - 0s 93us/step - loss: 8.2555 - val_loss: 8.3839\n",
      "Epoch 89/500\n",
      "75/75 [==============================] - 0s 66us/step - loss: 8.1849 - val_loss: 8.1706\n",
      "Epoch 90/500\n",
      "75/75 [==============================] - 0s 93us/step - loss: 8.1716 - val_loss: 7.9408\n",
      "Epoch 91/500\n",
      "75/75 [==============================] - 0s 93us/step - loss: 8.0918 - val_loss: 7.9222\n",
      "Epoch 92/500\n",
      "75/75 [==============================] - 0s 93us/step - loss: 8.0471 - val_loss: 7.8485\n",
      "Epoch 93/500\n",
      "75/75 [==============================] - 0s 93us/step - loss: 8.0193 - val_loss: 7.8714\n",
      "Epoch 94/500\n",
      "75/75 [==============================] - 0s 93us/step - loss: 7.8724 - val_loss: 7.7126\n",
      "Epoch 95/500\n",
      "75/75 [==============================] - 0s 93us/step - loss: 7.7973 - val_loss: 7.6635\n",
      "Epoch 96/500\n",
      "75/75 [==============================] - 0s 106us/step - loss: 7.6631 - val_loss: 7.5321\n",
      "Epoch 97/500\n",
      "75/75 [==============================] - ETA: 0s - loss: 7.163 - 0s 80us/step - loss: 7.6318 - val_loss: 7.4948\n",
      "Epoch 98/500\n",
      "75/75 [==============================] - 0s 106us/step - loss: 7.6255 - val_loss: 7.4301\n",
      "Epoch 99/500\n",
      "75/75 [==============================] - 0s 93us/step - loss: 7.5699 - val_loss: 7.3713\n",
      "Epoch 100/500\n",
      "75/75 [==============================] - 0s 93us/step - loss: 7.4952 - val_loss: 7.3085\n",
      "Epoch 101/500\n",
      "75/75 [==============================] - 0s 80us/step - loss: 7.4986 - val_loss: 7.1907\n",
      "Epoch 102/500\n",
      "75/75 [==============================] - 0s 80us/step - loss: 7.3773 - val_loss: 7.1214\n",
      "Epoch 103/500\n",
      "75/75 [==============================] - 0s 80us/step - loss: 7.3503 - val_loss: 6.9851\n",
      "Epoch 104/500\n",
      "75/75 [==============================] - 0s 93us/step - loss: 7.2862 - val_loss: 6.8339\n",
      "Epoch 105/500\n",
      "75/75 [==============================] - 0s 80us/step - loss: 7.1942 - val_loss: 6.8357\n",
      "Epoch 106/500\n",
      "75/75 [==============================] - 0s 93us/step - loss: 7.1179 - val_loss: 6.7845\n",
      "Epoch 107/500\n",
      "75/75 [==============================] - 0s 93us/step - loss: 7.1257 - val_loss: 6.7204\n",
      "Epoch 108/500\n",
      "75/75 [==============================] - 0s 80us/step - loss: 7.1142 - val_loss: 6.6040\n",
      "Epoch 109/500\n",
      "75/75 [==============================] - 0s 80us/step - loss: 7.0236 - val_loss: 6.6283\n",
      "Epoch 110/500\n",
      "75/75 [==============================] - 0s 67us/step - loss: 6.9317 - val_loss: 6.5784\n",
      "Epoch 111/500\n",
      "75/75 [==============================] - 0s 80us/step - loss: 6.9667 - val_loss: 6.5067\n",
      "Epoch 112/500\n",
      "75/75 [==============================] - 0s 93us/step - loss: 6.8203 - val_loss: 6.4097\n",
      "Epoch 113/500\n",
      "75/75 [==============================] - 0s 80us/step - loss: 6.9184 - val_loss: 6.3143\n",
      "Epoch 114/500\n",
      "75/75 [==============================] - 0s 93us/step - loss: 6.8492 - val_loss: 6.3222\n",
      "Epoch 115/500\n",
      "75/75 [==============================] - 0s 93us/step - loss: 6.7823 - val_loss: 6.3047\n",
      "Epoch 116/500\n",
      "75/75 [==============================] - 0s 106us/step - loss: 6.7246 - val_loss: 6.2392\n",
      "Epoch 117/500\n",
      "75/75 [==============================] - 0s 93us/step - loss: 6.6898 - val_loss: 6.3044\n",
      "Epoch 118/500\n",
      "75/75 [==============================] - 0s 93us/step - loss: 6.6805 - val_loss: 6.3792\n",
      "Epoch 119/500\n",
      "75/75 [==============================] - 0s 106us/step - loss: 6.6284 - val_loss: 6.3555\n",
      "Epoch 120/500\n",
      "75/75 [==============================] - 0s 80us/step - loss: 6.6009 - val_loss: 6.2837\n",
      "Epoch 121/500\n",
      "75/75 [==============================] - 0s 66us/step - loss: 6.6122 - val_loss: 6.2168\n",
      "Epoch 122/500\n",
      "75/75 [==============================] - 0s 80us/step - loss: 6.5513 - val_loss: 6.1593\n",
      "Epoch 123/500\n",
      "75/75 [==============================] - ETA: 0s - loss: 8.155 - 0s 66us/step - loss: 6.5230 - val_loss: 6.1353\n",
      "Epoch 124/500\n",
      "75/75 [==============================] - 0s 66us/step - loss: 6.5366 - val_loss: 6.0932\n",
      "Epoch 125/500\n",
      "75/75 [==============================] - 0s 80us/step - loss: 6.4231 - val_loss: 6.0188\n",
      "Epoch 126/500\n",
      "75/75 [==============================] - 0s 80us/step - loss: 6.5047 - val_loss: 6.1004\n",
      "Epoch 127/500\n",
      "75/75 [==============================] - 0s 80us/step - loss: 6.4204 - val_loss: 6.1104\n",
      "Epoch 128/500\n",
      "75/75 [==============================] - 0s 66us/step - loss: 6.3908 - val_loss: 6.0899\n",
      "Epoch 129/500\n",
      "75/75 [==============================] - 0s 67us/step - loss: 6.3673 - val_loss: 6.0518\n",
      "Epoch 130/500\n",
      "75/75 [==============================] - 0s 66us/step - loss: 6.3331 - val_loss: 5.9815\n",
      "Epoch 131/500\n",
      "75/75 [==============================] - 0s 80us/step - loss: 6.3556 - val_loss: 6.0537\n",
      "Epoch 132/500\n",
      "75/75 [==============================] - 0s 80us/step - loss: 6.1975 - val_loss: 6.1480\n",
      "Epoch 133/500\n",
      "75/75 [==============================] - 0s 80us/step - loss: 6.3159 - val_loss: 6.1055\n",
      "Epoch 134/500\n",
      "75/75 [==============================] - 0s 80us/step - loss: 6.2529 - val_loss: 6.0311\n",
      "Epoch 135/500\n",
      "75/75 [==============================] - 0s 66us/step - loss: 6.1313 - val_loss: 6.0058\n",
      "Epoch 136/500\n",
      "75/75 [==============================] - 0s 80us/step - loss: 6.1159 - val_loss: 5.9572\n",
      "Epoch 137/500\n",
      "75/75 [==============================] - 0s 80us/step - loss: 6.2009 - val_loss: 6.0281\n",
      "Epoch 138/500\n",
      "75/75 [==============================] - 0s 80us/step - loss: 6.1204 - val_loss: 6.0468\n",
      "Epoch 139/500\n",
      "75/75 [==============================] - 0s 80us/step - loss: 6.0642 - val_loss: 6.0551\n",
      "Epoch 140/500\n",
      "75/75 [==============================] - 0s 66us/step - loss: 6.1048 - val_loss: 6.0208\n",
      "Epoch 141/500\n",
      "75/75 [==============================] - 0s 66us/step - loss: 6.0962 - val_loss: 5.9380\n",
      "Epoch 142/500\n",
      "75/75 [==============================] - 0s 80us/step - loss: 6.0464 - val_loss: 5.9053\n",
      "Epoch 143/500\n",
      "75/75 [==============================] - 0s 80us/step - loss: 6.0177 - val_loss: 5.9577\n",
      "Epoch 144/500\n",
      "75/75 [==============================] - 0s 93us/step - loss: 5.9609 - val_loss: 5.9744\n",
      "Epoch 145/500\n",
      "75/75 [==============================] - 0s 80us/step - loss: 5.9659 - val_loss: 5.9457\n",
      "Epoch 146/500\n",
      "75/75 [==============================] - 0s 80us/step - loss: 5.9556 - val_loss: 5.8822\n",
      "Epoch 147/500\n",
      "75/75 [==============================] - 0s 66us/step - loss: 5.9377 - val_loss: 5.8587\n",
      "Epoch 148/500\n",
      "75/75 [==============================] - 0s 80us/step - loss: 5.8880 - val_loss: 5.9100\n",
      "Epoch 149/500\n",
      "75/75 [==============================] - 0s 66us/step - loss: 5.8047 - val_loss: 5.8738\n",
      "Epoch 150/500\n",
      "75/75 [==============================] - 0s 66us/step - loss: 5.8004 - val_loss: 5.8635\n",
      "Epoch 151/500\n"
     ]
    },
    {
     "name": "stdout",
     "output_type": "stream",
     "text": [
      "75/75 [==============================] - 0s 93us/step - loss: 5.8349 - val_loss: 5.7636\n",
      "Epoch 152/500\n",
      "75/75 [==============================] - 0s 80us/step - loss: 5.8008 - val_loss: 5.6852\n",
      "Epoch 153/500\n",
      "75/75 [==============================] - 0s 67us/step - loss: 5.7657 - val_loss: 5.7393\n",
      "Epoch 154/500\n",
      "75/75 [==============================] - 0s 93us/step - loss: 5.7158 - val_loss: 5.7110\n",
      "Epoch 155/500\n",
      "75/75 [==============================] - 0s 93us/step - loss: 5.6765 - val_loss: 5.6805\n",
      "Epoch 156/500\n",
      "75/75 [==============================] - 0s 66us/step - loss: 5.6732 - val_loss: 5.7148\n",
      "Epoch 157/500\n",
      "75/75 [==============================] - 0s 93us/step - loss: 5.6701 - val_loss: 5.6742\n",
      "Epoch 158/500\n",
      "75/75 [==============================] - 0s 80us/step - loss: 5.6576 - val_loss: 5.6388\n",
      "Epoch 159/500\n",
      "75/75 [==============================] - 0s 80us/step - loss: 5.6019 - val_loss: 5.5475\n",
      "Epoch 160/500\n",
      "75/75 [==============================] - 0s 80us/step - loss: 5.5799 - val_loss: 5.5311\n",
      "Epoch 161/500\n",
      "75/75 [==============================] - 0s 66us/step - loss: 5.6222 - val_loss: 5.5849\n",
      "Epoch 162/500\n",
      "75/75 [==============================] - 0s 66us/step - loss: 5.4927 - val_loss: 5.5841\n",
      "Epoch 163/500\n",
      "75/75 [==============================] - 0s 66us/step - loss: 5.5306 - val_loss: 5.5600\n",
      "Epoch 164/500\n",
      "75/75 [==============================] - 0s 80us/step - loss: 5.5051 - val_loss: 5.4751\n",
      "Epoch 165/500\n",
      "75/75 [==============================] - 0s 80us/step - loss: 5.4706 - val_loss: 5.4618\n",
      "Epoch 166/500\n",
      "75/75 [==============================] - 0s 80us/step - loss: 5.5419 - val_loss: 5.4946\n",
      "Epoch 167/500\n",
      "75/75 [==============================] - 0s 66us/step - loss: 5.4343 - val_loss: 5.4451\n",
      "Epoch 168/500\n",
      "75/75 [==============================] - 0s 66us/step - loss: 5.4033 - val_loss: 5.3570\n",
      "Epoch 169/500\n",
      "75/75 [==============================] - 0s 93us/step - loss: 5.4776 - val_loss: 5.3511\n",
      "Epoch 170/500\n",
      "75/75 [==============================] - 0s 80us/step - loss: 5.4489 - val_loss: 5.3646\n",
      "Epoch 171/500\n",
      "75/75 [==============================] - 0s 80us/step - loss: 5.4477 - val_loss: 5.4297\n",
      "Epoch 172/500\n",
      "75/75 [==============================] - 0s 93us/step - loss: 5.3664 - val_loss: 5.4353\n",
      "Epoch 173/500\n",
      "75/75 [==============================] - 0s 80us/step - loss: 5.3794 - val_loss: 5.4013\n",
      "Epoch 174/500\n",
      "75/75 [==============================] - 0s 80us/step - loss: 5.3801 - val_loss: 5.3257\n",
      "Epoch 175/500\n",
      "75/75 [==============================] - 0s 80us/step - loss: 5.3319 - val_loss: 5.2939\n",
      "Epoch 176/500\n",
      "75/75 [==============================] - 0s 80us/step - loss: 5.3022 - val_loss: 5.2624\n",
      "Epoch 177/500\n",
      "75/75 [==============================] - 0s 66us/step - loss: 5.3407 - val_loss: 5.3237\n",
      "Epoch 178/500\n",
      "75/75 [==============================] - 0s 66us/step - loss: 5.2610 - val_loss: 5.3459\n",
      "Epoch 179/500\n",
      "75/75 [==============================] - 0s 93us/step - loss: 5.2741 - val_loss: 5.3396\n",
      "Epoch 180/500\n",
      "75/75 [==============================] - 0s 66us/step - loss: 5.2785 - val_loss: 5.3447\n",
      "Epoch 181/500\n",
      "75/75 [==============================] - 0s 66us/step - loss: 5.1326 - val_loss: 5.3005\n",
      "Epoch 182/500\n",
      "75/75 [==============================] - 0s 76us/step - loss: 5.1831 - val_loss: 5.3449\n",
      "Epoch 183/500\n",
      "75/75 [==============================] - 0s 79us/step - loss: 5.2290 - val_loss: 5.3386\n",
      "Epoch 184/500\n",
      "75/75 [==============================] - 0s 93us/step - loss: 5.1801 - val_loss: 5.4111\n",
      "Epoch 185/500\n",
      "75/75 [==============================] - 0s 66us/step - loss: 5.1907 - val_loss: 5.4701\n",
      "Epoch 186/500\n",
      "75/75 [==============================] - 0s 93us/step - loss: 5.1291 - val_loss: 5.5402\n"
     ]
    }
   ],
   "source": [
    "#Fit the model to the training set and calculate loss\n",
    "\n",
    "#Import early stopping -\n",
    "from keras.callbacks import EarlyStopping\n",
    "from keras.callbacks import CSVLogger\n",
    "early_stopping_monitor = EarlyStopping(patience=10)\n",
    "callbacks=[early_stopping_monitor]\n",
    "#callbacks=[CSVLogger]\n",
    "#callbacks=[history]\n",
    "\n",
    "# CSV Logger to save model metrics for comparison of each trial on different parameters if needed\n",
    "#kr.callbacks.CSVLogger('training.csv', separator=',', append=True)\n",
    "#csv_logger = CSVLogger('training.csv', separator=',', append=True)\n",
    "#callbacks = list()\n",
    "#callbacks.append(CSVLogger('training.csv'))\n",
    "\n",
    "#K-Fold Validation method added\n",
    "#REF [https://intelligence-artificielle.agency/the-boston-housing-price-dataset/] and [Deep Learning in Python, Chollet]\n",
    "#https://scikit-learn.org/stable/modules/generated/sklearn.model_selection.KFold.html\n",
    "\n",
    "from sklearn.model_selection import StratifiedKFold\n",
    "\n",
    "#define number of splits (folds)\n",
    "kf = KFold(n_splits=10)\n",
    "kf.get_n_splits(x,y)\n",
    "\n",
    "#apply k fold validation over the 10 folds\n",
    "for train_index, test_index in kf.split(x,y):\n",
    "    print(\"TRAIN:\", train_index, \"TEST:\", test_index)\n",
    "    x_train, x_test = x[:100], x[100:506] #set at train:test 20:80\n",
    "    y_train, y_test = y[:100], y[100:506] #set at train:test 20:80\n",
    "     \n",
    "\n",
    "#WHITEN THE DATASET\n",
    "\n",
    "pca = dec.PCA(n_components=4, whiten=True)\n",
    "pca.fit(x_train)\n",
    "inputs_train_white = pd.DataFrame(pca.transform(x_train), columns=x.columns)\n",
    "inputs_train_white\n",
    "\n",
    "\n",
    "model=create_model()\n",
    "#hist = model.fit(x_train, y_train,epochs=1000, batch_size=10)\n",
    "#model.fit(x[train], y[train], epochs=150, batch_size=10, verbose=0)\n",
    "hist = model.fit(x_train, y_train, validation_split=0.25, epochs=500, batch_size=20, callbacks=[early_stopping_monitor]) #csv_logger, history\n",
    "\n",
    "#Calculate the predictions on the test: set x_test \n",
    "preds = model.predict(x_test)"
   ]
  },
  {
   "cell_type": "markdown",
   "metadata": {},
   "source": [
    "**K-FOLD VALIDATION**\n",
    "\n",
    "[https://scikit-learn.org/stable/modules/generated/sklearn.model_selection.KFold.html]\n",
    "\n",
    "K-Fold validation creates a number of 'folds' of the data for training of the model. The model is then validated on the remaining data after each fold. This way a number of instances of training data can be created (instead of just one in the conventioanl way). In theory this should improve the accuracy of the model as it is being trained on a larger proportion of the data."
   ]
  },
  {
   "cell_type": "markdown",
   "metadata": {},
   "source": [
    "**PRE-PROCESSING AND STANDARDISING THE DATASET**\n",
    "https://scikit-learn.org/stable/modules/preprocessing.html\n",
    "\n",
    "As can be seen above, pre-processing the dataset using the scikitlearn preprocessing module as had a significant effect on the accuracy of the training and testing models. \n",
    "\n",
    "https://scikit-learn.org/stable/modules/generated/sklearn.decomposition.PCA.html#sklearn.decomposition.PCA\n",
    "\n",
    "Principal component analysis is a technique used for 'dimensionality reduction' which converts correlated variables to a single vector.\n",
    "\n",
    "\n",
    "Further use of the sklearn.decomposition.PCA module reduces the linear relationships between variables. Applying `whitening=True` further removes correlation between variables.\n"
   ]
  },
  {
   "cell_type": "code",
   "execution_count": 36,
   "metadata": {},
   "outputs": [
    {
     "name": "stdout",
     "output_type": "stream",
     "text": [
      "Mean Absolute Loss value on training data is: 6.725\n"
     ]
    }
   ],
   "source": [
    "#Evaluate the performance of the model - output the loss function on the training set\n",
    "#Loss changed to Mean Absolute as it is more relevent\n",
    "\n",
    "model_eval = model.evaluate(x_train, y_train, verbose=0)\n",
    "    \n",
    "print (\"Mean Absolute Loss value on training data is:\", float(\"{0:.3f}\".format(model_eval)))"
   ]
  },
  {
   "cell_type": "markdown",
   "metadata": {},
   "source": [
    "Plot of model loss derived from REF [https://hackernoon.com/build-your-first-neural-network-to-predict-house-prices-with-keras-3fb0839680f4] and understanding from REF [Deep Learning with Python: Chollet, F.; Manning; 2018 # pages 85-91]"
   ]
  },
  {
   "cell_type": "code",
   "execution_count": 37,
   "metadata": {},
   "outputs": [
    {
     "data": {
      "image/png": "[encoded data removed]",
      "text/plain": [
       "<Figure size 864x864 with 1 Axes>"
      ]
     },
     "metadata": {},
     "output_type": "display_data"
    }
   ],
   "source": [
    "# REF [https://machinelearningmastery.com/display-deep-learning-model-training-history-in-keras/]\n",
    "\n",
    "plt.figure(figsize=(12, 12))\n",
    "# summarize history for loss\n",
    "plt.plot(hist.history[\"loss\"])\n",
    "plt.plot(hist.history[\"val_loss\"])\n",
    "plt.title(\"Model Loss\")\n",
    "plt.ylabel(\"Loss\")\n",
    "plt.xlabel(\"Epoch\")\n",
    "plt.legend([\"Train\", \"Val\"], loc=\"upper center\")\n",
    "plt.show()\n",
    "\n",
    "#Save loss value to csv\n",
    "Results = repr(model_eval)\n",
    "import csv\n",
    "#fields = ['Loss','Result']\n",
    "with open('results.csv', 'a', newline='') as csvfile:\n",
    "    writer = csv.writer(csvfile, delimiter=' ')\n",
    "    writer.writerow('Loss')\n",
    "    writer.writerow(Results)"
   ]
  },
  {
   "cell_type": "markdown",
   "metadata": {},
   "source": [
    "**TEST THE MODEL**"
   ]
  },
  {
   "cell_type": "markdown",
   "metadata": {},
   "source": [
    "The `model.fit` function iterates over the data set reducing the cost value until it reaches its minimum and outputs the result of the loss function. It can also be calculated independently using the `model.evaluate` function the result of which is seen below."
   ]
  },
  {
   "cell_type": "markdown",
   "metadata": {
    "scrolled": true
   },
   "source": [
    "# MODEL EVALUATION ON THE TEST SET \n",
    "\n",
    "As calculated above"
   ]
  },
  {
   "cell_type": "code",
   "execution_count": 38,
   "metadata": {},
   "outputs": [
    {
     "name": "stdout",
     "output_type": "stream",
     "text": [
      "406/406 [==============================] - 0s 20us/step\n",
      "Loss value is: 9.747\n"
     ]
    }
   ],
   "source": [
    "#Evaluate the performance of the model - output the loss function on the training set\n",
    "model_eval = model.evaluate(x_test, y_test)\n",
    "\n",
    "print (\"Loss value is:\", float(\"{0:.3f}\".format(model_eval)))\n"
   ]
  },
  {
   "cell_type": "markdown",
   "metadata": {},
   "source": [
    "The above loss value equates to the model inaccuracy i.e the average prediction on the training set is out by the loss value"
   ]
  },
  {
   "cell_type": "markdown",
   "metadata": {},
   "source": [
    "**QUICK COMPARISON OF ACTUAL V PREDICTED PRICES**"
   ]
  },
  {
   "cell_type": "code",
   "execution_count": 39,
   "metadata": {},
   "outputs": [
    {
     "name": "stdout",
     "output_type": "stream",
     "text": [
      "The first ten actual house price are \n",
      "    PRICE\n",
      "0   24.0\n",
      "1   21.6\n",
      "2   34.7\n",
      "3   33.4\n",
      "4   36.2\n",
      "5   28.7\n",
      "6   22.9\n",
      "7   27.1\n",
      "8   16.5\n",
      "9   18.9\n",
      "The first ten model predictions of house price are \n",
      " [[22.491987]\n",
      " [18.323902]\n",
      " [28.2089  ]\n",
      " [31.59036 ]\n",
      " [27.23885 ]\n",
      " [27.05794 ]\n",
      " [15.087863]\n",
      " [15.538843]\n",
      " [15.734361]\n",
      " [15.322382]]\n"
     ]
    }
   ],
   "source": [
    "#print first ten rows of dataset prices column\n",
    "first_10_Prices = bos.iloc[0:10, 13:15]\n",
    "\n",
    "print(\"The first ten actual house price are \\n\", first_10_Prices)\n",
    "\n",
    "y_true = bos['PRICE']\n",
    "y_pred = model.predict(x)\n",
    "\n",
    "#Output first 10 predictions\n",
    "print(\"The first ten model predictions of house price are \\n\",y_pred[:10])\n"
   ]
  },
  {
   "cell_type": "markdown",
   "metadata": {},
   "source": [
    "A quick comparison of the first ten actual v predicted house prices above reveals differences which vary from one comparison to another. From this we can summise that the model does not reliably predict house prices\n",
    "\n",
    "\n",
    "Learnings in the **TEST MODEL** above from REF [https://www.youtube.com/watch?v=zinEPDj7SD8]\n"
   ]
  },
  {
   "cell_type": "markdown",
   "metadata": {},
   "source": [
    "**PLOT OF PREDICTED HOUSE PRICE V ACTUAL**"
   ]
  },
  {
   "cell_type": "markdown",
   "metadata": {},
   "source": [
    "The following plot is of the first 100 actual V predicted house prices"
   ]
  },
  {
   "cell_type": "code",
   "execution_count": 40,
   "metadata": {},
   "outputs": [
    {
     "data": {
      "image/png": "[encoded data removed]",
      "text/plain": [
       "<Figure size 864x864 with 1 Axes>"
      ]
     },
     "metadata": {},
     "output_type": "display_data"
    }
   ],
   "source": [
    "#Plot of actual v predicted price of first 100 data points\n",
    "plt.figure(figsize=(12, 12))\n",
    "plt.plot(y_pred[:100], 'r-', label ='Prediction')\n",
    "plt.plot(y_true[:100], 'g', label = 'Actual')\n",
    "plt.title(\"Neural Network Prediction V Actual\")\n",
    "plt.ylabel(\"Price(x1000)\")\n",
    "plt.xlabel(\"Zone\")\n",
    "plt.legend([\"Prediction\", \"Actual\"], loc=\"upper left\")\n",
    "plt.show()"
   ]
  },
  {
   "cell_type": "code",
   "execution_count": 41,
   "metadata": {},
   "outputs": [
    {
     "name": "stdout",
     "output_type": "stream",
     "text": [
      "The Mean Absolute error is 8.298334\n"
     ]
    }
   ],
   "source": [
    "#Evaluate the Mean-Squared error\n",
    "\n",
    "error = np.mean(kr.losses.mean_absolute_error(y_true, y_pred))\n",
    "\n",
    "#MSE of first 100 predictions\n",
    "print (\"The Mean Absolute error is\", error) \n",
    "      "
   ]
  },
  {
   "cell_type": "markdown",
   "metadata": {},
   "source": [
    "As can be seen above the mean absolute error is high on our test set and shows that the model is not accurately predicting unknowns but has a lower loss value on the training set.\n",
    "\n",
    "Models which produce a low loss function but fail to accurately predict test data may be over-fitting the test set i.e the model does not generalise well to unknowns. Various approaches are advised to prevent over-fitting\n",
    "\n",
    "\n",
    "REF: [Hands-On Machine Learning with Scikit-Learn, KERAS & TensorFlow; Geron, A.; O'Reilly; 2019, 2nd Ed, p.27]\n",
    "REF: [ https://towardsdatascience.com/soon-or-later-you-will-face-this-problem-c5f204e9f55a ]"
   ]
  },
  {
   "cell_type": "markdown",
   "metadata": {},
   "source": [
    "**REDUCTION OF OVERFITTING**"
   ]
  },
  {
   "cell_type": "markdown",
   "metadata": {},
   "source": [
    "Models which produce a low loss function but fail to accurately predict test data may be over-fitting the test set. Various approaches are advised to prevent over-fitting\n",
    "\n",
    "Originally the test_set had been set to 0.5 of the data. Changing it to 0.2 had no tangible effect on the model.\n",
    "\n",
    "This article referenced from 'towardsdatascience' Discuss\n",
    "\n",
    "REF [https://towardsdatascience.com/a-gentle-journey-from-linear-regression-to-neural-networks-68881590760e] \n",
    "\n",
    "* Reducing the number of parameters of the networks\n",
    "* Getting more data or \n",
    "* Using explicit regularisers (in the loss function or through a dropout process)\n",
    "\n",
    "It isn't possible to get more data as our dataset is limited. However it is possible to reduce the number of parameters.Regularisation may also help. The authors advise that neural networks with many parameters can be prone to overfitting.  REF: [Hands-On Machine Learning with Scikit-Learn, KERAS & TensorFlow; Geron, A.; O'Reilly; 2019, 2nd Ed, p.364-374]\n",
    "\n",
    "Regularisation is defined as \"constraining the model to make it simpler and reduce the risk of overfitting. `kernel_regularizer` and `activity_regularizer` are both regularisation functions in keras used above.\n",
    "\n",
    " REF: [Hands-On Machine Learning with Scikit-Learn, KERAS & TensorFlow; Geron, A.; O'Reilly; 2019, 2nd Ed, p.28]"
   ]
  },
  {
   "cell_type": "markdown",
   "metadata": {},
   "source": [
    "**Next Steps:** \n",
    "\n",
    "* Reduce the complexity of the model"
   ]
  },
  {
   "cell_type": "markdown",
   "metadata": {},
   "source": [
    "Very low loss value and a reduction of MSE obtained by reducing the number of parameters to:\n",
    "\n",
    "**x = bos[['ZN', 'PTRATIO, 'LSTAT', 'RM']**\n",
    "\n",
    "**y = bos['PRICE']**\n",
    "\n",
    "These x values were chosen as they showed the highest positive correlation lowest (negative) correlation with House price in the correlation matrix output in the inferential statistics section. The justification being that these variables had the highest influence on median house price of all the variables in the dataset\n",
    "\n",
    "Removal of the Charles River Dummy Variable had no effect on accuracy"
   ]
  },
  {
   "cell_type": "markdown",
   "metadata": {},
   "source": [
    "**LITERATURE SEARCH & OTHER APPROACHES**"
   ]
  },
  {
   "cell_type": "markdown",
   "metadata": {},
   "source": [
    "These authors https://machinelearningmastery.com/regression-tutorial-keras-deep-learning-library-python/ achieved a mean squared error of 23.33 similar to what we achieved using similar model parameters to us.\n",
    "\n",
    "https://github.com/DavidCico/Boston-House-Prices-With-Regression-Machine-Learning-and-Keras-Deep-Learning/blob/master/Boston_deeplearning_regression.ipynb also achieved a MSE of 25-27 also using similar optimisation functions\n",
    "\n",
    "This author REF [https://www.kaggle.com/amundtveit/neural-network-model-for-house-prices-keras] used an approach on another house price dataset to remove outliers. Their house price dataset  had 1460 row with 81 features. 38 continuous features and 43 categorical feature. They excluded categorical features from their model. The appeared to generate a good regression line of predicted vs actual prices (but didn't publish a MSE)\n",
    "\n",
    "As  can be seen from the box plots in the inferential statistics section, some of the house price data that does not border the Charles River contains outliers. It may be a useful approach to exclude these points. Additionally it can be observed that in the distribution of house prices bordering/not bordering the river that there is a cluster of prices at 50,000. Intuitively it may be a case that the data for house prices was capped at 50,000 for some reason."
   ]
  },
  {
   "cell_type": "code",
   "execution_count": 42,
   "metadata": {},
   "outputs": [],
   "source": [
    "#copied from https://www.kaggle.com/amundtveit/neural-network-model-for-house-prices-keras/comments\n",
    "\n",
    "#from sklearn.ensemble import IsolationForest\n",
    "\n",
    "#clf = IsolationForest(max_samples = 100, random_state = 42)\n",
    "#clf.fit(y_train)\n",
    "#y_noano = clf.predict(y_train)\n",
    "#y_noano = pd.DataFrame(y_noano, columns = ['Top'])\n",
    "#y_noano[y_noano['Top'] == 1].index.values\n",
    "\n",
    "#y_train2 = y_train.iloc[y_noano[y_noano['Top'] == 1].index.values]\n",
    "#y_train2.reset_index(drop = True, inplace = True)\n",
    "#print(\"Number of Outliers:\", y_noano[y_noano['Top'] == -1].shape[0])\n",
    "#print(\"Number of rows without outliers:\", y_train.shape[0])"
   ]
  },
  {
   "cell_type": "markdown",
   "metadata": {},
   "source": [
    "The `IsolationForest` `scikitlearn` function above has isolated and identified 36 outliers in our training set."
   ]
  },
  {
   "cell_type": "markdown",
   "metadata": {},
   "source": [
    "try https://towardsdatascience.com/ways-to-detect-and-remove-the-outliers-404d16608dba"
   ]
  },
  {
   "cell_type": "markdown",
   "metadata": {},
   "source": [
    "**SOME CODE TO REMOVE ALL VALUES = 50**"
   ]
  },
  {
   "cell_type": "code",
   "execution_count": 43,
   "metadata": {
    "scrolled": true
   },
   "outputs": [],
   "source": [
    "X = y_true\n",
    "\n",
    "#lambda function to only include values not equal to 50\n",
    "X = list(filter(lambda x: x!= 50.0, X))\n",
    "\n",
    "#print(X)"
   ]
  },
  {
   "cell_type": "markdown",
   "metadata": {},
   "source": [
    "**Calculate the error on the test set when 50 is excluded from price**"
   ]
  },
  {
   "cell_type": "code",
   "execution_count": 44,
   "metadata": {
    "scrolled": true
   },
   "outputs": [
    {
     "name": "stdout",
     "output_type": "stream",
     "text": [
      "Mean Absolute Error = 7.5634575\n"
     ]
    }
   ],
   "source": [
    "error = np.mean(kr.losses.mean_absolute_error(X, y_pred))\n",
    "print(\"Mean Absolute Error =\",(error))"
   ]
  },
  {
   "cell_type": "markdown",
   "metadata": {},
   "source": [
    "The error value has dropped by excluding the price values at 50,000 dollars. It may now be worth investigating if removing all outliers from the dataset will improve prediction"
   ]
  },
  {
   "cell_type": "markdown",
   "metadata": {},
   "source": [
    "**CALCULATE Z SCORES FOR OUTLIERS**\n",
    "\n",
    "REF[https://www.statisticshowto.datasciencecentral.com/probability-and-statistics/z-score/]\n",
    "\n",
    "The z-score is the number of standard deviations a data point is from the mean"
   ]
  },
  {
   "cell_type": "code",
   "execution_count": 45,
   "metadata": {},
   "outputs": [
    {
     "name": "stdout",
     "output_type": "stream",
     "text": [
      "[[0.41978194 0.28482986 1.2879095  ... 0.44105193 1.0755623  0.15968566]\n",
      " [0.41733926 0.48772236 0.59338101 ... 0.44105193 0.49243937 0.10152429]\n",
      " [0.41734159 0.48772236 0.59338101 ... 0.39642699 1.2087274  1.32424667]\n",
      " ...\n",
      " [0.41344658 0.48772236 0.11573841 ... 0.44105193 0.98304761 0.14880191]\n",
      " [0.40776407 0.48772236 0.11573841 ... 0.4032249  0.86530163 0.0579893 ]\n",
      " [0.41500016 0.48772236 0.11573841 ... 0.44105193 0.66905833 1.15724782]]\n"
     ]
    }
   ],
   "source": [
    "#REF [https://docs.scipy.org/doc/scipy/reference/generated/scipy.stats.zscore.html]\n",
    "z = np.abs(stats.zscore(bos))\n",
    "print(z)"
   ]
  },
  {
   "cell_type": "code",
   "execution_count": 46,
   "metadata": {},
   "outputs": [],
   "source": [
    " #outputs a new dataset excluding outliers where z score >3\n",
    "bos_o =x[(z < 3).all(axis=1)]\n"
   ]
  },
  {
   "cell_type": "markdown",
   "metadata": {},
   "source": [
    "Removing outliers did not have  substantial effect on the prediction accuracy\n",
    "\n",
    "**Note: Dropping the number of epochs increases the loss value but decreases the error on test data. i.e. decreases overfitting but not enough to reduce the error on predictions substantially. May be a case for putting the `Early_stopping` function back in to the model.**"
   ]
  },
  {
   "cell_type": "code",
   "execution_count": 47,
   "metadata": {},
   "outputs": [],
   "source": [
    "X = bos['PRICE']\n",
    "Y = y_pred #(columns='pred price'))\n",
    "\n",
    "#create two pandas dataframes\n",
    "a = pd.DataFrame(X)\n",
    "\n",
    "b = pd.DataFrame(Y, columns =['PRED_PRICE'])\n",
    "\n",
    "#contatenate the two dataframes\n",
    "result = pd.concat([a, b], axis=1)"
   ]
  },
  {
   "cell_type": "code",
   "execution_count": 48,
   "metadata": {},
   "outputs": [
    {
     "data": {
      "text/plain": [
       "<matplotlib.legend.Legend at 0x23430519320>"
      ]
     },
     "execution_count": 48,
     "metadata": {},
     "output_type": "execute_result"
    },
    {
     "data": {
      "image/png": "[encoded data removed]",
      "text/plain": [
       "<Figure size 864x864 with 1 Axes>"
      ]
     },
     "metadata": {},
     "output_type": "display_data"
    }
   ],
   "source": [
    "plt.figure(figsize=(12,12))\n",
    "\n",
    "#sns.regplot(x= \"PRICE\", y =\"PRED_PRICE\", data = result)\n",
    "#plt.plot(y, 'r-', label ='Prediction')\n",
    "#plt.plot(x, 'g', label = 'Actual')\n",
    "#plt.title(\"Linear Relationship: Neural Network Prediction V Actual\")\n",
    "\n",
    "#plt.show()\n",
    "slope, intercept, r_value, p_value, std_err = stats.linregress(result['PRICE'],result['PRED_PRICE'])\n",
    "\n",
    "# Display equation of the line and R^2\n",
    "ax = sns.regplot(x=\"PRICE\", y=\"PRED_PRICE\", data=result, color='b', \n",
    " line_kws={'label':\"y={0:.1f}x+{1:.1f}\\n, R^2={0:.3f}\".format(slope,intercept,r_value)})\n",
    "\n",
    "# plot legend\n",
    "ax.legend()"
   ]
  },
  {
   "cell_type": "markdown",
   "metadata": {},
   "source": [
    "**PLOT OF PRICE V PREDICTED PRICE**"
   ]
  },
  {
   "cell_type": "markdown",
   "metadata": {},
   "source": [
    "**Plotting the relationship between actual price and predicted price enables us to visualise the errors between the actual v predicted prices**\n",
    "\n",
    "Where the prediction is accurate, a strong linear relationship should exist between the data."
   ]
  },
  {
   "cell_type": "markdown",
   "metadata": {},
   "source": [
    "The linear relationship plotted above does suggest a strong correlation netween actual and predicted results with an $R^2$ value. However this is what we expect and it is the output of a neural network and not a univariate relationship. It is however a useful visualisation. From the values that diverge from the line, it is easy to see how the model is not predicting unknowns as well as it could. "
   ]
  },
  {
   "cell_type": "markdown",
   "metadata": {},
   "source": [
    "Removal of variables which were not strongly correlated with Price improved both training and testing models"
   ]
  }
 ],
 "metadata": {
  "kernelspec": {
   "display_name": "Python 3",
   "language": "python",
   "name": "python3"
  },
  "language_info": {
   "codemirror_mode": {
    "name": "ipython",
    "version": 3
   },
   "file_extension": ".py",
   "mimetype": "text/x-python",
   "name": "python",
   "nbconvert_exporter": "python",
   "pygments_lexer": "ipython3",
   "version": "3.7.1"
  }
 },
 "nbformat": 4,
 "nbformat_minor": 2
}
