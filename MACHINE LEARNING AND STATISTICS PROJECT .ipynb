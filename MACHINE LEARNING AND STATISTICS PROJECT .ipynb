{
 "cells": [
  {
   "cell_type": "markdown",
   "metadata": {},
   "source": [
    "# MACHINE LEARNING AND STATISTICS PROJECT\n",
    "\n",
    "## THE BOSTON HOUSE PRICES DATASET\n",
    "\n",
    "## HUGH O'REILLY\n",
    "\n",
    "## H.DIP Data Analytics GMIT\n"
   ]
  },
  {
   "cell_type": "markdown",
   "metadata": {},
   "source": [
    "## INTRODUCTION\n",
    " ___\n",
    "\n",
    "The Boston Housing Dataset consists of information derived from US census data of housing in the Boston Mass. area of the US. The publication originally discussed the problems associated with the use of housing market data to measure the willingness to pay for clean air.\n",
    "\n",
    "The dataset is taken from census tracts in the Boston Standard Metropolitan Statistical Area in 1970.\n",
    "\n",
    "*The data was originally published by Harrison, D. and Rubinfeld, D.L. 'Hedonic prices and the demand for clean air', J. Environ. Economics & Management, vol.5, 81-102, 1978.*\n",
    "\n",
    "Ref [https://www.sciencedirect.com/science/article/abs/pii/0095069678900062%5D]\n",
    "___"
   ]
  },
  {
   "cell_type": "markdown",
   "metadata": {},
   "source": [
    "## OBJECTIVE"
   ]
  },
  {
   "cell_type": "markdown",
   "metadata": {},
   "source": [
    "* To investigate if there is a significant difference in the median house prices between houses that are along the Charles River and those which aren't\n",
    "\n",
    "* To attempt to predict the median house price based on other variables in the dataset\n",
    "\n",
    "Understanding if there is a difference between the houses along the Charles River will help determine the investment value of properties in the area\n",
    "\n",
    "Similarly the ability to predict median house prices for a particular zone in Boston, based on the other variables associated with the property will enable us to determine the value of a property in a particular area and whether it may be worth investing in the area"
   ]
  },
  {
   "cell_type": "markdown",
   "metadata": {},
   "source": [
    "#TODO Insert image of boston"
   ]
  },
  {
   "cell_type": "markdown",
   "metadata": {},
   "source": [
    "## IMPORT AND SORT THE DATASET\n",
    "\n",
    "___\n"
   ]
  },
  {
   "cell_type": "code",
   "execution_count": 1,
   "metadata": {},
   "outputs": [
    {
     "name": "stderr",
     "output_type": "stream",
     "text": [
      "Using TensorFlow backend.\n"
     ]
    },
    {
     "name": "stdout",
     "output_type": "stream",
     "text": [
      "(506, 13)\n"
     ]
    }
   ],
   "source": [
    "#IMPORT LIBRARIES\n",
    "\n",
    "#Scipy Libraries\n",
    "import numpy as np\n",
    "import pandas as pd\n",
    "import scipy.stats as stats\n",
    "import statsmodels.api as sm\n",
    "import matplotlib.pyplot as plt\n",
    "import sklearn\n",
    "#Seaborn library\n",
    "import seaborn as sns\n",
    "#Keras libraries\n",
    "import keras as kr\n",
    "from keras import losses\n",
    "from keras import regularizers\n",
    "%matplotlib inline\n",
    "\n",
    "#IMPORT THE BOSTON HOUSE PRICES DATASET from sklearn\n",
    "   \n",
    "from sklearn.datasets import load_boston\n",
    "boston = load_boston()\n",
    "\n",
    "# Display the shape of the dataset\n",
    "print(boston.data.shape)\n",
    "\n",
    "# Ref [2]\n"
   ]
  },
  {
   "cell_type": "markdown",
   "metadata": {},
   "source": [
    "### INVESTIGATE AND SORT THE DATASET\n",
    "___"
   ]
  },
  {
   "cell_type": "code",
   "execution_count": 2,
   "metadata": {},
   "outputs": [
    {
     "data": {
      "text/plain": [
       "sklearn.utils.Bunch"
      ]
     },
     "execution_count": 2,
     "metadata": {},
     "output_type": "execute_result"
    }
   ],
   "source": [
    "#Determine the dataset type\n",
    "\n",
    "type(boston)"
   ]
  },
  {
   "cell_type": "markdown",
   "metadata": {},
   "source": [
    "The `type(boston)` command tells us that the dataset is a `sk.utils.Bunch` dataset type\n",
    "\n",
    "A 'bunch' dataset type:  Dictionary-like object, the interesting attributes are: ‘data’, the data to learn, ‘target’, the classification labels, ‘target_names’, the meaning of the labels, ‘feature_names’, the meaning of the features, ‘DESCR’, the full description of the dataset, ‘filename’. \n",
    "\n",
    "Ref [https://scikit-learn.org/stable/modules/generated/sklearn.datasets.load_iris.html]"
   ]
  },
  {
   "cell_type": "code",
   "execution_count": 3,
   "metadata": {},
   "outputs": [
    {
     "name": "stdout",
     "output_type": "stream",
     "text": [
      ".. _boston_dataset:\n",
      "\n",
      "Boston house prices dataset\n",
      "---------------------------\n",
      "\n",
      "**Data Set Characteristics:**  \n",
      "\n",
      "    :Number of Instances: 506 \n",
      "\n",
      "    :Number of Attributes: 13 numeric/categorical predictive. Median Value (attribute 14) is usually the target.\n",
      "\n",
      "    :Attribute Information (in order):\n",
      "        - CRIM     per capita crime rate by town\n",
      "        - ZN       proportion of residential land zoned for lots over 25,000 sq.ft.\n",
      "        - INDUS    proportion of non-retail business acres per town\n",
      "        - CHAS     Charles River dummy variable (= 1 if tract bounds river; 0 otherwise)\n",
      "        - NOX      nitric oxides concentration (parts per 10 million)\n",
      "        - RM       average number of rooms per dwelling\n",
      "        - AGE      proportion of owner-occupied units built prior to 1940\n",
      "        - DIS      weighted distances to five Boston employment centres\n",
      "        - RAD      index of accessibility to radial highways\n",
      "        - TAX      full-value property-tax rate per $10,000\n",
      "        - PTRATIO  pupil-teacher ratio by town\n",
      "        - B        1000(Bk - 0.63)^2 where Bk is the proportion of blacks by town\n",
      "        - LSTAT    % lower status of the population\n",
      "        - MEDV     Median value of owner-occupied homes in $1000's\n",
      "\n",
      "    :Missing Attribute Values: None\n",
      "\n",
      "    :Creator: Harrison, D. and Rubinfeld, D.L.\n",
      "\n",
      "This is a copy of UCI ML housing dataset.\n",
      "https://archive.ics.uci.edu/ml/machine-learning-databases/housing/\n",
      "\n",
      "\n",
      "This dataset was taken from the StatLib library which is maintained at Carnegie Mellon University.\n",
      "\n",
      "The Boston house-price data of Harrison, D. and Rubinfeld, D.L. 'Hedonic\n",
      "prices and the demand for clean air', J. Environ. Economics & Management,\n",
      "vol.5, 81-102, 1978.   Used in Belsley, Kuh & Welsch, 'Regression diagnostics\n",
      "...', Wiley, 1980.   N.B. Various transformations are used in the table on\n",
      "pages 244-261 of the latter.\n",
      "\n",
      "The Boston house-price data has been used in many machine learning papers that address regression\n",
      "problems.   \n",
      "     \n",
      ".. topic:: References\n",
      "\n",
      "   - Belsley, Kuh & Welsch, 'Regression diagnostics: Identifying Influential Data and Sources of Collinearity', Wiley, 1980. 244-261.\n",
      "   - Quinlan,R. (1993). Combining Instance-Based and Model-Based Learning. In Proceedings on the Tenth International Conference of Machine Learning, 236-243, University of Massachusetts, Amherst. Morgan Kaufmann.\n",
      "\n"
     ]
    }
   ],
   "source": [
    "#Display a desciption of the dataset\n",
    "\n",
    "print(boston.DESCR)"
   ]
  },
  {
   "cell_type": "markdown",
   "metadata": {},
   "source": [
    "The Data consists of 506 rows and 13 columns i.e. 506 instances containing 13 numeric/categorical variables as described above. \n",
    "\n",
    "There are 13 attribute variables an 1 target variable 'MEDV': which represents the median value for houses in each area i.e. 506 areas of Boston"
   ]
  },
  {
   "cell_type": "code",
   "execution_count": 4,
   "metadata": {
    "scrolled": true
   },
   "outputs": [
    {
     "data": {
      "text/html": [
       "<div>\n",
       "<style scoped>\n",
       "    .dataframe tbody tr th:only-of-type {\n",
       "        vertical-align: middle;\n",
       "    }\n",
       "\n",
       "    .dataframe tbody tr th {\n",
       "        vertical-align: top;\n",
       "    }\n",
       "\n",
       "    .dataframe thead th {\n",
       "        text-align: right;\n",
       "    }\n",
       "</style>\n",
       "<table border=\"1\" class=\"dataframe\">\n",
       "  <thead>\n",
       "    <tr style=\"text-align: right;\">\n",
       "      <th></th>\n",
       "      <th>0</th>\n",
       "      <th>1</th>\n",
       "      <th>2</th>\n",
       "      <th>3</th>\n",
       "      <th>4</th>\n",
       "      <th>5</th>\n",
       "      <th>6</th>\n",
       "      <th>7</th>\n",
       "      <th>8</th>\n",
       "      <th>9</th>\n",
       "      <th>10</th>\n",
       "      <th>11</th>\n",
       "      <th>12</th>\n",
       "    </tr>\n",
       "  </thead>\n",
       "  <tbody>\n",
       "    <tr>\n",
       "      <th>0</th>\n",
       "      <td>0.00632</td>\n",
       "      <td>18.0</td>\n",
       "      <td>2.31</td>\n",
       "      <td>0.0</td>\n",
       "      <td>0.538</td>\n",
       "      <td>6.575</td>\n",
       "      <td>65.2</td>\n",
       "      <td>4.0900</td>\n",
       "      <td>1.0</td>\n",
       "      <td>296.0</td>\n",
       "      <td>15.3</td>\n",
       "      <td>396.90</td>\n",
       "      <td>4.98</td>\n",
       "    </tr>\n",
       "    <tr>\n",
       "      <th>1</th>\n",
       "      <td>0.02731</td>\n",
       "      <td>0.0</td>\n",
       "      <td>7.07</td>\n",
       "      <td>0.0</td>\n",
       "      <td>0.469</td>\n",
       "      <td>6.421</td>\n",
       "      <td>78.9</td>\n",
       "      <td>4.9671</td>\n",
       "      <td>2.0</td>\n",
       "      <td>242.0</td>\n",
       "      <td>17.8</td>\n",
       "      <td>396.90</td>\n",
       "      <td>9.14</td>\n",
       "    </tr>\n",
       "    <tr>\n",
       "      <th>2</th>\n",
       "      <td>0.02729</td>\n",
       "      <td>0.0</td>\n",
       "      <td>7.07</td>\n",
       "      <td>0.0</td>\n",
       "      <td>0.469</td>\n",
       "      <td>7.185</td>\n",
       "      <td>61.1</td>\n",
       "      <td>4.9671</td>\n",
       "      <td>2.0</td>\n",
       "      <td>242.0</td>\n",
       "      <td>17.8</td>\n",
       "      <td>392.83</td>\n",
       "      <td>4.03</td>\n",
       "    </tr>\n",
       "    <tr>\n",
       "      <th>3</th>\n",
       "      <td>0.03237</td>\n",
       "      <td>0.0</td>\n",
       "      <td>2.18</td>\n",
       "      <td>0.0</td>\n",
       "      <td>0.458</td>\n",
       "      <td>6.998</td>\n",
       "      <td>45.8</td>\n",
       "      <td>6.0622</td>\n",
       "      <td>3.0</td>\n",
       "      <td>222.0</td>\n",
       "      <td>18.7</td>\n",
       "      <td>394.63</td>\n",
       "      <td>2.94</td>\n",
       "    </tr>\n",
       "    <tr>\n",
       "      <th>4</th>\n",
       "      <td>0.06905</td>\n",
       "      <td>0.0</td>\n",
       "      <td>2.18</td>\n",
       "      <td>0.0</td>\n",
       "      <td>0.458</td>\n",
       "      <td>7.147</td>\n",
       "      <td>54.2</td>\n",
       "      <td>6.0622</td>\n",
       "      <td>3.0</td>\n",
       "      <td>222.0</td>\n",
       "      <td>18.7</td>\n",
       "      <td>396.90</td>\n",
       "      <td>5.33</td>\n",
       "    </tr>\n",
       "    <tr>\n",
       "      <th>5</th>\n",
       "      <td>0.02985</td>\n",
       "      <td>0.0</td>\n",
       "      <td>2.18</td>\n",
       "      <td>0.0</td>\n",
       "      <td>0.458</td>\n",
       "      <td>6.430</td>\n",
       "      <td>58.7</td>\n",
       "      <td>6.0622</td>\n",
       "      <td>3.0</td>\n",
       "      <td>222.0</td>\n",
       "      <td>18.7</td>\n",
       "      <td>394.12</td>\n",
       "      <td>5.21</td>\n",
       "    </tr>\n",
       "    <tr>\n",
       "      <th>6</th>\n",
       "      <td>0.08829</td>\n",
       "      <td>12.5</td>\n",
       "      <td>7.87</td>\n",
       "      <td>0.0</td>\n",
       "      <td>0.524</td>\n",
       "      <td>6.012</td>\n",
       "      <td>66.6</td>\n",
       "      <td>5.5605</td>\n",
       "      <td>5.0</td>\n",
       "      <td>311.0</td>\n",
       "      <td>15.2</td>\n",
       "      <td>395.60</td>\n",
       "      <td>12.43</td>\n",
       "    </tr>\n",
       "    <tr>\n",
       "      <th>7</th>\n",
       "      <td>0.14455</td>\n",
       "      <td>12.5</td>\n",
       "      <td>7.87</td>\n",
       "      <td>0.0</td>\n",
       "      <td>0.524</td>\n",
       "      <td>6.172</td>\n",
       "      <td>96.1</td>\n",
       "      <td>5.9505</td>\n",
       "      <td>5.0</td>\n",
       "      <td>311.0</td>\n",
       "      <td>15.2</td>\n",
       "      <td>396.90</td>\n",
       "      <td>19.15</td>\n",
       "    </tr>\n",
       "    <tr>\n",
       "      <th>8</th>\n",
       "      <td>0.21124</td>\n",
       "      <td>12.5</td>\n",
       "      <td>7.87</td>\n",
       "      <td>0.0</td>\n",
       "      <td>0.524</td>\n",
       "      <td>5.631</td>\n",
       "      <td>100.0</td>\n",
       "      <td>6.0821</td>\n",
       "      <td>5.0</td>\n",
       "      <td>311.0</td>\n",
       "      <td>15.2</td>\n",
       "      <td>386.63</td>\n",
       "      <td>29.93</td>\n",
       "    </tr>\n",
       "    <tr>\n",
       "      <th>9</th>\n",
       "      <td>0.17004</td>\n",
       "      <td>12.5</td>\n",
       "      <td>7.87</td>\n",
       "      <td>0.0</td>\n",
       "      <td>0.524</td>\n",
       "      <td>6.004</td>\n",
       "      <td>85.9</td>\n",
       "      <td>6.5921</td>\n",
       "      <td>5.0</td>\n",
       "      <td>311.0</td>\n",
       "      <td>15.2</td>\n",
       "      <td>386.71</td>\n",
       "      <td>17.10</td>\n",
       "    </tr>\n",
       "  </tbody>\n",
       "</table>\n",
       "</div>"
      ],
      "text/plain": [
       "        0     1     2    3      4      5      6       7    8      9     10  \\\n",
       "0  0.00632  18.0  2.31  0.0  0.538  6.575   65.2  4.0900  1.0  296.0  15.3   \n",
       "1  0.02731   0.0  7.07  0.0  0.469  6.421   78.9  4.9671  2.0  242.0  17.8   \n",
       "2  0.02729   0.0  7.07  0.0  0.469  7.185   61.1  4.9671  2.0  242.0  17.8   \n",
       "3  0.03237   0.0  2.18  0.0  0.458  6.998   45.8  6.0622  3.0  222.0  18.7   \n",
       "4  0.06905   0.0  2.18  0.0  0.458  7.147   54.2  6.0622  3.0  222.0  18.7   \n",
       "5  0.02985   0.0  2.18  0.0  0.458  6.430   58.7  6.0622  3.0  222.0  18.7   \n",
       "6  0.08829  12.5  7.87  0.0  0.524  6.012   66.6  5.5605  5.0  311.0  15.2   \n",
       "7  0.14455  12.5  7.87  0.0  0.524  6.172   96.1  5.9505  5.0  311.0  15.2   \n",
       "8  0.21124  12.5  7.87  0.0  0.524  5.631  100.0  6.0821  5.0  311.0  15.2   \n",
       "9  0.17004  12.5  7.87  0.0  0.524  6.004   85.9  6.5921  5.0  311.0  15.2   \n",
       "\n",
       "       11     12  \n",
       "0  396.90   4.98  \n",
       "1  396.90   9.14  \n",
       "2  392.83   4.03  \n",
       "3  394.63   2.94  \n",
       "4  396.90   5.33  \n",
       "5  394.12   5.21  \n",
       "6  395.60  12.43  \n",
       "7  396.90  19.15  \n",
       "8  386.63  29.93  \n",
       "9  386.71  17.10  "
      ]
     },
     "execution_count": 4,
     "metadata": {},
     "output_type": "execute_result"
    }
   ],
   "source": [
    "# Show the first 10 rows of the Dataset\n",
    "bos = pd.DataFrame(boston.data)\n",
    "bos.head(10)"
   ]
  },
  {
   "cell_type": "markdown",
   "metadata": {},
   "source": [
    "It can be seen above that the dataset has no feature labels which will need to be added (although they are imported in the 'dataset characteristics'). In order to do so we need to use the `pandas.dataframe.keys()` command to access the keys and then assign them to the attribute columns.\n",
    "\n",
    "Ref [https://pandas.pydata.org/pandas-docs/stable/reference/api/pandas.DataFrame.keys.html]"
   ]
  },
  {
   "cell_type": "code",
   "execution_count": 5,
   "metadata": {},
   "outputs": [
    {
     "data": {
      "text/plain": [
       "RangeIndex(start=0, stop=13, step=1)"
      ]
     },
     "execution_count": 5,
     "metadata": {},
     "output_type": "execute_result"
    }
   ],
   "source": [
    "# Identify the indices in the dataset\n",
    "\n",
    "bos.keys()"
   ]
  },
  {
   "cell_type": "code",
   "execution_count": 6,
   "metadata": {},
   "outputs": [
    {
     "data": {
      "text/html": [
       "<div>\n",
       "<style scoped>\n",
       "    .dataframe tbody tr th:only-of-type {\n",
       "        vertical-align: middle;\n",
       "    }\n",
       "\n",
       "    .dataframe tbody tr th {\n",
       "        vertical-align: top;\n",
       "    }\n",
       "\n",
       "    .dataframe thead th {\n",
       "        text-align: right;\n",
       "    }\n",
       "</style>\n",
       "<table border=\"1\" class=\"dataframe\">\n",
       "  <thead>\n",
       "    <tr style=\"text-align: right;\">\n",
       "      <th></th>\n",
       "      <th>CRIM</th>\n",
       "      <th>ZN</th>\n",
       "      <th>INDUS</th>\n",
       "      <th>CHAS</th>\n",
       "      <th>NOX</th>\n",
       "      <th>RM</th>\n",
       "      <th>AGE</th>\n",
       "      <th>DIS</th>\n",
       "      <th>RAD</th>\n",
       "      <th>TAX</th>\n",
       "      <th>PTRATIO</th>\n",
       "      <th>B</th>\n",
       "      <th>LSTAT</th>\n",
       "    </tr>\n",
       "  </thead>\n",
       "  <tbody>\n",
       "    <tr>\n",
       "      <th>0</th>\n",
       "      <td>0.00632</td>\n",
       "      <td>18.0</td>\n",
       "      <td>2.31</td>\n",
       "      <td>0.0</td>\n",
       "      <td>0.538</td>\n",
       "      <td>6.575</td>\n",
       "      <td>65.2</td>\n",
       "      <td>4.0900</td>\n",
       "      <td>1.0</td>\n",
       "      <td>296.0</td>\n",
       "      <td>15.3</td>\n",
       "      <td>396.90</td>\n",
       "      <td>4.98</td>\n",
       "    </tr>\n",
       "    <tr>\n",
       "      <th>1</th>\n",
       "      <td>0.02731</td>\n",
       "      <td>0.0</td>\n",
       "      <td>7.07</td>\n",
       "      <td>0.0</td>\n",
       "      <td>0.469</td>\n",
       "      <td>6.421</td>\n",
       "      <td>78.9</td>\n",
       "      <td>4.9671</td>\n",
       "      <td>2.0</td>\n",
       "      <td>242.0</td>\n",
       "      <td>17.8</td>\n",
       "      <td>396.90</td>\n",
       "      <td>9.14</td>\n",
       "    </tr>\n",
       "    <tr>\n",
       "      <th>2</th>\n",
       "      <td>0.02729</td>\n",
       "      <td>0.0</td>\n",
       "      <td>7.07</td>\n",
       "      <td>0.0</td>\n",
       "      <td>0.469</td>\n",
       "      <td>7.185</td>\n",
       "      <td>61.1</td>\n",
       "      <td>4.9671</td>\n",
       "      <td>2.0</td>\n",
       "      <td>242.0</td>\n",
       "      <td>17.8</td>\n",
       "      <td>392.83</td>\n",
       "      <td>4.03</td>\n",
       "    </tr>\n",
       "    <tr>\n",
       "      <th>3</th>\n",
       "      <td>0.03237</td>\n",
       "      <td>0.0</td>\n",
       "      <td>2.18</td>\n",
       "      <td>0.0</td>\n",
       "      <td>0.458</td>\n",
       "      <td>6.998</td>\n",
       "      <td>45.8</td>\n",
       "      <td>6.0622</td>\n",
       "      <td>3.0</td>\n",
       "      <td>222.0</td>\n",
       "      <td>18.7</td>\n",
       "      <td>394.63</td>\n",
       "      <td>2.94</td>\n",
       "    </tr>\n",
       "    <tr>\n",
       "      <th>4</th>\n",
       "      <td>0.06905</td>\n",
       "      <td>0.0</td>\n",
       "      <td>2.18</td>\n",
       "      <td>0.0</td>\n",
       "      <td>0.458</td>\n",
       "      <td>7.147</td>\n",
       "      <td>54.2</td>\n",
       "      <td>6.0622</td>\n",
       "      <td>3.0</td>\n",
       "      <td>222.0</td>\n",
       "      <td>18.7</td>\n",
       "      <td>396.90</td>\n",
       "      <td>5.33</td>\n",
       "    </tr>\n",
       "  </tbody>\n",
       "</table>\n",
       "</div>"
      ],
      "text/plain": [
       "      CRIM    ZN  INDUS  CHAS    NOX     RM   AGE     DIS  RAD    TAX  \\\n",
       "0  0.00632  18.0   2.31   0.0  0.538  6.575  65.2  4.0900  1.0  296.0   \n",
       "1  0.02731   0.0   7.07   0.0  0.469  6.421  78.9  4.9671  2.0  242.0   \n",
       "2  0.02729   0.0   7.07   0.0  0.469  7.185  61.1  4.9671  2.0  242.0   \n",
       "3  0.03237   0.0   2.18   0.0  0.458  6.998  45.8  6.0622  3.0  222.0   \n",
       "4  0.06905   0.0   2.18   0.0  0.458  7.147  54.2  6.0622  3.0  222.0   \n",
       "\n",
       "   PTRATIO       B  LSTAT  \n",
       "0     15.3  396.90   4.98  \n",
       "1     17.8  396.90   9.14  \n",
       "2     17.8  392.83   4.03  \n",
       "3     18.7  394.63   2.94  \n",
       "4     18.7  396.90   5.33  "
      ]
     },
     "execution_count": 6,
     "metadata": {},
     "output_type": "execute_result"
    }
   ],
   "source": [
    "#Passing the `feature_names` parameter to the dataset now assigns the attributes with their labels\n",
    "\n",
    "bos.columns = boston.feature_names\n",
    "bos.head()"
   ]
  },
  {
   "cell_type": "markdown",
   "metadata": {},
   "source": [
    "Only 13 attributes are shown, although 14 attributes are associated with the dataset. The 14th attribute, or target variable - MEDV     Median value of owner-occupied homes in $1000's must be added to the `bos` pandas array"
   ]
  },
  {
   "cell_type": "code",
   "execution_count": 7,
   "metadata": {},
   "outputs": [
    {
     "data": {
      "text/plain": [
       "array([24. , 21.6, 34.7, 33.4, 36.2, 28.7, 22.9, 27.1, 16.5, 18.9, 15. ,\n",
       "       18.9, 21.7, 20.4, 18.2, 19.9, 23.1, 17.5, 20.2, 18.2, 13.6, 19.6,\n",
       "       15.2, 14.5, 15.6, 13.9, 16.6, 14.8, 18.4, 21. , 12.7, 14.5, 13.2,\n",
       "       13.1, 13.5, 18.9, 20. , 21. , 24.7, 30.8, 34.9, 26.6, 25.3, 24.7,\n",
       "       21.2, 19.3, 20. , 16.6, 14.4, 19.4, 19.7, 20.5, 25. , 23.4, 18.9,\n",
       "       35.4, 24.7, 31.6, 23.3, 19.6, 18.7, 16. , 22.2, 25. , 33. , 23.5,\n",
       "       19.4, 22. , 17.4, 20.9, 24.2, 21.7, 22.8, 23.4, 24.1, 21.4, 20. ,\n",
       "       20.8, 21.2, 20.3, 28. , 23.9, 24.8, 22.9, 23.9, 26.6, 22.5, 22.2,\n",
       "       23.6, 28.7, 22.6, 22. , 22.9, 25. , 20.6, 28.4, 21.4, 38.7, 43.8,\n",
       "       33.2, 27.5, 26.5, 18.6, 19.3, 20.1, 19.5, 19.5, 20.4, 19.8, 19.4,\n",
       "       21.7, 22.8, 18.8, 18.7, 18.5, 18.3, 21.2, 19.2, 20.4, 19.3, 22. ,\n",
       "       20.3, 20.5, 17.3, 18.8, 21.4, 15.7, 16.2, 18. , 14.3, 19.2, 19.6,\n",
       "       23. , 18.4, 15.6, 18.1, 17.4, 17.1, 13.3, 17.8, 14. , 14.4, 13.4,\n",
       "       15.6, 11.8, 13.8, 15.6, 14.6, 17.8, 15.4, 21.5, 19.6, 15.3, 19.4,\n",
       "       17. , 15.6, 13.1, 41.3, 24.3, 23.3, 27. , 50. , 50. , 50. , 22.7,\n",
       "       25. , 50. , 23.8, 23.8, 22.3, 17.4, 19.1, 23.1, 23.6, 22.6, 29.4,\n",
       "       23.2, 24.6, 29.9, 37.2, 39.8, 36.2, 37.9, 32.5, 26.4, 29.6, 50. ,\n",
       "       32. , 29.8, 34.9, 37. , 30.5, 36.4, 31.1, 29.1, 50. , 33.3, 30.3,\n",
       "       34.6, 34.9, 32.9, 24.1, 42.3, 48.5, 50. , 22.6, 24.4, 22.5, 24.4,\n",
       "       20. , 21.7, 19.3, 22.4, 28.1, 23.7, 25. , 23.3, 28.7, 21.5, 23. ,\n",
       "       26.7, 21.7, 27.5, 30.1, 44.8, 50. , 37.6, 31.6, 46.7, 31.5, 24.3,\n",
       "       31.7, 41.7, 48.3, 29. , 24. , 25.1, 31.5, 23.7, 23.3, 22. , 20.1,\n",
       "       22.2, 23.7, 17.6, 18.5, 24.3, 20.5, 24.5, 26.2, 24.4, 24.8, 29.6,\n",
       "       42.8, 21.9, 20.9, 44. , 50. , 36. , 30.1, 33.8, 43.1, 48.8, 31. ,\n",
       "       36.5, 22.8, 30.7, 50. , 43.5, 20.7, 21.1, 25.2, 24.4, 35.2, 32.4,\n",
       "       32. , 33.2, 33.1, 29.1, 35.1, 45.4, 35.4, 46. , 50. , 32.2, 22. ,\n",
       "       20.1, 23.2, 22.3, 24.8, 28.5, 37.3, 27.9, 23.9, 21.7, 28.6, 27.1,\n",
       "       20.3, 22.5, 29. , 24.8, 22. , 26.4, 33.1, 36.1, 28.4, 33.4, 28.2,\n",
       "       22.8, 20.3, 16.1, 22.1, 19.4, 21.6, 23.8, 16.2, 17.8, 19.8, 23.1,\n",
       "       21. , 23.8, 23.1, 20.4, 18.5, 25. , 24.6, 23. , 22.2, 19.3, 22.6,\n",
       "       19.8, 17.1, 19.4, 22.2, 20.7, 21.1, 19.5, 18.5, 20.6, 19. , 18.7,\n",
       "       32.7, 16.5, 23.9, 31.2, 17.5, 17.2, 23.1, 24.5, 26.6, 22.9, 24.1,\n",
       "       18.6, 30.1, 18.2, 20.6, 17.8, 21.7, 22.7, 22.6, 25. , 19.9, 20.8,\n",
       "       16.8, 21.9, 27.5, 21.9, 23.1, 50. , 50. , 50. , 50. , 50. , 13.8,\n",
       "       13.8, 15. , 13.9, 13.3, 13.1, 10.2, 10.4, 10.9, 11.3, 12.3,  8.8,\n",
       "        7.2, 10.5,  7.4, 10.2, 11.5, 15.1, 23.2,  9.7, 13.8, 12.7, 13.1,\n",
       "       12.5,  8.5,  5. ,  6.3,  5.6,  7.2, 12.1,  8.3,  8.5,  5. , 11.9,\n",
       "       27.9, 17.2, 27.5, 15. , 17.2, 17.9, 16.3,  7. ,  7.2,  7.5, 10.4,\n",
       "        8.8,  8.4, 16.7, 14.2, 20.8, 13.4, 11.7,  8.3, 10.2, 10.9, 11. ,\n",
       "        9.5, 14.5, 14.1, 16.1, 14.3, 11.7, 13.4,  9.6,  8.7,  8.4, 12.8,\n",
       "       10.5, 17.1, 18.4, 15.4, 10.8, 11.8, 14.9, 12.6, 14.1, 13. , 13.4,\n",
       "       15.2, 16.1, 17.8, 14.9, 14.1, 12.7, 13.5, 14.9, 20. , 16.4, 17.7,\n",
       "       19.5, 20.2, 21.4, 19.9, 19. , 19.1, 19.1, 20.1, 19.9, 19.6, 23.2,\n",
       "       29.8, 13.8, 13.3, 16.7, 12. , 14.6, 21.4, 23. , 23.7, 25. , 21.8,\n",
       "       20.6, 21.2, 19.1, 20.6, 15.2,  7. ,  8.1, 13.6, 20.1, 21.8, 24.5,\n",
       "       23.1, 19.7, 18.3, 21.2, 17.5, 16.8, 22.4, 20.6, 23.9, 22. , 11.9])"
      ]
     },
     "execution_count": 7,
     "metadata": {},
     "output_type": "execute_result"
    }
   ],
   "source": [
    "#The price is identified as the target variable above so we will see if is there\n",
    "\n",
    "boston.target #This prints the array of target variables (MEDV)"
   ]
  },
  {
   "cell_type": "code",
   "execution_count": 8,
   "metadata": {},
   "outputs": [
    {
     "name": "stdout",
     "output_type": "stream",
     "text": [
      "      CRIM    ZN  INDUS  CHAS    NOX     RM   AGE     DIS  RAD    TAX  \\\n",
      "0  0.00632  18.0   2.31   0.0  0.538  6.575  65.2  4.0900  1.0  296.0   \n",
      "1  0.02731   0.0   7.07   0.0  0.469  6.421  78.9  4.9671  2.0  242.0   \n",
      "2  0.02729   0.0   7.07   0.0  0.469  7.185  61.1  4.9671  2.0  242.0   \n",
      "3  0.03237   0.0   2.18   0.0  0.458  6.998  45.8  6.0622  3.0  222.0   \n",
      "4  0.06905   0.0   2.18   0.0  0.458  7.147  54.2  6.0622  3.0  222.0   \n",
      "\n",
      "   PTRATIO       B  LSTAT  PRICE  \n",
      "0     15.3  396.90   4.98   24.0  \n",
      "1     17.8  396.90   9.14   21.6  \n",
      "2     17.8  392.83   4.03   34.7  \n",
      "3     18.7  394.63   2.94   33.4  \n",
      "4     18.7  396.90   5.33   36.2  \n"
     ]
    }
   ],
   "source": [
    "#We now add the target variable (MEDV) to the array as 'price'\n",
    "\n",
    "bos['PRICE'] = boston.target\n",
    "print(bos.head())\n",
    "\n",
    "#ref [https://medium.com/@haydar_ai/learning-data-science-day-9-linear-regression-on-boston-housing-dataset-cd62a80775ef]"
   ]
  },
  {
   "cell_type": "markdown",
   "metadata": {},
   "source": [
    "## DESCRIPTIVE STATISTICS\n",
    "___"
   ]
  },
  {
   "cell_type": "code",
   "execution_count": 9,
   "metadata": {
    "scrolled": false
   },
   "outputs": [
    {
     "data": {
      "text/html": [
       "<div>\n",
       "<style scoped>\n",
       "    .dataframe tbody tr th:only-of-type {\n",
       "        vertical-align: middle;\n",
       "    }\n",
       "\n",
       "    .dataframe tbody tr th {\n",
       "        vertical-align: top;\n",
       "    }\n",
       "\n",
       "    .dataframe thead th {\n",
       "        text-align: right;\n",
       "    }\n",
       "</style>\n",
       "<table border=\"1\" class=\"dataframe\">\n",
       "  <thead>\n",
       "    <tr style=\"text-align: right;\">\n",
       "      <th></th>\n",
       "      <th>count</th>\n",
       "      <th>mean</th>\n",
       "      <th>std</th>\n",
       "      <th>min</th>\n",
       "      <th>25%</th>\n",
       "      <th>50%</th>\n",
       "      <th>75%</th>\n",
       "      <th>max</th>\n",
       "    </tr>\n",
       "  </thead>\n",
       "  <tbody>\n",
       "    <tr>\n",
       "      <th>CRIM</th>\n",
       "      <td>506.0</td>\n",
       "      <td>3.613524</td>\n",
       "      <td>8.601545</td>\n",
       "      <td>0.00632</td>\n",
       "      <td>0.082045</td>\n",
       "      <td>0.25651</td>\n",
       "      <td>3.677083</td>\n",
       "      <td>88.9762</td>\n",
       "    </tr>\n",
       "    <tr>\n",
       "      <th>ZN</th>\n",
       "      <td>506.0</td>\n",
       "      <td>11.363636</td>\n",
       "      <td>23.322453</td>\n",
       "      <td>0.00000</td>\n",
       "      <td>0.000000</td>\n",
       "      <td>0.00000</td>\n",
       "      <td>12.500000</td>\n",
       "      <td>100.0000</td>\n",
       "    </tr>\n",
       "    <tr>\n",
       "      <th>INDUS</th>\n",
       "      <td>506.0</td>\n",
       "      <td>11.136779</td>\n",
       "      <td>6.860353</td>\n",
       "      <td>0.46000</td>\n",
       "      <td>5.190000</td>\n",
       "      <td>9.69000</td>\n",
       "      <td>18.100000</td>\n",
       "      <td>27.7400</td>\n",
       "    </tr>\n",
       "    <tr>\n",
       "      <th>CHAS</th>\n",
       "      <td>506.0</td>\n",
       "      <td>0.069170</td>\n",
       "      <td>0.253994</td>\n",
       "      <td>0.00000</td>\n",
       "      <td>0.000000</td>\n",
       "      <td>0.00000</td>\n",
       "      <td>0.000000</td>\n",
       "      <td>1.0000</td>\n",
       "    </tr>\n",
       "    <tr>\n",
       "      <th>NOX</th>\n",
       "      <td>506.0</td>\n",
       "      <td>0.554695</td>\n",
       "      <td>0.115878</td>\n",
       "      <td>0.38500</td>\n",
       "      <td>0.449000</td>\n",
       "      <td>0.53800</td>\n",
       "      <td>0.624000</td>\n",
       "      <td>0.8710</td>\n",
       "    </tr>\n",
       "    <tr>\n",
       "      <th>RM</th>\n",
       "      <td>506.0</td>\n",
       "      <td>6.284634</td>\n",
       "      <td>0.702617</td>\n",
       "      <td>3.56100</td>\n",
       "      <td>5.885500</td>\n",
       "      <td>6.20850</td>\n",
       "      <td>6.623500</td>\n",
       "      <td>8.7800</td>\n",
       "    </tr>\n",
       "    <tr>\n",
       "      <th>AGE</th>\n",
       "      <td>506.0</td>\n",
       "      <td>68.574901</td>\n",
       "      <td>28.148861</td>\n",
       "      <td>2.90000</td>\n",
       "      <td>45.025000</td>\n",
       "      <td>77.50000</td>\n",
       "      <td>94.075000</td>\n",
       "      <td>100.0000</td>\n",
       "    </tr>\n",
       "    <tr>\n",
       "      <th>DIS</th>\n",
       "      <td>506.0</td>\n",
       "      <td>3.795043</td>\n",
       "      <td>2.105710</td>\n",
       "      <td>1.12960</td>\n",
       "      <td>2.100175</td>\n",
       "      <td>3.20745</td>\n",
       "      <td>5.188425</td>\n",
       "      <td>12.1265</td>\n",
       "    </tr>\n",
       "    <tr>\n",
       "      <th>RAD</th>\n",
       "      <td>506.0</td>\n",
       "      <td>9.549407</td>\n",
       "      <td>8.707259</td>\n",
       "      <td>1.00000</td>\n",
       "      <td>4.000000</td>\n",
       "      <td>5.00000</td>\n",
       "      <td>24.000000</td>\n",
       "      <td>24.0000</td>\n",
       "    </tr>\n",
       "    <tr>\n",
       "      <th>TAX</th>\n",
       "      <td>506.0</td>\n",
       "      <td>408.237154</td>\n",
       "      <td>168.537116</td>\n",
       "      <td>187.00000</td>\n",
       "      <td>279.000000</td>\n",
       "      <td>330.00000</td>\n",
       "      <td>666.000000</td>\n",
       "      <td>711.0000</td>\n",
       "    </tr>\n",
       "    <tr>\n",
       "      <th>PTRATIO</th>\n",
       "      <td>506.0</td>\n",
       "      <td>18.455534</td>\n",
       "      <td>2.164946</td>\n",
       "      <td>12.60000</td>\n",
       "      <td>17.400000</td>\n",
       "      <td>19.05000</td>\n",
       "      <td>20.200000</td>\n",
       "      <td>22.0000</td>\n",
       "    </tr>\n",
       "    <tr>\n",
       "      <th>B</th>\n",
       "      <td>506.0</td>\n",
       "      <td>356.674032</td>\n",
       "      <td>91.294864</td>\n",
       "      <td>0.32000</td>\n",
       "      <td>375.377500</td>\n",
       "      <td>391.44000</td>\n",
       "      <td>396.225000</td>\n",
       "      <td>396.9000</td>\n",
       "    </tr>\n",
       "    <tr>\n",
       "      <th>LSTAT</th>\n",
       "      <td>506.0</td>\n",
       "      <td>12.653063</td>\n",
       "      <td>7.141062</td>\n",
       "      <td>1.73000</td>\n",
       "      <td>6.950000</td>\n",
       "      <td>11.36000</td>\n",
       "      <td>16.955000</td>\n",
       "      <td>37.9700</td>\n",
       "    </tr>\n",
       "    <tr>\n",
       "      <th>PRICE</th>\n",
       "      <td>506.0</td>\n",
       "      <td>22.532806</td>\n",
       "      <td>9.197104</td>\n",
       "      <td>5.00000</td>\n",
       "      <td>17.025000</td>\n",
       "      <td>21.20000</td>\n",
       "      <td>25.000000</td>\n",
       "      <td>50.0000</td>\n",
       "    </tr>\n",
       "  </tbody>\n",
       "</table>\n",
       "</div>"
      ],
      "text/plain": [
       "         count        mean         std        min         25%        50%  \\\n",
       "CRIM     506.0    3.613524    8.601545    0.00632    0.082045    0.25651   \n",
       "ZN       506.0   11.363636   23.322453    0.00000    0.000000    0.00000   \n",
       "INDUS    506.0   11.136779    6.860353    0.46000    5.190000    9.69000   \n",
       "CHAS     506.0    0.069170    0.253994    0.00000    0.000000    0.00000   \n",
       "NOX      506.0    0.554695    0.115878    0.38500    0.449000    0.53800   \n",
       "RM       506.0    6.284634    0.702617    3.56100    5.885500    6.20850   \n",
       "AGE      506.0   68.574901   28.148861    2.90000   45.025000   77.50000   \n",
       "DIS      506.0    3.795043    2.105710    1.12960    2.100175    3.20745   \n",
       "RAD      506.0    9.549407    8.707259    1.00000    4.000000    5.00000   \n",
       "TAX      506.0  408.237154  168.537116  187.00000  279.000000  330.00000   \n",
       "PTRATIO  506.0   18.455534    2.164946   12.60000   17.400000   19.05000   \n",
       "B        506.0  356.674032   91.294864    0.32000  375.377500  391.44000   \n",
       "LSTAT    506.0   12.653063    7.141062    1.73000    6.950000   11.36000   \n",
       "PRICE    506.0   22.532806    9.197104    5.00000   17.025000   21.20000   \n",
       "\n",
       "                75%       max  \n",
       "CRIM       3.677083   88.9762  \n",
       "ZN        12.500000  100.0000  \n",
       "INDUS     18.100000   27.7400  \n",
       "CHAS       0.000000    1.0000  \n",
       "NOX        0.624000    0.8710  \n",
       "RM         6.623500    8.7800  \n",
       "AGE       94.075000  100.0000  \n",
       "DIS        5.188425   12.1265  \n",
       "RAD       24.000000   24.0000  \n",
       "TAX      666.000000  711.0000  \n",
       "PTRATIO   20.200000   22.0000  \n",
       "B        396.225000  396.9000  \n",
       "LSTAT     16.955000   37.9700  \n",
       "PRICE     25.000000   50.0000  "
      ]
     },
     "execution_count": 9,
     "metadata": {},
     "output_type": "execute_result"
    }
   ],
   "source": [
    "#Table with summary statistics of the dataset\n",
    "\n",
    "bos.describe().T"
   ]
  },
  {
   "cell_type": "markdown",
   "metadata": {},
   "source": [
    "**HISTOGRAMS OF HOUSE PRICE VARIABLES**"
   ]
  },
  {
   "cell_type": "code",
   "execution_count": 10,
   "metadata": {},
   "outputs": [
    {
     "data": {
      "image/png": "[encoded data removed]",
      "text/plain": [
       "<Figure size 1440x1080 with 16 Axes>"
      ]
     },
     "metadata": {
      "needs_background": "light"
     },
     "output_type": "display_data"
    }
   ],
   "source": [
    "#Histograms of House Price Variables using matplotlib\n",
    "bos.hist(bins=50, figsize=(20,15))\n",
    "plt.show()"
   ]
  },
  {
   "cell_type": "markdown",
   "metadata": {},
   "source": [
    "### Selected Observations from the Summary Stats Table\n",
    "___\n",
    "\n",
    "* **The target variable - 'PRICE' has a range of $5000 - $50000 with a mean of $22,532 which is a significant variation in house prices across the city.**\n",
    "\n",
    "\n",
    "* The 'CHAS' variable - proximity to the Charles River is logisitic in nature (i.e. 1 or 0)\n",
    "\n",
    "\n",
    "* Per Capita crime rate varies significantly across the city from 0.00632 to 88.9762"
   ]
  },
  {
   "cell_type": "markdown",
   "metadata": {},
   "source": [
    "### Distribution of Prices Data\n",
    "___"
   ]
  },
  {
   "cell_type": "code",
   "execution_count": 11,
   "metadata": {},
   "outputs": [],
   "source": [
    "#Set the target variable to y\n",
    "\n",
    "y = bos['PRICE']*1000"
   ]
  },
  {
   "cell_type": "code",
   "execution_count": 12,
   "metadata": {},
   "outputs": [
    {
     "data": {
      "image/png": "[encoded data removed]",
      "text/plain": [
       "<Figure size 864x864 with 1 Axes>"
      ]
     },
     "metadata": {},
     "output_type": "display_data"
    }
   ],
   "source": [
    "#Use the Seaborn library to display the distribution of house prices\n",
    "sns.set_style(\"darkgrid\")\n",
    "plt.figure(figsize=(12, 12))\n",
    "plt.title('House Prices Distribution', size=20)\n",
    "ax = sns.distplot(y)"
   ]
  },
  {
   "cell_type": "markdown",
   "metadata": {},
   "source": [
    "The plot above which displays the distribution of house prices in the dataset 'appears' to follow a **normal distribution.**\n",
    "\n",
    "**Some other observations**\n",
    "\n",
    "* The highest distribution is centred approximately around the mean ($20,000)\n",
    "\n",
    "* There are a notably high number of houses around the max ($50,000)\n",
    "\n",
    "Although the prices 'look' like they follow a normal distribution i.e. a bell-curve or gaussian distribution, it would be prudent to definitively determine the distribution as the distribution of the data will determine what inferential statistical analysis should be carried out.- **we will next carry out a test for normality.**"
   ]
  },
  {
   "cell_type": "markdown",
   "metadata": {},
   "source": [
    "**Shapiro-Wilk Test for Normality**\n",
    "\n",
    "The Shapiro-Wilk test tests the null hypothesis $H_0$ that the sample comes from the normal distribution. Therefore at a significance level of 0.05 a $p$ < 0.05 indicates non-normality\n",
    "Ref[http://www.bios.unc.edu/~mhudgens/bios/662/2008fall/Backup/wilkshapiro1965.pdf]"
   ]
  },
  {
   "cell_type": "code",
   "execution_count": 13,
   "metadata": {},
   "outputs": [
    {
     "name": "stdout",
     "output_type": "stream",
     "text": [
      "Test Statistic=0.917, p=0.0000\n"
     ]
    }
   ],
   "source": [
    "from scipy.stats import shapiro #import the Shapiro-Wilks function\n",
    "\n",
    "shapiro_test = shapiro(y) #run the Shapiro Wilks tets on the house price data\n",
    "\n",
    "stat, p = shapiro_test\n",
    "print('Test Statistic=%.3f, p=%.4f' % (stat, p))"
   ]
  },
  {
   "cell_type": "markdown",
   "metadata": {},
   "source": [
    "The Shapiro-Wilk test above *rejects* the null hypothesis since the *p* value is less than 0.05, therefore the data for 'PRICE' is not normally distributed. In addition the test statistic is 0.917 which indicates that this result is likely valid and not a type 1 error. Further visualisation may be carried out using a **Q-Q plot**\n",
    "\n",
    "A Q-Q plot plots quantiles (values that split a data set into equal portions of the data) against the theoretical quantiles of a normal distribution. \n",
    "\n",
    "Ref[https://www.ncbi.nlm.nih.gov/pmc/articles/PMC3693611/?source=post_page-----6bf06ed646a9----------------------]"
   ]
  },
  {
   "cell_type": "code",
   "execution_count": 14,
   "metadata": {},
   "outputs": [
    {
     "data": {
      "image/png": "[encoded data removed]",
      "text/plain": [
       "<Figure size 432x288 with 1 Axes>"
      ]
     },
     "execution_count": 14,
     "metadata": {},
     "output_type": "execute_result"
    },
    {
     "data": {
      "image/png": "[encoded data removed]",
      "text/plain": [
       "<Figure size 432x288 with 1 Axes>"
      ]
     },
     "metadata": {},
     "output_type": "display_data"
    }
   ],
   "source": [
    "sm.qqplot(y, line='s') #generate a q-q plot of the house price data"
   ]
  },
  {
   "cell_type": "markdown",
   "metadata": {},
   "source": [
    "Investigating possible reasons for the non-normality of the 'PRICES' data and specifically what, if any effects are causing the skew of data towards higher value houses may be worthwhile."
   ]
  },
  {
   "cell_type": "markdown",
   "metadata": {},
   "source": [
    "### Relationships Between Variables\n",
    "___\n",
    "\n",
    "A correlation heatmap is a useful way to quickly visualise the relationships between variables and determine which variables are highly correlated and worth further investigation.\n",
    "\n",
    "Ref [https://seaborn.pydata.org/generated/seaborn.heatmap.html]\n"
   ]
  },
  {
   "cell_type": "markdown",
   "metadata": {},
   "source": [
    "**CORRELATIONS**"
   ]
  },
  {
   "cell_type": "code",
   "execution_count": 15,
   "metadata": {},
   "outputs": [
    {
     "data": {
      "text/plain": [
       "PRICE      1.000000\n",
       "RM         0.695360\n",
       "ZN         0.360445\n",
       "B          0.333461\n",
       "DIS        0.249929\n",
       "CHAS       0.175260\n",
       "AGE       -0.376955\n",
       "RAD       -0.381626\n",
       "CRIM      -0.388305\n",
       "NOX       -0.427321\n",
       "TAX       -0.468536\n",
       "INDUS     -0.483725\n",
       "PTRATIO   -0.507787\n",
       "LSTAT     -0.737663\n",
       "Name: PRICE, dtype: float64"
      ]
     },
     "execution_count": 15,
     "metadata": {},
     "output_type": "execute_result"
    }
   ],
   "source": [
    "corr_matrix = bos.corr()\n",
    "corr_matrix['PRICE'].sort_values(ascending=False)\n"
   ]
  },
  {
   "cell_type": "code",
   "execution_count": 16,
   "metadata": {},
   "outputs": [
    {
     "data": {
      "image/png": "[encoded data removed]",
      "text/plain": [
       "<Figure size 1080x1080 with 2 Axes>"
      ]
     },
     "metadata": {},
     "output_type": "display_data"
    }
   ],
   "source": [
    "plt.figure(figsize=(15, 15)) #sets the parameters for the figure size \n",
    "ax = sns.heatmap(bos.corr(), cmap=sns.cubehelix_palette(as_cmap=True), linewidths=0.5) #generates heatmap, colour scheme and linewidth\n",
    "ax.xaxis.tick_top() #sets the axis to the top of the chart for easier reading"
   ]
  },
  {
   "cell_type": "markdown",
   "metadata": {},
   "source": [
    "The above correlation matrix highlights some interesting relationships between the target variable, PRICE and other variables:\n",
    "\n",
    "* There is a high positive correlation between PRICE and RM - (Average number of rooms per dwelling)\n",
    "\n",
    "* There is a positive correlation between PRICE and ZN - (proportion of residential land zoned for lots over 25,000 sq.ft.)\n",
    "\n",
    "* There is a negative correlation between PRICE and LSTAT - (% lower status of the population)\n",
    "\n",
    "* There is a negative correlation between PRICE and PTRATIO - (pupil-teacher ratio by town)\n",
    "\n",
    "The correlation matrix is only relevant to variables where there is a integer value. The Charles river variable is logistic in nature (i.e. 1 or 0) so is not relevant to this analysis."
   ]
  },
  {
   "cell_type": "markdown",
   "metadata": {},
   "source": [
    "## INFERENTIAL STATISTICS"
   ]
  },
  {
   "cell_type": "markdown",
   "metadata": {},
   "source": [
    "We will now use inferential statistics to analyse the relationship between the median house prices 'PRICE' ('MEDV'in the original dataset) and whether or not the houses border the Charles river 'CHAS'"
   ]
  },
  {
   "cell_type": "code",
   "execution_count": 17,
   "metadata": {},
   "outputs": [],
   "source": [
    "# Split the data into house proces which border the River and those who dont\n",
    "    \n",
    "River = bos.loc[bos['CHAS'] != 0]\n",
    "Not_River = bos.loc[bos['CHAS'] != 1]"
   ]
  },
  {
   "cell_type": "code",
   "execution_count": 18,
   "metadata": {},
   "outputs": [],
   "source": [
    "#Create 2 Arrays of Prices along River and not along river\n",
    "\n",
    "River_Price = River['PRICE']\n",
    "Not_River_Price = Not_River['PRICE']"
   ]
  },
  {
   "cell_type": "code",
   "execution_count": 19,
   "metadata": {},
   "outputs": [
    {
     "data": {
      "text/plain": [
       "count    35.000000\n",
       "mean     28.440000\n",
       "std      11.816643\n",
       "min      13.400000\n",
       "25%      21.100000\n",
       "50%      23.300000\n",
       "75%      33.150000\n",
       "max      50.000000\n",
       "Name: PRICE, dtype: float64"
      ]
     },
     "execution_count": 19,
     "metadata": {},
     "output_type": "execute_result"
    }
   ],
   "source": [
    "#Summary statistics for house prices bordering river\n",
    "River_Price.describe().T\n"
   ]
  },
  {
   "cell_type": "code",
   "execution_count": 20,
   "metadata": {},
   "outputs": [
    {
     "data": {
      "text/plain": [
       "count    471.000000\n",
       "mean      22.093843\n",
       "std        8.831362\n",
       "min        5.000000\n",
       "25%       16.600000\n",
       "50%       20.900000\n",
       "75%       24.800000\n",
       "max       50.000000\n",
       "Name: PRICE, dtype: float64"
      ]
     },
     "execution_count": 20,
     "metadata": {},
     "output_type": "execute_result"
    }
   ],
   "source": [
    "#Summary statistics for house prices not bordering river\n",
    "Not_River_Price.describe().T"
   ]
  },
  {
   "cell_type": "markdown",
   "metadata": {},
   "source": [
    "I can be seen above that in simple terms, the mean house price of houses bordering the river is 28,440 dollars whereas the mean house price of houses not bordering the river is 22,093 dollars.\n",
    "\n",
    "We will take a further look at how both sets of prices are distributed, using boxplots"
   ]
  },
  {
   "cell_type": "markdown",
   "metadata": {},
   "source": [
    "### BOX PLOTS OF HOUSE PRICES BORDERING/NOT BORDERING RIVER"
   ]
  },
  {
   "cell_type": "code",
   "execution_count": 21,
   "metadata": {},
   "outputs": [
    {
     "data": {
      "text/plain": [
       "Text(0.5,1,'House Prices Not Bordering River and Bordering River')"
      ]
     },
     "execution_count": 21,
     "metadata": {},
     "output_type": "execute_result"
    },
    {
     "data": {
      "image/png": "[encoded data removed]",
      "text/plain": [
       "<Figure size 1080x1080 with 1 Axes>"
      ]
     },
     "metadata": {},
     "output_type": "display_data"
    }
   ],
   "source": [
    "plt.figure(figsize=(15, 15))\n",
    "red_circle = dict(markerfacecolor='r', marker='o')\n",
    "sns.set(font_scale=1.2)\n",
    "ax=sns.boxplot(x=\"CHAS\", y=\"PRICE\",data=bos, linewidth=2.0, flierprops=red_circle, showmeans=True , meanline=True, meanprops = dict(linestyle='--', linewidth=2.5, color='purple'))\n",
    "ax.set_title('House Prices Not Bordering River and Bordering River', size=20)\n"
   ]
  },
  {
   "cell_type": "markdown",
   "metadata": {},
   "source": [
    "The boxplots of the median house price for houses bordering the river (CHAS=1) and those not bordering the river (CHAS=0) appear quite different, suggesting that it may be worth investigating if this difference is statistically significant.\n",
    "* The array containing houses not bordering the river has a number of outliers at the upper end\n",
    "* The array containing houses bordering the river has a mean which is higher than those not bordering the river (**purple dashed line in boxplot**). Additionally, the mean of house prices bordering the river is significantly higher than the median compared to the house prices of those not bordering the river."
   ]
  },
  {
   "cell_type": "markdown",
   "metadata": {},
   "source": [
    "### DISTRIBUTION PLOTS OF HOUSE PRICES BORDERING/NOT BORDERING RIVER"
   ]
  },
  {
   "cell_type": "code",
   "execution_count": 22,
   "metadata": {},
   "outputs": [
    {
     "data": {
      "image/png": "[encoded data removed]",
      "text/plain": [
       "<Figure size 864x864 with 1 Axes>"
      ]
     },
     "metadata": {},
     "output_type": "display_data"
    }
   ],
   "source": [
    "sns.set_style(\"darkgrid\")\n",
    "plt.figure(figsize=(12, 12))\n",
    "ax1 = sns.distplot(River_Price)\n",
    "ax2 = sns.distplot(Not_River_Price)"
   ]
  },
  {
   "cell_type": "markdown",
   "metadata": {},
   "source": [
    "The distribution plots of house prices bordering/not bordering the river don't highlight the differences in the two datasets as well as the boxplots do, but the distributions illustrate how both distributions have a similar shape"
   ]
  },
  {
   "cell_type": "markdown",
   "metadata": {},
   "source": [
    "### NORMALITY CHECK ON HOUSE PRICES BORDERING/NOT BORDERING RIVER"
   ]
  },
  {
   "cell_type": "code",
   "execution_count": 23,
   "metadata": {},
   "outputs": [
    {
     "name": "stdout",
     "output_type": "stream",
     "text": [
      "Test Statistic : Not Bordering River =0.928, p=0.0000\n",
      "Test Statistic : Bordering River =0.836, p=0.0001\n"
     ]
    }
   ],
   "source": [
    "#Check the two house price data sets for normality using the Shapiro-Wilks test\n",
    "\n",
    "shapiro_test1 = shapiro(Not_River_Price) \n",
    "shapiro_test2 = shapiro(River_Price) \n",
    "\n",
    "stat1, p1 = shapiro_test1\n",
    "stat2, p2 = shapiro_test2\n",
    "print('Test Statistic : Not Bordering River =%.3f, p=%.4f' % (stat1, p1))\n",
    "print('Test Statistic : Bordering River =%.3f, p=%.4f' % (stat2, p2))"
   ]
  },
  {
   "cell_type": "markdown",
   "metadata": {},
   "source": [
    "The normality test of the house prices bordering/not bordering the river both suggest that we can reject the null hypothesis, $H_0$, and accept the alternative hypothesis, $H_1$, the two sets are non-normal\n",
    "\n",
    "**Although the data displays non-normality, (and the presence of outliers) - parametric tests of the house prices are still suitable due to the large sample sizes we have** \n",
    "\n",
    "REF [https://blog.minitab.com/blog/understanding-statistics/data-not-normal-try-letting-it-be-with-a-nonparametric-hypothesis-test]\n",
    "\n",
    "This is also a satisfactory approach since the **Central Limit Theorem** states that given a sufficiently large sample size from a population (usually more than 30) with a finite level of variance, the mean of all samples from the same population will be approximately equal to the mean of the population.\n",
    "\n",
    "**CENTRAL LIMIT THEOREM**\n",
    "\n",
    "If X1, X2,...Xn is a random sample of size n taken from a population (either finite\n",
    "or infinite) with mean $u$ and finite variance $\\sigma^2$ , and if $\\bar X$ is the sample mean, the limiting\n",
    "form of the distribution of\n",
    "\n",
    "$Z$ = $\\frac{\\bar X - u} {\\frac{\\sigma}{\\sqrt n}}$\n",
    "\n",
    "\n",
    "as n -->0, is the standard normal distribution.\n",
    "\n",
    "REF[Applied Statistics and Probability for Engineers.; Montgomery,D.C.; Wiley; 2003]"
   ]
  },
  {
   "cell_type": "markdown",
   "metadata": {},
   "source": [
    "### PAIRED T-TEST"
   ]
  },
  {
   "cell_type": "code",
   "execution_count": 24,
   "metadata": {},
   "outputs": [
    {
     "name": "stdout",
     "output_type": "stream",
     "text": [
      "Test Statistic = -3.996, p=0.0001\n"
     ]
    }
   ],
   "source": [
    "#Carry out a paired t-test on the house prices bordering/not bordering the river\n",
    "\n",
    "stats.ttest_ind(Not_River_Price, River_Price)\n",
    "\n",
    "stat, p = stats.ttest_ind(Not_River_Price, River_Price)\n",
    "print('Test Statistic = %.3f, p=%.4f' % (stat, p))\n",
    "\n",
    "# REF [https://docs.scipy.org/doc/scipy/reference/generated/scipy.stats.ttest_ind.html]"
   ]
  },
  {
   "cell_type": "markdown",
   "metadata": {},
   "source": [
    "A Test Statistic of -3.996 and  $p$ value of p=0.0001 suggest that we can reject the null hypothesis of equal means.\n",
    "\n",
    "Therefore we can conclude that there is a difference in the mean house price between houses bordering the Charles River and those not bordering the Charles River"
   ]
  },
  {
   "cell_type": "markdown",
   "metadata": {},
   "source": [
    "the following analysis was used as the basis for our investigation of descriptive and inferential statistics:\n",
    "\n",
    "REF: [https://subscription.packtpub.com/book/programming/9781789804744/1/ch01lvl1sec11/our-first-analysis-the-boston-housing-dataset]"
   ]
  },
  {
   "cell_type": "markdown",
   "metadata": {},
   "source": [
    "#  PREDICT \n",
    "\n"
   ]
  },
  {
   "cell_type": "markdown",
   "metadata": {},
   "source": [
    "## NEURAL NETWORK USING KERAS\n",
    "\n",
    "In this section we will attempt to predict the house prices based on other variables using the Keras Neural Network library\n",
    "\n",
    "REF [https://keras.io/]"
   ]
  },
  {
   "cell_type": "markdown",
   "metadata": {},
   "source": [
    "`BatchNormalization` is added as a means of gettig all the attributes on the same scale: This is important in datasets where the input variables vary greatly in scale. Stan"
   ]
  },
  {
   "cell_type": "code",
   "execution_count": null,
   "metadata": {},
   "outputs": [],
   "source": []
  },
  {
   "cell_type": "code",
   "execution_count": 25,
   "metadata": {},
   "outputs": [
    {
     "name": "stdout",
     "output_type": "stream",
     "text": [
      "Model: \"sequential_1\"\n",
      "_________________________________________________________________\n",
      "Layer (type)                 Output Shape              Param #   \n",
      "=================================================================\n",
      "dense_1 (Dense)              (None, 5)                 25        \n",
      "_________________________________________________________________\n",
      "dense_2 (Dense)              (None, 5)                 30        \n",
      "_________________________________________________________________\n",
      "dense_3 (Dense)              (None, 5)                 30        \n",
      "_________________________________________________________________\n",
      "dense_4 (Dense)              (None, 1)                 6         \n",
      "=================================================================\n",
      "Total params: 91\n",
      "Trainable params: 91\n",
      "Non-trainable params: 0\n",
      "_________________________________________________________________\n"
     ]
    }
   ],
   "source": [
    "#Import relevant Keras libraries\n",
    "\n",
    "#import the sequential model\n",
    "from keras.models import Sequential\n",
    "from keras.models import Model\n",
    "\n",
    "from keras import optimizers \n",
    "\n",
    "#import the relevent layer types and activation\n",
    "from keras.layers import Dense, Activation\n",
    "# For encoding categorical variables.\n",
    "import sklearn.preprocessing as pre\n",
    "\n",
    "# For splitting into training and test sets.\n",
    "import sklearn.model_selection as mod\n",
    "\n",
    "#Create a new sequential model\n",
    "model = Sequential()\n",
    "\n",
    "\n",
    "#Introduce regularisation\n",
    "\n",
    "model.add(Dense(5, input_shape=(4,), activation=\"relu\",kernel_regularizer=regularizers.l2(0.01), activity_regularizer=regularizers.l1(0.01)))\n",
    "\n",
    "kr.layers.BatchNormalization()\n",
    "\n",
    "model.add(Dense(5, activation=\"relu\"))\n",
    "\n",
    "kr.layers.BatchNormalization()\n",
    "\n",
    "model.add(Dense(5, activation=\"relu\"))\n",
    "\n",
    "model.add(Dense(1))\n",
    "\n",
    "model.summary()"
   ]
  },
  {
   "cell_type": "markdown",
   "metadata": {},
   "source": [
    "**BUILD THE MODEL**\n",
    "\n",
    "We will experiment with 1 input layer with 13 neurons, 1 hidden layer with 6 neurons and 1 output layer. The input shape is the number of variables i.e. 13. The activation function is `relu` - Rectified Linear Unit. This activation function normalises the inputs."
   ]
  },
  {
   "cell_type": "code",
   "execution_count": 26,
   "metadata": {},
   "outputs": [],
   "source": [
    "#Set the x and y parameters for independent and dependent variables\n",
    "\n",
    "x = bos[['ZN','RM', 'PTRATIO', 'LSTAT']]\n",
    "y = bos[['PRICE']]\n",
    "\n",
    "#drop some parameters to try and simplify the model\n",
    "\n",
    "#x = bos[['CRIM', 'INDUS', 'ZN', 'CHAS', 'NOX', 'RM', 'AGE', 'DIS', 'RAD', 'TAX', 'PTRATIO', 'LSTAT', 'TAX']]\n"
   ]
  },
  {
   "cell_type": "markdown",
   "metadata": {},
   "source": [
    "**COMPILE THE MODEL**\n",
    "\n",
    "Gradient descent is an optimisation algorithm which works by changing parameters of the input functions such as weights until the loss function converges on a minimum.\n",
    "\n",
    "The model is compiled using a Stochastic Gradient Descent optimiser `sgd` and the loss function used here is Mean Square Error `mse`\n",
    "\n",
    "* **Stochastic Gradient Descent optimiser**, as the name suggests picks a random instance in the training set and computes the gradient based only on that instance. This is in contrast to 'Batch gradient descent which uses the entire dataset to calculate the gradients which is slow (for a large dataset). Due to its random nature, the cost function for stochastic gradient descent will increase and decrease, over time approaching its minimum.\n",
    "  \n",
    "\n",
    "* **Mean Square Error** is a useful loss function for regression problems where a value is predicted from continuous variables.\n",
    " \n",
    "    REF [Applied Deep Learning with Python By Alex Galea, Luis Capelo August 2018]\n",
    "    \n",
    "    REF [Hands-On Machine Learning with Scikit-Learn, KERAS & TensorFlow; Geron, A.; O'Reilly; 2019, 2nd Ed]"
   ]
  },
  {
   "cell_type": "markdown",
   "metadata": {},
   "source": [
    "**Attempt to adjust learning rate to get better cost value**"
   ]
  },
  {
   "cell_type": "code",
   "execution_count": 27,
   "metadata": {},
   "outputs": [],
   "source": [
    "#compile the model specifying the model optimiser and loss function\n",
    "\n",
    "# Optimizers Tried\n",
    "sgd = optimizers.SGD(lr=0.001, clipnorm=1.0)\n",
    "Adam = kr.optimizers.Adam(learning_rate=0.001, beta_1=0.9, beta_2=0.999, amsgrad=False)\n",
    "RMSprop = kr.optimizers.RMSprop(learning_rate=0.001, rho=0.9)\n",
    "Adagrad = kr.optimizers.Adagrad(learning_rate=0.01)\n",
    "Adadelta = kr.optimizers.Adadelta(learning_rate=1.0, rho=0.95)\n",
    "Adamax = kr.optimizers.Adamax(learning_rate=0.002, beta_1=0.9, beta_2=0.999)\n",
    "Nadam = kr.optimizers.Nadam(learning_rate=0.002, beta_1=0.9, beta_2=0.999)\n",
    "\n",
    "#loss Functions tried\n",
    "#model.compile(optimizer=\"Adam\", loss =\"mean_squared_error\")\n",
    "#model.compile(optimizer=\"Adam\", loss =\"mean_absolute_error\")\n",
    "#model.compile(optimizer=\"Adam\", loss =\"mean_absolute_percentage_error\")\n",
    "#model.compile(optimizer=\"Adam\", loss =\"mean_squared_logarithmic_error\")\n",
    "#model.compile(optimizer=\"Adam\", loss =\"hinge\")\n",
    "#model.compile(optimizer=\"Adam\", loss =\"log_cosh\")\n",
    "#model.compile(optimizer=\"Adam\", loss =\"huber_loss\")\n",
    "\n",
    "#changed to 'Adam' optimiser, loss mean_absolute_error\n",
    "model.compile(optimizer=\"Adam\", loss =\"mean_absolute_error\")"
   ]
  },
  {
   "cell_type": "markdown",
   "metadata": {},
   "source": [
    "**CREATE A TRAINING AND TESTING SET**\n",
    "\n",
    "Like all regression problems it is necessary to create a training `x_train` , `y_train` and testing set `x_test`, `y_test` with which to train the model to create predictions of our output variable and a testing set to test the accuracy of the predictive model we have created.\n",
    "\n",
    "We have specified a `test_size` of 0.5 i.e. half the data will be used to test the model."
   ]
  },
  {
   "cell_type": "code",
   "execution_count": 28,
   "metadata": {},
   "outputs": [],
   "source": [
    "# Define our training set: size of the test set is 0.2 i.e. 20% of the dataset\n",
    "\n",
    "x_train, x_test, y_train, y_test = mod.train_test_split(x, y, test_size=0.2, random_state = 42)"
   ]
  },
  {
   "cell_type": "markdown",
   "metadata": {},
   "source": [
    "`model.fit` Trains the model over a fixed number of epochs\n",
    "\n",
    "**epochs**: are the number of epochs to train the model. An epoch is an iteration over the entire x and y data provided. \n",
    "\n",
    "REF[https://keras.io/models/model/]"
   ]
  },
  {
   "cell_type": "markdown",
   "metadata": {},
   "source": [
    "`EarlyStopping` stops the model when it doesnt improve the cost function after a specified number of epochs of same loss value. `patience` defines the number of epochs of same loss value before stopping\n",
    "\n",
    "REF [https://towardsdatascience.com/building-a-deep-learning-model-using-keras-1548ca149d37]\n",
    "\n",
    "validation model also added\n",
    "#TBD - Discuss validation"
   ]
  },
  {
   "cell_type": "markdown",
   "metadata": {},
   "source": [
    "**GRADIENT DESCENT**\n",
    "\n"
   ]
  },
  {
   "cell_type": "code",
   "execution_count": 29,
   "metadata": {},
   "outputs": [
    {
     "name": "stdout",
     "output_type": "stream",
     "text": [
      "Train on 323 samples, validate on 81 samples\n",
      "Epoch 1/1000\n",
      "323/323 [==============================] - 0s 333us/step - loss: 41.7402 - val_loss: 37.5921\n",
      "Epoch 2/1000\n",
      "323/323 [==============================] - 0s 34us/step - loss: 40.6277 - val_loss: 36.5602\n",
      "Epoch 3/1000\n",
      "323/323 [==============================] - 0s 37us/step - loss: 39.4691 - val_loss: 35.5484\n",
      "Epoch 4/1000\n",
      "323/323 [==============================] - 0s 40us/step - loss: 38.4233 - val_loss: 34.5643\n",
      "Epoch 5/1000\n",
      "323/323 [==============================] - 0s 43us/step - loss: 37.4446 - val_loss: 33.6156\n",
      "Epoch 6/1000\n",
      "323/323 [==============================] - 0s 46us/step - loss: 36.4826 - val_loss: 32.7750\n",
      "Epoch 7/1000\n",
      "323/323 [==============================] - 0s 49us/step - loss: 35.5145 - val_loss: 32.0692\n",
      "Epoch 8/1000\n",
      "323/323 [==============================] - 0s 52us/step - loss: 34.7762 - val_loss: 31.3802\n",
      "Epoch 9/1000\n",
      "323/323 [==============================] - 0s 46us/step - loss: 34.1000 - val_loss: 30.6953\n",
      "Epoch 10/1000\n",
      "323/323 [==============================] - 0s 49us/step - loss: 33.3323 - val_loss: 30.0124\n",
      "Epoch 11/1000\n",
      "323/323 [==============================] - 0s 52us/step - loss: 32.5682 - val_loss: 29.3246\n",
      "Epoch 12/1000\n",
      "323/323 [==============================] - 0s 49us/step - loss: 31.8123 - val_loss: 28.6508\n",
      "Epoch 13/1000\n",
      "323/323 [==============================] - 0s 53us/step - loss: 31.0668 - val_loss: 27.9740\n",
      "Epoch 14/1000\n",
      "323/323 [==============================] - 0s 52us/step - loss: 30.2353 - val_loss: 27.2911\n",
      "Epoch 15/1000\n",
      "323/323 [==============================] - 0s 43us/step - loss: 29.5502 - val_loss: 26.5726\n",
      "Epoch 16/1000\n",
      "323/323 [==============================] - 0s 46us/step - loss: 28.6977 - val_loss: 25.6380\n",
      "Epoch 17/1000\n",
      "323/323 [==============================] - 0s 49us/step - loss: 27.5786 - val_loss: 24.4175\n",
      "Epoch 18/1000\n",
      "323/323 [==============================] - 0s 52us/step - loss: 26.2634 - val_loss: 23.1174\n",
      "Epoch 19/1000\n",
      "323/323 [==============================] - 0s 49us/step - loss: 24.9312 - val_loss: 21.6350\n",
      "Epoch 20/1000\n",
      "323/323 [==============================] - 0s 49us/step - loss: 23.5262 - val_loss: 20.2007\n",
      "Epoch 21/1000\n",
      "323/323 [==============================] - 0s 46us/step - loss: 22.3305 - val_loss: 19.0289\n",
      "Epoch 22/1000\n",
      "323/323 [==============================] - 0s 46us/step - loss: 21.4514 - val_loss: 18.2681\n",
      "Epoch 23/1000\n",
      "323/323 [==============================] - 0s 46us/step - loss: 20.6821 - val_loss: 17.6453\n",
      "Epoch 24/1000\n",
      "323/323 [==============================] - 0s 49us/step - loss: 20.0539 - val_loss: 17.0999\n",
      "Epoch 25/1000\n",
      "323/323 [==============================] - 0s 49us/step - loss: 19.4682 - val_loss: 16.6513\n",
      "Epoch 26/1000\n",
      "323/323 [==============================] - 0s 49us/step - loss: 19.0138 - val_loss: 16.2556\n",
      "Epoch 27/1000\n",
      "323/323 [==============================] - 0s 49us/step - loss: 18.5196 - val_loss: 15.8592\n",
      "Epoch 28/1000\n",
      "323/323 [==============================] - 0s 49us/step - loss: 17.9565 - val_loss: 15.4241\n",
      "Epoch 29/1000\n",
      "323/323 [==============================] - 0s 43us/step - loss: 17.4722 - val_loss: 14.9946\n",
      "Epoch 30/1000\n",
      "323/323 [==============================] - 0s 49us/step - loss: 16.9910 - val_loss: 14.5302\n",
      "Epoch 31/1000\n",
      "323/323 [==============================] - 0s 56us/step - loss: 16.4865 - val_loss: 14.0404\n",
      "Epoch 32/1000\n",
      "323/323 [==============================] - 0s 56us/step - loss: 15.9099 - val_loss: 13.5042\n",
      "Epoch 33/1000\n",
      "323/323 [==============================] - ETA: 0s - loss: 17.22 - 0s 43us/step - loss: 15.3314 - val_loss: 12.9552\n",
      "Epoch 34/1000\n",
      "323/323 [==============================] - 0s 43us/step - loss: 14.7040 - val_loss: 12.4072\n",
      "Epoch 35/1000\n",
      "323/323 [==============================] - 0s 40us/step - loss: 14.1643 - val_loss: 11.9117\n",
      "Epoch 36/1000\n",
      "323/323 [==============================] - 0s 43us/step - loss: 13.7481 - val_loss: 11.4320\n",
      "Epoch 37/1000\n",
      "323/323 [==============================] - 0s 46us/step - loss: 13.3929 - val_loss: 11.0583\n",
      "Epoch 38/1000\n",
      "323/323 [==============================] - 0s 37us/step - loss: 13.0470 - val_loss: 10.7435\n",
      "Epoch 39/1000\n",
      "323/323 [==============================] - 0s 46us/step - loss: 12.7279 - val_loss: 10.4714\n",
      "Epoch 40/1000\n",
      "323/323 [==============================] - 0s 47us/step - loss: 12.4461 - val_loss: 10.2351\n",
      "Epoch 41/1000\n",
      "323/323 [==============================] - 0s 46us/step - loss: 12.1870 - val_loss: 10.0309\n",
      "Epoch 42/1000\n",
      "323/323 [==============================] - 0s 49us/step - loss: 11.9109 - val_loss: 9.8072\n",
      "Epoch 43/1000\n",
      "323/323 [==============================] - 0s 46us/step - loss: 11.6677 - val_loss: 9.5854\n",
      "Epoch 44/1000\n",
      "323/323 [==============================] - 0s 56us/step - loss: 11.4345 - val_loss: 9.4036\n",
      "Epoch 45/1000\n",
      "323/323 [==============================] - 0s 40us/step - loss: 11.1696 - val_loss: 9.2276\n",
      "Epoch 46/1000\n",
      "323/323 [==============================] - 0s 40us/step - loss: 10.9930 - val_loss: 9.0222\n",
      "Epoch 47/1000\n",
      "323/323 [==============================] - 0s 40us/step - loss: 10.7825 - val_loss: 8.8830\n",
      "Epoch 48/1000\n",
      "323/323 [==============================] - 0s 49us/step - loss: 10.5568 - val_loss: 8.7417\n",
      "Epoch 49/1000\n",
      "323/323 [==============================] - 0s 46us/step - loss: 10.3474 - val_loss: 8.6320\n",
      "Epoch 50/1000\n",
      "323/323 [==============================] - 0s 37us/step - loss: 10.1368 - val_loss: 8.5531\n",
      "Epoch 51/1000\n",
      "323/323 [==============================] - 0s 40us/step - loss: 9.9977 - val_loss: 8.3478\n",
      "Epoch 52/1000\n",
      "323/323 [==============================] - 0s 40us/step - loss: 9.8471 - val_loss: 8.2222\n",
      "Epoch 53/1000\n",
      "323/323 [==============================] - 0s 46us/step - loss: 9.6672 - val_loss: 8.1423\n",
      "Epoch 54/1000\n",
      "323/323 [==============================] - 0s 46us/step - loss: 9.5269 - val_loss: 8.0552\n",
      "Epoch 55/1000\n",
      "323/323 [==============================] - 0s 49us/step - loss: 9.3811 - val_loss: 7.9546\n",
      "Epoch 56/1000\n",
      "323/323 [==============================] - 0s 43us/step - loss: 9.2427 - val_loss: 7.8733\n",
      "Epoch 57/1000\n",
      "323/323 [==============================] - ETA: 0s - loss: 7.739 - 0s 34us/step - loss: 9.1214 - val_loss: 7.8083\n",
      "Epoch 58/1000\n",
      "323/323 [==============================] - 0s 37us/step - loss: 8.9984 - val_loss: 7.7318\n",
      "Epoch 59/1000\n",
      "323/323 [==============================] - 0s 34us/step - loss: 8.8940 - val_loss: 7.6484\n",
      "Epoch 60/1000\n",
      "323/323 [==============================] - 0s 40us/step - loss: 8.8019 - val_loss: 7.5863\n",
      "Epoch 61/1000\n",
      "323/323 [==============================] - 0s 31us/step - loss: 8.6805 - val_loss: 7.4784\n",
      "Epoch 62/1000\n",
      "323/323 [==============================] - 0s 34us/step - loss: 8.5865 - val_loss: 7.4161\n",
      "Epoch 63/1000\n",
      "323/323 [==============================] - 0s 35us/step - loss: 8.4933 - val_loss: 7.3420\n",
      "Epoch 64/1000\n",
      "323/323 [==============================] - 0s 40us/step - loss: 8.3774 - val_loss: 7.2684\n",
      "Epoch 65/1000\n",
      "323/323 [==============================] - 0s 37us/step - loss: 8.2596 - val_loss: 7.2329\n",
      "Epoch 66/1000\n",
      "323/323 [==============================] - 0s 31us/step - loss: 8.2040 - val_loss: 7.2175\n",
      "Epoch 67/1000\n",
      "323/323 [==============================] - 0s 34us/step - loss: 8.1285 - val_loss: 7.1065\n",
      "Epoch 68/1000\n",
      "323/323 [==============================] - 0s 40us/step - loss: 7.9954 - val_loss: 7.1233\n",
      "Epoch 69/1000\n",
      "323/323 [==============================] - 0s 43us/step - loss: 7.9049 - val_loss: 7.0364\n",
      "Epoch 70/1000\n",
      "323/323 [==============================] - 0s 34us/step - loss: 7.8265 - val_loss: 6.9475\n",
      "Epoch 71/1000\n",
      "323/323 [==============================] - 0s 34us/step - loss: 7.7404 - val_loss: 6.9189\n",
      "Epoch 72/1000\n",
      "323/323 [==============================] - 0s 37us/step - loss: 7.6841 - val_loss: 6.9176\n",
      "Epoch 73/1000\n",
      "323/323 [==============================] - 0s 37us/step - loss: 7.6149 - val_loss: 6.8295\n",
      "Epoch 74/1000\n",
      "323/323 [==============================] - 0s 34us/step - loss: 7.5736 - val_loss: 6.7655\n",
      "Epoch 75/1000\n",
      "323/323 [==============================] - 0s 34us/step - loss: 7.5301 - val_loss: 6.7226\n",
      "Epoch 76/1000\n",
      "323/323 [==============================] - 0s 34us/step - loss: 7.4872 - val_loss: 6.6761\n",
      "Epoch 77/1000\n",
      "323/323 [==============================] - 0s 37us/step - loss: 7.4040 - val_loss: 6.6372\n",
      "Epoch 78/1000\n"
     ]
    },
    {
     "name": "stdout",
     "output_type": "stream",
     "text": [
      "323/323 [==============================] - 0s 37us/step - loss: 7.3725 - val_loss: 6.6060\n",
      "Epoch 79/1000\n",
      "323/323 [==============================] - 0s 37us/step - loss: 7.3196 - val_loss: 6.5472\n",
      "Epoch 80/1000\n",
      "323/323 [==============================] - 0s 37us/step - loss: 7.2832 - val_loss: 6.5669\n",
      "Epoch 81/1000\n",
      "323/323 [==============================] - 0s 37us/step - loss: 7.2428 - val_loss: 6.5415\n",
      "Epoch 82/1000\n",
      "323/323 [==============================] - 0s 37us/step - loss: 7.1598 - val_loss: 6.4375\n",
      "Epoch 83/1000\n",
      "323/323 [==============================] - 0s 31us/step - loss: 7.1221 - val_loss: 6.4092\n",
      "Epoch 84/1000\n",
      "323/323 [==============================] - 0s 31us/step - loss: 7.0784 - val_loss: 6.4309\n",
      "Epoch 85/1000\n",
      "323/323 [==============================] - 0s 36us/step - loss: 7.0522 - val_loss: 6.3663\n",
      "Epoch 86/1000\n",
      "323/323 [==============================] - 0s 34us/step - loss: 7.0295 - val_loss: 6.2979\n",
      "Epoch 87/1000\n",
      "323/323 [==============================] - 0s 35us/step - loss: 6.9527 - val_loss: 6.2924\n",
      "Epoch 88/1000\n",
      "323/323 [==============================] - 0s 37us/step - loss: 6.8753 - val_loss: 6.2538\n",
      "Epoch 89/1000\n",
      "323/323 [==============================] - 0s 34us/step - loss: 6.8505 - val_loss: 6.2412\n",
      "Epoch 90/1000\n",
      "323/323 [==============================] - 0s 37us/step - loss: 6.8440 - val_loss: 6.2210\n",
      "Epoch 91/1000\n",
      "323/323 [==============================] - 0s 34us/step - loss: 6.7853 - val_loss: 6.1498\n",
      "Epoch 92/1000\n",
      "323/323 [==============================] - 0s 31us/step - loss: 6.7163 - val_loss: 6.1422\n",
      "Epoch 93/1000\n",
      "323/323 [==============================] - 0s 37us/step - loss: 6.6402 - val_loss: 6.0868\n",
      "Epoch 94/1000\n",
      "323/323 [==============================] - 0s 34us/step - loss: 6.5960 - val_loss: 6.0832\n",
      "Epoch 95/1000\n",
      "323/323 [==============================] - 0s 37us/step - loss: 6.5661 - val_loss: 6.0282\n",
      "Epoch 96/1000\n",
      "323/323 [==============================] - 0s 34us/step - loss: 6.5495 - val_loss: 6.0079\n",
      "Epoch 97/1000\n",
      "323/323 [==============================] - 0s 37us/step - loss: 6.5159 - val_loss: 6.0342\n",
      "Epoch 98/1000\n",
      "323/323 [==============================] - 0s 37us/step - loss: 6.4800 - val_loss: 6.0063\n",
      "Epoch 99/1000\n",
      "323/323 [==============================] - 0s 31us/step - loss: 6.4373 - val_loss: 5.9878\n",
      "Epoch 100/1000\n",
      "323/323 [==============================] - 0s 34us/step - loss: 6.4459 - val_loss: 5.9385\n",
      "Epoch 101/1000\n",
      "323/323 [==============================] - 0s 37us/step - loss: 6.4048 - val_loss: 5.9263\n",
      "Epoch 102/1000\n",
      "323/323 [==============================] - 0s 37us/step - loss: 6.3590 - val_loss: 5.9086\n",
      "Epoch 103/1000\n",
      "323/323 [==============================] - 0s 36us/step - loss: 6.3340 - val_loss: 5.8954\n",
      "Epoch 104/1000\n",
      "323/323 [==============================] - 0s 37us/step - loss: 6.3122 - val_loss: 5.8874\n",
      "Epoch 105/1000\n",
      "323/323 [==============================] - 0s 37us/step - loss: 6.2975 - val_loss: 5.8700\n",
      "Epoch 106/1000\n",
      "323/323 [==============================] - 0s 34us/step - loss: 6.2524 - val_loss: 5.8698\n",
      "Epoch 107/1000\n",
      "323/323 [==============================] - 0s 34us/step - loss: 6.2353 - val_loss: 5.8589\n",
      "Epoch 108/1000\n",
      "323/323 [==============================] - 0s 34us/step - loss: 6.2159 - val_loss: 5.8378\n",
      "Epoch 109/1000\n",
      "323/323 [==============================] - 0s 37us/step - loss: 6.1745 - val_loss: 5.8430\n",
      "Epoch 110/1000\n",
      "323/323 [==============================] - 0s 34us/step - loss: 6.1514 - val_loss: 5.8181\n",
      "Epoch 111/1000\n",
      "323/323 [==============================] - 0s 36us/step - loss: 6.1493 - val_loss: 5.8196\n",
      "Epoch 112/1000\n",
      "323/323 [==============================] - 0s 34us/step - loss: 6.1460 - val_loss: 5.7903\n",
      "Epoch 113/1000\n",
      "323/323 [==============================] - 0s 34us/step - loss: 6.1220 - val_loss: 5.7998\n",
      "Epoch 114/1000\n",
      "323/323 [==============================] - 0s 34us/step - loss: 6.1110 - val_loss: 5.7738\n",
      "Epoch 115/1000\n",
      "323/323 [==============================] - 0s 34us/step - loss: 6.0400 - val_loss: 5.7469\n",
      "Epoch 116/1000\n",
      "323/323 [==============================] - 0s 37us/step - loss: 6.0097 - val_loss: 5.7219\n",
      "Epoch 117/1000\n",
      "323/323 [==============================] - 0s 37us/step - loss: 6.0022 - val_loss: 5.7061\n",
      "Epoch 118/1000\n",
      "323/323 [==============================] - 0s 31us/step - loss: 5.9662 - val_loss: 5.6989\n",
      "Epoch 119/1000\n",
      "323/323 [==============================] - 0s 37us/step - loss: 5.9486 - val_loss: 5.6831\n",
      "Epoch 120/1000\n",
      "323/323 [==============================] - 0s 34us/step - loss: 5.9547 - val_loss: 5.6635\n",
      "Epoch 121/1000\n",
      "323/323 [==============================] - 0s 37us/step - loss: 5.9759 - val_loss: 5.6714\n",
      "Epoch 122/1000\n",
      "323/323 [==============================] - 0s 34us/step - loss: 5.8777 - val_loss: 5.6222\n",
      "Epoch 123/1000\n",
      "323/323 [==============================] - 0s 34us/step - loss: 5.8897 - val_loss: 5.6024\n",
      "Epoch 124/1000\n",
      "323/323 [==============================] - 0s 40us/step - loss: 5.8620 - val_loss: 5.6084\n",
      "Epoch 125/1000\n",
      "323/323 [==============================] - 0s 34us/step - loss: 5.8460 - val_loss: 5.5943\n",
      "Epoch 126/1000\n",
      "323/323 [==============================] - 0s 34us/step - loss: 5.7958 - val_loss: 5.5599\n",
      "Epoch 127/1000\n",
      "323/323 [==============================] - 0s 37us/step - loss: 5.7661 - val_loss: 5.5410\n",
      "Epoch 128/1000\n",
      "323/323 [==============================] - 0s 34us/step - loss: 5.7651 - val_loss: 5.5290\n",
      "Epoch 129/1000\n",
      "323/323 [==============================] - 0s 37us/step - loss: 5.7243 - val_loss: 5.5258\n",
      "Epoch 130/1000\n",
      "323/323 [==============================] - 0s 34us/step - loss: 5.7101 - val_loss: 5.4945\n",
      "Epoch 131/1000\n",
      "323/323 [==============================] - 0s 37us/step - loss: 5.6996 - val_loss: 5.4934\n",
      "Epoch 132/1000\n",
      "323/323 [==============================] - 0s 37us/step - loss: 5.6847 - val_loss: 5.4719\n",
      "Epoch 133/1000\n",
      "323/323 [==============================] - 0s 34us/step - loss: 5.6763 - val_loss: 5.4537\n",
      "Epoch 134/1000\n",
      "323/323 [==============================] - 0s 34us/step - loss: 5.6233 - val_loss: 5.4398\n",
      "Epoch 135/1000\n",
      "323/323 [==============================] - 0s 34us/step - loss: 5.5955 - val_loss: 5.4259\n",
      "Epoch 136/1000\n",
      "323/323 [==============================] - 0s 40us/step - loss: 5.5859 - val_loss: 5.4135\n",
      "Epoch 137/1000\n",
      "323/323 [==============================] - 0s 37us/step - loss: 5.5510 - val_loss: 5.3953\n",
      "Epoch 138/1000\n",
      "323/323 [==============================] - 0s 34us/step - loss: 5.5406 - val_loss: 5.3791\n",
      "Epoch 139/1000\n",
      "323/323 [==============================] - 0s 37us/step - loss: 5.5358 - val_loss: 5.3549\n",
      "Epoch 140/1000\n",
      "323/323 [==============================] - 0s 37us/step - loss: 5.5031 - val_loss: 5.3414\n",
      "Epoch 141/1000\n",
      "323/323 [==============================] - 0s 34us/step - loss: 5.4791 - val_loss: 5.3202\n",
      "Epoch 142/1000\n",
      "323/323 [==============================] - 0s 34us/step - loss: 5.5372 - val_loss: 5.3323\n",
      "Epoch 143/1000\n",
      "323/323 [==============================] - 0s 37us/step - loss: 5.4629 - val_loss: 5.3019\n",
      "Epoch 144/1000\n",
      "323/323 [==============================] - 0s 36us/step - loss: 5.4549 - val_loss: 5.3008\n",
      "Epoch 145/1000\n",
      "323/323 [==============================] - 0s 34us/step - loss: 5.4171 - val_loss: 5.2671\n",
      "Epoch 146/1000\n",
      "323/323 [==============================] - 0s 34us/step - loss: 5.3741 - val_loss: 5.2503\n",
      "Epoch 147/1000\n",
      "323/323 [==============================] - 0s 37us/step - loss: 5.3537 - val_loss: 5.2412\n",
      "Epoch 148/1000\n",
      "323/323 [==============================] - 0s 34us/step - loss: 5.4052 - val_loss: 5.2596\n",
      "Epoch 149/1000\n",
      "323/323 [==============================] - 0s 52us/step - loss: 5.3713 - val_loss: 5.2344\n",
      "Epoch 150/1000\n",
      "323/323 [==============================] - 0s 40us/step - loss: 5.3196 - val_loss: 5.1954\n",
      "Epoch 151/1000\n",
      "323/323 [==============================] - 0s 37us/step - loss: 5.2793 - val_loss: 5.1821\n",
      "Epoch 152/1000\n",
      "323/323 [==============================] - 0s 40us/step - loss: 5.2651 - val_loss: 5.1732\n",
      "Epoch 153/1000\n",
      "323/323 [==============================] - 0s 37us/step - loss: 5.2400 - val_loss: 5.1577\n",
      "Epoch 154/1000\n",
      "323/323 [==============================] - 0s 34us/step - loss: 5.2739 - val_loss: 5.1920\n",
      "Epoch 155/1000\n",
      "323/323 [==============================] - 0s 37us/step - loss: 5.2368 - val_loss: 5.1293\n",
      "Epoch 156/1000\n"
     ]
    },
    {
     "name": "stdout",
     "output_type": "stream",
     "text": [
      "323/323 [==============================] - 0s 31us/step - loss: 5.1997 - val_loss: 5.1246\n",
      "Epoch 157/1000\n",
      "323/323 [==============================] - 0s 37us/step - loss: 5.1905 - val_loss: 5.1193\n",
      "Epoch 158/1000\n",
      "323/323 [==============================] - 0s 40us/step - loss: 5.1694 - val_loss: 5.1667\n",
      "Epoch 159/1000\n",
      "323/323 [==============================] - 0s 34us/step - loss: 5.1926 - val_loss: 5.1273\n",
      "Epoch 160/1000\n",
      "323/323 [==============================] - 0s 34us/step - loss: 5.1293 - val_loss: 5.0705\n",
      "Epoch 161/1000\n",
      "323/323 [==============================] - 0s 34us/step - loss: 5.1370 - val_loss: 5.0951\n",
      "Epoch 162/1000\n",
      "323/323 [==============================] - 0s 37us/step - loss: 5.1160 - val_loss: 5.0442\n",
      "Epoch 163/1000\n",
      "323/323 [==============================] - 0s 34us/step - loss: 5.0980 - val_loss: 5.0116\n",
      "Epoch 164/1000\n",
      "323/323 [==============================] - 0s 34us/step - loss: 5.0533 - val_loss: 5.0702\n",
      "Epoch 165/1000\n",
      "323/323 [==============================] - ETA: 0s - loss: 5.852 - 0s 34us/step - loss: 5.0765 - val_loss: 4.9943\n",
      "Epoch 166/1000\n",
      "323/323 [==============================] - 0s 37us/step - loss: 5.0036 - val_loss: 5.0040\n",
      "Epoch 167/1000\n",
      "323/323 [==============================] - 0s 37us/step - loss: 4.9837 - val_loss: 4.9577\n",
      "Epoch 168/1000\n",
      "323/323 [==============================] - 0s 31us/step - loss: 5.0017 - val_loss: 4.9446\n",
      "Epoch 169/1000\n",
      "323/323 [==============================] - 0s 34us/step - loss: 4.9349 - val_loss: 4.9851\n",
      "Epoch 170/1000\n",
      "323/323 [==============================] - 0s 34us/step - loss: 4.9751 - val_loss: 4.9614\n",
      "Epoch 171/1000\n",
      "323/323 [==============================] - 0s 31us/step - loss: 4.9004 - val_loss: 4.9078\n",
      "Epoch 172/1000\n",
      "323/323 [==============================] - 0s 34us/step - loss: 4.9688 - val_loss: 4.8911\n",
      "Epoch 173/1000\n",
      "323/323 [==============================] - 0s 37us/step - loss: 4.9069 - val_loss: 4.8938\n",
      "Epoch 174/1000\n",
      "323/323 [==============================] - 0s 37us/step - loss: 4.9205 - val_loss: 4.8984\n",
      "Epoch 175/1000\n",
      "323/323 [==============================] - 0s 31us/step - loss: 4.8782 - val_loss: 4.8584\n",
      "Epoch 176/1000\n",
      "323/323 [==============================] - 0s 34us/step - loss: 4.8240 - val_loss: 4.9121\n",
      "Epoch 177/1000\n",
      "323/323 [==============================] - 0s 34us/step - loss: 4.8852 - val_loss: 4.9360\n",
      "Epoch 178/1000\n",
      "323/323 [==============================] - 0s 37us/step - loss: 4.8495 - val_loss: 4.8376\n",
      "Epoch 179/1000\n",
      "323/323 [==============================] - 0s 31us/step - loss: 4.7754 - val_loss: 4.8619\n",
      "Epoch 180/1000\n",
      "323/323 [==============================] - 0s 34us/step - loss: 4.7754 - val_loss: 4.8305\n",
      "Epoch 181/1000\n",
      "323/323 [==============================] - 0s 34us/step - loss: 4.7408 - val_loss: 4.8033\n",
      "Epoch 182/1000\n",
      "323/323 [==============================] - 0s 34us/step - loss: 4.7235 - val_loss: 4.8118\n",
      "Epoch 183/1000\n",
      "323/323 [==============================] - 0s 34us/step - loss: 4.7393 - val_loss: 4.8235\n",
      "Epoch 184/1000\n",
      "323/323 [==============================] - 0s 34us/step - loss: 4.6848 - val_loss: 4.7429\n",
      "Epoch 185/1000\n",
      "323/323 [==============================] - 0s 34us/step - loss: 4.7396 - val_loss: 4.7253\n",
      "Epoch 186/1000\n",
      "323/323 [==============================] - 0s 34us/step - loss: 4.6482 - val_loss: 4.8237\n",
      "Epoch 187/1000\n",
      "323/323 [==============================] - 0s 34us/step - loss: 4.6800 - val_loss: 4.7290\n",
      "Epoch 188/1000\n",
      "323/323 [==============================] - 0s 34us/step - loss: 4.6445 - val_loss: 4.7000\n",
      "Epoch 189/1000\n",
      "323/323 [==============================] - 0s 34us/step - loss: 4.6094 - val_loss: 4.7124\n",
      "Epoch 190/1000\n",
      "323/323 [==============================] - 0s 31us/step - loss: 4.5851 - val_loss: 4.6914\n",
      "Epoch 191/1000\n",
      "323/323 [==============================] - 0s 34us/step - loss: 4.6294 - val_loss: 4.7444\n",
      "Epoch 192/1000\n",
      "323/323 [==============================] - 0s 37us/step - loss: 4.5966 - val_loss: 4.6535\n",
      "Epoch 193/1000\n",
      "323/323 [==============================] - 0s 34us/step - loss: 4.5674 - val_loss: 4.6505\n",
      "Epoch 194/1000\n",
      "323/323 [==============================] - 0s 34us/step - loss: 4.5534 - val_loss: 4.6567\n",
      "Epoch 195/1000\n",
      "323/323 [==============================] - 0s 37us/step - loss: 4.5274 - val_loss: 4.6548\n",
      "Epoch 196/1000\n",
      "323/323 [==============================] - 0s 34us/step - loss: 4.5020 - val_loss: 4.6455\n",
      "Epoch 197/1000\n",
      "323/323 [==============================] - 0s 31us/step - loss: 4.5088 - val_loss: 4.6456\n",
      "Epoch 198/1000\n",
      "323/323 [==============================] - 0s 37us/step - loss: 4.4909 - val_loss: 4.5910\n",
      "Epoch 199/1000\n",
      "323/323 [==============================] - 0s 37us/step - loss: 4.4430 - val_loss: 4.5737\n",
      "Epoch 200/1000\n",
      "323/323 [==============================] - 0s 31us/step - loss: 4.4380 - val_loss: 4.5762\n",
      "Epoch 201/1000\n",
      "323/323 [==============================] - 0s 35us/step - loss: 4.4394 - val_loss: 4.5552\n",
      "Epoch 202/1000\n",
      "323/323 [==============================] - 0s 37us/step - loss: 4.4031 - val_loss: 4.5405\n",
      "Epoch 203/1000\n",
      "323/323 [==============================] - 0s 34us/step - loss: 4.4094 - val_loss: 4.5139\n",
      "Epoch 204/1000\n",
      "323/323 [==============================] - 0s 34us/step - loss: 4.3997 - val_loss: 4.5509\n",
      "Epoch 205/1000\n",
      "323/323 [==============================] - 0s 34us/step - loss: 4.3773 - val_loss: 4.5216\n",
      "Epoch 206/1000\n",
      "323/323 [==============================] - 0s 37us/step - loss: 4.4156 - val_loss: 4.4738\n",
      "Epoch 207/1000\n",
      "323/323 [==============================] - 0s 34us/step - loss: 4.3658 - val_loss: 4.4837\n",
      "Epoch 208/1000\n",
      "323/323 [==============================] - 0s 34us/step - loss: 4.3787 - val_loss: 4.5490\n",
      "Epoch 209/1000\n",
      "323/323 [==============================] - 0s 34us/step - loss: 4.3343 - val_loss: 4.4459\n",
      "Epoch 210/1000\n",
      "323/323 [==============================] - 0s 34us/step - loss: 4.2842 - val_loss: 4.4859\n",
      "Epoch 211/1000\n",
      "323/323 [==============================] - 0s 31us/step - loss: 4.2882 - val_loss: 4.4771\n",
      "Epoch 212/1000\n",
      "323/323 [==============================] - 0s 31us/step - loss: 4.2943 - val_loss: 4.4647\n",
      "Epoch 213/1000\n",
      "323/323 [==============================] - 0s 34us/step - loss: 4.2640 - val_loss: 4.4086\n",
      "Epoch 214/1000\n",
      "323/323 [==============================] - 0s 34us/step - loss: 4.2330 - val_loss: 4.4581\n",
      "Epoch 215/1000\n",
      "323/323 [==============================] - 0s 34us/step - loss: 4.2491 - val_loss: 4.3886\n",
      "Epoch 216/1000\n",
      "323/323 [==============================] - 0s 37us/step - loss: 4.2001 - val_loss: 4.3959\n",
      "Epoch 217/1000\n",
      "323/323 [==============================] - 0s 34us/step - loss: 4.2345 - val_loss: 4.3280\n",
      "Epoch 218/1000\n",
      "323/323 [==============================] - 0s 34us/step - loss: 4.1924 - val_loss: 4.3605\n",
      "Epoch 219/1000\n",
      "323/323 [==============================] - 0s 31us/step - loss: 4.1936 - val_loss: 4.3342\n",
      "Epoch 220/1000\n",
      "323/323 [==============================] - 0s 34us/step - loss: 4.1491 - val_loss: 4.3076\n",
      "Epoch 221/1000\n",
      "323/323 [==============================] - 0s 34us/step - loss: 4.1387 - val_loss: 4.3379\n",
      "Epoch 222/1000\n",
      "323/323 [==============================] - 0s 31us/step - loss: 4.1253 - val_loss: 4.2609\n",
      "Epoch 223/1000\n",
      "323/323 [==============================] - 0s 34us/step - loss: 4.1955 - val_loss: 4.1911\n",
      "Epoch 224/1000\n",
      "323/323 [==============================] - 0s 34us/step - loss: 4.1369 - val_loss: 4.2873\n",
      "Epoch 225/1000\n",
      "323/323 [==============================] - 0s 37us/step - loss: 4.1054 - val_loss: 4.2173\n",
      "Epoch 226/1000\n",
      "323/323 [==============================] - 0s 34us/step - loss: 4.0790 - val_loss: 4.2005\n",
      "Epoch 227/1000\n",
      "323/323 [==============================] - 0s 34us/step - loss: 4.0734 - val_loss: 4.1893\n",
      "Epoch 228/1000\n",
      "323/323 [==============================] - 0s 34us/step - loss: 4.0460 - val_loss: 4.1987\n",
      "Epoch 229/1000\n",
      "323/323 [==============================] - 0s 34us/step - loss: 4.0379 - val_loss: 4.2086\n",
      "Epoch 230/1000\n",
      "323/323 [==============================] - 0s 31us/step - loss: 4.0293 - val_loss: 4.2059\n",
      "Epoch 231/1000\n",
      "323/323 [==============================] - 0s 37us/step - loss: 4.0302 - val_loss: 4.2125\n",
      "Epoch 232/1000\n",
      "323/323 [==============================] - 0s 34us/step - loss: 4.0112 - val_loss: 4.2096\n",
      "Epoch 233/1000\n",
      "323/323 [==============================] - 0s 34us/step - loss: 4.0732 - val_loss: 4.2331\n"
     ]
    },
    {
     "name": "stdout",
     "output_type": "stream",
     "text": [
      "Epoch 234/1000\n",
      "323/323 [==============================] - 0s 34us/step - loss: 4.0072 - val_loss: 4.1153\n",
      "Epoch 235/1000\n",
      "323/323 [==============================] - 0s 34us/step - loss: 4.0201 - val_loss: 4.1149\n",
      "Epoch 236/1000\n",
      "323/323 [==============================] - 0s 34us/step - loss: 3.9754 - val_loss: 4.1018\n",
      "Epoch 237/1000\n",
      "323/323 [==============================] - 0s 34us/step - loss: 3.9793 - val_loss: 4.0957\n",
      "Epoch 238/1000\n",
      "323/323 [==============================] - 0s 34us/step - loss: 3.9748 - val_loss: 4.0738\n",
      "Epoch 239/1000\n",
      "323/323 [==============================] - 0s 34us/step - loss: 3.9486 - val_loss: 4.0454\n",
      "Epoch 240/1000\n",
      "323/323 [==============================] - 0s 37us/step - loss: 3.9649 - val_loss: 4.0842\n",
      "Epoch 241/1000\n",
      "323/323 [==============================] - 0s 34us/step - loss: 3.9196 - val_loss: 4.0945\n",
      "Epoch 242/1000\n",
      "323/323 [==============================] - 0s 31us/step - loss: 3.9520 - val_loss: 4.0632\n",
      "Epoch 243/1000\n",
      "323/323 [==============================] - 0s 34us/step - loss: 3.9113 - val_loss: 4.0866\n",
      "Epoch 244/1000\n",
      "323/323 [==============================] - 0s 34us/step - loss: 3.8995 - val_loss: 4.0615\n",
      "Epoch 245/1000\n",
      "323/323 [==============================] - 0s 31us/step - loss: 3.8973 - val_loss: 4.0586\n",
      "Epoch 246/1000\n",
      "323/323 [==============================] - 0s 34us/step - loss: 3.8862 - val_loss: 3.9958\n",
      "Epoch 247/1000\n",
      "323/323 [==============================] - 0s 34us/step - loss: 3.8700 - val_loss: 4.0298\n",
      "Epoch 248/1000\n",
      "323/323 [==============================] - 0s 31us/step - loss: 3.8819 - val_loss: 4.0861\n",
      "Epoch 249/1000\n",
      "323/323 [==============================] - 0s 31us/step - loss: 3.9405 - val_loss: 4.0942\n",
      "Epoch 250/1000\n",
      "323/323 [==============================] - 0s 34us/step - loss: 3.8872 - val_loss: 4.0057\n",
      "Epoch 251/1000\n",
      "323/323 [==============================] - 0s 37us/step - loss: 3.8455 - val_loss: 4.0647\n",
      "Epoch 252/1000\n",
      "323/323 [==============================] - 0s 31us/step - loss: 3.8211 - val_loss: 3.9722\n",
      "Epoch 253/1000\n",
      "323/323 [==============================] - 0s 31us/step - loss: 4.0189 - val_loss: 3.9771\n",
      "Epoch 254/1000\n",
      "323/323 [==============================] - 0s 34us/step - loss: 3.9063 - val_loss: 4.0762\n",
      "Epoch 255/1000\n",
      "323/323 [==============================] - 0s 34us/step - loss: 3.8298 - val_loss: 3.9456\n",
      "Epoch 256/1000\n",
      "323/323 [==============================] - 0s 34us/step - loss: 3.8475 - val_loss: 3.9662\n",
      "Epoch 257/1000\n",
      "323/323 [==============================] - 0s 34us/step - loss: 3.7851 - val_loss: 3.9628\n",
      "Epoch 258/1000\n",
      "323/323 [==============================] - 0s 37us/step - loss: 3.7996 - val_loss: 3.9629\n",
      "Epoch 259/1000\n",
      "323/323 [==============================] - 0s 34us/step - loss: 3.7789 - val_loss: 3.9109\n",
      "Epoch 260/1000\n",
      "323/323 [==============================] - 0s 31us/step - loss: 3.8055 - val_loss: 3.9253\n",
      "Epoch 261/1000\n",
      "323/323 [==============================] - 0s 37us/step - loss: 3.8054 - val_loss: 3.8328\n",
      "Epoch 262/1000\n",
      "323/323 [==============================] - 0s 34us/step - loss: 3.7915 - val_loss: 3.8975\n",
      "Epoch 263/1000\n",
      "323/323 [==============================] - 0s 34us/step - loss: 3.7600 - val_loss: 3.8351\n",
      "Epoch 264/1000\n",
      "323/323 [==============================] - 0s 31us/step - loss: 3.7756 - val_loss: 3.8482\n",
      "Epoch 265/1000\n",
      "323/323 [==============================] - 0s 34us/step - loss: 3.7807 - val_loss: 3.8297\n",
      "Epoch 266/1000\n",
      "323/323 [==============================] - 0s 37us/step - loss: 3.7557 - val_loss: 3.8391\n",
      "Epoch 267/1000\n",
      "323/323 [==============================] - 0s 31us/step - loss: 3.7247 - val_loss: 3.8550\n",
      "Epoch 268/1000\n",
      "323/323 [==============================] - 0s 34us/step - loss: 3.7360 - val_loss: 3.7711\n",
      "Epoch 269/1000\n",
      "323/323 [==============================] - 0s 37us/step - loss: 3.7612 - val_loss: 3.7778\n",
      "Epoch 270/1000\n",
      "323/323 [==============================] - 0s 31us/step - loss: 3.7150 - val_loss: 3.7966\n",
      "Epoch 271/1000\n",
      "323/323 [==============================] - 0s 34us/step - loss: 3.7153 - val_loss: 3.8973\n",
      "Epoch 272/1000\n",
      "323/323 [==============================] - 0s 34us/step - loss: 3.7316 - val_loss: 3.7611\n",
      "Epoch 273/1000\n",
      "323/323 [==============================] - 0s 34us/step - loss: 3.7398 - val_loss: 3.7593\n",
      "Epoch 274/1000\n",
      "323/323 [==============================] - 0s 37us/step - loss: 3.7191 - val_loss: 3.7741\n",
      "Epoch 275/1000\n",
      "323/323 [==============================] - 0s 34us/step - loss: 3.7564 - val_loss: 3.8124\n",
      "Epoch 276/1000\n",
      "323/323 [==============================] - 0s 34us/step - loss: 3.7156 - val_loss: 3.7374\n",
      "Epoch 277/1000\n",
      "323/323 [==============================] - 0s 37us/step - loss: 3.8894 - val_loss: 3.7029\n",
      "Epoch 278/1000\n",
      "323/323 [==============================] - 0s 34us/step - loss: 3.7201 - val_loss: 3.7883\n",
      "Epoch 279/1000\n",
      "323/323 [==============================] - 0s 37us/step - loss: 3.6745 - val_loss: 3.7635\n",
      "Epoch 280/1000\n",
      "323/323 [==============================] - 0s 43us/step - loss: 3.7299 - val_loss: 3.7566\n",
      "Epoch 281/1000\n",
      "323/323 [==============================] - 0s 40us/step - loss: 3.7042 - val_loss: 3.8245\n",
      "Epoch 282/1000\n",
      "323/323 [==============================] - 0s 40us/step - loss: 3.6792 - val_loss: 3.7223\n",
      "Epoch 283/1000\n",
      "323/323 [==============================] - 0s 36us/step - loss: 3.7155 - val_loss: 3.7185\n",
      "Epoch 284/1000\n",
      "323/323 [==============================] - 0s 37us/step - loss: 3.6617 - val_loss: 3.7585\n",
      "Epoch 285/1000\n",
      "323/323 [==============================] - 0s 37us/step - loss: 3.6658 - val_loss: 3.6791\n",
      "Epoch 286/1000\n",
      "323/323 [==============================] - 0s 37us/step - loss: 3.6812 - val_loss: 3.7159\n",
      "Epoch 287/1000\n",
      "323/323 [==============================] - 0s 31us/step - loss: 3.6524 - val_loss: 3.6933\n",
      "Epoch 288/1000\n",
      "323/323 [==============================] - 0s 37us/step - loss: 3.6896 - val_loss: 3.6943\n",
      "Epoch 289/1000\n",
      "323/323 [==============================] - 0s 34us/step - loss: 3.6866 - val_loss: 3.7639\n",
      "Epoch 290/1000\n",
      "323/323 [==============================] - 0s 37us/step - loss: 3.6762 - val_loss: 3.7328\n",
      "Epoch 291/1000\n",
      "323/323 [==============================] - 0s 34us/step - loss: 3.6674 - val_loss: 3.7111\n",
      "Epoch 292/1000\n",
      "323/323 [==============================] - 0s 34us/step - loss: 3.6672 - val_loss: 3.6721\n",
      "Epoch 293/1000\n",
      "323/323 [==============================] - 0s 34us/step - loss: 3.6496 - val_loss: 3.7196\n",
      "Epoch 294/1000\n",
      "323/323 [==============================] - 0s 37us/step - loss: 3.6490 - val_loss: 3.6981\n",
      "Epoch 295/1000\n",
      "323/323 [==============================] - 0s 34us/step - loss: 3.6329 - val_loss: 3.6801\n",
      "Epoch 296/1000\n",
      "323/323 [==============================] - 0s 34us/step - loss: 3.7576 - val_loss: 3.6517\n",
      "Epoch 297/1000\n",
      "323/323 [==============================] - 0s 34us/step - loss: 3.6363 - val_loss: 3.6843\n",
      "Epoch 298/1000\n",
      "323/323 [==============================] - 0s 37us/step - loss: 3.6492 - val_loss: 3.7278\n",
      "Epoch 299/1000\n",
      "323/323 [==============================] - 0s 31us/step - loss: 3.6765 - val_loss: 3.6300\n",
      "Epoch 300/1000\n",
      "323/323 [==============================] - 0s 34us/step - loss: 3.6353 - val_loss: 3.6905\n",
      "Epoch 301/1000\n",
      "323/323 [==============================] - 0s 34us/step - loss: 3.6210 - val_loss: 3.6643\n",
      "Epoch 302/1000\n",
      "323/323 [==============================] - 0s 34us/step - loss: 3.6151 - val_loss: 3.6337\n",
      "Epoch 303/1000\n",
      "323/323 [==============================] - 0s 31us/step - loss: 3.6227 - val_loss: 3.6329\n",
      "Epoch 304/1000\n",
      "323/323 [==============================] - 0s 34us/step - loss: 3.6356 - val_loss: 3.6799\n",
      "Epoch 305/1000\n",
      "323/323 [==============================] - 0s 34us/step - loss: 3.6531 - val_loss: 3.6373\n",
      "Epoch 306/1000\n",
      "323/323 [==============================] - 0s 34us/step - loss: 3.6336 - val_loss: 3.6184\n",
      "Epoch 307/1000\n",
      "323/323 [==============================] - 0s 34us/step - loss: 3.5983 - val_loss: 3.6277\n",
      "Epoch 308/1000\n",
      "323/323 [==============================] - 0s 34us/step - loss: 3.5906 - val_loss: 3.6467\n",
      "Epoch 309/1000\n",
      "323/323 [==============================] - 0s 37us/step - loss: 3.6185 - val_loss: 3.6615\n",
      "Epoch 310/1000\n",
      "323/323 [==============================] - 0s 31us/step - loss: 3.6143 - val_loss: 3.6719\n",
      "Epoch 311/1000\n",
      "323/323 [==============================] - 0s 37us/step - loss: 3.6375 - val_loss: 3.6596\n",
      "Epoch 312/1000\n"
     ]
    },
    {
     "name": "stdout",
     "output_type": "stream",
     "text": [
      "323/323 [==============================] - 0s 34us/step - loss: 3.6401 - val_loss: 3.6521\n",
      "Epoch 313/1000\n",
      "323/323 [==============================] - 0s 31us/step - loss: 3.5904 - val_loss: 3.6544\n",
      "Epoch 314/1000\n",
      "323/323 [==============================] - 0s 37us/step - loss: 3.6291 - val_loss: 3.6052\n",
      "Epoch 315/1000\n",
      "323/323 [==============================] - 0s 37us/step - loss: 3.6053 - val_loss: 3.6423\n",
      "Epoch 316/1000\n",
      "323/323 [==============================] - 0s 34us/step - loss: 3.6085 - val_loss: 3.6617\n",
      "Epoch 317/1000\n",
      "323/323 [==============================] - 0s 37us/step - loss: 3.5838 - val_loss: 3.6178\n",
      "Epoch 318/1000\n",
      "323/323 [==============================] - 0s 31us/step - loss: 3.5988 - val_loss: 3.6179\n",
      "Epoch 319/1000\n",
      "323/323 [==============================] - 0s 37us/step - loss: 3.5950 - val_loss: 3.6662\n",
      "Epoch 320/1000\n",
      "323/323 [==============================] - 0s 34us/step - loss: 3.6563 - val_loss: 3.6530\n",
      "Epoch 321/1000\n",
      "323/323 [==============================] - 0s 40us/step - loss: 3.6212 - val_loss: 3.6129\n",
      "Epoch 322/1000\n",
      "323/323 [==============================] - 0s 31us/step - loss: 3.6289 - val_loss: 3.7056\n",
      "Epoch 323/1000\n",
      "323/323 [==============================] - 0s 37us/step - loss: 3.6572 - val_loss: 3.6373\n",
      "Epoch 324/1000\n",
      "323/323 [==============================] - 0s 34us/step - loss: 3.5795 - val_loss: 3.5987\n",
      "Epoch 325/1000\n",
      "323/323 [==============================] - 0s 31us/step - loss: 3.6225 - val_loss: 3.5642\n",
      "Epoch 326/1000\n",
      "323/323 [==============================] - 0s 34us/step - loss: 3.6240 - val_loss: 3.6018\n",
      "Epoch 327/1000\n",
      "323/323 [==============================] - 0s 34us/step - loss: 3.6791 - val_loss: 3.6456\n",
      "Epoch 328/1000\n",
      "323/323 [==============================] - 0s 34us/step - loss: 3.6038 - val_loss: 3.6515\n",
      "Epoch 329/1000\n",
      "323/323 [==============================] - 0s 34us/step - loss: 3.5798 - val_loss: 3.5946\n",
      "Epoch 330/1000\n",
      "323/323 [==============================] - 0s 34us/step - loss: 3.5608 - val_loss: 3.6344\n",
      "Epoch 331/1000\n",
      "323/323 [==============================] - 0s 37us/step - loss: 3.5972 - val_loss: 3.6018\n",
      "Epoch 332/1000\n",
      "323/323 [==============================] - 0s 34us/step - loss: 3.5866 - val_loss: 3.6199\n",
      "Epoch 333/1000\n",
      "323/323 [==============================] - 0s 31us/step - loss: 3.5984 - val_loss: 3.5852\n",
      "Epoch 334/1000\n",
      "323/323 [==============================] - 0s 34us/step - loss: 3.5902 - val_loss: 3.5578\n",
      "Epoch 335/1000\n",
      "323/323 [==============================] - 0s 37us/step - loss: 3.5665 - val_loss: 3.6144\n",
      "Epoch 336/1000\n",
      "323/323 [==============================] - 0s 31us/step - loss: 3.5725 - val_loss: 3.6130\n",
      "Epoch 337/1000\n",
      "323/323 [==============================] - 0s 34us/step - loss: 3.5575 - val_loss: 3.5912\n",
      "Epoch 338/1000\n",
      "323/323 [==============================] - 0s 37us/step - loss: 3.5489 - val_loss: 3.5755\n",
      "Epoch 339/1000\n",
      "323/323 [==============================] - 0s 37us/step - loss: 3.5655 - val_loss: 3.5763\n",
      "Epoch 340/1000\n",
      "323/323 [==============================] - 0s 31us/step - loss: 3.5542 - val_loss: 3.5978\n",
      "Epoch 341/1000\n",
      "323/323 [==============================] - 0s 34us/step - loss: 3.5839 - val_loss: 3.6338\n",
      "Epoch 342/1000\n",
      "323/323 [==============================] - 0s 37us/step - loss: 3.5866 - val_loss: 3.5614\n",
      "Epoch 343/1000\n",
      "323/323 [==============================] - 0s 31us/step - loss: 3.5731 - val_loss: 3.5405\n",
      "Epoch 344/1000\n",
      "323/323 [==============================] - 0s 37us/step - loss: 3.5767 - val_loss: 3.5697\n",
      "Epoch 345/1000\n",
      "323/323 [==============================] - 0s 34us/step - loss: 3.6513 - val_loss: 3.6130\n",
      "Epoch 346/1000\n",
      "323/323 [==============================] - 0s 34us/step - loss: 3.6932 - val_loss: 3.6156\n",
      "Epoch 347/1000\n",
      "323/323 [==============================] - 0s 34us/step - loss: 3.5519 - val_loss: 3.5666\n",
      "Epoch 348/1000\n",
      "323/323 [==============================] - 0s 34us/step - loss: 3.6260 - val_loss: 3.5168\n",
      "Epoch 349/1000\n",
      "323/323 [==============================] - 0s 34us/step - loss: 3.5746 - val_loss: 3.5611\n",
      "Epoch 350/1000\n",
      "323/323 [==============================] - 0s 37us/step - loss: 3.5682 - val_loss: 3.5781\n",
      "Epoch 351/1000\n",
      "323/323 [==============================] - 0s 34us/step - loss: 3.5780 - val_loss: 3.5934\n",
      "Epoch 352/1000\n",
      "323/323 [==============================] - 0s 31us/step - loss: 3.5681 - val_loss: 3.5932\n",
      "Epoch 353/1000\n",
      "323/323 [==============================] - 0s 34us/step - loss: 3.5715 - val_loss: 3.6008\n",
      "Epoch 354/1000\n",
      "323/323 [==============================] - 0s 34us/step - loss: 3.5806 - val_loss: 3.6292\n",
      "Epoch 355/1000\n",
      "323/323 [==============================] - 0s 31us/step - loss: 3.5467 - val_loss: 3.5404\n",
      "Epoch 356/1000\n",
      "323/323 [==============================] - 0s 33us/step - loss: 3.5419 - val_loss: 3.5490\n",
      "Epoch 357/1000\n",
      "323/323 [==============================] - 0s 34us/step - loss: 3.5526 - val_loss: 3.5754\n",
      "Epoch 358/1000\n",
      "323/323 [==============================] - 0s 34us/step - loss: 3.5958 - val_loss: 3.6645\n",
      "102/102 [==============================] - 0s 20us/step\n",
      "Loss value is: 3.27\n"
     ]
    }
   ],
   "source": [
    "#Fit the model to the training set and calculate loss\n",
    "\n",
    "#Import early stopping -\n",
    "from keras.callbacks import EarlyStopping\n",
    "early_stopping_monitor = EarlyStopping(patience=10)\n",
    "\n",
    "#train model\n",
    "\n",
    "hist = model.fit(x_train, y_train, validation_split=0.2, epochs=1000, callbacks=[early_stopping_monitor])\n",
    "\n",
    "#Calculate the predictions on the test: set x_test which is 0.5 of the entire set\n",
    "preds = model.predict(x_test)\n",
    "\n",
    "#Evaluate the performance of the model - output the loss function\n",
    "evals = model.evaluate(x_test, y_test)\n",
    "print (\"Loss value is:\", float(\"{0:.2f}\".format(evals)))"
   ]
  },
  {
   "cell_type": "markdown",
   "metadata": {},
   "source": [
    "**PLOT OF LOSS FUNCTION**"
   ]
  },
  {
   "cell_type": "markdown",
   "metadata": {},
   "source": [
    "Plot of model loss derived from REF [https://hackernoon.com/build-your-first-neural-network-to-predict-house-prices-with-keras-3fb0839680f4] and understanding from REF []"
   ]
  },
  {
   "cell_type": "code",
   "execution_count": 30,
   "metadata": {},
   "outputs": [
    {
     "data": {
      "image/png": "[encoded data removed]",
      "text/plain": [
       "<Figure size 864x864 with 1 Axes>"
      ]
     },
     "metadata": {},
     "output_type": "display_data"
    }
   ],
   "source": [
    "plt.figure(figsize=(12, 12))\n",
    "# summarize history for loss\n",
    "plt.plot(hist.history[\"loss\"])\n",
    "plt.plot(hist.history[\"val_loss\"])\n",
    "plt.title(\"Model Loss\")\n",
    "plt.ylabel(\"Loss\")\n",
    "plt.xlabel(\"Epoch\")\n",
    "plt.legend([\"Train\", \"Val\"], loc=\"upper center\")\n",
    "plt.show()"
   ]
  },
  {
   "cell_type": "markdown",
   "metadata": {},
   "source": [
    "**TEST THE MODEL**"
   ]
  },
  {
   "cell_type": "markdown",
   "metadata": {},
   "source": [
    "The `model.fit` function iterates over the data set reducing the cost value until it reaches its minimum and outputs the result of the loss function. It can also be calculated independently using the `model.evaluate` function the result of which is seen below."
   ]
  },
  {
   "cell_type": "code",
   "execution_count": 31,
   "metadata": {
    "scrolled": true
   },
   "outputs": [
    {
     "name": "stdout",
     "output_type": "stream",
     "text": [
      "404/404 [==============================] - 0s 15us/step\n",
      "Loss value is: 3.59\n"
     ]
    }
   ],
   "source": [
    "# MODEL EVALUATION \n",
    "\n",
    "model_eval = model.evaluate(x_train, y_train)\n",
    "\n",
    "print (\"Loss value is:\", float(\"{0:.2f}\".format(model_eval)))"
   ]
  },
  {
   "cell_type": "code",
   "execution_count": 32,
   "metadata": {},
   "outputs": [],
   "source": [
    "# Create test set by dropping 'PRICE' column\n",
    "\n",
    "bos_test = bos.drop(columns=['PRICE'])"
   ]
  },
  {
   "cell_type": "code",
   "execution_count": 33,
   "metadata": {},
   "outputs": [
    {
     "name": "stdout",
     "output_type": "stream",
     "text": [
      "The first ten actual house price are \n",
      "    PRICE\n",
      "0   24.0\n",
      "1   21.6\n",
      "2   34.7\n",
      "3   33.4\n",
      "4   36.2\n",
      "5   28.7\n",
      "6   22.9\n",
      "7   27.1\n",
      "8   16.5\n",
      "9   18.9\n",
      "The first ten model predictions of house price are \n",
      " [[28.409712]\n",
      " [24.321259]\n",
      " [37.800667]\n",
      " [41.416664]\n",
      " [31.705902]\n",
      " [27.888405]\n",
      " [21.474318]\n",
      " [17.784197]\n",
      " [13.513088]\n",
      " [18.43348 ]\n",
      " [17.766039]\n",
      " [20.921116]\n",
      " [18.86937 ]\n",
      " [21.065844]\n",
      " [20.364843]\n",
      " [20.470865]\n",
      " [22.0923  ]\n",
      " [17.09979 ]\n",
      " [16.88529 ]\n",
      " [18.232693]\n",
      " [13.513088]\n",
      " [17.541069]\n",
      " [15.097966]\n",
      " [13.513088]\n",
      " [15.785772]\n",
      " [14.351381]\n",
      " [16.302088]\n",
      " [15.646016]\n",
      " [20.323212]\n",
      " [21.56703 ]\n",
      " [13.513088]\n",
      " [18.477766]\n",
      " [13.513088]\n",
      " [13.573591]\n",
      " [13.870336]\n",
      " [21.175829]\n",
      " [19.693457]\n",
      " [21.43037 ]\n",
      " [21.017803]\n",
      " [25.709024]\n",
      " [38.704784]\n",
      " [31.67507 ]\n",
      " [25.39898 ]\n",
      " [24.516657]\n",
      " [22.58959 ]\n",
      " [20.617441]\n",
      " [18.494621]\n",
      " [16.47396 ]\n",
      " [13.513088]\n",
      " [16.438332]\n",
      " [19.201132]\n",
      " [22.398777]\n",
      " [26.655499]\n",
      " [22.575401]\n",
      " [13.513088]\n",
      " [28.148127]\n",
      " [22.754948]\n",
      " [38.438507]\n",
      " [22.207453]\n",
      " [19.815525]\n",
      " [16.539963]\n",
      " [16.60819 ]\n",
      " [23.534342]\n",
      " [22.972784]\n",
      " [26.33853 ]\n",
      " [24.692232]\n",
      " [17.849882]\n",
      " [21.490322]\n",
      " [17.140081]\n",
      " [21.07374 ]\n",
      " [25.01759 ]\n",
      " [21.158892]\n",
      " [24.383734]\n",
      " [23.801746]\n",
      " [24.70579 ]\n",
      " [23.366072]\n",
      " [21.385874]\n",
      " [21.92557 ]\n",
      " [20.959618]\n",
      " [21.61614 ]\n",
      " [26.913853]\n",
      " [24.293615]\n",
      " [23.348652]\n",
      " [22.300034]\n",
      " [23.460648]\n",
      " [26.414846]\n",
      " [19.878176]\n",
      " [23.149668]\n",
      " [30.191847]\n",
      " [29.740444]\n",
      " [24.517887]\n",
      " [24.862942]\n",
      " [23.304773]\n",
      " [23.637796]\n",
      " [20.967674]\n",
      " [26.620003]\n",
      " [21.751547]\n",
      " [42.34487 ]\n",
      " [43.67651 ]\n",
      " [30.078163]]\n"
     ]
    }
   ],
   "source": [
    "#print first ten rows of dataset prices column\n",
    "first_10_Prices = bos.iloc[0:10, 13:15]\n",
    "\n",
    "print(\"The first ten actual house price are \\n\", first_10_Prices)\n",
    "\n",
    "\n",
    "y_true = bos['PRICE']\n",
    "y_pred = model.predict(x)\n",
    "\n",
    "\n",
    "#calculation of mean absolute % error\n",
    "#Accuracy = kr.metrics.accuracy(y_true, y_pred)\n",
    "\n",
    "#Output first 10 predictions\n",
    "print(\"The first ten model predictions of house price are \\n\",y_pred[:100])\n",
    "#print(Accuracy[:10])"
   ]
  },
  {
   "cell_type": "markdown",
   "metadata": {},
   "source": [
    "A quick comparison of the first ten actual v predicted house prices above reveals differences which vary from one comparison to another. From this we can summise that the model does not reliably predict house prices\n",
    "\n",
    "\n",
    "Learnings in the **TEST MODEL** above from REF [https://www.youtube.com/watch?v=zinEPDj7SD8]\n"
   ]
  },
  {
   "cell_type": "markdown",
   "metadata": {},
   "source": [
    "**PLOT OF PREDICTED HOUSE PRICE V ACTUAL**"
   ]
  },
  {
   "cell_type": "markdown",
   "metadata": {},
   "source": [
    "The following plot is of the first 100 actual V predicted house prices"
   ]
  },
  {
   "cell_type": "code",
   "execution_count": 34,
   "metadata": {},
   "outputs": [
    {
     "data": {
      "image/png": "[encoded data removed]",
      "text/plain": [
       "<Figure size 864x864 with 1 Axes>"
      ]
     },
     "metadata": {},
     "output_type": "display_data"
    }
   ],
   "source": [
    "#Plot of actual v predicted price of first 100 data points\n",
    "plt.figure(figsize=(12, 12))\n",
    "plt.plot(y_pred[:100], 'r-', label ='Prediction')\n",
    "plt.plot(y_true[:100], 'g', label = 'Actual')\n",
    "plt.title(\"Neural Network Prediction V Actual\")\n",
    "plt.ylabel(\"Price(x1000)\")\n",
    "plt.xlabel(\"Zone\")\n",
    "plt.legend([\"Prediction\", \"Actual\"], loc=\"upper center\")\n",
    "plt.show()"
   ]
  },
  {
   "cell_type": "code",
   "execution_count": 35,
   "metadata": {},
   "outputs": [
    {
     "name": "stdout",
     "output_type": "stream",
     "text": [
      "The Mean Square error is 143.45494\n"
     ]
    }
   ],
   "source": [
    "#Evaluate the Mean-Squared error\n",
    "\n",
    "error = np.mean(kr.losses.mean_squared_error(y_true, y_pred))\n",
    "\n",
    "#MSE of first 100 predictions\n",
    "print (\"The Mean Square error is\", error) \n",
    "      "
   ]
  },
  {
   "cell_type": "markdown",
   "metadata": {},
   "source": [
    "As can be seen above the mean square error is 139 on our test set and shows that the model is not accurately predicting unknowns but has a lower loss value of approx 5 on the training set.\n",
    "\n",
    "Models which produce a low loss function but fail to accurately predict test data may be over-fitting the test set i.e the model does not generalise well to unknowns. Various approaches are advised to prevent over-fitting\n",
    "\n",
    "\n",
    "REF: [Hands-On Machine Learning with Scikit-Learn, KERAS & TensorFlow; Geron, A.; O'Reilly; 2019, 2nd Ed, p.27]\n",
    "REF: [ https://towardsdatascience.com/soon-or-later-you-will-face-this-problem-c5f204e9f55a ]"
   ]
  },
  {
   "cell_type": "markdown",
   "metadata": {},
   "source": [
    "**REDUCTION OF OVERFITTING**"
   ]
  },
  {
   "cell_type": "markdown",
   "metadata": {},
   "source": [
    "Models which produce a low loss function but fail to accurately predict test data may be over-fitting the test set. Various approaches are advised to prevent over-fitting\n",
    "\n",
    "Originally the test_set had been set to 0.5 of the data. Changing it to 0.2 had no tangible effect on the model.\n",
    "\n",
    "This article referenced from 'towardsdatascience' Discuss\n",
    "\n",
    "REF [https://towardsdatascience.com/a-gentle-journey-from-linear-regression-to-neural-networks-68881590760e] \n",
    "\n",
    "* Reducing the number of parameters of the networks\n",
    "* Getting more data or \n",
    "* Using explicit regularisers (in the loss function or through a dropout process)\n",
    "\n",
    "It isn't possible to get more data as our dataset is limited. However it is possible to reduce the number of parameters.Regularisation may also help. The authors advise that neural networks with many parameters can be prone to overfitting.  REF: [Hands-On Machine Learning with Scikit-Learn, KERAS & TensorFlow; Geron, A.; O'Reilly; 2019, 2nd Ed, p.364-374]"
   ]
  },
  {
   "cell_type": "markdown",
   "metadata": {},
   "source": [
    "**Next Steps:** \n",
    "\n",
    "* Reduce the complexity of the model"
   ]
  },
  {
   "cell_type": "markdown",
   "metadata": {},
   "source": [
    "Very low loss value and a reduction of MSE obtained by reducing the number of parameters to:\n",
    "\n",
    "x = bos[['ZN', 'PTRATIO, 'LSTAT', 'RM']\n",
    "y = bos[['PRICE']]\n",
    "\n",
    "These x values were chosen as they showed the highest positive correlation lowest (negative) correlation with House price in the correlation matrix output in the inferential statistics section. The justification being that these variables had the highest influence on median house price of all the variables in the dataset\n",
    "\n",
    "Removal of the Charles River Dummy Variable had no effect on accuracy"
   ]
  }
 ],
 "metadata": {
  "kernelspec": {
   "display_name": "Python 3",
   "language": "python",
   "name": "python3"
  },
  "language_info": {
   "codemirror_mode": {
    "name": "ipython",
    "version": 3
   },
   "file_extension": ".py",
   "mimetype": "text/x-python",
   "name": "python",
   "nbconvert_exporter": "python",
   "pygments_lexer": "ipython3",
   "version": "3.7.1"
  }
 },
 "nbformat": 4,
 "nbformat_minor": 2
}
