{
 "cells": [
  {
   "cell_type": "markdown",
   "metadata": {},
   "source": [
    "# MACHINE LEARNING AND STATISTICS PROJECT\n",
    "\n",
    "## THE BOSTON HOUSE PRICES DATASET\n",
    "\n",
    "## HUGH O'REILLY\n",
    "\n",
    "## H.DIP Data Analytics GMIT\n"
   ]
  },
  {
   "cell_type": "markdown",
   "metadata": {},
   "source": [
    "## INTRODUCTION\n",
    " ___\n",
    "\n",
    "The Boston Housing Dataset consists of information derived from US census data of housing in the Boston Mass. area of the US. The publication originally discussed the problems associated with the use of housing market data to measure the willingness to pay for clean air.\n",
    "\n",
    "The dataset is taken from census tracts in the Boston Standard Metropolitan Statistical Area in 1970.\n",
    "\n",
    "*The data was originally published by Harrison, D. and Rubinfeld, D.L. 'Hedonic prices and the demand for clean air', J. Environ. Economics & Management, vol.5, 81-102, 1978.*\n",
    "\n",
    "Ref [https://www.sciencedirect.com/science/article/abs/pii/0095069678900062%5D]"
   ]
  },
  {
   "cell_type": "markdown",
   "metadata": {},
   "source": [
    "## OBJECTIVE\n",
    "___"
   ]
  },
  {
   "cell_type": "markdown",
   "metadata": {},
   "source": [
    "* To investigate if there is a significant difference in the median house prices between houses that are along the Charles River and those which aren't\n",
    "\n",
    "* To attempt to predict the median house price based on other variables in the dataset\n",
    "\n",
    "Understanding if there is a difference between the houses along the Charles River will help determine the investment value of properties in the area\n",
    "\n",
    "Similarly the ability to predict median house prices for a particular zone in Boston, based on the other variables associated with the property will enable us to determine the value of a property in a particular area and whether it may be worth investing in the area"
   ]
  },
  {
   "cell_type": "markdown",
   "metadata": {},
   "source": [
    "#TODO Insert image of boston"
   ]
  },
  {
   "cell_type": "markdown",
   "metadata": {},
   "source": [
    "## IMPORT AND SORT THE DATASET\n",
    "\n",
    "___\n"
   ]
  },
  {
   "cell_type": "code",
   "execution_count": 1,
   "metadata": {},
   "outputs": [
    {
     "name": "stderr",
     "output_type": "stream",
     "text": [
      "Using TensorFlow backend.\n"
     ]
    },
    {
     "name": "stdout",
     "output_type": "stream",
     "text": [
      "(506, 13)\n"
     ]
    }
   ],
   "source": [
    "#IMPORT LIBRARIES\n",
    "\n",
    "#Scipy Libraries\n",
    "import numpy as np\n",
    "import pandas as pd\n",
    "import scipy.stats as stats\n",
    "import statsmodels.api as sm\n",
    "import matplotlib.pyplot as plt\n",
    "import sklearn\n",
    "#Seaborn library\n",
    "import seaborn as sns\n",
    "#Keras libraries\n",
    "import keras as kr\n",
    "from keras import losses\n",
    "from keras import regularizers\n",
    "%matplotlib inline\n",
    "\n",
    "#IMPORT THE BOSTON HOUSE PRICES DATASET from sklearn\n",
    "   \n",
    "from sklearn.datasets import load_boston\n",
    "boston = load_boston()\n",
    "\n",
    "# Display the shape of the dataset\n",
    "print(boston.data.shape)\n",
    "\n",
    "# Ref [2]\n"
   ]
  },
  {
   "cell_type": "markdown",
   "metadata": {},
   "source": [
    "### INVESTIGATE AND SORT THE DATASET\n",
    "___"
   ]
  },
  {
   "cell_type": "code",
   "execution_count": 2,
   "metadata": {},
   "outputs": [
    {
     "data": {
      "text/plain": [
       "sklearn.utils.Bunch"
      ]
     },
     "execution_count": 2,
     "metadata": {},
     "output_type": "execute_result"
    }
   ],
   "source": [
    "#Determine the dataset type\n",
    "\n",
    "type(boston)"
   ]
  },
  {
   "cell_type": "markdown",
   "metadata": {},
   "source": [
    "The `type(boston)` command tells us that the dataset is a `sk.utils.Bunch` dataset type\n",
    "\n",
    "A 'bunch' dataset type:  Dictionary-like object, the interesting attributes are: ‘data’, the data to learn, ‘target’, the classification labels, ‘target_names’, the meaning of the labels, ‘feature_names’, the meaning of the features, ‘DESCR’, the full description of the dataset, ‘filename’. \n",
    "\n",
    "Ref [https://scikit-learn.org/stable/modules/generated/sklearn.datasets.load_iris.html]"
   ]
  },
  {
   "cell_type": "code",
   "execution_count": 3,
   "metadata": {},
   "outputs": [
    {
     "name": "stdout",
     "output_type": "stream",
     "text": [
      ".. _boston_dataset:\n",
      "\n",
      "Boston house prices dataset\n",
      "---------------------------\n",
      "\n",
      "**Data Set Characteristics:**  \n",
      "\n",
      "    :Number of Instances: 506 \n",
      "\n",
      "    :Number of Attributes: 13 numeric/categorical predictive. Median Value (attribute 14) is usually the target.\n",
      "\n",
      "    :Attribute Information (in order):\n",
      "        - CRIM     per capita crime rate by town\n",
      "        - ZN       proportion of residential land zoned for lots over 25,000 sq.ft.\n",
      "        - INDUS    proportion of non-retail business acres per town\n",
      "        - CHAS     Charles River dummy variable (= 1 if tract bounds river; 0 otherwise)\n",
      "        - NOX      nitric oxides concentration (parts per 10 million)\n",
      "        - RM       average number of rooms per dwelling\n",
      "        - AGE      proportion of owner-occupied units built prior to 1940\n",
      "        - DIS      weighted distances to five Boston employment centres\n",
      "        - RAD      index of accessibility to radial highways\n",
      "        - TAX      full-value property-tax rate per $10,000\n",
      "        - PTRATIO  pupil-teacher ratio by town\n",
      "        - B        1000(Bk - 0.63)^2 where Bk is the proportion of blacks by town\n",
      "        - LSTAT    % lower status of the population\n",
      "        - MEDV     Median value of owner-occupied homes in $1000's\n",
      "\n",
      "    :Missing Attribute Values: None\n",
      "\n",
      "    :Creator: Harrison, D. and Rubinfeld, D.L.\n",
      "\n",
      "This is a copy of UCI ML housing dataset.\n",
      "https://archive.ics.uci.edu/ml/machine-learning-databases/housing/\n",
      "\n",
      "\n",
      "This dataset was taken from the StatLib library which is maintained at Carnegie Mellon University.\n",
      "\n",
      "The Boston house-price data of Harrison, D. and Rubinfeld, D.L. 'Hedonic\n",
      "prices and the demand for clean air', J. Environ. Economics & Management,\n",
      "vol.5, 81-102, 1978.   Used in Belsley, Kuh & Welsch, 'Regression diagnostics\n",
      "...', Wiley, 1980.   N.B. Various transformations are used in the table on\n",
      "pages 244-261 of the latter.\n",
      "\n",
      "The Boston house-price data has been used in many machine learning papers that address regression\n",
      "problems.   \n",
      "     \n",
      ".. topic:: References\n",
      "\n",
      "   - Belsley, Kuh & Welsch, 'Regression diagnostics: Identifying Influential Data and Sources of Collinearity', Wiley, 1980. 244-261.\n",
      "   - Quinlan,R. (1993). Combining Instance-Based and Model-Based Learning. In Proceedings on the Tenth International Conference of Machine Learning, 236-243, University of Massachusetts, Amherst. Morgan Kaufmann.\n",
      "\n"
     ]
    }
   ],
   "source": [
    "#Display a desciption of the dataset\n",
    "\n",
    "print(boston.DESCR)"
   ]
  },
  {
   "cell_type": "markdown",
   "metadata": {},
   "source": [
    "The Data consists of 506 rows and 13 columns i.e. 506 instances containing 13 numeric/categorical variables as described above. \n",
    "\n",
    "There are 13 attribute variables an 1 target variable 'MEDV': which represents the median value for houses in each area i.e. 506 areas of Boston"
   ]
  },
  {
   "cell_type": "code",
   "execution_count": 4,
   "metadata": {
    "scrolled": true
   },
   "outputs": [
    {
     "data": {
      "text/html": [
       "<div>\n",
       "<style scoped>\n",
       "    .dataframe tbody tr th:only-of-type {\n",
       "        vertical-align: middle;\n",
       "    }\n",
       "\n",
       "    .dataframe tbody tr th {\n",
       "        vertical-align: top;\n",
       "    }\n",
       "\n",
       "    .dataframe thead th {\n",
       "        text-align: right;\n",
       "    }\n",
       "</style>\n",
       "<table border=\"1\" class=\"dataframe\">\n",
       "  <thead>\n",
       "    <tr style=\"text-align: right;\">\n",
       "      <th></th>\n",
       "      <th>0</th>\n",
       "      <th>1</th>\n",
       "      <th>2</th>\n",
       "      <th>3</th>\n",
       "      <th>4</th>\n",
       "      <th>5</th>\n",
       "      <th>6</th>\n",
       "      <th>7</th>\n",
       "      <th>8</th>\n",
       "      <th>9</th>\n",
       "      <th>10</th>\n",
       "      <th>11</th>\n",
       "      <th>12</th>\n",
       "    </tr>\n",
       "  </thead>\n",
       "  <tbody>\n",
       "    <tr>\n",
       "      <th>0</th>\n",
       "      <td>0.00632</td>\n",
       "      <td>18.0</td>\n",
       "      <td>2.31</td>\n",
       "      <td>0.0</td>\n",
       "      <td>0.538</td>\n",
       "      <td>6.575</td>\n",
       "      <td>65.2</td>\n",
       "      <td>4.0900</td>\n",
       "      <td>1.0</td>\n",
       "      <td>296.0</td>\n",
       "      <td>15.3</td>\n",
       "      <td>396.90</td>\n",
       "      <td>4.98</td>\n",
       "    </tr>\n",
       "    <tr>\n",
       "      <th>1</th>\n",
       "      <td>0.02731</td>\n",
       "      <td>0.0</td>\n",
       "      <td>7.07</td>\n",
       "      <td>0.0</td>\n",
       "      <td>0.469</td>\n",
       "      <td>6.421</td>\n",
       "      <td>78.9</td>\n",
       "      <td>4.9671</td>\n",
       "      <td>2.0</td>\n",
       "      <td>242.0</td>\n",
       "      <td>17.8</td>\n",
       "      <td>396.90</td>\n",
       "      <td>9.14</td>\n",
       "    </tr>\n",
       "    <tr>\n",
       "      <th>2</th>\n",
       "      <td>0.02729</td>\n",
       "      <td>0.0</td>\n",
       "      <td>7.07</td>\n",
       "      <td>0.0</td>\n",
       "      <td>0.469</td>\n",
       "      <td>7.185</td>\n",
       "      <td>61.1</td>\n",
       "      <td>4.9671</td>\n",
       "      <td>2.0</td>\n",
       "      <td>242.0</td>\n",
       "      <td>17.8</td>\n",
       "      <td>392.83</td>\n",
       "      <td>4.03</td>\n",
       "    </tr>\n",
       "    <tr>\n",
       "      <th>3</th>\n",
       "      <td>0.03237</td>\n",
       "      <td>0.0</td>\n",
       "      <td>2.18</td>\n",
       "      <td>0.0</td>\n",
       "      <td>0.458</td>\n",
       "      <td>6.998</td>\n",
       "      <td>45.8</td>\n",
       "      <td>6.0622</td>\n",
       "      <td>3.0</td>\n",
       "      <td>222.0</td>\n",
       "      <td>18.7</td>\n",
       "      <td>394.63</td>\n",
       "      <td>2.94</td>\n",
       "    </tr>\n",
       "    <tr>\n",
       "      <th>4</th>\n",
       "      <td>0.06905</td>\n",
       "      <td>0.0</td>\n",
       "      <td>2.18</td>\n",
       "      <td>0.0</td>\n",
       "      <td>0.458</td>\n",
       "      <td>7.147</td>\n",
       "      <td>54.2</td>\n",
       "      <td>6.0622</td>\n",
       "      <td>3.0</td>\n",
       "      <td>222.0</td>\n",
       "      <td>18.7</td>\n",
       "      <td>396.90</td>\n",
       "      <td>5.33</td>\n",
       "    </tr>\n",
       "    <tr>\n",
       "      <th>5</th>\n",
       "      <td>0.02985</td>\n",
       "      <td>0.0</td>\n",
       "      <td>2.18</td>\n",
       "      <td>0.0</td>\n",
       "      <td>0.458</td>\n",
       "      <td>6.430</td>\n",
       "      <td>58.7</td>\n",
       "      <td>6.0622</td>\n",
       "      <td>3.0</td>\n",
       "      <td>222.0</td>\n",
       "      <td>18.7</td>\n",
       "      <td>394.12</td>\n",
       "      <td>5.21</td>\n",
       "    </tr>\n",
       "    <tr>\n",
       "      <th>6</th>\n",
       "      <td>0.08829</td>\n",
       "      <td>12.5</td>\n",
       "      <td>7.87</td>\n",
       "      <td>0.0</td>\n",
       "      <td>0.524</td>\n",
       "      <td>6.012</td>\n",
       "      <td>66.6</td>\n",
       "      <td>5.5605</td>\n",
       "      <td>5.0</td>\n",
       "      <td>311.0</td>\n",
       "      <td>15.2</td>\n",
       "      <td>395.60</td>\n",
       "      <td>12.43</td>\n",
       "    </tr>\n",
       "    <tr>\n",
       "      <th>7</th>\n",
       "      <td>0.14455</td>\n",
       "      <td>12.5</td>\n",
       "      <td>7.87</td>\n",
       "      <td>0.0</td>\n",
       "      <td>0.524</td>\n",
       "      <td>6.172</td>\n",
       "      <td>96.1</td>\n",
       "      <td>5.9505</td>\n",
       "      <td>5.0</td>\n",
       "      <td>311.0</td>\n",
       "      <td>15.2</td>\n",
       "      <td>396.90</td>\n",
       "      <td>19.15</td>\n",
       "    </tr>\n",
       "    <tr>\n",
       "      <th>8</th>\n",
       "      <td>0.21124</td>\n",
       "      <td>12.5</td>\n",
       "      <td>7.87</td>\n",
       "      <td>0.0</td>\n",
       "      <td>0.524</td>\n",
       "      <td>5.631</td>\n",
       "      <td>100.0</td>\n",
       "      <td>6.0821</td>\n",
       "      <td>5.0</td>\n",
       "      <td>311.0</td>\n",
       "      <td>15.2</td>\n",
       "      <td>386.63</td>\n",
       "      <td>29.93</td>\n",
       "    </tr>\n",
       "    <tr>\n",
       "      <th>9</th>\n",
       "      <td>0.17004</td>\n",
       "      <td>12.5</td>\n",
       "      <td>7.87</td>\n",
       "      <td>0.0</td>\n",
       "      <td>0.524</td>\n",
       "      <td>6.004</td>\n",
       "      <td>85.9</td>\n",
       "      <td>6.5921</td>\n",
       "      <td>5.0</td>\n",
       "      <td>311.0</td>\n",
       "      <td>15.2</td>\n",
       "      <td>386.71</td>\n",
       "      <td>17.10</td>\n",
       "    </tr>\n",
       "  </tbody>\n",
       "</table>\n",
       "</div>"
      ],
      "text/plain": [
       "        0     1     2    3      4      5      6       7    8      9     10  \\\n",
       "0  0.00632  18.0  2.31  0.0  0.538  6.575   65.2  4.0900  1.0  296.0  15.3   \n",
       "1  0.02731   0.0  7.07  0.0  0.469  6.421   78.9  4.9671  2.0  242.0  17.8   \n",
       "2  0.02729   0.0  7.07  0.0  0.469  7.185   61.1  4.9671  2.0  242.0  17.8   \n",
       "3  0.03237   0.0  2.18  0.0  0.458  6.998   45.8  6.0622  3.0  222.0  18.7   \n",
       "4  0.06905   0.0  2.18  0.0  0.458  7.147   54.2  6.0622  3.0  222.0  18.7   \n",
       "5  0.02985   0.0  2.18  0.0  0.458  6.430   58.7  6.0622  3.0  222.0  18.7   \n",
       "6  0.08829  12.5  7.87  0.0  0.524  6.012   66.6  5.5605  5.0  311.0  15.2   \n",
       "7  0.14455  12.5  7.87  0.0  0.524  6.172   96.1  5.9505  5.0  311.0  15.2   \n",
       "8  0.21124  12.5  7.87  0.0  0.524  5.631  100.0  6.0821  5.0  311.0  15.2   \n",
       "9  0.17004  12.5  7.87  0.0  0.524  6.004   85.9  6.5921  5.0  311.0  15.2   \n",
       "\n",
       "       11     12  \n",
       "0  396.90   4.98  \n",
       "1  396.90   9.14  \n",
       "2  392.83   4.03  \n",
       "3  394.63   2.94  \n",
       "4  396.90   5.33  \n",
       "5  394.12   5.21  \n",
       "6  395.60  12.43  \n",
       "7  396.90  19.15  \n",
       "8  386.63  29.93  \n",
       "9  386.71  17.10  "
      ]
     },
     "execution_count": 4,
     "metadata": {},
     "output_type": "execute_result"
    }
   ],
   "source": [
    "# Show the first 10 rows of the Dataset\n",
    "bos = pd.DataFrame(boston.data)\n",
    "bos.head(10)"
   ]
  },
  {
   "cell_type": "markdown",
   "metadata": {},
   "source": [
    "It can be seen above that the dataset has no feature labels which will need to be added (although they are imported in the 'dataset characteristics'). In order to do so we need to use the `pandas.dataframe.keys()` command to access the keys and then assign them to the attribute columns.\n",
    "\n",
    "Ref [https://pandas.pydata.org/pandas-docs/stable/reference/api/pandas.DataFrame.keys.html]"
   ]
  },
  {
   "cell_type": "code",
   "execution_count": 5,
   "metadata": {},
   "outputs": [
    {
     "data": {
      "text/plain": [
       "RangeIndex(start=0, stop=13, step=1)"
      ]
     },
     "execution_count": 5,
     "metadata": {},
     "output_type": "execute_result"
    }
   ],
   "source": [
    "# Identify the indices in the dataset\n",
    "\n",
    "bos.keys()"
   ]
  },
  {
   "cell_type": "code",
   "execution_count": 6,
   "metadata": {},
   "outputs": [
    {
     "data": {
      "text/html": [
       "<div>\n",
       "<style scoped>\n",
       "    .dataframe tbody tr th:only-of-type {\n",
       "        vertical-align: middle;\n",
       "    }\n",
       "\n",
       "    .dataframe tbody tr th {\n",
       "        vertical-align: top;\n",
       "    }\n",
       "\n",
       "    .dataframe thead th {\n",
       "        text-align: right;\n",
       "    }\n",
       "</style>\n",
       "<table border=\"1\" class=\"dataframe\">\n",
       "  <thead>\n",
       "    <tr style=\"text-align: right;\">\n",
       "      <th></th>\n",
       "      <th>CRIM</th>\n",
       "      <th>ZN</th>\n",
       "      <th>INDUS</th>\n",
       "      <th>CHAS</th>\n",
       "      <th>NOX</th>\n",
       "      <th>RM</th>\n",
       "      <th>AGE</th>\n",
       "      <th>DIS</th>\n",
       "      <th>RAD</th>\n",
       "      <th>TAX</th>\n",
       "      <th>PTRATIO</th>\n",
       "      <th>B</th>\n",
       "      <th>LSTAT</th>\n",
       "    </tr>\n",
       "  </thead>\n",
       "  <tbody>\n",
       "    <tr>\n",
       "      <th>0</th>\n",
       "      <td>0.00632</td>\n",
       "      <td>18.0</td>\n",
       "      <td>2.31</td>\n",
       "      <td>0.0</td>\n",
       "      <td>0.538</td>\n",
       "      <td>6.575</td>\n",
       "      <td>65.2</td>\n",
       "      <td>4.0900</td>\n",
       "      <td>1.0</td>\n",
       "      <td>296.0</td>\n",
       "      <td>15.3</td>\n",
       "      <td>396.90</td>\n",
       "      <td>4.98</td>\n",
       "    </tr>\n",
       "    <tr>\n",
       "      <th>1</th>\n",
       "      <td>0.02731</td>\n",
       "      <td>0.0</td>\n",
       "      <td>7.07</td>\n",
       "      <td>0.0</td>\n",
       "      <td>0.469</td>\n",
       "      <td>6.421</td>\n",
       "      <td>78.9</td>\n",
       "      <td>4.9671</td>\n",
       "      <td>2.0</td>\n",
       "      <td>242.0</td>\n",
       "      <td>17.8</td>\n",
       "      <td>396.90</td>\n",
       "      <td>9.14</td>\n",
       "    </tr>\n",
       "    <tr>\n",
       "      <th>2</th>\n",
       "      <td>0.02729</td>\n",
       "      <td>0.0</td>\n",
       "      <td>7.07</td>\n",
       "      <td>0.0</td>\n",
       "      <td>0.469</td>\n",
       "      <td>7.185</td>\n",
       "      <td>61.1</td>\n",
       "      <td>4.9671</td>\n",
       "      <td>2.0</td>\n",
       "      <td>242.0</td>\n",
       "      <td>17.8</td>\n",
       "      <td>392.83</td>\n",
       "      <td>4.03</td>\n",
       "    </tr>\n",
       "    <tr>\n",
       "      <th>3</th>\n",
       "      <td>0.03237</td>\n",
       "      <td>0.0</td>\n",
       "      <td>2.18</td>\n",
       "      <td>0.0</td>\n",
       "      <td>0.458</td>\n",
       "      <td>6.998</td>\n",
       "      <td>45.8</td>\n",
       "      <td>6.0622</td>\n",
       "      <td>3.0</td>\n",
       "      <td>222.0</td>\n",
       "      <td>18.7</td>\n",
       "      <td>394.63</td>\n",
       "      <td>2.94</td>\n",
       "    </tr>\n",
       "    <tr>\n",
       "      <th>4</th>\n",
       "      <td>0.06905</td>\n",
       "      <td>0.0</td>\n",
       "      <td>2.18</td>\n",
       "      <td>0.0</td>\n",
       "      <td>0.458</td>\n",
       "      <td>7.147</td>\n",
       "      <td>54.2</td>\n",
       "      <td>6.0622</td>\n",
       "      <td>3.0</td>\n",
       "      <td>222.0</td>\n",
       "      <td>18.7</td>\n",
       "      <td>396.90</td>\n",
       "      <td>5.33</td>\n",
       "    </tr>\n",
       "  </tbody>\n",
       "</table>\n",
       "</div>"
      ],
      "text/plain": [
       "      CRIM    ZN  INDUS  CHAS    NOX     RM   AGE     DIS  RAD    TAX  \\\n",
       "0  0.00632  18.0   2.31   0.0  0.538  6.575  65.2  4.0900  1.0  296.0   \n",
       "1  0.02731   0.0   7.07   0.0  0.469  6.421  78.9  4.9671  2.0  242.0   \n",
       "2  0.02729   0.0   7.07   0.0  0.469  7.185  61.1  4.9671  2.0  242.0   \n",
       "3  0.03237   0.0   2.18   0.0  0.458  6.998  45.8  6.0622  3.0  222.0   \n",
       "4  0.06905   0.0   2.18   0.0  0.458  7.147  54.2  6.0622  3.0  222.0   \n",
       "\n",
       "   PTRATIO       B  LSTAT  \n",
       "0     15.3  396.90   4.98  \n",
       "1     17.8  396.90   9.14  \n",
       "2     17.8  392.83   4.03  \n",
       "3     18.7  394.63   2.94  \n",
       "4     18.7  396.90   5.33  "
      ]
     },
     "execution_count": 6,
     "metadata": {},
     "output_type": "execute_result"
    }
   ],
   "source": [
    "#Passing the `feature_names` parameter to the dataset now assigns the attributes with their labels\n",
    "\n",
    "bos.columns = boston.feature_names\n",
    "bos.head()"
   ]
  },
  {
   "cell_type": "markdown",
   "metadata": {},
   "source": [
    "Only 13 attributes are shown, although 14 attributes are associated with the dataset. The 14th attribute, or target variable - MEDV     Median value of owner-occupied homes in $1000's must be added to the `bos` pandas array"
   ]
  },
  {
   "cell_type": "code",
   "execution_count": 7,
   "metadata": {},
   "outputs": [
    {
     "data": {
      "text/plain": [
       "array([24. , 21.6, 34.7, 33.4, 36.2, 28.7, 22.9, 27.1, 16.5, 18.9, 15. ,\n",
       "       18.9, 21.7, 20.4, 18.2, 19.9, 23.1, 17.5, 20.2, 18.2, 13.6, 19.6,\n",
       "       15.2, 14.5, 15.6, 13.9, 16.6, 14.8, 18.4, 21. , 12.7, 14.5, 13.2,\n",
       "       13.1, 13.5, 18.9, 20. , 21. , 24.7, 30.8, 34.9, 26.6, 25.3, 24.7,\n",
       "       21.2, 19.3, 20. , 16.6, 14.4, 19.4, 19.7, 20.5, 25. , 23.4, 18.9,\n",
       "       35.4, 24.7, 31.6, 23.3, 19.6, 18.7, 16. , 22.2, 25. , 33. , 23.5,\n",
       "       19.4, 22. , 17.4, 20.9, 24.2, 21.7, 22.8, 23.4, 24.1, 21.4, 20. ,\n",
       "       20.8, 21.2, 20.3, 28. , 23.9, 24.8, 22.9, 23.9, 26.6, 22.5, 22.2,\n",
       "       23.6, 28.7, 22.6, 22. , 22.9, 25. , 20.6, 28.4, 21.4, 38.7, 43.8,\n",
       "       33.2, 27.5, 26.5, 18.6, 19.3, 20.1, 19.5, 19.5, 20.4, 19.8, 19.4,\n",
       "       21.7, 22.8, 18.8, 18.7, 18.5, 18.3, 21.2, 19.2, 20.4, 19.3, 22. ,\n",
       "       20.3, 20.5, 17.3, 18.8, 21.4, 15.7, 16.2, 18. , 14.3, 19.2, 19.6,\n",
       "       23. , 18.4, 15.6, 18.1, 17.4, 17.1, 13.3, 17.8, 14. , 14.4, 13.4,\n",
       "       15.6, 11.8, 13.8, 15.6, 14.6, 17.8, 15.4, 21.5, 19.6, 15.3, 19.4,\n",
       "       17. , 15.6, 13.1, 41.3, 24.3, 23.3, 27. , 50. , 50. , 50. , 22.7,\n",
       "       25. , 50. , 23.8, 23.8, 22.3, 17.4, 19.1, 23.1, 23.6, 22.6, 29.4,\n",
       "       23.2, 24.6, 29.9, 37.2, 39.8, 36.2, 37.9, 32.5, 26.4, 29.6, 50. ,\n",
       "       32. , 29.8, 34.9, 37. , 30.5, 36.4, 31.1, 29.1, 50. , 33.3, 30.3,\n",
       "       34.6, 34.9, 32.9, 24.1, 42.3, 48.5, 50. , 22.6, 24.4, 22.5, 24.4,\n",
       "       20. , 21.7, 19.3, 22.4, 28.1, 23.7, 25. , 23.3, 28.7, 21.5, 23. ,\n",
       "       26.7, 21.7, 27.5, 30.1, 44.8, 50. , 37.6, 31.6, 46.7, 31.5, 24.3,\n",
       "       31.7, 41.7, 48.3, 29. , 24. , 25.1, 31.5, 23.7, 23.3, 22. , 20.1,\n",
       "       22.2, 23.7, 17.6, 18.5, 24.3, 20.5, 24.5, 26.2, 24.4, 24.8, 29.6,\n",
       "       42.8, 21.9, 20.9, 44. , 50. , 36. , 30.1, 33.8, 43.1, 48.8, 31. ,\n",
       "       36.5, 22.8, 30.7, 50. , 43.5, 20.7, 21.1, 25.2, 24.4, 35.2, 32.4,\n",
       "       32. , 33.2, 33.1, 29.1, 35.1, 45.4, 35.4, 46. , 50. , 32.2, 22. ,\n",
       "       20.1, 23.2, 22.3, 24.8, 28.5, 37.3, 27.9, 23.9, 21.7, 28.6, 27.1,\n",
       "       20.3, 22.5, 29. , 24.8, 22. , 26.4, 33.1, 36.1, 28.4, 33.4, 28.2,\n",
       "       22.8, 20.3, 16.1, 22.1, 19.4, 21.6, 23.8, 16.2, 17.8, 19.8, 23.1,\n",
       "       21. , 23.8, 23.1, 20.4, 18.5, 25. , 24.6, 23. , 22.2, 19.3, 22.6,\n",
       "       19.8, 17.1, 19.4, 22.2, 20.7, 21.1, 19.5, 18.5, 20.6, 19. , 18.7,\n",
       "       32.7, 16.5, 23.9, 31.2, 17.5, 17.2, 23.1, 24.5, 26.6, 22.9, 24.1,\n",
       "       18.6, 30.1, 18.2, 20.6, 17.8, 21.7, 22.7, 22.6, 25. , 19.9, 20.8,\n",
       "       16.8, 21.9, 27.5, 21.9, 23.1, 50. , 50. , 50. , 50. , 50. , 13.8,\n",
       "       13.8, 15. , 13.9, 13.3, 13.1, 10.2, 10.4, 10.9, 11.3, 12.3,  8.8,\n",
       "        7.2, 10.5,  7.4, 10.2, 11.5, 15.1, 23.2,  9.7, 13.8, 12.7, 13.1,\n",
       "       12.5,  8.5,  5. ,  6.3,  5.6,  7.2, 12.1,  8.3,  8.5,  5. , 11.9,\n",
       "       27.9, 17.2, 27.5, 15. , 17.2, 17.9, 16.3,  7. ,  7.2,  7.5, 10.4,\n",
       "        8.8,  8.4, 16.7, 14.2, 20.8, 13.4, 11.7,  8.3, 10.2, 10.9, 11. ,\n",
       "        9.5, 14.5, 14.1, 16.1, 14.3, 11.7, 13.4,  9.6,  8.7,  8.4, 12.8,\n",
       "       10.5, 17.1, 18.4, 15.4, 10.8, 11.8, 14.9, 12.6, 14.1, 13. , 13.4,\n",
       "       15.2, 16.1, 17.8, 14.9, 14.1, 12.7, 13.5, 14.9, 20. , 16.4, 17.7,\n",
       "       19.5, 20.2, 21.4, 19.9, 19. , 19.1, 19.1, 20.1, 19.9, 19.6, 23.2,\n",
       "       29.8, 13.8, 13.3, 16.7, 12. , 14.6, 21.4, 23. , 23.7, 25. , 21.8,\n",
       "       20.6, 21.2, 19.1, 20.6, 15.2,  7. ,  8.1, 13.6, 20.1, 21.8, 24.5,\n",
       "       23.1, 19.7, 18.3, 21.2, 17.5, 16.8, 22.4, 20.6, 23.9, 22. , 11.9])"
      ]
     },
     "execution_count": 7,
     "metadata": {},
     "output_type": "execute_result"
    }
   ],
   "source": [
    "#The price is identified as the target variable above so we will see if is there\n",
    "\n",
    "boston.target #This prints the array of target variables (MEDV)"
   ]
  },
  {
   "cell_type": "code",
   "execution_count": 8,
   "metadata": {},
   "outputs": [
    {
     "name": "stdout",
     "output_type": "stream",
     "text": [
      "      CRIM    ZN  INDUS  CHAS    NOX     RM   AGE     DIS  RAD    TAX  \\\n",
      "0  0.00632  18.0   2.31   0.0  0.538  6.575  65.2  4.0900  1.0  296.0   \n",
      "1  0.02731   0.0   7.07   0.0  0.469  6.421  78.9  4.9671  2.0  242.0   \n",
      "2  0.02729   0.0   7.07   0.0  0.469  7.185  61.1  4.9671  2.0  242.0   \n",
      "3  0.03237   0.0   2.18   0.0  0.458  6.998  45.8  6.0622  3.0  222.0   \n",
      "4  0.06905   0.0   2.18   0.0  0.458  7.147  54.2  6.0622  3.0  222.0   \n",
      "\n",
      "   PTRATIO       B  LSTAT  PRICE  \n",
      "0     15.3  396.90   4.98   24.0  \n",
      "1     17.8  396.90   9.14   21.6  \n",
      "2     17.8  392.83   4.03   34.7  \n",
      "3     18.7  394.63   2.94   33.4  \n",
      "4     18.7  396.90   5.33   36.2  \n"
     ]
    }
   ],
   "source": [
    "#We now add the target variable (MEDV) to the array as 'price'\n",
    "\n",
    "bos['PRICE'] = boston.target\n",
    "print(bos.head())\n",
    "\n",
    "#ref [https://medium.com/@haydar_ai/learning-data-science-day-9-linear-regression-on-boston-housing-dataset-cd62a80775ef]"
   ]
  },
  {
   "cell_type": "markdown",
   "metadata": {},
   "source": [
    "## DESCRIPTIVE STATISTICS\n",
    "___"
   ]
  },
  {
   "cell_type": "code",
   "execution_count": 9,
   "metadata": {
    "scrolled": false
   },
   "outputs": [
    {
     "data": {
      "text/html": [
       "<div>\n",
       "<style scoped>\n",
       "    .dataframe tbody tr th:only-of-type {\n",
       "        vertical-align: middle;\n",
       "    }\n",
       "\n",
       "    .dataframe tbody tr th {\n",
       "        vertical-align: top;\n",
       "    }\n",
       "\n",
       "    .dataframe thead th {\n",
       "        text-align: right;\n",
       "    }\n",
       "</style>\n",
       "<table border=\"1\" class=\"dataframe\">\n",
       "  <thead>\n",
       "    <tr style=\"text-align: right;\">\n",
       "      <th></th>\n",
       "      <th>count</th>\n",
       "      <th>mean</th>\n",
       "      <th>std</th>\n",
       "      <th>min</th>\n",
       "      <th>25%</th>\n",
       "      <th>50%</th>\n",
       "      <th>75%</th>\n",
       "      <th>max</th>\n",
       "    </tr>\n",
       "  </thead>\n",
       "  <tbody>\n",
       "    <tr>\n",
       "      <th>CRIM</th>\n",
       "      <td>506.0</td>\n",
       "      <td>3.613524</td>\n",
       "      <td>8.601545</td>\n",
       "      <td>0.00632</td>\n",
       "      <td>0.082045</td>\n",
       "      <td>0.25651</td>\n",
       "      <td>3.677083</td>\n",
       "      <td>88.9762</td>\n",
       "    </tr>\n",
       "    <tr>\n",
       "      <th>ZN</th>\n",
       "      <td>506.0</td>\n",
       "      <td>11.363636</td>\n",
       "      <td>23.322453</td>\n",
       "      <td>0.00000</td>\n",
       "      <td>0.000000</td>\n",
       "      <td>0.00000</td>\n",
       "      <td>12.500000</td>\n",
       "      <td>100.0000</td>\n",
       "    </tr>\n",
       "    <tr>\n",
       "      <th>INDUS</th>\n",
       "      <td>506.0</td>\n",
       "      <td>11.136779</td>\n",
       "      <td>6.860353</td>\n",
       "      <td>0.46000</td>\n",
       "      <td>5.190000</td>\n",
       "      <td>9.69000</td>\n",
       "      <td>18.100000</td>\n",
       "      <td>27.7400</td>\n",
       "    </tr>\n",
       "    <tr>\n",
       "      <th>CHAS</th>\n",
       "      <td>506.0</td>\n",
       "      <td>0.069170</td>\n",
       "      <td>0.253994</td>\n",
       "      <td>0.00000</td>\n",
       "      <td>0.000000</td>\n",
       "      <td>0.00000</td>\n",
       "      <td>0.000000</td>\n",
       "      <td>1.0000</td>\n",
       "    </tr>\n",
       "    <tr>\n",
       "      <th>NOX</th>\n",
       "      <td>506.0</td>\n",
       "      <td>0.554695</td>\n",
       "      <td>0.115878</td>\n",
       "      <td>0.38500</td>\n",
       "      <td>0.449000</td>\n",
       "      <td>0.53800</td>\n",
       "      <td>0.624000</td>\n",
       "      <td>0.8710</td>\n",
       "    </tr>\n",
       "    <tr>\n",
       "      <th>RM</th>\n",
       "      <td>506.0</td>\n",
       "      <td>6.284634</td>\n",
       "      <td>0.702617</td>\n",
       "      <td>3.56100</td>\n",
       "      <td>5.885500</td>\n",
       "      <td>6.20850</td>\n",
       "      <td>6.623500</td>\n",
       "      <td>8.7800</td>\n",
       "    </tr>\n",
       "    <tr>\n",
       "      <th>AGE</th>\n",
       "      <td>506.0</td>\n",
       "      <td>68.574901</td>\n",
       "      <td>28.148861</td>\n",
       "      <td>2.90000</td>\n",
       "      <td>45.025000</td>\n",
       "      <td>77.50000</td>\n",
       "      <td>94.075000</td>\n",
       "      <td>100.0000</td>\n",
       "    </tr>\n",
       "    <tr>\n",
       "      <th>DIS</th>\n",
       "      <td>506.0</td>\n",
       "      <td>3.795043</td>\n",
       "      <td>2.105710</td>\n",
       "      <td>1.12960</td>\n",
       "      <td>2.100175</td>\n",
       "      <td>3.20745</td>\n",
       "      <td>5.188425</td>\n",
       "      <td>12.1265</td>\n",
       "    </tr>\n",
       "    <tr>\n",
       "      <th>RAD</th>\n",
       "      <td>506.0</td>\n",
       "      <td>9.549407</td>\n",
       "      <td>8.707259</td>\n",
       "      <td>1.00000</td>\n",
       "      <td>4.000000</td>\n",
       "      <td>5.00000</td>\n",
       "      <td>24.000000</td>\n",
       "      <td>24.0000</td>\n",
       "    </tr>\n",
       "    <tr>\n",
       "      <th>TAX</th>\n",
       "      <td>506.0</td>\n",
       "      <td>408.237154</td>\n",
       "      <td>168.537116</td>\n",
       "      <td>187.00000</td>\n",
       "      <td>279.000000</td>\n",
       "      <td>330.00000</td>\n",
       "      <td>666.000000</td>\n",
       "      <td>711.0000</td>\n",
       "    </tr>\n",
       "    <tr>\n",
       "      <th>PTRATIO</th>\n",
       "      <td>506.0</td>\n",
       "      <td>18.455534</td>\n",
       "      <td>2.164946</td>\n",
       "      <td>12.60000</td>\n",
       "      <td>17.400000</td>\n",
       "      <td>19.05000</td>\n",
       "      <td>20.200000</td>\n",
       "      <td>22.0000</td>\n",
       "    </tr>\n",
       "    <tr>\n",
       "      <th>B</th>\n",
       "      <td>506.0</td>\n",
       "      <td>356.674032</td>\n",
       "      <td>91.294864</td>\n",
       "      <td>0.32000</td>\n",
       "      <td>375.377500</td>\n",
       "      <td>391.44000</td>\n",
       "      <td>396.225000</td>\n",
       "      <td>396.9000</td>\n",
       "    </tr>\n",
       "    <tr>\n",
       "      <th>LSTAT</th>\n",
       "      <td>506.0</td>\n",
       "      <td>12.653063</td>\n",
       "      <td>7.141062</td>\n",
       "      <td>1.73000</td>\n",
       "      <td>6.950000</td>\n",
       "      <td>11.36000</td>\n",
       "      <td>16.955000</td>\n",
       "      <td>37.9700</td>\n",
       "    </tr>\n",
       "    <tr>\n",
       "      <th>PRICE</th>\n",
       "      <td>506.0</td>\n",
       "      <td>22.532806</td>\n",
       "      <td>9.197104</td>\n",
       "      <td>5.00000</td>\n",
       "      <td>17.025000</td>\n",
       "      <td>21.20000</td>\n",
       "      <td>25.000000</td>\n",
       "      <td>50.0000</td>\n",
       "    </tr>\n",
       "  </tbody>\n",
       "</table>\n",
       "</div>"
      ],
      "text/plain": [
       "         count        mean         std        min         25%        50%  \\\n",
       "CRIM     506.0    3.613524    8.601545    0.00632    0.082045    0.25651   \n",
       "ZN       506.0   11.363636   23.322453    0.00000    0.000000    0.00000   \n",
       "INDUS    506.0   11.136779    6.860353    0.46000    5.190000    9.69000   \n",
       "CHAS     506.0    0.069170    0.253994    0.00000    0.000000    0.00000   \n",
       "NOX      506.0    0.554695    0.115878    0.38500    0.449000    0.53800   \n",
       "RM       506.0    6.284634    0.702617    3.56100    5.885500    6.20850   \n",
       "AGE      506.0   68.574901   28.148861    2.90000   45.025000   77.50000   \n",
       "DIS      506.0    3.795043    2.105710    1.12960    2.100175    3.20745   \n",
       "RAD      506.0    9.549407    8.707259    1.00000    4.000000    5.00000   \n",
       "TAX      506.0  408.237154  168.537116  187.00000  279.000000  330.00000   \n",
       "PTRATIO  506.0   18.455534    2.164946   12.60000   17.400000   19.05000   \n",
       "B        506.0  356.674032   91.294864    0.32000  375.377500  391.44000   \n",
       "LSTAT    506.0   12.653063    7.141062    1.73000    6.950000   11.36000   \n",
       "PRICE    506.0   22.532806    9.197104    5.00000   17.025000   21.20000   \n",
       "\n",
       "                75%       max  \n",
       "CRIM       3.677083   88.9762  \n",
       "ZN        12.500000  100.0000  \n",
       "INDUS     18.100000   27.7400  \n",
       "CHAS       0.000000    1.0000  \n",
       "NOX        0.624000    0.8710  \n",
       "RM         6.623500    8.7800  \n",
       "AGE       94.075000  100.0000  \n",
       "DIS        5.188425   12.1265  \n",
       "RAD       24.000000   24.0000  \n",
       "TAX      666.000000  711.0000  \n",
       "PTRATIO   20.200000   22.0000  \n",
       "B        396.225000  396.9000  \n",
       "LSTAT     16.955000   37.9700  \n",
       "PRICE     25.000000   50.0000  "
      ]
     },
     "execution_count": 9,
     "metadata": {},
     "output_type": "execute_result"
    }
   ],
   "source": [
    "#Table with summary statistics of the dataset\n",
    "bos.describe().T"
   ]
  },
  {
   "cell_type": "markdown",
   "metadata": {},
   "source": [
    "**HISTOGRAMS OF HOUSE PRICE VARIABLES**"
   ]
  },
  {
   "cell_type": "code",
   "execution_count": 10,
   "metadata": {},
   "outputs": [
    {
     "data": {
      "image/png": "[encoded data removed]",
      "text/plain": [
       "<Figure size 1440x1080 with 16 Axes>"
      ]
     },
     "metadata": {
      "needs_background": "light"
     },
     "output_type": "display_data"
    }
   ],
   "source": [
    "#Histograms of House Price Variables using matplotlib\n",
    "bos.hist(bins=50, figsize=(20,15))\n",
    "plt.show()"
   ]
  },
  {
   "cell_type": "markdown",
   "metadata": {},
   "source": [
    "### Selected Observations from the Summary Stats Table\n",
    "___\n",
    "\n",
    "* **The target variable - 'PRICE' has a range of $5000 - $50000 with a mean of $22,532 which is a significant variation in house prices across the city.**\n",
    "\n",
    "\n",
    "* The 'CHAS' variable - proximity to the Charles River is logisitic in nature (i.e. 1 or 0)\n",
    "\n",
    "\n",
    "* Per Capita crime rate varies significantly across the city from 0.00632 to 88.9762"
   ]
  },
  {
   "cell_type": "markdown",
   "metadata": {},
   "source": [
    "### Distribution of Prices Data\n",
    "___"
   ]
  },
  {
   "cell_type": "code",
   "execution_count": 11,
   "metadata": {},
   "outputs": [],
   "source": [
    "#Set the target variable to y\n",
    "\n",
    "y = bos['PRICE']*1000"
   ]
  },
  {
   "cell_type": "code",
   "execution_count": 12,
   "metadata": {},
   "outputs": [
    {
     "data": {
      "image/png": "[encoded data removed]",
      "text/plain": [
       "<Figure size 864x864 with 1 Axes>"
      ]
     },
     "metadata": {},
     "output_type": "display_data"
    }
   ],
   "source": [
    "#Use the Seaborn library to display the distribution of house prices\n",
    "sns.set_style(\"darkgrid\")\n",
    "plt.figure(figsize=(12, 12))\n",
    "plt.title('House Prices Distribution', size=20)\n",
    "ax = sns.distplot(y)"
   ]
  },
  {
   "cell_type": "markdown",
   "metadata": {},
   "source": [
    "The plot above which displays the distribution of house prices in the dataset 'appears' to follow a **normal distribution.**\n",
    "\n",
    "**Some other observations**\n",
    "\n",
    "* The highest distribution is centred approximately around the mean ($20,000)\n",
    "\n",
    "* There are a notably high number of houses around the max ($50,000)\n",
    "\n",
    "Although the prices 'look' like they follow a normal distribution i.e. a bell-curve or gaussian distribution, it would be prudent to definitively determine the distribution as the distribution of the data will determine what inferential statistical analysis should be carried out.- **we will next carry out a test for normality.**"
   ]
  },
  {
   "cell_type": "markdown",
   "metadata": {},
   "source": [
    "**Shapiro-Wilk Test for Normality**\n",
    "\n",
    "The Shapiro-Wilk test tests the null hypothesis $H_0$ that the sample comes from the normal distribution. Therefore at a significance level of 0.05 a $p$ < 0.05 indicates non-normality\n",
    "Ref[http://www.bios.unc.edu/~mhudgens/bios/662/2008fall/Backup/wilkshapiro1965.pdf]"
   ]
  },
  {
   "cell_type": "code",
   "execution_count": 13,
   "metadata": {},
   "outputs": [
    {
     "name": "stdout",
     "output_type": "stream",
     "text": [
      "Test Statistic=0.917, p=0.0000\n"
     ]
    }
   ],
   "source": [
    "from scipy.stats import shapiro #import the Shapiro-Wilks function\n",
    "\n",
    "shapiro_test = shapiro(y) #run the Shapiro Wilks tets on the house price data\n",
    "\n",
    "stat, p = shapiro_test\n",
    "print('Test Statistic=%.3f, p=%.4f' % (stat, p))"
   ]
  },
  {
   "cell_type": "markdown",
   "metadata": {},
   "source": [
    "The Shapiro-Wilk test above *rejects* the null hypothesis since the *p* value is less than 0.05, therefore the data for 'PRICE' is not normally distributed. In addition the test statistic is 0.917 which indicates that this result is likely valid and not a type 1 error. Further visualisation may be carried out using a **Q-Q plot**\n",
    "\n",
    "A Q-Q plot plots quantiles (values that split a data set into equal portions of the data) against the theoretical quantiles of a normal distribution. \n",
    "\n",
    "Ref[https://www.ncbi.nlm.nih.gov/pmc/articles/PMC3693611/?source=post_page-----6bf06ed646a9----------------------]"
   ]
  },
  {
   "cell_type": "code",
   "execution_count": 14,
   "metadata": {},
   "outputs": [
    {
     "data": {
      "image/png": "[encoded data removed]",
      "text/plain": [
       "<Figure size 432x288 with 1 Axes>"
      ]
     },
     "execution_count": 14,
     "metadata": {},
     "output_type": "execute_result"
    },
    {
     "data": {
      "image/png": "[encoded data removed]",
      "text/plain": [
       "<Figure size 432x288 with 1 Axes>"
      ]
     },
     "metadata": {},
     "output_type": "display_data"
    }
   ],
   "source": [
    "sm.qqplot(y, line='s') #generate a q-q plot of the house price data"
   ]
  },
  {
   "cell_type": "markdown",
   "metadata": {},
   "source": [
    "Investigating possible reasons for the non-normality of the 'PRICES' data and specifically what, if any effects are causing the skew of data towards higher value houses may be worthwhile."
   ]
  },
  {
   "cell_type": "markdown",
   "metadata": {},
   "source": [
    "### Relationships Between Variables\n",
    "___\n",
    "\n",
    "A correlation heatmap is a useful way to quickly visualise the relationships between variables and determine which variables are highly correlated and worth further investigation.\n",
    "\n",
    "Ref [https://seaborn.pydata.org/generated/seaborn.heatmap.html]\n"
   ]
  },
  {
   "cell_type": "markdown",
   "metadata": {},
   "source": [
    "**CORRELATIONS**"
   ]
  },
  {
   "cell_type": "markdown",
   "metadata": {},
   "source": [
    "The correlations between input variables and PRICE are ranked below in descending order"
   ]
  },
  {
   "cell_type": "code",
   "execution_count": 15,
   "metadata": {},
   "outputs": [
    {
     "data": {
      "text/plain": [
       "PRICE      1.000000\n",
       "RM         0.695360\n",
       "ZN         0.360445\n",
       "B          0.333461\n",
       "DIS        0.249929\n",
       "CHAS       0.175260\n",
       "AGE       -0.376955\n",
       "RAD       -0.381626\n",
       "CRIM      -0.388305\n",
       "NOX       -0.427321\n",
       "TAX       -0.468536\n",
       "INDUS     -0.483725\n",
       "PTRATIO   -0.507787\n",
       "LSTAT     -0.737663\n",
       "Name: PRICE, dtype: float64"
      ]
     },
     "execution_count": 15,
     "metadata": {},
     "output_type": "execute_result"
    }
   ],
   "source": [
    "corr_matrix = bos.corr()\n",
    "corr_matrix['PRICE'].sort_values(ascending=False)"
   ]
  },
  {
   "cell_type": "code",
   "execution_count": 16,
   "metadata": {},
   "outputs": [
    {
     "data": {
      "image/png": "[encoded data removed]",
      "text/plain": [
       "<Figure size 1080x1080 with 2 Axes>"
      ]
     },
     "metadata": {},
     "output_type": "display_data"
    }
   ],
   "source": [
    "plt.figure(figsize=(15, 15)) #sets the parameters for the figure size \n",
    "ax = sns.heatmap(bos.corr(), cmap=sns.cubehelix_palette(as_cmap=True), linewidths=0.5) #generates heatmap, colour scheme and linewidth\n",
    "ax.xaxis.tick_top() #sets the axis to the top of the chart for easier reading"
   ]
  },
  {
   "cell_type": "markdown",
   "metadata": {},
   "source": [
    "The above correlation matrix highlights some interesting relationships between the target variable, PRICE and other variables:\n",
    "\n",
    "* There is a high positive correlation between PRICE and RM - (Average number of rooms per dwelling)\n",
    "\n",
    "* There is a positive correlation between PRICE and ZN - (proportion of residential land zoned for lots over 25,000 sq.ft.)\n",
    "\n",
    "* There is a negative correlation between PRICE and LSTAT - (% lower status of the population)\n",
    "\n",
    "* There is a negative correlation between PRICE and PTRATIO - (pupil-teacher ratio by town)\n",
    "\n",
    "The correlation matrix is only relevant to variables where there is a integer value. The Charles river variable is logistic in nature (i.e. 1 or 0) so is not relevant to this analysis."
   ]
  },
  {
   "cell_type": "markdown",
   "metadata": {},
   "source": [
    "## INFERENTIAL STATISTICS"
   ]
  },
  {
   "cell_type": "markdown",
   "metadata": {},
   "source": [
    "We will now use inferential statistics to analyse the relationship between the median house prices 'PRICE' ('MEDV'in the original dataset) and whether or not the houses border the Charles river 'CHAS'"
   ]
  },
  {
   "cell_type": "code",
   "execution_count": 17,
   "metadata": {},
   "outputs": [],
   "source": [
    "# Split the data into house proces which border the River and those who dont\n",
    "    \n",
    "River = bos.loc[bos['CHAS'] != 0]\n",
    "Not_River = bos.loc[bos['CHAS'] != 1]"
   ]
  },
  {
   "cell_type": "code",
   "execution_count": 18,
   "metadata": {},
   "outputs": [],
   "source": [
    "#Create 2 Arrays of Prices along River and not along river\n",
    "\n",
    "River_Price = River['PRICE']\n",
    "Not_River_Price = Not_River['PRICE']"
   ]
  },
  {
   "cell_type": "code",
   "execution_count": 19,
   "metadata": {},
   "outputs": [
    {
     "data": {
      "text/plain": [
       "count    35.000000\n",
       "mean     28.440000\n",
       "std      11.816643\n",
       "min      13.400000\n",
       "25%      21.100000\n",
       "50%      23.300000\n",
       "75%      33.150000\n",
       "max      50.000000\n",
       "Name: PRICE, dtype: float64"
      ]
     },
     "execution_count": 19,
     "metadata": {},
     "output_type": "execute_result"
    }
   ],
   "source": [
    "#Summary statistics for house prices bordering river\n",
    "River_Price.describe().T\n"
   ]
  },
  {
   "cell_type": "code",
   "execution_count": 20,
   "metadata": {},
   "outputs": [
    {
     "data": {
      "text/plain": [
       "count    471.000000\n",
       "mean      22.093843\n",
       "std        8.831362\n",
       "min        5.000000\n",
       "25%       16.600000\n",
       "50%       20.900000\n",
       "75%       24.800000\n",
       "max       50.000000\n",
       "Name: PRICE, dtype: float64"
      ]
     },
     "execution_count": 20,
     "metadata": {},
     "output_type": "execute_result"
    }
   ],
   "source": [
    "#Summary statistics for house prices not bordering river\n",
    "Not_River_Price.describe().T"
   ]
  },
  {
   "cell_type": "markdown",
   "metadata": {},
   "source": [
    "I can be seen above that in simple terms, the mean house price of houses bordering the river is 28,440 dollars whereas the mean house price of houses not bordering the river is 22,093 dollars.\n",
    "\n",
    "We will take a further look at how both sets of prices are distributed, using boxplots"
   ]
  },
  {
   "cell_type": "markdown",
   "metadata": {},
   "source": [
    "### BOX PLOTS OF HOUSE PRICES BORDERING/NOT BORDERING RIVER"
   ]
  },
  {
   "cell_type": "code",
   "execution_count": 21,
   "metadata": {},
   "outputs": [
    {
     "data": {
      "text/plain": [
       "Text(0.5,1,'House Prices Not Bordering River and Bordering River')"
      ]
     },
     "execution_count": 21,
     "metadata": {},
     "output_type": "execute_result"
    },
    {
     "data": {
      "image/png": "[encoded data removed]",
      "text/plain": [
       "<Figure size 1080x1080 with 1 Axes>"
      ]
     },
     "metadata": {},
     "output_type": "display_data"
    }
   ],
   "source": [
    "plt.figure(figsize=(15, 15))\n",
    "red_circle = dict(markerfacecolor='r', marker='o')\n",
    "sns.set(font_scale=1.2)\n",
    "ax=sns.boxplot(x=\"CHAS\", y=\"PRICE\",data=bos, linewidth=2.0, flierprops=red_circle, showmeans=True , meanline=True, meanprops = dict(linestyle='--', linewidth=2.5, color='purple'))\n",
    "ax.set_title('House Prices Not Bordering River and Bordering River', size=20)\n"
   ]
  },
  {
   "cell_type": "markdown",
   "metadata": {},
   "source": [
    "The boxplots of the median house price for houses bordering the river (CHAS=1) and those not bordering the river (CHAS=0) appear quite different, suggesting that it may be worth investigating if this difference is statistically significant.\n",
    "* The array containing houses not bordering the river has a number of outliers at the upper end\n",
    "* The array containing houses bordering the river has a mean which is higher than those not bordering the river (**purple dashed line in boxplot**). Additionally, the mean of house prices bordering the river is significantly higher than the median compared to the house prices of those not bordering the river."
   ]
  },
  {
   "cell_type": "markdown",
   "metadata": {},
   "source": [
    "### DISTRIBUTION PLOTS OF HOUSE PRICES BORDERING/NOT BORDERING RIVER"
   ]
  },
  {
   "cell_type": "code",
   "execution_count": 22,
   "metadata": {},
   "outputs": [
    {
     "data": {
      "image/png": "[encoded data removed]",
      "text/plain": [
       "<Figure size 864x864 with 1 Axes>"
      ]
     },
     "metadata": {},
     "output_type": "display_data"
    }
   ],
   "source": [
    "sns.set_style(\"darkgrid\")\n",
    "plt.figure(figsize=(12, 12))\n",
    "ax1 = sns.distplot(River_Price)\n",
    "ax2 = sns.distplot(Not_River_Price)"
   ]
  },
  {
   "cell_type": "markdown",
   "metadata": {},
   "source": [
    "The distribution plots of house prices bordering/not bordering the river don't highlight the differences in the two datasets as well as the boxplots do, but the distributions illustrate how both distributions have a similar shape"
   ]
  },
  {
   "cell_type": "markdown",
   "metadata": {},
   "source": [
    "### NORMALITY CHECK ON HOUSE PRICES BORDERING/NOT BORDERING RIVER"
   ]
  },
  {
   "cell_type": "code",
   "execution_count": 23,
   "metadata": {},
   "outputs": [
    {
     "name": "stdout",
     "output_type": "stream",
     "text": [
      "Test Statistic : Not Bordering River =0.928, p=0.0000\n",
      "Test Statistic : Bordering River =0.836, p=0.0001\n"
     ]
    }
   ],
   "source": [
    "#Check the two house price data sets for normality using the Shapiro-Wilks test\n",
    "\n",
    "shapiro_test1 = shapiro(Not_River_Price) \n",
    "shapiro_test2 = shapiro(River_Price) \n",
    "\n",
    "stat1, p1 = shapiro_test1\n",
    "stat2, p2 = shapiro_test2\n",
    "print('Test Statistic : Not Bordering River =%.3f, p=%.4f' % (stat1, p1))\n",
    "print('Test Statistic : Bordering River =%.3f, p=%.4f' % (stat2, p2))"
   ]
  },
  {
   "cell_type": "markdown",
   "metadata": {},
   "source": [
    "The normality test of the house prices bordering/not bordering the river both suggest that we can reject the null hypothesis, $H_0$, and accept the alternative hypothesis, $H_1$, the two sets are non-normal\n",
    "\n",
    "**Although the data displays non-normality, (and the presence of outliers) - parametric tests of the house prices are still suitable due to the large sample sizes we have** \n",
    "\n",
    "REF [https://blog.minitab.com/blog/understanding-statistics/data-not-normal-try-letting-it-be-with-a-nonparametric-hypothesis-test]\n",
    "\n",
    "This is also a satisfactory approach since the **Central Limit Theorem** states that given a sufficiently large sample size from a population (usually more than 30) with a finite level of variance, the mean of all samples from the same population will be approximately equal to the mean of the population.\n",
    "\n",
    "**CENTRAL LIMIT THEOREM**\n",
    "\n",
    "If X1, X2,...Xn is a random sample of size n taken from a population (either finite\n",
    "or infinite) with mean $u$ and finite variance $\\sigma^2$ , and if $\\bar X$ is the sample mean, the limiting\n",
    "form of the distribution of\n",
    "\n",
    "$Z$ = $\\frac{\\bar X - u} {\\frac{\\sigma}{\\sqrt n}}$\n",
    "\n",
    "\n",
    "as n -->0, is the standard normal distribution.\n",
    "\n",
    "REF[Applied Statistics and Probability for Engineers.; Montgomery,D.C.; Wiley; 2003]"
   ]
  },
  {
   "cell_type": "markdown",
   "metadata": {},
   "source": [
    "### PAIRED T-TEST"
   ]
  },
  {
   "cell_type": "code",
   "execution_count": 24,
   "metadata": {},
   "outputs": [
    {
     "name": "stdout",
     "output_type": "stream",
     "text": [
      "Test Statistic = -3.996, p=0.0001\n"
     ]
    }
   ],
   "source": [
    "#Carry out a paired t-test on the house prices bordering/not bordering the river\n",
    "\n",
    "stats.ttest_ind(Not_River_Price, River_Price)\n",
    "\n",
    "stat, p = stats.ttest_ind(Not_River_Price, River_Price)\n",
    "print('Test Statistic = %.3f, p=%.4f' % (stat, p))\n",
    "\n",
    "# REF [https://docs.scipy.org/doc/scipy/reference/generated/scipy.stats.ttest_ind.html]"
   ]
  },
  {
   "cell_type": "markdown",
   "metadata": {},
   "source": [
    "A Test Statistic of -3.996 and  $p$ value of p=0.0001 suggest that we can reject the null hypothesis of equal means.\n",
    "\n",
    "Therefore we can conclude that there is a difference in the mean house price between houses bordering the Charles River and those not bordering the Charles River"
   ]
  },
  {
   "cell_type": "markdown",
   "metadata": {},
   "source": [
    "the following analysis was used as the basis for our investigation of descriptive and inferential statistics:\n",
    "\n",
    "REF: [https://subscription.packtpub.com/book/programming/9781789804744/1/ch01lvl1sec11/our-first-analysis-the-boston-housing-dataset]"
   ]
  },
  {
   "cell_type": "markdown",
   "metadata": {},
   "source": [
    "#  PREDICT \n",
    "\n"
   ]
  },
  {
   "cell_type": "markdown",
   "metadata": {},
   "source": [
    "## NEURAL NETWORK USING KERAS\n",
    "\n",
    "In this section we will attempt to predict the house prices based on other variables using the Keras Neural Network library\n",
    "\n",
    "REF [https://keras.io/]"
   ]
  },
  {
   "cell_type": "markdown",
   "metadata": {},
   "source": [
    "`BatchNormalization` is added as a means of getting all the attributes on the same scale: This is important in datasets where the input variables vary greatly in scale. "
   ]
  },
  {
   "cell_type": "code",
   "execution_count": 25,
   "metadata": {},
   "outputs": [
    {
     "name": "stdout",
     "output_type": "stream",
     "text": [
      "Model: \"sequential_1\"\n",
      "_________________________________________________________________\n",
      "Layer (type)                 Output Shape              Param #   \n",
      "=================================================================\n",
      "dense_1 (Dense)              (None, 4)                 20        \n",
      "_________________________________________________________________\n",
      "dense_2 (Dense)              (None, 2)                 10        \n",
      "_________________________________________________________________\n",
      "dense_3 (Dense)              (None, 2)                 6         \n",
      "_________________________________________________________________\n",
      "dense_4 (Dense)              (None, 1)                 3         \n",
      "=================================================================\n",
      "Total params: 39\n",
      "Trainable params: 39\n",
      "Non-trainable params: 0\n",
      "_________________________________________________________________\n"
     ]
    }
   ],
   "source": [
    "#Import relevant Keras libraries\n",
    "\n",
    "#import the sequential model\n",
    "from keras.models import Sequential\n",
    "from keras.models import Model\n",
    "\n",
    "from keras import optimizers \n",
    "\n",
    "#import the relevent layer types and activation\n",
    "from keras.layers import Dense, Activation\n",
    "# For encoding categorical variables.\n",
    "import sklearn.preprocessing as pre\n",
    "\n",
    "# For splitting into training and test sets.\n",
    "import sklearn.model_selection as mod\n",
    "\n",
    "#Create a new sequential model\n",
    "model = Sequential()\n",
    "\n",
    "\n",
    "#Introduce regularisation\n",
    "\n",
    "model.add(Dense(4, input_dim=(4), activation=\"relu\",kernel_regularizer=regularizers.l2(0.01), activity_regularizer=regularizers.l1(0.01)))\n",
    "\n",
    "kr.layers.BatchNormalization()\n",
    "\n",
    "model.add(Dense(2, activation=\"relu\"))\n",
    "\n",
    "kr.layers.BatchNormalization()\n",
    "\n",
    "model.add(Dense(2, activation=\"relu\"))\n",
    "\n",
    "model.add(Dense(1))\n",
    "\n",
    "model.summary()"
   ]
  },
  {
   "cell_type": "markdown",
   "metadata": {},
   "source": [
    "**BUILD THE MODEL**\n",
    "\n",
    "We will experiment with 1 input layer with 13 neurons, 1 hidden layer with 6 neurons and 1 output layer. The input shape is the number of variables i.e. 13. The activation function is `relu` - Rectified Linear Unit. This activation function normalises the inputs."
   ]
  },
  {
   "cell_type": "code",
   "execution_count": 26,
   "metadata": {},
   "outputs": [],
   "source": [
    "#Set the x and y parameters for independent and dependent variables\n",
    "\n",
    "x = bos[['ZN','RM', 'PTRATIO', 'LSTAT']]\n",
    "y = bos[['PRICE']]\n",
    "\n",
    "#drop some parameters to try and simplify the model\n",
    "\n",
    "#x = bos[['CRIM', 'INDUS', 'ZN', 'CHAS', 'NOX', 'RM', 'AGE', 'DIS', 'RAD', 'TAX', 'PTRATIO', 'LSTAT', 'TAX']]\n"
   ]
  },
  {
   "cell_type": "markdown",
   "metadata": {},
   "source": [
    "**COMPILE THE MODEL**\n",
    "\n",
    "Gradient descent is an optimisation algorithm which works by changing parameters of the input functions such as weights until the loss function converges on a minimum.\n",
    "\n",
    "The model was initially compiled using a Stochastic Gradient Descent optimiser `sgd` and the loss function Mean Square Error `mse`.\n",
    "\n",
    "Better results were found using the `Adam` optimiser and `mean_squared_error`\n",
    "\n",
    "* **Stochastic Gradient Descent optimiser**, as the name suggests picks a random instance in the training set and computes the gradient based only on that instance. This is in contrast to 'Batch gradient descent which uses the entire dataset to calculate the gradients which is slow (for a large dataset). Due to its random nature, the cost function for stochastic gradient descent will increase and decrease, over time approaching its minimum.\n",
    "  \n",
    "\n",
    "* **Mean Square Error** is a useful loss function for regression problems where a value is predicted from continuous variables.\n",
    " \n",
    "    REF [Applied Deep Learning with Python By Alex Galea, Luis Capelo August 2018]\n",
    "    \n",
    "    REF [Hands-On Machine Learning with Scikit-Learn, KERAS & TensorFlow; Geron, A.; O'Reilly; 2019, 2nd Ed]"
   ]
  },
  {
   "cell_type": "markdown",
   "metadata": {},
   "source": [
    "**Attempt to adjust learning rate to get better cost value**"
   ]
  },
  {
   "cell_type": "code",
   "execution_count": 27,
   "metadata": {},
   "outputs": [],
   "source": [
    "#compile the model specifying the model optimiser and loss function\n",
    "\n",
    "# Optimizers Tried\n",
    "sgd = optimizers.SGD(lr=0.001, clipnorm=1.0)\n",
    "Adam = kr.optimizers.Adam(learning_rate=0.001, beta_1=0.9, beta_2=0.999, amsgrad=False)\n",
    "RMSprop = kr.optimizers.RMSprop(learning_rate=0.001, rho=0.9)\n",
    "Adagrad = kr.optimizers.Adagrad(learning_rate=0.01)\n",
    "Adadelta = kr.optimizers.Adadelta(learning_rate=1.0, rho=0.95)\n",
    "Adamax = kr.optimizers.Adamax(learning_rate=0.002, beta_1=0.9, beta_2=0.999)\n",
    "Nadam = kr.optimizers.Nadam(learning_rate=0.002, beta_1=0.9, beta_2=0.999)\n",
    "\n",
    "#loss Functions tried\n",
    "#model.compile(optimizer=\"Adam\", loss =\"mean_squared_error\")\n",
    "#model.compile(optimizer=\"Adam\", loss =\"mean_absolute_error\")\n",
    "#model.compile(optimizer=\"Adam\", loss =\"mean_absolute_percentage_error\")\n",
    "#model.compile(optimizer=\"Adam\", loss =\"mean_squared_logarithmic_error\")\n",
    "#model.compile(optimizer=\"Adam\", loss =\"hinge\")\n",
    "#model.compile(optimizer=\"Adam\", loss =\"log_cosh\")\n",
    "#model.compile(optimizer=\"Adam\", loss =\"huber_loss\")\n",
    "\n",
    "#changed to 'Adam' optimiser, loss mean_squared_error, \n",
    "#metrics added ref https://stackoverflow.com/questions/48775305/what-function-defines-accuracy-in-keras-when-the-loss-is-mean-squared-error-mse?rq=1\n",
    "model.compile(optimizer=\"Adam\", loss =\"mean_squared_error\")"
   ]
  },
  {
   "cell_type": "markdown",
   "metadata": {},
   "source": [
    "**CREATE A TRAINING AND TESTING SET**\n",
    "\n",
    "Like all regression problems it is necessary to create a training `x_train` , `y_train` and testing set `x_test`, `y_test` with which to train the model to create predictions of our output variable and a testing set to test the accuracy of the predictive model we have created.\n",
    "\n",
    "We have specified a `test_size` of 0.5 i.e. half the data will be used to test the model."
   ]
  },
  {
   "cell_type": "code",
   "execution_count": 28,
   "metadata": {},
   "outputs": [],
   "source": [
    "# Define our training set: size of the test set is 0.2 i.e. 20% of the dataset\n",
    "\n",
    "x_train, x_test, y_train, y_test = mod.train_test_split(x, y, test_size=0.2, random_state = 42)"
   ]
  },
  {
   "cell_type": "markdown",
   "metadata": {},
   "source": [
    "`model.fit` Trains the model over a fixed number of epochs\n",
    "\n",
    "**epochs**: are the number of epochs to train the model. An epoch is an iteration over the entire x and y data provided. \n",
    "\n",
    "REF[https://keras.io/models/model/]"
   ]
  },
  {
   "cell_type": "markdown",
   "metadata": {},
   "source": [
    "`EarlyStopping` stops the model when it doesnt improve the cost function after a specified number of epochs of same loss value. `patience` defines the number of epochs of same loss value before stopping\n",
    "\n",
    "REF [https://towardsdatascience.com/building-a-deep-learning-model-using-keras-1548ca149d37]\n",
    "\n",
    "Validation model also added:\n",
    "\n",
    "Validationis a process of holding out part of the test set during optimisation in order to evaluate several candidate models and select the best one.\n",
    "\n",
    "`validation_split`: Float between 0 and 1. Fraction of the training data to be used as validation data. The model will set apart this fraction of the training data, will not train on it, and will evaluate the loss and any model metrics on this data at the end of each epoch. The validation data is selected from the last samples in the x and y data provided, before shuffling. \n",
    "\n",
    "`Val_Loss` is the loss value calculated on the validation test set after each epoch\n",
    "\n",
    "REF [https://keras.io/models/model/]"
   ]
  },
  {
   "cell_type": "markdown",
   "metadata": {},
   "source": [
    "**GRADIENT DESCENT**\n",
    "\n"
   ]
  },
  {
   "cell_type": "code",
   "execution_count": 29,
   "metadata": {},
   "outputs": [
    {
     "name": "stdout",
     "output_type": "stream",
     "text": [
      "Train on 323 samples, validate on 81 samples\n",
      "Epoch 1/1000\n",
      "323/323 [==============================] - 0s 340us/step - loss: 610.3288 - val_loss: 563.0175\n",
      "Epoch 2/1000\n",
      "323/323 [==============================] - 0s 50us/step - loss: 602.1093 - val_loss: 557.0357\n",
      "Epoch 3/1000\n",
      "323/323 [==============================] - 0s 43us/step - loss: 594.3948 - val_loss: 551.4896\n",
      "Epoch 4/1000\n",
      "323/323 [==============================] - 0s 43us/step - loss: 587.1429 - val_loss: 545.8577\n",
      "Epoch 5/1000\n",
      "323/323 [==============================] - 0s 52us/step - loss: 579.3014 - val_loss: 540.2571\n",
      "Epoch 6/1000\n",
      "323/323 [==============================] - 0s 49us/step - loss: 571.9793 - val_loss: 534.7222\n",
      "Epoch 7/1000\n",
      "323/323 [==============================] - 0s 56us/step - loss: 565.0401 - val_loss: 528.7687\n",
      "Epoch 8/1000\n",
      "323/323 [==============================] - 0s 49us/step - loss: 558.0454 - val_loss: 522.9443\n",
      "Epoch 9/1000\n",
      "323/323 [==============================] - 0s 56us/step - loss: 551.1169 - val_loss: 517.3016\n",
      "Epoch 10/1000\n",
      "323/323 [==============================] - 0s 59us/step - loss: 544.4394 - val_loss: 511.4402\n",
      "Epoch 11/1000\n",
      "323/323 [==============================] - 0s 52us/step - loss: 537.6663 - val_loss: 505.5610\n",
      "Epoch 12/1000\n",
      "323/323 [==============================] - 0s 52us/step - loss: 531.0558 - val_loss: 498.9837\n",
      "Epoch 13/1000\n",
      "323/323 [==============================] - 0s 56us/step - loss: 524.3723 - val_loss: 492.7755\n",
      "Epoch 14/1000\n",
      "323/323 [==============================] - 0s 56us/step - loss: 518.2286 - val_loss: 487.0156\n",
      "Epoch 15/1000\n",
      "323/323 [==============================] - 0s 53us/step - loss: 512.8318 - val_loss: 481.2789\n",
      "Epoch 16/1000\n",
      "323/323 [==============================] - 0s 56us/step - loss: 507.6813 - val_loss: 475.8907\n",
      "Epoch 17/1000\n",
      "323/323 [==============================] - 0s 62us/step - loss: 502.9162 - val_loss: 470.4892\n",
      "Epoch 18/1000\n",
      "323/323 [==============================] - 0s 56us/step - loss: 498.5349 - val_loss: 465.5855\n",
      "Epoch 19/1000\n",
      "323/323 [==============================] - 0s 49us/step - loss: 494.3658 - val_loss: 460.8679\n",
      "Epoch 20/1000\n",
      "323/323 [==============================] - 0s 52us/step - loss: 490.7774 - val_loss: 455.6555\n",
      "Epoch 21/1000\n",
      "323/323 [==============================] - 0s 53us/step - loss: 486.9544 - val_loss: 451.1503\n",
      "Epoch 22/1000\n",
      "323/323 [==============================] - 0s 49us/step - loss: 483.5608 - val_loss: 446.9162\n",
      "Epoch 23/1000\n",
      "323/323 [==============================] - 0s 52us/step - loss: 480.5248 - val_loss: 443.5942\n",
      "Epoch 24/1000\n",
      "323/323 [==============================] - 0s 56us/step - loss: 477.7759 - val_loss: 440.7440\n",
      "Epoch 25/1000\n",
      "323/323 [==============================] - 0s 52us/step - loss: 474.6527 - val_loss: 435.8827\n",
      "Epoch 26/1000\n",
      "323/323 [==============================] - 0s 52us/step - loss: 468.9903 - val_loss: 430.4680\n",
      "Epoch 27/1000\n",
      "323/323 [==============================] - 0s 62us/step - loss: 458.8326 - val_loss: 416.1849\n",
      "Epoch 28/1000\n",
      "323/323 [==============================] - 0s 43us/step - loss: 437.3074 - val_loss: 386.3756\n",
      "Epoch 29/1000\n",
      "323/323 [==============================] - 0s 49us/step - loss: 403.1139 - val_loss: 349.9771\n",
      "Epoch 30/1000\n",
      "323/323 [==============================] - 0s 46us/step - loss: 365.0975 - val_loss: 311.8256\n",
      "Epoch 31/1000\n",
      "323/323 [==============================] - 0s 49us/step - loss: 327.2257 - val_loss: 274.2916\n",
      "Epoch 32/1000\n",
      "323/323 [==============================] - 0s 43us/step - loss: 290.1230 - val_loss: 233.7153\n",
      "Epoch 33/1000\n",
      "323/323 [==============================] - 0s 37us/step - loss: 249.8700 - val_loss: 192.7760\n",
      "Epoch 34/1000\n",
      "323/323 [==============================] - 0s 40us/step - loss: 212.7093 - val_loss: 155.8930\n",
      "Epoch 35/1000\n",
      "323/323 [==============================] - 0s 40us/step - loss: 178.2856 - val_loss: 126.9238\n",
      "Epoch 36/1000\n",
      "323/323 [==============================] - 0s 37us/step - loss: 154.8021 - val_loss: 106.8124\n",
      "Epoch 37/1000\n",
      "323/323 [==============================] - 0s 49us/step - loss: 137.4835 - val_loss: 97.4198\n",
      "Epoch 38/1000\n",
      "323/323 [==============================] - 0s 40us/step - loss: 128.2303 - val_loss: 93.2209\n",
      "Epoch 39/1000\n",
      "323/323 [==============================] - 0s 46us/step - loss: 121.9612 - val_loss: 90.8084\n",
      "Epoch 40/1000\n",
      "323/323 [==============================] - 0s 46us/step - loss: 116.8790 - val_loss: 88.9390\n",
      "Epoch 41/1000\n",
      "323/323 [==============================] - 0s 49us/step - loss: 112.8349 - val_loss: 88.0294\n",
      "Epoch 42/1000\n",
      "323/323 [==============================] - 0s 46us/step - loss: 109.8795 - val_loss: 87.9656\n",
      "Epoch 43/1000\n",
      "323/323 [==============================] - 0s 49us/step - loss: 107.2800 - val_loss: 86.7227\n",
      "Epoch 44/1000\n",
      "323/323 [==============================] - 0s 50us/step - loss: 104.4263 - val_loss: 84.4075\n",
      "Epoch 45/1000\n",
      "323/323 [==============================] - 0s 49us/step - loss: 101.5059 - val_loss: 82.7832\n",
      "Epoch 46/1000\n",
      "323/323 [==============================] - 0s 43us/step - loss: 99.1050 - val_loss: 81.4517\n",
      "Epoch 47/1000\n",
      "323/323 [==============================] - 0s 46us/step - loss: 96.7303 - val_loss: 80.0972\n",
      "Epoch 48/1000\n",
      "323/323 [==============================] - 0s 40us/step - loss: 94.4861 - val_loss: 78.8748\n",
      "Epoch 49/1000\n",
      "323/323 [==============================] - 0s 40us/step - loss: 92.1733 - val_loss: 77.3396\n",
      "Epoch 50/1000\n",
      "323/323 [==============================] - 0s 49us/step - loss: 89.5875 - val_loss: 76.7218\n",
      "Epoch 51/1000\n",
      "323/323 [==============================] - 0s 40us/step - loss: 87.7902 - val_loss: 75.5196\n",
      "Epoch 52/1000\n",
      "323/323 [==============================] - 0s 46us/step - loss: 85.2716 - val_loss: 74.0159\n",
      "Epoch 53/1000\n",
      "323/323 [==============================] - 0s 40us/step - loss: 83.2111 - val_loss: 72.2022\n",
      "Epoch 54/1000\n",
      "323/323 [==============================] - 0s 37us/step - loss: 80.8590 - val_loss: 70.3482\n",
      "Epoch 55/1000\n",
      "323/323 [==============================] - 0s 49us/step - loss: 78.8221 - val_loss: 68.9147\n",
      "Epoch 56/1000\n",
      "323/323 [==============================] - 0s 37us/step - loss: 76.7835 - val_loss: 67.9330\n",
      "Epoch 57/1000\n",
      "323/323 [==============================] - 0s 37us/step - loss: 74.7695 - val_loss: 66.7941\n",
      "Epoch 58/1000\n",
      "323/323 [==============================] - 0s 37us/step - loss: 72.7944 - val_loss: 65.5487\n",
      "Epoch 59/1000\n",
      "323/323 [==============================] - 0s 37us/step - loss: 71.1062 - val_loss: 64.6648\n",
      "Epoch 60/1000\n",
      "323/323 [==============================] - 0s 34us/step - loss: 69.4221 - val_loss: 63.9596\n",
      "Epoch 61/1000\n",
      "323/323 [==============================] - 0s 37us/step - loss: 67.6229 - val_loss: 63.1301\n",
      "Epoch 62/1000\n",
      "323/323 [==============================] - 0s 40us/step - loss: 66.1232 - val_loss: 62.3957\n",
      "Epoch 63/1000\n",
      "323/323 [==============================] - 0s 34us/step - loss: 64.9548 - val_loss: 62.5832\n",
      "Epoch 64/1000\n",
      "323/323 [==============================] - 0s 34us/step - loss: 63.6892 - val_loss: 61.5178\n",
      "Epoch 65/1000\n",
      "323/323 [==============================] - 0s 37us/step - loss: 61.8643 - val_loss: 60.3995\n",
      "Epoch 66/1000\n",
      "323/323 [==============================] - 0s 37us/step - loss: 60.3782 - val_loss: 59.3625\n",
      "Epoch 67/1000\n",
      "323/323 [==============================] - 0s 37us/step - loss: 58.5415 - val_loss: 58.2972\n",
      "Epoch 68/1000\n",
      "323/323 [==============================] - 0s 34us/step - loss: 57.3048 - val_loss: 57.1253\n",
      "Epoch 69/1000\n",
      "323/323 [==============================] - 0s 34us/step - loss: 55.9741 - val_loss: 55.9243\n",
      "Epoch 70/1000\n",
      "323/323 [==============================] - 0s 37us/step - loss: 54.5542 - val_loss: 54.4257\n",
      "Epoch 71/1000\n",
      "323/323 [==============================] - 0s 34us/step - loss: 53.2007 - val_loss: 53.1479\n",
      "Epoch 72/1000\n",
      "323/323 [==============================] - 0s 34us/step - loss: 53.3382 - val_loss: 52.9637\n",
      "Epoch 73/1000\n",
      "323/323 [==============================] - 0s 34us/step - loss: 52.2561 - val_loss: 52.7808\n",
      "Epoch 74/1000\n",
      "323/323 [==============================] - 0s 37us/step - loss: 51.3945 - val_loss: 52.6804\n",
      "Epoch 75/1000\n",
      "323/323 [==============================] - 0s 34us/step - loss: 51.0515 - val_loss: 52.5392\n",
      "Epoch 76/1000\n",
      "323/323 [==============================] - 0s 34us/step - loss: 50.7917 - val_loss: 52.3842\n",
      "Epoch 77/1000\n"
     ]
    },
    {
     "name": "stdout",
     "output_type": "stream",
     "text": [
      "323/323 [==============================] - 0s 43us/step - loss: 50.4409 - val_loss: 52.4244\n",
      "Epoch 78/1000\n",
      "323/323 [==============================] - 0s 37us/step - loss: 49.9321 - val_loss: 52.2122\n",
      "Epoch 79/1000\n",
      "323/323 [==============================] - 0s 40us/step - loss: 49.7169 - val_loss: 52.2972\n",
      "Epoch 80/1000\n",
      "323/323 [==============================] - 0s 37us/step - loss: 49.5527 - val_loss: 52.0389\n",
      "Epoch 81/1000\n",
      "323/323 [==============================] - 0s 34us/step - loss: 49.0678 - val_loss: 52.0572\n",
      "Epoch 82/1000\n",
      "323/323 [==============================] - 0s 40us/step - loss: 48.8938 - val_loss: 52.0961\n",
      "Epoch 83/1000\n",
      "323/323 [==============================] - 0s 34us/step - loss: 48.6613 - val_loss: 51.4933\n",
      "Epoch 84/1000\n",
      "323/323 [==============================] - 0s 37us/step - loss: 48.5922 - val_loss: 51.1847\n",
      "Epoch 85/1000\n",
      "323/323 [==============================] - 0s 34us/step - loss: 48.2388 - val_loss: 51.4335\n",
      "Epoch 86/1000\n",
      "323/323 [==============================] - 0s 34us/step - loss: 48.1389 - val_loss: 51.3686\n",
      "Epoch 87/1000\n",
      "323/323 [==============================] - 0s 40us/step - loss: 47.7155 - val_loss: 50.7724\n",
      "Epoch 88/1000\n",
      "323/323 [==============================] - 0s 43us/step - loss: 46.8052 - val_loss: 49.5151\n",
      "Epoch 89/1000\n",
      "323/323 [==============================] - 0s 43us/step - loss: 45.0609 - val_loss: 48.7532\n",
      "Epoch 90/1000\n",
      "323/323 [==============================] - 0s 37us/step - loss: 43.8246 - val_loss: 48.0454\n",
      "Epoch 91/1000\n",
      "323/323 [==============================] - 0s 37us/step - loss: 43.0597 - val_loss: 47.2470\n",
      "Epoch 92/1000\n",
      "323/323 [==============================] - 0s 34us/step - loss: 42.3451 - val_loss: 46.5346\n",
      "Epoch 93/1000\n",
      "323/323 [==============================] - 0s 37us/step - loss: 42.1351 - val_loss: 46.3497\n",
      "Epoch 94/1000\n",
      "323/323 [==============================] - 0s 37us/step - loss: 41.5991 - val_loss: 46.0912\n",
      "Epoch 95/1000\n",
      "323/323 [==============================] - 0s 31us/step - loss: 41.6512 - val_loss: 45.8683\n",
      "Epoch 96/1000\n",
      "323/323 [==============================] - 0s 34us/step - loss: 41.2698 - val_loss: 45.3179\n",
      "Epoch 97/1000\n",
      "323/323 [==============================] - 0s 37us/step - loss: 40.6720 - val_loss: 44.9247\n",
      "Epoch 98/1000\n",
      "323/323 [==============================] - 0s 31us/step - loss: 40.3878 - val_loss: 44.4458\n",
      "Epoch 99/1000\n",
      "323/323 [==============================] - 0s 34us/step - loss: 40.1805 - val_loss: 44.3121\n",
      "Epoch 100/1000\n",
      "323/323 [==============================] - 0s 37us/step - loss: 40.0319 - val_loss: 44.0760\n",
      "Epoch 101/1000\n",
      "323/323 [==============================] - 0s 37us/step - loss: 39.6330 - val_loss: 43.5522\n",
      "Epoch 102/1000\n",
      "323/323 [==============================] - 0s 34us/step - loss: 39.3294 - val_loss: 43.1244\n",
      "Epoch 103/1000\n",
      "323/323 [==============================] - 0s 34us/step - loss: 39.0851 - val_loss: 42.9629\n",
      "Epoch 104/1000\n",
      "323/323 [==============================] - 0s 34us/step - loss: 38.8214 - val_loss: 42.8875\n",
      "Epoch 105/1000\n",
      "323/323 [==============================] - 0s 37us/step - loss: 38.6175 - val_loss: 42.7626\n",
      "Epoch 106/1000\n",
      "323/323 [==============================] - 0s 34us/step - loss: 38.3459 - val_loss: 42.3401\n",
      "Epoch 107/1000\n",
      "323/323 [==============================] - 0s 34us/step - loss: 38.1991 - val_loss: 42.1009\n",
      "Epoch 108/1000\n",
      "323/323 [==============================] - 0s 37us/step - loss: 37.9520 - val_loss: 41.7226\n",
      "Epoch 109/1000\n",
      "323/323 [==============================] - 0s 37us/step - loss: 37.7892 - val_loss: 41.4019\n",
      "Epoch 110/1000\n",
      "323/323 [==============================] - 0s 34us/step - loss: 37.6195 - val_loss: 41.1322\n",
      "Epoch 111/1000\n",
      "323/323 [==============================] - 0s 34us/step - loss: 37.4516 - val_loss: 40.9043\n",
      "Epoch 112/1000\n",
      "323/323 [==============================] - 0s 34us/step - loss: 37.5017 - val_loss: 40.8727\n",
      "Epoch 113/1000\n",
      "323/323 [==============================] - 0s 37us/step - loss: 37.0586 - val_loss: 41.0269\n",
      "Epoch 114/1000\n",
      "323/323 [==============================] - 0s 34us/step - loss: 37.0333 - val_loss: 40.8655\n",
      "Epoch 115/1000\n",
      "323/323 [==============================] - 0s 34us/step - loss: 36.9236 - val_loss: 40.5591\n",
      "Epoch 116/1000\n",
      "323/323 [==============================] - 0s 37us/step - loss: 36.5352 - val_loss: 40.2541\n",
      "Epoch 117/1000\n",
      "323/323 [==============================] - 0s 37us/step - loss: 36.3842 - val_loss: 40.1494\n",
      "Epoch 118/1000\n",
      "323/323 [==============================] - 0s 34us/step - loss: 36.2863 - val_loss: 39.6628\n",
      "Epoch 119/1000\n",
      "323/323 [==============================] - 0s 34us/step - loss: 36.1865 - val_loss: 39.5029\n",
      "Epoch 120/1000\n",
      "323/323 [==============================] - 0s 37us/step - loss: 36.1105 - val_loss: 39.4012\n",
      "Epoch 121/1000\n",
      "323/323 [==============================] - 0s 40us/step - loss: 35.6389 - val_loss: 39.0485\n",
      "Epoch 122/1000\n",
      "323/323 [==============================] - 0s 43us/step - loss: 35.5204 - val_loss: 38.8400\n",
      "Epoch 123/1000\n",
      "323/323 [==============================] - 0s 46us/step - loss: 35.5156 - val_loss: 39.0489\n",
      "Epoch 124/1000\n",
      "323/323 [==============================] - 0s 37us/step - loss: 35.3886 - val_loss: 38.6903\n",
      "Epoch 125/1000\n",
      "323/323 [==============================] - 0s 40us/step - loss: 35.0923 - val_loss: 38.5034\n",
      "Epoch 126/1000\n",
      "323/323 [==============================] - 0s 34us/step - loss: 34.9632 - val_loss: 38.2254\n",
      "Epoch 127/1000\n",
      "323/323 [==============================] - 0s 37us/step - loss: 34.7342 - val_loss: 37.9154\n",
      "Epoch 128/1000\n",
      "323/323 [==============================] - 0s 34us/step - loss: 34.6067 - val_loss: 37.7008\n",
      "Epoch 129/1000\n",
      "323/323 [==============================] - 0s 31us/step - loss: 34.5060 - val_loss: 37.6742\n",
      "Epoch 130/1000\n",
      "323/323 [==============================] - 0s 34us/step - loss: 34.5355 - val_loss: 37.7636\n",
      "Epoch 131/1000\n",
      "323/323 [==============================] - 0s 37us/step - loss: 34.3130 - val_loss: 37.1885\n",
      "Epoch 132/1000\n",
      "323/323 [==============================] - 0s 34us/step - loss: 33.9450 - val_loss: 36.9236\n",
      "Epoch 133/1000\n",
      "323/323 [==============================] - 0s 34us/step - loss: 33.8175 - val_loss: 36.7461\n",
      "Epoch 134/1000\n",
      "323/323 [==============================] - 0s 34us/step - loss: 33.6797 - val_loss: 36.5970\n",
      "Epoch 135/1000\n",
      "323/323 [==============================] - 0s 37us/step - loss: 33.5025 - val_loss: 36.5043\n",
      "Epoch 136/1000\n",
      "323/323 [==============================] - 0s 37us/step - loss: 33.9587 - val_loss: 36.8586\n",
      "Epoch 137/1000\n",
      "323/323 [==============================] - 0s 34us/step - loss: 33.3692 - val_loss: 36.1756\n",
      "Epoch 138/1000\n",
      "323/323 [==============================] - 0s 37us/step - loss: 33.4276 - val_loss: 36.0275\n",
      "Epoch 139/1000\n",
      "323/323 [==============================] - 0s 34us/step - loss: 32.9886 - val_loss: 35.8881\n",
      "Epoch 140/1000\n",
      "323/323 [==============================] - 0s 37us/step - loss: 32.8695 - val_loss: 35.6243\n",
      "Epoch 141/1000\n",
      "323/323 [==============================] - 0s 37us/step - loss: 32.7355 - val_loss: 35.4464\n",
      "Epoch 142/1000\n",
      "323/323 [==============================] - 0s 37us/step - loss: 32.5541 - val_loss: 35.5514\n",
      "Epoch 143/1000\n",
      "323/323 [==============================] - 0s 34us/step - loss: 32.4518 - val_loss: 35.2047\n",
      "Epoch 144/1000\n",
      "323/323 [==============================] - 0s 37us/step - loss: 32.2267 - val_loss: 34.9836\n",
      "Epoch 145/1000\n",
      "323/323 [==============================] - 0s 34us/step - loss: 32.1503 - val_loss: 34.8627\n",
      "Epoch 146/1000\n",
      "323/323 [==============================] - 0s 37us/step - loss: 31.9858 - val_loss: 34.8603\n",
      "Epoch 147/1000\n",
      "323/323 [==============================] - 0s 34us/step - loss: 31.9868 - val_loss: 34.7734\n",
      "Epoch 148/1000\n",
      "323/323 [==============================] - 0s 34us/step - loss: 31.7897 - val_loss: 34.9023\n",
      "Epoch 149/1000\n",
      "323/323 [==============================] - 0s 34us/step - loss: 31.8364 - val_loss: 34.6717\n",
      "Epoch 150/1000\n",
      "323/323 [==============================] - 0s 37us/step - loss: 31.6283 - val_loss: 34.2921\n",
      "Epoch 151/1000\n",
      "323/323 [==============================] - 0s 37us/step - loss: 31.4475 - val_loss: 34.1381\n",
      "Epoch 152/1000\n",
      "323/323 [==============================] - 0s 37us/step - loss: 31.3908 - val_loss: 34.1265\n",
      "Epoch 153/1000\n",
      "323/323 [==============================] - 0s 34us/step - loss: 31.3150 - val_loss: 33.8705\n"
     ]
    },
    {
     "name": "stdout",
     "output_type": "stream",
     "text": [
      "Epoch 154/1000\n",
      "323/323 [==============================] - 0s 37us/step - loss: 31.2388 - val_loss: 33.6117\n",
      "Epoch 155/1000\n",
      "323/323 [==============================] - 0s 37us/step - loss: 30.9284 - val_loss: 33.5500\n",
      "Epoch 156/1000\n",
      "323/323 [==============================] - 0s 37us/step - loss: 30.8627 - val_loss: 33.4143\n",
      "Epoch 157/1000\n",
      "323/323 [==============================] - 0s 34us/step - loss: 30.6480 - val_loss: 33.3714\n",
      "Epoch 158/1000\n",
      "323/323 [==============================] - 0s 43us/step - loss: 30.5253 - val_loss: 33.2004\n",
      "Epoch 159/1000\n",
      "323/323 [==============================] - 0s 34us/step - loss: 30.4870 - val_loss: 32.9853\n",
      "Epoch 160/1000\n",
      "323/323 [==============================] - 0s 37us/step - loss: 30.2933 - val_loss: 32.9013\n",
      "Epoch 161/1000\n",
      "323/323 [==============================] - 0s 37us/step - loss: 30.2408 - val_loss: 33.0758\n",
      "Epoch 162/1000\n",
      "323/323 [==============================] - 0s 34us/step - loss: 30.0719 - val_loss: 32.7855\n",
      "Epoch 163/1000\n",
      "323/323 [==============================] - 0s 37us/step - loss: 29.8606 - val_loss: 33.0421\n",
      "Epoch 164/1000\n",
      "323/323 [==============================] - 0s 40us/step - loss: 29.9531 - val_loss: 32.7849\n",
      "Epoch 165/1000\n",
      "323/323 [==============================] - 0s 37us/step - loss: 29.6333 - val_loss: 32.3591\n",
      "Epoch 166/1000\n",
      "323/323 [==============================] - 0s 37us/step - loss: 29.3309 - val_loss: 32.7547\n",
      "Epoch 167/1000\n",
      "323/323 [==============================] - 0s 37us/step - loss: 29.5616 - val_loss: 32.9106\n",
      "Epoch 168/1000\n",
      "323/323 [==============================] - 0s 34us/step - loss: 29.3775 - val_loss: 32.3697\n",
      "Epoch 169/1000\n",
      "323/323 [==============================] - 0s 37us/step - loss: 29.0660 - val_loss: 32.6374\n",
      "Epoch 170/1000\n",
      "323/323 [==============================] - 0s 37us/step - loss: 28.9629 - val_loss: 32.3682\n",
      "Epoch 171/1000\n",
      "323/323 [==============================] - 0s 36us/step - loss: 28.7269 - val_loss: 31.9825\n",
      "Epoch 172/1000\n",
      "323/323 [==============================] - 0s 40us/step - loss: 28.3806 - val_loss: 32.0918\n",
      "Epoch 173/1000\n",
      "323/323 [==============================] - 0s 40us/step - loss: 29.0416 - val_loss: 32.6618\n",
      "Epoch 174/1000\n",
      "323/323 [==============================] - 0s 40us/step - loss: 28.7220 - val_loss: 31.6880\n",
      "Epoch 175/1000\n",
      "323/323 [==============================] - 0s 37us/step - loss: 28.0486 - val_loss: 31.4513\n",
      "Epoch 176/1000\n",
      "323/323 [==============================] - 0s 37us/step - loss: 27.9161 - val_loss: 31.3573\n",
      "Epoch 177/1000\n",
      "323/323 [==============================] - 0s 37us/step - loss: 27.8041 - val_loss: 31.3339\n",
      "Epoch 178/1000\n",
      "323/323 [==============================] - 0s 37us/step - loss: 27.8271 - val_loss: 31.3277\n",
      "Epoch 179/1000\n",
      "323/323 [==============================] - 0s 37us/step - loss: 27.7297 - val_loss: 31.0068\n",
      "Epoch 180/1000\n",
      "323/323 [==============================] - 0s 37us/step - loss: 27.6360 - val_loss: 31.2421\n",
      "Epoch 181/1000\n",
      "323/323 [==============================] - 0s 37us/step - loss: 27.4875 - val_loss: 30.9079\n",
      "Epoch 182/1000\n",
      "323/323 [==============================] - 0s 37us/step - loss: 27.3389 - val_loss: 30.7381\n",
      "Epoch 183/1000\n",
      "323/323 [==============================] - 0s 32us/step - loss: 27.3478 - val_loss: 30.5834\n",
      "Epoch 184/1000\n",
      "323/323 [==============================] - 0s 37us/step - loss: 27.2425 - val_loss: 30.4890\n",
      "Epoch 185/1000\n",
      "323/323 [==============================] - 0s 34us/step - loss: 27.0775 - val_loss: 30.3356\n",
      "Epoch 186/1000\n",
      "323/323 [==============================] - 0s 37us/step - loss: 26.9591 - val_loss: 30.2452\n",
      "Epoch 187/1000\n",
      "323/323 [==============================] - 0s 34us/step - loss: 27.1005 - val_loss: 30.1945\n",
      "Epoch 188/1000\n",
      "323/323 [==============================] - 0s 37us/step - loss: 26.9275 - val_loss: 30.1054\n",
      "Epoch 189/1000\n",
      "323/323 [==============================] - 0s 34us/step - loss: 26.9608 - val_loss: 30.1580\n",
      "Epoch 190/1000\n",
      "323/323 [==============================] - 0s 34us/step - loss: 26.8030 - val_loss: 30.1422\n",
      "Epoch 191/1000\n",
      "323/323 [==============================] - 0s 37us/step - loss: 26.8814 - val_loss: 29.9791\n",
      "Epoch 192/1000\n",
      "323/323 [==============================] - 0s 34us/step - loss: 26.6241 - val_loss: 29.9034\n",
      "Epoch 193/1000\n",
      "323/323 [==============================] - 0s 34us/step - loss: 26.5369 - val_loss: 29.7511\n",
      "Epoch 194/1000\n",
      "323/323 [==============================] - 0s 37us/step - loss: 26.3912 - val_loss: 29.6535\n",
      "Epoch 195/1000\n",
      "323/323 [==============================] - 0s 34us/step - loss: 26.7286 - val_loss: 29.7191\n",
      "Epoch 196/1000\n",
      "323/323 [==============================] - 0s 34us/step - loss: 26.3041 - val_loss: 29.4822\n",
      "Epoch 197/1000\n",
      "323/323 [==============================] - 0s 34us/step - loss: 26.2893 - val_loss: 29.4414\n",
      "Epoch 198/1000\n",
      "323/323 [==============================] - 0s 37us/step - loss: 26.0791 - val_loss: 29.4920\n",
      "Epoch 199/1000\n",
      "323/323 [==============================] - 0s 37us/step - loss: 26.1886 - val_loss: 29.2394\n",
      "Epoch 200/1000\n",
      "323/323 [==============================] - 0s 37us/step - loss: 26.0763 - val_loss: 29.1553\n",
      "Epoch 201/1000\n",
      "323/323 [==============================] - 0s 40us/step - loss: 25.9478 - val_loss: 29.1011\n",
      "Epoch 202/1000\n",
      "323/323 [==============================] - 0s 34us/step - loss: 26.1094 - val_loss: 29.0775\n",
      "Epoch 203/1000\n",
      "323/323 [==============================] - 0s 37us/step - loss: 26.0049 - val_loss: 29.0346\n",
      "Epoch 204/1000\n",
      "323/323 [==============================] - 0s 37us/step - loss: 25.8194 - val_loss: 28.9326\n",
      "Epoch 205/1000\n",
      "323/323 [==============================] - 0s 37us/step - loss: 25.8140 - val_loss: 28.8481\n",
      "Epoch 206/1000\n",
      "323/323 [==============================] - 0s 37us/step - loss: 25.7986 - val_loss: 28.9189\n",
      "Epoch 207/1000\n",
      "323/323 [==============================] - 0s 37us/step - loss: 25.7817 - val_loss: 28.7817\n",
      "Epoch 208/1000\n",
      "323/323 [==============================] - 0s 37us/step - loss: 25.6546 - val_loss: 28.7866\n",
      "Epoch 209/1000\n",
      "323/323 [==============================] - 0s 40us/step - loss: 25.6394 - val_loss: 28.6750\n",
      "Epoch 210/1000\n",
      "323/323 [==============================] - 0s 37us/step - loss: 25.5175 - val_loss: 28.6076\n",
      "Epoch 211/1000\n",
      "323/323 [==============================] - 0s 34us/step - loss: 25.4792 - val_loss: 28.6592\n",
      "Epoch 212/1000\n",
      "323/323 [==============================] - 0s 37us/step - loss: 25.5298 - val_loss: 28.6797\n",
      "Epoch 213/1000\n",
      "323/323 [==============================] - 0s 37us/step - loss: 25.4588 - val_loss: 28.8184\n",
      "Epoch 214/1000\n",
      "323/323 [==============================] - 0s 34us/step - loss: 25.3696 - val_loss: 28.7603\n",
      "Epoch 215/1000\n",
      "323/323 [==============================] - 0s 34us/step - loss: 25.2461 - val_loss: 28.6078\n",
      "Epoch 216/1000\n",
      "323/323 [==============================] - 0s 34us/step - loss: 25.2274 - val_loss: 28.7041\n",
      "Epoch 217/1000\n",
      "323/323 [==============================] - 0s 37us/step - loss: 25.2137 - val_loss: 28.8878\n",
      "Epoch 218/1000\n",
      "323/323 [==============================] - 0s 37us/step - loss: 25.2880 - val_loss: 28.6157\n",
      "Epoch 219/1000\n",
      "323/323 [==============================] - 0s 34us/step - loss: 25.1268 - val_loss: 28.9189\n",
      "Epoch 220/1000\n",
      "323/323 [==============================] - 0s 37us/step - loss: 25.8722 - val_loss: 29.2524\n",
      "102/102 [==============================] - 0s 39us/step\n"
     ]
    }
   ],
   "source": [
    "#Fit the model to the training set and calculate loss\n",
    "\n",
    "#Import early stopping -\n",
    "from keras.callbacks import EarlyStopping\n",
    "early_stopping_monitor = EarlyStopping(patience=10)\n",
    "\n",
    "#train model\n",
    "\n",
    "hist = model.fit(x_train, y_train, validation_split=0.2, epochs=1000, callbacks=[early_stopping_monitor])\n",
    "\n",
    "#Calculate the predictions on the test: set x_test which is 0.5 of the entire set\n",
    "preds = model.predict(x_test)\n",
    "\n",
    "#Evaluate the performance of the model - output the loss function\n",
    "evals = model.evaluate(x_test, y_test)\n",
    "#print (\"Loss value is:\", float(\"{0:.2f}\".format(evals)))"
   ]
  },
  {
   "cell_type": "markdown",
   "metadata": {},
   "source": [
    "**PLOT OF LOSS FUNCTION**"
   ]
  },
  {
   "cell_type": "markdown",
   "metadata": {},
   "source": [
    "Plot of model loss derived from REF [https://hackernoon.com/build-your-first-neural-network-to-predict-house-prices-with-keras-3fb0839680f4] and understanding from REF []"
   ]
  },
  {
   "cell_type": "code",
   "execution_count": 30,
   "metadata": {},
   "outputs": [
    {
     "data": {
      "image/png": "[encoded data removed]",
      "text/plain": [
       "<Figure size 864x864 with 1 Axes>"
      ]
     },
     "metadata": {},
     "output_type": "display_data"
    }
   ],
   "source": [
    "plt.figure(figsize=(12, 12))\n",
    "# summarize history for loss\n",
    "plt.plot(hist.history[\"loss\"])\n",
    "plt.plot(hist.history[\"val_loss\"])\n",
    "plt.title(\"Model Loss\")\n",
    "plt.ylabel(\"Loss\")\n",
    "plt.xlabel(\"Epoch\")\n",
    "plt.legend([\"Train\", \"Val\"], loc=\"upper center\")\n",
    "plt.show()"
   ]
  },
  {
   "cell_type": "markdown",
   "metadata": {},
   "source": [
    "**TEST THE MODEL**"
   ]
  },
  {
   "cell_type": "markdown",
   "metadata": {},
   "source": [
    "The `model.fit` function iterates over the data set reducing the cost value until it reaches its minimum and outputs the result of the loss function. It can also be calculated independently using the `model.evaluate` function the result of which is seen below."
   ]
  },
  {
   "cell_type": "markdown",
   "metadata": {
    "scrolled": true
   },
   "source": [
    "# MODEL EVALUATION \n",
    "\n",
    "As calculated above"
   ]
  },
  {
   "cell_type": "code",
   "execution_count": 31,
   "metadata": {},
   "outputs": [
    {
     "name": "stdout",
     "output_type": "stream",
     "text": [
      "Loss value is: 26.415\n"
     ]
    }
   ],
   "source": [
    "model_eval = model.evaluate(x_train, y_train, verbose=0)\n",
    "\n",
    "print (\"Loss value is:\", float(\"{0:.3f}\".format(model_eval)))\n"
   ]
  },
  {
   "cell_type": "markdown",
   "metadata": {},
   "source": [
    "The above loss value 22.87 equates to a model inaccuracy of €22,870 i.e the average prediction is out by €22,870"
   ]
  },
  {
   "cell_type": "markdown",
   "metadata": {},
   "source": [
    "**QUICK COMPARISON OF ACTUAL V PREDICTED PRICES**"
   ]
  },
  {
   "cell_type": "code",
   "execution_count": 32,
   "metadata": {},
   "outputs": [
    {
     "name": "stdout",
     "output_type": "stream",
     "text": [
      "The first ten actual house price are \n",
      "    PRICE\n",
      "0   24.0\n",
      "1   21.6\n",
      "2   34.7\n",
      "3   33.4\n",
      "4   36.2\n",
      "5   28.7\n",
      "6   22.9\n",
      "7   27.1\n",
      "8   16.5\n",
      "9   18.9\n",
      "The first ten model predictions of house price are \n",
      " [[31.660492]\n",
      " [25.08715 ]\n",
      " [37.709625]\n",
      " [38.926495]\n",
      " [34.447605]\n",
      " [30.332216]\n",
      " [20.182796]\n",
      " [15.087766]\n",
      " [10.134102]\n",
      " [15.492134]]\n"
     ]
    }
   ],
   "source": [
    "#print first ten rows of dataset prices column\n",
    "first_10_Prices = bos.iloc[0:10, 13:15]\n",
    "\n",
    "print(\"The first ten actual house price are \\n\", first_10_Prices)\n",
    "\n",
    "y_true = bos['PRICE']\n",
    "y_pred = model.predict(x)\n",
    "\n",
    "#Output first 10 predictions\n",
    "print(\"The first ten model predictions of house price are \\n\",y_pred[:10])\n"
   ]
  },
  {
   "cell_type": "markdown",
   "metadata": {},
   "source": [
    "A quick comparison of the first ten actual v predicted house prices above reveals differences which vary from one comparison to another. From this we can summise that the model does not reliably predict house prices\n",
    "\n",
    "\n",
    "Learnings in the **TEST MODEL** above from REF [https://www.youtube.com/watch?v=zinEPDj7SD8]\n"
   ]
  },
  {
   "cell_type": "markdown",
   "metadata": {},
   "source": [
    "**PLOT OF PREDICTED HOUSE PRICE V ACTUAL**"
   ]
  },
  {
   "cell_type": "markdown",
   "metadata": {},
   "source": [
    "The following plot is of the first 100 actual V predicted house prices"
   ]
  },
  {
   "cell_type": "code",
   "execution_count": 33,
   "metadata": {},
   "outputs": [
    {
     "data": {
      "image/png": "[encoded data removed]",
      "text/plain": [
       "<Figure size 864x864 with 1 Axes>"
      ]
     },
     "metadata": {},
     "output_type": "display_data"
    }
   ],
   "source": [
    "#Plot of actual v predicted price of first 100 data points\n",
    "plt.figure(figsize=(12, 12))\n",
    "plt.plot(y_pred[:100], 'r-', label ='Prediction')\n",
    "plt.plot(y_true[:100], 'g', label = 'Actual')\n",
    "plt.title(\"Neural Network Prediction V Actual\")\n",
    "plt.ylabel(\"Price(x1000)\")\n",
    "plt.xlabel(\"Zone\")\n",
    "plt.legend([\"Prediction\", \"Actual\"], loc=\"upper left\")\n",
    "plt.show()"
   ]
  },
  {
   "cell_type": "code",
   "execution_count": 34,
   "metadata": {},
   "outputs": [
    {
     "name": "stdout",
     "output_type": "stream",
     "text": [
      "The Mean Square error is 155.12292\n"
     ]
    }
   ],
   "source": [
    "#Evaluate the Mean-Squared error\n",
    "\n",
    "error = np.mean(kr.losses.mean_squared_error(y_true, y_pred))\n",
    "\n",
    "#MSE of first 100 predictions\n",
    "print (\"The Mean Square error is\", error) \n",
    "      "
   ]
  },
  {
   "cell_type": "markdown",
   "metadata": {},
   "source": [
    "As can be seen above the mean square error is 139 on our test set and shows that the model is not accurately predicting unknowns but has a lower loss value of approx 5 on the training set.\n",
    "\n",
    "Models which produce a low loss function but fail to accurately predict test data may be over-fitting the test set i.e the model does not generalise well to unknowns. Various approaches are advised to prevent over-fitting\n",
    "\n",
    "\n",
    "REF: [Hands-On Machine Learning with Scikit-Learn, KERAS & TensorFlow; Geron, A.; O'Reilly; 2019, 2nd Ed, p.27]\n",
    "REF: [ https://towardsdatascience.com/soon-or-later-you-will-face-this-problem-c5f204e9f55a ]"
   ]
  },
  {
   "cell_type": "markdown",
   "metadata": {},
   "source": [
    "**REDUCTION OF OVERFITTING**"
   ]
  },
  {
   "cell_type": "markdown",
   "metadata": {},
   "source": [
    "Models which produce a low loss function but fail to accurately predict test data may be over-fitting the test set. Various approaches are advised to prevent over-fitting\n",
    "\n",
    "Originally the test_set had been set to 0.5 of the data. Changing it to 0.2 had no tangible effect on the model.\n",
    "\n",
    "This article referenced from 'towardsdatascience' Discuss\n",
    "\n",
    "REF [https://towardsdatascience.com/a-gentle-journey-from-linear-regression-to-neural-networks-68881590760e] \n",
    "\n",
    "* Reducing the number of parameters of the networks\n",
    "* Getting more data or \n",
    "* Using explicit regularisers (in the loss function or through a dropout process)\n",
    "\n",
    "It isn't possible to get more data as our dataset is limited. However it is possible to reduce the number of parameters.Regularisation may also help. The authors advise that neural networks with many parameters can be prone to overfitting.  REF: [Hands-On Machine Learning with Scikit-Learn, KERAS & TensorFlow; Geron, A.; O'Reilly; 2019, 2nd Ed, p.364-374]\n",
    "\n",
    "Regularisation is defined as \"constraining the model to make it simpler and reduce the risk of overfitting. `kernel_regularizer` and `activity_regularizer` are both regularisation functions in keras used above.\n",
    "\n",
    " REF: [Hands-On Machine Learning with Scikit-Learn, KERAS & TensorFlow; Geron, A.; O'Reilly; 2019, 2nd Ed, p.28]"
   ]
  },
  {
   "cell_type": "markdown",
   "metadata": {},
   "source": [
    "**Next Steps:** \n",
    "\n",
    "* Reduce the complexity of the model"
   ]
  },
  {
   "cell_type": "markdown",
   "metadata": {},
   "source": [
    "Very low loss value and a reduction of MSE obtained by reducing the number of parameters to:\n",
    "\n",
    "x = bos[['ZN', 'PTRATIO, 'LSTAT', 'RM']\n",
    "y = bos[['PRICE']]\n",
    "\n",
    "These x values were chosen as they showed the highest positive correlation lowest (negative) correlation with House price in the correlation matrix output in the inferential statistics section. The justification being that these variables had the highest influence on median house price of all the variables in the dataset\n",
    "\n",
    "Removal of the Charles River Dummy Variable had no effect on accuracy"
   ]
  },
  {
   "cell_type": "markdown",
   "metadata": {},
   "source": [
    "**LITERATURE SEARCH & OTHER APPROACHES**"
   ]
  },
  {
   "cell_type": "markdown",
   "metadata": {},
   "source": [
    "These authors https://machinelearningmastery.com/regression-tutorial-keras-deep-learning-library-python/ achieved a mean squared error of 23.33 similar to what we achieved using similar model parameters to us.\n",
    "\n",
    "https://github.com/DavidCico/Boston-House-Prices-With-Regression-Machine-Learning-and-Keras-Deep-Learning/blob/master/Boston_deeplearning_regression.ipynb also achieved a MSE of 25-27 also using similar optimisation functions\n",
    "\n",
    "This author REF [https://www.kaggle.com/amundtveit/neural-network-model-for-house-prices-keras] used an approcah on another house price dataset to remove outliers. Their house price dataset  had 1460 row with 81 features. 38 continuous features and 43 categorical feature. They excluded categorical features from their model. The appeared to generate a good regression line of predicted vs actual prices (but didn't publish a MSE)\n",
    "\n",
    "As  can be seen from the box plots in the inferential statistics section, some of the house price data that does not border the Charles River contains outliers. It may be a useful approach to exclude these points. Additionally it can be observed that in the distribution of house prices bordering/not bordering the river that there is a cluster of prices at 50,000. Intuitively it may be a case that the data for house prices was capped at 50,000 for some reason."
   ]
  },
  {
   "cell_type": "code",
   "execution_count": 35,
   "metadata": {},
   "outputs": [],
   "source": [
    "#copied from https://www.kaggle.com/amundtveit/neural-network-model-for-house-prices-keras/comments\n",
    "\n",
    "#from sklearn.ensemble import IsolationForest\n",
    "\n",
    "#clf = IsolationForest(max_samples = 100, random_state = 42)\n",
    "#clf.fit(y_train)\n",
    "#y_noano = clf.predict(y_train)\n",
    "#y_noano = pd.DataFrame(y_noano, columns = ['Top'])\n",
    "#y_noano[y_noano['Top'] == 1].index.values\n",
    "\n",
    "#y_train2 = y_train.iloc[y_noano[y_noano['Top'] == 1].index.values]\n",
    "#y_train2.reset_index(drop = True, inplace = True)\n",
    "#print(\"Number of Outliers:\", y_noano[y_noano['Top'] == -1].shape[0])\n",
    "#print(\"Number of rows without outliers:\", y_train.shape[0])"
   ]
  },
  {
   "cell_type": "markdown",
   "metadata": {},
   "source": [
    "The `IsolationForest` `scikitlearn` function above has isolated and identified 36 outliers in our training set."
   ]
  },
  {
   "cell_type": "markdown",
   "metadata": {},
   "source": [
    "*PLACEHOLDER* need a different approcah to remove outliers\n",
    "\n",
    "try https://towardsdatascience.com/ways-to-detect-and-remove-the-outliers-404d16608dba"
   ]
  },
  {
   "cell_type": "markdown",
   "metadata": {},
   "source": [
    "**SOME CODE TO REMOVE ALL VALUES = 50**"
   ]
  },
  {
   "cell_type": "code",
   "execution_count": 36,
   "metadata": {
    "scrolled": true
   },
   "outputs": [
    {
     "name": "stdout",
     "output_type": "stream",
     "text": [
      "[24.0, 21.6, 34.7, 33.4, 36.2, 28.7, 22.9, 27.1, 16.5, 18.9, 15.0, 18.9, 21.7, 20.4, 18.2, 19.9, 23.1, 17.5, 20.2, 18.2, 13.6, 19.6, 15.2, 14.5, 15.6, 13.9, 16.6, 14.8, 18.4, 21.0, 12.7, 14.5, 13.2, 13.1, 13.5, 18.9, 20.0, 21.0, 24.7, 30.8, 34.9, 26.6, 25.3, 24.7, 21.2, 19.3, 20.0, 16.6, 14.4, 19.4, 19.7, 20.5, 25.0, 23.4, 18.9, 35.4, 24.7, 31.6, 23.3, 19.6, 18.7, 16.0, 22.2, 25.0, 33.0, 23.5, 19.4, 22.0, 17.4, 20.9, 24.2, 21.7, 22.8, 23.4, 24.1, 21.4, 20.0, 20.8, 21.2, 20.3, 28.0, 23.9, 24.8, 22.9, 23.9, 26.6, 22.5, 22.2, 23.6, 28.7, 22.6, 22.0, 22.9, 25.0, 20.6, 28.4, 21.4, 38.7, 43.8, 33.2, 27.5, 26.5, 18.6, 19.3, 20.1, 19.5, 19.5, 20.4, 19.8, 19.4, 21.7, 22.8, 18.8, 18.7, 18.5, 18.3, 21.2, 19.2, 20.4, 19.3, 22.0, 20.3, 20.5, 17.3, 18.8, 21.4, 15.7, 16.2, 18.0, 14.3, 19.2, 19.6, 23.0, 18.4, 15.6, 18.1, 17.4, 17.1, 13.3, 17.8, 14.0, 14.4, 13.4, 15.6, 11.8, 13.8, 15.6, 14.6, 17.8, 15.4, 21.5, 19.6, 15.3, 19.4, 17.0, 15.6, 13.1, 41.3, 24.3, 23.3, 27.0, 22.7, 25.0, 23.8, 23.8, 22.3, 17.4, 19.1, 23.1, 23.6, 22.6, 29.4, 23.2, 24.6, 29.9, 37.2, 39.8, 36.2, 37.9, 32.5, 26.4, 29.6, 32.0, 29.8, 34.9, 37.0, 30.5, 36.4, 31.1, 29.1, 33.3, 30.3, 34.6, 34.9, 32.9, 24.1, 42.3, 48.5, 22.6, 24.4, 22.5, 24.4, 20.0, 21.7, 19.3, 22.4, 28.1, 23.7, 25.0, 23.3, 28.7, 21.5, 23.0, 26.7, 21.7, 27.5, 30.1, 44.8, 37.6, 31.6, 46.7, 31.5, 24.3, 31.7, 41.7, 48.3, 29.0, 24.0, 25.1, 31.5, 23.7, 23.3, 22.0, 20.1, 22.2, 23.7, 17.6, 18.5, 24.3, 20.5, 24.5, 26.2, 24.4, 24.8, 29.6, 42.8, 21.9, 20.9, 44.0, 36.0, 30.1, 33.8, 43.1, 48.8, 31.0, 36.5, 22.8, 30.7, 43.5, 20.7, 21.1, 25.2, 24.4, 35.2, 32.4, 32.0, 33.2, 33.1, 29.1, 35.1, 45.4, 35.4, 46.0, 32.2, 22.0, 20.1, 23.2, 22.3, 24.8, 28.5, 37.3, 27.9, 23.9, 21.7, 28.6, 27.1, 20.3, 22.5, 29.0, 24.8, 22.0, 26.4, 33.1, 36.1, 28.4, 33.4, 28.2, 22.8, 20.3, 16.1, 22.1, 19.4, 21.6, 23.8, 16.2, 17.8, 19.8, 23.1, 21.0, 23.8, 23.1, 20.4, 18.5, 25.0, 24.6, 23.0, 22.2, 19.3, 22.6, 19.8, 17.1, 19.4, 22.2, 20.7, 21.1, 19.5, 18.5, 20.6, 19.0, 18.7, 32.7, 16.5, 23.9, 31.2, 17.5, 17.2, 23.1, 24.5, 26.6, 22.9, 24.1, 18.6, 30.1, 18.2, 20.6, 17.8, 21.7, 22.7, 22.6, 25.0, 19.9, 20.8, 16.8, 21.9, 27.5, 21.9, 23.1, 13.8, 13.8, 15.0, 13.9, 13.3, 13.1, 10.2, 10.4, 10.9, 11.3, 12.3, 8.8, 7.2, 10.5, 7.4, 10.2, 11.5, 15.1, 23.2, 9.7, 13.8, 12.7, 13.1, 12.5, 8.5, 5.0, 6.3, 5.6, 7.2, 12.1, 8.3, 8.5, 5.0, 11.9, 27.9, 17.2, 27.5, 15.0, 17.2, 17.9, 16.3, 7.0, 7.2, 7.5, 10.4, 8.8, 8.4, 16.7, 14.2, 20.8, 13.4, 11.7, 8.3, 10.2, 10.9, 11.0, 9.5, 14.5, 14.1, 16.1, 14.3, 11.7, 13.4, 9.6, 8.7, 8.4, 12.8, 10.5, 17.1, 18.4, 15.4, 10.8, 11.8, 14.9, 12.6, 14.1, 13.0, 13.4, 15.2, 16.1, 17.8, 14.9, 14.1, 12.7, 13.5, 14.9, 20.0, 16.4, 17.7, 19.5, 20.2, 21.4, 19.9, 19.0, 19.1, 19.1, 20.1, 19.9, 19.6, 23.2, 29.8, 13.8, 13.3, 16.7, 12.0, 14.6, 21.4, 23.0, 23.7, 25.0, 21.8, 20.6, 21.2, 19.1, 20.6, 15.2, 7.0, 8.1, 13.6, 20.1, 21.8, 24.5, 23.1, 19.7, 18.3, 21.2, 17.5, 16.8, 22.4, 20.6, 23.9, 22.0, 11.9]\n"
     ]
    }
   ],
   "source": [
    "X = y_true\n",
    "\n",
    "X = list(filter(lambda x: x!= 50.0, X))\n",
    "\n",
    "print(X)"
   ]
  },
  {
   "cell_type": "markdown",
   "metadata": {},
   "source": [
    "**Calculate the error when 50 is excluded from price**"
   ]
  },
  {
   "cell_type": "code",
   "execution_count": 40,
   "metadata": {
    "scrolled": true
   },
   "outputs": [
    {
     "name": "stdout",
     "output_type": "stream",
     "text": [
      "error = 133.75815\n"
     ]
    }
   ],
   "source": [
    "error = np.mean(kr.losses.mean_squared_error(X, y_pred))\n",
    "print(\"error =\",(error))"
   ]
  },
  {
   "cell_type": "markdown",
   "metadata": {},
   "source": [
    "The error value has dropped by excluding the price values at 50,000 dollars. It may now be worth investigating if removing all outliers from the dataset will improve prediction"
   ]
  },
  {
   "cell_type": "markdown",
   "metadata": {},
   "source": [
    "**CALCULATE Z SCORES FOR OUTLIERS**"
   ]
  },
  {
   "cell_type": "code",
   "execution_count": 41,
   "metadata": {},
   "outputs": [
    {
     "name": "stdout",
     "output_type": "stream",
     "text": [
      "[[0.41978194 0.28482986 1.2879095  ... 0.44105193 1.0755623  0.15968566]\n",
      " [0.41733926 0.48772236 0.59338101 ... 0.44105193 0.49243937 0.10152429]\n",
      " [0.41734159 0.48772236 0.59338101 ... 0.39642699 1.2087274  1.32424667]\n",
      " ...\n",
      " [0.41344658 0.48772236 0.11573841 ... 0.44105193 0.98304761 0.14880191]\n",
      " [0.40776407 0.48772236 0.11573841 ... 0.4032249  0.86530163 0.0579893 ]\n",
      " [0.41500016 0.48772236 0.11573841 ... 0.44105193 0.66905833 1.15724782]]\n"
     ]
    }
   ],
   "source": [
    "z = np.abs(stats.zscore(bos))\n",
    "print(z)"
   ]
  }
 ],
 "metadata": {
  "kernelspec": {
   "display_name": "Python 3",
   "language": "python",
   "name": "python3"
  },
  "language_info": {
   "codemirror_mode": {
    "name": "ipython",
    "version": 3
   },
   "file_extension": ".py",
   "mimetype": "text/x-python",
   "name": "python",
   "nbconvert_exporter": "python",
   "pygments_lexer": "ipython3",
   "version": "3.7.1"
  }
 },
 "nbformat": 4,
 "nbformat_minor": 2
}
