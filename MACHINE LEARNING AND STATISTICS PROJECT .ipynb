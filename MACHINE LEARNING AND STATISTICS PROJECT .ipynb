{
 "cells": [
  {
   "cell_type": "markdown",
   "metadata": {},
   "source": [
    "# MACHINE LEARNING AND STATISTICS PROJECT\n",
    "\n",
    "## THE BOSTON HOUSE PRICES DATASET\n",
    "\n",
    "## HUGH O'REILLY\n",
    "\n",
    "## H.DIP Data Analytics GMIT\n"
   ]
  },
  {
   "cell_type": "markdown",
   "metadata": {},
   "source": [
    "## INTRODUCTION\n",
    " ___\n",
    "\n",
    "The Boston Housing Dataset consists of information derived from US census data of housing in the Boston Mass. area of the US. The publication originally discussed the problems associated with the use of housing market data to measure the willingness to pay for clean air.\n",
    "\n",
    "The dataset is taken from census tracts in the Boston Standard Metropolitan Statistical Area in 1970.\n",
    "\n",
    "*The data was originally published by Harrison, D. and Rubinfeld, D.L. 'Hedonic prices and the demand for clean air', J. Environ. Economics & Management, vol.5, 81-102, 1978.*\n",
    "\n",
    "Ref [https://www.sciencedirect.com/science/article/abs/pii/0095069678900062%5D]"
   ]
  },
  {
   "cell_type": "markdown",
   "metadata": {},
   "source": [
    "## OBJECTIVE\n",
    "___"
   ]
  },
  {
   "cell_type": "markdown",
   "metadata": {},
   "source": [
    "* To investigate if there is a significant difference in the median house prices between houses that are along the Charles River and those which aren't\n",
    "\n",
    "* To attempt to predict the median house price based on other variables in the dataset\n",
    "\n",
    "Understanding if there is a difference between the houses along the Charles River will help determine the investment value of properties in the area\n",
    "\n",
    "Similarly the ability to predict median house prices for a particular zone in Boston, based on the other variables associated with the property will enable us to determine the value of a property in a particular area and whether it may be worth investing in the area"
   ]
  },
  {
   "cell_type": "markdown",
   "metadata": {},
   "source": [
    "#TODO Insert image of boston"
   ]
  },
  {
   "cell_type": "markdown",
   "metadata": {},
   "source": [
    "## IMPORT AND SORT THE DATASET\n",
    "\n",
    "___\n"
   ]
  },
  {
   "cell_type": "code",
   "execution_count": 1,
   "metadata": {},
   "outputs": [
    {
     "name": "stderr",
     "output_type": "stream",
     "text": [
      "Using TensorFlow backend.\n"
     ]
    },
    {
     "name": "stdout",
     "output_type": "stream",
     "text": [
      "(506, 13)\n"
     ]
    }
   ],
   "source": [
    "#IMPORT LIBRARIES\n",
    "\n",
    "#Scipy Libraries\n",
    "import numpy as np\n",
    "import pandas as pd\n",
    "import scipy.stats as stats\n",
    "import statsmodels.api as sm\n",
    "import matplotlib.pyplot as plt\n",
    "\n",
    "#Seaborn library\n",
    "import seaborn as sns\n",
    "#Keras libraries\n",
    "import keras as kr\n",
    "from keras import losses\n",
    "from keras import regularizers\n",
    "\n",
    "#Scikitlearn Libraries\n",
    "import sklearn\n",
    "from sklearn.model_selection import KFold\n",
    "from sklearn.linear_model import RidgeCV\n",
    "import sklearn.decomposition as dec\n",
    "import sklearn.preprocessing as pre\n",
    "\n",
    "%matplotlib inline\n",
    "\n",
    "#IMPORT THE BOSTON HOUSE PRICES DATASET from sklearn\n",
    "   \n",
    "from sklearn.datasets import load_boston\n",
    "from sklearn.model_selection import train_test_split\n",
    "boston = load_boston()\n",
    "\n",
    "# Display the shape of the dataset\n",
    "print(boston.data.shape)\n",
    "\n",
    "# Ref [2]\n"
   ]
  },
  {
   "cell_type": "markdown",
   "metadata": {},
   "source": [
    "### INVESTIGATE AND SORT THE DATASET\n",
    "___"
   ]
  },
  {
   "cell_type": "code",
   "execution_count": 2,
   "metadata": {},
   "outputs": [
    {
     "data": {
      "text/plain": [
       "sklearn.utils.Bunch"
      ]
     },
     "execution_count": 2,
     "metadata": {},
     "output_type": "execute_result"
    }
   ],
   "source": [
    "#Determine the dataset type\n",
    "\n",
    "type(boston)"
   ]
  },
  {
   "cell_type": "markdown",
   "metadata": {},
   "source": [
    "The `type(boston)` command tells us that the dataset is a `sk.utils.Bunch` dataset type\n",
    "\n",
    "A 'bunch' dataset type:  Dictionary-like object, the interesting attributes are: ‘data’, the data to learn, ‘target’, the classification labels, ‘target_names’, the meaning of the labels, ‘feature_names’, the meaning of the features, ‘DESCR’, the full description of the dataset, ‘filename’. \n",
    "\n",
    "Ref [https://scikit-learn.org/stable/modules/generated/sklearn.datasets.load_iris.html]"
   ]
  },
  {
   "cell_type": "code",
   "execution_count": 3,
   "metadata": {},
   "outputs": [
    {
     "name": "stdout",
     "output_type": "stream",
     "text": [
      ".. _boston_dataset:\n",
      "\n",
      "Boston house prices dataset\n",
      "---------------------------\n",
      "\n",
      "**Data Set Characteristics:**  \n",
      "\n",
      "    :Number of Instances: 506 \n",
      "\n",
      "    :Number of Attributes: 13 numeric/categorical predictive. Median Value (attribute 14) is usually the target.\n",
      "\n",
      "    :Attribute Information (in order):\n",
      "        - CRIM     per capita crime rate by town\n",
      "        - ZN       proportion of residential land zoned for lots over 25,000 sq.ft.\n",
      "        - INDUS    proportion of non-retail business acres per town\n",
      "        - CHAS     Charles River dummy variable (= 1 if tract bounds river; 0 otherwise)\n",
      "        - NOX      nitric oxides concentration (parts per 10 million)\n",
      "        - RM       average number of rooms per dwelling\n",
      "        - AGE      proportion of owner-occupied units built prior to 1940\n",
      "        - DIS      weighted distances to five Boston employment centres\n",
      "        - RAD      index of accessibility to radial highways\n",
      "        - TAX      full-value property-tax rate per $10,000\n",
      "        - PTRATIO  pupil-teacher ratio by town\n",
      "        - B        1000(Bk - 0.63)^2 where Bk is the proportion of blacks by town\n",
      "        - LSTAT    % lower status of the population\n",
      "        - MEDV     Median value of owner-occupied homes in $1000's\n",
      "\n",
      "    :Missing Attribute Values: None\n",
      "\n",
      "    :Creator: Harrison, D. and Rubinfeld, D.L.\n",
      "\n",
      "This is a copy of UCI ML housing dataset.\n",
      "https://archive.ics.uci.edu/ml/machine-learning-databases/housing/\n",
      "\n",
      "\n",
      "This dataset was taken from the StatLib library which is maintained at Carnegie Mellon University.\n",
      "\n",
      "The Boston house-price data of Harrison, D. and Rubinfeld, D.L. 'Hedonic\n",
      "prices and the demand for clean air', J. Environ. Economics & Management,\n",
      "vol.5, 81-102, 1978.   Used in Belsley, Kuh & Welsch, 'Regression diagnostics\n",
      "...', Wiley, 1980.   N.B. Various transformations are used in the table on\n",
      "pages 244-261 of the latter.\n",
      "\n",
      "The Boston house-price data has been used in many machine learning papers that address regression\n",
      "problems.   \n",
      "     \n",
      ".. topic:: References\n",
      "\n",
      "   - Belsley, Kuh & Welsch, 'Regression diagnostics: Identifying Influential Data and Sources of Collinearity', Wiley, 1980. 244-261.\n",
      "   - Quinlan,R. (1993). Combining Instance-Based and Model-Based Learning. In Proceedings on the Tenth International Conference of Machine Learning, 236-243, University of Massachusetts, Amherst. Morgan Kaufmann.\n",
      "\n"
     ]
    }
   ],
   "source": [
    "#Display a desciption of the dataset\n",
    "\n",
    "print(boston.DESCR)"
   ]
  },
  {
   "cell_type": "markdown",
   "metadata": {},
   "source": [
    "The Data consists of 506 rows and 13 columns i.e. 506 instances containing 13 numeric/categorical variables as described above. \n",
    "\n",
    "There are 13 attribute variables an 1 target variable 'MEDV': which represents the median value for houses in each area i.e. 506 areas of Boston"
   ]
  },
  {
   "cell_type": "code",
   "execution_count": 4,
   "metadata": {
    "scrolled": true
   },
   "outputs": [
    {
     "data": {
      "text/html": [
       "<div>\n",
       "<style scoped>\n",
       "    .dataframe tbody tr th:only-of-type {\n",
       "        vertical-align: middle;\n",
       "    }\n",
       "\n",
       "    .dataframe tbody tr th {\n",
       "        vertical-align: top;\n",
       "    }\n",
       "\n",
       "    .dataframe thead th {\n",
       "        text-align: right;\n",
       "    }\n",
       "</style>\n",
       "<table border=\"1\" class=\"dataframe\">\n",
       "  <thead>\n",
       "    <tr style=\"text-align: right;\">\n",
       "      <th></th>\n",
       "      <th>0</th>\n",
       "      <th>1</th>\n",
       "      <th>2</th>\n",
       "      <th>3</th>\n",
       "      <th>4</th>\n",
       "      <th>5</th>\n",
       "      <th>6</th>\n",
       "      <th>7</th>\n",
       "      <th>8</th>\n",
       "      <th>9</th>\n",
       "      <th>10</th>\n",
       "      <th>11</th>\n",
       "      <th>12</th>\n",
       "    </tr>\n",
       "  </thead>\n",
       "  <tbody>\n",
       "    <tr>\n",
       "      <th>0</th>\n",
       "      <td>0.00632</td>\n",
       "      <td>18.0</td>\n",
       "      <td>2.31</td>\n",
       "      <td>0.0</td>\n",
       "      <td>0.538</td>\n",
       "      <td>6.575</td>\n",
       "      <td>65.2</td>\n",
       "      <td>4.0900</td>\n",
       "      <td>1.0</td>\n",
       "      <td>296.0</td>\n",
       "      <td>15.3</td>\n",
       "      <td>396.90</td>\n",
       "      <td>4.98</td>\n",
       "    </tr>\n",
       "    <tr>\n",
       "      <th>1</th>\n",
       "      <td>0.02731</td>\n",
       "      <td>0.0</td>\n",
       "      <td>7.07</td>\n",
       "      <td>0.0</td>\n",
       "      <td>0.469</td>\n",
       "      <td>6.421</td>\n",
       "      <td>78.9</td>\n",
       "      <td>4.9671</td>\n",
       "      <td>2.0</td>\n",
       "      <td>242.0</td>\n",
       "      <td>17.8</td>\n",
       "      <td>396.90</td>\n",
       "      <td>9.14</td>\n",
       "    </tr>\n",
       "    <tr>\n",
       "      <th>2</th>\n",
       "      <td>0.02729</td>\n",
       "      <td>0.0</td>\n",
       "      <td>7.07</td>\n",
       "      <td>0.0</td>\n",
       "      <td>0.469</td>\n",
       "      <td>7.185</td>\n",
       "      <td>61.1</td>\n",
       "      <td>4.9671</td>\n",
       "      <td>2.0</td>\n",
       "      <td>242.0</td>\n",
       "      <td>17.8</td>\n",
       "      <td>392.83</td>\n",
       "      <td>4.03</td>\n",
       "    </tr>\n",
       "    <tr>\n",
       "      <th>3</th>\n",
       "      <td>0.03237</td>\n",
       "      <td>0.0</td>\n",
       "      <td>2.18</td>\n",
       "      <td>0.0</td>\n",
       "      <td>0.458</td>\n",
       "      <td>6.998</td>\n",
       "      <td>45.8</td>\n",
       "      <td>6.0622</td>\n",
       "      <td>3.0</td>\n",
       "      <td>222.0</td>\n",
       "      <td>18.7</td>\n",
       "      <td>394.63</td>\n",
       "      <td>2.94</td>\n",
       "    </tr>\n",
       "    <tr>\n",
       "      <th>4</th>\n",
       "      <td>0.06905</td>\n",
       "      <td>0.0</td>\n",
       "      <td>2.18</td>\n",
       "      <td>0.0</td>\n",
       "      <td>0.458</td>\n",
       "      <td>7.147</td>\n",
       "      <td>54.2</td>\n",
       "      <td>6.0622</td>\n",
       "      <td>3.0</td>\n",
       "      <td>222.0</td>\n",
       "      <td>18.7</td>\n",
       "      <td>396.90</td>\n",
       "      <td>5.33</td>\n",
       "    </tr>\n",
       "    <tr>\n",
       "      <th>5</th>\n",
       "      <td>0.02985</td>\n",
       "      <td>0.0</td>\n",
       "      <td>2.18</td>\n",
       "      <td>0.0</td>\n",
       "      <td>0.458</td>\n",
       "      <td>6.430</td>\n",
       "      <td>58.7</td>\n",
       "      <td>6.0622</td>\n",
       "      <td>3.0</td>\n",
       "      <td>222.0</td>\n",
       "      <td>18.7</td>\n",
       "      <td>394.12</td>\n",
       "      <td>5.21</td>\n",
       "    </tr>\n",
       "    <tr>\n",
       "      <th>6</th>\n",
       "      <td>0.08829</td>\n",
       "      <td>12.5</td>\n",
       "      <td>7.87</td>\n",
       "      <td>0.0</td>\n",
       "      <td>0.524</td>\n",
       "      <td>6.012</td>\n",
       "      <td>66.6</td>\n",
       "      <td>5.5605</td>\n",
       "      <td>5.0</td>\n",
       "      <td>311.0</td>\n",
       "      <td>15.2</td>\n",
       "      <td>395.60</td>\n",
       "      <td>12.43</td>\n",
       "    </tr>\n",
       "    <tr>\n",
       "      <th>7</th>\n",
       "      <td>0.14455</td>\n",
       "      <td>12.5</td>\n",
       "      <td>7.87</td>\n",
       "      <td>0.0</td>\n",
       "      <td>0.524</td>\n",
       "      <td>6.172</td>\n",
       "      <td>96.1</td>\n",
       "      <td>5.9505</td>\n",
       "      <td>5.0</td>\n",
       "      <td>311.0</td>\n",
       "      <td>15.2</td>\n",
       "      <td>396.90</td>\n",
       "      <td>19.15</td>\n",
       "    </tr>\n",
       "    <tr>\n",
       "      <th>8</th>\n",
       "      <td>0.21124</td>\n",
       "      <td>12.5</td>\n",
       "      <td>7.87</td>\n",
       "      <td>0.0</td>\n",
       "      <td>0.524</td>\n",
       "      <td>5.631</td>\n",
       "      <td>100.0</td>\n",
       "      <td>6.0821</td>\n",
       "      <td>5.0</td>\n",
       "      <td>311.0</td>\n",
       "      <td>15.2</td>\n",
       "      <td>386.63</td>\n",
       "      <td>29.93</td>\n",
       "    </tr>\n",
       "    <tr>\n",
       "      <th>9</th>\n",
       "      <td>0.17004</td>\n",
       "      <td>12.5</td>\n",
       "      <td>7.87</td>\n",
       "      <td>0.0</td>\n",
       "      <td>0.524</td>\n",
       "      <td>6.004</td>\n",
       "      <td>85.9</td>\n",
       "      <td>6.5921</td>\n",
       "      <td>5.0</td>\n",
       "      <td>311.0</td>\n",
       "      <td>15.2</td>\n",
       "      <td>386.71</td>\n",
       "      <td>17.10</td>\n",
       "    </tr>\n",
       "  </tbody>\n",
       "</table>\n",
       "</div>"
      ],
      "text/plain": [
       "        0     1     2    3      4      5      6       7    8      9     10  \\\n",
       "0  0.00632  18.0  2.31  0.0  0.538  6.575   65.2  4.0900  1.0  296.0  15.3   \n",
       "1  0.02731   0.0  7.07  0.0  0.469  6.421   78.9  4.9671  2.0  242.0  17.8   \n",
       "2  0.02729   0.0  7.07  0.0  0.469  7.185   61.1  4.9671  2.0  242.0  17.8   \n",
       "3  0.03237   0.0  2.18  0.0  0.458  6.998   45.8  6.0622  3.0  222.0  18.7   \n",
       "4  0.06905   0.0  2.18  0.0  0.458  7.147   54.2  6.0622  3.0  222.0  18.7   \n",
       "5  0.02985   0.0  2.18  0.0  0.458  6.430   58.7  6.0622  3.0  222.0  18.7   \n",
       "6  0.08829  12.5  7.87  0.0  0.524  6.012   66.6  5.5605  5.0  311.0  15.2   \n",
       "7  0.14455  12.5  7.87  0.0  0.524  6.172   96.1  5.9505  5.0  311.0  15.2   \n",
       "8  0.21124  12.5  7.87  0.0  0.524  5.631  100.0  6.0821  5.0  311.0  15.2   \n",
       "9  0.17004  12.5  7.87  0.0  0.524  6.004   85.9  6.5921  5.0  311.0  15.2   \n",
       "\n",
       "       11     12  \n",
       "0  396.90   4.98  \n",
       "1  396.90   9.14  \n",
       "2  392.83   4.03  \n",
       "3  394.63   2.94  \n",
       "4  396.90   5.33  \n",
       "5  394.12   5.21  \n",
       "6  395.60  12.43  \n",
       "7  396.90  19.15  \n",
       "8  386.63  29.93  \n",
       "9  386.71  17.10  "
      ]
     },
     "execution_count": 4,
     "metadata": {},
     "output_type": "execute_result"
    }
   ],
   "source": [
    "# Show the first 10 rows of the Dataset\n",
    "bos = pd.DataFrame(boston.data)\n",
    "bos.head(10)"
   ]
  },
  {
   "cell_type": "markdown",
   "metadata": {},
   "source": [
    "It can be seen above that the dataset has no feature labels which will need to be added (although they are imported in the 'dataset characteristics'). In order to do so we need to use the `pandas.dataframe.keys()` command to access the keys and then assign them to the attribute columns.\n",
    "\n",
    "Ref [https://pandas.pydata.org/pandas-docs/stable/reference/api/pandas.DataFrame.keys.html]"
   ]
  },
  {
   "cell_type": "code",
   "execution_count": 5,
   "metadata": {},
   "outputs": [
    {
     "data": {
      "text/plain": [
       "RangeIndex(start=0, stop=13, step=1)"
      ]
     },
     "execution_count": 5,
     "metadata": {},
     "output_type": "execute_result"
    }
   ],
   "source": [
    "# Identify the indices in the dataset\n",
    "\n",
    "bos.keys()"
   ]
  },
  {
   "cell_type": "code",
   "execution_count": 6,
   "metadata": {},
   "outputs": [
    {
     "data": {
      "text/html": [
       "<div>\n",
       "<style scoped>\n",
       "    .dataframe tbody tr th:only-of-type {\n",
       "        vertical-align: middle;\n",
       "    }\n",
       "\n",
       "    .dataframe tbody tr th {\n",
       "        vertical-align: top;\n",
       "    }\n",
       "\n",
       "    .dataframe thead th {\n",
       "        text-align: right;\n",
       "    }\n",
       "</style>\n",
       "<table border=\"1\" class=\"dataframe\">\n",
       "  <thead>\n",
       "    <tr style=\"text-align: right;\">\n",
       "      <th></th>\n",
       "      <th>CRIM</th>\n",
       "      <th>ZN</th>\n",
       "      <th>INDUS</th>\n",
       "      <th>CHAS</th>\n",
       "      <th>NOX</th>\n",
       "      <th>RM</th>\n",
       "      <th>AGE</th>\n",
       "      <th>DIS</th>\n",
       "      <th>RAD</th>\n",
       "      <th>TAX</th>\n",
       "      <th>PTRATIO</th>\n",
       "      <th>B</th>\n",
       "      <th>LSTAT</th>\n",
       "    </tr>\n",
       "  </thead>\n",
       "  <tbody>\n",
       "    <tr>\n",
       "      <th>0</th>\n",
       "      <td>0.00632</td>\n",
       "      <td>18.0</td>\n",
       "      <td>2.31</td>\n",
       "      <td>0.0</td>\n",
       "      <td>0.538</td>\n",
       "      <td>6.575</td>\n",
       "      <td>65.2</td>\n",
       "      <td>4.0900</td>\n",
       "      <td>1.0</td>\n",
       "      <td>296.0</td>\n",
       "      <td>15.3</td>\n",
       "      <td>396.90</td>\n",
       "      <td>4.98</td>\n",
       "    </tr>\n",
       "    <tr>\n",
       "      <th>1</th>\n",
       "      <td>0.02731</td>\n",
       "      <td>0.0</td>\n",
       "      <td>7.07</td>\n",
       "      <td>0.0</td>\n",
       "      <td>0.469</td>\n",
       "      <td>6.421</td>\n",
       "      <td>78.9</td>\n",
       "      <td>4.9671</td>\n",
       "      <td>2.0</td>\n",
       "      <td>242.0</td>\n",
       "      <td>17.8</td>\n",
       "      <td>396.90</td>\n",
       "      <td>9.14</td>\n",
       "    </tr>\n",
       "    <tr>\n",
       "      <th>2</th>\n",
       "      <td>0.02729</td>\n",
       "      <td>0.0</td>\n",
       "      <td>7.07</td>\n",
       "      <td>0.0</td>\n",
       "      <td>0.469</td>\n",
       "      <td>7.185</td>\n",
       "      <td>61.1</td>\n",
       "      <td>4.9671</td>\n",
       "      <td>2.0</td>\n",
       "      <td>242.0</td>\n",
       "      <td>17.8</td>\n",
       "      <td>392.83</td>\n",
       "      <td>4.03</td>\n",
       "    </tr>\n",
       "    <tr>\n",
       "      <th>3</th>\n",
       "      <td>0.03237</td>\n",
       "      <td>0.0</td>\n",
       "      <td>2.18</td>\n",
       "      <td>0.0</td>\n",
       "      <td>0.458</td>\n",
       "      <td>6.998</td>\n",
       "      <td>45.8</td>\n",
       "      <td>6.0622</td>\n",
       "      <td>3.0</td>\n",
       "      <td>222.0</td>\n",
       "      <td>18.7</td>\n",
       "      <td>394.63</td>\n",
       "      <td>2.94</td>\n",
       "    </tr>\n",
       "    <tr>\n",
       "      <th>4</th>\n",
       "      <td>0.06905</td>\n",
       "      <td>0.0</td>\n",
       "      <td>2.18</td>\n",
       "      <td>0.0</td>\n",
       "      <td>0.458</td>\n",
       "      <td>7.147</td>\n",
       "      <td>54.2</td>\n",
       "      <td>6.0622</td>\n",
       "      <td>3.0</td>\n",
       "      <td>222.0</td>\n",
       "      <td>18.7</td>\n",
       "      <td>396.90</td>\n",
       "      <td>5.33</td>\n",
       "    </tr>\n",
       "  </tbody>\n",
       "</table>\n",
       "</div>"
      ],
      "text/plain": [
       "      CRIM    ZN  INDUS  CHAS    NOX     RM   AGE     DIS  RAD    TAX  \\\n",
       "0  0.00632  18.0   2.31   0.0  0.538  6.575  65.2  4.0900  1.0  296.0   \n",
       "1  0.02731   0.0   7.07   0.0  0.469  6.421  78.9  4.9671  2.0  242.0   \n",
       "2  0.02729   0.0   7.07   0.0  0.469  7.185  61.1  4.9671  2.0  242.0   \n",
       "3  0.03237   0.0   2.18   0.0  0.458  6.998  45.8  6.0622  3.0  222.0   \n",
       "4  0.06905   0.0   2.18   0.0  0.458  7.147  54.2  6.0622  3.0  222.0   \n",
       "\n",
       "   PTRATIO       B  LSTAT  \n",
       "0     15.3  396.90   4.98  \n",
       "1     17.8  396.90   9.14  \n",
       "2     17.8  392.83   4.03  \n",
       "3     18.7  394.63   2.94  \n",
       "4     18.7  396.90   5.33  "
      ]
     },
     "execution_count": 6,
     "metadata": {},
     "output_type": "execute_result"
    }
   ],
   "source": [
    "#Passing the `feature_names` parameter to the dataset now assigns the attributes with their labels\n",
    "\n",
    "bos.columns = boston.feature_names\n",
    "bos.head()"
   ]
  },
  {
   "cell_type": "markdown",
   "metadata": {},
   "source": [
    "Only 13 attributes are shown, although 14 attributes are associated with the dataset. The 14th attribute, or target variable - MEDV     Median value of owner-occupied homes in $1000's must be added to the `bos` pandas array"
   ]
  },
  {
   "cell_type": "code",
   "execution_count": 7,
   "metadata": {},
   "outputs": [],
   "source": [
    "#The price is identified as the target variable above so we will see if is there\n",
    "\n",
    "#boston.target #This prints the array of target variables (MEDV)"
   ]
  },
  {
   "cell_type": "code",
   "execution_count": 8,
   "metadata": {},
   "outputs": [
    {
     "name": "stdout",
     "output_type": "stream",
     "text": [
      "      CRIM    ZN  INDUS  CHAS    NOX     RM   AGE     DIS  RAD    TAX  \\\n",
      "0  0.00632  18.0   2.31   0.0  0.538  6.575  65.2  4.0900  1.0  296.0   \n",
      "1  0.02731   0.0   7.07   0.0  0.469  6.421  78.9  4.9671  2.0  242.0   \n",
      "2  0.02729   0.0   7.07   0.0  0.469  7.185  61.1  4.9671  2.0  242.0   \n",
      "3  0.03237   0.0   2.18   0.0  0.458  6.998  45.8  6.0622  3.0  222.0   \n",
      "4  0.06905   0.0   2.18   0.0  0.458  7.147  54.2  6.0622  3.0  222.0   \n",
      "\n",
      "   PTRATIO       B  LSTAT  PRICE  \n",
      "0     15.3  396.90   4.98   24.0  \n",
      "1     17.8  396.90   9.14   21.6  \n",
      "2     17.8  392.83   4.03   34.7  \n",
      "3     18.7  394.63   2.94   33.4  \n",
      "4     18.7  396.90   5.33   36.2  \n"
     ]
    }
   ],
   "source": [
    "#We now add the target variable (MEDV) to the array as 'price'\n",
    "\n",
    "bos['PRICE'] = boston.target\n",
    "print(bos.head())\n",
    "\n",
    "#ref [https://medium.com/@haydar_ai/learning-data-science-day-9-linear-regression-on-boston-housing-dataset-cd62a80775ef]"
   ]
  },
  {
   "cell_type": "markdown",
   "metadata": {},
   "source": [
    "## DESCRIPTIVE STATISTICS\n",
    "___"
   ]
  },
  {
   "cell_type": "code",
   "execution_count": 9,
   "metadata": {
    "scrolled": false
   },
   "outputs": [
    {
     "data": {
      "text/html": [
       "<div>\n",
       "<style scoped>\n",
       "    .dataframe tbody tr th:only-of-type {\n",
       "        vertical-align: middle;\n",
       "    }\n",
       "\n",
       "    .dataframe tbody tr th {\n",
       "        vertical-align: top;\n",
       "    }\n",
       "\n",
       "    .dataframe thead th {\n",
       "        text-align: right;\n",
       "    }\n",
       "</style>\n",
       "<table border=\"1\" class=\"dataframe\">\n",
       "  <thead>\n",
       "    <tr style=\"text-align: right;\">\n",
       "      <th></th>\n",
       "      <th>count</th>\n",
       "      <th>mean</th>\n",
       "      <th>std</th>\n",
       "      <th>min</th>\n",
       "      <th>25%</th>\n",
       "      <th>50%</th>\n",
       "      <th>75%</th>\n",
       "      <th>max</th>\n",
       "    </tr>\n",
       "  </thead>\n",
       "  <tbody>\n",
       "    <tr>\n",
       "      <th>CRIM</th>\n",
       "      <td>506.0</td>\n",
       "      <td>3.613524</td>\n",
       "      <td>8.601545</td>\n",
       "      <td>0.00632</td>\n",
       "      <td>0.082045</td>\n",
       "      <td>0.25651</td>\n",
       "      <td>3.677083</td>\n",
       "      <td>88.9762</td>\n",
       "    </tr>\n",
       "    <tr>\n",
       "      <th>ZN</th>\n",
       "      <td>506.0</td>\n",
       "      <td>11.363636</td>\n",
       "      <td>23.322453</td>\n",
       "      <td>0.00000</td>\n",
       "      <td>0.000000</td>\n",
       "      <td>0.00000</td>\n",
       "      <td>12.500000</td>\n",
       "      <td>100.0000</td>\n",
       "    </tr>\n",
       "    <tr>\n",
       "      <th>INDUS</th>\n",
       "      <td>506.0</td>\n",
       "      <td>11.136779</td>\n",
       "      <td>6.860353</td>\n",
       "      <td>0.46000</td>\n",
       "      <td>5.190000</td>\n",
       "      <td>9.69000</td>\n",
       "      <td>18.100000</td>\n",
       "      <td>27.7400</td>\n",
       "    </tr>\n",
       "    <tr>\n",
       "      <th>CHAS</th>\n",
       "      <td>506.0</td>\n",
       "      <td>0.069170</td>\n",
       "      <td>0.253994</td>\n",
       "      <td>0.00000</td>\n",
       "      <td>0.000000</td>\n",
       "      <td>0.00000</td>\n",
       "      <td>0.000000</td>\n",
       "      <td>1.0000</td>\n",
       "    </tr>\n",
       "    <tr>\n",
       "      <th>NOX</th>\n",
       "      <td>506.0</td>\n",
       "      <td>0.554695</td>\n",
       "      <td>0.115878</td>\n",
       "      <td>0.38500</td>\n",
       "      <td>0.449000</td>\n",
       "      <td>0.53800</td>\n",
       "      <td>0.624000</td>\n",
       "      <td>0.8710</td>\n",
       "    </tr>\n",
       "    <tr>\n",
       "      <th>RM</th>\n",
       "      <td>506.0</td>\n",
       "      <td>6.284634</td>\n",
       "      <td>0.702617</td>\n",
       "      <td>3.56100</td>\n",
       "      <td>5.885500</td>\n",
       "      <td>6.20850</td>\n",
       "      <td>6.623500</td>\n",
       "      <td>8.7800</td>\n",
       "    </tr>\n",
       "    <tr>\n",
       "      <th>AGE</th>\n",
       "      <td>506.0</td>\n",
       "      <td>68.574901</td>\n",
       "      <td>28.148861</td>\n",
       "      <td>2.90000</td>\n",
       "      <td>45.025000</td>\n",
       "      <td>77.50000</td>\n",
       "      <td>94.075000</td>\n",
       "      <td>100.0000</td>\n",
       "    </tr>\n",
       "    <tr>\n",
       "      <th>DIS</th>\n",
       "      <td>506.0</td>\n",
       "      <td>3.795043</td>\n",
       "      <td>2.105710</td>\n",
       "      <td>1.12960</td>\n",
       "      <td>2.100175</td>\n",
       "      <td>3.20745</td>\n",
       "      <td>5.188425</td>\n",
       "      <td>12.1265</td>\n",
       "    </tr>\n",
       "    <tr>\n",
       "      <th>RAD</th>\n",
       "      <td>506.0</td>\n",
       "      <td>9.549407</td>\n",
       "      <td>8.707259</td>\n",
       "      <td>1.00000</td>\n",
       "      <td>4.000000</td>\n",
       "      <td>5.00000</td>\n",
       "      <td>24.000000</td>\n",
       "      <td>24.0000</td>\n",
       "    </tr>\n",
       "    <tr>\n",
       "      <th>TAX</th>\n",
       "      <td>506.0</td>\n",
       "      <td>408.237154</td>\n",
       "      <td>168.537116</td>\n",
       "      <td>187.00000</td>\n",
       "      <td>279.000000</td>\n",
       "      <td>330.00000</td>\n",
       "      <td>666.000000</td>\n",
       "      <td>711.0000</td>\n",
       "    </tr>\n",
       "    <tr>\n",
       "      <th>PTRATIO</th>\n",
       "      <td>506.0</td>\n",
       "      <td>18.455534</td>\n",
       "      <td>2.164946</td>\n",
       "      <td>12.60000</td>\n",
       "      <td>17.400000</td>\n",
       "      <td>19.05000</td>\n",
       "      <td>20.200000</td>\n",
       "      <td>22.0000</td>\n",
       "    </tr>\n",
       "    <tr>\n",
       "      <th>B</th>\n",
       "      <td>506.0</td>\n",
       "      <td>356.674032</td>\n",
       "      <td>91.294864</td>\n",
       "      <td>0.32000</td>\n",
       "      <td>375.377500</td>\n",
       "      <td>391.44000</td>\n",
       "      <td>396.225000</td>\n",
       "      <td>396.9000</td>\n",
       "    </tr>\n",
       "    <tr>\n",
       "      <th>LSTAT</th>\n",
       "      <td>506.0</td>\n",
       "      <td>12.653063</td>\n",
       "      <td>7.141062</td>\n",
       "      <td>1.73000</td>\n",
       "      <td>6.950000</td>\n",
       "      <td>11.36000</td>\n",
       "      <td>16.955000</td>\n",
       "      <td>37.9700</td>\n",
       "    </tr>\n",
       "    <tr>\n",
       "      <th>PRICE</th>\n",
       "      <td>506.0</td>\n",
       "      <td>22.532806</td>\n",
       "      <td>9.197104</td>\n",
       "      <td>5.00000</td>\n",
       "      <td>17.025000</td>\n",
       "      <td>21.20000</td>\n",
       "      <td>25.000000</td>\n",
       "      <td>50.0000</td>\n",
       "    </tr>\n",
       "  </tbody>\n",
       "</table>\n",
       "</div>"
      ],
      "text/plain": [
       "         count        mean         std        min         25%        50%  \\\n",
       "CRIM     506.0    3.613524    8.601545    0.00632    0.082045    0.25651   \n",
       "ZN       506.0   11.363636   23.322453    0.00000    0.000000    0.00000   \n",
       "INDUS    506.0   11.136779    6.860353    0.46000    5.190000    9.69000   \n",
       "CHAS     506.0    0.069170    0.253994    0.00000    0.000000    0.00000   \n",
       "NOX      506.0    0.554695    0.115878    0.38500    0.449000    0.53800   \n",
       "RM       506.0    6.284634    0.702617    3.56100    5.885500    6.20850   \n",
       "AGE      506.0   68.574901   28.148861    2.90000   45.025000   77.50000   \n",
       "DIS      506.0    3.795043    2.105710    1.12960    2.100175    3.20745   \n",
       "RAD      506.0    9.549407    8.707259    1.00000    4.000000    5.00000   \n",
       "TAX      506.0  408.237154  168.537116  187.00000  279.000000  330.00000   \n",
       "PTRATIO  506.0   18.455534    2.164946   12.60000   17.400000   19.05000   \n",
       "B        506.0  356.674032   91.294864    0.32000  375.377500  391.44000   \n",
       "LSTAT    506.0   12.653063    7.141062    1.73000    6.950000   11.36000   \n",
       "PRICE    506.0   22.532806    9.197104    5.00000   17.025000   21.20000   \n",
       "\n",
       "                75%       max  \n",
       "CRIM       3.677083   88.9762  \n",
       "ZN        12.500000  100.0000  \n",
       "INDUS     18.100000   27.7400  \n",
       "CHAS       0.000000    1.0000  \n",
       "NOX        0.624000    0.8710  \n",
       "RM         6.623500    8.7800  \n",
       "AGE       94.075000  100.0000  \n",
       "DIS        5.188425   12.1265  \n",
       "RAD       24.000000   24.0000  \n",
       "TAX      666.000000  711.0000  \n",
       "PTRATIO   20.200000   22.0000  \n",
       "B        396.225000  396.9000  \n",
       "LSTAT     16.955000   37.9700  \n",
       "PRICE     25.000000   50.0000  "
      ]
     },
     "execution_count": 9,
     "metadata": {},
     "output_type": "execute_result"
    }
   ],
   "source": [
    "#Table with summary statistics of the dataset\n",
    "bos.describe().T"
   ]
  },
  {
   "cell_type": "markdown",
   "metadata": {},
   "source": [
    "**HISTOGRAMS OF HOUSE PRICE VARIABLES**"
   ]
  },
  {
   "cell_type": "code",
   "execution_count": 10,
   "metadata": {},
   "outputs": [
    {
     "data": {
      "image/png": "[encoded data removed]",
      "text/plain": [
       "<Figure size 1440x1080 with 16 Axes>"
      ]
     },
     "metadata": {
      "needs_background": "light"
     },
     "output_type": "display_data"
    }
   ],
   "source": [
    "#Histograms of House Price Variables using matplotlib\n",
    "bos.hist(bins=50, figsize=(20,15))\n",
    "plt.show()"
   ]
  },
  {
   "cell_type": "markdown",
   "metadata": {},
   "source": [
    "### Selected Observations from the Summary Stats Table\n",
    "___\n",
    "\n",
    "* **The target variable - 'PRICE' has a range of $5000 - $50000 with a mean of $22,532 which is a significant variation in house prices across the city.**\n",
    "\n",
    "\n",
    "* The 'CHAS' variable - proximity to the Charles River is logisitic in nature (i.e. 1 or 0)\n",
    "\n",
    "\n",
    "* Per Capita crime rate varies significantly across the city from 0.00632 to 88.9762"
   ]
  },
  {
   "cell_type": "markdown",
   "metadata": {},
   "source": [
    "### **OUTLIERS**\n",
    "\n",
    "Z-Scores determined for outliers and new df created `bos_o` with outliers removed."
   ]
  },
  {
   "cell_type": "code",
   "execution_count": 11,
   "metadata": {},
   "outputs": [],
   "source": [
    "z = np.abs(stats.zscore(bos))"
   ]
  },
  {
   "cell_type": "code",
   "execution_count": 12,
   "metadata": {},
   "outputs": [],
   "source": [
    "bos_o = bos[(z < 3).all(axis=1)]"
   ]
  },
  {
   "cell_type": "markdown",
   "metadata": {},
   "source": [
    "### Distribution of Prices Data\n",
    "___"
   ]
  },
  {
   "cell_type": "code",
   "execution_count": 13,
   "metadata": {},
   "outputs": [],
   "source": [
    "#Set the target variable to y\n",
    "\n",
    "y = bos['PRICE']*1000"
   ]
  },
  {
   "cell_type": "code",
   "execution_count": 14,
   "metadata": {},
   "outputs": [
    {
     "data": {
      "image/png": "[encoded data removed]",
      "text/plain": [
       "<Figure size 864x864 with 1 Axes>"
      ]
     },
     "metadata": {},
     "output_type": "display_data"
    }
   ],
   "source": [
    "#Use the Seaborn library to display the distribution of house prices\n",
    "sns.set_style(\"darkgrid\")\n",
    "plt.figure(figsize=(12, 12))\n",
    "plt.title('House Prices Distribution', size=20)\n",
    "ax = sns.distplot(y)"
   ]
  },
  {
   "cell_type": "markdown",
   "metadata": {},
   "source": [
    "The plot above which displays the distribution of house prices in the dataset 'appears' to follow a **normal distribution.**\n",
    "\n",
    "**Some other observations**\n",
    "\n",
    "* The highest distribution is centred approximately around the mean ($20,000)\n",
    "\n",
    "* There are a notably high number of houses around the max ($50,000)\n",
    "\n",
    "Although the prices 'look' like they follow a normal distribution i.e. a bell-curve or gaussian distribution, it would be prudent to definitively determine the distribution as the distribution of the data will determine what inferential statistical analysis should be carried out.- **we will next carry out a test for normality.**"
   ]
  },
  {
   "cell_type": "markdown",
   "metadata": {},
   "source": [
    "**Shapiro-Wilk Test for Normality**\n",
    "\n",
    "The Shapiro-Wilk test tests the null hypothesis $H_0$ that the sample comes from the normal distribution. Therefore at a significance level of 0.05 a $p$ < 0.05 indicates non-normality\n",
    "Ref[http://www.bios.unc.edu/~mhudgens/bios/662/2008fall/Backup/wilkshapiro1965.pdf]"
   ]
  },
  {
   "cell_type": "code",
   "execution_count": 15,
   "metadata": {},
   "outputs": [
    {
     "name": "stdout",
     "output_type": "stream",
     "text": [
      "Test Statistic=0.917, p=0.0000\n"
     ]
    }
   ],
   "source": [
    "from scipy.stats import shapiro #import the Shapiro-Wilks function\n",
    "\n",
    "shapiro_test = shapiro(y) #run the Shapiro Wilks tets on the house price data\n",
    "\n",
    "stat, p = shapiro_test\n",
    "print('Test Statistic=%.3f, p=%.4f' % (stat, p))"
   ]
  },
  {
   "cell_type": "markdown",
   "metadata": {},
   "source": [
    "The Shapiro-Wilk test above *rejects* the null hypothesis since the *p* value is less than 0.05, therefore the data for 'PRICE' is not normally distributed. In addition the test statistic is 0.917 which indicates that this result is likely valid and not a type 1 error. Further visualisation may be carried out using a **Q-Q plot**\n",
    "\n",
    "A Q-Q plot plots quantiles (values that split a data set into equal portions of the data) against the theoretical quantiles of a normal distribution. \n",
    "\n",
    "Ref[https://www.ncbi.nlm.nih.gov/pmc/articles/PMC3693611/?source=post_page-----6bf06ed646a9----------------------]"
   ]
  },
  {
   "cell_type": "code",
   "execution_count": 16,
   "metadata": {},
   "outputs": [
    {
     "data": {
      "image/png": "[encoded data removed]",
      "text/plain": [
       "<Figure size 432x288 with 1 Axes>"
      ]
     },
     "execution_count": 16,
     "metadata": {},
     "output_type": "execute_result"
    },
    {
     "data": {
      "image/png": "[encoded data removed]",
      "text/plain": [
       "<Figure size 432x288 with 1 Axes>"
      ]
     },
     "metadata": {},
     "output_type": "display_data"
    }
   ],
   "source": [
    "sm.qqplot(y, line='s') #generate a q-q plot of the house price data"
   ]
  },
  {
   "cell_type": "markdown",
   "metadata": {},
   "source": [
    "Investigating possible reasons for the non-normality of the 'PRICES' data and specifically what, if any effects are causing the skew of data towards higher value houses may be worthwhile."
   ]
  },
  {
   "cell_type": "markdown",
   "metadata": {},
   "source": [
    "### RELATIONSHIPS BETWEEN VARIABLES\n",
    "___\n",
    "\n",
    "A correlation heatmap is a useful way to quickly visualise the relationships between variables and determine which variables are highly correlated and worth further investigation.\n",
    "\n",
    "Ref [https://seaborn.pydata.org/generated/seaborn.heatmap.html]\n"
   ]
  },
  {
   "cell_type": "markdown",
   "metadata": {},
   "source": [
    "**CORRELATIONS**"
   ]
  },
  {
   "cell_type": "markdown",
   "metadata": {},
   "source": [
    "The correlations between input variables and PRICE are ranked below in descending order"
   ]
  },
  {
   "cell_type": "code",
   "execution_count": 17,
   "metadata": {},
   "outputs": [
    {
     "data": {
      "text/plain": [
       "PRICE      1.000000\n",
       "RM         0.695360\n",
       "ZN         0.360445\n",
       "B          0.333461\n",
       "DIS        0.249929\n",
       "CHAS       0.175260\n",
       "AGE       -0.376955\n",
       "RAD       -0.381626\n",
       "CRIM      -0.388305\n",
       "NOX       -0.427321\n",
       "TAX       -0.468536\n",
       "INDUS     -0.483725\n",
       "PTRATIO   -0.507787\n",
       "LSTAT     -0.737663\n",
       "Name: PRICE, dtype: float64"
      ]
     },
     "execution_count": 17,
     "metadata": {},
     "output_type": "execute_result"
    }
   ],
   "source": [
    "corr_matrix = bos.corr()\n",
    "corr_matrix['PRICE'].sort_values(ascending=False)"
   ]
  },
  {
   "cell_type": "markdown",
   "metadata": {},
   "source": [
    "**Highest correlations are RM, ZN and B**"
   ]
  },
  {
   "cell_type": "code",
   "execution_count": 18,
   "metadata": {},
   "outputs": [
    {
     "data": {
      "image/png": "[encoded data removed]",
      "text/plain": [
       "<Figure size 1080x1080 with 2 Axes>"
      ]
     },
     "metadata": {},
     "output_type": "display_data"
    }
   ],
   "source": [
    "plt.figure(figsize=(15, 15)) #sets the parameters for the figure size \n",
    "ax = sns.heatmap(bos.corr(), cmap=sns.cubehelix_palette(as_cmap=True), linewidths=0.5) #generates heatmap, colour scheme and linewidth\n",
    "ax.xaxis.tick_top() #sets the axis to the top of the chart for easier reading"
   ]
  },
  {
   "cell_type": "markdown",
   "metadata": {},
   "source": [
    "The above correlation matrix highlights some interesting relationships between the target variable, PRICE and other variables:\n",
    "\n",
    "* There is a high positive correlation between PRICE and RM - (Average number of rooms per dwelling)\n",
    "\n",
    "* There is a positive correlation between PRICE and ZN - (proportion of residential land zoned for lots over 25,000 sq.ft.)\n",
    "\n",
    "* There is a negative correlation between PRICE and LSTAT - (% lower status of the population)\n",
    "\n",
    "* There is a negative correlation between PRICE and PTRATIO - (pupil-teacher ratio by town)\n",
    "\n",
    "The correlation matrix is only relevant to variables where there is a integer value. The Charles river variable is logistic in nature (i.e. 1 or 0) so is not relevant to this analysis."
   ]
  },
  {
   "cell_type": "markdown",
   "metadata": {},
   "source": [
    "## INFERENTIAL STATISTICS"
   ]
  },
  {
   "cell_type": "markdown",
   "metadata": {},
   "source": [
    "We will now use inferential statistics to analyse the relationship between the median house prices 'PRICE' ('MEDV'in the original dataset) and whether or not the houses border the Charles river 'CHAS'"
   ]
  },
  {
   "cell_type": "code",
   "execution_count": 19,
   "metadata": {},
   "outputs": [],
   "source": [
    "# Split the data into house proces which border the River and those who dont\n",
    "    \n",
    "River = bos.loc[bos['CHAS'] != 0]\n",
    "Not_River = bos.loc[bos['CHAS'] != 1]"
   ]
  },
  {
   "cell_type": "code",
   "execution_count": 20,
   "metadata": {},
   "outputs": [],
   "source": [
    "#Create 2 Arrays of Prices along River and not along river\n",
    "\n",
    "River_Price = River['PRICE']\n",
    "Not_River_Price = Not_River['PRICE']"
   ]
  },
  {
   "cell_type": "code",
   "execution_count": 21,
   "metadata": {},
   "outputs": [
    {
     "data": {
      "text/plain": [
       "count    35.000000\n",
       "mean     28.440000\n",
       "std      11.816643\n",
       "min      13.400000\n",
       "25%      21.100000\n",
       "50%      23.300000\n",
       "75%      33.150000\n",
       "max      50.000000\n",
       "Name: PRICE, dtype: float64"
      ]
     },
     "execution_count": 21,
     "metadata": {},
     "output_type": "execute_result"
    }
   ],
   "source": [
    "#Summary statistics for house prices bordering river\n",
    "River_Price.describe().T\n"
   ]
  },
  {
   "cell_type": "code",
   "execution_count": 22,
   "metadata": {},
   "outputs": [
    {
     "data": {
      "text/plain": [
       "count    471.000000\n",
       "mean      22.093843\n",
       "std        8.831362\n",
       "min        5.000000\n",
       "25%       16.600000\n",
       "50%       20.900000\n",
       "75%       24.800000\n",
       "max       50.000000\n",
       "Name: PRICE, dtype: float64"
      ]
     },
     "execution_count": 22,
     "metadata": {},
     "output_type": "execute_result"
    }
   ],
   "source": [
    "#Summary statistics for house prices not bordering river\n",
    "Not_River_Price.describe().T"
   ]
  },
  {
   "cell_type": "markdown",
   "metadata": {},
   "source": [
    "I can be seen above that in simple terms, the mean house price of houses bordering the river is 28,440 dollars whereas the mean house price of houses not bordering the river is 22,093 dollars.\n",
    "\n",
    "We will take a further look at how both sets of prices are distributed, using boxplots"
   ]
  },
  {
   "cell_type": "markdown",
   "metadata": {},
   "source": [
    "### BOX PLOTS OF HOUSE PRICES BORDERING/NOT BORDERING RIVER"
   ]
  },
  {
   "cell_type": "code",
   "execution_count": 23,
   "metadata": {},
   "outputs": [
    {
     "data": {
      "text/plain": [
       "Text(0.5,1,'House Prices Not Bordering River and Bordering River')"
      ]
     },
     "execution_count": 23,
     "metadata": {},
     "output_type": "execute_result"
    },
    {
     "data": {
      "image/png": "[encoded data removed]",
      "text/plain": [
       "<Figure size 1080x1080 with 1 Axes>"
      ]
     },
     "metadata": {},
     "output_type": "display_data"
    }
   ],
   "source": [
    "plt.figure(figsize=(15, 15))\n",
    "red_circle = dict(markerfacecolor='r', marker='o')\n",
    "sns.set(font_scale=1.2)\n",
    "ax=sns.boxplot(x=\"CHAS\", y=\"PRICE\",data=bos, linewidth=2.0, flierprops=red_circle, showmeans=True , meanline=True, meanprops = dict(linestyle='--', linewidth=2.5, color='purple'))\n",
    "ax.set_title('House Prices Not Bordering River and Bordering River', size=20)\n"
   ]
  },
  {
   "cell_type": "markdown",
   "metadata": {},
   "source": [
    "The boxplots of the median house price for houses bordering the river (CHAS=1) and those not bordering the river (CHAS=0) appear quite different, suggesting that it may be worth investigating if this difference is statistically significant.\n",
    "* The array containing houses not bordering the river has a number of outliers at the upper end\n",
    "* The array containing houses bordering the river has a mean which is higher than those not bordering the river (**purple dashed line in boxplot**). Additionally, the mean of house prices bordering the river is significantly higher than the median compared to the house prices of those not bordering the river."
   ]
  },
  {
   "cell_type": "markdown",
   "metadata": {},
   "source": [
    "### DISTRIBUTION PLOTS OF HOUSE PRICES BORDERING/NOT BORDERING RIVER"
   ]
  },
  {
   "cell_type": "code",
   "execution_count": 24,
   "metadata": {},
   "outputs": [
    {
     "data": {
      "image/png": "[encoded data removed]",
      "text/plain": [
       "<Figure size 864x864 with 1 Axes>"
      ]
     },
     "metadata": {},
     "output_type": "display_data"
    }
   ],
   "source": [
    "sns.set_style(\"darkgrid\")\n",
    "plt.figure(figsize=(12, 12))\n",
    "ax1 = sns.distplot(River_Price)\n",
    "ax2 = sns.distplot(Not_River_Price)"
   ]
  },
  {
   "cell_type": "markdown",
   "metadata": {},
   "source": [
    "The distribution plots of house prices bordering/not bordering the river don't highlight the differences in the two datasets as well as the boxplots do, but the distributions illustrate how both distributions have a similar shape"
   ]
  },
  {
   "cell_type": "markdown",
   "metadata": {},
   "source": [
    "### NORMALITY CHECK ON HOUSE PRICES BORDERING/NOT BORDERING RIVER"
   ]
  },
  {
   "cell_type": "code",
   "execution_count": 25,
   "metadata": {},
   "outputs": [
    {
     "name": "stdout",
     "output_type": "stream",
     "text": [
      "Test Statistic : Not Bordering River =0.928, p=0.0000\n",
      "Test Statistic : Bordering River =0.836, p=0.0001\n"
     ]
    }
   ],
   "source": [
    "#Check the two house price data sets for normality using the Shapiro-Wilks test\n",
    "\n",
    "shapiro_test1 = shapiro(Not_River_Price) \n",
    "shapiro_test2 = shapiro(River_Price) \n",
    "\n",
    "stat1, p1 = shapiro_test1\n",
    "stat2, p2 = shapiro_test2\n",
    "print('Test Statistic : Not Bordering River =%.3f, p=%.4f' % (stat1, p1))\n",
    "print('Test Statistic : Bordering River =%.3f, p=%.4f' % (stat2, p2))"
   ]
  },
  {
   "cell_type": "markdown",
   "metadata": {},
   "source": [
    "The normality test of the house prices bordering/not bordering the river both suggest that we can reject the null hypothesis, $H_0$, and accept the alternative hypothesis, $H_1$, the two sets are non-normal\n",
    "\n",
    "**Although the data displays non-normality, (and the presence of outliers) - parametric tests of the house prices are still suitable due to the large sample sizes we have** \n",
    "\n",
    "REF [https://blog.minitab.com/blog/understanding-statistics/data-not-normal-try-letting-it-be-with-a-nonparametric-hypothesis-test]\n",
    "\n",
    "This is also a satisfactory approach since the **Central Limit Theorem** states that given a sufficiently large sample size from a population (usually more than 30) with a finite level of variance, the mean of all samples from the same population will be approximately equal to the mean of the population.\n",
    "\n",
    "**CENTRAL LIMIT THEOREM**\n",
    "\n",
    "If X1, X2,...Xn is a random sample of size n taken from a population (either finite\n",
    "or infinite) with mean $u$ and finite variance $\\sigma^2$ , and if $\\bar X$ is the sample mean, the limiting\n",
    "form of the distribution of\n",
    "\n",
    "$Z$ = $\\frac{\\bar X - u} {\\frac{\\sigma}{\\sqrt n}}$\n",
    "\n",
    "\n",
    "as n -->0, is the standard normal distribution.\n",
    "\n",
    "REF[Applied Statistics and Probability for Engineers.; Montgomery,D.C.; Wiley; 2003]"
   ]
  },
  {
   "cell_type": "markdown",
   "metadata": {},
   "source": [
    "### PAIRED T-TEST"
   ]
  },
  {
   "cell_type": "code",
   "execution_count": 26,
   "metadata": {},
   "outputs": [
    {
     "name": "stdout",
     "output_type": "stream",
     "text": [
      "Test Statistic = -3.996, p=0.0001\n"
     ]
    }
   ],
   "source": [
    "#Carry out a paired t-test on the house prices bordering/not bordering the river\n",
    "\n",
    "stats.ttest_ind(Not_River_Price, River_Price)\n",
    "\n",
    "stat, p = stats.ttest_ind(Not_River_Price, River_Price)\n",
    "print('Test Statistic = %.3f, p=%.4f' % (stat, p))\n",
    "\n",
    "# REF [https://docs.scipy.org/doc/scipy/reference/generated/scipy.stats.ttest_ind.html]"
   ]
  },
  {
   "cell_type": "markdown",
   "metadata": {},
   "source": [
    "A Test Statistic of -3.996 and  $p$ value of p=0.0001 suggest that we can reject the null hypothesis of equal means.\n",
    "\n",
    "Therefore we can conclude that there is a difference in the mean house price between houses bordering the Charles River and those not bordering the Charles River"
   ]
  },
  {
   "cell_type": "markdown",
   "metadata": {},
   "source": [
    "the following analysis was used as the basis for our investigation of descriptive and inferential statistics:\n",
    "\n",
    "REF: [https://subscription.packtpub.com/book/programming/9781789804744/1/ch01lvl1sec11/our-first-analysis-the-boston-housing-dataset]"
   ]
  },
  {
   "cell_type": "markdown",
   "metadata": {},
   "source": [
    "#  PREDICT \n",
    "\n"
   ]
  },
  {
   "cell_type": "markdown",
   "metadata": {},
   "source": [
    "## NEURAL NETWORK USING KERAS\n",
    "\n",
    "In this section we will attempt to predict the house prices based on other variables using the Keras Neural Network library\n",
    "\n",
    "REF [https://keras.io/]"
   ]
  },
  {
   "cell_type": "markdown",
   "metadata": {},
   "source": [
    "**BUILD THE MODEL**\n",
    "\n",
    "We have used 1 input layer with 14 neurons, 2 hidden layers with 4 neurons and 1 output layer. The input shape is the number of variables i.e. 13. The activation function is `relu` - Rectified Linear Unit. This activation function normalises the inputs."
   ]
  },
  {
   "cell_type": "markdown",
   "metadata": {},
   "source": [
    "`BatchNormalization` is added as a means of getting all the attributes on the same scale: This is important in datasets where the input variables vary greatly in scale. "
   ]
  },
  {
   "cell_type": "code",
   "execution_count": 27,
   "metadata": {},
   "outputs": [],
   "source": [
    "#Import relevant Keras libraries\n",
    "\n",
    "#import the sequential model\n",
    "from keras.models import Sequential\n",
    "from keras.models import Model\n",
    "\n",
    "from keras import optimizers \n",
    "\n",
    "#import the relevent layer types and activation\n",
    "from keras.layers import Dense, Activation\n",
    "# For encoding categorical variables.\n",
    "import sklearn.preprocessing as pre\n",
    "\n",
    "\n",
    "\n",
    "# For splitting into training and test sets.\n",
    "import sklearn.model_selection as mod\n",
    "\n",
    "#Create a new sequential model\n",
    "def create_model():\n",
    "    # create model\n",
    "    \n",
    "    model = Sequential()\n",
    "\n",
    "#Introduce regularisation\n",
    "\n",
    "    model.add(Dense(14, input_dim=(13), activation=\"relu\",kernel_regularizer=regularizers.l2(0.01), activity_regularizer=regularizers.l1(0.01)))\n",
    "    #model.add(Dense(64, input_dim=(13), activation=\"relu\",kernel_regularizer=regularizers.l2(0.01), activity_regularizer=regularizers.l1(0.01)))\n",
    "    \n",
    "    kr.layers.BatchNormalization()\n",
    "    #model.add(Dense(7, activation=\"relu\"))\n",
    "    model.add(Dense(4, activation=\"linear\"))\n",
    "    \n",
    "    #kr.layers.BatchNormalization()\n",
    "    model.add(Dense(4, activation=\"relu\"))\n",
    "\n",
    "    kr.layers.BatchNormalization()\n",
    "    model.add(Dense(1, activation=\"linear\"))\n",
    "    #model.add(Dense(1, activation=\"linear\"))\n",
    "    \n",
    "    model.summary()\n",
    "    \n",
    "    model.compile(optimizer=\"Adam\", loss =\"mean_absolute_error\")\n",
    "    \n",
    "    return model\n",
    "#Note: 23-Nov-19 - Number of neurons increased to 64 in line with original experimentation and from knowledge gained in REF\n",
    "\n",
    "#[Deep Learning with Python: Chollet, F.; Manning; 2018]# pages 85-91"
   ]
  },
  {
   "cell_type": "code",
   "execution_count": 28,
   "metadata": {},
   "outputs": [],
   "source": [
    "#Set the x and y parameters for independent and dependent variables\n",
    "\n",
    "#Define the feature variables by assigning the column names as feature_names\n",
    "\n",
    "boston_features = pd.DataFrame(boston.data, columns=boston.feature_names)\n",
    "\n",
    "#x = boston_features[['ZN','RM', 'PTRATIO', 'LSTAT', 'CHAS']]\n",
    "#x = pd.DataFrame(boston_features)\n",
    "y = pd.DataFrame(boston.target, columns =['PRICE'])\n",
    "x = pd.DataFrame(boston_features)\n",
    "#drop some parameters to try and simplify the model\n",
    "#x = pd.DataFrame(boston_features, columns=['ZN','PTRATIO','LSTAT','RM'])\n",
    "#x = bos['CRIM', 'INDUS', 'CHAS','ZN', 'NOX', 'RM', 'AGE', 'DIS', 'RAD', 'TAX', 'PTRATIO', 'LSTAT', 'TAX']\n"
   ]
  },
  {
   "cell_type": "markdown",
   "metadata": {},
   "source": [
    "**SCALING**"
   ]
  },
  {
   "cell_type": "markdown",
   "metadata": {},
   "source": [
    "REF[https://scikit-learn.org/stable/modules/generated/sklearn.preprocessing.scale.html]\n",
    "\n",
    "Scaling can be used to optimise models if the data is not normally distributed. In our case this dataset shows evidence of non-normality as shown in the 'histograms of house price labels' section above. This is achieved using the StandardScaler class in the  `preprocessing` Scikitlearn python library\n",
    "\n",
    "It is a useful technique to be used on data which is non-normal. It is achieved by removing the mean of each feature and dividing by its standard deviation to bring all variables to the same scale. "
   ]
  },
  {
   "cell_type": "code",
   "execution_count": 29,
   "metadata": {},
   "outputs": [],
   "source": [
    "# https://scikit-learn.org/stable/modules/preprocessing.html#preprocessing\n",
    "\n",
    "#define the scope for the scaling function (the boston_features variables, add column names)\n",
    "xscale = pd.DataFrame(pre.scale(x), columns=x.columns)\n"
   ]
  },
  {
   "cell_type": "code",
   "execution_count": 30,
   "metadata": {},
   "outputs": [
    {
     "data": {
      "text/plain": [
       "(array([3.61352356e+00, 1.13636364e+01, 1.11367787e+01, 6.91699605e-02,\n",
       "        5.54695059e-01, 6.28463439e+00, 6.85749012e+01, 3.79504269e+00,\n",
       "        9.54940711e+00, 4.08237154e+02, 1.84555336e+01, 3.56674032e+02,\n",
       "        1.26530632e+01]),\n",
       " array([8.59304135e+00, 2.32993957e+01, 6.85357058e+00, 2.53742935e-01,\n",
       "        1.15763115e-01, 7.01922514e-01, 2.81210326e+01, 2.10362836e+00,\n",
       "        8.69865112e+00, 1.68370495e+02, 2.16280519e+00, 9.12046075e+01,\n",
       "        7.13400164e+00]))"
      ]
     },
     "execution_count": 30,
     "metadata": {},
     "output_type": "execute_result"
    }
   ],
   "source": [
    "#define scaling as preprocessing standard scaler scikitlearn library\n",
    "scaler = pre.StandardScaler()\n",
    "scaler.fit(x)\n",
    "#output the mean and scale of data\n",
    "scaler.mean_, scaler.scale_"
   ]
  },
  {
   "cell_type": "code",
   "execution_count": 31,
   "metadata": {},
   "outputs": [],
   "source": [
    "#scaler.transform function centres and scales the data\n",
    "xscale = pd.DataFrame(scaler.transform(x), columns=x.columns)"
   ]
  },
  {
   "cell_type": "markdown",
   "metadata": {},
   "source": [
    "**COMPILE THE MODEL**\n",
    "\n",
    "Gradient descent is an optimisation algorithm which works by changing parameters of the input functions such as weights until the loss function converges on a minimum.\n",
    "\n",
    "The model was initially compiled using a Stochastic Gradient Descent optimiser `sgd` and the loss function Mean Square Error `mse`.\n",
    "\n",
    "Better results were found using the `Adam` optimiser and `mean_absolute_error`\n",
    "\n",
    "* **Stochastic Gradient Descent optimiser**, as the name suggests picks a random instance in the training set and computes the gradient based only on that instance. This is in contrast to 'Batch gradient descent which uses the entire dataset to calculate the gradients which is slow (for a large dataset). Due to its random nature, the cost function for stochastic gradient descent will increase and decrease, over time approaching its minimum.\n",
    "  \n",
    "\n",
    "* **Mean Square Error** is a useful loss function for regression problems where a value is predicted from continuous variables.\n",
    "\n",
    "* **Mean Absolute Error** Calculates the absolute error between training and test data\n",
    " \n",
    "    REF [Applied Deep Learning with Python By Alex Galea, Luis Capelo August 2018]\n",
    "    \n",
    "    REF [Hands-On Machine Learning with Scikit-Learn, KERAS & TensorFlow; Geron, A.; O'Reilly; 2019, 2nd Ed]\n",
    "    \n",
    "Batch Normalisation `keras.layers.BatchNormalization` REF[https://keras.io/layers/normalization/]\n",
    "\n",
    "\"Normalises the activations of the previous layer at each batch, i.e. applies a transformation that maintains the mean activation close to 0 and the activation standard deviation close to 1.\"\n",
    "\n",
    "It increases training speed and allows greater variation in the learning rate:\n",
    "https://arxiv.org/abs/1502.03167"
   ]
  },
  {
   "cell_type": "markdown",
   "metadata": {},
   "source": [
    "**Attempt to adjust learning rate to get better cost value**"
   ]
  },
  {
   "cell_type": "code",
   "execution_count": 32,
   "metadata": {},
   "outputs": [],
   "source": [
    "#compile the model specifying the model optimiser and loss function\n",
    "\n",
    "# Optimizers Tried\n",
    "sgd = optimizers.SGD(lr=0.01, clipnorm=1.0)\n",
    "Adam = kr.optimizers.Adam(learning_rate=0.01, beta_1=0.9, beta_2=0.999, amsgrad=False)\n",
    "RMSprop = kr.optimizers.RMSprop(learning_rate=0.001, rho=0.9)\n",
    "Adagrad = kr.optimizers.Adagrad(learning_rate=0.01)\n",
    "Adadelta = kr.optimizers.Adadelta(learning_rate=1.0, rho=0.95)\n",
    "Adamax = kr.optimizers.Adamax(learning_rate=0.002, beta_1=0.9, beta_2=0.999)\n",
    "Nadam = kr.optimizers.Nadam(learning_rate=0.002, beta_1=0.9, beta_2=0.999)\n",
    "\n",
    "#loss Functions tried\n",
    "#model.compile(optimizer=\"Adam\", loss =\"mean_squared_error\")\n",
    "#model.compile(optimizer=\"Adam\", loss =\"mean_absolute_error\")\n",
    "#model.compile(optimizer=\"Adam\", loss =\"mean_absolute_percentage_error\")\n",
    "#model.compile(optimizer=\"Adam\", loss =\"mean_squared_logarithmic_error\")\n",
    "#model.compile(optimizer=\"Adam\", loss =\"hinge\")\n",
    "#model.compile(optimizer=\"Adam\", loss =\"log_cosh\")\n",
    "#model.compile(optimizer=\"Adam\", loss =\"huber_loss\")\n",
    "\n",
    "#changed to 'Adam' optimiser, loss mean_squared_error, \n",
    "#metrics added ref https://stackoverflow.com/questions/48775305/what-function-defines-accuracy-in-keras-when-the-loss-is-mean-squared-error-mse?rq=1\n",
    "#model.compile(optimizer=\"Adam\", loss =\"mean_squared_error\")\n"
   ]
  },
  {
   "cell_type": "markdown",
   "metadata": {},
   "source": [
    "**CREATE A TRAINING AND TESTING SET**\n",
    "\n",
    "Like all regression problems it is necessary to create a training `x_train` , `y_train` and testing set `x_test`, `y_test` with which to train the model to create predictions of our output variable and a testing set to test the accuracy of the predictive model we have created.\n",
    "\n",
    "We have specified a `test_size` of 0.5 i.e. half the data will be used to test the model. - Subsequently adjusted to 0.2"
   ]
  },
  {
   "cell_type": "code",
   "execution_count": 33,
   "metadata": {},
   "outputs": [],
   "source": [
    "# Define our training set: size of the test set is 0.2 i.e. 20% of the dataset\n",
    "#random_state sets the seed for random assignment in order to maintain consistency\n",
    "x_train, x_test, y_train, y_test = mod.train_test_split(x, y, test_size=0.2, random_state = 42)\n",
    "#x_train, x_test, y_train, y_test = x[train_index], x[test_index], y[train_index], y[test_index]\n",
    "\n",
    "#x.loc[train_index]"
   ]
  },
  {
   "cell_type": "markdown",
   "metadata": {},
   "source": [
    "**SCALING THE DATASET**"
   ]
  },
  {
   "cell_type": "code",
   "execution_count": 34,
   "metadata": {},
   "outputs": [],
   "source": [
    "scaler = pre.StandardScaler()\n",
    "scaler.fit(x_train)\n",
    "x_train_scaled = pd.DataFrame(scaler.transform(x_train), columns=x.columns)\n",
    "\n",
    "#x_train_scaled"
   ]
  },
  {
   "cell_type": "markdown",
   "metadata": {},
   "source": [
    "`model.fit` Trains the model over a fixed number of epochs\n",
    "\n",
    "**epochs**: are the number of epochs to train the model. An epoch is an iteration over the entire x and y data provided. \n",
    "\n",
    "REF[https://keras.io/models/model/]"
   ]
  },
  {
   "cell_type": "markdown",
   "metadata": {},
   "source": [
    "`EarlyStopping` stops the model when it doesnt improve the cost function after a specified number of epochs of same loss value. `patience` defines the number of epochs of same loss value before stopping\n",
    "\n",
    "REF [https://towardsdatascience.com/building-a-deep-learning-model-using-keras-1548ca149d37]\n",
    "\n",
    "Validation model also added:\n",
    "\n",
    "Validation is a process of holding out part of the test set during optimisation in order to evaluate several candidate models and select the best one.\n",
    "\n",
    "`validation_split`: Float between 0 and 1. Fraction of the training data to be used as validation data. The model will set apart this fraction of the training data, will not train on it, and will evaluate the loss and any model metrics on this data at the end of each epoch. The validation data is selected from the last samples in the x and y data provided, before shuffling. \n",
    "\n",
    "`Val_Loss` is the loss value calculated on the validation test set after each epoch\n",
    "\n",
    "REF [https://keras.io/models/model/]"
   ]
  },
  {
   "cell_type": "markdown",
   "metadata": {},
   "source": [
    "**GRADIENT DESCENT**\n",
    "\n"
   ]
  },
  {
   "cell_type": "code",
   "execution_count": 69,
   "metadata": {},
   "outputs": [
    {
     "name": "stdout",
     "output_type": "stream",
     "text": [
      "TRAIN: [ 51  52  53  54  55  56  57  58  59  60  61  62  63  64  65  66  67  68\n",
      "  69  70  71  72  73  74  75  76  77  78  79  80  81  82  83  84  85  86\n",
      "  87  88  89  90  91  92  93  94  95  96  97  98  99 100 101 102 103 104\n",
      " 105 106 107 108 109 110 111 112 113 114 115 116 117 118 119 120 121 122\n",
      " 123 124 125 126 127 128 129 130 131 132 133 134 135 136 137 138 139 140\n",
      " 141 142 143 144 145 146 147 148 149 150 151 152 153 154 155 156 157 158\n",
      " 159 160 161 162 163 164 165 166 167 168 169 170 171 172 173 174 175 176\n",
      " 177 178 179 180 181 182 183 184 185 186 187 188 189 190 191 192 193 194\n",
      " 195 196 197 198 199 200 201 202 203 204 205 206 207 208 209 210 211 212\n",
      " 213 214 215 216 217 218 219 220 221 222 223 224 225 226 227 228 229 230\n",
      " 231 232 233 234 235 236 237 238 239 240 241 242 243 244 245 246 247 248\n",
      " 249 250 251 252 253 254 255 256 257 258 259 260 261 262 263 264 265 266\n",
      " 267 268 269 270 271 272 273 274 275 276 277 278 279 280 281 282 283 284\n",
      " 285 286 287 288 289 290 291 292 293 294 295 296 297 298 299 300 301 302\n",
      " 303 304 305 306 307 308 309 310 311 312 313 314 315 316 317 318 319 320\n",
      " 321 322 323 324 325 326 327 328 329 330 331 332 333 334 335 336 337 338\n",
      " 339 340 341 342 343 344 345 346 347 348 349 350 351 352 353 354 355 356\n",
      " 357 358 359 360 361 362 363 364 365 366 367 368 369 370 371 372 373 374\n",
      " 375 376 377 378 379 380 381 382 383 384 385 386 387 388 389 390 391 392\n",
      " 393 394 395 396 397 398 399 400 401 402 403 404 405 406 407 408 409 410\n",
      " 411 412 413 414 415 416 417 418 419 420 421 422 423 424 425 426 427 428\n",
      " 429 430 431 432 433 434 435 436 437 438 439 440 441 442 443 444 445 446\n",
      " 447 448 449 450 451 452 453 454 455 456 457 458 459 460 461 462 463 464\n",
      " 465 466 467 468 469 470 471 472 473 474 475 476 477 478 479 480 481 482\n",
      " 483 484 485 486 487 488 489 490 491 492 493 494 495 496 497 498 499 500\n",
      " 501 502 503 504 505] TEST: [ 0  1  2  3  4  5  6  7  8  9 10 11 12 13 14 15 16 17 18 19 20 21 22 23\n",
      " 24 25 26 27 28 29 30 31 32 33 34 35 36 37 38 39 40 41 42 43 44 45 46 47\n",
      " 48 49 50]\n",
      "TRAIN: [  0   1   2   3   4   5   6   7   8   9  10  11  12  13  14  15  16  17\n",
      "  18  19  20  21  22  23  24  25  26  27  28  29  30  31  32  33  34  35\n",
      "  36  37  38  39  40  41  42  43  44  45  46  47  48  49  50 102 103 104\n",
      " 105 106 107 108 109 110 111 112 113 114 115 116 117 118 119 120 121 122\n",
      " 123 124 125 126 127 128 129 130 131 132 133 134 135 136 137 138 139 140\n",
      " 141 142 143 144 145 146 147 148 149 150 151 152 153 154 155 156 157 158\n",
      " 159 160 161 162 163 164 165 166 167 168 169 170 171 172 173 174 175 176\n",
      " 177 178 179 180 181 182 183 184 185 186 187 188 189 190 191 192 193 194\n",
      " 195 196 197 198 199 200 201 202 203 204 205 206 207 208 209 210 211 212\n",
      " 213 214 215 216 217 218 219 220 221 222 223 224 225 226 227 228 229 230\n",
      " 231 232 233 234 235 236 237 238 239 240 241 242 243 244 245 246 247 248\n",
      " 249 250 251 252 253 254 255 256 257 258 259 260 261 262 263 264 265 266\n",
      " 267 268 269 270 271 272 273 274 275 276 277 278 279 280 281 282 283 284\n",
      " 285 286 287 288 289 290 291 292 293 294 295 296 297 298 299 300 301 302\n",
      " 303 304 305 306 307 308 309 310 311 312 313 314 315 316 317 318 319 320\n",
      " 321 322 323 324 325 326 327 328 329 330 331 332 333 334 335 336 337 338\n",
      " 339 340 341 342 343 344 345 346 347 348 349 350 351 352 353 354 355 356\n",
      " 357 358 359 360 361 362 363 364 365 366 367 368 369 370 371 372 373 374\n",
      " 375 376 377 378 379 380 381 382 383 384 385 386 387 388 389 390 391 392\n",
      " 393 394 395 396 397 398 399 400 401 402 403 404 405 406 407 408 409 410\n",
      " 411 412 413 414 415 416 417 418 419 420 421 422 423 424 425 426 427 428\n",
      " 429 430 431 432 433 434 435 436 437 438 439 440 441 442 443 444 445 446\n",
      " 447 448 449 450 451 452 453 454 455 456 457 458 459 460 461 462 463 464\n",
      " 465 466 467 468 469 470 471 472 473 474 475 476 477 478 479 480 481 482\n",
      " 483 484 485 486 487 488 489 490 491 492 493 494 495 496 497 498 499 500\n",
      " 501 502 503 504 505] TEST: [ 51  52  53  54  55  56  57  58  59  60  61  62  63  64  65  66  67  68\n",
      "  69  70  71  72  73  74  75  76  77  78  79  80  81  82  83  84  85  86\n",
      "  87  88  89  90  91  92  93  94  95  96  97  98  99 100 101]\n",
      "TRAIN: [  0   1   2   3   4   5   6   7   8   9  10  11  12  13  14  15  16  17\n",
      "  18  19  20  21  22  23  24  25  26  27  28  29  30  31  32  33  34  35\n",
      "  36  37  38  39  40  41  42  43  44  45  46  47  48  49  50  51  52  53\n",
      "  54  55  56  57  58  59  60  61  62  63  64  65  66  67  68  69  70  71\n",
      "  72  73  74  75  76  77  78  79  80  81  82  83  84  85  86  87  88  89\n",
      "  90  91  92  93  94  95  96  97  98  99 100 101 153 154 155 156 157 158\n",
      " 159 160 161 162 163 164 165 166 167 168 169 170 171 172 173 174 175 176\n",
      " 177 178 179 180 181 182 183 184 185 186 187 188 189 190 191 192 193 194\n",
      " 195 196 197 198 199 200 201 202 203 204 205 206 207 208 209 210 211 212\n",
      " 213 214 215 216 217 218 219 220 221 222 223 224 225 226 227 228 229 230\n",
      " 231 232 233 234 235 236 237 238 239 240 241 242 243 244 245 246 247 248\n",
      " 249 250 251 252 253 254 255 256 257 258 259 260 261 262 263 264 265 266\n",
      " 267 268 269 270 271 272 273 274 275 276 277 278 279 280 281 282 283 284\n",
      " 285 286 287 288 289 290 291 292 293 294 295 296 297 298 299 300 301 302\n",
      " 303 304 305 306 307 308 309 310 311 312 313 314 315 316 317 318 319 320\n",
      " 321 322 323 324 325 326 327 328 329 330 331 332 333 334 335 336 337 338\n",
      " 339 340 341 342 343 344 345 346 347 348 349 350 351 352 353 354 355 356\n",
      " 357 358 359 360 361 362 363 364 365 366 367 368 369 370 371 372 373 374\n",
      " 375 376 377 378 379 380 381 382 383 384 385 386 387 388 389 390 391 392\n",
      " 393 394 395 396 397 398 399 400 401 402 403 404 405 406 407 408 409 410\n",
      " 411 412 413 414 415 416 417 418 419 420 421 422 423 424 425 426 427 428\n",
      " 429 430 431 432 433 434 435 436 437 438 439 440 441 442 443 444 445 446\n",
      " 447 448 449 450 451 452 453 454 455 456 457 458 459 460 461 462 463 464\n",
      " 465 466 467 468 469 470 471 472 473 474 475 476 477 478 479 480 481 482\n",
      " 483 484 485 486 487 488 489 490 491 492 493 494 495 496 497 498 499 500\n",
      " 501 502 503 504 505] TEST: [102 103 104 105 106 107 108 109 110 111 112 113 114 115 116 117 118 119\n",
      " 120 121 122 123 124 125 126 127 128 129 130 131 132 133 134 135 136 137\n",
      " 138 139 140 141 142 143 144 145 146 147 148 149 150 151 152]\n",
      "TRAIN: [  0   1   2   3   4   5   6   7   8   9  10  11  12  13  14  15  16  17\n",
      "  18  19  20  21  22  23  24  25  26  27  28  29  30  31  32  33  34  35\n",
      "  36  37  38  39  40  41  42  43  44  45  46  47  48  49  50  51  52  53\n",
      "  54  55  56  57  58  59  60  61  62  63  64  65  66  67  68  69  70  71\n",
      "  72  73  74  75  76  77  78  79  80  81  82  83  84  85  86  87  88  89\n",
      "  90  91  92  93  94  95  96  97  98  99 100 101 102 103 104 105 106 107\n",
      " 108 109 110 111 112 113 114 115 116 117 118 119 120 121 122 123 124 125\n",
      " 126 127 128 129 130 131 132 133 134 135 136 137 138 139 140 141 142 143\n",
      " 144 145 146 147 148 149 150 151 152 204 205 206 207 208 209 210 211 212\n",
      " 213 214 215 216 217 218 219 220 221 222 223 224 225 226 227 228 229 230\n",
      " 231 232 233 234 235 236 237 238 239 240 241 242 243 244 245 246 247 248\n",
      " 249 250 251 252 253 254 255 256 257 258 259 260 261 262 263 264 265 266\n",
      " 267 268 269 270 271 272 273 274 275 276 277 278 279 280 281 282 283 284\n",
      " 285 286 287 288 289 290 291 292 293 294 295 296 297 298 299 300 301 302\n",
      " 303 304 305 306 307 308 309 310 311 312 313 314 315 316 317 318 319 320\n",
      " 321 322 323 324 325 326 327 328 329 330 331 332 333 334 335 336 337 338\n",
      " 339 340 341 342 343 344 345 346 347 348 349 350 351 352 353 354 355 356\n",
      " 357 358 359 360 361 362 363 364 365 366 367 368 369 370 371 372 373 374\n",
      " 375 376 377 378 379 380 381 382 383 384 385 386 387 388 389 390 391 392\n",
      " 393 394 395 396 397 398 399 400 401 402 403 404 405 406 407 408 409 410\n",
      " 411 412 413 414 415 416 417 418 419 420 421 422 423 424 425 426 427 428\n",
      " 429 430 431 432 433 434 435 436 437 438 439 440 441 442 443 444 445 446\n",
      " 447 448 449 450 451 452 453 454 455 456 457 458 459 460 461 462 463 464\n",
      " 465 466 467 468 469 470 471 472 473 474 475 476 477 478 479 480 481 482\n",
      " 483 484 485 486 487 488 489 490 491 492 493 494 495 496 497 498 499 500\n",
      " 501 502 503 504 505] TEST: [153 154 155 156 157 158 159 160 161 162 163 164 165 166 167 168 169 170\n",
      " 171 172 173 174 175 176 177 178 179 180 181 182 183 184 185 186 187 188\n",
      " 189 190 191 192 193 194 195 196 197 198 199 200 201 202 203]\n",
      "TRAIN: [  0   1   2   3   4   5   6   7   8   9  10  11  12  13  14  15  16  17\n",
      "  18  19  20  21  22  23  24  25  26  27  28  29  30  31  32  33  34  35\n",
      "  36  37  38  39  40  41  42  43  44  45  46  47  48  49  50  51  52  53\n",
      "  54  55  56  57  58  59  60  61  62  63  64  65  66  67  68  69  70  71\n",
      "  72  73  74  75  76  77  78  79  80  81  82  83  84  85  86  87  88  89\n",
      "  90  91  92  93  94  95  96  97  98  99 100 101 102 103 104 105 106 107\n",
      " 108 109 110 111 112 113 114 115 116 117 118 119 120 121 122 123 124 125\n",
      " 126 127 128 129 130 131 132 133 134 135 136 137 138 139 140 141 142 143\n",
      " 144 145 146 147 148 149 150 151 152 153 154 155 156 157 158 159 160 161\n",
      " 162 163 164 165 166 167 168 169 170 171 172 173 174 175 176 177 178 179\n",
      " 180 181 182 183 184 185 186 187 188 189 190 191 192 193 194 195 196 197\n",
      " 198 199 200 201 202 203 255 256 257 258 259 260 261 262 263 264 265 266\n",
      " 267 268 269 270 271 272 273 274 275 276 277 278 279 280 281 282 283 284\n",
      " 285 286 287 288 289 290 291 292 293 294 295 296 297 298 299 300 301 302\n",
      " 303 304 305 306 307 308 309 310 311 312 313 314 315 316 317 318 319 320\n",
      " 321 322 323 324 325 326 327 328 329 330 331 332 333 334 335 336 337 338\n",
      " 339 340 341 342 343 344 345 346 347 348 349 350 351 352 353 354 355 356\n",
      " 357 358 359 360 361 362 363 364 365 366 367 368 369 370 371 372 373 374\n",
      " 375 376 377 378 379 380 381 382 383 384 385 386 387 388 389 390 391 392\n",
      " 393 394 395 396 397 398 399 400 401 402 403 404 405 406 407 408 409 410\n",
      " 411 412 413 414 415 416 417 418 419 420 421 422 423 424 425 426 427 428\n",
      " 429 430 431 432 433 434 435 436 437 438 439 440 441 442 443 444 445 446\n",
      " 447 448 449 450 451 452 453 454 455 456 457 458 459 460 461 462 463 464\n",
      " 465 466 467 468 469 470 471 472 473 474 475 476 477 478 479 480 481 482\n",
      " 483 484 485 486 487 488 489 490 491 492 493 494 495 496 497 498 499 500\n",
      " 501 502 503 504 505] TEST: [204 205 206 207 208 209 210 211 212 213 214 215 216 217 218 219 220 221\n",
      " 222 223 224 225 226 227 228 229 230 231 232 233 234 235 236 237 238 239\n",
      " 240 241 242 243 244 245 246 247 248 249 250 251 252 253 254]\n",
      "TRAIN: [  0   1   2   3   4   5   6   7   8   9  10  11  12  13  14  15  16  17\n",
      "  18  19  20  21  22  23  24  25  26  27  28  29  30  31  32  33  34  35\n",
      "  36  37  38  39  40  41  42  43  44  45  46  47  48  49  50  51  52  53\n",
      "  54  55  56  57  58  59  60  61  62  63  64  65  66  67  68  69  70  71\n",
      "  72  73  74  75  76  77  78  79  80  81  82  83  84  85  86  87  88  89\n",
      "  90  91  92  93  94  95  96  97  98  99 100 101 102 103 104 105 106 107\n",
      " 108 109 110 111 112 113 114 115 116 117 118 119 120 121 122 123 124 125\n",
      " 126 127 128 129 130 131 132 133 134 135 136 137 138 139 140 141 142 143\n",
      " 144 145 146 147 148 149 150 151 152 153 154 155 156 157 158 159 160 161\n",
      " 162 163 164 165 166 167 168 169 170 171 172 173 174 175 176 177 178 179\n",
      " 180 181 182 183 184 185 186 187 188 189 190 191 192 193 194 195 196 197\n",
      " 198 199 200 201 202 203 204 205 206 207 208 209 210 211 212 213 214 215\n",
      " 216 217 218 219 220 221 222 223 224 225 226 227 228 229 230 231 232 233\n",
      " 234 235 236 237 238 239 240 241 242 243 244 245 246 247 248 249 250 251\n",
      " 252 253 254 306 307 308 309 310 311 312 313 314 315 316 317 318 319 320\n",
      " 321 322 323 324 325 326 327 328 329 330 331 332 333 334 335 336 337 338\n",
      " 339 340 341 342 343 344 345 346 347 348 349 350 351 352 353 354 355 356\n",
      " 357 358 359 360 361 362 363 364 365 366 367 368 369 370 371 372 373 374\n",
      " 375 376 377 378 379 380 381 382 383 384 385 386 387 388 389 390 391 392\n",
      " 393 394 395 396 397 398 399 400 401 402 403 404 405 406 407 408 409 410\n",
      " 411 412 413 414 415 416 417 418 419 420 421 422 423 424 425 426 427 428\n",
      " 429 430 431 432 433 434 435 436 437 438 439 440 441 442 443 444 445 446\n",
      " 447 448 449 450 451 452 453 454 455 456 457 458 459 460 461 462 463 464\n",
      " 465 466 467 468 469 470 471 472 473 474 475 476 477 478 479 480 481 482\n",
      " 483 484 485 486 487 488 489 490 491 492 493 494 495 496 497 498 499 500\n",
      " 501 502 503 504 505] TEST: [255 256 257 258 259 260 261 262 263 264 265 266 267 268 269 270 271 272\n",
      " 273 274 275 276 277 278 279 280 281 282 283 284 285 286 287 288 289 290\n",
      " 291 292 293 294 295 296 297 298 299 300 301 302 303 304 305]\n",
      "TRAIN: [  0   1   2   3   4   5   6   7   8   9  10  11  12  13  14  15  16  17\n",
      "  18  19  20  21  22  23  24  25  26  27  28  29  30  31  32  33  34  35\n",
      "  36  37  38  39  40  41  42  43  44  45  46  47  48  49  50  51  52  53\n",
      "  54  55  56  57  58  59  60  61  62  63  64  65  66  67  68  69  70  71\n",
      "  72  73  74  75  76  77  78  79  80  81  82  83  84  85  86  87  88  89\n",
      "  90  91  92  93  94  95  96  97  98  99 100 101 102 103 104 105 106 107\n",
      " 108 109 110 111 112 113 114 115 116 117 118 119 120 121 122 123 124 125\n",
      " 126 127 128 129 130 131 132 133 134 135 136 137 138 139 140 141 142 143\n",
      " 144 145 146 147 148 149 150 151 152 153 154 155 156 157 158 159 160 161\n",
      " 162 163 164 165 166 167 168 169 170 171 172 173 174 175 176 177 178 179\n",
      " 180 181 182 183 184 185 186 187 188 189 190 191 192 193 194 195 196 197\n",
      " 198 199 200 201 202 203 204 205 206 207 208 209 210 211 212 213 214 215\n",
      " 216 217 218 219 220 221 222 223 224 225 226 227 228 229 230 231 232 233\n",
      " 234 235 236 237 238 239 240 241 242 243 244 245 246 247 248 249 250 251\n",
      " 252 253 254 255 256 257 258 259 260 261 262 263 264 265 266 267 268 269\n",
      " 270 271 272 273 274 275 276 277 278 279 280 281 282 283 284 285 286 287\n",
      " 288 289 290 291 292 293 294 295 296 297 298 299 300 301 302 303 304 305\n",
      " 356 357 358 359 360 361 362 363 364 365 366 367 368 369 370 371 372 373\n",
      " 374 375 376 377 378 379 380 381 382 383 384 385 386 387 388 389 390 391\n",
      " 392 393 394 395 396 397 398 399 400 401 402 403 404 405 406 407 408 409\n",
      " 410 411 412 413 414 415 416 417 418 419 420 421 422 423 424 425 426 427\n",
      " 428 429 430 431 432 433 434 435 436 437 438 439 440 441 442 443 444 445\n",
      " 446 447 448 449 450 451 452 453 454 455 456 457 458 459 460 461 462 463\n",
      " 464 465 466 467 468 469 470 471 472 473 474 475 476 477 478 479 480 481\n",
      " 482 483 484 485 486 487 488 489 490 491 492 493 494 495 496 497 498 499\n",
      " 500 501 502 503 504 505] TEST: [306 307 308 309 310 311 312 313 314 315 316 317 318 319 320 321 322 323\n",
      " 324 325 326 327 328 329 330 331 332 333 334 335 336 337 338 339 340 341\n",
      " 342 343 344 345 346 347 348 349 350 351 352 353 354 355]\n",
      "TRAIN: [  0   1   2   3   4   5   6   7   8   9  10  11  12  13  14  15  16  17\n",
      "  18  19  20  21  22  23  24  25  26  27  28  29  30  31  32  33  34  35\n",
      "  36  37  38  39  40  41  42  43  44  45  46  47  48  49  50  51  52  53\n",
      "  54  55  56  57  58  59  60  61  62  63  64  65  66  67  68  69  70  71\n",
      "  72  73  74  75  76  77  78  79  80  81  82  83  84  85  86  87  88  89\n",
      "  90  91  92  93  94  95  96  97  98  99 100 101 102 103 104 105 106 107\n",
      " 108 109 110 111 112 113 114 115 116 117 118 119 120 121 122 123 124 125\n",
      " 126 127 128 129 130 131 132 133 134 135 136 137 138 139 140 141 142 143\n",
      " 144 145 146 147 148 149 150 151 152 153 154 155 156 157 158 159 160 161\n",
      " 162 163 164 165 166 167 168 169 170 171 172 173 174 175 176 177 178 179\n",
      " 180 181 182 183 184 185 186 187 188 189 190 191 192 193 194 195 196 197\n",
      " 198 199 200 201 202 203 204 205 206 207 208 209 210 211 212 213 214 215\n",
      " 216 217 218 219 220 221 222 223 224 225 226 227 228 229 230 231 232 233\n",
      " 234 235 236 237 238 239 240 241 242 243 244 245 246 247 248 249 250 251\n",
      " 252 253 254 255 256 257 258 259 260 261 262 263 264 265 266 267 268 269\n",
      " 270 271 272 273 274 275 276 277 278 279 280 281 282 283 284 285 286 287\n",
      " 288 289 290 291 292 293 294 295 296 297 298 299 300 301 302 303 304 305\n",
      " 306 307 308 309 310 311 312 313 314 315 316 317 318 319 320 321 322 323\n",
      " 324 325 326 327 328 329 330 331 332 333 334 335 336 337 338 339 340 341\n",
      " 342 343 344 345 346 347 348 349 350 351 352 353 354 355 406 407 408 409\n",
      " 410 411 412 413 414 415 416 417 418 419 420 421 422 423 424 425 426 427\n",
      " 428 429 430 431 432 433 434 435 436 437 438 439 440 441 442 443 444 445\n",
      " 446 447 448 449 450 451 452 453 454 455 456 457 458 459 460 461 462 463\n",
      " 464 465 466 467 468 469 470 471 472 473 474 475 476 477 478 479 480 481\n",
      " 482 483 484 485 486 487 488 489 490 491 492 493 494 495 496 497 498 499\n",
      " 500 501 502 503 504 505] TEST: [356 357 358 359 360 361 362 363 364 365 366 367 368 369 370 371 372 373\n",
      " 374 375 376 377 378 379 380 381 382 383 384 385 386 387 388 389 390 391\n",
      " 392 393 394 395 396 397 398 399 400 401 402 403 404 405]\n",
      "TRAIN: [  0   1   2   3   4   5   6   7   8   9  10  11  12  13  14  15  16  17\n",
      "  18  19  20  21  22  23  24  25  26  27  28  29  30  31  32  33  34  35\n",
      "  36  37  38  39  40  41  42  43  44  45  46  47  48  49  50  51  52  53\n",
      "  54  55  56  57  58  59  60  61  62  63  64  65  66  67  68  69  70  71\n",
      "  72  73  74  75  76  77  78  79  80  81  82  83  84  85  86  87  88  89\n",
      "  90  91  92  93  94  95  96  97  98  99 100 101 102 103 104 105 106 107\n",
      " 108 109 110 111 112 113 114 115 116 117 118 119 120 121 122 123 124 125\n",
      " 126 127 128 129 130 131 132 133 134 135 136 137 138 139 140 141 142 143\n",
      " 144 145 146 147 148 149 150 151 152 153 154 155 156 157 158 159 160 161\n",
      " 162 163 164 165 166 167 168 169 170 171 172 173 174 175 176 177 178 179\n",
      " 180 181 182 183 184 185 186 187 188 189 190 191 192 193 194 195 196 197\n",
      " 198 199 200 201 202 203 204 205 206 207 208 209 210 211 212 213 214 215\n",
      " 216 217 218 219 220 221 222 223 224 225 226 227 228 229 230 231 232 233\n",
      " 234 235 236 237 238 239 240 241 242 243 244 245 246 247 248 249 250 251\n",
      " 252 253 254 255 256 257 258 259 260 261 262 263 264 265 266 267 268 269\n",
      " 270 271 272 273 274 275 276 277 278 279 280 281 282 283 284 285 286 287\n",
      " 288 289 290 291 292 293 294 295 296 297 298 299 300 301 302 303 304 305\n",
      " 306 307 308 309 310 311 312 313 314 315 316 317 318 319 320 321 322 323\n",
      " 324 325 326 327 328 329 330 331 332 333 334 335 336 337 338 339 340 341\n",
      " 342 343 344 345 346 347 348 349 350 351 352 353 354 355 356 357 358 359\n",
      " 360 361 362 363 364 365 366 367 368 369 370 371 372 373 374 375 376 377\n",
      " 378 379 380 381 382 383 384 385 386 387 388 389 390 391 392 393 394 395\n",
      " 396 397 398 399 400 401 402 403 404 405 456 457 458 459 460 461 462 463\n",
      " 464 465 466 467 468 469 470 471 472 473 474 475 476 477 478 479 480 481\n",
      " 482 483 484 485 486 487 488 489 490 491 492 493 494 495 496 497 498 499\n",
      " 500 501 502 503 504 505] TEST: [406 407 408 409 410 411 412 413 414 415 416 417 418 419 420 421 422 423\n",
      " 424 425 426 427 428 429 430 431 432 433 434 435 436 437 438 439 440 441\n",
      " 442 443 444 445 446 447 448 449 450 451 452 453 454 455]\n",
      "TRAIN: [  0   1   2   3   4   5   6   7   8   9  10  11  12  13  14  15  16  17\n",
      "  18  19  20  21  22  23  24  25  26  27  28  29  30  31  32  33  34  35\n",
      "  36  37  38  39  40  41  42  43  44  45  46  47  48  49  50  51  52  53\n",
      "  54  55  56  57  58  59  60  61  62  63  64  65  66  67  68  69  70  71\n",
      "  72  73  74  75  76  77  78  79  80  81  82  83  84  85  86  87  88  89\n",
      "  90  91  92  93  94  95  96  97  98  99 100 101 102 103 104 105 106 107\n",
      " 108 109 110 111 112 113 114 115 116 117 118 119 120 121 122 123 124 125\n",
      " 126 127 128 129 130 131 132 133 134 135 136 137 138 139 140 141 142 143\n",
      " 144 145 146 147 148 149 150 151 152 153 154 155 156 157 158 159 160 161\n",
      " 162 163 164 165 166 167 168 169 170 171 172 173 174 175 176 177 178 179\n",
      " 180 181 182 183 184 185 186 187 188 189 190 191 192 193 194 195 196 197\n",
      " 198 199 200 201 202 203 204 205 206 207 208 209 210 211 212 213 214 215\n",
      " 216 217 218 219 220 221 222 223 224 225 226 227 228 229 230 231 232 233\n",
      " 234 235 236 237 238 239 240 241 242 243 244 245 246 247 248 249 250 251\n",
      " 252 253 254 255 256 257 258 259 260 261 262 263 264 265 266 267 268 269\n",
      " 270 271 272 273 274 275 276 277 278 279 280 281 282 283 284 285 286 287\n",
      " 288 289 290 291 292 293 294 295 296 297 298 299 300 301 302 303 304 305\n",
      " 306 307 308 309 310 311 312 313 314 315 316 317 318 319 320 321 322 323\n",
      " 324 325 326 327 328 329 330 331 332 333 334 335 336 337 338 339 340 341\n",
      " 342 343 344 345 346 347 348 349 350 351 352 353 354 355 356 357 358 359\n",
      " 360 361 362 363 364 365 366 367 368 369 370 371 372 373 374 375 376 377\n",
      " 378 379 380 381 382 383 384 385 386 387 388 389 390 391 392 393 394 395\n",
      " 396 397 398 399 400 401 402 403 404 405 406 407 408 409 410 411 412 413\n",
      " 414 415 416 417 418 419 420 421 422 423 424 425 426 427 428 429 430 431\n",
      " 432 433 434 435 436 437 438 439 440 441 442 443 444 445 446 447 448 449\n",
      " 450 451 452 453 454 455] TEST: [456 457 458 459 460 461 462 463 464 465 466 467 468 469 470 471 472 473\n",
      " 474 475 476 477 478 479 480 481 482 483 484 485 486 487 488 489 490 491\n",
      " 492 493 494 495 496 497 498 499 500 501 502 503 504 505]\n",
      "Model: \"sequential_8\"\n",
      "_________________________________________________________________\n",
      "Layer (type)                 Output Shape              Param #   \n",
      "=================================================================\n",
      "dense_29 (Dense)             (None, 14)                196       \n",
      "_________________________________________________________________\n",
      "dense_30 (Dense)             (None, 4)                 60        \n",
      "_________________________________________________________________\n",
      "dense_31 (Dense)             (None, 4)                 20        \n",
      "_________________________________________________________________\n",
      "dense_32 (Dense)             (None, 1)                 5         \n",
      "=================================================================\n",
      "Total params: 281\n",
      "Trainable params: 281\n",
      "Non-trainable params: 0\n",
      "_________________________________________________________________\n"
     ]
    },
    {
     "name": "stdout",
     "output_type": "stream",
     "text": [
      "Epoch 1/500\n",
      "100/100 [==============================] - 0s 821us/step - loss: 28.0442\n",
      "Epoch 2/500\n",
      "100/100 [==============================] - 0s 60us/step - loss: 27.8412\n",
      "Epoch 3/500\n",
      "100/100 [==============================] - 0s 88us/step - loss: 27.6449\n",
      "Epoch 4/500\n",
      "100/100 [==============================] - 0s 60us/step - loss: 27.4847\n",
      "Epoch 5/500\n",
      "100/100 [==============================] - 0s 57us/step - loss: 27.3346\n",
      "Epoch 6/500\n",
      "100/100 [==============================] - 0s 56us/step - loss: 27.1908\n",
      "Epoch 7/500\n",
      "100/100 [==============================] - 0s 70us/step - loss: 27.0588\n",
      "Epoch 8/500\n",
      "100/100 [==============================] - 0s 59us/step - loss: 26.9254\n",
      "Epoch 9/500\n",
      "100/100 [==============================] - 0s 59us/step - loss: 26.7982\n",
      "Epoch 10/500\n",
      "100/100 [==============================] - 0s 60us/step - loss: 26.6661\n",
      "Epoch 11/500\n",
      "100/100 [==============================] - 0s 50us/step - loss: 26.5331\n",
      "Epoch 12/500\n",
      "100/100 [==============================] - 0s 67us/step - loss: 26.4093\n",
      "Epoch 13/500\n",
      "100/100 [==============================] - 0s 60us/step - loss: 26.2830\n",
      "Epoch 14/500\n",
      "100/100 [==============================] - 0s 69us/step - loss: 26.1547\n",
      "Epoch 15/500\n",
      "100/100 [==============================] - 0s 59us/step - loss: 26.0201\n",
      "Epoch 16/500\n",
      "100/100 [==============================] - 0s 49us/step - loss: 25.8655\n",
      "Epoch 17/500\n",
      "100/100 [==============================] - 0s 60us/step - loss: 25.6417\n",
      "Epoch 18/500\n",
      "100/100 [==============================] - 0s 50us/step - loss: 25.3607\n",
      "Epoch 19/500\n",
      "100/100 [==============================] - 0s 120us/step - loss: 24.9788\n",
      "Epoch 20/500\n",
      "100/100 [==============================] - 0s 69us/step - loss: 24.5736\n",
      "Epoch 21/500\n",
      "100/100 [==============================] - 0s 51us/step - loss: 24.1773\n",
      "Epoch 22/500\n",
      "100/100 [==============================] - 0s 60us/step - loss: 23.8037\n",
      "Epoch 23/500\n",
      "100/100 [==============================] - 0s 69us/step - loss: 23.4232\n",
      "Epoch 24/500\n",
      "100/100 [==============================] - 0s 59us/step - loss: 23.0757\n",
      "Epoch 25/500\n",
      "100/100 [==============================] - 0s 92us/step - loss: 22.6893\n",
      "Epoch 26/500\n",
      " 20/100 [=====>........................] - ETA: 0s - loss: 22.0316"
     ]
    },
    {
     "name": "stderr",
     "output_type": "stream",
     "text": [
      "C:\\Users\\hugh_\\Anaconda3\\lib\\site-packages\\keras\\callbacks\\callbacks.py:846: RuntimeWarning: Early stopping conditioned on metric `val_loss` which is not available. Available metrics are: loss\n",
      "  (self.monitor, ','.join(list(logs.keys()))), RuntimeWarning\n"
     ]
    },
    {
     "name": "stdout",
     "output_type": "stream",
     "text": [
      "100/100 [==============================] - 0s 80us/step - loss: 22.3272\n",
      "Epoch 27/500\n",
      "100/100 [==============================] - 0s 68us/step - loss: 21.9714\n",
      "Epoch 28/500\n",
      "100/100 [==============================] - 0s 79us/step - loss: 21.6676\n",
      "Epoch 29/500\n",
      "100/100 [==============================] - 0s 70us/step - loss: 21.3235\n",
      "Epoch 30/500\n",
      "100/100 [==============================] - 0s 49us/step - loss: 21.0284\n",
      "Epoch 31/500\n",
      "100/100 [==============================] - ETA: 0s - loss: 21.55 - 0s 64us/step - loss: 20.7449\n",
      "Epoch 32/500\n",
      "100/100 [==============================] - 0s 46us/step - loss: 20.5240\n",
      "Epoch 33/500\n",
      "100/100 [==============================] - 0s 69us/step - loss: 20.2752\n",
      "Epoch 34/500\n",
      "100/100 [==============================] - 0s 61us/step - loss: 20.0781\n",
      "Epoch 35/500\n",
      "100/100 [==============================] - 0s 67us/step - loss: 19.8767\n",
      "Epoch 36/500\n",
      "100/100 [==============================] - 0s 69us/step - loss: 19.6641\n",
      "Epoch 37/500\n",
      "100/100 [==============================] - 0s 60us/step - loss: 19.4558\n",
      "Epoch 38/500\n",
      "100/100 [==============================] - 0s 55us/step - loss: 19.2609\n",
      "Epoch 39/500\n",
      "100/100 [==============================] - 0s 50us/step - loss: 19.1267\n",
      "Epoch 40/500\n",
      "100/100 [==============================] - 0s 60us/step - loss: 18.9046\n",
      "Epoch 41/500\n",
      "100/100 [==============================] - 0s 50us/step - loss: 18.7211\n",
      "Epoch 42/500\n",
      "100/100 [==============================] - 0s 59us/step - loss: 18.5310\n",
      "Epoch 43/500\n",
      "100/100 [==============================] - 0s 60us/step - loss: 18.3350\n",
      "Epoch 44/500\n",
      "100/100 [==============================] - 0s 59us/step - loss: 18.1330\n",
      "Epoch 45/500\n",
      "100/100 [==============================] - 0s 60us/step - loss: 17.9591\n",
      "Epoch 46/500\n",
      "100/100 [==============================] - 0s 50us/step - loss: 17.7714\n",
      "Epoch 47/500\n",
      "100/100 [==============================] - 0s 61us/step - loss: 17.5903\n",
      "Epoch 48/500\n",
      "100/100 [==============================] - 0s 60us/step - loss: 17.3970\n",
      "Epoch 49/500\n",
      "100/100 [==============================] - 0s 60us/step - loss: 17.1942\n",
      "Epoch 50/500\n",
      "100/100 [==============================] - 0s 62us/step - loss: 17.0154\n",
      "Epoch 51/500\n",
      "100/100 [==============================] - 0s 59us/step - loss: 16.8291\n",
      "Epoch 52/500\n",
      "100/100 [==============================] - 0s 60us/step - loss: 16.6436\n",
      "Epoch 53/500\n",
      "100/100 [==============================] - 0s 70us/step - loss: 16.4521\n",
      "Epoch 54/500\n",
      "100/100 [==============================] - 0s 56us/step - loss: 16.2649\n",
      "Epoch 55/500\n",
      "100/100 [==============================] - 0s 39us/step - loss: 16.0892\n",
      "Epoch 56/500\n",
      "100/100 [==============================] - 0s 60us/step - loss: 15.9054\n",
      "Epoch 57/500\n",
      "100/100 [==============================] - 0s 49us/step - loss: 15.7252\n",
      "Epoch 58/500\n",
      "100/100 [==============================] - 0s 57us/step - loss: 15.5358\n",
      "Epoch 59/500\n",
      "100/100 [==============================] - 0s 70us/step - loss: 15.3835\n",
      "Epoch 60/500\n",
      "100/100 [==============================] - 0s 69us/step - loss: 15.2583\n",
      "Epoch 61/500\n",
      "100/100 [==============================] - 0s 69us/step - loss: 15.1049\n",
      "Epoch 62/500\n",
      "100/100 [==============================] - 0s 60us/step - loss: 14.9727\n",
      "Epoch 63/500\n",
      "100/100 [==============================] - 0s 50us/step - loss: 14.8168\n",
      "Epoch 64/500\n",
      "100/100 [==============================] - 0s 60us/step - loss: 14.6809\n",
      "Epoch 65/500\n",
      "100/100 [==============================] - ETA: 0s - loss: 16.62 - 0s 70us/step - loss: 14.5320\n",
      "Epoch 66/500\n",
      "100/100 [==============================] - 0s 76us/step - loss: 14.4037\n",
      "Epoch 67/500\n",
      "100/100 [==============================] - 0s 60us/step - loss: 14.2431\n",
      "Epoch 68/500\n",
      "100/100 [==============================] - 0s 60us/step - loss: 14.1192\n",
      "Epoch 69/500\n",
      "100/100 [==============================] - 0s 58us/step - loss: 13.9702\n",
      "Epoch 70/500\n",
      "100/100 [==============================] - 0s 70us/step - loss: 13.8260\n",
      "Epoch 71/500\n",
      "100/100 [==============================] - 0s 59us/step - loss: 13.6834\n",
      "Epoch 72/500\n",
      "100/100 [==============================] - 0s 70us/step - loss: 13.5592\n",
      "Epoch 73/500\n",
      "100/100 [==============================] - 0s 50us/step - loss: 13.3978\n",
      "Epoch 74/500\n",
      "100/100 [==============================] - 0s 67us/step - loss: 13.2630\n",
      "Epoch 75/500\n",
      "100/100 [==============================] - 0s 50us/step - loss: 13.1116\n",
      "Epoch 76/500\n",
      "100/100 [==============================] - 0s 60us/step - loss: 12.9375\n",
      "Epoch 77/500\n",
      "100/100 [==============================] - 0s 56us/step - loss: 12.7942\n",
      "Epoch 78/500\n",
      "100/100 [==============================] - 0s 69us/step - loss: 12.6616\n",
      "Epoch 79/500\n",
      "100/100 [==============================] - 0s 50us/step - loss: 12.5277\n",
      "Epoch 80/500\n",
      "100/100 [==============================] - 0s 70us/step - loss: 12.3935\n",
      "Epoch 81/500\n",
      "100/100 [==============================] - 0s 59us/step - loss: 12.2573\n",
      "Epoch 82/500\n",
      "100/100 [==============================] - 0s 60us/step - loss: 12.1328\n",
      "Epoch 83/500\n",
      "100/100 [==============================] - 0s 69us/step - loss: 11.9939\n",
      "Epoch 84/500\n",
      "100/100 [==============================] - 0s 50us/step - loss: 11.8781\n",
      "Epoch 85/500\n",
      "100/100 [==============================] - 0s 60us/step - loss: 11.7399\n",
      "Epoch 86/500\n",
      "100/100 [==============================] - 0s 58us/step - loss: 11.6132\n",
      "Epoch 87/500\n",
      "100/100 [==============================] - 0s 59us/step - loss: 11.4856\n",
      "Epoch 88/500\n",
      "100/100 [==============================] - 0s 64us/step - loss: 11.3592\n",
      "Epoch 89/500\n",
      "100/100 [==============================] - 0s 60us/step - loss: 11.2404\n",
      "Epoch 90/500\n",
      "100/100 [==============================] - 0s 58us/step - loss: 11.1254\n",
      "Epoch 91/500\n",
      "100/100 [==============================] - 0s 65us/step - loss: 10.9982\n",
      "Epoch 92/500\n",
      "100/100 [==============================] - 0s 58us/step - loss: 10.8997\n",
      "Epoch 93/500\n",
      "100/100 [==============================] - 0s 60us/step - loss: 10.8124\n",
      "Epoch 94/500\n",
      "100/100 [==============================] - 0s 70us/step - loss: 10.6760\n",
      "Epoch 95/500\n",
      "100/100 [==============================] - 0s 52us/step - loss: 10.5676\n",
      "Epoch 96/500\n",
      "100/100 [==============================] - 0s 60us/step - loss: 10.4693\n",
      "Epoch 97/500\n",
      "100/100 [==============================] - 0s 59us/step - loss: 10.3645\n",
      "Epoch 98/500\n",
      "100/100 [==============================] - 0s 59us/step - loss: 10.2628\n",
      "Epoch 99/500\n",
      "100/100 [==============================] - 0s 70us/step - loss: 10.1508\n",
      "Epoch 100/500\n",
      "100/100 [==============================] - 0s 67us/step - loss: 10.0419\n",
      "Epoch 101/500\n",
      "100/100 [==============================] - 0s 59us/step - loss: 9.9364\n",
      "Epoch 102/500\n",
      "100/100 [==============================] - 0s 67us/step - loss: 9.8389\n",
      "Epoch 103/500\n",
      "100/100 [==============================] - 0s 69us/step - loss: 9.7380\n",
      "Epoch 104/500\n",
      "100/100 [==============================] - 0s 77us/step - loss: 9.6541\n",
      "Epoch 105/500\n",
      "100/100 [==============================] - 0s 59us/step - loss: 9.5469\n",
      "Epoch 106/500\n",
      "100/100 [==============================] - 0s 60us/step - loss: 9.4579\n",
      "Epoch 107/500\n",
      "100/100 [==============================] - ETA: 0s - loss: 7.833 - 0s 60us/step - loss: 9.3459\n",
      "Epoch 108/500\n",
      "100/100 [==============================] - 0s 59us/step - loss: 9.2511\n",
      "Epoch 109/500\n",
      "100/100 [==============================] - 0s 60us/step - loss: 9.1429\n",
      "Epoch 110/500\n",
      "100/100 [==============================] - 0s 60us/step - loss: 9.0535\n",
      "Epoch 111/500\n",
      "100/100 [==============================] - 0s 80us/step - loss: 8.9636\n",
      "Epoch 112/500\n",
      "100/100 [==============================] - 0s 59us/step - loss: 8.8590\n",
      "Epoch 113/500\n",
      "100/100 [==============================] - 0s 67us/step - loss: 8.7653\n",
      "Epoch 114/500\n",
      "100/100 [==============================] - 0s 80us/step - loss: 8.6707\n",
      "Epoch 115/500\n",
      "100/100 [==============================] - 0s 91us/step - loss: 8.5677\n",
      "Epoch 116/500\n",
      "100/100 [==============================] - 0s 80us/step - loss: 8.4733\n",
      "Epoch 117/500\n",
      "100/100 [==============================] - 0s 71us/step - loss: 8.3680\n",
      "Epoch 118/500\n",
      "100/100 [==============================] - 0s 62us/step - loss: 8.2548\n",
      "Epoch 119/500\n",
      "100/100 [==============================] - 0s 60us/step - loss: 8.1599\n",
      "Epoch 120/500\n",
      "100/100 [==============================] - 0s 67us/step - loss: 8.0620\n",
      "Epoch 121/500\n"
     ]
    },
    {
     "name": "stdout",
     "output_type": "stream",
     "text": [
      "100/100 [==============================] - 0s 57us/step - loss: 7.9575\n",
      "Epoch 122/500\n",
      "100/100 [==============================] - 0s 72us/step - loss: 7.8495\n",
      "Epoch 123/500\n",
      "100/100 [==============================] - 0s 60us/step - loss: 7.7182\n",
      "Epoch 124/500\n",
      "100/100 [==============================] - 0s 58us/step - loss: 7.5867\n",
      "Epoch 125/500\n",
      "100/100 [==============================] - 0s 50us/step - loss: 7.4454\n",
      "Epoch 126/500\n",
      "100/100 [==============================] - 0s 70us/step - loss: 7.3039\n",
      "Epoch 127/500\n",
      "100/100 [==============================] - 0s 50us/step - loss: 7.1776\n",
      "Epoch 128/500\n",
      "100/100 [==============================] - 0s 68us/step - loss: 7.0459\n",
      "Epoch 129/500\n",
      "100/100 [==============================] - 0s 50us/step - loss: 6.9199\n",
      "Epoch 130/500\n",
      "100/100 [==============================] - 0s 60us/step - loss: 6.8175\n",
      "Epoch 131/500\n",
      "100/100 [==============================] - 0s 60us/step - loss: 6.6814\n",
      "Epoch 132/500\n",
      "100/100 [==============================] - 0s 55us/step - loss: 6.5456\n",
      "Epoch 133/500\n",
      "100/100 [==============================] - 0s 59us/step - loss: 6.4241\n",
      "Epoch 134/500\n",
      "100/100 [==============================] - 0s 50us/step - loss: 6.3013\n",
      "Epoch 135/500\n",
      "100/100 [==============================] - 0s 58us/step - loss: 6.2048\n",
      "Epoch 136/500\n",
      "100/100 [==============================] - 0s 53us/step - loss: 6.0795\n",
      "Epoch 137/500\n",
      "100/100 [==============================] - 0s 59us/step - loss: 5.9817\n",
      "Epoch 138/500\n",
      "100/100 [==============================] - 0s 60us/step - loss: 5.8880\n",
      "Epoch 139/500\n",
      "100/100 [==============================] - 0s 48us/step - loss: 5.8203\n",
      "Epoch 140/500\n",
      "100/100 [==============================] - 0s 58us/step - loss: 5.7087\n",
      "Epoch 141/500\n",
      "100/100 [==============================] - 0s 60us/step - loss: 5.6214\n",
      "Epoch 142/500\n",
      "100/100 [==============================] - 0s 60us/step - loss: 5.5428\n",
      "Epoch 143/500\n",
      "100/100 [==============================] - 0s 52us/step - loss: 5.4586\n",
      "Epoch 144/500\n",
      "100/100 [==============================] - 0s 50us/step - loss: 5.3857\n",
      "Epoch 145/500\n",
      "100/100 [==============================] - 0s 60us/step - loss: 5.3237\n",
      "Epoch 146/500\n",
      "100/100 [==============================] - 0s 56us/step - loss: 5.2621\n",
      "Epoch 147/500\n",
      "100/100 [==============================] - 0s 60us/step - loss: 5.2017\n",
      "Epoch 148/500\n",
      "100/100 [==============================] - 0s 50us/step - loss: 5.1329\n",
      "Epoch 149/500\n",
      "100/100 [==============================] - 0s 59us/step - loss: 5.0800\n",
      "Epoch 150/500\n",
      "100/100 [==============================] - 0s 69us/step - loss: 5.0280\n",
      "Epoch 151/500\n",
      "100/100 [==============================] - 0s 59us/step - loss: 4.9841\n",
      "Epoch 152/500\n",
      "100/100 [==============================] - 0s 60us/step - loss: 4.9207\n",
      "Epoch 153/500\n",
      "100/100 [==============================] - 0s 60us/step - loss: 4.8666\n",
      "Epoch 154/500\n",
      "100/100 [==============================] - 0s 60us/step - loss: 4.8301\n",
      "Epoch 155/500\n",
      "100/100 [==============================] - 0s 58us/step - loss: 4.7919\n",
      "Epoch 156/500\n",
      "100/100 [==============================] - 0s 70us/step - loss: 4.7415\n",
      "Epoch 157/500\n",
      "100/100 [==============================] - 0s 50us/step - loss: 4.6995\n",
      "Epoch 158/500\n",
      "100/100 [==============================] - 0s 60us/step - loss: 4.6627\n",
      "Epoch 159/500\n",
      "100/100 [==============================] - 0s 64us/step - loss: 4.6316\n",
      "Epoch 160/500\n",
      "100/100 [==============================] - 0s 60us/step - loss: 4.5986\n",
      "Epoch 161/500\n",
      "100/100 [==============================] - 0s 58us/step - loss: 4.5546\n",
      "Epoch 162/500\n",
      "100/100 [==============================] - 0s 49us/step - loss: 4.5339\n",
      "Epoch 163/500\n",
      "100/100 [==============================] - 0s 60us/step - loss: 4.5064\n",
      "Epoch 164/500\n",
      "100/100 [==============================] - 0s 49us/step - loss: 4.4745\n",
      "Epoch 165/500\n",
      "100/100 [==============================] - 0s 60us/step - loss: 4.4301\n",
      "Epoch 166/500\n",
      "100/100 [==============================] - 0s 60us/step - loss: 4.4041\n",
      "Epoch 167/500\n",
      "100/100 [==============================] - 0s 60us/step - loss: 4.3968\n",
      "Epoch 168/500\n",
      "100/100 [==============================] - 0s 59us/step - loss: 4.3641\n",
      "Epoch 169/500\n",
      "100/100 [==============================] - 0s 49us/step - loss: 4.3280\n",
      "Epoch 170/500\n",
      "100/100 [==============================] - 0s 50us/step - loss: 4.3326\n",
      "Epoch 171/500\n",
      "100/100 [==============================] - 0s 50us/step - loss: 4.2731\n",
      "Epoch 172/500\n",
      "100/100 [==============================] - 0s 57us/step - loss: 4.2579\n",
      "Epoch 173/500\n",
      "100/100 [==============================] - 0s 60us/step - loss: 4.2096\n",
      "Epoch 174/500\n",
      "100/100 [==============================] - 0s 72us/step - loss: 4.1772\n",
      "Epoch 175/500\n",
      "100/100 [==============================] - 0s 60us/step - loss: 4.1557\n",
      "Epoch 176/500\n",
      "100/100 [==============================] - 0s 50us/step - loss: 4.1366\n",
      "Epoch 177/500\n",
      "100/100 [==============================] - 0s 60us/step - loss: 4.1239\n",
      "Epoch 178/500\n",
      "100/100 [==============================] - 0s 68us/step - loss: 4.0773\n",
      "Epoch 179/500\n",
      "100/100 [==============================] - 0s 60us/step - loss: 4.0497\n",
      "Epoch 180/500\n",
      "100/100 [==============================] - 0s 60us/step - loss: 4.0271\n",
      "Epoch 181/500\n",
      "100/100 [==============================] - 0s 62us/step - loss: 4.0115\n",
      "Epoch 182/500\n",
      "100/100 [==============================] - 0s 47us/step - loss: 3.9665\n",
      "Epoch 183/500\n",
      "100/100 [==============================] - 0s 50us/step - loss: 3.9640\n",
      "Epoch 184/500\n",
      "100/100 [==============================] - 0s 60us/step - loss: 3.9473\n",
      "Epoch 185/500\n",
      "100/100 [==============================] - 0s 69us/step - loss: 3.9101\n",
      "Epoch 186/500\n",
      "100/100 [==============================] - 0s 68us/step - loss: 3.8841\n",
      "Epoch 187/500\n",
      "100/100 [==============================] - 0s 60us/step - loss: 3.8536\n",
      "Epoch 188/500\n",
      "100/100 [==============================] - 0s 60us/step - loss: 3.8329\n",
      "Epoch 189/500\n",
      "100/100 [==============================] - 0s 70us/step - loss: 3.7996\n",
      "Epoch 190/500\n",
      "100/100 [==============================] - 0s 49us/step - loss: 3.7746\n",
      "Epoch 191/500\n",
      "100/100 [==============================] - 0s 50us/step - loss: 3.7692\n",
      "Epoch 192/500\n",
      "100/100 [==============================] - 0s 56us/step - loss: 3.7260\n",
      "Epoch 193/500\n",
      "100/100 [==============================] - 0s 70us/step - loss: 3.7248\n",
      "Epoch 194/500\n",
      "100/100 [==============================] - 0s 58us/step - loss: 3.7030\n",
      "Epoch 195/500\n",
      "100/100 [==============================] - 0s 60us/step - loss: 3.6618\n",
      "Epoch 196/500\n",
      "100/100 [==============================] - 0s 60us/step - loss: 3.6422\n",
      "Epoch 197/500\n",
      "100/100 [==============================] - 0s 59us/step - loss: 3.6210\n",
      "Epoch 198/500\n",
      "100/100 [==============================] - 0s 55us/step - loss: 3.5925\n",
      "Epoch 199/500\n",
      "100/100 [==============================] - 0s 50us/step - loss: 3.5718\n",
      "Epoch 200/500\n",
      "100/100 [==============================] - 0s 59us/step - loss: 3.5626\n",
      "Epoch 201/500\n",
      "100/100 [==============================] - 0s 60us/step - loss: 3.5362\n",
      "Epoch 202/500\n",
      "100/100 [==============================] - 0s 60us/step - loss: 3.5242\n",
      "Epoch 203/500\n",
      "100/100 [==============================] - 0s 60us/step - loss: 3.4953\n",
      "Epoch 204/500\n",
      "100/100 [==============================] - 0s 59us/step - loss: 3.4817\n",
      "Epoch 205/500\n",
      "100/100 [==============================] - 0s 65us/step - loss: 3.4599\n",
      "Epoch 206/500\n",
      "100/100 [==============================] - 0s 66us/step - loss: 3.4381\n",
      "Epoch 207/500\n",
      "100/100 [==============================] - 0s 50us/step - loss: 3.4274\n",
      "Epoch 208/500\n",
      "100/100 [==============================] - 0s 49us/step - loss: 3.4057\n",
      "Epoch 209/500\n",
      "100/100 [==============================] - 0s 59us/step - loss: 3.3785\n",
      "Epoch 210/500\n",
      "100/100 [==============================] - 0s 60us/step - loss: 3.3799\n",
      "Epoch 211/500\n",
      "100/100 [==============================] - 0s 59us/step - loss: 3.3681\n",
      "Epoch 212/500\n",
      "100/100 [==============================] - 0s 65us/step - loss: 3.3291\n",
      "Epoch 213/500\n",
      "100/100 [==============================] - 0s 59us/step - loss: 3.3226\n",
      "Epoch 214/500\n",
      "100/100 [==============================] - 0s 60us/step - loss: 3.2976\n",
      "Epoch 215/500\n",
      "100/100 [==============================] - 0s 61us/step - loss: 3.2905\n",
      "Epoch 216/500\n",
      "100/100 [==============================] - 0s 50us/step - loss: 3.2671\n",
      "Epoch 217/500\n"
     ]
    },
    {
     "name": "stdout",
     "output_type": "stream",
     "text": [
      "100/100 [==============================] - 0s 60us/step - loss: 3.2448\n",
      "Epoch 218/500\n",
      "100/100 [==============================] - 0s 69us/step - loss: 3.2258\n",
      "Epoch 219/500\n",
      "100/100 [==============================] - 0s 63us/step - loss: 3.2138\n",
      "Epoch 220/500\n",
      "100/100 [==============================] - 0s 65us/step - loss: 3.2014\n",
      "Epoch 221/500\n",
      "100/100 [==============================] - 0s 59us/step - loss: 3.1854\n",
      "Epoch 222/500\n",
      "100/100 [==============================] - 0s 63us/step - loss: 3.1707\n",
      "Epoch 223/500\n",
      "100/100 [==============================] - 0s 68us/step - loss: 3.1521\n",
      "Epoch 224/500\n",
      "100/100 [==============================] - 0s 49us/step - loss: 3.1379\n",
      "Epoch 225/500\n",
      "100/100 [==============================] - 0s 70us/step - loss: 3.1278\n",
      "Epoch 226/500\n",
      "100/100 [==============================] - 0s 49us/step - loss: 3.1079\n",
      "Epoch 227/500\n",
      "100/100 [==============================] - 0s 70us/step - loss: 3.1107\n",
      "Epoch 228/500\n",
      "100/100 [==============================] - 0s 50us/step - loss: 3.0993\n",
      "Epoch 229/500\n",
      "100/100 [==============================] - 0s 50us/step - loss: 3.0790\n",
      "Epoch 230/500\n",
      "100/100 [==============================] - 0s 56us/step - loss: 3.0515\n",
      "Epoch 231/500\n",
      "100/100 [==============================] - 0s 50us/step - loss: 3.0451\n",
      "Epoch 232/500\n",
      "100/100 [==============================] - 0s 60us/step - loss: 3.0223\n",
      "Epoch 233/500\n",
      "100/100 [==============================] - 0s 51us/step - loss: 3.0017\n",
      "Epoch 234/500\n",
      "100/100 [==============================] - 0s 67us/step - loss: 3.0027\n",
      "Epoch 235/500\n",
      "100/100 [==============================] - 0s 60us/step - loss: 2.9918\n",
      "Epoch 236/500\n",
      "100/100 [==============================] - 0s 59us/step - loss: 2.9638\n",
      "Epoch 237/500\n",
      "100/100 [==============================] - 0s 69us/step - loss: 2.9567\n",
      "Epoch 238/500\n",
      "100/100 [==============================] - 0s 50us/step - loss: 2.9627\n",
      "Epoch 239/500\n",
      "100/100 [==============================] - 0s 60us/step - loss: 2.9453\n",
      "Epoch 240/500\n",
      "100/100 [==============================] - 0s 49us/step - loss: 2.9449\n",
      "Epoch 241/500\n",
      "100/100 [==============================] - 0s 60us/step - loss: 2.9237\n",
      "Epoch 242/500\n",
      "100/100 [==============================] - 0s 69us/step - loss: 2.9162\n",
      "Epoch 243/500\n",
      "100/100 [==============================] - 0s 57us/step - loss: 2.8813\n",
      "Epoch 244/500\n",
      "100/100 [==============================] - 0s 60us/step - loss: 2.8954\n",
      "Epoch 245/500\n",
      "100/100 [==============================] - 0s 50us/step - loss: 2.8664\n",
      "Epoch 246/500\n",
      "100/100 [==============================] - 0s 50us/step - loss: 2.8589\n",
      "Epoch 247/500\n",
      "100/100 [==============================] - 0s 55us/step - loss: 2.8534\n",
      "Epoch 248/500\n",
      "100/100 [==============================] - 0s 59us/step - loss: 2.8391\n",
      "Epoch 249/500\n",
      "100/100 [==============================] - 0s 59us/step - loss: 2.8204\n",
      "Epoch 250/500\n",
      "100/100 [==============================] - 0s 60us/step - loss: 2.8129\n",
      "Epoch 251/500\n",
      "100/100 [==============================] - 0s 68us/step - loss: 2.8099\n",
      "Epoch 252/500\n",
      "100/100 [==============================] - 0s 50us/step - loss: 2.7948\n",
      "Epoch 253/500\n",
      "100/100 [==============================] - 0s 60us/step - loss: 2.7933\n",
      "Epoch 254/500\n",
      "100/100 [==============================] - 0s 70us/step - loss: 2.7833\n",
      "Epoch 255/500\n",
      "100/100 [==============================] - 0s 59us/step - loss: 2.7707\n",
      "Epoch 256/500\n",
      "100/100 [==============================] - 0s 47us/step - loss: 2.7599\n",
      "Epoch 257/500\n",
      "100/100 [==============================] - 0s 59us/step - loss: 2.7721\n",
      "Epoch 258/500\n",
      "100/100 [==============================] - 0s 60us/step - loss: 2.7511\n",
      "Epoch 259/500\n",
      "100/100 [==============================] - 0s 59us/step - loss: 2.7681\n",
      "Epoch 260/500\n",
      "100/100 [==============================] - 0s 66us/step - loss: 2.7147\n",
      "Epoch 261/500\n",
      "100/100 [==============================] - 0s 59us/step - loss: 2.7479\n",
      "Epoch 262/500\n",
      "100/100 [==============================] - 0s 59us/step - loss: 2.7409\n",
      "Epoch 263/500\n",
      "100/100 [==============================] - 0s 55us/step - loss: 2.7194\n",
      "Epoch 264/500\n",
      "100/100 [==============================] - 0s 59us/step - loss: 2.7165\n",
      "Epoch 265/500\n",
      "100/100 [==============================] - 0s 50us/step - loss: 2.7083\n",
      "Epoch 266/500\n",
      "100/100 [==============================] - 0s 55us/step - loss: 2.6901\n",
      "Epoch 267/500\n",
      "100/100 [==============================] - 0s 60us/step - loss: 2.6956\n",
      "Epoch 268/500\n",
      "100/100 [==============================] - 0s 50us/step - loss: 2.6827\n",
      "Epoch 269/500\n",
      "100/100 [==============================] - 0s 58us/step - loss: 2.6708\n",
      "Epoch 270/500\n",
      "100/100 [==============================] - 0s 60us/step - loss: 2.6792\n",
      "Epoch 271/500\n",
      "100/100 [==============================] - 0s 59us/step - loss: 2.6573\n",
      "Epoch 272/500\n",
      "100/100 [==============================] - 0s 70us/step - loss: 2.6548\n",
      "Epoch 273/500\n",
      "100/100 [==============================] - 0s 65us/step - loss: 2.6542\n",
      "Epoch 274/500\n",
      "100/100 [==============================] - 0s 61us/step - loss: 2.6334\n",
      "Epoch 275/500\n",
      "100/100 [==============================] - 0s 55us/step - loss: 2.6396\n",
      "Epoch 276/500\n",
      "100/100 [==============================] - 0s 40us/step - loss: 2.6238\n",
      "Epoch 277/500\n",
      "100/100 [==============================] - 0s 60us/step - loss: 2.6469\n",
      "Epoch 278/500\n",
      "100/100 [==============================] - 0s 49us/step - loss: 2.6308\n",
      "Epoch 279/500\n",
      "100/100 [==============================] - 0s 60us/step - loss: 2.6048\n",
      "Epoch 280/500\n",
      "100/100 [==============================] - 0s 62us/step - loss: 2.6028\n",
      "Epoch 281/500\n",
      "100/100 [==============================] - 0s 55us/step - loss: 2.6005\n",
      "Epoch 282/500\n",
      "100/100 [==============================] - 0s 49us/step - loss: 2.6054\n",
      "Epoch 283/500\n",
      "100/100 [==============================] - 0s 48us/step - loss: 2.5772\n",
      "Epoch 284/500\n",
      "100/100 [==============================] - 0s 57us/step - loss: 2.5800\n",
      "Epoch 285/500\n",
      "100/100 [==============================] - 0s 61us/step - loss: 2.5876\n",
      "Epoch 286/500\n",
      "100/100 [==============================] - 0s 60us/step - loss: 2.5912\n",
      "Epoch 287/500\n",
      "100/100 [==============================] - 0s 58us/step - loss: 2.5602\n",
      "Epoch 288/500\n",
      "100/100 [==============================] - 0s 70us/step - loss: 2.5759\n",
      "Epoch 289/500\n",
      "100/100 [==============================] - 0s 59us/step - loss: 2.5743\n",
      "Epoch 290/500\n",
      "100/100 [==============================] - 0s 80us/step - loss: 2.5773\n",
      "Epoch 291/500\n",
      "100/100 [==============================] - 0s 58us/step - loss: 2.5390\n",
      "Epoch 292/500\n",
      "100/100 [==============================] - 0s 59us/step - loss: 2.5394\n",
      "Epoch 293/500\n",
      "100/100 [==============================] - 0s 60us/step - loss: 2.5347\n",
      "Epoch 294/500\n",
      "100/100 [==============================] - 0s 60us/step - loss: 2.5170\n",
      "Epoch 295/500\n",
      "100/100 [==============================] - 0s 65us/step - loss: 2.5271\n",
      "Epoch 296/500\n",
      "100/100 [==============================] - 0s 69us/step - loss: 2.5156\n",
      "Epoch 297/500\n",
      "100/100 [==============================] - 0s 60us/step - loss: 2.4996\n",
      "Epoch 298/500\n",
      "100/100 [==============================] - 0s 70us/step - loss: 2.4908\n",
      "Epoch 299/500\n",
      "100/100 [==============================] - 0s 50us/step - loss: 2.4888\n",
      "Epoch 300/500\n",
      "100/100 [==============================] - 0s 50us/step - loss: 2.4896\n",
      "Epoch 301/500\n",
      "100/100 [==============================] - 0s 60us/step - loss: 2.4948\n",
      "Epoch 302/500\n",
      "100/100 [==============================] - 0s 60us/step - loss: 2.4823\n",
      "Epoch 303/500\n",
      "100/100 [==============================] - 0s 60us/step - loss: 2.4680\n",
      "Epoch 304/500\n",
      "100/100 [==============================] - 0s 60us/step - loss: 2.4752\n",
      "Epoch 305/500\n",
      "100/100 [==============================] - 0s 64us/step - loss: 2.4825\n",
      "Epoch 306/500\n",
      "100/100 [==============================] - 0s 62us/step - loss: 2.4766\n",
      "Epoch 307/500\n",
      "100/100 [==============================] - 0s 50us/step - loss: 2.4676\n",
      "Epoch 308/500\n",
      "100/100 [==============================] - 0s 60us/step - loss: 2.4380\n",
      "Epoch 309/500\n",
      "100/100 [==============================] - 0s 66us/step - loss: 2.4588\n",
      "Epoch 310/500\n",
      "100/100 [==============================] - 0s 60us/step - loss: 2.4378\n",
      "Epoch 311/500\n",
      "100/100 [==============================] - 0s 60us/step - loss: 2.4375\n",
      "Epoch 312/500\n",
      "100/100 [==============================] - 0s 70us/step - loss: 2.4198\n",
      "Epoch 313/500\n"
     ]
    },
    {
     "name": "stdout",
     "output_type": "stream",
     "text": [
      "100/100 [==============================] - 0s 59us/step - loss: 2.4279\n",
      "Epoch 314/500\n",
      "100/100 [==============================] - 0s 59us/step - loss: 2.4029\n",
      "Epoch 315/500\n",
      "100/100 [==============================] - 0s 50us/step - loss: 2.3962\n",
      "Epoch 316/500\n",
      "100/100 [==============================] - 0s 70us/step - loss: 2.4009\n",
      "Epoch 317/500\n",
      "100/100 [==============================] - 0s 60us/step - loss: 2.3857\n",
      "Epoch 318/500\n",
      "100/100 [==============================] - 0s 54us/step - loss: 2.3951\n",
      "Epoch 319/500\n",
      "100/100 [==============================] - 0s 59us/step - loss: 2.3892\n",
      "Epoch 320/500\n",
      "100/100 [==============================] - 0s 62us/step - loss: 2.3768\n",
      "Epoch 321/500\n",
      "100/100 [==============================] - 0s 48us/step - loss: 2.3768\n",
      "Epoch 322/500\n",
      "100/100 [==============================] - 0s 60us/step - loss: 2.3866\n",
      "Epoch 323/500\n",
      "100/100 [==============================] - 0s 50us/step - loss: 2.3935\n",
      "Epoch 324/500\n",
      "100/100 [==============================] - 0s 60us/step - loss: 2.3553\n",
      "Epoch 325/500\n",
      "100/100 [==============================] - 0s 60us/step - loss: 2.3742\n",
      "Epoch 326/500\n",
      "100/100 [==============================] - 0s 60us/step - loss: 2.3669\n",
      "Epoch 327/500\n",
      "100/100 [==============================] - 0s 49us/step - loss: 2.3353\n",
      "Epoch 328/500\n",
      "100/100 [==============================] - 0s 40us/step - loss: 2.3693\n",
      "Epoch 329/500\n",
      "100/100 [==============================] - 0s 60us/step - loss: 2.3790\n",
      "Epoch 330/500\n",
      "100/100 [==============================] - 0s 60us/step - loss: 2.3462\n",
      "Epoch 331/500\n",
      "100/100 [==============================] - 0s 65us/step - loss: 2.3539\n",
      "Epoch 332/500\n",
      "100/100 [==============================] - 0s 65us/step - loss: 2.3468\n",
      "Epoch 333/500\n",
      "100/100 [==============================] - 0s 60us/step - loss: 2.3609\n",
      "Epoch 334/500\n",
      "100/100 [==============================] - 0s 60us/step - loss: 2.3242\n",
      "Epoch 335/500\n",
      "100/100 [==============================] - 0s 44us/step - loss: 2.3217\n",
      "Epoch 336/500\n",
      "100/100 [==============================] - 0s 69us/step - loss: 2.3099\n",
      "Epoch 337/500\n",
      "100/100 [==============================] - 0s 50us/step - loss: 2.3097\n",
      "Epoch 338/500\n",
      "100/100 [==============================] - 0s 69us/step - loss: 2.3001\n",
      "Epoch 339/500\n",
      "100/100 [==============================] - 0s 50us/step - loss: 2.2904\n",
      "Epoch 340/500\n",
      "100/100 [==============================] - 0s 69us/step - loss: 2.2882\n",
      "Epoch 341/500\n",
      "100/100 [==============================] - 0s 60us/step - loss: 2.2837\n",
      "Epoch 342/500\n",
      "100/100 [==============================] - 0s 69us/step - loss: 2.2698\n",
      "Epoch 343/500\n",
      "100/100 [==============================] - 0s 60us/step - loss: 2.2783\n",
      "Epoch 344/500\n",
      "100/100 [==============================] - 0s 40us/step - loss: 2.2482\n",
      "Epoch 345/500\n",
      "100/100 [==============================] - 0s 57us/step - loss: 2.2444\n",
      "Epoch 346/500\n",
      "100/100 [==============================] - 0s 57us/step - loss: 2.2513\n",
      "Epoch 347/500\n",
      "100/100 [==============================] - 0s 59us/step - loss: 2.2279\n",
      "Epoch 348/500\n",
      "100/100 [==============================] - 0s 70us/step - loss: 2.2271\n",
      "Epoch 349/500\n",
      "100/100 [==============================] - 0s 60us/step - loss: 2.2241\n",
      "Epoch 350/500\n",
      "100/100 [==============================] - 0s 66us/step - loss: 2.2221\n",
      "Epoch 351/500\n",
      "100/100 [==============================] - 0s 49us/step - loss: 2.2123\n",
      "Epoch 352/500\n",
      "100/100 [==============================] - 0s 50us/step - loss: 2.2012\n",
      "Epoch 353/500\n",
      "100/100 [==============================] - 0s 57us/step - loss: 2.2249\n",
      "Epoch 354/500\n",
      "100/100 [==============================] - 0s 66us/step - loss: 2.2373\n",
      "Epoch 355/500\n",
      "100/100 [==============================] - 0s 60us/step - loss: 2.2005\n",
      "Epoch 356/500\n",
      "100/100 [==============================] - 0s 59us/step - loss: 2.2082\n",
      "Epoch 357/500\n",
      "100/100 [==============================] - 0s 61us/step - loss: 2.1882\n",
      "Epoch 358/500\n",
      "100/100 [==============================] - 0s 57us/step - loss: 2.1778\n",
      "Epoch 359/500\n",
      "100/100 [==============================] - 0s 60us/step - loss: 2.1704\n",
      "Epoch 360/500\n",
      "100/100 [==============================] - 0s 57us/step - loss: 2.1631\n",
      "Epoch 361/500\n",
      "100/100 [==============================] - 0s 58us/step - loss: 2.1660\n",
      "Epoch 362/500\n",
      "100/100 [==============================] - 0s 60us/step - loss: 2.1635\n",
      "Epoch 363/500\n",
      "100/100 [==============================] - 0s 59us/step - loss: 2.1494\n",
      "Epoch 364/500\n",
      "100/100 [==============================] - 0s 65us/step - loss: 2.1509\n",
      "Epoch 365/500\n",
      "100/100 [==============================] - 0s 50us/step - loss: 2.1546\n",
      "Epoch 366/500\n",
      "100/100 [==============================] - ETA: 0s - loss: 1.914 - 0s 60us/step - loss: 2.1468\n",
      "Epoch 367/500\n",
      "100/100 [==============================] - 0s 55us/step - loss: 2.1466\n",
      "Epoch 368/500\n",
      "100/100 [==============================] - 0s 60us/step - loss: 2.1657\n",
      "Epoch 369/500\n",
      "100/100 [==============================] - 0s 50us/step - loss: 2.1515\n",
      "Epoch 370/500\n",
      "100/100 [==============================] - 0s 65us/step - loss: 2.1382\n",
      "Epoch 371/500\n",
      "100/100 [==============================] - 0s 61us/step - loss: 2.1364\n",
      "Epoch 372/500\n",
      "100/100 [==============================] - 0s 61us/step - loss: 2.1294\n",
      "Epoch 373/500\n",
      "100/100 [==============================] - 0s 60us/step - loss: 2.1259\n",
      "Epoch 374/500\n",
      "100/100 [==============================] - 0s 60us/step - loss: 2.1324\n",
      "Epoch 375/500\n",
      "100/100 [==============================] - 0s 57us/step - loss: 2.1019\n",
      "Epoch 376/500\n",
      "100/100 [==============================] - 0s 60us/step - loss: 2.1115\n",
      "Epoch 377/500\n",
      "100/100 [==============================] - 0s 60us/step - loss: 2.1259\n",
      "Epoch 378/500\n",
      "100/100 [==============================] - 0s 59us/step - loss: 2.1072\n",
      "Epoch 379/500\n",
      "100/100 [==============================] - 0s 60us/step - loss: 2.1319\n",
      "Epoch 380/500\n",
      "100/100 [==============================] - 0s 50us/step - loss: 2.1022\n",
      "Epoch 381/500\n",
      "100/100 [==============================] - 0s 50us/step - loss: 2.1176\n",
      "Epoch 382/500\n",
      "100/100 [==============================] - 0s 60us/step - loss: 2.0998\n",
      "Epoch 383/500\n",
      "100/100 [==============================] - 0s 70us/step - loss: 2.0842\n",
      "Epoch 384/500\n",
      "100/100 [==============================] - 0s 60us/step - loss: 2.0970\n",
      "Epoch 385/500\n",
      "100/100 [==============================] - 0s 60us/step - loss: 2.0725\n",
      "Epoch 386/500\n",
      "100/100 [==============================] - 0s 60us/step - loss: 2.0711\n",
      "Epoch 387/500\n",
      "100/100 [==============================] - 0s 70us/step - loss: 2.0648\n",
      "Epoch 388/500\n",
      "100/100 [==============================] - 0s 59us/step - loss: 2.0537\n",
      "Epoch 389/500\n",
      "100/100 [==============================] - 0s 60us/step - loss: 2.0544\n",
      "Epoch 390/500\n",
      "100/100 [==============================] - 0s 56us/step - loss: 2.0568\n",
      "Epoch 391/500\n",
      "100/100 [==============================] - 0s 60us/step - loss: 2.0859\n",
      "Epoch 392/500\n",
      "100/100 [==============================] - 0s 61us/step - loss: 2.0386\n",
      "Epoch 393/500\n",
      "100/100 [==============================] - 0s 50us/step - loss: 2.0658\n",
      "Epoch 394/500\n",
      "100/100 [==============================] - 0s 59us/step - loss: 2.0741\n",
      "Epoch 395/500\n",
      "100/100 [==============================] - 0s 50us/step - loss: 2.0504\n",
      "Epoch 396/500\n",
      "100/100 [==============================] - 0s 60us/step - loss: 2.0308\n",
      "Epoch 397/500\n",
      "100/100 [==============================] - 0s 60us/step - loss: 2.0354\n",
      "Epoch 398/500\n",
      "100/100 [==============================] - 0s 59us/step - loss: 2.0182\n",
      "Epoch 399/500\n",
      "100/100 [==============================] - 0s 67us/step - loss: 2.0446\n",
      "Epoch 400/500\n",
      "100/100 [==============================] - 0s 60us/step - loss: 2.0159\n",
      "Epoch 401/500\n",
      "100/100 [==============================] - 0s 60us/step - loss: 2.0143\n",
      "Epoch 402/500\n",
      "100/100 [==============================] - 0s 60us/step - loss: 1.9978\n",
      "Epoch 403/500\n",
      "100/100 [==============================] - 0s 48us/step - loss: 1.9976\n",
      "Epoch 404/500\n",
      "100/100 [==============================] - ETA: 0s - loss: 2.295 - 0s 60us/step - loss: 1.9823\n",
      "Epoch 405/500\n",
      "100/100 [==============================] - 0s 69us/step - loss: 1.9866\n",
      "Epoch 406/500\n",
      "100/100 [==============================] - 0s 65us/step - loss: 1.9883\n",
      "Epoch 407/500\n",
      "100/100 [==============================] - 0s 64us/step - loss: 1.9830\n",
      "Epoch 408/500\n",
      "100/100 [==============================] - 0s 60us/step - loss: 1.9834\n"
     ]
    },
    {
     "name": "stdout",
     "output_type": "stream",
     "text": [
      "Epoch 409/500\n",
      "100/100 [==============================] - 0s 56us/step - loss: 1.9878\n",
      "Epoch 410/500\n",
      "100/100 [==============================] - 0s 79us/step - loss: 1.9813\n",
      "Epoch 411/500\n",
      "100/100 [==============================] - 0s 51us/step - loss: 1.9825\n",
      "Epoch 412/500\n",
      "100/100 [==============================] - 0s 60us/step - loss: 1.9578\n",
      "Epoch 413/500\n",
      "100/100 [==============================] - 0s 70us/step - loss: 1.9608\n",
      "Epoch 414/500\n",
      "100/100 [==============================] - 0s 56us/step - loss: 1.9501\n",
      "Epoch 415/500\n",
      "100/100 [==============================] - 0s 70us/step - loss: 1.9664\n",
      "Epoch 416/500\n",
      "100/100 [==============================] - 0s 50us/step - loss: 1.9556\n",
      "Epoch 417/500\n",
      "100/100 [==============================] - 0s 56us/step - loss: 1.9347\n",
      "Epoch 418/500\n",
      "100/100 [==============================] - 0s 63us/step - loss: 1.9629\n",
      "Epoch 419/500\n",
      "100/100 [==============================] - 0s 49us/step - loss: 1.9686\n",
      "Epoch 420/500\n",
      "100/100 [==============================] - 0s 56us/step - loss: 1.9573\n",
      "Epoch 421/500\n",
      "100/100 [==============================] - 0s 51us/step - loss: 1.9247\n",
      "Epoch 422/500\n",
      "100/100 [==============================] - 0s 58us/step - loss: 1.9284\n",
      "Epoch 423/500\n",
      "100/100 [==============================] - 0s 69us/step - loss: 1.9613\n",
      "Epoch 424/500\n",
      "100/100 [==============================] - 0s 56us/step - loss: 1.9122\n",
      "Epoch 425/500\n",
      "100/100 [==============================] - 0s 67us/step - loss: 1.9100\n",
      "Epoch 426/500\n",
      "100/100 [==============================] - 0s 49us/step - loss: 1.9004\n",
      "Epoch 427/500\n",
      "100/100 [==============================] - 0s 80us/step - loss: 1.9224\n",
      "Epoch 428/500\n",
      "100/100 [==============================] - 0s 47us/step - loss: 1.9230\n",
      "Epoch 429/500\n",
      "100/100 [==============================] - 0s 71us/step - loss: 1.9233\n",
      "Epoch 430/500\n",
      "100/100 [==============================] - 0s 49us/step - loss: 1.9273\n",
      "Epoch 431/500\n",
      "100/100 [==============================] - 0s 60us/step - loss: 1.8872\n",
      "Epoch 432/500\n",
      "100/100 [==============================] - 0s 59us/step - loss: 1.9054\n",
      "Epoch 433/500\n",
      "100/100 [==============================] - 0s 56us/step - loss: 1.8987\n",
      "Epoch 434/500\n",
      "100/100 [==============================] - 0s 60us/step - loss: 1.8912\n",
      "Epoch 435/500\n",
      "100/100 [==============================] - 0s 56us/step - loss: 1.8853\n",
      "Epoch 436/500\n",
      "100/100 [==============================] - 0s 65us/step - loss: 1.9326\n",
      "Epoch 437/500\n",
      "100/100 [==============================] - 0s 60us/step - loss: 1.9092\n",
      "Epoch 438/500\n",
      "100/100 [==============================] - 0s 60us/step - loss: 1.8767\n",
      "Epoch 439/500\n",
      "100/100 [==============================] - 0s 69us/step - loss: 1.8731\n",
      "Epoch 440/500\n",
      "100/100 [==============================] - 0s 69us/step - loss: 1.8795\n",
      "Epoch 441/500\n",
      "100/100 [==============================] - 0s 59us/step - loss: 1.8791\n",
      "Epoch 442/500\n",
      "100/100 [==============================] - 0s 60us/step - loss: 1.8893\n",
      "Epoch 443/500\n",
      "100/100 [==============================] - 0s 68us/step - loss: 1.8618\n",
      "Epoch 444/500\n",
      "100/100 [==============================] - 0s 53us/step - loss: 1.8620\n",
      "Epoch 445/500\n",
      "100/100 [==============================] - 0s 66us/step - loss: 1.8875\n",
      "Epoch 446/500\n",
      "100/100 [==============================] - 0s 50us/step - loss: 1.8988\n",
      "Epoch 447/500\n",
      "100/100 [==============================] - 0s 59us/step - loss: 1.8683\n",
      "Epoch 448/500\n",
      "100/100 [==============================] - 0s 60us/step - loss: 1.8701\n",
      "Epoch 449/500\n",
      "100/100 [==============================] - 0s 49us/step - loss: 1.8665\n",
      "Epoch 450/500\n",
      "100/100 [==============================] - 0s 56us/step - loss: 1.8519\n",
      "Epoch 451/500\n",
      "100/100 [==============================] - 0s 56us/step - loss: 1.8406\n",
      "Epoch 452/500\n",
      "100/100 [==============================] - 0s 70us/step - loss: 1.8347\n",
      "Epoch 453/500\n",
      "100/100 [==============================] - 0s 60us/step - loss: 1.8325\n",
      "Epoch 454/500\n",
      "100/100 [==============================] - 0s 59us/step - loss: 1.8281\n",
      "Epoch 455/500\n",
      "100/100 [==============================] - 0s 60us/step - loss: 1.8442\n",
      "Epoch 456/500\n",
      "100/100 [==============================] - 0s 49us/step - loss: 1.8479\n",
      "Epoch 457/500\n",
      "100/100 [==============================] - 0s 56us/step - loss: 1.8475\n",
      "Epoch 458/500\n",
      "100/100 [==============================] - 0s 66us/step - loss: 1.8355\n",
      "Epoch 459/500\n",
      "100/100 [==============================] - 0s 60us/step - loss: 1.8338\n",
      "Epoch 460/500\n",
      "100/100 [==============================] - 0s 60us/step - loss: 1.8291\n",
      "Epoch 461/500\n",
      "100/100 [==============================] - 0s 60us/step - loss: 1.8373\n",
      "Epoch 462/500\n",
      "100/100 [==============================] - 0s 60us/step - loss: 1.8247\n",
      "Epoch 463/500\n",
      "100/100 [==============================] - 0s 49us/step - loss: 1.8051\n",
      "Epoch 464/500\n",
      "100/100 [==============================] - 0s 50us/step - loss: 1.8054\n",
      "Epoch 465/500\n",
      "100/100 [==============================] - 0s 60us/step - loss: 1.8060\n",
      "Epoch 466/500\n",
      "100/100 [==============================] - 0s 59us/step - loss: 1.8486\n",
      "Epoch 467/500\n",
      "100/100 [==============================] - 0s 60us/step - loss: 1.8248\n",
      "Epoch 468/500\n",
      "100/100 [==============================] - 0s 56us/step - loss: 1.8093\n",
      "Epoch 469/500\n",
      "100/100 [==============================] - 0s 59us/step - loss: 1.8242\n",
      "Epoch 470/500\n",
      "100/100 [==============================] - 0s 51us/step - loss: 1.8406\n",
      "Epoch 471/500\n",
      "100/100 [==============================] - 0s 57us/step - loss: 1.8027\n",
      "Epoch 472/500\n",
      "100/100 [==============================] - 0s 67us/step - loss: 1.7989\n",
      "Epoch 473/500\n",
      "100/100 [==============================] - 0s 60us/step - loss: 1.7946\n",
      "Epoch 474/500\n",
      "100/100 [==============================] - 0s 59us/step - loss: 1.7980\n",
      "Epoch 475/500\n",
      "100/100 [==============================] - 0s 59us/step - loss: 1.8001\n",
      "Epoch 476/500\n",
      "100/100 [==============================] - 0s 59us/step - loss: 1.7782\n",
      "Epoch 477/500\n",
      "100/100 [==============================] - 0s 50us/step - loss: 1.7928\n",
      "Epoch 478/500\n",
      "100/100 [==============================] - 0s 50us/step - loss: 1.7829\n",
      "Epoch 479/500\n",
      "100/100 [==============================] - 0s 68us/step - loss: 1.7680\n",
      "Epoch 480/500\n",
      "100/100 [==============================] - 0s 60us/step - loss: 1.7730\n",
      "Epoch 481/500\n",
      "100/100 [==============================] - 0s 60us/step - loss: 1.7640\n",
      "Epoch 482/500\n",
      "100/100 [==============================] - 0s 60us/step - loss: 1.7680\n",
      "Epoch 483/500\n",
      "100/100 [==============================] - 0s 69us/step - loss: 1.7622\n",
      "Epoch 484/500\n",
      "100/100 [==============================] - 0s 60us/step - loss: 1.7897\n",
      "Epoch 485/500\n",
      "100/100 [==============================] - 0s 60us/step - loss: 1.7602\n",
      "Epoch 486/500\n",
      "100/100 [==============================] - 0s 57us/step - loss: 1.7733\n",
      "Epoch 487/500\n",
      "100/100 [==============================] - 0s 50us/step - loss: 1.7599\n",
      "Epoch 488/500\n",
      "100/100 [==============================] - 0s 70us/step - loss: 1.7485\n",
      "Epoch 489/500\n",
      "100/100 [==============================] - 0s 60us/step - loss: 1.7391\n",
      "Epoch 490/500\n",
      "100/100 [==============================] - 0s 68us/step - loss: 1.7408\n",
      "Epoch 491/500\n",
      "100/100 [==============================] - 0s 61us/step - loss: 1.7572\n",
      "Epoch 492/500\n",
      "100/100 [==============================] - 0s 60us/step - loss: 1.7543\n",
      "Epoch 493/500\n",
      "100/100 [==============================] - 0s 68us/step - loss: 1.7511\n",
      "Epoch 494/500\n",
      "100/100 [==============================] - 0s 54us/step - loss: 1.7557\n",
      "Epoch 495/500\n",
      "100/100 [==============================] - 0s 50us/step - loss: 1.7537\n",
      "Epoch 496/500\n",
      "100/100 [==============================] - 0s 52us/step - loss: 1.7776\n",
      "Epoch 497/500\n",
      "100/100 [==============================] - 0s 67us/step - loss: 1.7597\n",
      "Epoch 498/500\n",
      "100/100 [==============================] - 0s 59us/step - loss: 1.7500\n",
      "Epoch 499/500\n",
      "100/100 [==============================] - 0s 59us/step - loss: 1.7499\n",
      "Epoch 500/500\n",
      "100/100 [==============================] - 0s 48us/step - loss: 1.7411\n"
     ]
    }
   ],
   "source": [
    "#Fit the model to the training set and calculate loss\n",
    "\n",
    "#Import early stopping -\n",
    "from keras.callbacks import EarlyStopping\n",
    "from keras.callbacks import CSVLogger\n",
    "early_stopping_monitor = EarlyStopping(patience=10)\n",
    "callbacks=[early_stopping_monitor]\n",
    "#callbacks=[CSVLogger]\n",
    "#callbacks=[history]\n",
    "\n",
    "# CSV Logger to save model metrics for comparison of each trial on different parameters if needed\n",
    "#kr.callbacks.CSVLogger('training.csv', separator=',', append=True)\n",
    "#csv_logger = CSVLogger('training.csv', separator=',', append=True)\n",
    "#callbacks = list()\n",
    "#callbacks.append(CSVLogger('training.csv'))\n",
    "\n",
    "#K-Fold Validation method added\n",
    "#REF [https://intelligence-artificielle.agency/the-boston-housing-price-dataset/] and [Deep Learning in Python, Chollet]\n",
    "#https://scikit-learn.org/stable/modules/generated/sklearn.model_selection.KFold.html\n",
    "\n",
    "from sklearn.model_selection import StratifiedKFold\n",
    "\n",
    "#define number of splits (folds)\n",
    "kf = KFold(n_splits=10)\n",
    "kf.get_n_splits(x,y)\n",
    "\n",
    "#apply k fold validation over the 10 folds\n",
    "for train_index, test_index in kf.split(x,y):\n",
    "    print(\"TRAIN:\", train_index, \"TEST:\", test_index)\n",
    "    x_train, x_test = x[:100], x[100:506] #set at train:test 20:80\n",
    "    y_train, y_test = y[:100], y[100:506] #set at train:test 20:80\n",
    "     \n",
    "\n",
    "#WHITEN THE DATASET\n",
    "\n",
    "pca = dec.PCA(n_components=13, whiten=True)\n",
    "pca.fit(x_train)\n",
    "inputs_train_white = pd.DataFrame(pca.transform(x_train), columns=x.columns)\n",
    "inputs_train_white\n",
    "#inputs_test_white = pd.DataFrame(pca.transform(x_test), columns=x.columns)\n",
    "\n",
    "\n",
    "model=create_model()\n",
    "#hist = model.fit(x_train, y_train,epochs=1000, batch_size=10)\n",
    "#model.fit(x[train], y[train], epochs=150, batch_size=10, verbose=0,, validation_split=0.25, )\n",
    "hist = model.fit(inputs_train_white, y_train, epochs=500, batch_size=20, callbacks=[early_stopping_monitor]) #csv_logger, history\n",
    "\n",
    "#Calculate the predictions on the test: set x_test \n",
    "preds = model.predict(x_test)"
   ]
  },
  {
   "cell_type": "markdown",
   "metadata": {},
   "source": [
    "**K-FOLD VALIDATION**\n",
    "\n",
    "[https://scikit-learn.org/stable/modules/generated/sklearn.model_selection.KFold.html]\n",
    "\n",
    "K-Fold validation creates a number of 'folds' of the data for training of the model. The model is then validated on the remaining data after each fold. This way a number of instances of training data can be created (instead of just one in the conventioanl way). In theory this should improve the accuracy of the model as it is being trained on a larger proportion of the data."
   ]
  },
  {
   "cell_type": "markdown",
   "metadata": {},
   "source": [
    "**PRE-PROCESSING AND STANDARDISING THE DATASET**\n",
    "https://scikit-learn.org/stable/modules/preprocessing.html\n",
    "\n",
    "As can be seen above, pre-processing the dataset using the scikitlearn preprocessing module as had a significant effect on the accuracy of the training and testing models. \n",
    "\n",
    "https://scikit-learn.org/stable/modules/generated/sklearn.decomposition.PCA.html#sklearn.decomposition.PCA\n",
    "\n",
    "Principal component analysis is a technique used for 'dimensionality reduction' which converts correlated variables to a single vector.\n",
    "\n",
    "\n",
    "Further use of the sklearn.decomposition.PCA module reduces the linear relationships between variables. Applying `whitening=True` further removes correlation between variables.\n"
   ]
  },
  {
   "cell_type": "code",
   "execution_count": 70,
   "metadata": {},
   "outputs": [
    {
     "name": "stdout",
     "output_type": "stream",
     "text": [
      "Mean Absolute Loss value on training data is: 768.53\n"
     ]
    }
   ],
   "source": [
    "#Evaluate the performance of the model - output the loss function on the training set\n",
    "#Loss changed to Mean Absolute as it is more relevent\n",
    "\n",
    "model_eval = model.evaluate(x_train, y_train, verbose=0)\n",
    "    \n",
    "print (\"Mean Absolute Loss value on training data is:\", float(\"{0:.3f}\".format(model_eval)))"
   ]
  },
  {
   "cell_type": "markdown",
   "metadata": {},
   "source": [
    "Plot of model loss derived from REF [https://hackernoon.com/build-your-first-neural-network-to-predict-house-prices-with-keras-3fb0839680f4] and understanding from REF [Deep Learning with Python: Chollet, F.; Manning; 2018 # pages 85-91]"
   ]
  },
  {
   "cell_type": "code",
   "execution_count": 71,
   "metadata": {},
   "outputs": [
    {
     "data": {
      "image/png": "[encoded data removed]",
      "text/plain": [
       "<Figure size 864x864 with 1 Axes>"
      ]
     },
     "metadata": {},
     "output_type": "display_data"
    }
   ],
   "source": [
    "# REF [https://machinelearningmastery.com/display-deep-learning-model-training-history-in-keras/]\n",
    "\n",
    "plt.figure(figsize=(12, 12))\n",
    "# summarize history for loss\n",
    "plt.plot(hist.history[\"loss\"])\n",
    "#plt.plot(hist.history[\"val_loss\"])\n",
    "plt.title(\"Model Loss\")\n",
    "plt.ylabel(\"Loss\")\n",
    "plt.xlabel(\"Epoch\")\n",
    "plt.legend([\"Train\", \"Val\"], loc=\"upper center\")\n",
    "plt.show()\n",
    "\n",
    "#Save loss value to csv\n",
    "Results = repr(model_eval)\n",
    "import csv\n",
    "#fields = ['Loss','Result']\n",
    "with open('results.csv', 'a', newline='') as csvfile:\n",
    "    writer = csv.writer(csvfile, delimiter=' ')\n",
    "    writer.writerow('Loss')\n",
    "    writer.writerow(Results)"
   ]
  },
  {
   "cell_type": "markdown",
   "metadata": {},
   "source": [
    "**TEST THE MODEL**"
   ]
  },
  {
   "cell_type": "markdown",
   "metadata": {},
   "source": [
    "The `model.fit` function iterates over the data set reducing the cost value until it reaches its minimum and outputs the result of the loss function. It can also be calculated independently using the `model.evaluate` function the result of which is seen below."
   ]
  },
  {
   "cell_type": "markdown",
   "metadata": {
    "scrolled": true
   },
   "source": [
    "# MODEL EVALUATION ON THE TEST SET \n",
    "\n",
    "As calculated above"
   ]
  },
  {
   "cell_type": "code",
   "execution_count": 72,
   "metadata": {},
   "outputs": [
    {
     "name": "stdout",
     "output_type": "stream",
     "text": [
      "406/406 [==============================] - 0s 20us/step\n",
      "Loss value is: 967.49\n"
     ]
    }
   ],
   "source": [
    "#Evaluate the performance of the model - output the loss function on the training set\n",
    "model_eval = model.evaluate(x_test, y_test)\n",
    "\n",
    "print (\"Loss value is:\", float(\"{0:.3f}\".format(model_eval)))\n"
   ]
  },
  {
   "cell_type": "markdown",
   "metadata": {},
   "source": [
    "The above loss value equates to the model inaccuracy i.e the average prediction on the training set is out by the loss value"
   ]
  },
  {
   "cell_type": "markdown",
   "metadata": {},
   "source": [
    "**QUICK COMPARISON OF ACTUAL V PREDICTED PRICES**"
   ]
  },
  {
   "cell_type": "code",
   "execution_count": 73,
   "metadata": {},
   "outputs": [
    {
     "name": "stdout",
     "output_type": "stream",
     "text": [
      "The first ten actual house price are \n",
      "    PRICE\n",
      "0   24.0\n",
      "1   21.6\n",
      "2   34.7\n",
      "3   33.4\n",
      "4   36.2\n",
      "5   28.7\n",
      "6   22.9\n",
      "7   27.1\n",
      "8   16.5\n",
      "9   18.9\n",
      "The first ten model predictions of house price are \n",
      " [[591.2674 ]\n",
      " [585.55475]\n",
      " [553.2793 ]\n",
      " [511.8537 ]\n",
      " [521.2695 ]\n",
      " [521.75946]\n",
      " [616.6868 ]\n",
      " [663.2707 ]\n",
      " [659.67847]\n",
      " [637.6946 ]]\n"
     ]
    }
   ],
   "source": [
    "#print first ten rows of dataset prices column\n",
    "first_10_Prices = bos.iloc[0:10, 13:15]\n",
    "\n",
    "print(\"The first ten actual house price are \\n\", first_10_Prices)\n",
    "\n",
    "y_true = bos['PRICE']\n",
    "y_pred = model.predict(x)\n",
    "\n",
    "#Output first 10 predictions\n",
    "print(\"The first ten model predictions of house price are \\n\",y_pred[:10])\n"
   ]
  },
  {
   "cell_type": "markdown",
   "metadata": {},
   "source": [
    "A quick comparison of the first ten actual v predicted house prices above reveals differences which vary from one comparison to another. From this we can summise that the model does not reliably predict house prices\n",
    "\n",
    "\n",
    "Learnings in the **TEST MODEL** above from REF [https://www.youtube.com/watch?v=zinEPDj7SD8]\n"
   ]
  },
  {
   "cell_type": "markdown",
   "metadata": {},
   "source": [
    "**PLOT OF PREDICTED HOUSE PRICE V ACTUAL**"
   ]
  },
  {
   "cell_type": "markdown",
   "metadata": {},
   "source": [
    "The following plot is of the first 100 actual V predicted house prices"
   ]
  },
  {
   "cell_type": "code",
   "execution_count": 74,
   "metadata": {},
   "outputs": [
    {
     "data": {
      "image/png": "[encoded data removed]",
      "text/plain": [
       "<Figure size 864x864 with 1 Axes>"
      ]
     },
     "metadata": {},
     "output_type": "display_data"
    }
   ],
   "source": [
    "#Plot of actual v predicted price of first 100 data points\n",
    "plt.figure(figsize=(12, 12))\n",
    "plt.plot(y_pred[:100], 'r-', label ='Prediction')\n",
    "plt.plot(y_true[:100], 'g', label = 'Actual')\n",
    "plt.title(\"Neural Network Prediction V Actual\")\n",
    "plt.ylabel(\"Price(x1000)\")\n",
    "plt.xlabel(\"Zone\")\n",
    "plt.legend([\"Prediction\", \"Actual\"], loc=\"upper left\")\n",
    "plt.show()"
   ]
  },
  {
   "cell_type": "code",
   "execution_count": 75,
   "metadata": {},
   "outputs": [
    {
     "name": "stdout",
     "output_type": "stream",
     "text": [
      "The Mean Absolute error is 659.9562\n"
     ]
    }
   ],
   "source": [
    "#Evaluate the Mean-Squared error\n",
    "\n",
    "error = np.mean(kr.losses.mean_absolute_error(y_true, y_pred))\n",
    "\n",
    "#MSE of first 100 predictions\n",
    "print (\"The Mean Absolute error is\", error) \n",
    "      "
   ]
  },
  {
   "cell_type": "markdown",
   "metadata": {},
   "source": [
    "As can be seen above the mean absolute error is high on our test set and shows that the model is not accurately predicting unknowns but has a lower loss value on the training set.\n",
    "\n",
    "Models which produce a low loss function but fail to accurately predict test data may be over-fitting the test set i.e the model does not generalise well to unknowns. Various approaches are advised to prevent over-fitting\n",
    "\n",
    "\n",
    "REF: [Hands-On Machine Learning with Scikit-Learn, KERAS & TensorFlow; Geron, A.; O'Reilly; 2019, 2nd Ed, p.27]\n",
    "REF: [ https://towardsdatascience.com/soon-or-later-you-will-face-this-problem-c5f204e9f55a ]"
   ]
  },
  {
   "cell_type": "markdown",
   "metadata": {},
   "source": [
    "**REDUCTION OF OVERFITTING**"
   ]
  },
  {
   "cell_type": "markdown",
   "metadata": {},
   "source": [
    "Models which produce a low loss function but fail to accurately predict test data may be over-fitting the test set. Various approaches are advised to prevent over-fitting\n",
    "\n",
    "Originally the test_set had been set to 0.5 of the data. Changing it to 0.2 had no tangible effect on the model.\n",
    "\n",
    "This article referenced from 'towardsdatascience' Discuss\n",
    "\n",
    "REF [https://towardsdatascience.com/a-gentle-journey-from-linear-regression-to-neural-networks-68881590760e] \n",
    "\n",
    "* Reducing the number of parameters of the networks\n",
    "* Getting more data or \n",
    "* Using explicit regularisers (in the loss function or through a dropout process)\n",
    "\n",
    "It isn't possible to get more data as our dataset is limited. However it is possible to reduce the number of parameters.Regularisation may also help. The authors advise that neural networks with many parameters can be prone to overfitting.  REF: [Hands-On Machine Learning with Scikit-Learn, KERAS & TensorFlow; Geron, A.; O'Reilly; 2019, 2nd Ed, p.364-374]\n",
    "\n",
    "Regularisation is defined as \"constraining the model to make it simpler and reduce the risk of overfitting. `kernel_regularizer` and `activity_regularizer` are both regularisation functions in keras used above.\n",
    "\n",
    " REF: [Hands-On Machine Learning with Scikit-Learn, KERAS & TensorFlow; Geron, A.; O'Reilly; 2019, 2nd Ed, p.28]"
   ]
  },
  {
   "cell_type": "markdown",
   "metadata": {},
   "source": [
    "**Next Steps:** \n",
    "\n",
    "* Reduce the complexity of the model"
   ]
  },
  {
   "cell_type": "markdown",
   "metadata": {},
   "source": [
    "Very low loss value and a reduction of MSE obtained by reducing the number of parameters to:\n",
    "\n",
    "**x = bos['ZN', 'PTRATIO, 'LSTAT', 'RM']**\n",
    "\n",
    "**y = bos['PRICE']**\n",
    "\n",
    "These x values were chosen as they showed the highest positive correlation lowest (negative) correlation with House price in the correlation matrix output in the inferential statistics section. The justification being that these variables had the highest influence on median house price of all the variables in the dataset\n",
    "\n",
    "Removal of the Charles River Dummy Variable had no effect on accuracy"
   ]
  },
  {
   "cell_type": "markdown",
   "metadata": {},
   "source": [
    "**LITERATURE SEARCH & OTHER APPROACHES**"
   ]
  },
  {
   "cell_type": "markdown",
   "metadata": {},
   "source": [
    "These authors https://machinelearningmastery.com/regression-tutorial-keras-deep-learning-library-python/ achieved a mean squared error of 23.33 similar to what we achieved using similar model parameters to us.\n",
    "\n",
    "https://github.com/DavidCico/Boston-House-Prices-With-Regression-Machine-Learning-and-Keras-Deep-Learning/blob/master/Boston_deeplearning_regression.ipynb also achieved a MSE of 25-27 also using similar optimisation functions\n",
    "\n",
    "This author REF [https://www.kaggle.com/amundtveit/neural-network-model-for-house-prices-keras] used an approach on another house price dataset to remove outliers. Their house price dataset  had 1460 row with 81 features. 38 continuous features and 43 categorical feature. They excluded categorical features from their model. The appeared to generate a good regression line of predicted vs actual prices (but didn't publish a MSE)\n",
    "\n",
    "As  can be seen from the box plots in the inferential statistics section, some of the house price data that does not border the Charles River contains outliers. It may be a useful approach to exclude these points. Additionally it can be observed that in the distribution of house prices bordering/not bordering the river that there is a cluster of prices at 50,000. Intuitively it may be a case that the data for house prices was capped at 50,000 for some reason."
   ]
  },
  {
   "cell_type": "code",
   "execution_count": 76,
   "metadata": {},
   "outputs": [],
   "source": [
    "#copied from https://www.kaggle.com/amundtveit/neural-network-model-for-house-prices-keras/comments\n",
    "\n",
    "#from sklearn.ensemble import IsolationForest\n",
    "\n",
    "#clf = IsolationForest(max_samples = 100, random_state = 42)\n",
    "#clf.fit(y_train)\n",
    "#y_noano = clf.predict(y_train)\n",
    "#y_noano = pd.DataFrame(y_noano, columns = ['Top'])\n",
    "#y_noano[y_noano['Top'] == 1].index.values\n",
    "\n",
    "#y_train2 = y_train.iloc[y_noano[y_noano['Top'] == 1].index.values]\n",
    "#y_train2.reset_index(drop = True, inplace = True)\n",
    "#print(\"Number of Outliers:\", y_noano[y_noano['Top'] == -1].shape[0])\n",
    "#print(\"Number of rows without outliers:\", y_train.shape[0])"
   ]
  },
  {
   "cell_type": "markdown",
   "metadata": {},
   "source": [
    "The `IsolationForest` `scikitlearn` function above has isolated and identified 36 outliers in our training set."
   ]
  },
  {
   "cell_type": "markdown",
   "metadata": {},
   "source": [
    "try https://towardsdatascience.com/ways-to-detect-and-remove-the-outliers-404d16608dba"
   ]
  },
  {
   "cell_type": "markdown",
   "metadata": {},
   "source": [
    "**SOME CODE TO REMOVE ALL VALUES = 50**"
   ]
  },
  {
   "cell_type": "code",
   "execution_count": 77,
   "metadata": {
    "scrolled": true
   },
   "outputs": [],
   "source": [
    "X = y_true\n",
    "\n",
    "#lambda function to only include values not equal to 50\n",
    "X = list(filter(lambda x: x!= 50.0, X))\n",
    "\n",
    "#print(X)"
   ]
  },
  {
   "cell_type": "markdown",
   "metadata": {},
   "source": [
    "**Calculate the error on the test set when 50 is excluded from price**"
   ]
  },
  {
   "cell_type": "code",
   "execution_count": 78,
   "metadata": {
    "scrolled": true
   },
   "outputs": [
    {
     "name": "stdout",
     "output_type": "stream",
     "text": [
      "Mean Absolute Error = 660.8531\n"
     ]
    }
   ],
   "source": [
    "error = np.mean(kr.losses.mean_absolute_error(X, y_pred))\n",
    "print(\"Mean Absolute Error =\",(error))"
   ]
  },
  {
   "cell_type": "markdown",
   "metadata": {},
   "source": [
    "The error value has dropped by excluding the price values at 50,000 dollars. It may now be worth investigating if removing all outliers from the dataset will improve prediction"
   ]
  },
  {
   "cell_type": "markdown",
   "metadata": {},
   "source": [
    "**CALCULATE Z SCORES FOR OUTLIERS**\n",
    "\n",
    "REF[https://www.statisticshowto.datasciencecentral.com/probability-and-statistics/z-score/]\n",
    "\n",
    "The z-score is the number of standard deviations a data point is from the mean"
   ]
  },
  {
   "cell_type": "code",
   "execution_count": 79,
   "metadata": {},
   "outputs": [
    {
     "name": "stdout",
     "output_type": "stream",
     "text": [
      "[[0.41978194 0.28482986 1.2879095  ... 0.44105193 1.0755623  0.15968566]\n",
      " [0.41733926 0.48772236 0.59338101 ... 0.44105193 0.49243937 0.10152429]\n",
      " [0.41734159 0.48772236 0.59338101 ... 0.39642699 1.2087274  1.32424667]\n",
      " ...\n",
      " [0.41344658 0.48772236 0.11573841 ... 0.44105193 0.98304761 0.14880191]\n",
      " [0.40776407 0.48772236 0.11573841 ... 0.4032249  0.86530163 0.0579893 ]\n",
      " [0.41500016 0.48772236 0.11573841 ... 0.44105193 0.66905833 1.15724782]]\n"
     ]
    }
   ],
   "source": [
    "#REF [https://docs.scipy.org/doc/scipy/reference/generated/scipy.stats.zscore.html]\n",
    "z = np.abs(stats.zscore(bos))\n",
    "print(z)"
   ]
  },
  {
   "cell_type": "code",
   "execution_count": 80,
   "metadata": {},
   "outputs": [],
   "source": [
    " #outputs a new dataset excluding outliers where z score >3\n",
    "bos_o =x[(z < 3).all(axis=1)]\n"
   ]
  },
  {
   "cell_type": "markdown",
   "metadata": {},
   "source": [
    "Removing outliers did not have  substantial effect on the prediction accuracy\n",
    "\n",
    "**Note: Dropping the number of epochs increases the loss value but decreases the error on test data. i.e. decreases overfitting but not enough to reduce the error on predictions substantially. May be a case for putting the `Early_stopping` function back in to the model.**"
   ]
  },
  {
   "cell_type": "code",
   "execution_count": 81,
   "metadata": {},
   "outputs": [],
   "source": [
    "X = bos['PRICE']\n",
    "Y = y_pred #(columns='pred price'))\n",
    "\n",
    "#create two pandas dataframes\n",
    "a = pd.DataFrame(X)\n",
    "\n",
    "b = pd.DataFrame(Y, columns =['PRED_PRICE'])\n",
    "\n",
    "#contatenate the two dataframes\n",
    "result = pd.concat([a, b], axis=1)"
   ]
  },
  {
   "cell_type": "code",
   "execution_count": null,
   "metadata": {},
   "outputs": [],
   "source": []
  },
  {
   "cell_type": "code",
   "execution_count": 82,
   "metadata": {},
   "outputs": [
    {
     "data": {
      "text/plain": [
       "<matplotlib.legend.Legend at 0x1d8805ef0f0>"
      ]
     },
     "execution_count": 82,
     "metadata": {},
     "output_type": "execute_result"
    },
    {
     "data": {
      "image/png": "[encoded data removed]",
      "text/plain": [
       "<Figure size 864x864 with 1 Axes>"
      ]
     },
     "metadata": {},
     "output_type": "display_data"
    }
   ],
   "source": [
    "plt.figure(figsize=(12,12))\n",
    "\n",
    "#sns.regplot(x= \"PRICE\", y =\"PRED_PRICE\", data = result)\n",
    "#plt.plot(y, 'r-', label ='Prediction')\n",
    "#plt.plot(x, 'g', label = 'Actual')\n",
    "#plt.title(\"Linear Relationship: Neural Network Prediction V Actual\")\n",
    "\n",
    "#plt.show()\n",
    "slope, intercept, r_value, p_value, std_err = stats.linregress(result['PRICE'],result['PRED_PRICE'])\n",
    "\n",
    "# Display equation of the line and R^2\n",
    "ax = sns.regplot(x=\"PRICE\", y=\"PRED_PRICE\", data=result, color='b', \n",
    " line_kws={'label':\"y={0:.1f}x+{1:.1f}\\n, R^2={0:.3f}\".format(slope,intercept,r_value)})\n",
    "\n",
    "# plot legend\n",
    "ax.legend()"
   ]
  },
  {
   "cell_type": "markdown",
   "metadata": {},
   "source": [
    "**PLOT OF PRICE V PREDICTED PRICE**"
   ]
  },
  {
   "cell_type": "markdown",
   "metadata": {},
   "source": [
    "**Plotting the relationship between actual price and predicted price enables us to visualise the errors between the actual v predicted prices**\n",
    "\n",
    "Where the prediction is accurate, a strong linear relationship should exist between the data."
   ]
  },
  {
   "cell_type": "markdown",
   "metadata": {},
   "source": [
    "The linear relationship plotted above does suggest a strong correlation netween actual and predicted results with an $R^2$ value. However this is what we expect and it is the output of a neural network and not a univariate relationship. It is however a useful visualisation. From the values that diverge from the line, it is easy to see how the model is not predicting unknowns as well as it could. "
   ]
  },
  {
   "cell_type": "markdown",
   "metadata": {},
   "source": [
    "Removal of variables which were not strongly correlated with Price improved both training and testing models"
   ]
  },
  {
   "cell_type": "markdown",
   "metadata": {},
   "source": [
    "**ONE-WAY ANOVA ON ACTUAL V PREDICTED HOUSE PRICES**"
   ]
  },
  {
   "cell_type": "code",
   "execution_count": 83,
   "metadata": {},
   "outputs": [
    {
     "name": "stdout",
     "output_type": "stream",
     "text": [
      "Test Statistic = 10158.627, p=0.0000\n"
     ]
    }
   ],
   "source": [
    "Test_Statistic, p = stats.f_oneway(a,b)\n",
    "\n",
    "print('Test Statistic = %.3f, p=%.4f' % (Test_Statistic, p))"
   ]
  },
  {
   "cell_type": "markdown",
   "metadata": {},
   "source": [
    "From the above, the null hypothesis states that the mean house prices for Actual and Predicted are equal. Because the p-value is 0.0013, which is less than the significance level of 0.05, we can reject the null hypothesis and conclude that the house prices have different means."
   ]
  },
  {
   "cell_type": "markdown",
   "metadata": {},
   "source": [
    "**CONCLUSION**"
   ]
  },
  {
   "cell_type": "markdown",
   "metadata": {},
   "source": [
    "Despite various pre-processing methods applied, cross validation and optimisation of the training model it can be concluded that the model is unable to accurately predict the house prices on the test set.\n"
   ]
  }
 ],
 "metadata": {
  "kernelspec": {
   "display_name": "Python 3",
   "language": "python",
   "name": "python3"
  },
  "language_info": {
   "codemirror_mode": {
    "name": "ipython",
    "version": 3
   },
   "file_extension": ".py",
   "mimetype": "text/x-python",
   "name": "python",
   "nbconvert_exporter": "python",
   "pygments_lexer": "ipython3",
   "version": "3.7.1"
  }
 },
 "nbformat": 4,
 "nbformat_minor": 2
}
